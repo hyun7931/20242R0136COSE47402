{
  "nbformat": 4,
  "nbformat_minor": 0,
  "metadata": {
    "colab": {
      "provenance": [],
      "toc_visible": true,
      "gpuType": "V28"
    },
    "kernelspec": {
      "name": "python3",
      "display_name": "Python 3"
    },
    "language_info": {
      "name": "python"
    },
    "accelerator": "TPU"
  },
  "cells": [
    {
      "cell_type": "markdown",
      "source": [
        "# [COSE474] HW2 : CNN\n",
        "\n",
        "**2022320009 이수현**\n",
        "\n",
        "discussion and takeaway message는 각 챕터에 있습니다"
      ],
      "metadata": {
        "id": "Pbvm2qQuqxN7"
      }
    },
    {
      "cell_type": "markdown",
      "source": [
        "## 7.1. From Fully Connected Layers to Convolutions\n",
        "\n",
        "* 딥러닝에서의 예제 : 모델의 학습, 평가를 위해 사용되는 개별 instance 또는 관측 데이터. 보통 tensor나 숫자배열로 표현되어 딥러닝 모델에 공급\n"
      ],
      "metadata": {
        "id": "pksur7rQrGMa"
      }
    },
    {
      "cell_type": "markdown",
      "source": [
        "### 7.1.1. Invariance\n",
        "\n",
        "* translation invariance (translation equivariance) : 초기 레이어에서 네트워크는 이미지의 어디에 표시되는지와 상관없이 동일한 patch에 유사하게 응답\n",
        "    - 같은 물체가 이미지의 다양한 위치에 있을 때 CNN이 인식할 수 있어야함\n",
        "    - CNN의 합성곱 계층과 풀링 계층으로 구현\n",
        "    - 합성곱 계층은 필터를 이용해 지역적인 패턴\n",
        "    - 이런 필터는 이미지 전체에 공유되어 변환 불변성을 제공\n",
        "* locality principle : 네트워크의 가장 초기 계층은 먼 지역에 있는 이미지의 내용을 고려하지 않고 local에 초점을 맞춰야 한다\n",
        "    - 이미지의 지역적 특징을 효과적으로 학습\n",
        "* 더 깊은 레이어는 higher level vison in nature과 비슷한 방식으로 이미지의 long-range feature를 capture할 수 있어야한다.\n",
        "    - deep layer에서 복잡한 패턴과 관계를 탐지. 전반적인 이미지 이해도 높이기\n",
        "    - 여러층의 비선형 변환을 통해 이루어짐"
      ],
      "metadata": {
        "id": "dyxA_MMxxxtg"
      }
    },
    {
      "cell_type": "markdown",
      "source": [
        "### 7.1.2. Constraining the MLP\n",
        "\n",
        "2차원 이미지 X가 input인 MLP\n",
        "\n",
        "immediate hidden representations H는 matrices로서 두 X와 H가 같은 모양 -> 유사하게 표현\n",
        "\n",
        "[X]i,j 및 [H]i,j는 각각 입력 이미지 및 hidden representation의 location (i,j)에 있는 픽셀을 나타냄\n",
        "\n",
        "결과적으로 각각의 hidden units이 각 입력 픽셀로부터 입력을 받도록 하려면 가중치 행렬을 사용하는 것에서 매개변수를 4차 가중치 텐서 W(fourth-order weight tensors W)로 나타내는 것으로 전환해야 한다.\n",
        "\n",
        "#### 7.1.2.1. Translation Invariance\n",
        "translation invariance를 적용, 입력 X의 이동이 hidden layer H의 이동으로 이루어져야 함 -> 이것은 V와 U가 (i,j)에 의존하지 않는 경우에만 가능하다. => [V]i,j,a,b=[V]a,b이고 U는 상수.\n",
        "\n",
        "=> [H]i,j = u+시그마(a)시그마(b)[V]a,b[X]i+a,j+b\n",
        "\n",
        ": convolution!\n",
        "\n",
        "V]a,b는 더 이상 이미지 내의 위치에 의존하지 않기 때문에 [V]i,j,a,b보다 훨씬 적은 계수가 필요. 필요한 매개변수의 수 10^12에서 4⋅10^6으로 줄었다.\n",
        "\n",
        "\n",
        "#### 7.1.2.2. Locality\n",
        "[H]i,j에서 무슨 일이 일어나고 있는지 평가하는데 정보를 수집하기 위해 위치 (i,j)에서 먼 범위는 볼 필요가 없다.범위 |a|>Δ 또는 |b|>Δ를 벗어나면 [V]a,b=0으로 설정해야 함.\n",
        "\n",
        "매개변수의 수가 4⋅10^6에서 4Δ^2로 줄어듭니다. (여기서 Δ는 일반적으로 10보다 작음. ...이 부분은 4⋅10^2로 봐도 무방할듯)\n",
        "\n",
        "=> ocnvolution layer는 locality를 기반으로 동작하는 신경망 구조. CNN은 이런 layer를 포함한 특수 신경망으로 이미지내에서 특징을 인식하는데 최적화.V는 convolution kernel, 필터 또는 단순히 학습 가능한 매개변수인 레이어의 weights라고 함.\n",
        "\n",
        "\n"
      ],
      "metadata": {
        "id": "zhkjQI3mzpen"
      }
    },
    {
      "cell_type": "markdown",
      "source": [
        "### 7.1.3. Convolutions\n",
        "하나의 함수가 flipped되고 X만큼 이동할때 f와 g사이의 중첩을 측정.\n",
        "\n",
        "2차원 텐서의 경우 f에 대한 인덱스 (a,b)와 g에 대한 (i-a,j-b)의 해당 합계. (i+a,j+b)를 사용하는 대신 차이점을 대신 사용한다는 점."
      ],
      "metadata": {
        "id": "o5UP-zUh1HM8"
      }
    },
    {
      "cell_type": "markdown",
      "source": [
        "### 7.1.4. Channels\n",
        "컨볼루션 레이어는 주어진 크기의 창을 선택하고 필터 V에 따라 강도를 가중. \"waldoness\"가 가장 높은 곳에서 숨겨진 레이어 표현에서 최고점을 찾도록 모델 학습을 목표로 할 수 있음.\n",
        "\n",
        "문제점1 : 이미지는 2차원이 아니라 3차원 텐서임. 3개의 축 중 처음 두개는 공간관계와 관련이 있지만 세번째는 각 픽셀 위치에 다차원 표현을 할당하는 것으로 간주할 수 있다. 따라서 X를 [X]i,j,k로 인덱싱. 컨벌루션 필터는 그에 따라 adapt. 기존의 [V]a,b가 이제는 [V]a,b,c.\n",
        "\n",
        "문제점2 : 숨겨진 표현을 3차 텐서 H로 공식화하는 것이 좋음. 각 공강 위치에 해당하는 단일 hidden 표현이 아니라 각 공간 위치에 해당하는 hidden 표현이 필요함. hidden 표현은 쌓인 여러개의 2차원 grid의 느낌. feature map이라고도 함.\n",
        "입력 X와 hidden 표현 H 둘 다에서 다중 채널을 지원하기 때문에 V에 네번째 좌표 추가. [V]a,b,c가 이제는 [V]a,b,c,d.\n",
        "\n",
        "d는 hidden 표현의 출력 채널을 indexing. subsequent convolution layer는 3차 텐서 H를 입력으로 사용함.\n"
      ],
      "metadata": {
        "id": "d2fjPP8f2cqU"
      }
    },
    {
      "cell_type": "markdown",
      "source": [
        "### 7.1.5. Summary and Discussion\n",
        "\n",
        "변환 불변성 : 이미지의 모든 패치가 동일한 방식으로 처리됨\n",
        "지역성 : 해당 hidden representation을 계산하는데 작은 이웃 픽셀들만 사용됨.\n",
        "\n",
        "채널을 추가함으로써 지역성 및 변환 불변성에 의해 convoultion kernel에 부과된 제한(주변 정보만을 활용, 복잡성 줄임)으로 인해 손실된 복잡성을 회복(채널을 추가함으로써 더 많은 정보와 복잡성을 활용)\n"
      ],
      "metadata": {
        "id": "Jk0gAfkR2fLA"
      }
    },
    {
      "cell_type": "markdown",
      "source": [
        "### 7.1.6. exercise\n",
        "\n",
        "3. Why might translation invariance not be a good idea after all? Give an example.\n",
        "\n",
        "> translation invariance는 입력 데이터의 위치가 바뀌어도 모델의 출력이 동일함을 말하는 것.\n",
        ">\n",
        "> 예를 들어, 복잡한 그림을 인식할때, 그림 안의 물체의 경계를 제대로 인식하지 못하여 그림을 제대로 인식 못 할 수 있다.\n",
        "\n",
        "4. Do you think that convolutional layers might also be applicable for text data? Which problems might you encounter with language?\n",
        "\n",
        "> 텍스트를 n-gram으로 변환하여 해당 패턴을 학습시킬 수 있다. 다만, 자연어에서 단어의 순서는 의미에 큰 영향을 미치는데 CNN은 공간 위치 정보를 무시하기 때문에 제대로 된 의미를 학습하지 못할 수 있다. 또한 텍스트가 길어지면 문맥을 이해하지 못할 수 있고, 단어에 여러 의미가 있다면 그것을 캐치하지 못할 수 있다."
      ],
      "metadata": {
        "id": "Ow-ZEAwmLV_h"
      }
    },
    {
      "cell_type": "markdown",
      "source": [
        "### discussions or takeaway messages\n",
        "\n",
        "* 고차원 데이터 문제 : 수십억개의 매개변수가 필요해서 학습이 불가능한 작업도 CNN의 이미지 구조를 활용하여 해결\n",
        "* 변환 불변성 : 위치에 관계없이 동일한 response를 해야함.\n",
        "* 지역성 : 이미지의 주변 pixel만 활용\n",
        "* MLP의 구조를 제한하여 convolution을 사용함으로써 매개변수의 수를 줄일 수 있다.\n",
        "* 이미지의 RGB채널 외에도 다른 채널을 추가하여 복잡성을 회복할 수 있다."
      ],
      "metadata": {
        "id": "vlF1vS-I2hLw"
      }
    },
    {
      "cell_type": "markdown",
      "source": [
        "## 7.2. Convolutions for Images"
      ],
      "metadata": {
        "id": "cuI8TColrK2F"
      }
    },
    {
      "cell_type": "code",
      "source": [
        "!pip install d2l"
      ],
      "metadata": {
        "colab": {
          "base_uri": "https://localhost:8080/"
        },
        "id": "ph_O5WZe4rlx",
        "outputId": "fbcbdc90-105d-44ef-ebe3-9d7ff309e6f4"
      },
      "execution_count": 2,
      "outputs": [
        {
          "output_type": "stream",
          "name": "stdout",
          "text": [
            "Requirement already satisfied: d2l in /usr/local/lib/python3.10/dist-packages (1.0.3)\n",
            "Requirement already satisfied: jupyter==1.0.0 in /usr/local/lib/python3.10/dist-packages (from d2l) (1.0.0)\n",
            "Requirement already satisfied: numpy==1.23.5 in /usr/local/lib/python3.10/dist-packages (from d2l) (1.23.5)\n",
            "Requirement already satisfied: matplotlib==3.7.2 in /usr/local/lib/python3.10/dist-packages (from d2l) (3.7.2)\n",
            "Requirement already satisfied: matplotlib-inline==0.1.6 in /usr/local/lib/python3.10/dist-packages (from d2l) (0.1.6)\n",
            "Requirement already satisfied: requests==2.31.0 in /usr/local/lib/python3.10/dist-packages (from d2l) (2.31.0)\n",
            "Requirement already satisfied: pandas==2.0.3 in /usr/local/lib/python3.10/dist-packages (from d2l) (2.0.3)\n",
            "Requirement already satisfied: scipy==1.10.1 in /usr/local/lib/python3.10/dist-packages (from d2l) (1.10.1)\n",
            "Requirement already satisfied: notebook in /usr/local/lib/python3.10/dist-packages (from jupyter==1.0.0->d2l) (6.5.5)\n",
            "Requirement already satisfied: qtconsole in /usr/local/lib/python3.10/dist-packages (from jupyter==1.0.0->d2l) (5.6.0)\n",
            "Requirement already satisfied: jupyter-console in /usr/local/lib/python3.10/dist-packages (from jupyter==1.0.0->d2l) (6.1.0)\n",
            "Requirement already satisfied: nbconvert in /usr/local/lib/python3.10/dist-packages (from jupyter==1.0.0->d2l) (7.16.4)\n",
            "Requirement already satisfied: ipykernel in /usr/local/lib/python3.10/dist-packages (from jupyter==1.0.0->d2l) (5.5.6)\n",
            "Requirement already satisfied: ipywidgets in /usr/local/lib/python3.10/dist-packages (from jupyter==1.0.0->d2l) (7.7.1)\n",
            "Requirement already satisfied: contourpy>=1.0.1 in /usr/local/lib/python3.10/dist-packages (from matplotlib==3.7.2->d2l) (1.3.0)\n",
            "Requirement already satisfied: cycler>=0.10 in /usr/local/lib/python3.10/dist-packages (from matplotlib==3.7.2->d2l) (0.12.1)\n",
            "Requirement already satisfied: fonttools>=4.22.0 in /usr/local/lib/python3.10/dist-packages (from matplotlib==3.7.2->d2l) (4.54.1)\n",
            "Requirement already satisfied: kiwisolver>=1.0.1 in /usr/local/lib/python3.10/dist-packages (from matplotlib==3.7.2->d2l) (1.4.7)\n",
            "Requirement already satisfied: packaging>=20.0 in /usr/local/lib/python3.10/dist-packages (from matplotlib==3.7.2->d2l) (24.1)\n",
            "Requirement already satisfied: pillow>=6.2.0 in /usr/local/lib/python3.10/dist-packages (from matplotlib==3.7.2->d2l) (10.4.0)\n",
            "Requirement already satisfied: pyparsing<3.1,>=2.3.1 in /usr/local/lib/python3.10/dist-packages (from matplotlib==3.7.2->d2l) (3.0.9)\n",
            "Requirement already satisfied: python-dateutil>=2.7 in /usr/local/lib/python3.10/dist-packages (from matplotlib==3.7.2->d2l) (2.9.0.post0)\n",
            "Requirement already satisfied: traitlets in /usr/local/lib/python3.10/dist-packages (from matplotlib-inline==0.1.6->d2l) (5.7.1)\n",
            "Requirement already satisfied: pytz>=2020.1 in /usr/local/lib/python3.10/dist-packages (from pandas==2.0.3->d2l) (2024.2)\n",
            "Requirement already satisfied: tzdata>=2022.1 in /usr/local/lib/python3.10/dist-packages (from pandas==2.0.3->d2l) (2024.2)\n",
            "Requirement already satisfied: charset-normalizer<4,>=2 in /usr/local/lib/python3.10/dist-packages (from requests==2.31.0->d2l) (3.3.2)\n",
            "Requirement already satisfied: idna<4,>=2.5 in /usr/local/lib/python3.10/dist-packages (from requests==2.31.0->d2l) (3.10)\n",
            "Requirement already satisfied: urllib3<3,>=1.21.1 in /usr/local/lib/python3.10/dist-packages (from requests==2.31.0->d2l) (2.2.3)\n",
            "Requirement already satisfied: certifi>=2017.4.17 in /usr/local/lib/python3.10/dist-packages (from requests==2.31.0->d2l) (2024.8.30)\n",
            "Requirement already satisfied: six>=1.5 in /usr/local/lib/python3.10/dist-packages (from python-dateutil>=2.7->matplotlib==3.7.2->d2l) (1.16.0)\n",
            "Requirement already satisfied: ipython-genutils in /usr/local/lib/python3.10/dist-packages (from ipykernel->jupyter==1.0.0->d2l) (0.2.0)\n",
            "Requirement already satisfied: ipython>=5.0.0 in /usr/local/lib/python3.10/dist-packages (from ipykernel->jupyter==1.0.0->d2l) (7.34.0)\n",
            "Requirement already satisfied: jupyter-client in /usr/local/lib/python3.10/dist-packages (from ipykernel->jupyter==1.0.0->d2l) (6.1.12)\n",
            "Requirement already satisfied: tornado>=4.2 in /usr/local/lib/python3.10/dist-packages (from ipykernel->jupyter==1.0.0->d2l) (6.3.3)\n",
            "Requirement already satisfied: widgetsnbextension~=3.6.0 in /usr/local/lib/python3.10/dist-packages (from ipywidgets->jupyter==1.0.0->d2l) (3.6.9)\n",
            "Requirement already satisfied: jupyterlab-widgets>=1.0.0 in /usr/local/lib/python3.10/dist-packages (from ipywidgets->jupyter==1.0.0->d2l) (3.0.13)\n",
            "Requirement already satisfied: prompt-toolkit!=3.0.0,!=3.0.1,<3.1.0,>=2.0.0 in /usr/local/lib/python3.10/dist-packages (from jupyter-console->jupyter==1.0.0->d2l) (3.0.48)\n",
            "Requirement already satisfied: pygments in /usr/local/lib/python3.10/dist-packages (from jupyter-console->jupyter==1.0.0->d2l) (2.18.0)\n",
            "Requirement already satisfied: beautifulsoup4 in /usr/local/lib/python3.10/dist-packages (from nbconvert->jupyter==1.0.0->d2l) (4.12.3)\n",
            "Requirement already satisfied: bleach!=5.0.0 in /usr/local/lib/python3.10/dist-packages (from nbconvert->jupyter==1.0.0->d2l) (6.1.0)\n",
            "Requirement already satisfied: defusedxml in /usr/local/lib/python3.10/dist-packages (from nbconvert->jupyter==1.0.0->d2l) (0.7.1)\n",
            "Requirement already satisfied: jinja2>=3.0 in /usr/local/lib/python3.10/dist-packages (from nbconvert->jupyter==1.0.0->d2l) (3.1.4)\n",
            "Requirement already satisfied: jupyter-core>=4.7 in /usr/local/lib/python3.10/dist-packages (from nbconvert->jupyter==1.0.0->d2l) (5.7.2)\n",
            "Requirement already satisfied: jupyterlab-pygments in /usr/local/lib/python3.10/dist-packages (from nbconvert->jupyter==1.0.0->d2l) (0.3.0)\n",
            "Requirement already satisfied: markupsafe>=2.0 in /usr/local/lib/python3.10/dist-packages (from nbconvert->jupyter==1.0.0->d2l) (2.1.5)\n",
            "Requirement already satisfied: mistune<4,>=2.0.3 in /usr/local/lib/python3.10/dist-packages (from nbconvert->jupyter==1.0.0->d2l) (3.0.2)\n",
            "Requirement already satisfied: nbclient>=0.5.0 in /usr/local/lib/python3.10/dist-packages (from nbconvert->jupyter==1.0.0->d2l) (0.10.0)\n",
            "Requirement already satisfied: nbformat>=5.7 in /usr/local/lib/python3.10/dist-packages (from nbconvert->jupyter==1.0.0->d2l) (5.10.4)\n",
            "Requirement already satisfied: pandocfilters>=1.4.1 in /usr/local/lib/python3.10/dist-packages (from nbconvert->jupyter==1.0.0->d2l) (1.5.1)\n",
            "Requirement already satisfied: tinycss2 in /usr/local/lib/python3.10/dist-packages (from nbconvert->jupyter==1.0.0->d2l) (1.3.0)\n",
            "Requirement already satisfied: pyzmq<25,>=17 in /usr/local/lib/python3.10/dist-packages (from notebook->jupyter==1.0.0->d2l) (24.0.1)\n",
            "Requirement already satisfied: argon2-cffi in /usr/local/lib/python3.10/dist-packages (from notebook->jupyter==1.0.0->d2l) (23.1.0)\n",
            "Requirement already satisfied: nest-asyncio>=1.5 in /usr/local/lib/python3.10/dist-packages (from notebook->jupyter==1.0.0->d2l) (1.6.0)\n",
            "Requirement already satisfied: Send2Trash>=1.8.0 in /usr/local/lib/python3.10/dist-packages (from notebook->jupyter==1.0.0->d2l) (1.8.3)\n",
            "Requirement already satisfied: terminado>=0.8.3 in /usr/local/lib/python3.10/dist-packages (from notebook->jupyter==1.0.0->d2l) (0.18.1)\n",
            "Requirement already satisfied: prometheus-client in /usr/local/lib/python3.10/dist-packages (from notebook->jupyter==1.0.0->d2l) (0.21.0)\n",
            "Requirement already satisfied: nbclassic>=0.4.7 in /usr/local/lib/python3.10/dist-packages (from notebook->jupyter==1.0.0->d2l) (1.1.0)\n",
            "Requirement already satisfied: qtpy>=2.4.0 in /usr/local/lib/python3.10/dist-packages (from qtconsole->jupyter==1.0.0->d2l) (2.4.1)\n",
            "Requirement already satisfied: webencodings in /usr/local/lib/python3.10/dist-packages (from bleach!=5.0.0->nbconvert->jupyter==1.0.0->d2l) (0.5.1)\n",
            "Requirement already satisfied: setuptools>=18.5 in /usr/local/lib/python3.10/dist-packages (from ipython>=5.0.0->ipykernel->jupyter==1.0.0->d2l) (71.0.4)\n",
            "Requirement already satisfied: jedi>=0.16 in /usr/local/lib/python3.10/dist-packages (from ipython>=5.0.0->ipykernel->jupyter==1.0.0->d2l) (0.19.1)\n",
            "Requirement already satisfied: decorator in /usr/local/lib/python3.10/dist-packages (from ipython>=5.0.0->ipykernel->jupyter==1.0.0->d2l) (5.1.1)\n",
            "Requirement already satisfied: pickleshare in /usr/local/lib/python3.10/dist-packages (from ipython>=5.0.0->ipykernel->jupyter==1.0.0->d2l) (0.7.5)\n",
            "Requirement already satisfied: backcall in /usr/local/lib/python3.10/dist-packages (from ipython>=5.0.0->ipykernel->jupyter==1.0.0->d2l) (0.2.0)\n",
            "Requirement already satisfied: pexpect>4.3 in /usr/local/lib/python3.10/dist-packages (from ipython>=5.0.0->ipykernel->jupyter==1.0.0->d2l) (4.9.0)\n",
            "Requirement already satisfied: platformdirs>=2.5 in /usr/local/lib/python3.10/dist-packages (from jupyter-core>=4.7->nbconvert->jupyter==1.0.0->d2l) (4.3.6)\n",
            "Requirement already satisfied: notebook-shim>=0.2.3 in /usr/local/lib/python3.10/dist-packages (from nbclassic>=0.4.7->notebook->jupyter==1.0.0->d2l) (0.2.4)\n",
            "Requirement already satisfied: fastjsonschema>=2.15 in /usr/local/lib/python3.10/dist-packages (from nbformat>=5.7->nbconvert->jupyter==1.0.0->d2l) (2.20.0)\n",
            "Requirement already satisfied: jsonschema>=2.6 in /usr/local/lib/python3.10/dist-packages (from nbformat>=5.7->nbconvert->jupyter==1.0.0->d2l) (4.23.0)\n",
            "Requirement already satisfied: wcwidth in /usr/local/lib/python3.10/dist-packages (from prompt-toolkit!=3.0.0,!=3.0.1,<3.1.0,>=2.0.0->jupyter-console->jupyter==1.0.0->d2l) (0.2.13)\n",
            "Requirement already satisfied: ptyprocess in /usr/local/lib/python3.10/dist-packages (from terminado>=0.8.3->notebook->jupyter==1.0.0->d2l) (0.7.0)\n",
            "Requirement already satisfied: argon2-cffi-bindings in /usr/local/lib/python3.10/dist-packages (from argon2-cffi->notebook->jupyter==1.0.0->d2l) (21.2.0)\n",
            "Requirement already satisfied: soupsieve>1.2 in /usr/local/lib/python3.10/dist-packages (from beautifulsoup4->nbconvert->jupyter==1.0.0->d2l) (2.6)\n",
            "Requirement already satisfied: parso<0.9.0,>=0.8.3 in /usr/local/lib/python3.10/dist-packages (from jedi>=0.16->ipython>=5.0.0->ipykernel->jupyter==1.0.0->d2l) (0.8.4)\n",
            "Requirement already satisfied: attrs>=22.2.0 in /usr/local/lib/python3.10/dist-packages (from jsonschema>=2.6->nbformat>=5.7->nbconvert->jupyter==1.0.0->d2l) (24.2.0)\n",
            "Requirement already satisfied: jsonschema-specifications>=2023.03.6 in /usr/local/lib/python3.10/dist-packages (from jsonschema>=2.6->nbformat>=5.7->nbconvert->jupyter==1.0.0->d2l) (2023.12.1)\n",
            "Requirement already satisfied: referencing>=0.28.4 in /usr/local/lib/python3.10/dist-packages (from jsonschema>=2.6->nbformat>=5.7->nbconvert->jupyter==1.0.0->d2l) (0.35.1)\n",
            "Requirement already satisfied: rpds-py>=0.7.1 in /usr/local/lib/python3.10/dist-packages (from jsonschema>=2.6->nbformat>=5.7->nbconvert->jupyter==1.0.0->d2l) (0.20.0)\n",
            "Requirement already satisfied: jupyter-server<3,>=1.8 in /usr/local/lib/python3.10/dist-packages (from notebook-shim>=0.2.3->nbclassic>=0.4.7->notebook->jupyter==1.0.0->d2l) (1.24.0)\n",
            "Requirement already satisfied: cffi>=1.0.1 in /usr/local/lib/python3.10/dist-packages (from argon2-cffi-bindings->argon2-cffi->notebook->jupyter==1.0.0->d2l) (1.17.1)\n",
            "Requirement already satisfied: pycparser in /usr/local/lib/python3.10/dist-packages (from cffi>=1.0.1->argon2-cffi-bindings->argon2-cffi->notebook->jupyter==1.0.0->d2l) (2.22)\n",
            "Requirement already satisfied: anyio<4,>=3.1.0 in /usr/local/lib/python3.10/dist-packages (from jupyter-server<3,>=1.8->notebook-shim>=0.2.3->nbclassic>=0.4.7->notebook->jupyter==1.0.0->d2l) (3.7.1)\n",
            "Requirement already satisfied: websocket-client in /usr/local/lib/python3.10/dist-packages (from jupyter-server<3,>=1.8->notebook-shim>=0.2.3->nbclassic>=0.4.7->notebook->jupyter==1.0.0->d2l) (1.8.0)\n",
            "Requirement already satisfied: sniffio>=1.1 in /usr/local/lib/python3.10/dist-packages (from anyio<4,>=3.1.0->jupyter-server<3,>=1.8->notebook-shim>=0.2.3->nbclassic>=0.4.7->notebook->jupyter==1.0.0->d2l) (1.3.1)\n",
            "Requirement already satisfied: exceptiongroup in /usr/local/lib/python3.10/dist-packages (from anyio<4,>=3.1.0->jupyter-server<3,>=1.8->notebook-shim>=0.2.3->nbclassic>=0.4.7->notebook->jupyter==1.0.0->d2l) (1.2.2)\n"
          ]
        }
      ]
    },
    {
      "cell_type": "code",
      "source": [
        "import torch\n",
        "from torch import nn\n",
        "from d2l import torch as d2l"
      ],
      "metadata": {
        "id": "0Q62K_7HrMrs"
      },
      "execution_count": 3,
      "outputs": []
    },
    {
      "cell_type": "markdown",
      "source": [
        "### 7.2.1. The Cross-Correlation Operation\n",
        "convolution layer는 실제로는 convolution보다는 cross-correlation이 더 정확하다. 입력 텐서와 커널 텐서를 결합하여 출력텐서를 생성\n",
        "\n",
        "[2차원 데이터 처리]\n",
        "- 입력은 3X3의 2차원 텐서\n",
        "- 커널은 2X2의 커널을 사용하여 입력 텐서에 sliding window방식\n",
        "\n",
        "[과정]\n",
        "1. 커널은 입력 텐서의 왼쪽 위에서 시작, 오른쪽과 아래로 sliding\n",
        "2. 커널이 특정 위치에 도달하면, 해당 위치의 입력 서브텐서와 커널 텐서를 요소별로 곱셈\n",
        "3. 곱한 결과를 모두 더하여 스칼라 값을 생성\n",
        "4. 그 값을 출력 텐서의 해당 위치에 할당\n",
        "\n",
        "출력텐서크기는 입력 텐서의 크기에서 커널의 크기를 뺀 것보다 작음. 커널이 입력 텐서의 전체 영역에 맞아야만 교차 상관을 제대로 계산할 수 있기 때문.\n",
        "\n",
        "[padding]\n",
        "출력크기를 유지하려면 입력 텐서의 경계에 0으로 padding을 추가해야함. 커널이 입력의 가장자리를 넘어 slide하도록 공간이 필요하기 때문"
      ],
      "metadata": {
        "id": "gwIXkYtb2nnZ"
      }
    },
    {
      "cell_type": "code",
      "source": [
        "def corr2d(X, K):\n",
        "    \"\"\"Compute 2D cross-correlation.\"\"\"\n",
        "    h, w = K.shape\n",
        "    Y = torch.zeros((X.shape[0] - h + 1, X.shape[1] - w + 1))\n",
        "    for i in range(Y.shape[0]):\n",
        "        for j in range(Y.shape[1]):\n",
        "            Y[i, j] = (X[i:i + h, j:j + w] * K).sum()\n",
        "    return Y"
      ],
      "metadata": {
        "id": "yf7g5fwN2quA"
      },
      "execution_count": 4,
      "outputs": []
    },
    {
      "cell_type": "code",
      "source": [
        "X = torch.tensor([[0.0, 1.0, 2.0], [3.0, 4.0, 5.0], [6.0, 7.0, 8.0]])\n",
        "K = torch.tensor([[0.0, 1.0], [2.0, 3.0]])\n",
        "corr2d(X, K)"
      ],
      "metadata": {
        "id": "PamHnY_62r8U",
        "colab": {
          "base_uri": "https://localhost:8080/"
        },
        "outputId": "88259dfc-9dda-41a0-f677-e56811455c04"
      },
      "execution_count": 5,
      "outputs": [
        {
          "output_type": "execute_result",
          "data": {
            "text/plain": [
              "tensor([[19., 25.],\n",
              "        [37., 43.]])"
            ]
          },
          "metadata": {},
          "execution_count": 5
        }
      ]
    },
    {
      "cell_type": "markdown",
      "source": [
        "### 7.2.2. Convolutional Layers\n",
        ": 입력과 커널을 교차 상관하여 출력값을 생성하고, 여기에 스칼라 바이어스를 추가하는 레이어. convolution layer의 두 가지 주요 매개변수는 \"kernel\"과 \"bias\"입니다.\n",
        "\n",
        "[매개변수 초기화]\n",
        "\n",
        "컨볼루션 레이어의 커널은 무작위로 초기화되며, 이는 완전 연결 레이어와 동일한 방식. 이 과정은 모델 학습의 시작점으로, 각 커널이 다양한 패턴을 학습하도록 해줌.\n",
        "=> __init__\n",
        "\n",
        "[커널크기]\n",
        "\n",
        "h(커널 높이)Xw(커널 너비)"
      ],
      "metadata": {
        "id": "VITV9YHE4g-e"
      }
    },
    {
      "cell_type": "code",
      "source": [
        "class Conv2D(nn.Module):\n",
        "    def __init__(self, kernel_size):\n",
        "        super().__init__()\n",
        "        self.weight = nn.Parameter(torch.rand(kernel_size))\n",
        "        # ㄴ : 주어진 크기로 무작위로 초기화 된 커널\n",
        "        self.bias = nn.Parameter(torch.zeros(1))\n",
        "        # ㄴ : 0으로 토기화 된 bias\n",
        "\n",
        "    def forward(self, x):\n",
        "        return corr2d(x, self.weight) + self.bias\n",
        "        # 입력 데이터 (x)에 대해 corr2d 함수를 호출하여\n",
        "        # 커널과의 교차 상관을 수행하고,\n",
        "        # 바이어스를 추가하여 최종 출력을 생성합니다."
      ],
      "metadata": {
        "id": "UHA3keuR4h0W"
      },
      "execution_count": 6,
      "outputs": []
    },
    {
      "cell_type": "markdown",
      "source": [
        "### 7.2.3. Object Edge Detection in Images\n",
        "convolution layer 적용 예시 : edge detection : 픽셀 값의 변화를 찾아내기"
      ],
      "metadata": {
        "id": "czEzqFN-4i_N"
      }
    },
    {
      "cell_type": "code",
      "source": [
        "X = torch.ones((6, 8)) #6X8크기의 텐서\n",
        "X[:, 2:6] = 0 # 중앙 4개 열은 검정(0), 나머지는 흰색(1)\n",
        "X"
      ],
      "metadata": {
        "id": "w7zcfLhW4lWK",
        "colab": {
          "base_uri": "https://localhost:8080/"
        },
        "outputId": "bf165594-83d2-481b-c775-1a2f04507bad"
      },
      "execution_count": 7,
      "outputs": [
        {
          "output_type": "execute_result",
          "data": {
            "text/plain": [
              "tensor([[1., 1., 0., 0., 0., 0., 1., 1.],\n",
              "        [1., 1., 0., 0., 0., 0., 1., 1.],\n",
              "        [1., 1., 0., 0., 0., 0., 1., 1.],\n",
              "        [1., 1., 0., 0., 0., 0., 1., 1.],\n",
              "        [1., 1., 0., 0., 0., 0., 1., 1.],\n",
              "        [1., 1., 0., 0., 0., 0., 1., 1.]])"
            ]
          },
          "metadata": {},
          "execution_count": 7
        }
      ]
    },
    {
      "cell_type": "code",
      "source": [
        "K = torch.tensor([[1.0, -1.0]]) #커널 구성 : 높이1, 너비2"
      ],
      "metadata": {
        "id": "ocVwQ0Zy47B2"
      },
      "execution_count": 8,
      "outputs": []
    },
    {
      "cell_type": "markdown",
      "source": [
        "커널은 인접한 픽셀 값이 동일하면 출력이 0이 되고, 다르면 비제로 값을 출력합니다. 수평 방향의 1차 미분을 이산적으로 근사하는 방식"
      ],
      "metadata": {
        "id": "Z-9zuKDeMh8K"
      }
    },
    {
      "cell_type": "code",
      "source": [
        "Y = corr2d(X, K)\n",
        "Y"
      ],
      "metadata": {
        "id": "QotPTO7P48KN",
        "colab": {
          "base_uri": "https://localhost:8080/"
        },
        "outputId": "cef221ae-3869-4272-cda8-ac8abed4ef9e"
      },
      "execution_count": 9,
      "outputs": [
        {
          "output_type": "execute_result",
          "data": {
            "text/plain": [
              "tensor([[ 0.,  1.,  0.,  0.,  0., -1.,  0.],\n",
              "        [ 0.,  1.,  0.,  0.,  0., -1.,  0.],\n",
              "        [ 0.,  1.,  0.,  0.,  0., -1.,  0.],\n",
              "        [ 0.,  1.,  0.,  0.,  0., -1.,  0.],\n",
              "        [ 0.,  1.,  0.,  0.,  0., -1.,  0.],\n",
              "        [ 0.,  1.,  0.,  0.,  0., -1.,  0.]])"
            ]
          },
          "metadata": {},
          "execution_count": 9
        }
      ]
    },
    {
      "cell_type": "markdown",
      "source": [
        "결과=> 흰색에서 검정색으로의 에지에서 1을, 검정색에서 흰색으로의 에지에서 -1을 감지"
      ],
      "metadata": {
        "id": "gOATgW_XMpzN"
      }
    },
    {
      "cell_type": "code",
      "source": [
        "corr2d(X.t(), K) #t로 전치"
      ],
      "metadata": {
        "id": "_61gRn-b49Qq",
        "colab": {
          "base_uri": "https://localhost:8080/"
        },
        "outputId": "855d853c-b458-4371-91d4-1cab8f400f15"
      },
      "execution_count": 10,
      "outputs": [
        {
          "output_type": "execute_result",
          "data": {
            "text/plain": [
              "tensor([[0., 0., 0., 0., 0.],\n",
              "        [0., 0., 0., 0., 0.],\n",
              "        [0., 0., 0., 0., 0.],\n",
              "        [0., 0., 0., 0., 0.],\n",
              "        [0., 0., 0., 0., 0.],\n",
              "        [0., 0., 0., 0., 0.],\n",
              "        [0., 0., 0., 0., 0.],\n",
              "        [0., 0., 0., 0., 0.]])"
            ]
          },
          "metadata": {},
          "execution_count": 10
        }
      ]
    },
    {
      "cell_type": "markdown",
      "source": [
        "커널K는 수평 에지를 감지하는 데 최적화 => 수직 에지에는 반응하지 않음을 확인"
      ],
      "metadata": {
        "id": "wpSm_9wRMyml"
      }
    },
    {
      "cell_type": "markdown",
      "source": [
        "### 7.2.4. Learning a Kernel\n",
        "위의 예시는 수동설계. 더 큰 kernel이나 여러 layer의 convolution을 고려할 때 각 필터가 수행해야 할 작업을 정확히 정하는 것을 어렵다.\n",
        "=> 입력-출력 쌍만 보고 커널을 학습 할 수 있는 방법은 없을까?"
      ],
      "metadata": {
        "id": "Xn2F-snF4-j4"
      }
    },
    {
      "cell_type": "code",
      "source": [
        "# Construct a two-dimensional convolutional layer with 1 output channel and a\n",
        "# kernel of shape (1, 2). For the sake of simplicity, we ignore the bias here\n",
        "conv2d = nn.LazyConv2d(1, kernel_size=(1, 2), bias=False)\n",
        "# 1개의 출력 채널과 커널 크기 (1, 2)를 가진 2차원 컨볼루션 레이어를 생성\n",
        "\n",
        "# The two-dimensional convolutional layer uses four-dimensional input and\n",
        "# output in the format of (example, channel, height, width), where the batch\n",
        "# size (number of examples in the batch) and the number of channels are both 1\n",
        "X = X.reshape((1, 1, 6, 8))\n",
        "Y = Y.reshape((1, 1, 6, 7))\n",
        "lr = 3e-2  # Learning rate\n",
        "\n",
        "for i in range(10):\n",
        "    Y_hat = conv2d(X)\n",
        "    l = (Y_hat - Y) ** 2\n",
        "    conv2d.zero_grad()\n",
        "    l.sum().backward()\n",
        "    # Update the kernel\n",
        "    conv2d.weight.data[:] -= lr * conv2d.weight.grad\n",
        "    if (i + 1) % 2 == 0:\n",
        "        print(f'epoch {i + 1}, loss {l.sum():.3f}')"
      ],
      "metadata": {
        "id": "g21f2O3_4_Lp",
        "colab": {
          "base_uri": "https://localhost:8080/"
        },
        "outputId": "3f0a43e7-4d12-4a4c-95f0-24495b1cb939"
      },
      "execution_count": 11,
      "outputs": [
        {
          "output_type": "stream",
          "name": "stdout",
          "text": [
            "epoch 2, loss 7.290\n",
            "epoch 4, loss 1.232\n",
            "epoch 6, loss 0.210\n",
            "epoch 8, loss 0.037\n",
            "epoch 10, loss 0.007\n"
          ]
        }
      ]
    },
    {
      "cell_type": "markdown",
      "source": [
        "loop :\n",
        "- 예측: 현재 커널을 사용하여 입력 (X)에 대해 출력을 생성.\n",
        "- 손실 계산: 예측된 출력 (Y_{\\text{hat}})과 실제 출력 (Y) 간의 차이를 제곱하여 손실을 계산.\n",
        "\n",
        "- 기울기 계산: 손실에 대한 기울기를 계산, 커널 업데이트.\n",
        "\n",
        "- 커널 업데이트: 학습률을 곱하여 커널 가중치를 업데이트.\n",
        "\n",
        "- 손실 출력: 에포크가 2의 배수일 경우 손실 값을 출력\n",
        "    \n",
        "결과 => epoch가 진행될수록 손실 값이 작아짐."
      ],
      "metadata": {
        "id": "G9LD3Z4zNils"
      }
    },
    {
      "cell_type": "code",
      "source": [
        "conv2d.weight.data.reshape((1, 2))"
      ],
      "metadata": {
        "id": "m3wPrIjd5BVv",
        "colab": {
          "base_uri": "https://localhost:8080/"
        },
        "outputId": "004cd212-b39e-4909-c4ab-48be894bd282"
      },
      "execution_count": 12,
      "outputs": [
        {
          "output_type": "execute_result",
          "data": {
            "text/plain": [
              "tensor([[ 0.9827, -0.9893]])"
            ]
          },
          "metadata": {},
          "execution_count": 12
        }
      ]
    },
    {
      "cell_type": "markdown",
      "source": [
        "=> 입력-출력을 기반으로 커널을 학습 => 더 복잡한 필터도 효과적으로 학습할 수 있다!!!"
      ],
      "metadata": {
        "id": "trLlIwwRN_S6"
      }
    },
    {
      "cell_type": "markdown",
      "source": [
        "### 7.2.5. Cross-Correlation and Convolution\n",
        "\n",
        "\n",
        "* 교차 상관: 입력 텐서와 커널 텐서를 결합하여 출력을 생성하는 과정. 입력과 커널 간의 직접적인 곱셈과 합산을 통해 출력을 계산\n",
        "* 컨볼루션: 컨볼루션은 커널을 수평 및 수직으로 뒤집은 후 교차 상관을 수행하는 과정\n",
        "\n",
        "* 딥러닝에서 커널은 데이터로부터 학습되기 때문에, 컨볼루션 레이어가 교차 상관을 수행하든 엄밀한 컨볼루션을 수행하든 출력은 동일\n",
        ".\n",
        "교차 상관을 수행하여 학습된 커널 ( K )가 있다고 가정합니다. 이 커널을 뒤집으면 ( K' )가 되고, 엄밀한 컨볼루션을 수행하면 출력은 여전히 같음. 입력과 커널 간의 관계가 보존되기 때문에"
      ],
      "metadata": {
        "id": "TvRv9psC5BnS"
      }
    },
    {
      "cell_type": "markdown",
      "source": [
        "### 7.2.6. Feature Map and Receptive Field\n",
        "\n",
        "* feature map : 컨볼루션 레이어의 출력. 이후 레이어에서의 공간적 표현(너비와 높이)을 나타냄. 특징 맵은 입력 데이터에서 학습된 특성을 보여준다.\n",
        "* receptive field : CNN의 특정 레이어의 요소 (x)에 대해, receptive 필드는 순전파 과정에서 (x)의 계산에 영향을 미칠 수 있는 모든 이전 레이어의 요소를 가리킨다.실제 입력 크기보다 클 수 있는데, 이는 여러 레이어를 통해 정보가 전파되기 때문이다"
      ],
      "metadata": {
        "id": "0IZKtqHS5ExX"
      }
    },
    {
      "cell_type": "markdown",
      "source": [
        "### 7.2.7. Summary"
      ],
      "metadata": {
        "id": "332fyd6I5Ga5"
      }
    },
    {
      "cell_type": "markdown",
      "source": [
        "* cross correlation : 중첩된 for문을 통해 계산되며, 입력과 출력 채널이 여러개인 경우 채널 간의 행렬-행렬 연산이 수행됨\n",
        "* 교차 상관 연산은 매우 지역적임\n",
        "* 하드웨어 최적화\n",
        "* convolution은 edge, blurring images, sharpening images등에 쓰임\n",
        "* 필터를 수동으로 만들 필요 없이, 데이터를 통해 필터를 학습함\n",
        "* feature map, receptive field -> deep networks를 구성하는데 도움이 된다"
      ],
      "metadata": {
        "id": "BqqhuQ5-PMv2"
      }
    },
    {
      "cell_type": "markdown",
      "source": [
        "### 7.2.8.exercise\n",
        "\n",
        "4. How do you represent a cross-correlation operation as a matrix multiplication by changing the input and kernel tensors?\n",
        "\n",
        "> cross correlation operation은 입력 텐서와 커널 텐서를 사용하여 입력의 특정 패턴을 감지하는데 사용된다. 이 연산을 행렬곱으로 표현하려면 두 텐서의 형태를 변환해야한다.\n",
        ">\n",
        ">입력텐서 -> 입력 텐서를 작은 patch로 나누어 행렬 형태로 변환\n",
        ">\n",
        ">커널텐서 -> 2차원 행렬로 변환"
      ],
      "metadata": {
        "id": "oZVYXRLhKlGw"
      }
    },
    {
      "cell_type": "markdown",
      "source": [
        "### discussions or takeaway messages\n",
        "\n",
        "* cross correlation opeartion : 입력 텐서와 커널 텐서를 결합하여 출력 텐서를 생성\n",
        "* 커널의 크기 때문에 출력 텐서의 크기는 입력 텐서보다 작다\n",
        "* 커널을 직접 만들 수 있지만(각 커널의 역할 지정. edge dection에서)\n",
        "* 입력-출력 쌍을 이용하여 커널을 학습할 수 있으며, 데이터로부터 적합한 필터를 자동으로 학습하여 특성 공학을 대체.\n",
        "* cross correlation과 엄격한 convolution의 연산 결과는 동일\n",
        "* convoltion의 출력을 feature map이라고도 함\n",
        "* receptive field는 특정 요소 계산에 영향을 미치는 모든 요소를 포함\n",
        "* convolution의 원리가 생물학적 시각 시스템이 작용하는 방식과 유사하다는 점이 놀랍고 신기하다.\n",
        "* 데이터로 커널을 학습시킬 수 있다는 얘기인데, 데이터 구성?에 따라 커널의 성능이 어떻게 달라지는지 궁금."
      ],
      "metadata": {
        "id": "RmjcMlUe8mI2"
      }
    },
    {
      "cell_type": "markdown",
      "source": [
        "## 7.3. Padding and Stride\n",
        "컨볼루션을 적용할 픽셀이 부족해질때 까지만 컨볼루션 커널을 이동할 수 있는데, padding과 stride convoltion을 포함하여 출력 크기를 제어할 수 있는 기술들."
      ],
      "metadata": {
        "id": "yaUSH7nE8Fjy"
      }
    },
    {
      "cell_type": "code",
      "source": [
        "import torch\n",
        "from torch import nn"
      ],
      "metadata": {
        "id": "gx8aOO5r8IAA"
      },
      "execution_count": 13,
      "outputs": []
    },
    {
      "cell_type": "markdown",
      "source": [
        "#### 7.3.1. Padding\n",
        "[padding의 필요성]\n",
        "\n",
        "문제점: 컨볼루션 레이어를 적용할 때 이미지의 경계에서 픽셀이 손실되는 문제가 발생. 특히 코너 픽셀은 거의 사용 못함.\n",
        "해결책: 입력 이미지의 경계에 padding을 추가하여 이미지의 유효 크기를 증가. 일반적으로 이 여분의 픽셀 값은 0으로 설정한다.\n",
        "\n",
        "예시: 3X3 입력에 padding을 추가하면, 입력 크기가 8X8에서 10X10으로 증가하고, 출력 크기는 8X8로 유지됩니다.\n",
        "\n",
        "[출력 크기 계산]\n",
        "\n",
        "총 p_h개의 행과 p_w개의 열의 padding을 추가하면, 출력 크기 = [ \\text{출력 높이} = \\frac{\\text{입력 높이} + 2 \\times p_h - \\text{커널 높이}}{s} + 1 ] [ \\text{출력 너비} = \\frac{\\text{입력 너비} + 2 \\times p_w - \\text{커널 너비}}{s} + 1 ]\n",
        "여기서 (s)는 스트라이드(stride)입니다.\n",
        "\n",
        "[padding의 장점]\n",
        "* 입력과 출력의 높이와 너비를 동일하게 유지할 수 있음 -> 각 layer에서 출력 크기 예측에 도움\n",
        "* CNN은 보통 홀수 크기의 커널을 사용하는데, 이는 상하좌우에 동일한 수의 padding을 추가할 수 있으므로 치수 유지에 유리\n",
        "\n",
        "=> 입력과 출력의 크기를 유지하고 픽셀 손실 방지에 도움!\n"
      ],
      "metadata": {
        "id": "mbuzr9XO5WuG"
      }
    },
    {
      "cell_type": "code",
      "source": [
        "# We define a helper function to calculate convolutions. It initializes the\n",
        "# convolutional layer weights and performs corresponding dimensionality\n",
        "# elevations and reductions on the input and output\n",
        "def comp_conv2d(conv2d, X):\n",
        "    # (1, 1) indicates that batch size and the number of channels are both 1\n",
        "    X = X.reshape((1, 1) + X.shape)\n",
        "    Y = conv2d(X)\n",
        "    # Strip the first two dimensions: examples and channels\n",
        "    return Y.reshape(Y.shape[2:])\n",
        "\n",
        "# 1 row and column is padded on either side, so a total of 2 rows or columns\n",
        "# are added\n",
        "conv2d = nn.LazyConv2d(1, kernel_size=3, padding=1)\n",
        "X = torch.rand(size=(8, 8))\n",
        "comp_conv2d(conv2d, X).shape"
      ],
      "metadata": {
        "id": "vmA93P-V5Ywi",
        "colab": {
          "base_uri": "https://localhost:8080/"
        },
        "outputId": "0abff399-e931-4e5c-b6e7-be3b832776b4"
      },
      "execution_count": 14,
      "outputs": [
        {
          "output_type": "execute_result",
          "data": {
            "text/plain": [
              "torch.Size([8, 8])"
            ]
          },
          "metadata": {},
          "execution_count": 14
        }
      ]
    },
    {
      "cell_type": "markdown",
      "source": [
        "* conv2d = nn.LazyConv2d(1, kernel_size=3, padding=1)\n",
        "    높이와 너비가 각각 3인 컨볼루션 레이어를 정의하고, 모든 면에 1픽셀의 패딩을 추가합니다.\n",
        "* conv2d = nn.LazyConv2d(1, kernel_size=(5, 3), padding=(2, 1))\n",
        "    커널의 높이와 너비가 다를 경우, 각 방향에 대해 다른 패딩 수치를 설정하여 입력과 출력의 크기를 동일하게 유지. => 높이 5, 너비 3인 커널을 사용할 때 상하에 2픽셀, 좌우에 1픽셀의 패딩을 추가."
      ],
      "metadata": {
        "id": "Fnm8noaFSudV"
      }
    },
    {
      "cell_type": "code",
      "source": [
        "# We use a convolution kernel with height 5 and width 3. The padding on either\n",
        "# side of the height and width are 2 and 1, respectively\n",
        "conv2d = nn.LazyConv2d(1, kernel_size=(5, 3), padding=(2, 1))\n",
        "comp_conv2d(conv2d, X).shape"
      ],
      "metadata": {
        "id": "9J5trSiM5aCZ",
        "colab": {
          "base_uri": "https://localhost:8080/"
        },
        "outputId": "dfb31b86-d663-4285-86c9-5528bff0d2a8"
      },
      "execution_count": 15,
      "outputs": [
        {
          "output_type": "execute_result",
          "data": {
            "text/plain": [
              "torch.Size([8, 8])"
            ]
          },
          "metadata": {},
          "execution_count": 15
        }
      ]
    },
    {
      "cell_type": "markdown",
      "source": [
        "### 7.3.2. Stride\n",
        ": 스트라이드는 교차 상관 연산에서 커널이 입력 텐서를 슬라이드할 때, 한 번에 이동하는 행과 열의 수를 의미.\n",
        "stride=1 : 커널이 한번에 한 요소씩 이동.\n",
        "\n",
        "[stride 장점]\n",
        "\n",
        "스트라이드를 늘리면 계산 효율성을 높이거나 다운샘플링을 수행할 수 있음. 특히 큰 커널을 사용할 경우, 더 넓은 영역을 캡처.\n",
        "\n",
        "[stride 적용]\n",
        "\n",
        "스트라이드가 3인 세로 방향과 2인 가로 방향으로 설정된 경우\n",
        "- 첫 번째 열의 두 번째 요소를 생성할 때 커널이 세 행 아래로 이동\n",
        "- 첫 번째 행의 두 번째 요소를 생성할 때는 두 열 오른쪽으로 이동\n",
        "- 스트라이드가 커지면 커널이 이동한 후에도 출력이 생성되지 않을 수 있음. 입력 요소가 커널의 크기를 채우지 못할 때 발생\n",
        "\n",
        "[출력 크기]\n",
        "\n",
        "stride의 height(sh), weidth(sw)\n",
        "[(nh-kb+ph+sh)/sh]X[(nw-kw+pw+sw)/sw]"
      ],
      "metadata": {
        "id": "ymF3ub5o5aq6"
      }
    },
    {
      "cell_type": "code",
      "source": [
        "conv2d = nn.LazyConv2d(1, kernel_size=3, padding=1, stride=2)\n",
        "comp_conv2d(conv2d, X).shape"
      ],
      "metadata": {
        "id": "rggoEi4m5MBl",
        "colab": {
          "base_uri": "https://localhost:8080/"
        },
        "outputId": "fce5c845-baca-4fdf-84a3-32cc7151c8ac"
      },
      "execution_count": 16,
      "outputs": [
        {
          "output_type": "execute_result",
          "data": {
            "text/plain": [
              "torch.Size([4, 4])"
            ]
          },
          "metadata": {},
          "execution_count": 16
        }
      ]
    },
    {
      "cell_type": "code",
      "source": [
        "conv2d = nn.LazyConv2d(1, kernel_size=(3, 5), padding=(0, 1), stride=(3, 4))\n",
        "comp_conv2d(conv2d, X).shape"
      ],
      "metadata": {
        "id": "jpQOaC7U5eIv",
        "colab": {
          "base_uri": "https://localhost:8080/"
        },
        "outputId": "f60f3508-3b10-4357-94ee-aa4765e88e6d"
      },
      "execution_count": 17,
      "outputs": [
        {
          "output_type": "execute_result",
          "data": {
            "text/plain": [
              "torch.Size([2, 2])"
            ]
          },
          "metadata": {},
          "execution_count": 17
        }
      ]
    },
    {
      "cell_type": "markdown",
      "source": [
        "stride는 커널의 이동 방식을 조절하여 출력 크기를 효과적으로 관리할 수 있음. stride를 적절히 설정함으로써 계산량을 줄이고, 다운샘플링 효과를 얻을 수 있다."
      ],
      "metadata": {
        "id": "popwPWfFUcYh"
      }
    },
    {
      "cell_type": "markdown",
      "source": [
        "### 7.3.3. Summary and Discussion\n",
        "* padding : 입력과 출력의 높이와 너비를 동일하게 유지하기 위해 사용. 출력의 축소를 방지하여 모델의 예측을 더 일관되게 만들어준다\n",
        "* stride는 출력의 해상도를 줄일 수 있다. 예를 들어, (s = 2)로 설정하면 출력의 높이와 너비는 입력의 절반이 된다\n",
        "* zero padding : 지금까지 논의한 패딩은 모두 제로 패딩으로, 구현이 간단하고 계산적으로 이점이 있다. 제로 패딩은 추가 메모리 할당 없이도 쉽게 처리할 수 있음.\n",
        "* 비제로 padding : 제로패딩외의 다양한 패딩이 있음....."
      ],
      "metadata": {
        "id": "hazltYqE5lxT"
      }
    },
    {
      "cell_type": "markdown",
      "source": [
        "### 7.3.4. exercise\n",
        "\n",
        "1. Given the final code example in this section with kernel size (3,5), padding (0,1), and stride (3,4), calculate the output shape to check if it is consistent with the experimental result.\n",
        "\n",
        "> 커널크기 3,5 / 패딩 0,1 / stride 3,4\n",
        ">\n",
        "> [(nh-kb+ph+sh)/sh]X[(nw-kw+pw+sw)/sw]\n",
        ">\n",
        "> [(8-3+0+3)/3] = [8/3] = 2\n",
        ">\n",
        "> [(8-5+1+4)/4] = [8/4] = 2\n",
        ">\n",
        "> => 2X2 사이즈로 결과와 동일합니다\n",
        "\n",
        "2. For audio signals, what does a stride of 2 correspond to?\n",
        "\n",
        "> 한번의 연산 후 2개 간격으로 샘플 이동을 한다는 의미이다. 샘플링 간격이 2이므로, 출력 신호의 해상도가 감소하고 계산시간이 빨라진다\n",
        "\n"
      ],
      "metadata": {
        "id": "pJaO7Q6xFy9D"
      }
    },
    {
      "cell_type": "markdown",
      "source": [
        "4. What are the computational benefits of a stride larger than 1?\n",
        "\n",
        "> 커널의 이동 간격이 커지므로 계산량이 줄어든다. 또한 연산량이 줄어들기 때문에 메모리도 적게 사용한다.\n",
        "\n",
        "\n",
        "5. What might be statistical benefits of a stride larger than 1?\n",
        "\n",
        "> 훈련할때 과적합을 방지할 수 있고, 보폭이 클수록 서로 다른 입력 샘플간의 관계를 더 잘 추출해 낼 수 있다."
      ],
      "metadata": {
        "id": "lzPSKDTUJLpu"
      }
    },
    {
      "cell_type": "markdown",
      "source": [
        "### discussions or takeaway messages\n",
        "\n",
        "* padding은 입출력의 높이 너비를 동일하게 유지 -> 모델 예측의 일관성 -> 학습 굿\n",
        "* stride를 적절하게 사용하면 -> 해상도 줄일 수 있음, 계산량 down\n",
        "* 비제로 padding이 아티팩트 문제 해결에 도움이 된다고 하는데 아티팩트 문제가 뭔지는 찾아봐야 할 것 같음"
      ],
      "metadata": {
        "id": "Y7I4kO-t8oSJ"
      }
    },
    {
      "cell_type": "markdown",
      "source": [
        "## 7.4. Multiple Input and Multiple Output Channels\n",
        "다중 입력 및 다중 출력 채널이 있는 컨볼루션 커널"
      ],
      "metadata": {
        "id": "U4vG8g5DrPS-"
      }
    },
    {
      "cell_type": "markdown",
      "source": [
        "### 7.4.1. Multiple Input Channels\n",
        ": 다중 입력 채널\n",
        "\n",
        ": 이미지나 다른 형태의 데이터가 여러 채널을 포함할 때, 각 입력 채널에 대해 동일한 수의 입력 채널을 가진 컨볼루션 커널을 구성해야함.\n",
        "\n",
        "예시 : 입력데이터의 채널 수 C, 커널의 window가 hXw이면\n",
        "커널의 전체는 CXhXw\n",
        "\n",
        "교차상관연산 : 입력 채널에 대해 커널을 적용한 후, 그 결과를 모두 더하여 최종 출력 텐서를 생성. 이는 각 채널에서의 교차 상관 결과를 합산하여 2차원 텐서를 생성하는 과정을 포함.\n",
        "\n",
        "다중 입력 채널을 처리하는 컨볼루션은 각 채널에서의 정보를 통합하여 더 풍부한 특징을 학습할 수 있게 함. 다양한 입력 데이터를 효과적으로 처리하는데 필수적\n",
        "\n"
      ],
      "metadata": {
        "id": "v32lbS5qrSfM"
      }
    },
    {
      "cell_type": "code",
      "source": [
        "def corr2d_multi_in(X, K):\n",
        "    # Iterate through the 0th dimension (channel) of K first, then add them up\n",
        "    return sum(d2l.corr2d(x, k) for x, k in zip(X, K))"
      ],
      "metadata": {
        "id": "g6oe5Ufz8wrs"
      },
      "execution_count": 18,
      "outputs": []
    },
    {
      "cell_type": "code",
      "source": [
        "X = torch.tensor([[[0.0, 1.0, 2.0], [3.0, 4.0, 5.0], [6.0, 7.0, 8.0]],\n",
        "               [[1.0, 2.0, 3.0], [4.0, 5.0, 6.0], [7.0, 8.0, 9.0]]])\n",
        "K = torch.tensor([[[0.0, 1.0], [2.0, 3.0]], [[1.0, 2.0], [3.0, 4.0]]])\n",
        "\n",
        "corr2d_multi_in(X, K)"
      ],
      "metadata": {
        "id": "dku5k28w8xjP",
        "colab": {
          "base_uri": "https://localhost:8080/"
        },
        "outputId": "34a39ad4-47ab-4f21-f770-6608262f8500"
      },
      "execution_count": 19,
      "outputs": [
        {
          "output_type": "execute_result",
          "data": {
            "text/plain": [
              "tensor([[ 56.,  72.],\n",
              "        [104., 120.]])"
            ]
          },
          "metadata": {},
          "execution_count": 19
        }
      ]
    },
    {
      "cell_type": "markdown",
      "source": [
        "### 7.4.2. Multiple Output Channels\n",
        "\n",
        "신경망이 더 깊어짐에 따라 실제로 채널 차원을 증가시키고 일반적으로 더 큰 채널 깊이를 위해 공간 해상도를 절충하기 위해 다운샘플링함.\n",
        "\n",
        "각 layer에서 다중 출력 채널을 갖음으로써 네트워크의 깊이가 깊어짐에 따라 채널 차원을 확장하여 다양한 특징을 학습할 수 있게 함.\n",
        "\n",
        "representation이 픽셀또는 채널별로 독립적으로 학습된다고 함. 채널은 공동으로 유용하도록 최적화됨.=> 단일 채널을 에지 검출기에 매핑하는 것이 아니라 단순히 채널 공간의 일부 방향이 에지 검출에 해당함을 의미\n",
        "\n",
        "각 채널은 서로 다른 특징 세트에 반응하도록 설계되어 있으며, 이는 각 채널이 독립적으로 작동하는 것이 아니라, 서로 협력하여 더 유용한 표현을 학습하게 됨\n",
        "\n",
        "입력채널수 Cin, 출력채널수 Cout, 커널의 높이 Kh, 커널의 너비 Kw.\n",
        "\n",
        "\n",
        "최종 커널 텐서 = CoutXCinXKhXKw\n",
        "\n",
        "다중 출력 채널은 CNN의 성능을 극대화하며, 각 채널이 서로 다른 특징을 학습하도록 함. 이를 통해 네트워크는 더 복잡한 패턴을 인식하고, 다양한 입력 데이터에 대해 효과적으로 대응할 수 있다.\n",
        "\n"
      ],
      "metadata": {
        "id": "8Fp7XuXr8wQ-"
      }
    },
    {
      "cell_type": "code",
      "source": [
        "def corr2d_multi_in_out(X, K):\n",
        "    # Iterate through the 0th dimension of K, and each time, perform\n",
        "    # cross-correlation operations with input X. All of the results are\n",
        "    # stacked together\n",
        "    return torch.stack([corr2d_multi_in(X, k) for k in K], 0)"
      ],
      "metadata": {
        "id": "hjbzXape80az"
      },
      "execution_count": 20,
      "outputs": []
    },
    {
      "cell_type": "code",
      "source": [
        "K = torch.stack((K, K + 1, K + 2), 0)\n",
        "K.shape"
      ],
      "metadata": {
        "id": "lKhLj91O81aF",
        "colab": {
          "base_uri": "https://localhost:8080/"
        },
        "outputId": "a5aaa014-b00a-4c56-ea6f-c201c873230b"
      },
      "execution_count": 21,
      "outputs": [
        {
          "output_type": "execute_result",
          "data": {
            "text/plain": [
              "torch.Size([3, 2, 2, 2])"
            ]
          },
          "metadata": {},
          "execution_count": 21
        }
      ]
    },
    {
      "cell_type": "code",
      "source": [
        "corr2d_multi_in_out(X, K)"
      ],
      "metadata": {
        "id": "eA3Kl2Qf82WX",
        "colab": {
          "base_uri": "https://localhost:8080/"
        },
        "outputId": "fd37e08c-4ab8-48fa-e7fa-d43bb9ddee46"
      },
      "execution_count": 22,
      "outputs": [
        {
          "output_type": "execute_result",
          "data": {
            "text/plain": [
              "tensor([[[ 56.,  72.],\n",
              "         [104., 120.]],\n",
              "\n",
              "        [[ 76., 100.],\n",
              "         [148., 172.]],\n",
              "\n",
              "        [[ 96., 128.],\n",
              "         [192., 224.]]])"
            ]
          },
          "metadata": {},
          "execution_count": 22
        }
      ]
    },
    {
      "cell_type": "markdown",
      "source": [
        "[헷갈려서 정리하는 다중입력채널 VS 다중출력채널]\n",
        "\n",
        "* 다중입력채널\n",
        "    - 립력데이터가 여러 채널로 구성(RGB같은거)\n",
        "    - 모델이 다중 입력 채널을 통해 다양한 색상 및 정보에 대해 학습가능.\n",
        "    - 각 입력 채널은 서로 다른 특징을 나타내며, 이들이 결합하여 최종 출력이 나옴\n",
        "* 다중출력채널\n",
        "    - convolution layer에서 여러개의 출력 채널을 생성하는 경우\n",
        "    - 각 출력 채널은 입력 채널의 조합을 통해 생성되며 특정 특징을 학습하기 위해 설계됨\n",
        "    - 다중출력채널을 통해 더 복잡한 패턴을 인식할 수 있음\n",
        "    - 각 출력채널은 서로 다른 특징을 감지, 이를 통해 모델의 표현 능력을 향상\n",
        "    - 예를 들어, 첫 번째 레이어에서 에지를 감지하는 채널이 있을 수 있고, 다음 레이어에서 텍스처를 감지하는 채널이 있는 경우\n"
      ],
      "metadata": {
        "id": "DB8e7uLibOwc"
      }
    },
    {
      "cell_type": "markdown",
      "source": [
        "### 7.4.3. 1X1 Convolutional Layer\n",
        "\n",
        "커널의 크기가 1X1인 컨볼루션을 의미. 인접한 픽셀 간의 상관 관계를 고려하지 않기 때문에 직관적으로 이해하기 어려울 수 있지만 1x1 컨볼루션은 깊은 신경망의 설계에서 매우 유용하며, 특히 채널 간의 정보를 조합하는 데 사용됨.\n",
        "\n",
        "각 픽셀 위치에서 입력 채널의 정보를 선형 결합하여 출력 채널을 생성\n",
        "\n",
        "[입출력방식]\n",
        "* 입출력 형태 : 입출력은 동일한 높이와 너비. 각 출력 채널의 값은 입력 채널의 선형 조합으로 계산됨\n",
        "* 가중치 공유 : 각 픽셀위치에서 동일한 가중치를 사용 -> 전체 네트워크의 parameter수를 줄이는데 도움이 됨.  입력채널 Cin, 출력채널 Cout일때 필요한 가중치의 수 = CinXCout\n",
        "\n",
        "[계산]\n",
        "* minimum window이 사용되기 때문에 1×1 컨볼루션은 높이와 너비 차원에서 인접한 요소 간의 상호 작용으로 구성된 패턴을 인식하는 더 큰 컨볼루션 레이어의 기능을 잃는. 1×1 컨벌루션의 유일한 계산은 채널 차원에서 발생\n",
        "*  1x1 컨볼루션은 실제로는 각 채널의 값을 선형 변환하는 것 => 행렬 곱셈으로 구현\n",
        "* 입력 텐서의 형태를 조정한 후, 행렬 곱셈을 수행하여 출력을 생성"
      ],
      "metadata": {
        "id": "iDGZImuB84Gy"
      }
    },
    {
      "cell_type": "code",
      "source": [
        "def corr2d_multi_in_out_1x1(X, K):\n",
        "    c_i, h, w = X.shape\n",
        "    c_o = K.shape[0]\n",
        "    X = X.reshape((c_i, h * w))\n",
        "    K = K.reshape((c_o, c_i))\n",
        "    # Matrix multiplication in the fully connected layer\n",
        "    Y = torch.matmul(K, X)\n",
        "    return Y.reshape((c_o, h, w))"
      ],
      "metadata": {
        "id": "ru7k_80l88Q5"
      },
      "execution_count": 23,
      "outputs": []
    },
    {
      "cell_type": "code",
      "source": [
        "X = torch.normal(0, 1, (3, 3, 3))\n",
        "K = torch.normal(0, 1, (2, 3, 1, 1))\n",
        "Y1 = corr2d_multi_in_out_1x1(X, K)\n",
        "Y2 = corr2d_multi_in_out(X, K)\n",
        "assert float(torch.abs(Y1 - Y2).sum()) < 1e-6"
      ],
      "metadata": {
        "id": "hjG9eug389K8"
      },
      "execution_count": 26,
      "outputs": []
    },
    {
      "cell_type": "markdown",
      "source": [
        "### 7.4.4. Discussion\n",
        "* 채널을 통해 MLP의 비선형성 및 컨졸루션의 국지적 분석의 장점을 동시에 활용\n",
        "* 채널은 CNN이 여러 특징을 동시에 고려할 수 있게 함 -> 더 표현력 있고 다양한 모델을 구축\n",
        "* 입력 이미지 크기가 HXW, 커널 KXK 입력 채널 Cin, 출력채널 Cout이면\n",
        "* 기본적으로 O(HXWXK^2)의 비용이 발생\n",
        "* 입력과 출력 채널을 고려하면 O(HXWXK^2XCinXCout)\n",
        "* 계산비용을 줄이는 효율적인 아키텍처 : ResNeXt\n"
      ],
      "metadata": {
        "id": "XBmDsMvt878A"
      }
    },
    {
      "cell_type": "markdown",
      "source": [
        "### 7.4.5.exercise\n",
        "\n",
        "4. Are the variables Y1 and Y2 in the final example of this section exactly the same? Why?\n",
        "\n",
        "> Y1은 행렬 곱셈으로, Y2는 2D convolution을 통해 계산되었다. 다른 방식으로 계산되었지만, 같은 입력과 커널을 사용했기 때문에 최종 결과가 같게 나온다.\n",
        "\n"
      ],
      "metadata": {
        "id": "tqK1zo0DEBga"
      }
    },
    {
      "cell_type": "markdown",
      "source": [
        "### discussions or takeaway messages\n",
        "\n",
        "\n",
        "* 다중입력채널\n",
        "    - 립력데이터가 여러 채널로 구성(RGB같은거)\n",
        "    - 모델이 다중 입력 채널을 통해 다양한 색상 및 정보에 대해 학습가능.\n",
        "    - 각 입력 채널은 서로 다른 특징을 나타내며, 이들이 결합하여 최종 출력이 나옴\n",
        "* 다중출력채널\n",
        "    - convolution layer에서 여러개의 출력 채널을 생성하는 경우\n",
        "    - 각 출력 채널은 입력 채널의 조합을 통해 생성되며 특정 특징을 학습하기 위해 설계됨\n",
        "    - 다중출력채널을 통해 더 복잡한 패턴을 인식할 수 있음\n",
        "    - 각 출력채널은 서로 다른 특징을 감지, 이를 통해 모델의 표현 능력을 향상\n",
        "    - 예를 들어, 첫 번째 레이어에서 에지를 감지하는 채널이 있을 수 있고, 다음 레이어에서 텍스처를 감지하는 채널이 있는 경우\n",
        "\n",
        "* 1X1 convolution : 각 채널에서 입력 값을 선형 결합하여 출력 값을 생성하는 방식. 이는 사실상 각 픽셀 위치에서 완전 연결층을 적용하는 것과 유사\n",
        "* 파라미터 수를 줄이면서 채널 간의 상호작용을 하여 CNN의 성능을 극대화"
      ],
      "metadata": {
        "id": "YzGCnncs-X6M"
      }
    },
    {
      "cell_type": "markdown",
      "source": [
        "## 7.5. Pooling\n",
        "최종 레이어의 유닛은 전체 입력에 민감해야 함. 이를 위해 정보가 점차 집계되고, 점점 더 조잡한 맵을 생성함으로써 전반적인 표현을 학습할 수 있다.\n",
        "\n",
        "네트워크의 깊이가 증가할수록 각 은닉 노드가 민감한 수용 필드의 크기도 커지고, 공간 해상도를 줄이면 이 과정을 가속화할 수 있다.\n",
        "\n",
        "edge와 같은 저수준 특징을 감지할 때는 표현이 살짝 불변이기를 원함.\n",
        "\n",
        "위치에 대한 convolution layer의 민감도를 완화하고 표현을 공간적으로 다운샘플링하는 역할을 하는 pooling layer에 대해서 알아본다"
      ],
      "metadata": {
        "id": "t9MmkUnLrV-X"
      }
    },
    {
      "cell_type": "code",
      "source": [
        "import torch\n",
        "from torch import nn\n",
        "from d2l import torch as d2l"
      ],
      "metadata": {
        "id": "4YX5A_rt9CZa"
      },
      "execution_count": 27,
      "outputs": []
    },
    {
      "cell_type": "markdown",
      "source": [
        "### 7.5.1. Maximum Pooling and Average Pooling\n",
        "\n",
        "[pooling layer]\n",
        "* 풀링 레이어는 고정된 형태의 윈도우를 사용하여 입력의 모든 지역을 슬라이드하며 각 위치에 대해 단일 출력을 계산. 풀링 레이어는 파라미터가 없고(커널이 없음), deterministic함.\n",
        "* 풀링 윈도우 내의 요소들 중 최대값이나 평균값을 계산하여 출력을 생성.\n",
        "\n",
        "1. 평균 풀링 (Average Pooling)\n",
        "    - 인접한 픽셀의 값을 평균내어 더 나은 신호 대 잡음 비율을 얻는 방식으로, 이미지를 다운샘플링하는 데 사용.\n",
        "    - 데이터의 정보를 더 잘 유지할 수 있습니다.\n",
        "2. 최대 풀링 (Max Pooling)\n",
        "    - 지정된 풀링 윈도우 내에서 최대값을 계산하여 출력합니다.\n",
        "\n",
        "* 두 경우 모두 pooling window를 입력 텐서의 왼쪽 위 -> 오른쪽 아래.\n",
        "* pooling window가 도달하는 각 위치에서 최대 또는 평균 풀링이 사용되는지 여부에 따라 윈도우에서 입력 하위 텐서의 최대값 또는 평균값을 계산\n",
        "\n",
        "* max pooling을 사용하면 패턴이 한 요소만큼 이동해도 여전히 감지됨 => 위치에 대한 민감도 완화\n"
      ],
      "metadata": {
        "id": "xhK9djBd9C1-"
      }
    },
    {
      "cell_type": "code",
      "source": [
        "def pool2d(X, pool_size, mode='max'): #최대 풀링\n",
        "    p_h, p_w = pool_size\n",
        "    Y = torch.zeros((X.shape[0] - p_h + 1, X.shape[1] - p_w + 1))\n",
        "    for i in range(Y.shape[0]):\n",
        "        for j in range(Y.shape[1]):\n",
        "            if mode == 'max':\n",
        "                Y[i, j] = X[i: i + p_h, j: j + p_w].max()\n",
        "            elif mode == 'avg':\n",
        "                Y[i, j] = X[i: i + p_h, j: j + p_w].mean()\n",
        "    return Y"
      ],
      "metadata": {
        "id": "0P5DZc4X9FrX"
      },
      "execution_count": 28,
      "outputs": []
    },
    {
      "cell_type": "code",
      "source": [
        "X = torch.tensor([[0.0, 1.0, 2.0], [3.0, 4.0, 5.0], [6.0, 7.0, 8.0]])\n",
        "pool2d(X, (2, 2))"
      ],
      "metadata": {
        "id": "2Kv-Gc0O9GhV",
        "colab": {
          "base_uri": "https://localhost:8080/"
        },
        "outputId": "acc77b70-88c4-4db3-e7bd-c43978917bb8"
      },
      "execution_count": 29,
      "outputs": [
        {
          "output_type": "execute_result",
          "data": {
            "text/plain": [
              "tensor([[4., 5.],\n",
              "        [7., 8.]])"
            ]
          },
          "metadata": {},
          "execution_count": 29
        }
      ]
    },
    {
      "cell_type": "code",
      "source": [
        "pool2d(X, (2, 2), 'avg') #평균 풀링"
      ],
      "metadata": {
        "id": "WRMUgvtw9Hhh",
        "colab": {
          "base_uri": "https://localhost:8080/"
        },
        "outputId": "7f06a24f-9e10-4e2b-9818-f4880f4e0c73"
      },
      "execution_count": 30,
      "outputs": [
        {
          "output_type": "execute_result",
          "data": {
            "text/plain": [
              "tensor([[2., 3.],\n",
              "        [5., 6.]])"
            ]
          },
          "metadata": {},
          "execution_count": 30
        }
      ]
    },
    {
      "cell_type": "markdown",
      "source": [
        "### 7.5.2. Padding and Stride\n",
        "\n",
        "컨벌루션 레이어와 마찬가지로 풀링 레이어는 출력 형태를 변경. 이전과 마찬가지로 입력을 패딩하고 stride을 조정하여 원하는 출력 모양을 얻을 수 있음\n",
        "\n",
        "=> 원하는 출력 크기를 얻고, 정보의 손실을 최소화 가능. 다양한 크기의 padding, stride의 활용으로 모델의 유연성 up"
      ],
      "metadata": {
        "id": "sb3xWhs49JQT"
      }
    },
    {
      "cell_type": "code",
      "source": [
        "#4차원 입력 텐서. 배치 크기와 채널 수는 각각 1입니다.\n",
        "X = torch.arange(16, dtype=torch.float32).reshape((1, 1, 4, 4))\n",
        "X"
      ],
      "metadata": {
        "id": "zVzjx4A29Kbl",
        "colab": {
          "base_uri": "https://localhost:8080/"
        },
        "outputId": "ced7a67b-366d-4690-f996-2ff79a3eaef6"
      },
      "execution_count": 31,
      "outputs": [
        {
          "output_type": "execute_result",
          "data": {
            "text/plain": [
              "tensor([[[[ 0.,  1.,  2.,  3.],\n",
              "          [ 4.,  5.,  6.,  7.],\n",
              "          [ 8.,  9., 10., 11.],\n",
              "          [12., 13., 14., 15.]]]])"
            ]
          },
          "metadata": {},
          "execution_count": 31
        }
      ]
    },
    {
      "cell_type": "code",
      "source": [
        "#풀링 윈도우의 크기와 스트라이드는 기본적으로 일치\n",
        "pool2d = nn.MaxPool2d(3)\n",
        "# Pooling has no model parameters, hence it needs no initialization\n",
        "pool2d(X)"
      ],
      "metadata": {
        "id": "ysIbYwu-9LRE",
        "colab": {
          "base_uri": "https://localhost:8080/"
        },
        "outputId": "d049096e-0345-4f65-d218-b66603ada091"
      },
      "execution_count": 32,
      "outputs": [
        {
          "output_type": "execute_result",
          "data": {
            "text/plain": [
              "tensor([[[[10.]]]])"
            ]
          },
          "metadata": {},
          "execution_count": 32
        }
      ]
    },
    {
      "cell_type": "code",
      "source": [
        "pool2d = nn.MaxPool2d(3, padding=1, stride=2)\n",
        "pool2d(X)"
      ],
      "metadata": {
        "id": "VV40yN4R9MGk",
        "colab": {
          "base_uri": "https://localhost:8080/"
        },
        "outputId": "bcb53acb-c01b-4582-f6d7-7ac8893b0d53"
      },
      "execution_count": 33,
      "outputs": [
        {
          "output_type": "execute_result",
          "data": {
            "text/plain": [
              "tensor([[[[ 5.,  7.],\n",
              "          [13., 15.]]]])"
            ]
          },
          "metadata": {},
          "execution_count": 33
        }
      ]
    },
    {
      "cell_type": "code",
      "source": [
        "#기본적으로 풀링 윈도우와 스트라이드의 크기가 일치하지만\n",
        "#수동 조정 가능\n",
        "pool2d = nn.MaxPool2d((2, 3), stride=(2, 3), padding=(0, 1))\n",
        "pool2d(X)"
      ],
      "metadata": {
        "id": "UPm3psUt9M3Z",
        "colab": {
          "base_uri": "https://localhost:8080/"
        },
        "outputId": "9720311f-617a-4446-c215-992c4792ce65"
      },
      "execution_count": 34,
      "outputs": [
        {
          "output_type": "execute_result",
          "data": {
            "text/plain": [
              "tensor([[[[ 5.,  7.],\n",
              "          [13., 15.]]]])"
            ]
          },
          "metadata": {},
          "execution_count": 34
        }
      ]
    },
    {
      "cell_type": "markdown",
      "source": [
        "### 7.5.3. Multiple Channels\n",
        "\n",
        "다중 채널 입력 데이터를 처리할 때 풀링 계층은 컨벌루션 계층에서와 같이 채널을 통해 입력을 합산하는 대신 각 입력 채널을 \"개별적\"으로 풀링 => 풀링 레이어의 출력 채널 수가 입력 채널 수와 같다는 것을 의미\n",
        "\n",
        "다중 채널을 가진 입력 데이터에 대해 풀링 레이어는 각 채널을 독립적으로 처리하여 출력한다. 이것은 다양한 특징을 유지하면서도 정보의 손실을 최소화하는데 도움이 된다\n"
      ],
      "metadata": {
        "id": "OURUtJmI9OQU"
      }
    },
    {
      "cell_type": "code",
      "source": [
        "X = torch.cat((X, X + 1), 1)\n",
        "X"
      ],
      "metadata": {
        "id": "idW8g1ip9PaH",
        "colab": {
          "base_uri": "https://localhost:8080/"
        },
        "outputId": "5fc64a59-d0ea-4270-bac9-e76ce9abe1e4"
      },
      "execution_count": 35,
      "outputs": [
        {
          "output_type": "execute_result",
          "data": {
            "text/plain": [
              "tensor([[[[ 0.,  1.,  2.,  3.],\n",
              "          [ 4.,  5.,  6.,  7.],\n",
              "          [ 8.,  9., 10., 11.],\n",
              "          [12., 13., 14., 15.]],\n",
              "\n",
              "         [[ 1.,  2.,  3.,  4.],\n",
              "          [ 5.,  6.,  7.,  8.],\n",
              "          [ 9., 10., 11., 12.],\n",
              "          [13., 14., 15., 16.]]]])"
            ]
          },
          "metadata": {},
          "execution_count": 35
        }
      ]
    },
    {
      "cell_type": "code",
      "source": [
        "pool2d = nn.MaxPool2d(3, padding=1, stride=2)\n",
        "pool2d(X)"
      ],
      "metadata": {
        "id": "Dq7ycmXr9QPu",
        "colab": {
          "base_uri": "https://localhost:8080/"
        },
        "outputId": "693caaf5-05a2-462a-a05c-cdcafc6a8d01"
      },
      "execution_count": 36,
      "outputs": [
        {
          "output_type": "execute_result",
          "data": {
            "text/plain": [
              "tensor([[[[ 5.,  7.],\n",
              "          [13., 15.]],\n",
              "\n",
              "         [[ 6.,  8.],\n",
              "          [14., 16.]]]])"
            ]
          },
          "metadata": {},
          "execution_count": 36
        }
      ]
    },
    {
      "cell_type": "markdown",
      "source": [
        "결과 : 출력 텐서는 두 개의 채널을 가지며, 각 채널에 대해 최대 풀링이 적용된 결과이다. 첫 번째 채널의 출력은 최대값을 포함하고, 두 번째 채널에서도 같은 방식으로 최대값이 계산됨"
      ],
      "metadata": {
        "id": "bkR1jF7lj_Pm"
      }
    },
    {
      "cell_type": "markdown",
      "source": [
        "### 7.5.4. Summary\n",
        "\n",
        "* pooling : 주어진 값의 윈도우에서 결과를 집계\n",
        "* convolution : 풀링 레이어에서도 stride, padding과 같은 convolution의 의미가 동일하게 적용\n",
        "* pooling은 채널 수를 변경하지 않으며, 각 채널에 독립적으로 적용됨.\n",
        "* 즉, 입력 채널의 수 = 출력 채널의 수\n",
        "* max pooling , average pooling\n",
        "* max pooling을 더 선호. 결과불면성 측면에서 좀 더 나음\n",
        "* pooling window는 보통 2X2를 선택 -> 해상도 1/4\n",
        "* 해상도 줄이는 방법ㅇ : pooling, stochastic pooling,fractional max pooling 등"
      ],
      "metadata": {
        "id": "7lE3XtLL9Rb4"
      }
    },
    {
      "cell_type": "markdown",
      "source": [
        "### 7.5.5. exercise\n",
        "\n",
        "2. Prove that max-pooling cannot be implemented through a convolution alone.\n",
        "\n",
        "> convolution은 가중치와 입력의 곱을 계산하여 출력을 생성한다. 그러나 max pooling은 입력 값 중에서 최댓값을 선택하는 비선형적 연산이고, 가중치를 설정하려고 해도 가중치가 입력의 크기나 패턴에 따라 변하는 것이 아니기 때문에 특정 영역에서 가중치를 이용하여 최댓값을 선택할 수 없다."
      ],
      "metadata": {
        "id": "DkLBlC6KC0zv"
      }
    },
    {
      "cell_type": "markdown",
      "source": [
        "### discussions or takeaway messages\n",
        "\n",
        "* poolling은 입력값의 윈도우에서 결과를 집계\n",
        "* convolution과의 차이점은 parameter가 없고 determinstic하다는 것\n",
        "* 출력에 대한 불변성으로 max pooling을 보통 더 선호\n",
        "* padding, stride를 조정 -> 원하는 출력 형태\n",
        "* 기본적으로 pooling window와 stride는 동일하지만 수동 조정할 수 있음\n",
        "* pooling layer는 입력의 각 채널을 독립적으로 적용 => 입력 채널 수 = 출력 채널 수\n",
        "* 해상도 감소의 역할"
      ],
      "metadata": {
        "id": "RkKlaq1hrXtj"
      }
    },
    {
      "cell_type": "markdown",
      "source": [
        "## 7.6. Convolutional Neural Networks (LeNet)"
      ],
      "metadata": {
        "id": "LcdMvLeKrcNk"
      }
    },
    {
      "cell_type": "code",
      "source": [
        "import torch\n",
        "from torch import nn\n",
        "from d2l import torch as d2l"
      ],
      "metadata": {
        "id": "WyRQW1K69VYk"
      },
      "execution_count": 37,
      "outputs": []
    },
    {
      "cell_type": "markdown",
      "source": [
        "### 7.6.1. LeNet\n",
        "\n",
        "대략적으로 LeNet(LeNet-5)은 두 부분으로 구성.\n",
        "1. 두 개의 컨볼루션 레이어로 구성된 컨볼루션 인코더,\n",
        "2. 3개의 완전히 연결된 레이어로 구성된 조밀한 블록\n",
        "\n",
        "[컨볼루션 블록]\n",
        "\n",
        "* 각 컨볼루션 블록은 컨볼루션 레이어, 시그모이드 활성화 함수, 그리고 이후의 평균 풀링 연산으로 구성\n",
        "* 첫 번째 컨볼루션 레이어는 6개의 출력 채널을 가지며, 두 번째는 16개.\n",
        "* 각 풀링 연산은 차원을 절반으로 줄인다.\n",
        "\n",
        "[밀집 블록]\n",
        "\n",
        "* Flattening: 컨볼루션 블록의 출력을 밀집 블록에 전달하기 위해, 4차원 입력을 2차원 입력으로 변환.\n",
        "* 밀집 블록은 120, 84, 10개의 출력을 가지는 세 개의 완전 연결 레이어로 구성됩니다.\n",
        "\n",
        "\n"
      ],
      "metadata": {
        "id": "lp1yV7f29Spl"
      }
    },
    {
      "cell_type": "code",
      "source": [
        "def init_cnn(module):\n",
        "    \"\"\"Initialize weights for CNNs.\"\"\"\n",
        "    if type(module) == nn.Linear or type(module) == nn.Conv2d:\n",
        "        nn.init.xavier_uniform_(module.weight) #가중치 초기화\n",
        "\n",
        "class LeNet(d2l.Classifier):\n",
        "    \"\"\"The LeNet-5 model.\"\"\"\n",
        "    def __init__(self, lr=0.1, num_classes=10):\n",
        "        super().__init__()\n",
        "        self.save_hyperparameters()\n",
        "        self.net = nn.Sequential( #레이어 연결\n",
        "            nn.LazyConv2d(6, kernel_size=5, padding=2), nn.Sigmoid(),\n",
        "            nn.AvgPool2d(kernel_size=2, stride=2),\n",
        "            nn.LazyConv2d(16, kernel_size=5), nn.Sigmoid(),\n",
        "            nn.AvgPool2d(kernel_size=2, stride=2),\n",
        "            nn.Flatten(),\n",
        "            nn.LazyLinear(120), nn.Sigmoid(),\n",
        "            nn.LazyLinear(84), nn.Sigmoid(),\n",
        "            nn.LazyLinear(num_classes))"
      ],
      "metadata": {
        "id": "fYTmUbh89Y4x"
      },
      "execution_count": 38,
      "outputs": []
    },
    {
      "cell_type": "code",
      "source": [
        "@d2l.add_to_class(d2l.Classifier)\n",
        "def layer_summary(self, X_shape):\n",
        "    X = torch.randn(*X_shape)\n",
        "    for layer in self.net:\n",
        "        X = layer(X)\n",
        "        print(layer.__class__.__name__, 'output shape:\\t', X.shape)\n",
        "\n",
        "model = LeNet()\n",
        "model.layer_summary((1, 1, 28, 28))"
      ],
      "metadata": {
        "id": "kB_LSMqX9eJz",
        "colab": {
          "base_uri": "https://localhost:8080/"
        },
        "outputId": "fe78c8c6-37af-43e7-9989-13787c4036a5"
      },
      "execution_count": 39,
      "outputs": [
        {
          "output_type": "stream",
          "name": "stdout",
          "text": [
            "Conv2d output shape:\t torch.Size([1, 6, 28, 28])\n",
            "Sigmoid output shape:\t torch.Size([1, 6, 28, 28])\n",
            "AvgPool2d output shape:\t torch.Size([1, 6, 14, 14])\n",
            "Conv2d output shape:\t torch.Size([1, 16, 10, 10])\n",
            "Sigmoid output shape:\t torch.Size([1, 16, 10, 10])\n",
            "AvgPool2d output shape:\t torch.Size([1, 16, 5, 5])\n",
            "Flatten output shape:\t torch.Size([1, 400])\n",
            "Linear output shape:\t torch.Size([1, 120])\n",
            "Sigmoid output shape:\t torch.Size([1, 120])\n",
            "Linear output shape:\t torch.Size([1, 84])\n",
            "Sigmoid output shape:\t torch.Size([1, 84])\n",
            "Linear output shape:\t torch.Size([1, 10])\n"
          ]
        }
      ]
    },
    {
      "cell_type": "markdown",
      "source": [
        "결과해석)\n",
        "* 차원: 각 레이어에서 높이와 너비는 이전 레이어에 비해 감소하며, 첫 번째 컨볼루션 레이어는 2픽셀의 패딩을 사용하여 차원의 감소를 보완. 두 번째 컨볼루션 레이어는 패딩 없이 4픽셀 감소.\n",
        "* 채널 수: 입력의 채널 수는 1에서 6, 16으로 증가, 각 풀링 레이어는 높이와 너비를 절반으로 줄인다.\n",
        "\n",
        "결과 자세한 분석)\n",
        "1. Conv2d (1, 6, 28, 28):\n",
        "    - 입력 이미지의 크기: (1, 1, 28, 28) (배치 크기, 채널, 높이, 너비)\n",
        "    - 첫 번째 합성곱 레이어에서 6개의 필터를 사용하여 출력이 (1, 6, 28, 28)로 유지됩니다.\n",
        "    - 필터 크기: 5x5, 패딩: 2로 설정되어 있어 출력 사이즈가 입력 사이즈와 동일하게 유지됩니다.\n",
        "2. Sigmoid (1, 6, 28, 28):\n",
        "    - 활성화 함수로 Sigmoid를 사용하며, 출력 모양은 Conv2d 레이어와 같습니다.\n",
        "3. AvgPool2d (1, 6, 14, 14):\n",
        "    - 평균 풀링 레이어가 2x2 커널과 stride 2를 사용하여 출력 크기를 절반으로 줄입니다.\n",
        "    - 결과적으로 출력 모양은 (1, 6, 14, 14)입니다.\n",
        "4. Conv2d (1, 16, 10, 10):\n",
        "    - 두 번째 합성곱 레이어에서 16개의 필터를 사용하여 출력 크기가 (1, 16, 10, 10)으로 줄어듭니다.\n",
        "    - 필터 크기: 5x5, 패딩이 없으므로 높이와 너비가 각각 5씩 줄어듭니다.\n",
        "5. Sigmoid (1, 16, 10, 10):\n",
        "    - 활성화 함수로 Sigmoid를 적용하여 출력 모양은 Conv2d 레이어와 동일합니다.\n",
        "6. AvgPool2d (1, 16, 5, 5):\n",
        "    - 두 번째 풀링 레이어 역시 2x2 커널과 stride 2를 사용하여 출력 크기를 다시 절반으로 줄입니다.\n",
        "    - 결과적으로 출력 모양은 (1, 16, 5, 5)입니다.\n",
        "7. Flatten (1, 400):\n",
        "    - 5x5 크기의 16개의 채널을 평탄화하여 1차원 벡터로 변환합니다.\n",
        "출력 모양은 (1, 400)입니다.\n",
        "8. Linear (1, 120):\n",
        "    - 첫 번째 완전 연결 레이어로, 400개의 입력을 받아 120개의 출력을 생성합니다.\n",
        "    - 출력 모양은 (1, 120)입니다.\n",
        "9. Sigmoid (1, 120):\n",
        "    - 활성화 함수인 Sigmoid를 적용하여 출력 모양은 Linear 레이어와 동일합니다.\n",
        "10. Linear (1, 84):\n",
        "    - 두 번째 완전 연결 레이어로, 120개의 입력을 받아 84개의 출력을 생성합니다.\n",
        "    - 출력 모양은 (1, 84)입니다.\n",
        "11. Sigmoid (1, 84):\n",
        "    - Sigmoid 활성화 함수 적용 후 출력 모양은 Linear 레이어와 같습니다.\n",
        "12. Linear (1, 10):\n",
        "    - 마지막 완전 연결 레이어로, 84개의 입력을 받아 10개의 클래스에 대한 출력을 생성합니다.\n",
        "    - 출력 모양은 (1, 10)으로, 각 클래스에 대한 예측 점수를 나타냅니다."
      ],
      "metadata": {
        "id": "siysrW9foFRE"
      }
    },
    {
      "cell_type": "markdown",
      "source": [
        "### 7.6.2. Training\n",
        "\n",
        "* CNN은 MLP보다 매개변수의 수가 적지만, 각 매개변수가 더 많은 곱셈에 참여하기 때문에 계산비용은 더 비쌀 수 있음"
      ],
      "metadata": {
        "id": "Te_vhxR99ghQ"
      }
    },
    {
      "cell_type": "code",
      "source": [
        "trainer = d2l.Trainer(max_epochs=10, num_gpus=1)\n",
        "data = d2l.FashionMNIST(batch_size=128)\n",
        "model = LeNet(lr=0.1)\n",
        "model.apply_init([next(iter(data.get_dataloader(True)))[0]], init_cnn)\n",
        "trainer.fit(model, data)"
      ],
      "metadata": {
        "id": "uV6cUcat9jKJ",
        "colab": {
          "base_uri": "https://localhost:8080/",
          "height": 265
        },
        "outputId": "21320f32-123f-46a0-8d6b-e435c58b6dd2"
      },
      "execution_count": 40,
      "outputs": [
        {
          "output_type": "display_data",
          "data": {
            "text/plain": [
              "<Figure size 350x250 with 1 Axes>"
            ],
            "image/svg+xml": "<?xml version=\"1.0\" encoding=\"utf-8\" standalone=\"no\"?>\n<!DOCTYPE svg PUBLIC \"-//W3C//DTD SVG 1.1//EN\"\n  \"http://www.w3.org/Graphics/SVG/1.1/DTD/svg11.dtd\">\n<svg xmlns:xlink=\"http://www.w3.org/1999/xlink\" width=\"238.965625pt\" height=\"183.35625pt\" viewBox=\"0 0 238.965625 183.35625\" xmlns=\"http://www.w3.org/2000/svg\" version=\"1.1\">\n <metadata>\n  <rdf:RDF xmlns:dc=\"http://purl.org/dc/elements/1.1/\" xmlns:cc=\"http://creativecommons.org/ns#\" xmlns:rdf=\"http://www.w3.org/1999/02/22-rdf-syntax-ns#\">\n   <cc:Work>\n    <dc:type rdf:resource=\"http://purl.org/dc/dcmitype/StillImage\"/>\n    <dc:date>2024-10-10T07:43:08.320845</dc:date>\n    <dc:format>image/svg+xml</dc:format>\n    <dc:creator>\n     <cc:Agent>\n      <dc:title>Matplotlib v3.7.2, https://matplotlib.org/</dc:title>\n     </cc:Agent>\n    </dc:creator>\n   </cc:Work>\n  </rdf:RDF>\n </metadata>\n <defs>\n  <style type=\"text/css\">*{stroke-linejoin: round; stroke-linecap: butt}</style>\n </defs>\n <g id=\"figure_1\">\n  <g id=\"patch_1\">\n   <path d=\"M 0 183.35625 \nL 238.965625 183.35625 \nL 238.965625 0 \nL 0 0 \nz\n\" style=\"fill: #ffffff\"/>\n  </g>\n  <g id=\"axes_1\">\n   <g id=\"patch_2\">\n    <path d=\"M 30.103125 145.8 \nL 225.403125 145.8 \nL 225.403125 7.2 \nL 30.103125 7.2 \nz\n\" style=\"fill: #ffffff\"/>\n   </g>\n   <g id=\"matplotlib.axis_1\">\n    <g id=\"xtick_1\">\n     <g id=\"line2d_1\">\n      <defs>\n       <path id=\"mf9c58f52fa\" d=\"M 0 0 \nL 0 3.5 \n\" style=\"stroke: #000000; stroke-width: 0.8\"/>\n      </defs>\n      <g>\n       <use xlink:href=\"#mf9c58f52fa\" x=\"30.103125\" y=\"145.8\" style=\"stroke: #000000; stroke-width: 0.8\"/>\n      </g>\n     </g>\n     <g id=\"text_1\">\n      <!-- 0 -->\n      <g transform=\"translate(26.921875 160.398438) scale(0.1 -0.1)\">\n       <defs>\n        <path id=\"DejaVuSans-30\" d=\"M 2034 4250 \nQ 1547 4250 1301 3770 \nQ 1056 3291 1056 2328 \nQ 1056 1369 1301 889 \nQ 1547 409 2034 409 \nQ 2525 409 2770 889 \nQ 3016 1369 3016 2328 \nQ 3016 3291 2770 3770 \nQ 2525 4250 2034 4250 \nz\nM 2034 4750 \nQ 2819 4750 3233 4129 \nQ 3647 3509 3647 2328 \nQ 3647 1150 3233 529 \nQ 2819 -91 2034 -91 \nQ 1250 -91 836 529 \nQ 422 1150 422 2328 \nQ 422 3509 836 4129 \nQ 1250 4750 2034 4750 \nz\n\" transform=\"scale(0.015625)\"/>\n       </defs>\n       <use xlink:href=\"#DejaVuSans-30\"/>\n      </g>\n     </g>\n    </g>\n    <g id=\"xtick_2\">\n     <g id=\"line2d_2\">\n      <g>\n       <use xlink:href=\"#mf9c58f52fa\" x=\"69.163125\" y=\"145.8\" style=\"stroke: #000000; stroke-width: 0.8\"/>\n      </g>\n     </g>\n     <g id=\"text_2\">\n      <!-- 2 -->\n      <g transform=\"translate(65.981875 160.398438) scale(0.1 -0.1)\">\n       <defs>\n        <path id=\"DejaVuSans-32\" d=\"M 1228 531 \nL 3431 531 \nL 3431 0 \nL 469 0 \nL 469 531 \nQ 828 903 1448 1529 \nQ 2069 2156 2228 2338 \nQ 2531 2678 2651 2914 \nQ 2772 3150 2772 3378 \nQ 2772 3750 2511 3984 \nQ 2250 4219 1831 4219 \nQ 1534 4219 1204 4116 \nQ 875 4013 500 3803 \nL 500 4441 \nQ 881 4594 1212 4672 \nQ 1544 4750 1819 4750 \nQ 2544 4750 2975 4387 \nQ 3406 4025 3406 3419 \nQ 3406 3131 3298 2873 \nQ 3191 2616 2906 2266 \nQ 2828 2175 2409 1742 \nQ 1991 1309 1228 531 \nz\n\" transform=\"scale(0.015625)\"/>\n       </defs>\n       <use xlink:href=\"#DejaVuSans-32\"/>\n      </g>\n     </g>\n    </g>\n    <g id=\"xtick_3\">\n     <g id=\"line2d_3\">\n      <g>\n       <use xlink:href=\"#mf9c58f52fa\" x=\"108.223125\" y=\"145.8\" style=\"stroke: #000000; stroke-width: 0.8\"/>\n      </g>\n     </g>\n     <g id=\"text_3\">\n      <!-- 4 -->\n      <g transform=\"translate(105.041875 160.398438) scale(0.1 -0.1)\">\n       <defs>\n        <path id=\"DejaVuSans-34\" d=\"M 2419 4116 \nL 825 1625 \nL 2419 1625 \nL 2419 4116 \nz\nM 2253 4666 \nL 3047 4666 \nL 3047 1625 \nL 3713 1625 \nL 3713 1100 \nL 3047 1100 \nL 3047 0 \nL 2419 0 \nL 2419 1100 \nL 313 1100 \nL 313 1709 \nL 2253 4666 \nz\n\" transform=\"scale(0.015625)\"/>\n       </defs>\n       <use xlink:href=\"#DejaVuSans-34\"/>\n      </g>\n     </g>\n    </g>\n    <g id=\"xtick_4\">\n     <g id=\"line2d_4\">\n      <g>\n       <use xlink:href=\"#mf9c58f52fa\" x=\"147.283125\" y=\"145.8\" style=\"stroke: #000000; stroke-width: 0.8\"/>\n      </g>\n     </g>\n     <g id=\"text_4\">\n      <!-- 6 -->\n      <g transform=\"translate(144.101875 160.398438) scale(0.1 -0.1)\">\n       <defs>\n        <path id=\"DejaVuSans-36\" d=\"M 2113 2584 \nQ 1688 2584 1439 2293 \nQ 1191 2003 1191 1497 \nQ 1191 994 1439 701 \nQ 1688 409 2113 409 \nQ 2538 409 2786 701 \nQ 3034 994 3034 1497 \nQ 3034 2003 2786 2293 \nQ 2538 2584 2113 2584 \nz\nM 3366 4563 \nL 3366 3988 \nQ 3128 4100 2886 4159 \nQ 2644 4219 2406 4219 \nQ 1781 4219 1451 3797 \nQ 1122 3375 1075 2522 \nQ 1259 2794 1537 2939 \nQ 1816 3084 2150 3084 \nQ 2853 3084 3261 2657 \nQ 3669 2231 3669 1497 \nQ 3669 778 3244 343 \nQ 2819 -91 2113 -91 \nQ 1303 -91 875 529 \nQ 447 1150 447 2328 \nQ 447 3434 972 4092 \nQ 1497 4750 2381 4750 \nQ 2619 4750 2861 4703 \nQ 3103 4656 3366 4563 \nz\n\" transform=\"scale(0.015625)\"/>\n       </defs>\n       <use xlink:href=\"#DejaVuSans-36\"/>\n      </g>\n     </g>\n    </g>\n    <g id=\"xtick_5\">\n     <g id=\"line2d_5\">\n      <g>\n       <use xlink:href=\"#mf9c58f52fa\" x=\"186.343125\" y=\"145.8\" style=\"stroke: #000000; stroke-width: 0.8\"/>\n      </g>\n     </g>\n     <g id=\"text_5\">\n      <!-- 8 -->\n      <g transform=\"translate(183.161875 160.398438) scale(0.1 -0.1)\">\n       <defs>\n        <path id=\"DejaVuSans-38\" d=\"M 2034 2216 \nQ 1584 2216 1326 1975 \nQ 1069 1734 1069 1313 \nQ 1069 891 1326 650 \nQ 1584 409 2034 409 \nQ 2484 409 2743 651 \nQ 3003 894 3003 1313 \nQ 3003 1734 2745 1975 \nQ 2488 2216 2034 2216 \nz\nM 1403 2484 \nQ 997 2584 770 2862 \nQ 544 3141 544 3541 \nQ 544 4100 942 4425 \nQ 1341 4750 2034 4750 \nQ 2731 4750 3128 4425 \nQ 3525 4100 3525 3541 \nQ 3525 3141 3298 2862 \nQ 3072 2584 2669 2484 \nQ 3125 2378 3379 2068 \nQ 3634 1759 3634 1313 \nQ 3634 634 3220 271 \nQ 2806 -91 2034 -91 \nQ 1263 -91 848 271 \nQ 434 634 434 1313 \nQ 434 1759 690 2068 \nQ 947 2378 1403 2484 \nz\nM 1172 3481 \nQ 1172 3119 1398 2916 \nQ 1625 2713 2034 2713 \nQ 2441 2713 2670 2916 \nQ 2900 3119 2900 3481 \nQ 2900 3844 2670 4047 \nQ 2441 4250 2034 4250 \nQ 1625 4250 1398 4047 \nQ 1172 3844 1172 3481 \nz\n\" transform=\"scale(0.015625)\"/>\n       </defs>\n       <use xlink:href=\"#DejaVuSans-38\"/>\n      </g>\n     </g>\n    </g>\n    <g id=\"xtick_6\">\n     <g id=\"line2d_6\">\n      <g>\n       <use xlink:href=\"#mf9c58f52fa\" x=\"225.403125\" y=\"145.8\" style=\"stroke: #000000; stroke-width: 0.8\"/>\n      </g>\n     </g>\n     <g id=\"text_6\">\n      <!-- 10 -->\n      <g transform=\"translate(219.040625 160.398438) scale(0.1 -0.1)\">\n       <defs>\n        <path id=\"DejaVuSans-31\" d=\"M 794 531 \nL 1825 531 \nL 1825 4091 \nL 703 3866 \nL 703 4441 \nL 1819 4666 \nL 2450 4666 \nL 2450 531 \nL 3481 531 \nL 3481 0 \nL 794 0 \nL 794 531 \nz\n\" transform=\"scale(0.015625)\"/>\n       </defs>\n       <use xlink:href=\"#DejaVuSans-31\"/>\n       <use xlink:href=\"#DejaVuSans-30\" x=\"63.623047\"/>\n      </g>\n     </g>\n    </g>\n    <g id=\"text_7\">\n     <!-- epoch -->\n     <g transform=\"translate(112.525 174.076563) scale(0.1 -0.1)\">\n      <defs>\n       <path id=\"DejaVuSans-65\" d=\"M 3597 1894 \nL 3597 1613 \nL 953 1613 \nQ 991 1019 1311 708 \nQ 1631 397 2203 397 \nQ 2534 397 2845 478 \nQ 3156 559 3463 722 \nL 3463 178 \nQ 3153 47 2828 -22 \nQ 2503 -91 2169 -91 \nQ 1331 -91 842 396 \nQ 353 884 353 1716 \nQ 353 2575 817 3079 \nQ 1281 3584 2069 3584 \nQ 2775 3584 3186 3129 \nQ 3597 2675 3597 1894 \nz\nM 3022 2063 \nQ 3016 2534 2758 2815 \nQ 2500 3097 2075 3097 \nQ 1594 3097 1305 2825 \nQ 1016 2553 972 2059 \nL 3022 2063 \nz\n\" transform=\"scale(0.015625)\"/>\n       <path id=\"DejaVuSans-70\" d=\"M 1159 525 \nL 1159 -1331 \nL 581 -1331 \nL 581 3500 \nL 1159 3500 \nL 1159 2969 \nQ 1341 3281 1617 3432 \nQ 1894 3584 2278 3584 \nQ 2916 3584 3314 3078 \nQ 3713 2572 3713 1747 \nQ 3713 922 3314 415 \nQ 2916 -91 2278 -91 \nQ 1894 -91 1617 61 \nQ 1341 213 1159 525 \nz\nM 3116 1747 \nQ 3116 2381 2855 2742 \nQ 2594 3103 2138 3103 \nQ 1681 3103 1420 2742 \nQ 1159 2381 1159 1747 \nQ 1159 1113 1420 752 \nQ 1681 391 2138 391 \nQ 2594 391 2855 752 \nQ 3116 1113 3116 1747 \nz\n\" transform=\"scale(0.015625)\"/>\n       <path id=\"DejaVuSans-6f\" d=\"M 1959 3097 \nQ 1497 3097 1228 2736 \nQ 959 2375 959 1747 \nQ 959 1119 1226 758 \nQ 1494 397 1959 397 \nQ 2419 397 2687 759 \nQ 2956 1122 2956 1747 \nQ 2956 2369 2687 2733 \nQ 2419 3097 1959 3097 \nz\nM 1959 3584 \nQ 2709 3584 3137 3096 \nQ 3566 2609 3566 1747 \nQ 3566 888 3137 398 \nQ 2709 -91 1959 -91 \nQ 1206 -91 779 398 \nQ 353 888 353 1747 \nQ 353 2609 779 3096 \nQ 1206 3584 1959 3584 \nz\n\" transform=\"scale(0.015625)\"/>\n       <path id=\"DejaVuSans-63\" d=\"M 3122 3366 \nL 3122 2828 \nQ 2878 2963 2633 3030 \nQ 2388 3097 2138 3097 \nQ 1578 3097 1268 2742 \nQ 959 2388 959 1747 \nQ 959 1106 1268 751 \nQ 1578 397 2138 397 \nQ 2388 397 2633 464 \nQ 2878 531 3122 666 \nL 3122 134 \nQ 2881 22 2623 -34 \nQ 2366 -91 2075 -91 \nQ 1284 -91 818 406 \nQ 353 903 353 1747 \nQ 353 2603 823 3093 \nQ 1294 3584 2113 3584 \nQ 2378 3584 2631 3529 \nQ 2884 3475 3122 3366 \nz\n\" transform=\"scale(0.015625)\"/>\n       <path id=\"DejaVuSans-68\" d=\"M 3513 2113 \nL 3513 0 \nL 2938 0 \nL 2938 2094 \nQ 2938 2591 2744 2837 \nQ 2550 3084 2163 3084 \nQ 1697 3084 1428 2787 \nQ 1159 2491 1159 1978 \nL 1159 0 \nL 581 0 \nL 581 4863 \nL 1159 4863 \nL 1159 2956 \nQ 1366 3272 1645 3428 \nQ 1925 3584 2291 3584 \nQ 2894 3584 3203 3211 \nQ 3513 2838 3513 2113 \nz\n\" transform=\"scale(0.015625)\"/>\n      </defs>\n      <use xlink:href=\"#DejaVuSans-65\"/>\n      <use xlink:href=\"#DejaVuSans-70\" x=\"61.523438\"/>\n      <use xlink:href=\"#DejaVuSans-6f\" x=\"125\"/>\n      <use xlink:href=\"#DejaVuSans-63\" x=\"186.181641\"/>\n      <use xlink:href=\"#DejaVuSans-68\" x=\"241.162109\"/>\n     </g>\n    </g>\n   </g>\n   <g id=\"matplotlib.axis_2\">\n    <g id=\"ytick_1\">\n     <g id=\"line2d_7\">\n      <defs>\n       <path id=\"m49e1211544\" d=\"M 0 0 \nL -3.5 0 \n\" style=\"stroke: #000000; stroke-width: 0.8\"/>\n      </defs>\n      <g>\n       <use xlink:href=\"#m49e1211544\" x=\"30.103125\" y=\"145.1791\" style=\"stroke: #000000; stroke-width: 0.8\"/>\n      </g>\n     </g>\n     <g id=\"text_8\">\n      <!-- 0.0 -->\n      <g transform=\"translate(7.2 148.978319) scale(0.1 -0.1)\">\n       <defs>\n        <path id=\"DejaVuSans-2e\" d=\"M 684 794 \nL 1344 794 \nL 1344 0 \nL 684 0 \nL 684 794 \nz\n\" transform=\"scale(0.015625)\"/>\n       </defs>\n       <use xlink:href=\"#DejaVuSans-30\"/>\n       <use xlink:href=\"#DejaVuSans-2e\" x=\"63.623047\"/>\n       <use xlink:href=\"#DejaVuSans-30\" x=\"95.410156\"/>\n      </g>\n     </g>\n    </g>\n    <g id=\"ytick_2\">\n     <g id=\"line2d_8\">\n      <g>\n       <use xlink:href=\"#m49e1211544\" x=\"30.103125\" y=\"116.665166\" style=\"stroke: #000000; stroke-width: 0.8\"/>\n      </g>\n     </g>\n     <g id=\"text_9\">\n      <!-- 0.5 -->\n      <g transform=\"translate(7.2 120.464385) scale(0.1 -0.1)\">\n       <defs>\n        <path id=\"DejaVuSans-35\" d=\"M 691 4666 \nL 3169 4666 \nL 3169 4134 \nL 1269 4134 \nL 1269 2991 \nQ 1406 3038 1543 3061 \nQ 1681 3084 1819 3084 \nQ 2600 3084 3056 2656 \nQ 3513 2228 3513 1497 \nQ 3513 744 3044 326 \nQ 2575 -91 1722 -91 \nQ 1428 -91 1123 -41 \nQ 819 9 494 109 \nL 494 744 \nQ 775 591 1075 516 \nQ 1375 441 1709 441 \nQ 2250 441 2565 725 \nQ 2881 1009 2881 1497 \nQ 2881 1984 2565 2268 \nQ 2250 2553 1709 2553 \nQ 1456 2553 1204 2497 \nQ 953 2441 691 2322 \nL 691 4666 \nz\n\" transform=\"scale(0.015625)\"/>\n       </defs>\n       <use xlink:href=\"#DejaVuSans-30\"/>\n       <use xlink:href=\"#DejaVuSans-2e\" x=\"63.623047\"/>\n       <use xlink:href=\"#DejaVuSans-35\" x=\"95.410156\"/>\n      </g>\n     </g>\n    </g>\n    <g id=\"ytick_3\">\n     <g id=\"line2d_9\">\n      <g>\n       <use xlink:href=\"#m49e1211544\" x=\"30.103125\" y=\"88.151232\" style=\"stroke: #000000; stroke-width: 0.8\"/>\n      </g>\n     </g>\n     <g id=\"text_10\">\n      <!-- 1.0 -->\n      <g transform=\"translate(7.2 91.95045) scale(0.1 -0.1)\">\n       <use xlink:href=\"#DejaVuSans-31\"/>\n       <use xlink:href=\"#DejaVuSans-2e\" x=\"63.623047\"/>\n       <use xlink:href=\"#DejaVuSans-30\" x=\"95.410156\"/>\n      </g>\n     </g>\n    </g>\n    <g id=\"ytick_4\">\n     <g id=\"line2d_10\">\n      <g>\n       <use xlink:href=\"#m49e1211544\" x=\"30.103125\" y=\"59.637297\" style=\"stroke: #000000; stroke-width: 0.8\"/>\n      </g>\n     </g>\n     <g id=\"text_11\">\n      <!-- 1.5 -->\n      <g transform=\"translate(7.2 63.436516) scale(0.1 -0.1)\">\n       <use xlink:href=\"#DejaVuSans-31\"/>\n       <use xlink:href=\"#DejaVuSans-2e\" x=\"63.623047\"/>\n       <use xlink:href=\"#DejaVuSans-35\" x=\"95.410156\"/>\n      </g>\n     </g>\n    </g>\n    <g id=\"ytick_5\">\n     <g id=\"line2d_11\">\n      <g>\n       <use xlink:href=\"#m49e1211544\" x=\"30.103125\" y=\"31.123363\" style=\"stroke: #000000; stroke-width: 0.8\"/>\n      </g>\n     </g>\n     <g id=\"text_12\">\n      <!-- 2.0 -->\n      <g transform=\"translate(7.2 34.922581) scale(0.1 -0.1)\">\n       <use xlink:href=\"#DejaVuSans-32\"/>\n       <use xlink:href=\"#DejaVuSans-2e\" x=\"63.623047\"/>\n       <use xlink:href=\"#DejaVuSans-30\" x=\"95.410156\"/>\n      </g>\n     </g>\n    </g>\n   </g>\n   <g id=\"line2d_12\">\n    <path d=\"M 34.954394 13.5 \n\" clip-path=\"url(#p6462970c71)\" style=\"fill: none; stroke: #1f77b4; stroke-width: 1.5; stroke-linecap: square\"/>\n   </g>\n   <g id=\"line2d_13\">\n    <path d=\"M 34.954394 13.5 \nL 44.698573 13.641577 \n\" clip-path=\"url(#p6462970c71)\" style=\"fill: none; stroke: #1f77b4; stroke-width: 1.5; stroke-linecap: square\"/>\n   </g>\n   <g id=\"line2d_14\">\n    <path d=\"M 34.954394 13.5 \nL 44.698573 13.641577 \n\" clip-path=\"url(#p6462970c71)\" style=\"fill: none; stroke: #1f77b4; stroke-width: 1.5; stroke-linecap: square\"/>\n   </g>\n   <g id=\"line2d_15\">\n    <path d=\"M 49.633125 13.861646 \n\" clip-path=\"url(#p6462970c71)\" style=\"fill: none; stroke-dasharray: 5.55,2.4; stroke-dashoffset: 0; stroke: #ff7f0e; stroke-width: 1.5\"/>\n   </g>\n   <g id=\"line2d_16\"/>\n   <g id=\"line2d_17\">\n    <path d=\"M 34.954394 13.5 \nL 44.698573 13.641577 \n\" clip-path=\"url(#p6462970c71)\" style=\"fill: none; stroke: #1f77b4; stroke-width: 1.5; stroke-linecap: square\"/>\n   </g>\n   <g id=\"line2d_18\">\n    <path d=\"M 49.633125 13.861646 \n\" clip-path=\"url(#p6462970c71)\" style=\"fill: none; stroke-dasharray: 5.55,2.4; stroke-dashoffset: 0; stroke: #ff7f0e; stroke-width: 1.5\"/>\n   </g>\n   <g id=\"line2d_19\">\n    <path d=\"M 49.633125 139.421045 \n\" clip-path=\"url(#p6462970c71)\" style=\"fill: none; stroke-dasharray: 9.6,2.4,1.5,2.4; stroke-dashoffset: 0; stroke: #2ca02c; stroke-width: 1.5\"/>\n   </g>\n   <g id=\"line2d_20\">\n    <path d=\"M 34.954394 13.5 \nL 44.698573 13.641577 \nL 54.442752 13.818573 \n\" clip-path=\"url(#p6462970c71)\" style=\"fill: none; stroke: #1f77b4; stroke-width: 1.5; stroke-linecap: square\"/>\n   </g>\n   <g id=\"line2d_21\">\n    <path d=\"M 49.633125 13.861646 \n\" clip-path=\"url(#p6462970c71)\" style=\"fill: none; stroke-dasharray: 5.55,2.4; stroke-dashoffset: 0; stroke: #ff7f0e; stroke-width: 1.5\"/>\n   </g>\n   <g id=\"line2d_22\">\n    <path d=\"M 49.633125 139.421045 \n\" clip-path=\"url(#p6462970c71)\" style=\"fill: none; stroke-dasharray: 9.6,2.4,1.5,2.4; stroke-dashoffset: 0; stroke: #2ca02c; stroke-width: 1.5\"/>\n   </g>\n   <g id=\"line2d_23\">\n    <path d=\"M 34.954394 13.5 \nL 44.698573 13.641577 \nL 54.442752 13.818573 \nL 64.186931 14.284851 \n\" clip-path=\"url(#p6462970c71)\" style=\"fill: none; stroke: #1f77b4; stroke-width: 1.5; stroke-linecap: square\"/>\n   </g>\n   <g id=\"line2d_24\">\n    <path d=\"M 49.633125 13.861646 \n\" clip-path=\"url(#p6462970c71)\" style=\"fill: none; stroke-dasharray: 5.55,2.4; stroke-dashoffset: 0; stroke: #ff7f0e; stroke-width: 1.5\"/>\n   </g>\n   <g id=\"line2d_25\">\n    <path d=\"M 49.633125 139.421045 \n\" clip-path=\"url(#p6462970c71)\" style=\"fill: none; stroke-dasharray: 9.6,2.4,1.5,2.4; stroke-dashoffset: 0; stroke: #2ca02c; stroke-width: 1.5\"/>\n   </g>\n   <g id=\"line2d_26\">\n    <path d=\"M 34.954394 13.5 \nL 44.698573 13.641577 \nL 54.442752 13.818573 \nL 64.186931 14.284851 \n\" clip-path=\"url(#p6462970c71)\" style=\"fill: none; stroke: #1f77b4; stroke-width: 1.5; stroke-linecap: square\"/>\n   </g>\n   <g id=\"line2d_27\">\n    <path d=\"M 49.633125 13.861646 \nL 69.163125 14.974668 \n\" clip-path=\"url(#p6462970c71)\" style=\"fill: none; stroke-dasharray: 5.55,2.4; stroke-dashoffset: 0; stroke: #ff7f0e; stroke-width: 1.5\"/>\n   </g>\n   <g id=\"line2d_28\">\n    <path d=\"M 49.633125 139.421045 \n\" clip-path=\"url(#p6462970c71)\" style=\"fill: none; stroke-dasharray: 9.6,2.4,1.5,2.4; stroke-dashoffset: 0; stroke: #2ca02c; stroke-width: 1.5\"/>\n   </g>\n   <g id=\"line2d_29\">\n    <path d=\"M 34.954394 13.5 \nL 44.698573 13.641577 \nL 54.442752 13.818573 \nL 64.186931 14.284851 \n\" clip-path=\"url(#p6462970c71)\" style=\"fill: none; stroke: #1f77b4; stroke-width: 1.5; stroke-linecap: square\"/>\n   </g>\n   <g id=\"line2d_30\">\n    <path d=\"M 49.633125 13.861646 \nL 69.163125 14.974668 \n\" clip-path=\"url(#p6462970c71)\" style=\"fill: none; stroke-dasharray: 5.55,2.4; stroke-dashoffset: 0; stroke: #ff7f0e; stroke-width: 1.5\"/>\n   </g>\n   <g id=\"line2d_31\">\n    <path d=\"M 49.633125 139.421045 \nL 69.163125 139.5 \n\" clip-path=\"url(#p6462970c71)\" style=\"fill: none; stroke-dasharray: 9.6,2.4,1.5,2.4; stroke-dashoffset: 0; stroke: #2ca02c; stroke-width: 1.5\"/>\n   </g>\n   <g id=\"line2d_32\">\n    <path d=\"M 34.954394 13.5 \nL 44.698573 13.641577 \nL 54.442752 13.818573 \nL 64.186931 14.284851 \nL 73.93111 18.521961 \n\" clip-path=\"url(#p6462970c71)\" style=\"fill: none; stroke: #1f77b4; stroke-width: 1.5; stroke-linecap: square\"/>\n   </g>\n   <g id=\"line2d_33\">\n    <path d=\"M 49.633125 13.861646 \nL 69.163125 14.974668 \n\" clip-path=\"url(#p6462970c71)\" style=\"fill: none; stroke-dasharray: 5.55,2.4; stroke-dashoffset: 0; stroke: #ff7f0e; stroke-width: 1.5\"/>\n   </g>\n   <g id=\"line2d_34\">\n    <path d=\"M 49.633125 139.421045 \nL 69.163125 139.5 \n\" clip-path=\"url(#p6462970c71)\" style=\"fill: none; stroke-dasharray: 9.6,2.4,1.5,2.4; stroke-dashoffset: 0; stroke: #2ca02c; stroke-width: 1.5\"/>\n   </g>\n   <g id=\"line2d_35\">\n    <path d=\"M 34.954394 13.5 \nL 44.698573 13.641577 \nL 54.442752 13.818573 \nL 64.186931 14.284851 \nL 73.93111 18.521961 \nL 83.675289 47.808341 \n\" clip-path=\"url(#p6462970c71)\" style=\"fill: none; stroke: #1f77b4; stroke-width: 1.5; stroke-linecap: square\"/>\n   </g>\n   <g id=\"line2d_36\">\n    <path d=\"M 49.633125 13.861646 \nL 69.163125 14.974668 \n\" clip-path=\"url(#p6462970c71)\" style=\"fill: none; stroke-dasharray: 5.55,2.4; stroke-dashoffset: 0; stroke: #ff7f0e; stroke-width: 1.5\"/>\n   </g>\n   <g id=\"line2d_37\">\n    <path d=\"M 49.633125 139.421045 \nL 69.163125 139.5 \n\" clip-path=\"url(#p6462970c71)\" style=\"fill: none; stroke-dasharray: 9.6,2.4,1.5,2.4; stroke-dashoffset: 0; stroke: #2ca02c; stroke-width: 1.5\"/>\n   </g>\n   <g id=\"line2d_38\">\n    <path d=\"M 34.954394 13.5 \nL 44.698573 13.641577 \nL 54.442752 13.818573 \nL 64.186931 14.284851 \nL 73.93111 18.521961 \nL 83.675289 47.808341 \n\" clip-path=\"url(#p6462970c71)\" style=\"fill: none; stroke: #1f77b4; stroke-width: 1.5; stroke-linecap: square\"/>\n   </g>\n   <g id=\"line2d_39\">\n    <path d=\"M 49.633125 13.861646 \nL 69.163125 14.974668 \nL 88.693125 65.924472 \n\" clip-path=\"url(#p6462970c71)\" style=\"fill: none; stroke-dasharray: 5.55,2.4; stroke-dashoffset: 0; stroke: #ff7f0e; stroke-width: 1.5\"/>\n   </g>\n   <g id=\"line2d_40\">\n    <path d=\"M 49.633125 139.421045 \nL 69.163125 139.5 \n\" clip-path=\"url(#p6462970c71)\" style=\"fill: none; stroke-dasharray: 9.6,2.4,1.5,2.4; stroke-dashoffset: 0; stroke: #2ca02c; stroke-width: 1.5\"/>\n   </g>\n   <g id=\"line2d_41\">\n    <path d=\"M 34.954394 13.5 \nL 44.698573 13.641577 \nL 54.442752 13.818573 \nL 64.186931 14.284851 \nL 73.93111 18.521961 \nL 83.675289 47.808341 \n\" clip-path=\"url(#p6462970c71)\" style=\"fill: none; stroke: #1f77b4; stroke-width: 1.5; stroke-linecap: square\"/>\n   </g>\n   <g id=\"line2d_42\">\n    <path d=\"M 49.633125 13.861646 \nL 69.163125 14.974668 \nL 88.693125 65.924472 \n\" clip-path=\"url(#p6462970c71)\" style=\"fill: none; stroke-dasharray: 5.55,2.4; stroke-dashoffset: 0; stroke: #ff7f0e; stroke-width: 1.5\"/>\n   </g>\n   <g id=\"line2d_43\">\n    <path d=\"M 49.633125 139.421045 \nL 69.163125 139.5 \nL 88.693125 116.428302 \n\" clip-path=\"url(#p6462970c71)\" style=\"fill: none; stroke-dasharray: 9.6,2.4,1.5,2.4; stroke-dashoffset: 0; stroke: #2ca02c; stroke-width: 1.5\"/>\n   </g>\n   <g id=\"line2d_44\">\n    <path d=\"M 34.954394 13.5 \nL 44.698573 13.641577 \nL 54.442752 13.818573 \nL 64.186931 14.284851 \nL 73.93111 18.521961 \nL 83.675289 47.808341 \nL 93.419468 73.100755 \n\" clip-path=\"url(#p6462970c71)\" style=\"fill: none; stroke: #1f77b4; stroke-width: 1.5; stroke-linecap: square\"/>\n   </g>\n   <g id=\"line2d_45\">\n    <path d=\"M 49.633125 13.861646 \nL 69.163125 14.974668 \nL 88.693125 65.924472 \n\" clip-path=\"url(#p6462970c71)\" style=\"fill: none; stroke-dasharray: 5.55,2.4; stroke-dashoffset: 0; stroke: #ff7f0e; stroke-width: 1.5\"/>\n   </g>\n   <g id=\"line2d_46\">\n    <path d=\"M 49.633125 139.421045 \nL 69.163125 139.5 \nL 88.693125 116.428302 \n\" clip-path=\"url(#p6462970c71)\" style=\"fill: none; stroke-dasharray: 9.6,2.4,1.5,2.4; stroke-dashoffset: 0; stroke: #2ca02c; stroke-width: 1.5\"/>\n   </g>\n   <g id=\"line2d_47\">\n    <path d=\"M 34.954394 13.5 \nL 44.698573 13.641577 \nL 54.442752 13.818573 \nL 64.186931 14.284851 \nL 73.93111 18.521961 \nL 83.675289 47.808341 \nL 93.419468 73.100755 \nL 103.163647 81.871926 \n\" clip-path=\"url(#p6462970c71)\" style=\"fill: none; stroke: #1f77b4; stroke-width: 1.5; stroke-linecap: square\"/>\n   </g>\n   <g id=\"line2d_48\">\n    <path d=\"M 49.633125 13.861646 \nL 69.163125 14.974668 \nL 88.693125 65.924472 \n\" clip-path=\"url(#p6462970c71)\" style=\"fill: none; stroke-dasharray: 5.55,2.4; stroke-dashoffset: 0; stroke: #ff7f0e; stroke-width: 1.5\"/>\n   </g>\n   <g id=\"line2d_49\">\n    <path d=\"M 49.633125 139.421045 \nL 69.163125 139.5 \nL 88.693125 116.428302 \n\" clip-path=\"url(#p6462970c71)\" style=\"fill: none; stroke-dasharray: 9.6,2.4,1.5,2.4; stroke-dashoffset: 0; stroke: #2ca02c; stroke-width: 1.5\"/>\n   </g>\n   <g id=\"line2d_50\">\n    <path d=\"M 34.954394 13.5 \nL 44.698573 13.641577 \nL 54.442752 13.818573 \nL 64.186931 14.284851 \nL 73.93111 18.521961 \nL 83.675289 47.808341 \nL 93.419468 73.100755 \nL 103.163647 81.871926 \n\" clip-path=\"url(#p6462970c71)\" style=\"fill: none; stroke: #1f77b4; stroke-width: 1.5; stroke-linecap: square\"/>\n   </g>\n   <g id=\"line2d_51\">\n    <path d=\"M 49.633125 13.861646 \nL 69.163125 14.974668 \nL 88.693125 65.924472 \nL 108.223125 84.433578 \n\" clip-path=\"url(#p6462970c71)\" style=\"fill: none; stroke-dasharray: 5.55,2.4; stroke-dashoffset: 0; stroke: #ff7f0e; stroke-width: 1.5\"/>\n   </g>\n   <g id=\"line2d_52\">\n    <path d=\"M 49.633125 139.421045 \nL 69.163125 139.5 \nL 88.693125 116.428302 \n\" clip-path=\"url(#p6462970c71)\" style=\"fill: none; stroke-dasharray: 9.6,2.4,1.5,2.4; stroke-dashoffset: 0; stroke: #2ca02c; stroke-width: 1.5\"/>\n   </g>\n   <g id=\"line2d_53\">\n    <path d=\"M 34.954394 13.5 \nL 44.698573 13.641577 \nL 54.442752 13.818573 \nL 64.186931 14.284851 \nL 73.93111 18.521961 \nL 83.675289 47.808341 \nL 93.419468 73.100755 \nL 103.163647 81.871926 \n\" clip-path=\"url(#p6462970c71)\" style=\"fill: none; stroke: #1f77b4; stroke-width: 1.5; stroke-linecap: square\"/>\n   </g>\n   <g id=\"line2d_54\">\n    <path d=\"M 49.633125 13.861646 \nL 69.163125 14.974668 \nL 88.693125 65.924472 \nL 108.223125 84.433578 \n\" clip-path=\"url(#p6462970c71)\" style=\"fill: none; stroke-dasharray: 5.55,2.4; stroke-dashoffset: 0; stroke: #ff7f0e; stroke-width: 1.5\"/>\n   </g>\n   <g id=\"line2d_55\">\n    <path d=\"M 49.633125 139.421045 \nL 69.163125 139.5 \nL 88.693125 116.428302 \nL 108.223125 112.339575 \n\" clip-path=\"url(#p6462970c71)\" style=\"fill: none; stroke-dasharray: 9.6,2.4,1.5,2.4; stroke-dashoffset: 0; stroke: #2ca02c; stroke-width: 1.5\"/>\n   </g>\n   <g id=\"line2d_56\">\n    <path d=\"M 34.954394 13.5 \nL 44.698573 13.641577 \nL 54.442752 13.818573 \nL 64.186931 14.284851 \nL 73.93111 18.521961 \nL 83.675289 47.808341 \nL 93.419468 73.100755 \nL 103.163647 81.871926 \nL 112.907826 86.227905 \n\" clip-path=\"url(#p6462970c71)\" style=\"fill: none; stroke: #1f77b4; stroke-width: 1.5; stroke-linecap: square\"/>\n   </g>\n   <g id=\"line2d_57\">\n    <path d=\"M 49.633125 13.861646 \nL 69.163125 14.974668 \nL 88.693125 65.924472 \nL 108.223125 84.433578 \n\" clip-path=\"url(#p6462970c71)\" style=\"fill: none; stroke-dasharray: 5.55,2.4; stroke-dashoffset: 0; stroke: #ff7f0e; stroke-width: 1.5\"/>\n   </g>\n   <g id=\"line2d_58\">\n    <path d=\"M 49.633125 139.421045 \nL 69.163125 139.5 \nL 88.693125 116.428302 \nL 108.223125 112.339575 \n\" clip-path=\"url(#p6462970c71)\" style=\"fill: none; stroke-dasharray: 9.6,2.4,1.5,2.4; stroke-dashoffset: 0; stroke: #2ca02c; stroke-width: 1.5\"/>\n   </g>\n   <g id=\"line2d_59\">\n    <path d=\"M 34.954394 13.5 \nL 44.698573 13.641577 \nL 54.442752 13.818573 \nL 64.186931 14.284851 \nL 73.93111 18.521961 \nL 83.675289 47.808341 \nL 93.419468 73.100755 \nL 103.163647 81.871926 \nL 112.907826 86.227905 \nL 122.652006 90.238861 \n\" clip-path=\"url(#p6462970c71)\" style=\"fill: none; stroke: #1f77b4; stroke-width: 1.5; stroke-linecap: square\"/>\n   </g>\n   <g id=\"line2d_60\">\n    <path d=\"M 49.633125 13.861646 \nL 69.163125 14.974668 \nL 88.693125 65.924472 \nL 108.223125 84.433578 \n\" clip-path=\"url(#p6462970c71)\" style=\"fill: none; stroke-dasharray: 5.55,2.4; stroke-dashoffset: 0; stroke: #ff7f0e; stroke-width: 1.5\"/>\n   </g>\n   <g id=\"line2d_61\">\n    <path d=\"M 49.633125 139.421045 \nL 69.163125 139.5 \nL 88.693125 116.428302 \nL 108.223125 112.339575 \n\" clip-path=\"url(#p6462970c71)\" style=\"fill: none; stroke-dasharray: 9.6,2.4,1.5,2.4; stroke-dashoffset: 0; stroke: #2ca02c; stroke-width: 1.5\"/>\n   </g>\n   <g id=\"line2d_62\">\n    <path d=\"M 34.954394 13.5 \nL 44.698573 13.641577 \nL 54.442752 13.818573 \nL 64.186931 14.284851 \nL 73.93111 18.521961 \nL 83.675289 47.808341 \nL 93.419468 73.100755 \nL 103.163647 81.871926 \nL 112.907826 86.227905 \nL 122.652006 90.238861 \n\" clip-path=\"url(#p6462970c71)\" style=\"fill: none; stroke: #1f77b4; stroke-width: 1.5; stroke-linecap: square\"/>\n   </g>\n   <g id=\"line2d_63\">\n    <path d=\"M 49.633125 13.861646 \nL 69.163125 14.974668 \nL 88.693125 65.924472 \nL 108.223125 84.433578 \nL 127.753125 91.679268 \n\" clip-path=\"url(#p6462970c71)\" style=\"fill: none; stroke-dasharray: 5.55,2.4; stroke-dashoffset: 0; stroke: #ff7f0e; stroke-width: 1.5\"/>\n   </g>\n   <g id=\"line2d_64\">\n    <path d=\"M 49.633125 139.421045 \nL 69.163125 139.5 \nL 88.693125 116.428302 \nL 108.223125 112.339575 \n\" clip-path=\"url(#p6462970c71)\" style=\"fill: none; stroke-dasharray: 9.6,2.4,1.5,2.4; stroke-dashoffset: 0; stroke: #2ca02c; stroke-width: 1.5\"/>\n   </g>\n   <g id=\"line2d_65\">\n    <path d=\"M 34.954394 13.5 \nL 44.698573 13.641577 \nL 54.442752 13.818573 \nL 64.186931 14.284851 \nL 73.93111 18.521961 \nL 83.675289 47.808341 \nL 93.419468 73.100755 \nL 103.163647 81.871926 \nL 112.907826 86.227905 \nL 122.652006 90.238861 \n\" clip-path=\"url(#p6462970c71)\" style=\"fill: none; stroke: #1f77b4; stroke-width: 1.5; stroke-linecap: square\"/>\n   </g>\n   <g id=\"line2d_66\">\n    <path d=\"M 49.633125 13.861646 \nL 69.163125 14.974668 \nL 88.693125 65.924472 \nL 108.223125 84.433578 \nL 127.753125 91.679268 \n\" clip-path=\"url(#p6462970c71)\" style=\"fill: none; stroke-dasharray: 5.55,2.4; stroke-dashoffset: 0; stroke: #ff7f0e; stroke-width: 1.5\"/>\n   </g>\n   <g id=\"line2d_67\">\n    <path d=\"M 49.633125 139.421045 \nL 69.163125 139.5 \nL 88.693125 116.428302 \nL 108.223125 112.339575 \nL 127.753125 108.871207 \n\" clip-path=\"url(#p6462970c71)\" style=\"fill: none; stroke-dasharray: 9.6,2.4,1.5,2.4; stroke-dashoffset: 0; stroke: #2ca02c; stroke-width: 1.5\"/>\n   </g>\n   <g id=\"line2d_68\">\n    <path d=\"M 34.954394 13.5 \nL 44.698573 13.641577 \nL 54.442752 13.818573 \nL 64.186931 14.284851 \nL 73.93111 18.521961 \nL 83.675289 47.808341 \nL 93.419468 73.100755 \nL 103.163647 81.871926 \nL 112.907826 86.227905 \nL 122.652006 90.238861 \nL 132.396185 93.093692 \n\" clip-path=\"url(#p6462970c71)\" style=\"fill: none; stroke: #1f77b4; stroke-width: 1.5; stroke-linecap: square\"/>\n   </g>\n   <g id=\"line2d_69\">\n    <path d=\"M 49.633125 13.861646 \nL 69.163125 14.974668 \nL 88.693125 65.924472 \nL 108.223125 84.433578 \nL 127.753125 91.679268 \n\" clip-path=\"url(#p6462970c71)\" style=\"fill: none; stroke-dasharray: 5.55,2.4; stroke-dashoffset: 0; stroke: #ff7f0e; stroke-width: 1.5\"/>\n   </g>\n   <g id=\"line2d_70\">\n    <path d=\"M 49.633125 139.421045 \nL 69.163125 139.5 \nL 88.693125 116.428302 \nL 108.223125 112.339575 \nL 127.753125 108.871207 \n\" clip-path=\"url(#p6462970c71)\" style=\"fill: none; stroke-dasharray: 9.6,2.4,1.5,2.4; stroke-dashoffset: 0; stroke: #2ca02c; stroke-width: 1.5\"/>\n   </g>\n   <g id=\"line2d_71\">\n    <path d=\"M 34.954394 13.5 \nL 44.698573 13.641577 \nL 54.442752 13.818573 \nL 64.186931 14.284851 \nL 73.93111 18.521961 \nL 83.675289 47.808341 \nL 93.419468 73.100755 \nL 103.163647 81.871926 \nL 112.907826 86.227905 \nL 122.652006 90.238861 \nL 132.396185 93.093692 \nL 142.140364 95.512417 \n\" clip-path=\"url(#p6462970c71)\" style=\"fill: none; stroke: #1f77b4; stroke-width: 1.5; stroke-linecap: square\"/>\n   </g>\n   <g id=\"line2d_72\">\n    <path d=\"M 49.633125 13.861646 \nL 69.163125 14.974668 \nL 88.693125 65.924472 \nL 108.223125 84.433578 \nL 127.753125 91.679268 \n\" clip-path=\"url(#p6462970c71)\" style=\"fill: none; stroke-dasharray: 5.55,2.4; stroke-dashoffset: 0; stroke: #ff7f0e; stroke-width: 1.5\"/>\n   </g>\n   <g id=\"line2d_73\">\n    <path d=\"M 49.633125 139.421045 \nL 69.163125 139.5 \nL 88.693125 116.428302 \nL 108.223125 112.339575 \nL 127.753125 108.871207 \n\" clip-path=\"url(#p6462970c71)\" style=\"fill: none; stroke-dasharray: 9.6,2.4,1.5,2.4; stroke-dashoffset: 0; stroke: #2ca02c; stroke-width: 1.5\"/>\n   </g>\n   <g id=\"line2d_74\">\n    <path d=\"M 34.954394 13.5 \nL 44.698573 13.641577 \nL 54.442752 13.818573 \nL 64.186931 14.284851 \nL 73.93111 18.521961 \nL 83.675289 47.808341 \nL 93.419468 73.100755 \nL 103.163647 81.871926 \nL 112.907826 86.227905 \nL 122.652006 90.238861 \nL 132.396185 93.093692 \nL 142.140364 95.512417 \n\" clip-path=\"url(#p6462970c71)\" style=\"fill: none; stroke: #1f77b4; stroke-width: 1.5; stroke-linecap: square\"/>\n   </g>\n   <g id=\"line2d_75\">\n    <path d=\"M 49.633125 13.861646 \nL 69.163125 14.974668 \nL 88.693125 65.924472 \nL 108.223125 84.433578 \nL 127.753125 91.679268 \nL 147.283125 95.639148 \n\" clip-path=\"url(#p6462970c71)\" style=\"fill: none; stroke-dasharray: 5.55,2.4; stroke-dashoffset: 0; stroke: #ff7f0e; stroke-width: 1.5\"/>\n   </g>\n   <g id=\"line2d_76\">\n    <path d=\"M 49.633125 139.421045 \nL 69.163125 139.5 \nL 88.693125 116.428302 \nL 108.223125 112.339575 \nL 127.753125 108.871207 \n\" clip-path=\"url(#p6462970c71)\" style=\"fill: none; stroke-dasharray: 9.6,2.4,1.5,2.4; stroke-dashoffset: 0; stroke: #2ca02c; stroke-width: 1.5\"/>\n   </g>\n   <g id=\"line2d_77\">\n    <path d=\"M 34.954394 13.5 \nL 44.698573 13.641577 \nL 54.442752 13.818573 \nL 64.186931 14.284851 \nL 73.93111 18.521961 \nL 83.675289 47.808341 \nL 93.419468 73.100755 \nL 103.163647 81.871926 \nL 112.907826 86.227905 \nL 122.652006 90.238861 \nL 132.396185 93.093692 \nL 142.140364 95.512417 \n\" clip-path=\"url(#p6462970c71)\" style=\"fill: none; stroke: #1f77b4; stroke-width: 1.5; stroke-linecap: square\"/>\n   </g>\n   <g id=\"line2d_78\">\n    <path d=\"M 49.633125 13.861646 \nL 69.163125 14.974668 \nL 88.693125 65.924472 \nL 108.223125 84.433578 \nL 127.753125 91.679268 \nL 147.283125 95.639148 \n\" clip-path=\"url(#p6462970c71)\" style=\"fill: none; stroke-dasharray: 5.55,2.4; stroke-dashoffset: 0; stroke: #ff7f0e; stroke-width: 1.5\"/>\n   </g>\n   <g id=\"line2d_79\">\n    <path d=\"M 49.633125 139.421045 \nL 69.163125 139.5 \nL 88.693125 116.428302 \nL 108.223125 112.339575 \nL 127.753125 108.871207 \nL 147.283125 106.58152 \n\" clip-path=\"url(#p6462970c71)\" style=\"fill: none; stroke-dasharray: 9.6,2.4,1.5,2.4; stroke-dashoffset: 0; stroke: #2ca02c; stroke-width: 1.5\"/>\n   </g>\n   <g id=\"line2d_80\">\n    <path d=\"M 34.954394 13.5 \nL 44.698573 13.641577 \nL 54.442752 13.818573 \nL 64.186931 14.284851 \nL 73.93111 18.521961 \nL 83.675289 47.808341 \nL 93.419468 73.100755 \nL 103.163647 81.871926 \nL 112.907826 86.227905 \nL 122.652006 90.238861 \nL 132.396185 93.093692 \nL 142.140364 95.512417 \nL 151.884543 96.909134 \n\" clip-path=\"url(#p6462970c71)\" style=\"fill: none; stroke: #1f77b4; stroke-width: 1.5; stroke-linecap: square\"/>\n   </g>\n   <g id=\"line2d_81\">\n    <path d=\"M 49.633125 13.861646 \nL 69.163125 14.974668 \nL 88.693125 65.924472 \nL 108.223125 84.433578 \nL 127.753125 91.679268 \nL 147.283125 95.639148 \n\" clip-path=\"url(#p6462970c71)\" style=\"fill: none; stroke-dasharray: 5.55,2.4; stroke-dashoffset: 0; stroke: #ff7f0e; stroke-width: 1.5\"/>\n   </g>\n   <g id=\"line2d_82\">\n    <path d=\"M 49.633125 139.421045 \nL 69.163125 139.5 \nL 88.693125 116.428302 \nL 108.223125 112.339575 \nL 127.753125 108.871207 \nL 147.283125 106.58152 \n\" clip-path=\"url(#p6462970c71)\" style=\"fill: none; stroke-dasharray: 9.6,2.4,1.5,2.4; stroke-dashoffset: 0; stroke: #2ca02c; stroke-width: 1.5\"/>\n   </g>\n   <g id=\"line2d_83\">\n    <path d=\"M 34.954394 13.5 \nL 44.698573 13.641577 \nL 54.442752 13.818573 \nL 64.186931 14.284851 \nL 73.93111 18.521961 \nL 83.675289 47.808341 \nL 93.419468 73.100755 \nL 103.163647 81.871926 \nL 112.907826 86.227905 \nL 122.652006 90.238861 \nL 132.396185 93.093692 \nL 142.140364 95.512417 \nL 151.884543 96.909134 \nL 161.628722 98.711708 \n\" clip-path=\"url(#p6462970c71)\" style=\"fill: none; stroke: #1f77b4; stroke-width: 1.5; stroke-linecap: square\"/>\n   </g>\n   <g id=\"line2d_84\">\n    <path d=\"M 49.633125 13.861646 \nL 69.163125 14.974668 \nL 88.693125 65.924472 \nL 108.223125 84.433578 \nL 127.753125 91.679268 \nL 147.283125 95.639148 \n\" clip-path=\"url(#p6462970c71)\" style=\"fill: none; stroke-dasharray: 5.55,2.4; stroke-dashoffset: 0; stroke: #ff7f0e; stroke-width: 1.5\"/>\n   </g>\n   <g id=\"line2d_85\">\n    <path d=\"M 49.633125 139.421045 \nL 69.163125 139.5 \nL 88.693125 116.428302 \nL 108.223125 112.339575 \nL 127.753125 108.871207 \nL 147.283125 106.58152 \n\" clip-path=\"url(#p6462970c71)\" style=\"fill: none; stroke-dasharray: 9.6,2.4,1.5,2.4; stroke-dashoffset: 0; stroke: #2ca02c; stroke-width: 1.5\"/>\n   </g>\n   <g id=\"line2d_86\">\n    <path d=\"M 34.954394 13.5 \nL 44.698573 13.641577 \nL 54.442752 13.818573 \nL 64.186931 14.284851 \nL 73.93111 18.521961 \nL 83.675289 47.808341 \nL 93.419468 73.100755 \nL 103.163647 81.871926 \nL 112.907826 86.227905 \nL 122.652006 90.238861 \nL 132.396185 93.093692 \nL 142.140364 95.512417 \nL 151.884543 96.909134 \nL 161.628722 98.711708 \n\" clip-path=\"url(#p6462970c71)\" style=\"fill: none; stroke: #1f77b4; stroke-width: 1.5; stroke-linecap: square\"/>\n   </g>\n   <g id=\"line2d_87\">\n    <path d=\"M 49.633125 13.861646 \nL 69.163125 14.974668 \nL 88.693125 65.924472 \nL 108.223125 84.433578 \nL 127.753125 91.679268 \nL 147.283125 95.639148 \nL 166.813125 98.875595 \n\" clip-path=\"url(#p6462970c71)\" style=\"fill: none; stroke-dasharray: 5.55,2.4; stroke-dashoffset: 0; stroke: #ff7f0e; stroke-width: 1.5\"/>\n   </g>\n   <g id=\"line2d_88\">\n    <path d=\"M 49.633125 139.421045 \nL 69.163125 139.5 \nL 88.693125 116.428302 \nL 108.223125 112.339575 \nL 127.753125 108.871207 \nL 147.283125 106.58152 \n\" clip-path=\"url(#p6462970c71)\" style=\"fill: none; stroke-dasharray: 9.6,2.4,1.5,2.4; stroke-dashoffset: 0; stroke: #2ca02c; stroke-width: 1.5\"/>\n   </g>\n   <g id=\"line2d_89\">\n    <path d=\"M 34.954394 13.5 \nL 44.698573 13.641577 \nL 54.442752 13.818573 \nL 64.186931 14.284851 \nL 73.93111 18.521961 \nL 83.675289 47.808341 \nL 93.419468 73.100755 \nL 103.163647 81.871926 \nL 112.907826 86.227905 \nL 122.652006 90.238861 \nL 132.396185 93.093692 \nL 142.140364 95.512417 \nL 151.884543 96.909134 \nL 161.628722 98.711708 \n\" clip-path=\"url(#p6462970c71)\" style=\"fill: none; stroke: #1f77b4; stroke-width: 1.5; stroke-linecap: square\"/>\n   </g>\n   <g id=\"line2d_90\">\n    <path d=\"M 49.633125 13.861646 \nL 69.163125 14.974668 \nL 88.693125 65.924472 \nL 108.223125 84.433578 \nL 127.753125 91.679268 \nL 147.283125 95.639148 \nL 166.813125 98.875595 \n\" clip-path=\"url(#p6462970c71)\" style=\"fill: none; stroke-dasharray: 5.55,2.4; stroke-dashoffset: 0; stroke: #ff7f0e; stroke-width: 1.5\"/>\n   </g>\n   <g id=\"line2d_91\">\n    <path d=\"M 49.633125 139.421045 \nL 69.163125 139.5 \nL 88.693125 116.428302 \nL 108.223125 112.339575 \nL 127.753125 108.871207 \nL 147.283125 106.58152 \nL 166.813125 104.951669 \n\" clip-path=\"url(#p6462970c71)\" style=\"fill: none; stroke-dasharray: 9.6,2.4,1.5,2.4; stroke-dashoffset: 0; stroke: #2ca02c; stroke-width: 1.5\"/>\n   </g>\n   <g id=\"line2d_92\">\n    <path d=\"M 34.954394 13.5 \nL 44.698573 13.641577 \nL 54.442752 13.818573 \nL 64.186931 14.284851 \nL 73.93111 18.521961 \nL 83.675289 47.808341 \nL 93.419468 73.100755 \nL 103.163647 81.871926 \nL 112.907826 86.227905 \nL 122.652006 90.238861 \nL 132.396185 93.093692 \nL 142.140364 95.512417 \nL 151.884543 96.909134 \nL 161.628722 98.711708 \nL 171.372901 100.341995 \n\" clip-path=\"url(#p6462970c71)\" style=\"fill: none; stroke: #1f77b4; stroke-width: 1.5; stroke-linecap: square\"/>\n   </g>\n   <g id=\"line2d_93\">\n    <path d=\"M 49.633125 13.861646 \nL 69.163125 14.974668 \nL 88.693125 65.924472 \nL 108.223125 84.433578 \nL 127.753125 91.679268 \nL 147.283125 95.639148 \nL 166.813125 98.875595 \n\" clip-path=\"url(#p6462970c71)\" style=\"fill: none; stroke-dasharray: 5.55,2.4; stroke-dashoffset: 0; stroke: #ff7f0e; stroke-width: 1.5\"/>\n   </g>\n   <g id=\"line2d_94\">\n    <path d=\"M 49.633125 139.421045 \nL 69.163125 139.5 \nL 88.693125 116.428302 \nL 108.223125 112.339575 \nL 127.753125 108.871207 \nL 147.283125 106.58152 \nL 166.813125 104.951669 \n\" clip-path=\"url(#p6462970c71)\" style=\"fill: none; stroke-dasharray: 9.6,2.4,1.5,2.4; stroke-dashoffset: 0; stroke: #2ca02c; stroke-width: 1.5\"/>\n   </g>\n   <g id=\"line2d_95\">\n    <path d=\"M 34.954394 13.5 \nL 44.698573 13.641577 \nL 54.442752 13.818573 \nL 64.186931 14.284851 \nL 73.93111 18.521961 \nL 83.675289 47.808341 \nL 93.419468 73.100755 \nL 103.163647 81.871926 \nL 112.907826 86.227905 \nL 122.652006 90.238861 \nL 132.396185 93.093692 \nL 142.140364 95.512417 \nL 151.884543 96.909134 \nL 161.628722 98.711708 \nL 171.372901 100.341995 \nL 181.11708 101.242186 \n\" clip-path=\"url(#p6462970c71)\" style=\"fill: none; stroke: #1f77b4; stroke-width: 1.5; stroke-linecap: square\"/>\n   </g>\n   <g id=\"line2d_96\">\n    <path d=\"M 49.633125 13.861646 \nL 69.163125 14.974668 \nL 88.693125 65.924472 \nL 108.223125 84.433578 \nL 127.753125 91.679268 \nL 147.283125 95.639148 \nL 166.813125 98.875595 \n\" clip-path=\"url(#p6462970c71)\" style=\"fill: none; stroke-dasharray: 5.55,2.4; stroke-dashoffset: 0; stroke: #ff7f0e; stroke-width: 1.5\"/>\n   </g>\n   <g id=\"line2d_97\">\n    <path d=\"M 49.633125 139.421045 \nL 69.163125 139.5 \nL 88.693125 116.428302 \nL 108.223125 112.339575 \nL 127.753125 108.871207 \nL 147.283125 106.58152 \nL 166.813125 104.951669 \n\" clip-path=\"url(#p6462970c71)\" style=\"fill: none; stroke-dasharray: 9.6,2.4,1.5,2.4; stroke-dashoffset: 0; stroke: #2ca02c; stroke-width: 1.5\"/>\n   </g>\n   <g id=\"line2d_98\">\n    <path d=\"M 34.954394 13.5 \nL 44.698573 13.641577 \nL 54.442752 13.818573 \nL 64.186931 14.284851 \nL 73.93111 18.521961 \nL 83.675289 47.808341 \nL 93.419468 73.100755 \nL 103.163647 81.871926 \nL 112.907826 86.227905 \nL 122.652006 90.238861 \nL 132.396185 93.093692 \nL 142.140364 95.512417 \nL 151.884543 96.909134 \nL 161.628722 98.711708 \nL 171.372901 100.341995 \nL 181.11708 101.242186 \n\" clip-path=\"url(#p6462970c71)\" style=\"fill: none; stroke: #1f77b4; stroke-width: 1.5; stroke-linecap: square\"/>\n   </g>\n   <g id=\"line2d_99\">\n    <path d=\"M 49.633125 13.861646 \nL 69.163125 14.974668 \nL 88.693125 65.924472 \nL 108.223125 84.433578 \nL 127.753125 91.679268 \nL 147.283125 95.639148 \nL 166.813125 98.875595 \nL 186.343125 101.74005 \n\" clip-path=\"url(#p6462970c71)\" style=\"fill: none; stroke-dasharray: 5.55,2.4; stroke-dashoffset: 0; stroke: #ff7f0e; stroke-width: 1.5\"/>\n   </g>\n   <g id=\"line2d_100\">\n    <path d=\"M 49.633125 139.421045 \nL 69.163125 139.5 \nL 88.693125 116.428302 \nL 108.223125 112.339575 \nL 127.753125 108.871207 \nL 147.283125 106.58152 \nL 166.813125 104.951669 \n\" clip-path=\"url(#p6462970c71)\" style=\"fill: none; stroke-dasharray: 9.6,2.4,1.5,2.4; stroke-dashoffset: 0; stroke: #2ca02c; stroke-width: 1.5\"/>\n   </g>\n   <g id=\"line2d_101\">\n    <path d=\"M 34.954394 13.5 \nL 44.698573 13.641577 \nL 54.442752 13.818573 \nL 64.186931 14.284851 \nL 73.93111 18.521961 \nL 83.675289 47.808341 \nL 93.419468 73.100755 \nL 103.163647 81.871926 \nL 112.907826 86.227905 \nL 122.652006 90.238861 \nL 132.396185 93.093692 \nL 142.140364 95.512417 \nL 151.884543 96.909134 \nL 161.628722 98.711708 \nL 171.372901 100.341995 \nL 181.11708 101.242186 \n\" clip-path=\"url(#p6462970c71)\" style=\"fill: none; stroke: #1f77b4; stroke-width: 1.5; stroke-linecap: square\"/>\n   </g>\n   <g id=\"line2d_102\">\n    <path d=\"M 49.633125 13.861646 \nL 69.163125 14.974668 \nL 88.693125 65.924472 \nL 108.223125 84.433578 \nL 127.753125 91.679268 \nL 147.283125 95.639148 \nL 166.813125 98.875595 \nL 186.343125 101.74005 \n\" clip-path=\"url(#p6462970c71)\" style=\"fill: none; stroke-dasharray: 5.55,2.4; stroke-dashoffset: 0; stroke: #ff7f0e; stroke-width: 1.5\"/>\n   </g>\n   <g id=\"line2d_103\">\n    <path d=\"M 49.633125 139.421045 \nL 69.163125 139.5 \nL 88.693125 116.428302 \nL 108.223125 112.339575 \nL 127.753125 108.871207 \nL 147.283125 106.58152 \nL 166.813125 104.951669 \nL 186.343125 104.009852 \n\" clip-path=\"url(#p6462970c71)\" style=\"fill: none; stroke-dasharray: 9.6,2.4,1.5,2.4; stroke-dashoffset: 0; stroke: #2ca02c; stroke-width: 1.5\"/>\n   </g>\n   <g id=\"line2d_104\">\n    <path d=\"M 34.954394 13.5 \nL 44.698573 13.641577 \nL 54.442752 13.818573 \nL 64.186931 14.284851 \nL 73.93111 18.521961 \nL 83.675289 47.808341 \nL 93.419468 73.100755 \nL 103.163647 81.871926 \nL 112.907826 86.227905 \nL 122.652006 90.238861 \nL 132.396185 93.093692 \nL 142.140364 95.512417 \nL 151.884543 96.909134 \nL 161.628722 98.711708 \nL 171.372901 100.341995 \nL 181.11708 101.242186 \nL 190.861259 103.018854 \n\" clip-path=\"url(#p6462970c71)\" style=\"fill: none; stroke: #1f77b4; stroke-width: 1.5; stroke-linecap: square\"/>\n   </g>\n   <g id=\"line2d_105\">\n    <path d=\"M 49.633125 13.861646 \nL 69.163125 14.974668 \nL 88.693125 65.924472 \nL 108.223125 84.433578 \nL 127.753125 91.679268 \nL 147.283125 95.639148 \nL 166.813125 98.875595 \nL 186.343125 101.74005 \n\" clip-path=\"url(#p6462970c71)\" style=\"fill: none; stroke-dasharray: 5.55,2.4; stroke-dashoffset: 0; stroke: #ff7f0e; stroke-width: 1.5\"/>\n   </g>\n   <g id=\"line2d_106\">\n    <path d=\"M 49.633125 139.421045 \nL 69.163125 139.5 \nL 88.693125 116.428302 \nL 108.223125 112.339575 \nL 127.753125 108.871207 \nL 147.283125 106.58152 \nL 166.813125 104.951669 \nL 186.343125 104.009852 \n\" clip-path=\"url(#p6462970c71)\" style=\"fill: none; stroke-dasharray: 9.6,2.4,1.5,2.4; stroke-dashoffset: 0; stroke: #2ca02c; stroke-width: 1.5\"/>\n   </g>\n   <g id=\"line2d_107\">\n    <path d=\"M 34.954394 13.5 \nL 44.698573 13.641577 \nL 54.442752 13.818573 \nL 64.186931 14.284851 \nL 73.93111 18.521961 \nL 83.675289 47.808341 \nL 93.419468 73.100755 \nL 103.163647 81.871926 \nL 112.907826 86.227905 \nL 122.652006 90.238861 \nL 132.396185 93.093692 \nL 142.140364 95.512417 \nL 151.884543 96.909134 \nL 161.628722 98.711708 \nL 171.372901 100.341995 \nL 181.11708 101.242186 \nL 190.861259 103.018854 \nL 200.605438 103.953996 \n\" clip-path=\"url(#p6462970c71)\" style=\"fill: none; stroke: #1f77b4; stroke-width: 1.5; stroke-linecap: square\"/>\n   </g>\n   <g id=\"line2d_108\">\n    <path d=\"M 49.633125 13.861646 \nL 69.163125 14.974668 \nL 88.693125 65.924472 \nL 108.223125 84.433578 \nL 127.753125 91.679268 \nL 147.283125 95.639148 \nL 166.813125 98.875595 \nL 186.343125 101.74005 \n\" clip-path=\"url(#p6462970c71)\" style=\"fill: none; stroke-dasharray: 5.55,2.4; stroke-dashoffset: 0; stroke: #ff7f0e; stroke-width: 1.5\"/>\n   </g>\n   <g id=\"line2d_109\">\n    <path d=\"M 49.633125 139.421045 \nL 69.163125 139.5 \nL 88.693125 116.428302 \nL 108.223125 112.339575 \nL 127.753125 108.871207 \nL 147.283125 106.58152 \nL 166.813125 104.951669 \nL 186.343125 104.009852 \n\" clip-path=\"url(#p6462970c71)\" style=\"fill: none; stroke-dasharray: 9.6,2.4,1.5,2.4; stroke-dashoffset: 0; stroke: #2ca02c; stroke-width: 1.5\"/>\n   </g>\n   <g id=\"line2d_110\">\n    <path d=\"M 34.954394 13.5 \nL 44.698573 13.641577 \nL 54.442752 13.818573 \nL 64.186931 14.284851 \nL 73.93111 18.521961 \nL 83.675289 47.808341 \nL 93.419468 73.100755 \nL 103.163647 81.871926 \nL 112.907826 86.227905 \nL 122.652006 90.238861 \nL 132.396185 93.093692 \nL 142.140364 95.512417 \nL 151.884543 96.909134 \nL 161.628722 98.711708 \nL 171.372901 100.341995 \nL 181.11708 101.242186 \nL 190.861259 103.018854 \nL 200.605438 103.953996 \n\" clip-path=\"url(#p6462970c71)\" style=\"fill: none; stroke: #1f77b4; stroke-width: 1.5; stroke-linecap: square\"/>\n   </g>\n   <g id=\"line2d_111\">\n    <path d=\"M 49.633125 13.861646 \nL 69.163125 14.974668 \nL 88.693125 65.924472 \nL 108.223125 84.433578 \nL 127.753125 91.679268 \nL 147.283125 95.639148 \nL 166.813125 98.875595 \nL 186.343125 101.74005 \nL 205.873125 104.170839 \n\" clip-path=\"url(#p6462970c71)\" style=\"fill: none; stroke-dasharray: 5.55,2.4; stroke-dashoffset: 0; stroke: #ff7f0e; stroke-width: 1.5\"/>\n   </g>\n   <g id=\"line2d_112\">\n    <path d=\"M 49.633125 139.421045 \nL 69.163125 139.5 \nL 88.693125 116.428302 \nL 108.223125 112.339575 \nL 127.753125 108.871207 \nL 147.283125 106.58152 \nL 166.813125 104.951669 \nL 186.343125 104.009852 \n\" clip-path=\"url(#p6462970c71)\" style=\"fill: none; stroke-dasharray: 9.6,2.4,1.5,2.4; stroke-dashoffset: 0; stroke: #2ca02c; stroke-width: 1.5\"/>\n   </g>\n   <g id=\"line2d_113\">\n    <path d=\"M 34.954394 13.5 \nL 44.698573 13.641577 \nL 54.442752 13.818573 \nL 64.186931 14.284851 \nL 73.93111 18.521961 \nL 83.675289 47.808341 \nL 93.419468 73.100755 \nL 103.163647 81.871926 \nL 112.907826 86.227905 \nL 122.652006 90.238861 \nL 132.396185 93.093692 \nL 142.140364 95.512417 \nL 151.884543 96.909134 \nL 161.628722 98.711708 \nL 171.372901 100.341995 \nL 181.11708 101.242186 \nL 190.861259 103.018854 \nL 200.605438 103.953996 \n\" clip-path=\"url(#p6462970c71)\" style=\"fill: none; stroke: #1f77b4; stroke-width: 1.5; stroke-linecap: square\"/>\n   </g>\n   <g id=\"line2d_114\">\n    <path d=\"M 49.633125 13.861646 \nL 69.163125 14.974668 \nL 88.693125 65.924472 \nL 108.223125 84.433578 \nL 127.753125 91.679268 \nL 147.283125 95.639148 \nL 166.813125 98.875595 \nL 186.343125 101.74005 \nL 205.873125 104.170839 \n\" clip-path=\"url(#p6462970c71)\" style=\"fill: none; stroke-dasharray: 5.55,2.4; stroke-dashoffset: 0; stroke: #ff7f0e; stroke-width: 1.5\"/>\n   </g>\n   <g id=\"line2d_115\">\n    <path d=\"M 49.633125 139.421045 \nL 69.163125 139.5 \nL 88.693125 116.428302 \nL 108.223125 112.339575 \nL 127.753125 108.871207 \nL 147.283125 106.58152 \nL 166.813125 104.951669 \nL 186.343125 104.009852 \nL 205.873125 103.58688 \n\" clip-path=\"url(#p6462970c71)\" style=\"fill: none; stroke-dasharray: 9.6,2.4,1.5,2.4; stroke-dashoffset: 0; stroke: #2ca02c; stroke-width: 1.5\"/>\n   </g>\n   <g id=\"line2d_116\">\n    <path d=\"M 34.954394 13.5 \nL 44.698573 13.641577 \nL 54.442752 13.818573 \nL 64.186931 14.284851 \nL 73.93111 18.521961 \nL 83.675289 47.808341 \nL 93.419468 73.100755 \nL 103.163647 81.871926 \nL 112.907826 86.227905 \nL 122.652006 90.238861 \nL 132.396185 93.093692 \nL 142.140364 95.512417 \nL 151.884543 96.909134 \nL 161.628722 98.711708 \nL 171.372901 100.341995 \nL 181.11708 101.242186 \nL 190.861259 103.018854 \nL 200.605438 103.953996 \nL 210.349618 105.4243 \n\" clip-path=\"url(#p6462970c71)\" style=\"fill: none; stroke: #1f77b4; stroke-width: 1.5; stroke-linecap: square\"/>\n   </g>\n   <g id=\"line2d_117\">\n    <path d=\"M 49.633125 13.861646 \nL 69.163125 14.974668 \nL 88.693125 65.924472 \nL 108.223125 84.433578 \nL 127.753125 91.679268 \nL 147.283125 95.639148 \nL 166.813125 98.875595 \nL 186.343125 101.74005 \nL 205.873125 104.170839 \n\" clip-path=\"url(#p6462970c71)\" style=\"fill: none; stroke-dasharray: 5.55,2.4; stroke-dashoffset: 0; stroke: #ff7f0e; stroke-width: 1.5\"/>\n   </g>\n   <g id=\"line2d_118\">\n    <path d=\"M 49.633125 139.421045 \nL 69.163125 139.5 \nL 88.693125 116.428302 \nL 108.223125 112.339575 \nL 127.753125 108.871207 \nL 147.283125 106.58152 \nL 166.813125 104.951669 \nL 186.343125 104.009852 \nL 205.873125 103.58688 \n\" clip-path=\"url(#p6462970c71)\" style=\"fill: none; stroke-dasharray: 9.6,2.4,1.5,2.4; stroke-dashoffset: 0; stroke: #2ca02c; stroke-width: 1.5\"/>\n   </g>\n   <g id=\"line2d_119\">\n    <path d=\"M 34.954394 13.5 \nL 44.698573 13.641577 \nL 54.442752 13.818573 \nL 64.186931 14.284851 \nL 73.93111 18.521961 \nL 83.675289 47.808341 \nL 93.419468 73.100755 \nL 103.163647 81.871926 \nL 112.907826 86.227905 \nL 122.652006 90.238861 \nL 132.396185 93.093692 \nL 142.140364 95.512417 \nL 151.884543 96.909134 \nL 161.628722 98.711708 \nL 171.372901 100.341995 \nL 181.11708 101.242186 \nL 190.861259 103.018854 \nL 200.605438 103.953996 \nL 210.349618 105.4243 \nL 220.093797 106.14445 \n\" clip-path=\"url(#p6462970c71)\" style=\"fill: none; stroke: #1f77b4; stroke-width: 1.5; stroke-linecap: square\"/>\n   </g>\n   <g id=\"line2d_120\">\n    <path d=\"M 49.633125 13.861646 \nL 69.163125 14.974668 \nL 88.693125 65.924472 \nL 108.223125 84.433578 \nL 127.753125 91.679268 \nL 147.283125 95.639148 \nL 166.813125 98.875595 \nL 186.343125 101.74005 \nL 205.873125 104.170839 \n\" clip-path=\"url(#p6462970c71)\" style=\"fill: none; stroke-dasharray: 5.55,2.4; stroke-dashoffset: 0; stroke: #ff7f0e; stroke-width: 1.5\"/>\n   </g>\n   <g id=\"line2d_121\">\n    <path d=\"M 49.633125 139.421045 \nL 69.163125 139.5 \nL 88.693125 116.428302 \nL 108.223125 112.339575 \nL 127.753125 108.871207 \nL 147.283125 106.58152 \nL 166.813125 104.951669 \nL 186.343125 104.009852 \nL 205.873125 103.58688 \n\" clip-path=\"url(#p6462970c71)\" style=\"fill: none; stroke-dasharray: 9.6,2.4,1.5,2.4; stroke-dashoffset: 0; stroke: #2ca02c; stroke-width: 1.5\"/>\n   </g>\n   <g id=\"line2d_122\">\n    <path d=\"M 34.954394 13.5 \nL 44.698573 13.641577 \nL 54.442752 13.818573 \nL 64.186931 14.284851 \nL 73.93111 18.521961 \nL 83.675289 47.808341 \nL 93.419468 73.100755 \nL 103.163647 81.871926 \nL 112.907826 86.227905 \nL 122.652006 90.238861 \nL 132.396185 93.093692 \nL 142.140364 95.512417 \nL 151.884543 96.909134 \nL 161.628722 98.711708 \nL 171.372901 100.341995 \nL 181.11708 101.242186 \nL 190.861259 103.018854 \nL 200.605438 103.953996 \nL 210.349618 105.4243 \nL 220.093797 106.14445 \n\" clip-path=\"url(#p6462970c71)\" style=\"fill: none; stroke: #1f77b4; stroke-width: 1.5; stroke-linecap: square\"/>\n   </g>\n   <g id=\"line2d_123\">\n    <path d=\"M 49.633125 13.861646 \nL 69.163125 14.974668 \nL 88.693125 65.924472 \nL 108.223125 84.433578 \nL 127.753125 91.679268 \nL 147.283125 95.639148 \nL 166.813125 98.875595 \nL 186.343125 101.74005 \nL 205.873125 104.170839 \nL 225.403125 105.522351 \n\" clip-path=\"url(#p6462970c71)\" style=\"fill: none; stroke-dasharray: 5.55,2.4; stroke-dashoffset: 0; stroke: #ff7f0e; stroke-width: 1.5\"/>\n   </g>\n   <g id=\"line2d_124\">\n    <path d=\"M 49.633125 139.421045 \nL 69.163125 139.5 \nL 88.693125 116.428302 \nL 108.223125 112.339575 \nL 127.753125 108.871207 \nL 147.283125 106.58152 \nL 166.813125 104.951669 \nL 186.343125 104.009852 \nL 205.873125 103.58688 \n\" clip-path=\"url(#p6462970c71)\" style=\"fill: none; stroke-dasharray: 9.6,2.4,1.5,2.4; stroke-dashoffset: 0; stroke: #2ca02c; stroke-width: 1.5\"/>\n   </g>\n   <g id=\"line2d_125\">\n    <path d=\"M 34.954394 13.5 \nL 44.698573 13.641577 \nL 54.442752 13.818573 \nL 64.186931 14.284851 \nL 73.93111 18.521961 \nL 83.675289 47.808341 \nL 93.419468 73.100755 \nL 103.163647 81.871926 \nL 112.907826 86.227905 \nL 122.652006 90.238861 \nL 132.396185 93.093692 \nL 142.140364 95.512417 \nL 151.884543 96.909134 \nL 161.628722 98.711708 \nL 171.372901 100.341995 \nL 181.11708 101.242186 \nL 190.861259 103.018854 \nL 200.605438 103.953996 \nL 210.349618 105.4243 \nL 220.093797 106.14445 \n\" clip-path=\"url(#p6462970c71)\" style=\"fill: none; stroke: #1f77b4; stroke-width: 1.5; stroke-linecap: square\"/>\n   </g>\n   <g id=\"line2d_126\">\n    <path d=\"M 49.633125 13.861646 \nL 69.163125 14.974668 \nL 88.693125 65.924472 \nL 108.223125 84.433578 \nL 127.753125 91.679268 \nL 147.283125 95.639148 \nL 166.813125 98.875595 \nL 186.343125 101.74005 \nL 205.873125 104.170839 \nL 225.403125 105.522351 \n\" clip-path=\"url(#p6462970c71)\" style=\"fill: none; stroke-dasharray: 5.55,2.4; stroke-dashoffset: 0; stroke: #ff7f0e; stroke-width: 1.5\"/>\n   </g>\n   <g id=\"line2d_127\">\n    <path d=\"M 49.633125 139.421045 \nL 69.163125 139.5 \nL 88.693125 116.428302 \nL 108.223125 112.339575 \nL 127.753125 108.871207 \nL 147.283125 106.58152 \nL 166.813125 104.951669 \nL 186.343125 104.009852 \nL 205.873125 103.58688 \nL 225.403125 102.943963 \n\" clip-path=\"url(#p6462970c71)\" style=\"fill: none; stroke-dasharray: 9.6,2.4,1.5,2.4; stroke-dashoffset: 0; stroke: #2ca02c; stroke-width: 1.5\"/>\n   </g>\n   <g id=\"patch_3\">\n    <path d=\"M 30.103125 145.8 \nL 30.103125 7.2 \n\" style=\"fill: none; stroke: #000000; stroke-width: 0.8; stroke-linejoin: miter; stroke-linecap: square\"/>\n   </g>\n   <g id=\"patch_4\">\n    <path d=\"M 225.403125 145.8 \nL 225.403125 7.2 \n\" style=\"fill: none; stroke: #000000; stroke-width: 0.8; stroke-linejoin: miter; stroke-linecap: square\"/>\n   </g>\n   <g id=\"patch_5\">\n    <path d=\"M 30.103125 145.8 \nL 225.403125 145.8 \n\" style=\"fill: none; stroke: #000000; stroke-width: 0.8; stroke-linejoin: miter; stroke-linecap: square\"/>\n   </g>\n   <g id=\"patch_6\">\n    <path d=\"M 30.103125 7.2 \nL 225.403125 7.2 \n\" style=\"fill: none; stroke: #000000; stroke-width: 0.8; stroke-linejoin: miter; stroke-linecap: square\"/>\n   </g>\n   <g id=\"legend_1\">\n    <g id=\"patch_7\">\n     <path d=\"M 138.8125 60.06875 \nL 218.403125 60.06875 \nQ 220.403125 60.06875 220.403125 58.06875 \nL 220.403125 14.2 \nQ 220.403125 12.2 218.403125 12.2 \nL 138.8125 12.2 \nQ 136.8125 12.2 136.8125 14.2 \nL 136.8125 58.06875 \nQ 136.8125 60.06875 138.8125 60.06875 \nz\n\" style=\"fill: #ffffff; opacity: 0.8; stroke: #cccccc; stroke-linejoin: miter\"/>\n    </g>\n    <g id=\"line2d_128\">\n     <path d=\"M 140.8125 20.298438 \nL 150.8125 20.298438 \nL 160.8125 20.298438 \n\" style=\"fill: none; stroke: #1f77b4; stroke-width: 1.5; stroke-linecap: square\"/>\n    </g>\n    <g id=\"text_13\">\n     <!-- train_loss -->\n     <g transform=\"translate(168.8125 23.798438) scale(0.1 -0.1)\">\n      <defs>\n       <path id=\"DejaVuSans-74\" d=\"M 1172 4494 \nL 1172 3500 \nL 2356 3500 \nL 2356 3053 \nL 1172 3053 \nL 1172 1153 \nQ 1172 725 1289 603 \nQ 1406 481 1766 481 \nL 2356 481 \nL 2356 0 \nL 1766 0 \nQ 1100 0 847 248 \nQ 594 497 594 1153 \nL 594 3053 \nL 172 3053 \nL 172 3500 \nL 594 3500 \nL 594 4494 \nL 1172 4494 \nz\n\" transform=\"scale(0.015625)\"/>\n       <path id=\"DejaVuSans-72\" d=\"M 2631 2963 \nQ 2534 3019 2420 3045 \nQ 2306 3072 2169 3072 \nQ 1681 3072 1420 2755 \nQ 1159 2438 1159 1844 \nL 1159 0 \nL 581 0 \nL 581 3500 \nL 1159 3500 \nL 1159 2956 \nQ 1341 3275 1631 3429 \nQ 1922 3584 2338 3584 \nQ 2397 3584 2469 3576 \nQ 2541 3569 2628 3553 \nL 2631 2963 \nz\n\" transform=\"scale(0.015625)\"/>\n       <path id=\"DejaVuSans-61\" d=\"M 2194 1759 \nQ 1497 1759 1228 1600 \nQ 959 1441 959 1056 \nQ 959 750 1161 570 \nQ 1363 391 1709 391 \nQ 2188 391 2477 730 \nQ 2766 1069 2766 1631 \nL 2766 1759 \nL 2194 1759 \nz\nM 3341 1997 \nL 3341 0 \nL 2766 0 \nL 2766 531 \nQ 2569 213 2275 61 \nQ 1981 -91 1556 -91 \nQ 1019 -91 701 211 \nQ 384 513 384 1019 \nQ 384 1609 779 1909 \nQ 1175 2209 1959 2209 \nL 2766 2209 \nL 2766 2266 \nQ 2766 2663 2505 2880 \nQ 2244 3097 1772 3097 \nQ 1472 3097 1187 3025 \nQ 903 2953 641 2809 \nL 641 3341 \nQ 956 3463 1253 3523 \nQ 1550 3584 1831 3584 \nQ 2591 3584 2966 3190 \nQ 3341 2797 3341 1997 \nz\n\" transform=\"scale(0.015625)\"/>\n       <path id=\"DejaVuSans-69\" d=\"M 603 3500 \nL 1178 3500 \nL 1178 0 \nL 603 0 \nL 603 3500 \nz\nM 603 4863 \nL 1178 4863 \nL 1178 4134 \nL 603 4134 \nL 603 4863 \nz\n\" transform=\"scale(0.015625)\"/>\n       <path id=\"DejaVuSans-6e\" d=\"M 3513 2113 \nL 3513 0 \nL 2938 0 \nL 2938 2094 \nQ 2938 2591 2744 2837 \nQ 2550 3084 2163 3084 \nQ 1697 3084 1428 2787 \nQ 1159 2491 1159 1978 \nL 1159 0 \nL 581 0 \nL 581 3500 \nL 1159 3500 \nL 1159 2956 \nQ 1366 3272 1645 3428 \nQ 1925 3584 2291 3584 \nQ 2894 3584 3203 3211 \nQ 3513 2838 3513 2113 \nz\n\" transform=\"scale(0.015625)\"/>\n       <path id=\"DejaVuSans-5f\" d=\"M 3263 -1063 \nL 3263 -1509 \nL -63 -1509 \nL -63 -1063 \nL 3263 -1063 \nz\n\" transform=\"scale(0.015625)\"/>\n       <path id=\"DejaVuSans-6c\" d=\"M 603 4863 \nL 1178 4863 \nL 1178 0 \nL 603 0 \nL 603 4863 \nz\n\" transform=\"scale(0.015625)\"/>\n       <path id=\"DejaVuSans-73\" d=\"M 2834 3397 \nL 2834 2853 \nQ 2591 2978 2328 3040 \nQ 2066 3103 1784 3103 \nQ 1356 3103 1142 2972 \nQ 928 2841 928 2578 \nQ 928 2378 1081 2264 \nQ 1234 2150 1697 2047 \nL 1894 2003 \nQ 2506 1872 2764 1633 \nQ 3022 1394 3022 966 \nQ 3022 478 2636 193 \nQ 2250 -91 1575 -91 \nQ 1294 -91 989 -36 \nQ 684 19 347 128 \nL 347 722 \nQ 666 556 975 473 \nQ 1284 391 1588 391 \nQ 1994 391 2212 530 \nQ 2431 669 2431 922 \nQ 2431 1156 2273 1281 \nQ 2116 1406 1581 1522 \nL 1381 1569 \nQ 847 1681 609 1914 \nQ 372 2147 372 2553 \nQ 372 3047 722 3315 \nQ 1072 3584 1716 3584 \nQ 2034 3584 2315 3537 \nQ 2597 3491 2834 3397 \nz\n\" transform=\"scale(0.015625)\"/>\n      </defs>\n      <use xlink:href=\"#DejaVuSans-74\"/>\n      <use xlink:href=\"#DejaVuSans-72\" x=\"39.208984\"/>\n      <use xlink:href=\"#DejaVuSans-61\" x=\"80.322266\"/>\n      <use xlink:href=\"#DejaVuSans-69\" x=\"141.601562\"/>\n      <use xlink:href=\"#DejaVuSans-6e\" x=\"169.384766\"/>\n      <use xlink:href=\"#DejaVuSans-5f\" x=\"232.763672\"/>\n      <use xlink:href=\"#DejaVuSans-6c\" x=\"282.763672\"/>\n      <use xlink:href=\"#DejaVuSans-6f\" x=\"310.546875\"/>\n      <use xlink:href=\"#DejaVuSans-73\" x=\"371.728516\"/>\n      <use xlink:href=\"#DejaVuSans-73\" x=\"423.828125\"/>\n     </g>\n    </g>\n    <g id=\"line2d_129\">\n     <path d=\"M 140.8125 35.254688 \nL 150.8125 35.254688 \nL 160.8125 35.254688 \n\" style=\"fill: none; stroke-dasharray: 5.55,2.4; stroke-dashoffset: 0; stroke: #ff7f0e; stroke-width: 1.5\"/>\n    </g>\n    <g id=\"text_14\">\n     <!-- val_loss -->\n     <g transform=\"translate(168.8125 38.754688) scale(0.1 -0.1)\">\n      <defs>\n       <path id=\"DejaVuSans-76\" d=\"M 191 3500 \nL 800 3500 \nL 1894 563 \nL 2988 3500 \nL 3597 3500 \nL 2284 0 \nL 1503 0 \nL 191 3500 \nz\n\" transform=\"scale(0.015625)\"/>\n      </defs>\n      <use xlink:href=\"#DejaVuSans-76\"/>\n      <use xlink:href=\"#DejaVuSans-61\" x=\"59.179688\"/>\n      <use xlink:href=\"#DejaVuSans-6c\" x=\"120.458984\"/>\n      <use xlink:href=\"#DejaVuSans-5f\" x=\"148.242188\"/>\n      <use xlink:href=\"#DejaVuSans-6c\" x=\"198.242188\"/>\n      <use xlink:href=\"#DejaVuSans-6f\" x=\"226.025391\"/>\n      <use xlink:href=\"#DejaVuSans-73\" x=\"287.207031\"/>\n      <use xlink:href=\"#DejaVuSans-73\" x=\"339.306641\"/>\n     </g>\n    </g>\n    <g id=\"line2d_130\">\n     <path d=\"M 140.8125 50.210938 \nL 150.8125 50.210938 \nL 160.8125 50.210938 \n\" style=\"fill: none; stroke-dasharray: 9.6,2.4,1.5,2.4; stroke-dashoffset: 0; stroke: #2ca02c; stroke-width: 1.5\"/>\n    </g>\n    <g id=\"text_15\">\n     <!-- val_acc -->\n     <g transform=\"translate(168.8125 53.710938) scale(0.1 -0.1)\">\n      <use xlink:href=\"#DejaVuSans-76\"/>\n      <use xlink:href=\"#DejaVuSans-61\" x=\"59.179688\"/>\n      <use xlink:href=\"#DejaVuSans-6c\" x=\"120.458984\"/>\n      <use xlink:href=\"#DejaVuSans-5f\" x=\"148.242188\"/>\n      <use xlink:href=\"#DejaVuSans-61\" x=\"198.242188\"/>\n      <use xlink:href=\"#DejaVuSans-63\" x=\"259.521484\"/>\n      <use xlink:href=\"#DejaVuSans-63\" x=\"314.501953\"/>\n     </g>\n    </g>\n   </g>\n  </g>\n </g>\n <defs>\n  <clipPath id=\"p6462970c71\">\n   <rect x=\"30.103125\" y=\"7.2\" width=\"195.3\" height=\"138.6\"/>\n  </clipPath>\n </defs>\n</svg>\n"
          },
          "metadata": {}
        }
      ]
    },
    {
      "cell_type": "markdown",
      "source": [
        "### 7.6.3. Summary\n",
        "\n",
        "* MLP에서 CNN으로 발전함"
      ],
      "metadata": {
        "id": "Kb3ikfhV9jss"
      }
    },
    {
      "cell_type": "markdown",
      "source": [
        "### discussions or takeaway messages\n",
        "\n",
        "* MLP(다층 퍼셉트론) 에서 CNN(합성곱 신경망)으로의 발전\n",
        "* LeNet-5는 fashion-minist데이터셋에서 우수한 성능. MLP와 비교하면 더 낮은 오류율\n",
        "* 옛날에는 LeNet을 구현하기 위해 수개월의 엔지니어링 작업이 필요했지만, 이제 현대의 딥러닝 프레임워크를 통해 몇분 안에 구현 가능해짐"
      ],
      "metadata": {
        "id": "SGmf9m10-hBR"
      }
    },
    {
      "cell_type": "markdown",
      "source": [
        "### 7.6.4. exercise\n",
        "\n",
        "1. Let’s modernize LeNet. Implement and test the following changes:\n",
        "\n",
        "    1. Replace average pooling with max-pooling.\n",
        "\n",
        "    2. Replace the softmax layer with ReLU.\n",
        "\n",
        "위의 LeNet코드에서\n",
        "\n",
        "average pooling -> max\n",
        "\n",
        "ReLU 로 바꾸기.\n",
        "\n",
        "그에 대한 결과는 아래의 코드와 같습니다."
      ],
      "metadata": {
        "id": "87Ho0DurB0YH"
      }
    },
    {
      "cell_type": "code",
      "source": [
        "def init_cnn(module):\n",
        "    \"\"\"Initialize weights for CNNs.\"\"\"\n",
        "    if isinstance(module, (nn.Linear, nn.Conv2d)):\n",
        "        nn.init.xavier_uniform_(module.weight)"
      ],
      "metadata": {
        "id": "B7sRPdh4CMQW"
      },
      "execution_count": 55,
      "outputs": []
    },
    {
      "cell_type": "code",
      "source": [
        "#sigmoid -> relu\n",
        "#avg->max\n",
        "\n",
        "class LeNet(d2l.Classifier):\n",
        "    \"\"\"The LeNet-5 model.\"\"\"\n",
        "    def __init__(self, lr=0.1, num_classes=10):\n",
        "        super().__init__()\n",
        "        self.save_hyperparameters()\n",
        "        self.net = nn.Sequential(  # 레이어 연결\n",
        "            nn.LazyConv2d(6, kernel_size=5, padding=2), nn.ReLU(),\n",
        "            nn.MaxPool2d(kernel_size=2, stride=2),\n",
        "            nn.LazyConv2d(16, kernel_size=5), nn.ReLU(),\n",
        "            nn.MaxPool2d(kernel_size=2, stride=2),\n",
        "            nn.Flatten(),\n",
        "            nn.LazyLinear(120), nn.ReLU(),\n",
        "            nn.LazyLinear(84), nn.ReLU(),\n",
        "            nn.LazyLinear(num_classes)\n",
        "        )"
      ],
      "metadata": {
        "id": "As18brVQCOwq"
      },
      "execution_count": 56,
      "outputs": []
    },
    {
      "cell_type": "code",
      "source": [
        "@d2l.add_to_class(d2l.Classifier)\n",
        "def layer_summary(self, X_shape):\n",
        "    X = torch.randn(*X_shape)\n",
        "    for layer in self.net:\n",
        "        X = layer(X)\n",
        "        print(layer.__class__.__name__, 'output shape:\\t', X.shape)\n",
        "\n",
        "model = LeNet()\n",
        "model.layer_summary((1, 1, 28, 28))"
      ],
      "metadata": {
        "colab": {
          "base_uri": "https://localhost:8080/"
        },
        "id": "auu6_DmBCnZj",
        "outputId": "5771e8bd-9eca-407f-9ccf-7cc345ec715d"
      },
      "execution_count": 57,
      "outputs": [
        {
          "output_type": "stream",
          "name": "stdout",
          "text": [
            "Conv2d output shape:\t torch.Size([1, 6, 28, 28])\n",
            "ReLU output shape:\t torch.Size([1, 6, 28, 28])\n",
            "MaxPool2d output shape:\t torch.Size([1, 6, 14, 14])\n",
            "Conv2d output shape:\t torch.Size([1, 16, 10, 10])\n",
            "ReLU output shape:\t torch.Size([1, 16, 10, 10])\n",
            "MaxPool2d output shape:\t torch.Size([1, 16, 5, 5])\n",
            "Flatten output shape:\t torch.Size([1, 400])\n",
            "Linear output shape:\t torch.Size([1, 120])\n",
            "ReLU output shape:\t torch.Size([1, 120])\n",
            "Linear output shape:\t torch.Size([1, 84])\n",
            "ReLU output shape:\t torch.Size([1, 84])\n",
            "Linear output shape:\t torch.Size([1, 10])\n"
          ]
        }
      ]
    },
    {
      "cell_type": "code",
      "source": [
        "trainer = d2l.Trainer(max_epochs=10, num_gpus=1)\n",
        "data = d2l.FashionMNIST(batch_size=128)\n",
        "model = LeNet(lr=0.1)\n",
        "model.apply_init([next(iter(data.get_dataloader(True)))[0]], init_cnn)\n",
        "trainer.fit(model, data)"
      ],
      "metadata": {
        "colab": {
          "base_uri": "https://localhost:8080/",
          "height": 265
        },
        "id": "gv4rSAM2CpbW",
        "outputId": "82c2417f-7e9e-4e91-a4dd-d1cc0a4b5992"
      },
      "execution_count": 58,
      "outputs": [
        {
          "output_type": "display_data",
          "data": {
            "text/plain": [
              "<Figure size 350x250 with 1 Axes>"
            ],
            "image/svg+xml": "<?xml version=\"1.0\" encoding=\"utf-8\" standalone=\"no\"?>\n<!DOCTYPE svg PUBLIC \"-//W3C//DTD SVG 1.1//EN\"\n  \"http://www.w3.org/Graphics/SVG/1.1/DTD/svg11.dtd\">\n<svg xmlns:xlink=\"http://www.w3.org/1999/xlink\" width=\"238.965625pt\" height=\"183.35625pt\" viewBox=\"0 0 238.965625 183.35625\" xmlns=\"http://www.w3.org/2000/svg\" version=\"1.1\">\n <metadata>\n  <rdf:RDF xmlns:dc=\"http://purl.org/dc/elements/1.1/\" xmlns:cc=\"http://creativecommons.org/ns#\" xmlns:rdf=\"http://www.w3.org/1999/02/22-rdf-syntax-ns#\">\n   <cc:Work>\n    <dc:type rdf:resource=\"http://purl.org/dc/dcmitype/StillImage\"/>\n    <dc:date>2024-10-10T10:48:50.174465</dc:date>\n    <dc:format>image/svg+xml</dc:format>\n    <dc:creator>\n     <cc:Agent>\n      <dc:title>Matplotlib v3.7.2, https://matplotlib.org/</dc:title>\n     </cc:Agent>\n    </dc:creator>\n   </cc:Work>\n  </rdf:RDF>\n </metadata>\n <defs>\n  <style type=\"text/css\">*{stroke-linejoin: round; stroke-linecap: butt}</style>\n </defs>\n <g id=\"figure_1\">\n  <g id=\"patch_1\">\n   <path d=\"M 0 183.35625 \nL 238.965625 183.35625 \nL 238.965625 0 \nL 0 0 \nz\n\" style=\"fill: #ffffff\"/>\n  </g>\n  <g id=\"axes_1\">\n   <g id=\"patch_2\">\n    <path d=\"M 30.103125 145.8 \nL 225.403125 145.8 \nL 225.403125 7.2 \nL 30.103125 7.2 \nz\n\" style=\"fill: #ffffff\"/>\n   </g>\n   <g id=\"matplotlib.axis_1\">\n    <g id=\"xtick_1\">\n     <g id=\"line2d_1\">\n      <defs>\n       <path id=\"m62d56b130f\" d=\"M 0 0 \nL 0 3.5 \n\" style=\"stroke: #000000; stroke-width: 0.8\"/>\n      </defs>\n      <g>\n       <use xlink:href=\"#m62d56b130f\" x=\"30.103125\" y=\"145.8\" style=\"stroke: #000000; stroke-width: 0.8\"/>\n      </g>\n     </g>\n     <g id=\"text_1\">\n      <!-- 0 -->\n      <g transform=\"translate(26.921875 160.398438) scale(0.1 -0.1)\">\n       <defs>\n        <path id=\"DejaVuSans-30\" d=\"M 2034 4250 \nQ 1547 4250 1301 3770 \nQ 1056 3291 1056 2328 \nQ 1056 1369 1301 889 \nQ 1547 409 2034 409 \nQ 2525 409 2770 889 \nQ 3016 1369 3016 2328 \nQ 3016 3291 2770 3770 \nQ 2525 4250 2034 4250 \nz\nM 2034 4750 \nQ 2819 4750 3233 4129 \nQ 3647 3509 3647 2328 \nQ 3647 1150 3233 529 \nQ 2819 -91 2034 -91 \nQ 1250 -91 836 529 \nQ 422 1150 422 2328 \nQ 422 3509 836 4129 \nQ 1250 4750 2034 4750 \nz\n\" transform=\"scale(0.015625)\"/>\n       </defs>\n       <use xlink:href=\"#DejaVuSans-30\"/>\n      </g>\n     </g>\n    </g>\n    <g id=\"xtick_2\">\n     <g id=\"line2d_2\">\n      <g>\n       <use xlink:href=\"#m62d56b130f\" x=\"69.163125\" y=\"145.8\" style=\"stroke: #000000; stroke-width: 0.8\"/>\n      </g>\n     </g>\n     <g id=\"text_2\">\n      <!-- 2 -->\n      <g transform=\"translate(65.981875 160.398438) scale(0.1 -0.1)\">\n       <defs>\n        <path id=\"DejaVuSans-32\" d=\"M 1228 531 \nL 3431 531 \nL 3431 0 \nL 469 0 \nL 469 531 \nQ 828 903 1448 1529 \nQ 2069 2156 2228 2338 \nQ 2531 2678 2651 2914 \nQ 2772 3150 2772 3378 \nQ 2772 3750 2511 3984 \nQ 2250 4219 1831 4219 \nQ 1534 4219 1204 4116 \nQ 875 4013 500 3803 \nL 500 4441 \nQ 881 4594 1212 4672 \nQ 1544 4750 1819 4750 \nQ 2544 4750 2975 4387 \nQ 3406 4025 3406 3419 \nQ 3406 3131 3298 2873 \nQ 3191 2616 2906 2266 \nQ 2828 2175 2409 1742 \nQ 1991 1309 1228 531 \nz\n\" transform=\"scale(0.015625)\"/>\n       </defs>\n       <use xlink:href=\"#DejaVuSans-32\"/>\n      </g>\n     </g>\n    </g>\n    <g id=\"xtick_3\">\n     <g id=\"line2d_3\">\n      <g>\n       <use xlink:href=\"#m62d56b130f\" x=\"108.223125\" y=\"145.8\" style=\"stroke: #000000; stroke-width: 0.8\"/>\n      </g>\n     </g>\n     <g id=\"text_3\">\n      <!-- 4 -->\n      <g transform=\"translate(105.041875 160.398438) scale(0.1 -0.1)\">\n       <defs>\n        <path id=\"DejaVuSans-34\" d=\"M 2419 4116 \nL 825 1625 \nL 2419 1625 \nL 2419 4116 \nz\nM 2253 4666 \nL 3047 4666 \nL 3047 1625 \nL 3713 1625 \nL 3713 1100 \nL 3047 1100 \nL 3047 0 \nL 2419 0 \nL 2419 1100 \nL 313 1100 \nL 313 1709 \nL 2253 4666 \nz\n\" transform=\"scale(0.015625)\"/>\n       </defs>\n       <use xlink:href=\"#DejaVuSans-34\"/>\n      </g>\n     </g>\n    </g>\n    <g id=\"xtick_4\">\n     <g id=\"line2d_4\">\n      <g>\n       <use xlink:href=\"#m62d56b130f\" x=\"147.283125\" y=\"145.8\" style=\"stroke: #000000; stroke-width: 0.8\"/>\n      </g>\n     </g>\n     <g id=\"text_4\">\n      <!-- 6 -->\n      <g transform=\"translate(144.101875 160.398438) scale(0.1 -0.1)\">\n       <defs>\n        <path id=\"DejaVuSans-36\" d=\"M 2113 2584 \nQ 1688 2584 1439 2293 \nQ 1191 2003 1191 1497 \nQ 1191 994 1439 701 \nQ 1688 409 2113 409 \nQ 2538 409 2786 701 \nQ 3034 994 3034 1497 \nQ 3034 2003 2786 2293 \nQ 2538 2584 2113 2584 \nz\nM 3366 4563 \nL 3366 3988 \nQ 3128 4100 2886 4159 \nQ 2644 4219 2406 4219 \nQ 1781 4219 1451 3797 \nQ 1122 3375 1075 2522 \nQ 1259 2794 1537 2939 \nQ 1816 3084 2150 3084 \nQ 2853 3084 3261 2657 \nQ 3669 2231 3669 1497 \nQ 3669 778 3244 343 \nQ 2819 -91 2113 -91 \nQ 1303 -91 875 529 \nQ 447 1150 447 2328 \nQ 447 3434 972 4092 \nQ 1497 4750 2381 4750 \nQ 2619 4750 2861 4703 \nQ 3103 4656 3366 4563 \nz\n\" transform=\"scale(0.015625)\"/>\n       </defs>\n       <use xlink:href=\"#DejaVuSans-36\"/>\n      </g>\n     </g>\n    </g>\n    <g id=\"xtick_5\">\n     <g id=\"line2d_5\">\n      <g>\n       <use xlink:href=\"#m62d56b130f\" x=\"186.343125\" y=\"145.8\" style=\"stroke: #000000; stroke-width: 0.8\"/>\n      </g>\n     </g>\n     <g id=\"text_5\">\n      <!-- 8 -->\n      <g transform=\"translate(183.161875 160.398438) scale(0.1 -0.1)\">\n       <defs>\n        <path id=\"DejaVuSans-38\" d=\"M 2034 2216 \nQ 1584 2216 1326 1975 \nQ 1069 1734 1069 1313 \nQ 1069 891 1326 650 \nQ 1584 409 2034 409 \nQ 2484 409 2743 651 \nQ 3003 894 3003 1313 \nQ 3003 1734 2745 1975 \nQ 2488 2216 2034 2216 \nz\nM 1403 2484 \nQ 997 2584 770 2862 \nQ 544 3141 544 3541 \nQ 544 4100 942 4425 \nQ 1341 4750 2034 4750 \nQ 2731 4750 3128 4425 \nQ 3525 4100 3525 3541 \nQ 3525 3141 3298 2862 \nQ 3072 2584 2669 2484 \nQ 3125 2378 3379 2068 \nQ 3634 1759 3634 1313 \nQ 3634 634 3220 271 \nQ 2806 -91 2034 -91 \nQ 1263 -91 848 271 \nQ 434 634 434 1313 \nQ 434 1759 690 2068 \nQ 947 2378 1403 2484 \nz\nM 1172 3481 \nQ 1172 3119 1398 2916 \nQ 1625 2713 2034 2713 \nQ 2441 2713 2670 2916 \nQ 2900 3119 2900 3481 \nQ 2900 3844 2670 4047 \nQ 2441 4250 2034 4250 \nQ 1625 4250 1398 4047 \nQ 1172 3844 1172 3481 \nz\n\" transform=\"scale(0.015625)\"/>\n       </defs>\n       <use xlink:href=\"#DejaVuSans-38\"/>\n      </g>\n     </g>\n    </g>\n    <g id=\"xtick_6\">\n     <g id=\"line2d_6\">\n      <g>\n       <use xlink:href=\"#m62d56b130f\" x=\"225.403125\" y=\"145.8\" style=\"stroke: #000000; stroke-width: 0.8\"/>\n      </g>\n     </g>\n     <g id=\"text_6\">\n      <!-- 10 -->\n      <g transform=\"translate(219.040625 160.398438) scale(0.1 -0.1)\">\n       <defs>\n        <path id=\"DejaVuSans-31\" d=\"M 794 531 \nL 1825 531 \nL 1825 4091 \nL 703 3866 \nL 703 4441 \nL 1819 4666 \nL 2450 4666 \nL 2450 531 \nL 3481 531 \nL 3481 0 \nL 794 0 \nL 794 531 \nz\n\" transform=\"scale(0.015625)\"/>\n       </defs>\n       <use xlink:href=\"#DejaVuSans-31\"/>\n       <use xlink:href=\"#DejaVuSans-30\" x=\"63.623047\"/>\n      </g>\n     </g>\n    </g>\n    <g id=\"text_7\">\n     <!-- epoch -->\n     <g transform=\"translate(112.525 174.076563) scale(0.1 -0.1)\">\n      <defs>\n       <path id=\"DejaVuSans-65\" d=\"M 3597 1894 \nL 3597 1613 \nL 953 1613 \nQ 991 1019 1311 708 \nQ 1631 397 2203 397 \nQ 2534 397 2845 478 \nQ 3156 559 3463 722 \nL 3463 178 \nQ 3153 47 2828 -22 \nQ 2503 -91 2169 -91 \nQ 1331 -91 842 396 \nQ 353 884 353 1716 \nQ 353 2575 817 3079 \nQ 1281 3584 2069 3584 \nQ 2775 3584 3186 3129 \nQ 3597 2675 3597 1894 \nz\nM 3022 2063 \nQ 3016 2534 2758 2815 \nQ 2500 3097 2075 3097 \nQ 1594 3097 1305 2825 \nQ 1016 2553 972 2059 \nL 3022 2063 \nz\n\" transform=\"scale(0.015625)\"/>\n       <path id=\"DejaVuSans-70\" d=\"M 1159 525 \nL 1159 -1331 \nL 581 -1331 \nL 581 3500 \nL 1159 3500 \nL 1159 2969 \nQ 1341 3281 1617 3432 \nQ 1894 3584 2278 3584 \nQ 2916 3584 3314 3078 \nQ 3713 2572 3713 1747 \nQ 3713 922 3314 415 \nQ 2916 -91 2278 -91 \nQ 1894 -91 1617 61 \nQ 1341 213 1159 525 \nz\nM 3116 1747 \nQ 3116 2381 2855 2742 \nQ 2594 3103 2138 3103 \nQ 1681 3103 1420 2742 \nQ 1159 2381 1159 1747 \nQ 1159 1113 1420 752 \nQ 1681 391 2138 391 \nQ 2594 391 2855 752 \nQ 3116 1113 3116 1747 \nz\n\" transform=\"scale(0.015625)\"/>\n       <path id=\"DejaVuSans-6f\" d=\"M 1959 3097 \nQ 1497 3097 1228 2736 \nQ 959 2375 959 1747 \nQ 959 1119 1226 758 \nQ 1494 397 1959 397 \nQ 2419 397 2687 759 \nQ 2956 1122 2956 1747 \nQ 2956 2369 2687 2733 \nQ 2419 3097 1959 3097 \nz\nM 1959 3584 \nQ 2709 3584 3137 3096 \nQ 3566 2609 3566 1747 \nQ 3566 888 3137 398 \nQ 2709 -91 1959 -91 \nQ 1206 -91 779 398 \nQ 353 888 353 1747 \nQ 353 2609 779 3096 \nQ 1206 3584 1959 3584 \nz\n\" transform=\"scale(0.015625)\"/>\n       <path id=\"DejaVuSans-63\" d=\"M 3122 3366 \nL 3122 2828 \nQ 2878 2963 2633 3030 \nQ 2388 3097 2138 3097 \nQ 1578 3097 1268 2742 \nQ 959 2388 959 1747 \nQ 959 1106 1268 751 \nQ 1578 397 2138 397 \nQ 2388 397 2633 464 \nQ 2878 531 3122 666 \nL 3122 134 \nQ 2881 22 2623 -34 \nQ 2366 -91 2075 -91 \nQ 1284 -91 818 406 \nQ 353 903 353 1747 \nQ 353 2603 823 3093 \nQ 1294 3584 2113 3584 \nQ 2378 3584 2631 3529 \nQ 2884 3475 3122 3366 \nz\n\" transform=\"scale(0.015625)\"/>\n       <path id=\"DejaVuSans-68\" d=\"M 3513 2113 \nL 3513 0 \nL 2938 0 \nL 2938 2094 \nQ 2938 2591 2744 2837 \nQ 2550 3084 2163 3084 \nQ 1697 3084 1428 2787 \nQ 1159 2491 1159 1978 \nL 1159 0 \nL 581 0 \nL 581 4863 \nL 1159 4863 \nL 1159 2956 \nQ 1366 3272 1645 3428 \nQ 1925 3584 2291 3584 \nQ 2894 3584 3203 3211 \nQ 3513 2838 3513 2113 \nz\n\" transform=\"scale(0.015625)\"/>\n      </defs>\n      <use xlink:href=\"#DejaVuSans-65\"/>\n      <use xlink:href=\"#DejaVuSans-70\" x=\"61.523438\"/>\n      <use xlink:href=\"#DejaVuSans-6f\" x=\"125\"/>\n      <use xlink:href=\"#DejaVuSans-63\" x=\"186.181641\"/>\n      <use xlink:href=\"#DejaVuSans-68\" x=\"241.162109\"/>\n     </g>\n    </g>\n   </g>\n   <g id=\"matplotlib.axis_2\">\n    <g id=\"ytick_1\">\n     <g id=\"line2d_7\">\n      <defs>\n       <path id=\"m5e780e07b5\" d=\"M 0 0 \nL -3.5 0 \n\" style=\"stroke: #000000; stroke-width: 0.8\"/>\n      </defs>\n      <g>\n       <use xlink:href=\"#m5e780e07b5\" x=\"30.103125\" y=\"114.702461\" style=\"stroke: #000000; stroke-width: 0.8\"/>\n      </g>\n     </g>\n     <g id=\"text_8\">\n      <!-- 0.4 -->\n      <g transform=\"translate(7.2 118.501679) scale(0.1 -0.1)\">\n       <defs>\n        <path id=\"DejaVuSans-2e\" d=\"M 684 794 \nL 1344 794 \nL 1344 0 \nL 684 0 \nL 684 794 \nz\n\" transform=\"scale(0.015625)\"/>\n       </defs>\n       <use xlink:href=\"#DejaVuSans-30\"/>\n       <use xlink:href=\"#DejaVuSans-2e\" x=\"63.623047\"/>\n       <use xlink:href=\"#DejaVuSans-34\" x=\"95.410156\"/>\n      </g>\n     </g>\n    </g>\n    <g id=\"ytick_2\">\n     <g id=\"line2d_8\">\n      <g>\n       <use xlink:href=\"#m5e780e07b5\" x=\"30.103125\" y=\"81.040302\" style=\"stroke: #000000; stroke-width: 0.8\"/>\n      </g>\n     </g>\n     <g id=\"text_9\">\n      <!-- 0.6 -->\n      <g transform=\"translate(7.2 84.839521) scale(0.1 -0.1)\">\n       <use xlink:href=\"#DejaVuSans-30\"/>\n       <use xlink:href=\"#DejaVuSans-2e\" x=\"63.623047\"/>\n       <use xlink:href=\"#DejaVuSans-36\" x=\"95.410156\"/>\n      </g>\n     </g>\n    </g>\n    <g id=\"ytick_3\">\n     <g id=\"line2d_9\">\n      <g>\n       <use xlink:href=\"#m5e780e07b5\" x=\"30.103125\" y=\"47.378144\" style=\"stroke: #000000; stroke-width: 0.8\"/>\n      </g>\n     </g>\n     <g id=\"text_10\">\n      <!-- 0.8 -->\n      <g transform=\"translate(7.2 51.177362) scale(0.1 -0.1)\">\n       <use xlink:href=\"#DejaVuSans-30\"/>\n       <use xlink:href=\"#DejaVuSans-2e\" x=\"63.623047\"/>\n       <use xlink:href=\"#DejaVuSans-38\" x=\"95.410156\"/>\n      </g>\n     </g>\n    </g>\n    <g id=\"ytick_4\">\n     <g id=\"line2d_10\">\n      <g>\n       <use xlink:href=\"#m5e780e07b5\" x=\"30.103125\" y=\"13.715985\" style=\"stroke: #000000; stroke-width: 0.8\"/>\n      </g>\n     </g>\n     <g id=\"text_11\">\n      <!-- 1.0 -->\n      <g transform=\"translate(7.2 17.515204) scale(0.1 -0.1)\">\n       <use xlink:href=\"#DejaVuSans-31\"/>\n       <use xlink:href=\"#DejaVuSans-2e\" x=\"63.623047\"/>\n       <use xlink:href=\"#DejaVuSans-30\" x=\"95.410156\"/>\n      </g>\n     </g>\n    </g>\n   </g>\n   <g id=\"line2d_11\">\n    <path d=\"M 34.954394 13.5 \n\" clip-path=\"url(#p24eb6e37d2)\" style=\"fill: none; stroke: #1f77b4; stroke-width: 1.5; stroke-linecap: square\"/>\n   </g>\n   <g id=\"line2d_12\">\n    <path d=\"M 34.954394 13.5 \nL 44.698573 91.763643 \n\" clip-path=\"url(#p24eb6e37d2)\" style=\"fill: none; stroke: #1f77b4; stroke-width: 1.5; stroke-linecap: square\"/>\n   </g>\n   <g id=\"line2d_13\">\n    <path d=\"M 34.954394 13.5 \nL 44.698573 91.763643 \n\" clip-path=\"url(#p24eb6e37d2)\" style=\"fill: none; stroke: #1f77b4; stroke-width: 1.5; stroke-linecap: square\"/>\n   </g>\n   <g id=\"line2d_14\">\n    <path d=\"M 49.633125 83.043899 \n\" clip-path=\"url(#p24eb6e37d2)\" style=\"fill: none; stroke-dasharray: 5.55,2.4; stroke-dashoffset: 0; stroke: #ff7f0e; stroke-width: 1.5\"/>\n   </g>\n   <g id=\"line2d_15\"/>\n   <g id=\"line2d_16\">\n    <path d=\"M 34.954394 13.5 \nL 44.698573 91.763643 \n\" clip-path=\"url(#p24eb6e37d2)\" style=\"fill: none; stroke: #1f77b4; stroke-width: 1.5; stroke-linecap: square\"/>\n   </g>\n   <g id=\"line2d_17\">\n    <path d=\"M 49.633125 83.043899 \n\" clip-path=\"url(#p24eb6e37d2)\" style=\"fill: none; stroke-dasharray: 5.55,2.4; stroke-dashoffset: 0; stroke: #ff7f0e; stroke-width: 1.5\"/>\n   </g>\n   <g id=\"line2d_18\">\n    <path d=\"M 49.633125 55.161186 \n\" clip-path=\"url(#p24eb6e37d2)\" style=\"fill: none; stroke-dasharray: 9.6,2.4,1.5,2.4; stroke-dashoffset: 0; stroke: #2ca02c; stroke-width: 1.5\"/>\n   </g>\n   <g id=\"line2d_19\">\n    <path d=\"M 34.954394 13.5 \nL 44.698573 91.763643 \nL 54.442752 106.03221 \n\" clip-path=\"url(#p24eb6e37d2)\" style=\"fill: none; stroke: #1f77b4; stroke-width: 1.5; stroke-linecap: square\"/>\n   </g>\n   <g id=\"line2d_20\">\n    <path d=\"M 49.633125 83.043899 \n\" clip-path=\"url(#p24eb6e37d2)\" style=\"fill: none; stroke-dasharray: 5.55,2.4; stroke-dashoffset: 0; stroke: #ff7f0e; stroke-width: 1.5\"/>\n   </g>\n   <g id=\"line2d_21\">\n    <path d=\"M 49.633125 55.161186 \n\" clip-path=\"url(#p24eb6e37d2)\" style=\"fill: none; stroke-dasharray: 9.6,2.4,1.5,2.4; stroke-dashoffset: 0; stroke: #2ca02c; stroke-width: 1.5\"/>\n   </g>\n   <g id=\"line2d_22\">\n    <path d=\"M 34.954394 13.5 \nL 44.698573 91.763643 \nL 54.442752 106.03221 \nL 64.186931 112.848659 \n\" clip-path=\"url(#p24eb6e37d2)\" style=\"fill: none; stroke: #1f77b4; stroke-width: 1.5; stroke-linecap: square\"/>\n   </g>\n   <g id=\"line2d_23\">\n    <path d=\"M 49.633125 83.043899 \n\" clip-path=\"url(#p24eb6e37d2)\" style=\"fill: none; stroke-dasharray: 5.55,2.4; stroke-dashoffset: 0; stroke: #ff7f0e; stroke-width: 1.5\"/>\n   </g>\n   <g id=\"line2d_24\">\n    <path d=\"M 49.633125 55.161186 \n\" clip-path=\"url(#p24eb6e37d2)\" style=\"fill: none; stroke-dasharray: 9.6,2.4,1.5,2.4; stroke-dashoffset: 0; stroke: #2ca02c; stroke-width: 1.5\"/>\n   </g>\n   <g id=\"line2d_25\">\n    <path d=\"M 34.954394 13.5 \nL 44.698573 91.763643 \nL 54.442752 106.03221 \nL 64.186931 112.848659 \n\" clip-path=\"url(#p24eb6e37d2)\" style=\"fill: none; stroke: #1f77b4; stroke-width: 1.5; stroke-linecap: square\"/>\n   </g>\n   <g id=\"line2d_26\">\n    <path d=\"M 49.633125 83.043899 \nL 69.163125 110.782083 \n\" clip-path=\"url(#p24eb6e37d2)\" style=\"fill: none; stroke-dasharray: 5.55,2.4; stroke-dashoffset: 0; stroke: #ff7f0e; stroke-width: 1.5\"/>\n   </g>\n   <g id=\"line2d_27\">\n    <path d=\"M 49.633125 55.161186 \n\" clip-path=\"url(#p24eb6e37d2)\" style=\"fill: none; stroke-dasharray: 9.6,2.4,1.5,2.4; stroke-dashoffset: 0; stroke: #2ca02c; stroke-width: 1.5\"/>\n   </g>\n   <g id=\"line2d_28\">\n    <path d=\"M 34.954394 13.5 \nL 44.698573 91.763643 \nL 54.442752 106.03221 \nL 64.186931 112.848659 \n\" clip-path=\"url(#p24eb6e37d2)\" style=\"fill: none; stroke: #1f77b4; stroke-width: 1.5; stroke-linecap: square\"/>\n   </g>\n   <g id=\"line2d_29\">\n    <path d=\"M 49.633125 83.043899 \nL 69.163125 110.782083 \n\" clip-path=\"url(#p24eb6e37d2)\" style=\"fill: none; stroke-dasharray: 5.55,2.4; stroke-dashoffset: 0; stroke: #ff7f0e; stroke-width: 1.5\"/>\n   </g>\n   <g id=\"line2d_30\">\n    <path d=\"M 49.633125 55.161186 \nL 69.163125 39.731587 \n\" clip-path=\"url(#p24eb6e37d2)\" style=\"fill: none; stroke-dasharray: 9.6,2.4,1.5,2.4; stroke-dashoffset: 0; stroke: #2ca02c; stroke-width: 1.5\"/>\n   </g>\n   <g id=\"line2d_31\">\n    <path d=\"M 34.954394 13.5 \nL 44.698573 91.763643 \nL 54.442752 106.03221 \nL 64.186931 112.848659 \nL 73.93111 118.114702 \n\" clip-path=\"url(#p24eb6e37d2)\" style=\"fill: none; stroke: #1f77b4; stroke-width: 1.5; stroke-linecap: square\"/>\n   </g>\n   <g id=\"line2d_32\">\n    <path d=\"M 49.633125 83.043899 \nL 69.163125 110.782083 \n\" clip-path=\"url(#p24eb6e37d2)\" style=\"fill: none; stroke-dasharray: 5.55,2.4; stroke-dashoffset: 0; stroke: #ff7f0e; stroke-width: 1.5\"/>\n   </g>\n   <g id=\"line2d_33\">\n    <path d=\"M 49.633125 55.161186 \nL 69.163125 39.731587 \n\" clip-path=\"url(#p24eb6e37d2)\" style=\"fill: none; stroke-dasharray: 9.6,2.4,1.5,2.4; stroke-dashoffset: 0; stroke: #2ca02c; stroke-width: 1.5\"/>\n   </g>\n   <g id=\"line2d_34\">\n    <path d=\"M 34.954394 13.5 \nL 44.698573 91.763643 \nL 54.442752 106.03221 \nL 64.186931 112.848659 \nL 73.93111 118.114702 \nL 83.675289 120.519438 \n\" clip-path=\"url(#p24eb6e37d2)\" style=\"fill: none; stroke: #1f77b4; stroke-width: 1.5; stroke-linecap: square\"/>\n   </g>\n   <g id=\"line2d_35\">\n    <path d=\"M 49.633125 83.043899 \nL 69.163125 110.782083 \n\" clip-path=\"url(#p24eb6e37d2)\" style=\"fill: none; stroke-dasharray: 5.55,2.4; stroke-dashoffset: 0; stroke: #ff7f0e; stroke-width: 1.5\"/>\n   </g>\n   <g id=\"line2d_36\">\n    <path d=\"M 49.633125 55.161186 \nL 69.163125 39.731587 \n\" clip-path=\"url(#p24eb6e37d2)\" style=\"fill: none; stroke-dasharray: 9.6,2.4,1.5,2.4; stroke-dashoffset: 0; stroke: #2ca02c; stroke-width: 1.5\"/>\n   </g>\n   <g id=\"line2d_37\">\n    <path d=\"M 34.954394 13.5 \nL 44.698573 91.763643 \nL 54.442752 106.03221 \nL 64.186931 112.848659 \nL 73.93111 118.114702 \nL 83.675289 120.519438 \n\" clip-path=\"url(#p24eb6e37d2)\" style=\"fill: none; stroke: #1f77b4; stroke-width: 1.5; stroke-linecap: square\"/>\n   </g>\n   <g id=\"line2d_38\">\n    <path d=\"M 49.633125 83.043899 \nL 69.163125 110.782083 \nL 88.693125 117.18562 \n\" clip-path=\"url(#p24eb6e37d2)\" style=\"fill: none; stroke-dasharray: 5.55,2.4; stroke-dashoffset: 0; stroke: #ff7f0e; stroke-width: 1.5\"/>\n   </g>\n   <g id=\"line2d_39\">\n    <path d=\"M 49.633125 55.161186 \nL 69.163125 39.731587 \n\" clip-path=\"url(#p24eb6e37d2)\" style=\"fill: none; stroke-dasharray: 9.6,2.4,1.5,2.4; stroke-dashoffset: 0; stroke: #2ca02c; stroke-width: 1.5\"/>\n   </g>\n   <g id=\"line2d_40\">\n    <path d=\"M 34.954394 13.5 \nL 44.698573 91.763643 \nL 54.442752 106.03221 \nL 64.186931 112.848659 \nL 73.93111 118.114702 \nL 83.675289 120.519438 \n\" clip-path=\"url(#p24eb6e37d2)\" style=\"fill: none; stroke: #1f77b4; stroke-width: 1.5; stroke-linecap: square\"/>\n   </g>\n   <g id=\"line2d_41\">\n    <path d=\"M 49.633125 83.043899 \nL 69.163125 110.782083 \nL 88.693125 117.18562 \n\" clip-path=\"url(#p24eb6e37d2)\" style=\"fill: none; stroke-dasharray: 5.55,2.4; stroke-dashoffset: 0; stroke: #ff7f0e; stroke-width: 1.5\"/>\n   </g>\n   <g id=\"line2d_42\">\n    <path d=\"M 49.633125 55.161186 \nL 69.163125 39.731587 \nL 88.693125 37.63436 \n\" clip-path=\"url(#p24eb6e37d2)\" style=\"fill: none; stroke-dasharray: 9.6,2.4,1.5,2.4; stroke-dashoffset: 0; stroke: #2ca02c; stroke-width: 1.5\"/>\n   </g>\n   <g id=\"line2d_43\">\n    <path d=\"M 34.954394 13.5 \nL 44.698573 91.763643 \nL 54.442752 106.03221 \nL 64.186931 112.848659 \nL 73.93111 118.114702 \nL 83.675289 120.519438 \nL 93.419468 125.345256 \n\" clip-path=\"url(#p24eb6e37d2)\" style=\"fill: none; stroke: #1f77b4; stroke-width: 1.5; stroke-linecap: square\"/>\n   </g>\n   <g id=\"line2d_44\">\n    <path d=\"M 49.633125 83.043899 \nL 69.163125 110.782083 \nL 88.693125 117.18562 \n\" clip-path=\"url(#p24eb6e37d2)\" style=\"fill: none; stroke-dasharray: 5.55,2.4; stroke-dashoffset: 0; stroke: #ff7f0e; stroke-width: 1.5\"/>\n   </g>\n   <g id=\"line2d_45\">\n    <path d=\"M 49.633125 55.161186 \nL 69.163125 39.731587 \nL 88.693125 37.63436 \n\" clip-path=\"url(#p24eb6e37d2)\" style=\"fill: none; stroke-dasharray: 9.6,2.4,1.5,2.4; stroke-dashoffset: 0; stroke: #2ca02c; stroke-width: 1.5\"/>\n   </g>\n   <g id=\"line2d_46\">\n    <path d=\"M 34.954394 13.5 \nL 44.698573 91.763643 \nL 54.442752 106.03221 \nL 64.186931 112.848659 \nL 73.93111 118.114702 \nL 83.675289 120.519438 \nL 93.419468 125.345256 \nL 103.163647 125.010011 \n\" clip-path=\"url(#p24eb6e37d2)\" style=\"fill: none; stroke: #1f77b4; stroke-width: 1.5; stroke-linecap: square\"/>\n   </g>\n   <g id=\"line2d_47\">\n    <path d=\"M 49.633125 83.043899 \nL 69.163125 110.782083 \nL 88.693125 117.18562 \n\" clip-path=\"url(#p24eb6e37d2)\" style=\"fill: none; stroke-dasharray: 5.55,2.4; stroke-dashoffset: 0; stroke: #ff7f0e; stroke-width: 1.5\"/>\n   </g>\n   <g id=\"line2d_48\">\n    <path d=\"M 49.633125 55.161186 \nL 69.163125 39.731587 \nL 88.693125 37.63436 \n\" clip-path=\"url(#p24eb6e37d2)\" style=\"fill: none; stroke-dasharray: 9.6,2.4,1.5,2.4; stroke-dashoffset: 0; stroke: #2ca02c; stroke-width: 1.5\"/>\n   </g>\n   <g id=\"line2d_49\">\n    <path d=\"M 34.954394 13.5 \nL 44.698573 91.763643 \nL 54.442752 106.03221 \nL 64.186931 112.848659 \nL 73.93111 118.114702 \nL 83.675289 120.519438 \nL 93.419468 125.345256 \nL 103.163647 125.010011 \n\" clip-path=\"url(#p24eb6e37d2)\" style=\"fill: none; stroke: #1f77b4; stroke-width: 1.5; stroke-linecap: square\"/>\n   </g>\n   <g id=\"line2d_50\">\n    <path d=\"M 49.633125 83.043899 \nL 69.163125 110.782083 \nL 88.693125 117.18562 \nL 108.223125 119.863901 \n\" clip-path=\"url(#p24eb6e37d2)\" style=\"fill: none; stroke-dasharray: 5.55,2.4; stroke-dashoffset: 0; stroke: #ff7f0e; stroke-width: 1.5\"/>\n   </g>\n   <g id=\"line2d_51\">\n    <path d=\"M 49.633125 55.161186 \nL 69.163125 39.731587 \nL 88.693125 37.63436 \n\" clip-path=\"url(#p24eb6e37d2)\" style=\"fill: none; stroke-dasharray: 9.6,2.4,1.5,2.4; stroke-dashoffset: 0; stroke: #2ca02c; stroke-width: 1.5\"/>\n   </g>\n   <g id=\"line2d_52\">\n    <path d=\"M 34.954394 13.5 \nL 44.698573 91.763643 \nL 54.442752 106.03221 \nL 64.186931 112.848659 \nL 73.93111 118.114702 \nL 83.675289 120.519438 \nL 93.419468 125.345256 \nL 103.163647 125.010011 \n\" clip-path=\"url(#p24eb6e37d2)\" style=\"fill: none; stroke: #1f77b4; stroke-width: 1.5; stroke-linecap: square\"/>\n   </g>\n   <g id=\"line2d_53\">\n    <path d=\"M 49.633125 83.043899 \nL 69.163125 110.782083 \nL 88.693125 117.18562 \nL 108.223125 119.863901 \n\" clip-path=\"url(#p24eb6e37d2)\" style=\"fill: none; stroke-dasharray: 5.55,2.4; stroke-dashoffset: 0; stroke: #ff7f0e; stroke-width: 1.5\"/>\n   </g>\n   <g id=\"line2d_54\">\n    <path d=\"M 49.633125 55.161186 \nL 69.163125 39.731587 \nL 88.693125 37.63436 \nL 108.223125 36.053118 \n\" clip-path=\"url(#p24eb6e37d2)\" style=\"fill: none; stroke-dasharray: 9.6,2.4,1.5,2.4; stroke-dashoffset: 0; stroke: #2ca02c; stroke-width: 1.5\"/>\n   </g>\n   <g id=\"line2d_55\">\n    <path d=\"M 34.954394 13.5 \nL 44.698573 91.763643 \nL 54.442752 106.03221 \nL 64.186931 112.848659 \nL 73.93111 118.114702 \nL 83.675289 120.519438 \nL 93.419468 125.345256 \nL 103.163647 125.010011 \nL 112.907826 128.15475 \n\" clip-path=\"url(#p24eb6e37d2)\" style=\"fill: none; stroke: #1f77b4; stroke-width: 1.5; stroke-linecap: square\"/>\n   </g>\n   <g id=\"line2d_56\">\n    <path d=\"M 49.633125 83.043899 \nL 69.163125 110.782083 \nL 88.693125 117.18562 \nL 108.223125 119.863901 \n\" clip-path=\"url(#p24eb6e37d2)\" style=\"fill: none; stroke-dasharray: 5.55,2.4; stroke-dashoffset: 0; stroke: #ff7f0e; stroke-width: 1.5\"/>\n   </g>\n   <g id=\"line2d_57\">\n    <path d=\"M 49.633125 55.161186 \nL 69.163125 39.731587 \nL 88.693125 37.63436 \nL 108.223125 36.053118 \n\" clip-path=\"url(#p24eb6e37d2)\" style=\"fill: none; stroke-dasharray: 9.6,2.4,1.5,2.4; stroke-dashoffset: 0; stroke: #2ca02c; stroke-width: 1.5\"/>\n   </g>\n   <g id=\"line2d_58\">\n    <path d=\"M 34.954394 13.5 \nL 44.698573 91.763643 \nL 54.442752 106.03221 \nL 64.186931 112.848659 \nL 73.93111 118.114702 \nL 83.675289 120.519438 \nL 93.419468 125.345256 \nL 103.163647 125.010011 \nL 112.907826 128.15475 \nL 122.652006 129.7321 \n\" clip-path=\"url(#p24eb6e37d2)\" style=\"fill: none; stroke: #1f77b4; stroke-width: 1.5; stroke-linecap: square\"/>\n   </g>\n   <g id=\"line2d_59\">\n    <path d=\"M 49.633125 83.043899 \nL 69.163125 110.782083 \nL 88.693125 117.18562 \nL 108.223125 119.863901 \n\" clip-path=\"url(#p24eb6e37d2)\" style=\"fill: none; stroke-dasharray: 5.55,2.4; stroke-dashoffset: 0; stroke: #ff7f0e; stroke-width: 1.5\"/>\n   </g>\n   <g id=\"line2d_60\">\n    <path d=\"M 49.633125 55.161186 \nL 69.163125 39.731587 \nL 88.693125 37.63436 \nL 108.223125 36.053118 \n\" clip-path=\"url(#p24eb6e37d2)\" style=\"fill: none; stroke-dasharray: 9.6,2.4,1.5,2.4; stroke-dashoffset: 0; stroke: #2ca02c; stroke-width: 1.5\"/>\n   </g>\n   <g id=\"line2d_61\">\n    <path d=\"M 34.954394 13.5 \nL 44.698573 91.763643 \nL 54.442752 106.03221 \nL 64.186931 112.848659 \nL 73.93111 118.114702 \nL 83.675289 120.519438 \nL 93.419468 125.345256 \nL 103.163647 125.010011 \nL 112.907826 128.15475 \nL 122.652006 129.7321 \n\" clip-path=\"url(#p24eb6e37d2)\" style=\"fill: none; stroke: #1f77b4; stroke-width: 1.5; stroke-linecap: square\"/>\n   </g>\n   <g id=\"line2d_62\">\n    <path d=\"M 49.633125 83.043899 \nL 69.163125 110.782083 \nL 88.693125 117.18562 \nL 108.223125 119.863901 \nL 127.753125 125.66199 \n\" clip-path=\"url(#p24eb6e37d2)\" style=\"fill: none; stroke-dasharray: 5.55,2.4; stroke-dashoffset: 0; stroke: #ff7f0e; stroke-width: 1.5\"/>\n   </g>\n   <g id=\"line2d_63\">\n    <path d=\"M 49.633125 55.161186 \nL 69.163125 39.731587 \nL 88.693125 37.63436 \nL 108.223125 36.053118 \n\" clip-path=\"url(#p24eb6e37d2)\" style=\"fill: none; stroke-dasharray: 9.6,2.4,1.5,2.4; stroke-dashoffset: 0; stroke: #2ca02c; stroke-width: 1.5\"/>\n   </g>\n   <g id=\"line2d_64\">\n    <path d=\"M 34.954394 13.5 \nL 44.698573 91.763643 \nL 54.442752 106.03221 \nL 64.186931 112.848659 \nL 73.93111 118.114702 \nL 83.675289 120.519438 \nL 93.419468 125.345256 \nL 103.163647 125.010011 \nL 112.907826 128.15475 \nL 122.652006 129.7321 \n\" clip-path=\"url(#p24eb6e37d2)\" style=\"fill: none; stroke: #1f77b4; stroke-width: 1.5; stroke-linecap: square\"/>\n   </g>\n   <g id=\"line2d_65\">\n    <path d=\"M 49.633125 83.043899 \nL 69.163125 110.782083 \nL 88.693125 117.18562 \nL 108.223125 119.863901 \nL 127.753125 125.66199 \n\" clip-path=\"url(#p24eb6e37d2)\" style=\"fill: none; stroke-dasharray: 5.55,2.4; stroke-dashoffset: 0; stroke: #ff7f0e; stroke-width: 1.5\"/>\n   </g>\n   <g id=\"line2d_66\">\n    <path d=\"M 49.633125 55.161186 \nL 69.163125 39.731587 \nL 88.693125 37.63436 \nL 108.223125 36.053118 \nL 127.753125 34.055758 \n\" clip-path=\"url(#p24eb6e37d2)\" style=\"fill: none; stroke-dasharray: 9.6,2.4,1.5,2.4; stroke-dashoffset: 0; stroke: #2ca02c; stroke-width: 1.5\"/>\n   </g>\n   <g id=\"line2d_67\">\n    <path d=\"M 34.954394 13.5 \nL 44.698573 91.763643 \nL 54.442752 106.03221 \nL 64.186931 112.848659 \nL 73.93111 118.114702 \nL 83.675289 120.519438 \nL 93.419468 125.345256 \nL 103.163647 125.010011 \nL 112.907826 128.15475 \nL 122.652006 129.7321 \nL 132.396185 132.010227 \n\" clip-path=\"url(#p24eb6e37d2)\" style=\"fill: none; stroke: #1f77b4; stroke-width: 1.5; stroke-linecap: square\"/>\n   </g>\n   <g id=\"line2d_68\">\n    <path d=\"M 49.633125 83.043899 \nL 69.163125 110.782083 \nL 88.693125 117.18562 \nL 108.223125 119.863901 \nL 127.753125 125.66199 \n\" clip-path=\"url(#p24eb6e37d2)\" style=\"fill: none; stroke-dasharray: 5.55,2.4; stroke-dashoffset: 0; stroke: #ff7f0e; stroke-width: 1.5\"/>\n   </g>\n   <g id=\"line2d_69\">\n    <path d=\"M 49.633125 55.161186 \nL 69.163125 39.731587 \nL 88.693125 37.63436 \nL 108.223125 36.053118 \nL 127.753125 34.055758 \n\" clip-path=\"url(#p24eb6e37d2)\" style=\"fill: none; stroke-dasharray: 9.6,2.4,1.5,2.4; stroke-dashoffset: 0; stroke: #2ca02c; stroke-width: 1.5\"/>\n   </g>\n   <g id=\"line2d_70\">\n    <path d=\"M 34.954394 13.5 \nL 44.698573 91.763643 \nL 54.442752 106.03221 \nL 64.186931 112.848659 \nL 73.93111 118.114702 \nL 83.675289 120.519438 \nL 93.419468 125.345256 \nL 103.163647 125.010011 \nL 112.907826 128.15475 \nL 122.652006 129.7321 \nL 132.396185 132.010227 \nL 142.140364 131.165495 \n\" clip-path=\"url(#p24eb6e37d2)\" style=\"fill: none; stroke: #1f77b4; stroke-width: 1.5; stroke-linecap: square\"/>\n   </g>\n   <g id=\"line2d_71\">\n    <path d=\"M 49.633125 83.043899 \nL 69.163125 110.782083 \nL 88.693125 117.18562 \nL 108.223125 119.863901 \nL 127.753125 125.66199 \n\" clip-path=\"url(#p24eb6e37d2)\" style=\"fill: none; stroke-dasharray: 5.55,2.4; stroke-dashoffset: 0; stroke: #ff7f0e; stroke-width: 1.5\"/>\n   </g>\n   <g id=\"line2d_72\">\n    <path d=\"M 49.633125 55.161186 \nL 69.163125 39.731587 \nL 88.693125 37.63436 \nL 108.223125 36.053118 \nL 127.753125 34.055758 \n\" clip-path=\"url(#p24eb6e37d2)\" style=\"fill: none; stroke-dasharray: 9.6,2.4,1.5,2.4; stroke-dashoffset: 0; stroke: #2ca02c; stroke-width: 1.5\"/>\n   </g>\n   <g id=\"line2d_73\">\n    <path d=\"M 34.954394 13.5 \nL 44.698573 91.763643 \nL 54.442752 106.03221 \nL 64.186931 112.848659 \nL 73.93111 118.114702 \nL 83.675289 120.519438 \nL 93.419468 125.345256 \nL 103.163647 125.010011 \nL 112.907826 128.15475 \nL 122.652006 129.7321 \nL 132.396185 132.010227 \nL 142.140364 131.165495 \n\" clip-path=\"url(#p24eb6e37d2)\" style=\"fill: none; stroke: #1f77b4; stroke-width: 1.5; stroke-linecap: square\"/>\n   </g>\n   <g id=\"line2d_74\">\n    <path d=\"M 49.633125 83.043899 \nL 69.163125 110.782083 \nL 88.693125 117.18562 \nL 108.223125 119.863901 \nL 127.753125 125.66199 \nL 147.283125 120.039136 \n\" clip-path=\"url(#p24eb6e37d2)\" style=\"fill: none; stroke-dasharray: 5.55,2.4; stroke-dashoffset: 0; stroke: #ff7f0e; stroke-width: 1.5\"/>\n   </g>\n   <g id=\"line2d_75\">\n    <path d=\"M 49.633125 55.161186 \nL 69.163125 39.731587 \nL 88.693125 37.63436 \nL 108.223125 36.053118 \nL 127.753125 34.055758 \n\" clip-path=\"url(#p24eb6e37d2)\" style=\"fill: none; stroke-dasharray: 9.6,2.4,1.5,2.4; stroke-dashoffset: 0; stroke: #2ca02c; stroke-width: 1.5\"/>\n   </g>\n   <g id=\"line2d_76\">\n    <path d=\"M 34.954394 13.5 \nL 44.698573 91.763643 \nL 54.442752 106.03221 \nL 64.186931 112.848659 \nL 73.93111 118.114702 \nL 83.675289 120.519438 \nL 93.419468 125.345256 \nL 103.163647 125.010011 \nL 112.907826 128.15475 \nL 122.652006 129.7321 \nL 132.396185 132.010227 \nL 142.140364 131.165495 \n\" clip-path=\"url(#p24eb6e37d2)\" style=\"fill: none; stroke: #1f77b4; stroke-width: 1.5; stroke-linecap: square\"/>\n   </g>\n   <g id=\"line2d_77\">\n    <path d=\"M 49.633125 83.043899 \nL 69.163125 110.782083 \nL 88.693125 117.18562 \nL 108.223125 119.863901 \nL 127.753125 125.66199 \nL 147.283125 120.039136 \n\" clip-path=\"url(#p24eb6e37d2)\" style=\"fill: none; stroke-dasharray: 5.55,2.4; stroke-dashoffset: 0; stroke: #ff7f0e; stroke-width: 1.5\"/>\n   </g>\n   <g id=\"line2d_78\">\n    <path d=\"M 49.633125 55.161186 \nL 69.163125 39.731587 \nL 88.693125 37.63436 \nL 108.223125 36.053118 \nL 127.753125 34.055758 \nL 147.283125 38.100411 \n\" clip-path=\"url(#p24eb6e37d2)\" style=\"fill: none; stroke-dasharray: 9.6,2.4,1.5,2.4; stroke-dashoffset: 0; stroke: #2ca02c; stroke-width: 1.5\"/>\n   </g>\n   <g id=\"line2d_79\">\n    <path d=\"M 34.954394 13.5 \nL 44.698573 91.763643 \nL 54.442752 106.03221 \nL 64.186931 112.848659 \nL 73.93111 118.114702 \nL 83.675289 120.519438 \nL 93.419468 125.345256 \nL 103.163647 125.010011 \nL 112.907826 128.15475 \nL 122.652006 129.7321 \nL 132.396185 132.010227 \nL 142.140364 131.165495 \nL 151.884543 134.375121 \n\" clip-path=\"url(#p24eb6e37d2)\" style=\"fill: none; stroke: #1f77b4; stroke-width: 1.5; stroke-linecap: square\"/>\n   </g>\n   <g id=\"line2d_80\">\n    <path d=\"M 49.633125 83.043899 \nL 69.163125 110.782083 \nL 88.693125 117.18562 \nL 108.223125 119.863901 \nL 127.753125 125.66199 \nL 147.283125 120.039136 \n\" clip-path=\"url(#p24eb6e37d2)\" style=\"fill: none; stroke-dasharray: 5.55,2.4; stroke-dashoffset: 0; stroke: #ff7f0e; stroke-width: 1.5\"/>\n   </g>\n   <g id=\"line2d_81\">\n    <path d=\"M 49.633125 55.161186 \nL 69.163125 39.731587 \nL 88.693125 37.63436 \nL 108.223125 36.053118 \nL 127.753125 34.055758 \nL 147.283125 38.100411 \n\" clip-path=\"url(#p24eb6e37d2)\" style=\"fill: none; stroke-dasharray: 9.6,2.4,1.5,2.4; stroke-dashoffset: 0; stroke: #2ca02c; stroke-width: 1.5\"/>\n   </g>\n   <g id=\"line2d_82\">\n    <path d=\"M 34.954394 13.5 \nL 44.698573 91.763643 \nL 54.442752 106.03221 \nL 64.186931 112.848659 \nL 73.93111 118.114702 \nL 83.675289 120.519438 \nL 93.419468 125.345256 \nL 103.163647 125.010011 \nL 112.907826 128.15475 \nL 122.652006 129.7321 \nL 132.396185 132.010227 \nL 142.140364 131.165495 \nL 151.884543 134.375121 \nL 161.628722 133.75043 \n\" clip-path=\"url(#p24eb6e37d2)\" style=\"fill: none; stroke: #1f77b4; stroke-width: 1.5; stroke-linecap: square\"/>\n   </g>\n   <g id=\"line2d_83\">\n    <path d=\"M 49.633125 83.043899 \nL 69.163125 110.782083 \nL 88.693125 117.18562 \nL 108.223125 119.863901 \nL 127.753125 125.66199 \nL 147.283125 120.039136 \n\" clip-path=\"url(#p24eb6e37d2)\" style=\"fill: none; stroke-dasharray: 5.55,2.4; stroke-dashoffset: 0; stroke: #ff7f0e; stroke-width: 1.5\"/>\n   </g>\n   <g id=\"line2d_84\">\n    <path d=\"M 49.633125 55.161186 \nL 69.163125 39.731587 \nL 88.693125 37.63436 \nL 108.223125 36.053118 \nL 127.753125 34.055758 \nL 147.283125 38.100411 \n\" clip-path=\"url(#p24eb6e37d2)\" style=\"fill: none; stroke-dasharray: 9.6,2.4,1.5,2.4; stroke-dashoffset: 0; stroke: #2ca02c; stroke-width: 1.5\"/>\n   </g>\n   <g id=\"line2d_85\">\n    <path d=\"M 34.954394 13.5 \nL 44.698573 91.763643 \nL 54.442752 106.03221 \nL 64.186931 112.848659 \nL 73.93111 118.114702 \nL 83.675289 120.519438 \nL 93.419468 125.345256 \nL 103.163647 125.010011 \nL 112.907826 128.15475 \nL 122.652006 129.7321 \nL 132.396185 132.010227 \nL 142.140364 131.165495 \nL 151.884543 134.375121 \nL 161.628722 133.75043 \n\" clip-path=\"url(#p24eb6e37d2)\" style=\"fill: none; stroke: #1f77b4; stroke-width: 1.5; stroke-linecap: square\"/>\n   </g>\n   <g id=\"line2d_86\">\n    <path d=\"M 49.633125 83.043899 \nL 69.163125 110.782083 \nL 88.693125 117.18562 \nL 108.223125 119.863901 \nL 127.753125 125.66199 \nL 147.283125 120.039136 \nL 166.813125 128.868465 \n\" clip-path=\"url(#p24eb6e37d2)\" style=\"fill: none; stroke-dasharray: 5.55,2.4; stroke-dashoffset: 0; stroke: #ff7f0e; stroke-width: 1.5\"/>\n   </g>\n   <g id=\"line2d_87\">\n    <path d=\"M 49.633125 55.161186 \nL 69.163125 39.731587 \nL 88.693125 37.63436 \nL 108.223125 36.053118 \nL 127.753125 34.055758 \nL 147.283125 38.100411 \n\" clip-path=\"url(#p24eb6e37d2)\" style=\"fill: none; stroke-dasharray: 9.6,2.4,1.5,2.4; stroke-dashoffset: 0; stroke: #2ca02c; stroke-width: 1.5\"/>\n   </g>\n   <g id=\"line2d_88\">\n    <path d=\"M 34.954394 13.5 \nL 44.698573 91.763643 \nL 54.442752 106.03221 \nL 64.186931 112.848659 \nL 73.93111 118.114702 \nL 83.675289 120.519438 \nL 93.419468 125.345256 \nL 103.163647 125.010011 \nL 112.907826 128.15475 \nL 122.652006 129.7321 \nL 132.396185 132.010227 \nL 142.140364 131.165495 \nL 151.884543 134.375121 \nL 161.628722 133.75043 \n\" clip-path=\"url(#p24eb6e37d2)\" style=\"fill: none; stroke: #1f77b4; stroke-width: 1.5; stroke-linecap: square\"/>\n   </g>\n   <g id=\"line2d_89\">\n    <path d=\"M 49.633125 83.043899 \nL 69.163125 110.782083 \nL 88.693125 117.18562 \nL 108.223125 119.863901 \nL 127.753125 125.66199 \nL 147.283125 120.039136 \nL 166.813125 128.868465 \n\" clip-path=\"url(#p24eb6e37d2)\" style=\"fill: none; stroke-dasharray: 5.55,2.4; stroke-dashoffset: 0; stroke: #ff7f0e; stroke-width: 1.5\"/>\n   </g>\n   <g id=\"line2d_90\">\n    <path d=\"M 49.633125 55.161186 \nL 69.163125 39.731587 \nL 88.693125 37.63436 \nL 108.223125 36.053118 \nL 127.753125 34.055758 \nL 147.283125 38.100411 \nL 166.813125 32.374648 \n\" clip-path=\"url(#p24eb6e37d2)\" style=\"fill: none; stroke-dasharray: 9.6,2.4,1.5,2.4; stroke-dashoffset: 0; stroke: #2ca02c; stroke-width: 1.5\"/>\n   </g>\n   <g id=\"line2d_91\">\n    <path d=\"M 34.954394 13.5 \nL 44.698573 91.763643 \nL 54.442752 106.03221 \nL 64.186931 112.848659 \nL 73.93111 118.114702 \nL 83.675289 120.519438 \nL 93.419468 125.345256 \nL 103.163647 125.010011 \nL 112.907826 128.15475 \nL 122.652006 129.7321 \nL 132.396185 132.010227 \nL 142.140364 131.165495 \nL 151.884543 134.375121 \nL 161.628722 133.75043 \nL 171.372901 135.647155 \n\" clip-path=\"url(#p24eb6e37d2)\" style=\"fill: none; stroke: #1f77b4; stroke-width: 1.5; stroke-linecap: square\"/>\n   </g>\n   <g id=\"line2d_92\">\n    <path d=\"M 49.633125 83.043899 \nL 69.163125 110.782083 \nL 88.693125 117.18562 \nL 108.223125 119.863901 \nL 127.753125 125.66199 \nL 147.283125 120.039136 \nL 166.813125 128.868465 \n\" clip-path=\"url(#p24eb6e37d2)\" style=\"fill: none; stroke-dasharray: 5.55,2.4; stroke-dashoffset: 0; stroke: #ff7f0e; stroke-width: 1.5\"/>\n   </g>\n   <g id=\"line2d_93\">\n    <path d=\"M 49.633125 55.161186 \nL 69.163125 39.731587 \nL 88.693125 37.63436 \nL 108.223125 36.053118 \nL 127.753125 34.055758 \nL 147.283125 38.100411 \nL 166.813125 32.374648 \n\" clip-path=\"url(#p24eb6e37d2)\" style=\"fill: none; stroke-dasharray: 9.6,2.4,1.5,2.4; stroke-dashoffset: 0; stroke: #2ca02c; stroke-width: 1.5\"/>\n   </g>\n   <g id=\"line2d_94\">\n    <path d=\"M 34.954394 13.5 \nL 44.698573 91.763643 \nL 54.442752 106.03221 \nL 64.186931 112.848659 \nL 73.93111 118.114702 \nL 83.675289 120.519438 \nL 93.419468 125.345256 \nL 103.163647 125.010011 \nL 112.907826 128.15475 \nL 122.652006 129.7321 \nL 132.396185 132.010227 \nL 142.140364 131.165495 \nL 151.884543 134.375121 \nL 161.628722 133.75043 \nL 171.372901 135.647155 \nL 181.11708 136.829259 \n\" clip-path=\"url(#p24eb6e37d2)\" style=\"fill: none; stroke: #1f77b4; stroke-width: 1.5; stroke-linecap: square\"/>\n   </g>\n   <g id=\"line2d_95\">\n    <path d=\"M 49.633125 83.043899 \nL 69.163125 110.782083 \nL 88.693125 117.18562 \nL 108.223125 119.863901 \nL 127.753125 125.66199 \nL 147.283125 120.039136 \nL 166.813125 128.868465 \n\" clip-path=\"url(#p24eb6e37d2)\" style=\"fill: none; stroke-dasharray: 5.55,2.4; stroke-dashoffset: 0; stroke: #ff7f0e; stroke-width: 1.5\"/>\n   </g>\n   <g id=\"line2d_96\">\n    <path d=\"M 49.633125 55.161186 \nL 69.163125 39.731587 \nL 88.693125 37.63436 \nL 108.223125 36.053118 \nL 127.753125 34.055758 \nL 147.283125 38.100411 \nL 166.813125 32.374648 \n\" clip-path=\"url(#p24eb6e37d2)\" style=\"fill: none; stroke-dasharray: 9.6,2.4,1.5,2.4; stroke-dashoffset: 0; stroke: #2ca02c; stroke-width: 1.5\"/>\n   </g>\n   <g id=\"line2d_97\">\n    <path d=\"M 34.954394 13.5 \nL 44.698573 91.763643 \nL 54.442752 106.03221 \nL 64.186931 112.848659 \nL 73.93111 118.114702 \nL 83.675289 120.519438 \nL 93.419468 125.345256 \nL 103.163647 125.010011 \nL 112.907826 128.15475 \nL 122.652006 129.7321 \nL 132.396185 132.010227 \nL 142.140364 131.165495 \nL 151.884543 134.375121 \nL 161.628722 133.75043 \nL 171.372901 135.647155 \nL 181.11708 136.829259 \n\" clip-path=\"url(#p24eb6e37d2)\" style=\"fill: none; stroke: #1f77b4; stroke-width: 1.5; stroke-linecap: square\"/>\n   </g>\n   <g id=\"line2d_98\">\n    <path d=\"M 49.633125 83.043899 \nL 69.163125 110.782083 \nL 88.693125 117.18562 \nL 108.223125 119.863901 \nL 127.753125 125.66199 \nL 147.283125 120.039136 \nL 166.813125 128.868465 \nL 186.343125 125.273506 \n\" clip-path=\"url(#p24eb6e37d2)\" style=\"fill: none; stroke-dasharray: 5.55,2.4; stroke-dashoffset: 0; stroke: #ff7f0e; stroke-width: 1.5\"/>\n   </g>\n   <g id=\"line2d_99\">\n    <path d=\"M 49.633125 55.161186 \nL 69.163125 39.731587 \nL 88.693125 37.63436 \nL 108.223125 36.053118 \nL 127.753125 34.055758 \nL 147.283125 38.100411 \nL 166.813125 32.374648 \n\" clip-path=\"url(#p24eb6e37d2)\" style=\"fill: none; stroke-dasharray: 9.6,2.4,1.5,2.4; stroke-dashoffset: 0; stroke: #2ca02c; stroke-width: 1.5\"/>\n   </g>\n   <g id=\"line2d_100\">\n    <path d=\"M 34.954394 13.5 \nL 44.698573 91.763643 \nL 54.442752 106.03221 \nL 64.186931 112.848659 \nL 73.93111 118.114702 \nL 83.675289 120.519438 \nL 93.419468 125.345256 \nL 103.163647 125.010011 \nL 112.907826 128.15475 \nL 122.652006 129.7321 \nL 132.396185 132.010227 \nL 142.140364 131.165495 \nL 151.884543 134.375121 \nL 161.628722 133.75043 \nL 171.372901 135.647155 \nL 181.11708 136.829259 \n\" clip-path=\"url(#p24eb6e37d2)\" style=\"fill: none; stroke: #1f77b4; stroke-width: 1.5; stroke-linecap: square\"/>\n   </g>\n   <g id=\"line2d_101\">\n    <path d=\"M 49.633125 83.043899 \nL 69.163125 110.782083 \nL 88.693125 117.18562 \nL 108.223125 119.863901 \nL 127.753125 125.66199 \nL 147.283125 120.039136 \nL 166.813125 128.868465 \nL 186.343125 125.273506 \n\" clip-path=\"url(#p24eb6e37d2)\" style=\"fill: none; stroke-dasharray: 5.55,2.4; stroke-dashoffset: 0; stroke: #ff7f0e; stroke-width: 1.5\"/>\n   </g>\n   <g id=\"line2d_102\">\n    <path d=\"M 49.633125 55.161186 \nL 69.163125 39.731587 \nL 88.693125 37.63436 \nL 108.223125 36.053118 \nL 127.753125 34.055758 \nL 147.283125 38.100411 \nL 166.813125 32.374648 \nL 186.343125 34.45523 \n\" clip-path=\"url(#p24eb6e37d2)\" style=\"fill: none; stroke-dasharray: 9.6,2.4,1.5,2.4; stroke-dashoffset: 0; stroke: #2ca02c; stroke-width: 1.5\"/>\n   </g>\n   <g id=\"line2d_103\">\n    <path d=\"M 34.954394 13.5 \nL 44.698573 91.763643 \nL 54.442752 106.03221 \nL 64.186931 112.848659 \nL 73.93111 118.114702 \nL 83.675289 120.519438 \nL 93.419468 125.345256 \nL 103.163647 125.010011 \nL 112.907826 128.15475 \nL 122.652006 129.7321 \nL 132.396185 132.010227 \nL 142.140364 131.165495 \nL 151.884543 134.375121 \nL 161.628722 133.75043 \nL 171.372901 135.647155 \nL 181.11708 136.829259 \nL 190.861259 138.366313 \n\" clip-path=\"url(#p24eb6e37d2)\" style=\"fill: none; stroke: #1f77b4; stroke-width: 1.5; stroke-linecap: square\"/>\n   </g>\n   <g id=\"line2d_104\">\n    <path d=\"M 49.633125 83.043899 \nL 69.163125 110.782083 \nL 88.693125 117.18562 \nL 108.223125 119.863901 \nL 127.753125 125.66199 \nL 147.283125 120.039136 \nL 166.813125 128.868465 \nL 186.343125 125.273506 \n\" clip-path=\"url(#p24eb6e37d2)\" style=\"fill: none; stroke-dasharray: 5.55,2.4; stroke-dashoffset: 0; stroke: #ff7f0e; stroke-width: 1.5\"/>\n   </g>\n   <g id=\"line2d_105\">\n    <path d=\"M 49.633125 55.161186 \nL 69.163125 39.731587 \nL 88.693125 37.63436 \nL 108.223125 36.053118 \nL 127.753125 34.055758 \nL 147.283125 38.100411 \nL 166.813125 32.374648 \nL 186.343125 34.45523 \n\" clip-path=\"url(#p24eb6e37d2)\" style=\"fill: none; stroke-dasharray: 9.6,2.4,1.5,2.4; stroke-dashoffset: 0; stroke: #2ca02c; stroke-width: 1.5\"/>\n   </g>\n   <g id=\"line2d_106\">\n    <path d=\"M 34.954394 13.5 \nL 44.698573 91.763643 \nL 54.442752 106.03221 \nL 64.186931 112.848659 \nL 73.93111 118.114702 \nL 83.675289 120.519438 \nL 93.419468 125.345256 \nL 103.163647 125.010011 \nL 112.907826 128.15475 \nL 122.652006 129.7321 \nL 132.396185 132.010227 \nL 142.140364 131.165495 \nL 151.884543 134.375121 \nL 161.628722 133.75043 \nL 171.372901 135.647155 \nL 181.11708 136.829259 \nL 190.861259 138.366313 \nL 200.605438 138.045876 \n\" clip-path=\"url(#p24eb6e37d2)\" style=\"fill: none; stroke: #1f77b4; stroke-width: 1.5; stroke-linecap: square\"/>\n   </g>\n   <g id=\"line2d_107\">\n    <path d=\"M 49.633125 83.043899 \nL 69.163125 110.782083 \nL 88.693125 117.18562 \nL 108.223125 119.863901 \nL 127.753125 125.66199 \nL 147.283125 120.039136 \nL 166.813125 128.868465 \nL 186.343125 125.273506 \n\" clip-path=\"url(#p24eb6e37d2)\" style=\"fill: none; stroke-dasharray: 5.55,2.4; stroke-dashoffset: 0; stroke: #ff7f0e; stroke-width: 1.5\"/>\n   </g>\n   <g id=\"line2d_108\">\n    <path d=\"M 49.633125 55.161186 \nL 69.163125 39.731587 \nL 88.693125 37.63436 \nL 108.223125 36.053118 \nL 127.753125 34.055758 \nL 147.283125 38.100411 \nL 166.813125 32.374648 \nL 186.343125 34.45523 \n\" clip-path=\"url(#p24eb6e37d2)\" style=\"fill: none; stroke-dasharray: 9.6,2.4,1.5,2.4; stroke-dashoffset: 0; stroke: #2ca02c; stroke-width: 1.5\"/>\n   </g>\n   <g id=\"line2d_109\">\n    <path d=\"M 34.954394 13.5 \nL 44.698573 91.763643 \nL 54.442752 106.03221 \nL 64.186931 112.848659 \nL 73.93111 118.114702 \nL 83.675289 120.519438 \nL 93.419468 125.345256 \nL 103.163647 125.010011 \nL 112.907826 128.15475 \nL 122.652006 129.7321 \nL 132.396185 132.010227 \nL 142.140364 131.165495 \nL 151.884543 134.375121 \nL 161.628722 133.75043 \nL 171.372901 135.647155 \nL 181.11708 136.829259 \nL 190.861259 138.366313 \nL 200.605438 138.045876 \n\" clip-path=\"url(#p24eb6e37d2)\" style=\"fill: none; stroke: #1f77b4; stroke-width: 1.5; stroke-linecap: square\"/>\n   </g>\n   <g id=\"line2d_110\">\n    <path d=\"M 49.633125 83.043899 \nL 69.163125 110.782083 \nL 88.693125 117.18562 \nL 108.223125 119.863901 \nL 127.753125 125.66199 \nL 147.283125 120.039136 \nL 166.813125 128.868465 \nL 186.343125 125.273506 \nL 205.873125 128.202973 \n\" clip-path=\"url(#p24eb6e37d2)\" style=\"fill: none; stroke-dasharray: 5.55,2.4; stroke-dashoffset: 0; stroke: #ff7f0e; stroke-width: 1.5\"/>\n   </g>\n   <g id=\"line2d_111\">\n    <path d=\"M 49.633125 55.161186 \nL 69.163125 39.731587 \nL 88.693125 37.63436 \nL 108.223125 36.053118 \nL 127.753125 34.055758 \nL 147.283125 38.100411 \nL 166.813125 32.374648 \nL 186.343125 34.45523 \n\" clip-path=\"url(#p24eb6e37d2)\" style=\"fill: none; stroke-dasharray: 9.6,2.4,1.5,2.4; stroke-dashoffset: 0; stroke: #2ca02c; stroke-width: 1.5\"/>\n   </g>\n   <g id=\"line2d_112\">\n    <path d=\"M 34.954394 13.5 \nL 44.698573 91.763643 \nL 54.442752 106.03221 \nL 64.186931 112.848659 \nL 73.93111 118.114702 \nL 83.675289 120.519438 \nL 93.419468 125.345256 \nL 103.163647 125.010011 \nL 112.907826 128.15475 \nL 122.652006 129.7321 \nL 132.396185 132.010227 \nL 142.140364 131.165495 \nL 151.884543 134.375121 \nL 161.628722 133.75043 \nL 171.372901 135.647155 \nL 181.11708 136.829259 \nL 190.861259 138.366313 \nL 200.605438 138.045876 \n\" clip-path=\"url(#p24eb6e37d2)\" style=\"fill: none; stroke: #1f77b4; stroke-width: 1.5; stroke-linecap: square\"/>\n   </g>\n   <g id=\"line2d_113\">\n    <path d=\"M 49.633125 83.043899 \nL 69.163125 110.782083 \nL 88.693125 117.18562 \nL 108.223125 119.863901 \nL 127.753125 125.66199 \nL 147.283125 120.039136 \nL 166.813125 128.868465 \nL 186.343125 125.273506 \nL 205.873125 128.202973 \n\" clip-path=\"url(#p24eb6e37d2)\" style=\"fill: none; stroke-dasharray: 5.55,2.4; stroke-dashoffset: 0; stroke: #ff7f0e; stroke-width: 1.5\"/>\n   </g>\n   <g id=\"line2d_114\">\n    <path d=\"M 49.633125 55.161186 \nL 69.163125 39.731587 \nL 88.693125 37.63436 \nL 108.223125 36.053118 \nL 127.753125 34.055758 \nL 147.283125 38.100411 \nL 166.813125 32.374648 \nL 186.343125 34.45523 \nL 205.873125 33.273459 \n\" clip-path=\"url(#p24eb6e37d2)\" style=\"fill: none; stroke-dasharray: 9.6,2.4,1.5,2.4; stroke-dashoffset: 0; stroke: #2ca02c; stroke-width: 1.5\"/>\n   </g>\n   <g id=\"line2d_115\">\n    <path d=\"M 34.954394 13.5 \nL 44.698573 91.763643 \nL 54.442752 106.03221 \nL 64.186931 112.848659 \nL 73.93111 118.114702 \nL 83.675289 120.519438 \nL 93.419468 125.345256 \nL 103.163647 125.010011 \nL 112.907826 128.15475 \nL 122.652006 129.7321 \nL 132.396185 132.010227 \nL 142.140364 131.165495 \nL 151.884543 134.375121 \nL 161.628722 133.75043 \nL 171.372901 135.647155 \nL 181.11708 136.829259 \nL 190.861259 138.366313 \nL 200.605438 138.045876 \nL 210.349618 139.091943 \n\" clip-path=\"url(#p24eb6e37d2)\" style=\"fill: none; stroke: #1f77b4; stroke-width: 1.5; stroke-linecap: square\"/>\n   </g>\n   <g id=\"line2d_116\">\n    <path d=\"M 49.633125 83.043899 \nL 69.163125 110.782083 \nL 88.693125 117.18562 \nL 108.223125 119.863901 \nL 127.753125 125.66199 \nL 147.283125 120.039136 \nL 166.813125 128.868465 \nL 186.343125 125.273506 \nL 205.873125 128.202973 \n\" clip-path=\"url(#p24eb6e37d2)\" style=\"fill: none; stroke-dasharray: 5.55,2.4; stroke-dashoffset: 0; stroke: #ff7f0e; stroke-width: 1.5\"/>\n   </g>\n   <g id=\"line2d_117\">\n    <path d=\"M 49.633125 55.161186 \nL 69.163125 39.731587 \nL 88.693125 37.63436 \nL 108.223125 36.053118 \nL 127.753125 34.055758 \nL 147.283125 38.100411 \nL 166.813125 32.374648 \nL 186.343125 34.45523 \nL 205.873125 33.273459 \n\" clip-path=\"url(#p24eb6e37d2)\" style=\"fill: none; stroke-dasharray: 9.6,2.4,1.5,2.4; stroke-dashoffset: 0; stroke: #2ca02c; stroke-width: 1.5\"/>\n   </g>\n   <g id=\"line2d_118\">\n    <path d=\"M 34.954394 13.5 \nL 44.698573 91.763643 \nL 54.442752 106.03221 \nL 64.186931 112.848659 \nL 73.93111 118.114702 \nL 83.675289 120.519438 \nL 93.419468 125.345256 \nL 103.163647 125.010011 \nL 112.907826 128.15475 \nL 122.652006 129.7321 \nL 132.396185 132.010227 \nL 142.140364 131.165495 \nL 151.884543 134.375121 \nL 161.628722 133.75043 \nL 171.372901 135.647155 \nL 181.11708 136.829259 \nL 190.861259 138.366313 \nL 200.605438 138.045876 \nL 210.349618 139.091943 \nL 220.093797 139.5 \n\" clip-path=\"url(#p24eb6e37d2)\" style=\"fill: none; stroke: #1f77b4; stroke-width: 1.5; stroke-linecap: square\"/>\n   </g>\n   <g id=\"line2d_119\">\n    <path d=\"M 49.633125 83.043899 \nL 69.163125 110.782083 \nL 88.693125 117.18562 \nL 108.223125 119.863901 \nL 127.753125 125.66199 \nL 147.283125 120.039136 \nL 166.813125 128.868465 \nL 186.343125 125.273506 \nL 205.873125 128.202973 \n\" clip-path=\"url(#p24eb6e37d2)\" style=\"fill: none; stroke-dasharray: 5.55,2.4; stroke-dashoffset: 0; stroke: #ff7f0e; stroke-width: 1.5\"/>\n   </g>\n   <g id=\"line2d_120\">\n    <path d=\"M 49.633125 55.161186 \nL 69.163125 39.731587 \nL 88.693125 37.63436 \nL 108.223125 36.053118 \nL 127.753125 34.055758 \nL 147.283125 38.100411 \nL 166.813125 32.374648 \nL 186.343125 34.45523 \nL 205.873125 33.273459 \n\" clip-path=\"url(#p24eb6e37d2)\" style=\"fill: none; stroke-dasharray: 9.6,2.4,1.5,2.4; stroke-dashoffset: 0; stroke: #2ca02c; stroke-width: 1.5\"/>\n   </g>\n   <g id=\"line2d_121\">\n    <path d=\"M 34.954394 13.5 \nL 44.698573 91.763643 \nL 54.442752 106.03221 \nL 64.186931 112.848659 \nL 73.93111 118.114702 \nL 83.675289 120.519438 \nL 93.419468 125.345256 \nL 103.163647 125.010011 \nL 112.907826 128.15475 \nL 122.652006 129.7321 \nL 132.396185 132.010227 \nL 142.140364 131.165495 \nL 151.884543 134.375121 \nL 161.628722 133.75043 \nL 171.372901 135.647155 \nL 181.11708 136.829259 \nL 190.861259 138.366313 \nL 200.605438 138.045876 \nL 210.349618 139.091943 \nL 220.093797 139.5 \n\" clip-path=\"url(#p24eb6e37d2)\" style=\"fill: none; stroke: #1f77b4; stroke-width: 1.5; stroke-linecap: square\"/>\n   </g>\n   <g id=\"line2d_122\">\n    <path d=\"M 49.633125 83.043899 \nL 69.163125 110.782083 \nL 88.693125 117.18562 \nL 108.223125 119.863901 \nL 127.753125 125.66199 \nL 147.283125 120.039136 \nL 166.813125 128.868465 \nL 186.343125 125.273506 \nL 205.873125 128.202973 \nL 225.403125 130.251809 \n\" clip-path=\"url(#p24eb6e37d2)\" style=\"fill: none; stroke-dasharray: 5.55,2.4; stroke-dashoffset: 0; stroke: #ff7f0e; stroke-width: 1.5\"/>\n   </g>\n   <g id=\"line2d_123\">\n    <path d=\"M 49.633125 55.161186 \nL 69.163125 39.731587 \nL 88.693125 37.63436 \nL 108.223125 36.053118 \nL 127.753125 34.055758 \nL 147.283125 38.100411 \nL 166.813125 32.374648 \nL 186.343125 34.45523 \nL 205.873125 33.273459 \n\" clip-path=\"url(#p24eb6e37d2)\" style=\"fill: none; stroke-dasharray: 9.6,2.4,1.5,2.4; stroke-dashoffset: 0; stroke: #2ca02c; stroke-width: 1.5\"/>\n   </g>\n   <g id=\"line2d_124\">\n    <path d=\"M 34.954394 13.5 \nL 44.698573 91.763643 \nL 54.442752 106.03221 \nL 64.186931 112.848659 \nL 73.93111 118.114702 \nL 83.675289 120.519438 \nL 93.419468 125.345256 \nL 103.163647 125.010011 \nL 112.907826 128.15475 \nL 122.652006 129.7321 \nL 132.396185 132.010227 \nL 142.140364 131.165495 \nL 151.884543 134.375121 \nL 161.628722 133.75043 \nL 171.372901 135.647155 \nL 181.11708 136.829259 \nL 190.861259 138.366313 \nL 200.605438 138.045876 \nL 210.349618 139.091943 \nL 220.093797 139.5 \n\" clip-path=\"url(#p24eb6e37d2)\" style=\"fill: none; stroke: #1f77b4; stroke-width: 1.5; stroke-linecap: square\"/>\n   </g>\n   <g id=\"line2d_125\">\n    <path d=\"M 49.633125 83.043899 \nL 69.163125 110.782083 \nL 88.693125 117.18562 \nL 108.223125 119.863901 \nL 127.753125 125.66199 \nL 147.283125 120.039136 \nL 166.813125 128.868465 \nL 186.343125 125.273506 \nL 205.873125 128.202973 \nL 225.403125 130.251809 \n\" clip-path=\"url(#p24eb6e37d2)\" style=\"fill: none; stroke-dasharray: 5.55,2.4; stroke-dashoffset: 0; stroke: #ff7f0e; stroke-width: 1.5\"/>\n   </g>\n   <g id=\"line2d_126\">\n    <path d=\"M 49.633125 55.161186 \nL 69.163125 39.731587 \nL 88.693125 37.63436 \nL 108.223125 36.053118 \nL 127.753125 34.055758 \nL 147.283125 38.100411 \nL 166.813125 32.374648 \nL 186.343125 34.45523 \nL 205.873125 33.273459 \nL 225.403125 32.308069 \n\" clip-path=\"url(#p24eb6e37d2)\" style=\"fill: none; stroke-dasharray: 9.6,2.4,1.5,2.4; stroke-dashoffset: 0; stroke: #2ca02c; stroke-width: 1.5\"/>\n   </g>\n   <g id=\"patch_3\">\n    <path d=\"M 30.103125 145.8 \nL 30.103125 7.2 \n\" style=\"fill: none; stroke: #000000; stroke-width: 0.8; stroke-linejoin: miter; stroke-linecap: square\"/>\n   </g>\n   <g id=\"patch_4\">\n    <path d=\"M 225.403125 145.8 \nL 225.403125 7.2 \n\" style=\"fill: none; stroke: #000000; stroke-width: 0.8; stroke-linejoin: miter; stroke-linecap: square\"/>\n   </g>\n   <g id=\"patch_5\">\n    <path d=\"M 30.103125 145.8 \nL 225.403125 145.8 \n\" style=\"fill: none; stroke: #000000; stroke-width: 0.8; stroke-linejoin: miter; stroke-linecap: square\"/>\n   </g>\n   <g id=\"patch_6\">\n    <path d=\"M 30.103125 7.2 \nL 225.403125 7.2 \n\" style=\"fill: none; stroke: #000000; stroke-width: 0.8; stroke-linejoin: miter; stroke-linecap: square\"/>\n   </g>\n   <g id=\"legend_1\">\n    <g id=\"patch_7\">\n     <path d=\"M 138.8125 100.434375 \nL 218.403125 100.434375 \nQ 220.403125 100.434375 220.403125 98.434375 \nL 220.403125 54.565625 \nQ 220.403125 52.565625 218.403125 52.565625 \nL 138.8125 52.565625 \nQ 136.8125 52.565625 136.8125 54.565625 \nL 136.8125 98.434375 \nQ 136.8125 100.434375 138.8125 100.434375 \nz\n\" style=\"fill: #ffffff; opacity: 0.8; stroke: #cccccc; stroke-linejoin: miter\"/>\n    </g>\n    <g id=\"line2d_127\">\n     <path d=\"M 140.8125 60.664063 \nL 150.8125 60.664063 \nL 160.8125 60.664063 \n\" style=\"fill: none; stroke: #1f77b4; stroke-width: 1.5; stroke-linecap: square\"/>\n    </g>\n    <g id=\"text_12\">\n     <!-- train_loss -->\n     <g transform=\"translate(168.8125 64.164063) scale(0.1 -0.1)\">\n      <defs>\n       <path id=\"DejaVuSans-74\" d=\"M 1172 4494 \nL 1172 3500 \nL 2356 3500 \nL 2356 3053 \nL 1172 3053 \nL 1172 1153 \nQ 1172 725 1289 603 \nQ 1406 481 1766 481 \nL 2356 481 \nL 2356 0 \nL 1766 0 \nQ 1100 0 847 248 \nQ 594 497 594 1153 \nL 594 3053 \nL 172 3053 \nL 172 3500 \nL 594 3500 \nL 594 4494 \nL 1172 4494 \nz\n\" transform=\"scale(0.015625)\"/>\n       <path id=\"DejaVuSans-72\" d=\"M 2631 2963 \nQ 2534 3019 2420 3045 \nQ 2306 3072 2169 3072 \nQ 1681 3072 1420 2755 \nQ 1159 2438 1159 1844 \nL 1159 0 \nL 581 0 \nL 581 3500 \nL 1159 3500 \nL 1159 2956 \nQ 1341 3275 1631 3429 \nQ 1922 3584 2338 3584 \nQ 2397 3584 2469 3576 \nQ 2541 3569 2628 3553 \nL 2631 2963 \nz\n\" transform=\"scale(0.015625)\"/>\n       <path id=\"DejaVuSans-61\" d=\"M 2194 1759 \nQ 1497 1759 1228 1600 \nQ 959 1441 959 1056 \nQ 959 750 1161 570 \nQ 1363 391 1709 391 \nQ 2188 391 2477 730 \nQ 2766 1069 2766 1631 \nL 2766 1759 \nL 2194 1759 \nz\nM 3341 1997 \nL 3341 0 \nL 2766 0 \nL 2766 531 \nQ 2569 213 2275 61 \nQ 1981 -91 1556 -91 \nQ 1019 -91 701 211 \nQ 384 513 384 1019 \nQ 384 1609 779 1909 \nQ 1175 2209 1959 2209 \nL 2766 2209 \nL 2766 2266 \nQ 2766 2663 2505 2880 \nQ 2244 3097 1772 3097 \nQ 1472 3097 1187 3025 \nQ 903 2953 641 2809 \nL 641 3341 \nQ 956 3463 1253 3523 \nQ 1550 3584 1831 3584 \nQ 2591 3584 2966 3190 \nQ 3341 2797 3341 1997 \nz\n\" transform=\"scale(0.015625)\"/>\n       <path id=\"DejaVuSans-69\" d=\"M 603 3500 \nL 1178 3500 \nL 1178 0 \nL 603 0 \nL 603 3500 \nz\nM 603 4863 \nL 1178 4863 \nL 1178 4134 \nL 603 4134 \nL 603 4863 \nz\n\" transform=\"scale(0.015625)\"/>\n       <path id=\"DejaVuSans-6e\" d=\"M 3513 2113 \nL 3513 0 \nL 2938 0 \nL 2938 2094 \nQ 2938 2591 2744 2837 \nQ 2550 3084 2163 3084 \nQ 1697 3084 1428 2787 \nQ 1159 2491 1159 1978 \nL 1159 0 \nL 581 0 \nL 581 3500 \nL 1159 3500 \nL 1159 2956 \nQ 1366 3272 1645 3428 \nQ 1925 3584 2291 3584 \nQ 2894 3584 3203 3211 \nQ 3513 2838 3513 2113 \nz\n\" transform=\"scale(0.015625)\"/>\n       <path id=\"DejaVuSans-5f\" d=\"M 3263 -1063 \nL 3263 -1509 \nL -63 -1509 \nL -63 -1063 \nL 3263 -1063 \nz\n\" transform=\"scale(0.015625)\"/>\n       <path id=\"DejaVuSans-6c\" d=\"M 603 4863 \nL 1178 4863 \nL 1178 0 \nL 603 0 \nL 603 4863 \nz\n\" transform=\"scale(0.015625)\"/>\n       <path id=\"DejaVuSans-73\" d=\"M 2834 3397 \nL 2834 2853 \nQ 2591 2978 2328 3040 \nQ 2066 3103 1784 3103 \nQ 1356 3103 1142 2972 \nQ 928 2841 928 2578 \nQ 928 2378 1081 2264 \nQ 1234 2150 1697 2047 \nL 1894 2003 \nQ 2506 1872 2764 1633 \nQ 3022 1394 3022 966 \nQ 3022 478 2636 193 \nQ 2250 -91 1575 -91 \nQ 1294 -91 989 -36 \nQ 684 19 347 128 \nL 347 722 \nQ 666 556 975 473 \nQ 1284 391 1588 391 \nQ 1994 391 2212 530 \nQ 2431 669 2431 922 \nQ 2431 1156 2273 1281 \nQ 2116 1406 1581 1522 \nL 1381 1569 \nQ 847 1681 609 1914 \nQ 372 2147 372 2553 \nQ 372 3047 722 3315 \nQ 1072 3584 1716 3584 \nQ 2034 3584 2315 3537 \nQ 2597 3491 2834 3397 \nz\n\" transform=\"scale(0.015625)\"/>\n      </defs>\n      <use xlink:href=\"#DejaVuSans-74\"/>\n      <use xlink:href=\"#DejaVuSans-72\" x=\"39.208984\"/>\n      <use xlink:href=\"#DejaVuSans-61\" x=\"80.322266\"/>\n      <use xlink:href=\"#DejaVuSans-69\" x=\"141.601562\"/>\n      <use xlink:href=\"#DejaVuSans-6e\" x=\"169.384766\"/>\n      <use xlink:href=\"#DejaVuSans-5f\" x=\"232.763672\"/>\n      <use xlink:href=\"#DejaVuSans-6c\" x=\"282.763672\"/>\n      <use xlink:href=\"#DejaVuSans-6f\" x=\"310.546875\"/>\n      <use xlink:href=\"#DejaVuSans-73\" x=\"371.728516\"/>\n      <use xlink:href=\"#DejaVuSans-73\" x=\"423.828125\"/>\n     </g>\n    </g>\n    <g id=\"line2d_128\">\n     <path d=\"M 140.8125 75.620313 \nL 150.8125 75.620313 \nL 160.8125 75.620313 \n\" style=\"fill: none; stroke-dasharray: 5.55,2.4; stroke-dashoffset: 0; stroke: #ff7f0e; stroke-width: 1.5\"/>\n    </g>\n    <g id=\"text_13\">\n     <!-- val_loss -->\n     <g transform=\"translate(168.8125 79.120313) scale(0.1 -0.1)\">\n      <defs>\n       <path id=\"DejaVuSans-76\" d=\"M 191 3500 \nL 800 3500 \nL 1894 563 \nL 2988 3500 \nL 3597 3500 \nL 2284 0 \nL 1503 0 \nL 191 3500 \nz\n\" transform=\"scale(0.015625)\"/>\n      </defs>\n      <use xlink:href=\"#DejaVuSans-76\"/>\n      <use xlink:href=\"#DejaVuSans-61\" x=\"59.179688\"/>\n      <use xlink:href=\"#DejaVuSans-6c\" x=\"120.458984\"/>\n      <use xlink:href=\"#DejaVuSans-5f\" x=\"148.242188\"/>\n      <use xlink:href=\"#DejaVuSans-6c\" x=\"198.242188\"/>\n      <use xlink:href=\"#DejaVuSans-6f\" x=\"226.025391\"/>\n      <use xlink:href=\"#DejaVuSans-73\" x=\"287.207031\"/>\n      <use xlink:href=\"#DejaVuSans-73\" x=\"339.306641\"/>\n     </g>\n    </g>\n    <g id=\"line2d_129\">\n     <path d=\"M 140.8125 90.576563 \nL 150.8125 90.576563 \nL 160.8125 90.576563 \n\" style=\"fill: none; stroke-dasharray: 9.6,2.4,1.5,2.4; stroke-dashoffset: 0; stroke: #2ca02c; stroke-width: 1.5\"/>\n    </g>\n    <g id=\"text_14\">\n     <!-- val_acc -->\n     <g transform=\"translate(168.8125 94.076563) scale(0.1 -0.1)\">\n      <use xlink:href=\"#DejaVuSans-76\"/>\n      <use xlink:href=\"#DejaVuSans-61\" x=\"59.179688\"/>\n      <use xlink:href=\"#DejaVuSans-6c\" x=\"120.458984\"/>\n      <use xlink:href=\"#DejaVuSans-5f\" x=\"148.242188\"/>\n      <use xlink:href=\"#DejaVuSans-61\" x=\"198.242188\"/>\n      <use xlink:href=\"#DejaVuSans-63\" x=\"259.521484\"/>\n      <use xlink:href=\"#DejaVuSans-63\" x=\"314.501953\"/>\n     </g>\n    </g>\n   </g>\n  </g>\n </g>\n <defs>\n  <clipPath id=\"p24eb6e37d2\">\n   <rect x=\"30.103125\" y=\"7.2\" width=\"195.3\" height=\"138.6\"/>\n  </clipPath>\n </defs>\n</svg>\n"
          },
          "metadata": {}
        }
      ]
    },
    {
      "cell_type": "markdown",
      "source": [
        "## 8.2. Networks Using Blocks (VGG)\n",
        "\n",
        "딥 네트워크를 설계하는데 필요한 몇가지 휴리스틱 개념\n",
        "\n",
        "[네트워크 설계]\n",
        "\n",
        "VLSI(초대형 집적 회로) 설계의 진화와 유사. 초기에는 트랜지스터를 개별적으로 배치하는 데서 시작하여, 이후 논리 요소, 논리 블록으로 발전.\n",
        "\n",
        "신경망 아키텍처 설계도 점점 더 추상화되어 가고 있다.\n",
        "초기: 개별 뉴런에 대한 생각에서 시작.\n",
        "현재: 전체 레이어와 반복되는 패턴의 블록으로 이동.\n",
        "미래: 훈련된 전체 모델을 사용하여 관련된 다른 과제에 재사용하는 방향으로 발전.\n",
        "\n",
        "[VGG]\n",
        "네트워크 설계에서 블록 사용의 개념은 Visual Geometry Group에서 시작. VGG네트워크는 이러한 반복구조를 효과적으로 구현하는 방법을 제시.\n"
      ],
      "metadata": {
        "id": "EaFzl-4ard3F"
      }
    },
    {
      "cell_type": "code",
      "source": [
        "import torch\n",
        "from torch import nn\n",
        "from d2l import torch as d2l"
      ],
      "metadata": {
        "id": "a3NtIvB29rjf"
      },
      "execution_count": 41,
      "outputs": []
    },
    {
      "cell_type": "markdown",
      "source": [
        "### 8.2.1. VGG Blocks\n",
        "\n",
        "[구성요소]\n",
        "\n",
        "* 컨볼루션 레이어: 패딩을 이용해 해상도를 유지\n",
        "* 비선형성: ReLU와 같은 활성화 함수.\n",
        "* 풀링 레이어: max-pooling을 통해 해상도를 줄입니다.\n",
        "\n",
        "-> 문제점 : 공간 해상도가 너무 빠르게 감소함. ImageNet 데이터셋의 경우, 8개 이상의 컨볼루션 레이어를 사용하는 것이 불가능할수도\n",
        "\n",
        "[해결책]\n",
        "\n",
        "Simonyan, Zisserman :  다운샘플링(max-pooling) 사이에 여러 개의 컨볼루션을 사용하는 블록 구조를 제안. 두 개의 연속적인 컨볼루션은 단일 큰 컨볼루션과 동일한 픽셀에 적용되지만, 더 많은 매개변수를 사용하지 않고도 성능을 향상시킬 수 있다. 이로 인해 더 깊고 좁은 네트워크가 더 나은 성능을 보여줌\n",
        "\n",
        "[VGG block]\n",
        "\n",
        "VGG 블록은 3x3 커널을 사용, 패딩은 1로 설정하여 높이와 너비를 유지. 그 후 최대 풀링 레이어를 추가하여 높이와 너비를 1/2."
      ],
      "metadata": {
        "id": "Q4Ds59829td9"
      }
    },
    {
      "cell_type": "code",
      "source": [
        "def vgg_block(num_convs, out_channels):\n",
        "    layers = []\n",
        "    for _ in range(num_convs):\n",
        "        layers.append(nn.LazyConv2d(out_channels, kernel_size=3, padding=1))\n",
        "        layers.append(nn.ReLU())\n",
        "    layers.append(nn.MaxPool2d(kernel_size=2,stride=2))\n",
        "    return nn.Sequential(*layers)"
      ],
      "metadata": {
        "id": "XAa8PfYY9vKr"
      },
      "execution_count": 42,
      "outputs": []
    },
    {
      "cell_type": "markdown",
      "source": [
        "### 8.2.2. VGG Network\n",
        "\n",
        "[VGG 네트워크]\n",
        "* VGG 네트워크는 AlexNet과 LeNet과 유사하게 두 부분으로 나뉩니다:\n",
        "\n",
        "    - 컨볼루션 및 풀링 레이어\n",
        "    - 완전 연결 레이\n",
        "* 차이점: VGG의 컨볼루션 레이어는 비선형 변환으로 그룹화되어 있으며,이어서 해상도 감소 단계. (AlexNet는 각 레이어가 독립적으로 설계됨)\n",
        "\n",
        "[VGG 블록]\n",
        "* VGG 블록은 여러 개의 컨볼루션을 포함하며, 각 블록은 해상도를 줄이는 최대 풀링 레이어로 끝남.\n",
        "* VGG는 블록의 수, 각 블록의 컨볼루션 레이어 수 및 출력 채널 수를 포함하는 튜플의 리스트로 아키텍처를 정의.-> 이로 인해 VGG는 단일 네트워크 구현이 아닌 여러 네트워크 패밀리를 정의."
      ],
      "metadata": {
        "id": "UmjZrk579x4c"
      }
    },
    {
      "cell_type": "code",
      "source": [
        "class VGG(d2l.Classifier):\n",
        "    def __init__(self, arch, lr=0.1, num_classes=10):\n",
        "        super().__init__()\n",
        "        self.save_hyperparameters()\n",
        "        conv_blks = []\n",
        "        for (num_convs, out_channels) in arch:\n",
        "            conv_blks.append(vgg_block(num_convs, out_channels))\n",
        "        self.net = nn.Sequential(\n",
        "            *conv_blks, nn.Flatten(),\n",
        "            nn.LazyLinear(4096), nn.ReLU(), nn.Dropout(0.5),\n",
        "            nn.LazyLinear(4096), nn.ReLU(), nn.Dropout(0.5),\n",
        "            nn.LazyLinear(num_classes))\n",
        "        self.net.apply(d2l.init_cnn)"
      ],
      "metadata": {
        "id": "whi8wv0_9yh2"
      },
      "execution_count": 43,
      "outputs": []
    },
    {
      "cell_type": "markdown",
      "source": [
        "원래 VGG 네트워크는 5개의 컨볼루션 블록을 가지고 있으며, 첫 두 블록은 각각 1개의 컨볼루션 레이어를, 나머지 세 블록은 각각 2개의 컨볼루션 레이어를 포함. 각 블록의 출력 채널 수는 64에서 시작하여 각 블록마다 두 배로 증가하여 512에 도달. 이 네트워크는 총 8개의 컨볼루션 레이어와 3개의 완전 연결 레이어를 포함하고 있어 VGG-11라고 함.\n",
        "\n",
        "결과) 각 블록을 통과하면서 높이, 너비가 절반으로 줄어 7X7의 형태. flatten 레이터를 통해 1차원벡터로 변환되어 완전 연결 레이어로 입력됨"
      ],
      "metadata": {
        "id": "_mKyT4577FE6"
      }
    },
    {
      "cell_type": "code",
      "source": [
        "VGG(arch=((1, 64), (1, 128), (2, 256), (2, 512), (2, 512))).layer_summary(\n",
        "    (1, 1, 224, 224))"
      ],
      "metadata": {
        "id": "iwB5-lwi90QF",
        "colab": {
          "base_uri": "https://localhost:8080/"
        },
        "outputId": "2e1f0bd0-3a01-46c4-93ec-4f68a0339fde"
      },
      "execution_count": 44,
      "outputs": [
        {
          "output_type": "stream",
          "name": "stdout",
          "text": [
            "Sequential output shape:\t torch.Size([1, 64, 112, 112])\n",
            "Sequential output shape:\t torch.Size([1, 128, 56, 56])\n",
            "Sequential output shape:\t torch.Size([1, 256, 28, 28])\n",
            "Sequential output shape:\t torch.Size([1, 512, 14, 14])\n",
            "Sequential output shape:\t torch.Size([1, 512, 7, 7])\n",
            "Flatten output shape:\t torch.Size([1, 25088])\n",
            "Linear output shape:\t torch.Size([1, 4096])\n",
            "ReLU output shape:\t torch.Size([1, 4096])\n",
            "Dropout output shape:\t torch.Size([1, 4096])\n",
            "Linear output shape:\t torch.Size([1, 4096])\n",
            "ReLU output shape:\t torch.Size([1, 4096])\n",
            "Dropout output shape:\t torch.Size([1, 4096])\n",
            "Linear output shape:\t torch.Size([1, 10])\n"
          ]
        }
      ]
    },
    {
      "cell_type": "markdown",
      "source": [
        "### 8.2.3. Training"
      ],
      "metadata": {
        "id": "U15f7AbN91xC"
      }
    },
    {
      "cell_type": "code",
      "source": [
        "model = VGG(arch=((1, 16), (1, 32), (2, 64), (2, 128), (2, 128)), lr=0.01)\n",
        "trainer = d2l.Trainer(max_epochs=10, num_gpus=1)\n",
        "data = d2l.FashionMNIST(batch_size=128, resize=(224, 224))\n",
        "model.apply_init([next(iter(data.get_dataloader(True)))[0]], d2l.init_cnn)\n",
        "trainer.fit(model, data)"
      ],
      "metadata": {
        "id": "bp02aT1j9207",
        "colab": {
          "base_uri": "https://localhost:8080/",
          "height": 265
        },
        "outputId": "b14bf97b-61c3-4aaa-f554-af1023938514"
      },
      "execution_count": 45,
      "outputs": [
        {
          "output_type": "display_data",
          "data": {
            "text/plain": [
              "<Figure size 350x250 with 1 Axes>"
            ],
            "image/svg+xml": "<?xml version=\"1.0\" encoding=\"utf-8\" standalone=\"no\"?>\n<!DOCTYPE svg PUBLIC \"-//W3C//DTD SVG 1.1//EN\"\n  \"http://www.w3.org/Graphics/SVG/1.1/DTD/svg11.dtd\">\n<svg xmlns:xlink=\"http://www.w3.org/1999/xlink\" width=\"238.965625pt\" height=\"183.35625pt\" viewBox=\"0 0 238.965625 183.35625\" xmlns=\"http://www.w3.org/2000/svg\" version=\"1.1\">\n <metadata>\n  <rdf:RDF xmlns:dc=\"http://purl.org/dc/elements/1.1/\" xmlns:cc=\"http://creativecommons.org/ns#\" xmlns:rdf=\"http://www.w3.org/1999/02/22-rdf-syntax-ns#\">\n   <cc:Work>\n    <dc:type rdf:resource=\"http://purl.org/dc/dcmitype/StillImage\"/>\n    <dc:date>2024-10-10T09:44:21.477453</dc:date>\n    <dc:format>image/svg+xml</dc:format>\n    <dc:creator>\n     <cc:Agent>\n      <dc:title>Matplotlib v3.7.2, https://matplotlib.org/</dc:title>\n     </cc:Agent>\n    </dc:creator>\n   </cc:Work>\n  </rdf:RDF>\n </metadata>\n <defs>\n  <style type=\"text/css\">*{stroke-linejoin: round; stroke-linecap: butt}</style>\n </defs>\n <g id=\"figure_1\">\n  <g id=\"patch_1\">\n   <path d=\"M 0 183.35625 \nL 238.965625 183.35625 \nL 238.965625 0 \nL 0 0 \nz\n\" style=\"fill: #ffffff\"/>\n  </g>\n  <g id=\"axes_1\">\n   <g id=\"patch_2\">\n    <path d=\"M 30.103125 145.8 \nL 225.403125 145.8 \nL 225.403125 7.2 \nL 30.103125 7.2 \nz\n\" style=\"fill: #ffffff\"/>\n   </g>\n   <g id=\"matplotlib.axis_1\">\n    <g id=\"xtick_1\">\n     <g id=\"line2d_1\">\n      <defs>\n       <path id=\"me7939aecc3\" d=\"M 0 0 \nL 0 3.5 \n\" style=\"stroke: #000000; stroke-width: 0.8\"/>\n      </defs>\n      <g>\n       <use xlink:href=\"#me7939aecc3\" x=\"30.103125\" y=\"145.8\" style=\"stroke: #000000; stroke-width: 0.8\"/>\n      </g>\n     </g>\n     <g id=\"text_1\">\n      <!-- 0 -->\n      <g transform=\"translate(26.921875 160.398438) scale(0.1 -0.1)\">\n       <defs>\n        <path id=\"DejaVuSans-30\" d=\"M 2034 4250 \nQ 1547 4250 1301 3770 \nQ 1056 3291 1056 2328 \nQ 1056 1369 1301 889 \nQ 1547 409 2034 409 \nQ 2525 409 2770 889 \nQ 3016 1369 3016 2328 \nQ 3016 3291 2770 3770 \nQ 2525 4250 2034 4250 \nz\nM 2034 4750 \nQ 2819 4750 3233 4129 \nQ 3647 3509 3647 2328 \nQ 3647 1150 3233 529 \nQ 2819 -91 2034 -91 \nQ 1250 -91 836 529 \nQ 422 1150 422 2328 \nQ 422 3509 836 4129 \nQ 1250 4750 2034 4750 \nz\n\" transform=\"scale(0.015625)\"/>\n       </defs>\n       <use xlink:href=\"#DejaVuSans-30\"/>\n      </g>\n     </g>\n    </g>\n    <g id=\"xtick_2\">\n     <g id=\"line2d_2\">\n      <g>\n       <use xlink:href=\"#me7939aecc3\" x=\"69.163125\" y=\"145.8\" style=\"stroke: #000000; stroke-width: 0.8\"/>\n      </g>\n     </g>\n     <g id=\"text_2\">\n      <!-- 2 -->\n      <g transform=\"translate(65.981875 160.398438) scale(0.1 -0.1)\">\n       <defs>\n        <path id=\"DejaVuSans-32\" d=\"M 1228 531 \nL 3431 531 \nL 3431 0 \nL 469 0 \nL 469 531 \nQ 828 903 1448 1529 \nQ 2069 2156 2228 2338 \nQ 2531 2678 2651 2914 \nQ 2772 3150 2772 3378 \nQ 2772 3750 2511 3984 \nQ 2250 4219 1831 4219 \nQ 1534 4219 1204 4116 \nQ 875 4013 500 3803 \nL 500 4441 \nQ 881 4594 1212 4672 \nQ 1544 4750 1819 4750 \nQ 2544 4750 2975 4387 \nQ 3406 4025 3406 3419 \nQ 3406 3131 3298 2873 \nQ 3191 2616 2906 2266 \nQ 2828 2175 2409 1742 \nQ 1991 1309 1228 531 \nz\n\" transform=\"scale(0.015625)\"/>\n       </defs>\n       <use xlink:href=\"#DejaVuSans-32\"/>\n      </g>\n     </g>\n    </g>\n    <g id=\"xtick_3\">\n     <g id=\"line2d_3\">\n      <g>\n       <use xlink:href=\"#me7939aecc3\" x=\"108.223125\" y=\"145.8\" style=\"stroke: #000000; stroke-width: 0.8\"/>\n      </g>\n     </g>\n     <g id=\"text_3\">\n      <!-- 4 -->\n      <g transform=\"translate(105.041875 160.398438) scale(0.1 -0.1)\">\n       <defs>\n        <path id=\"DejaVuSans-34\" d=\"M 2419 4116 \nL 825 1625 \nL 2419 1625 \nL 2419 4116 \nz\nM 2253 4666 \nL 3047 4666 \nL 3047 1625 \nL 3713 1625 \nL 3713 1100 \nL 3047 1100 \nL 3047 0 \nL 2419 0 \nL 2419 1100 \nL 313 1100 \nL 313 1709 \nL 2253 4666 \nz\n\" transform=\"scale(0.015625)\"/>\n       </defs>\n       <use xlink:href=\"#DejaVuSans-34\"/>\n      </g>\n     </g>\n    </g>\n    <g id=\"xtick_4\">\n     <g id=\"line2d_4\">\n      <g>\n       <use xlink:href=\"#me7939aecc3\" x=\"147.283125\" y=\"145.8\" style=\"stroke: #000000; stroke-width: 0.8\"/>\n      </g>\n     </g>\n     <g id=\"text_4\">\n      <!-- 6 -->\n      <g transform=\"translate(144.101875 160.398438) scale(0.1 -0.1)\">\n       <defs>\n        <path id=\"DejaVuSans-36\" d=\"M 2113 2584 \nQ 1688 2584 1439 2293 \nQ 1191 2003 1191 1497 \nQ 1191 994 1439 701 \nQ 1688 409 2113 409 \nQ 2538 409 2786 701 \nQ 3034 994 3034 1497 \nQ 3034 2003 2786 2293 \nQ 2538 2584 2113 2584 \nz\nM 3366 4563 \nL 3366 3988 \nQ 3128 4100 2886 4159 \nQ 2644 4219 2406 4219 \nQ 1781 4219 1451 3797 \nQ 1122 3375 1075 2522 \nQ 1259 2794 1537 2939 \nQ 1816 3084 2150 3084 \nQ 2853 3084 3261 2657 \nQ 3669 2231 3669 1497 \nQ 3669 778 3244 343 \nQ 2819 -91 2113 -91 \nQ 1303 -91 875 529 \nQ 447 1150 447 2328 \nQ 447 3434 972 4092 \nQ 1497 4750 2381 4750 \nQ 2619 4750 2861 4703 \nQ 3103 4656 3366 4563 \nz\n\" transform=\"scale(0.015625)\"/>\n       </defs>\n       <use xlink:href=\"#DejaVuSans-36\"/>\n      </g>\n     </g>\n    </g>\n    <g id=\"xtick_5\">\n     <g id=\"line2d_5\">\n      <g>\n       <use xlink:href=\"#me7939aecc3\" x=\"186.343125\" y=\"145.8\" style=\"stroke: #000000; stroke-width: 0.8\"/>\n      </g>\n     </g>\n     <g id=\"text_5\">\n      <!-- 8 -->\n      <g transform=\"translate(183.161875 160.398438) scale(0.1 -0.1)\">\n       <defs>\n        <path id=\"DejaVuSans-38\" d=\"M 2034 2216 \nQ 1584 2216 1326 1975 \nQ 1069 1734 1069 1313 \nQ 1069 891 1326 650 \nQ 1584 409 2034 409 \nQ 2484 409 2743 651 \nQ 3003 894 3003 1313 \nQ 3003 1734 2745 1975 \nQ 2488 2216 2034 2216 \nz\nM 1403 2484 \nQ 997 2584 770 2862 \nQ 544 3141 544 3541 \nQ 544 4100 942 4425 \nQ 1341 4750 2034 4750 \nQ 2731 4750 3128 4425 \nQ 3525 4100 3525 3541 \nQ 3525 3141 3298 2862 \nQ 3072 2584 2669 2484 \nQ 3125 2378 3379 2068 \nQ 3634 1759 3634 1313 \nQ 3634 634 3220 271 \nQ 2806 -91 2034 -91 \nQ 1263 -91 848 271 \nQ 434 634 434 1313 \nQ 434 1759 690 2068 \nQ 947 2378 1403 2484 \nz\nM 1172 3481 \nQ 1172 3119 1398 2916 \nQ 1625 2713 2034 2713 \nQ 2441 2713 2670 2916 \nQ 2900 3119 2900 3481 \nQ 2900 3844 2670 4047 \nQ 2441 4250 2034 4250 \nQ 1625 4250 1398 4047 \nQ 1172 3844 1172 3481 \nz\n\" transform=\"scale(0.015625)\"/>\n       </defs>\n       <use xlink:href=\"#DejaVuSans-38\"/>\n      </g>\n     </g>\n    </g>\n    <g id=\"xtick_6\">\n     <g id=\"line2d_6\">\n      <g>\n       <use xlink:href=\"#me7939aecc3\" x=\"225.403125\" y=\"145.8\" style=\"stroke: #000000; stroke-width: 0.8\"/>\n      </g>\n     </g>\n     <g id=\"text_6\">\n      <!-- 10 -->\n      <g transform=\"translate(219.040625 160.398438) scale(0.1 -0.1)\">\n       <defs>\n        <path id=\"DejaVuSans-31\" d=\"M 794 531 \nL 1825 531 \nL 1825 4091 \nL 703 3866 \nL 703 4441 \nL 1819 4666 \nL 2450 4666 \nL 2450 531 \nL 3481 531 \nL 3481 0 \nL 794 0 \nL 794 531 \nz\n\" transform=\"scale(0.015625)\"/>\n       </defs>\n       <use xlink:href=\"#DejaVuSans-31\"/>\n       <use xlink:href=\"#DejaVuSans-30\" x=\"63.623047\"/>\n      </g>\n     </g>\n    </g>\n    <g id=\"text_7\">\n     <!-- epoch -->\n     <g transform=\"translate(112.525 174.076563) scale(0.1 -0.1)\">\n      <defs>\n       <path id=\"DejaVuSans-65\" d=\"M 3597 1894 \nL 3597 1613 \nL 953 1613 \nQ 991 1019 1311 708 \nQ 1631 397 2203 397 \nQ 2534 397 2845 478 \nQ 3156 559 3463 722 \nL 3463 178 \nQ 3153 47 2828 -22 \nQ 2503 -91 2169 -91 \nQ 1331 -91 842 396 \nQ 353 884 353 1716 \nQ 353 2575 817 3079 \nQ 1281 3584 2069 3584 \nQ 2775 3584 3186 3129 \nQ 3597 2675 3597 1894 \nz\nM 3022 2063 \nQ 3016 2534 2758 2815 \nQ 2500 3097 2075 3097 \nQ 1594 3097 1305 2825 \nQ 1016 2553 972 2059 \nL 3022 2063 \nz\n\" transform=\"scale(0.015625)\"/>\n       <path id=\"DejaVuSans-70\" d=\"M 1159 525 \nL 1159 -1331 \nL 581 -1331 \nL 581 3500 \nL 1159 3500 \nL 1159 2969 \nQ 1341 3281 1617 3432 \nQ 1894 3584 2278 3584 \nQ 2916 3584 3314 3078 \nQ 3713 2572 3713 1747 \nQ 3713 922 3314 415 \nQ 2916 -91 2278 -91 \nQ 1894 -91 1617 61 \nQ 1341 213 1159 525 \nz\nM 3116 1747 \nQ 3116 2381 2855 2742 \nQ 2594 3103 2138 3103 \nQ 1681 3103 1420 2742 \nQ 1159 2381 1159 1747 \nQ 1159 1113 1420 752 \nQ 1681 391 2138 391 \nQ 2594 391 2855 752 \nQ 3116 1113 3116 1747 \nz\n\" transform=\"scale(0.015625)\"/>\n       <path id=\"DejaVuSans-6f\" d=\"M 1959 3097 \nQ 1497 3097 1228 2736 \nQ 959 2375 959 1747 \nQ 959 1119 1226 758 \nQ 1494 397 1959 397 \nQ 2419 397 2687 759 \nQ 2956 1122 2956 1747 \nQ 2956 2369 2687 2733 \nQ 2419 3097 1959 3097 \nz\nM 1959 3584 \nQ 2709 3584 3137 3096 \nQ 3566 2609 3566 1747 \nQ 3566 888 3137 398 \nQ 2709 -91 1959 -91 \nQ 1206 -91 779 398 \nQ 353 888 353 1747 \nQ 353 2609 779 3096 \nQ 1206 3584 1959 3584 \nz\n\" transform=\"scale(0.015625)\"/>\n       <path id=\"DejaVuSans-63\" d=\"M 3122 3366 \nL 3122 2828 \nQ 2878 2963 2633 3030 \nQ 2388 3097 2138 3097 \nQ 1578 3097 1268 2742 \nQ 959 2388 959 1747 \nQ 959 1106 1268 751 \nQ 1578 397 2138 397 \nQ 2388 397 2633 464 \nQ 2878 531 3122 666 \nL 3122 134 \nQ 2881 22 2623 -34 \nQ 2366 -91 2075 -91 \nQ 1284 -91 818 406 \nQ 353 903 353 1747 \nQ 353 2603 823 3093 \nQ 1294 3584 2113 3584 \nQ 2378 3584 2631 3529 \nQ 2884 3475 3122 3366 \nz\n\" transform=\"scale(0.015625)\"/>\n       <path id=\"DejaVuSans-68\" d=\"M 3513 2113 \nL 3513 0 \nL 2938 0 \nL 2938 2094 \nQ 2938 2591 2744 2837 \nQ 2550 3084 2163 3084 \nQ 1697 3084 1428 2787 \nQ 1159 2491 1159 1978 \nL 1159 0 \nL 581 0 \nL 581 4863 \nL 1159 4863 \nL 1159 2956 \nQ 1366 3272 1645 3428 \nQ 1925 3584 2291 3584 \nQ 2894 3584 3203 3211 \nQ 3513 2838 3513 2113 \nz\n\" transform=\"scale(0.015625)\"/>\n      </defs>\n      <use xlink:href=\"#DejaVuSans-65\"/>\n      <use xlink:href=\"#DejaVuSans-70\" x=\"61.523438\"/>\n      <use xlink:href=\"#DejaVuSans-6f\" x=\"125\"/>\n      <use xlink:href=\"#DejaVuSans-63\" x=\"186.181641\"/>\n      <use xlink:href=\"#DejaVuSans-68\" x=\"241.162109\"/>\n     </g>\n    </g>\n   </g>\n   <g id=\"matplotlib.axis_2\">\n    <g id=\"ytick_1\">\n     <g id=\"line2d_7\">\n      <defs>\n       <path id=\"ma51006e9ae\" d=\"M 0 0 \nL -3.5 0 \n\" style=\"stroke: #000000; stroke-width: 0.8\"/>\n      </defs>\n      <g>\n       <use xlink:href=\"#ma51006e9ae\" x=\"30.103125\" y=\"126.689003\" style=\"stroke: #000000; stroke-width: 0.8\"/>\n      </g>\n     </g>\n     <g id=\"text_8\">\n      <!-- 0.5 -->\n      <g transform=\"translate(7.2 130.488221) scale(0.1 -0.1)\">\n       <defs>\n        <path id=\"DejaVuSans-2e\" d=\"M 684 794 \nL 1344 794 \nL 1344 0 \nL 684 0 \nL 684 794 \nz\n\" transform=\"scale(0.015625)\"/>\n        <path id=\"DejaVuSans-35\" d=\"M 691 4666 \nL 3169 4666 \nL 3169 4134 \nL 1269 4134 \nL 1269 2991 \nQ 1406 3038 1543 3061 \nQ 1681 3084 1819 3084 \nQ 2600 3084 3056 2656 \nQ 3513 2228 3513 1497 \nQ 3513 744 3044 326 \nQ 2575 -91 1722 -91 \nQ 1428 -91 1123 -41 \nQ 819 9 494 109 \nL 494 744 \nQ 775 591 1075 516 \nQ 1375 441 1709 441 \nQ 2250 441 2565 725 \nQ 2881 1009 2881 1497 \nQ 2881 1984 2565 2268 \nQ 2250 2553 1709 2553 \nQ 1456 2553 1204 2497 \nQ 953 2441 691 2322 \nL 691 4666 \nz\n\" transform=\"scale(0.015625)\"/>\n       </defs>\n       <use xlink:href=\"#DejaVuSans-30\"/>\n       <use xlink:href=\"#DejaVuSans-2e\" x=\"63.623047\"/>\n       <use xlink:href=\"#DejaVuSans-35\" x=\"95.410156\"/>\n      </g>\n     </g>\n    </g>\n    <g id=\"ytick_2\">\n     <g id=\"line2d_8\">\n      <g>\n       <use xlink:href=\"#ma51006e9ae\" x=\"30.103125\" y=\"95.108458\" style=\"stroke: #000000; stroke-width: 0.8\"/>\n      </g>\n     </g>\n     <g id=\"text_9\">\n      <!-- 1.0 -->\n      <g transform=\"translate(7.2 98.907677) scale(0.1 -0.1)\">\n       <use xlink:href=\"#DejaVuSans-31\"/>\n       <use xlink:href=\"#DejaVuSans-2e\" x=\"63.623047\"/>\n       <use xlink:href=\"#DejaVuSans-30\" x=\"95.410156\"/>\n      </g>\n     </g>\n    </g>\n    <g id=\"ytick_3\">\n     <g id=\"line2d_9\">\n      <g>\n       <use xlink:href=\"#ma51006e9ae\" x=\"30.103125\" y=\"63.527914\" style=\"stroke: #000000; stroke-width: 0.8\"/>\n      </g>\n     </g>\n     <g id=\"text_10\">\n      <!-- 1.5 -->\n      <g transform=\"translate(7.2 67.327133) scale(0.1 -0.1)\">\n       <use xlink:href=\"#DejaVuSans-31\"/>\n       <use xlink:href=\"#DejaVuSans-2e\" x=\"63.623047\"/>\n       <use xlink:href=\"#DejaVuSans-35\" x=\"95.410156\"/>\n      </g>\n     </g>\n    </g>\n    <g id=\"ytick_4\">\n     <g id=\"line2d_10\">\n      <g>\n       <use xlink:href=\"#ma51006e9ae\" x=\"30.103125\" y=\"31.94737\" style=\"stroke: #000000; stroke-width: 0.8\"/>\n      </g>\n     </g>\n     <g id=\"text_11\">\n      <!-- 2.0 -->\n      <g transform=\"translate(7.2 35.746589) scale(0.1 -0.1)\">\n       <use xlink:href=\"#DejaVuSans-32\"/>\n       <use xlink:href=\"#DejaVuSans-2e\" x=\"63.623047\"/>\n       <use xlink:href=\"#DejaVuSans-30\" x=\"95.410156\"/>\n      </g>\n     </g>\n    </g>\n   </g>\n   <g id=\"line2d_11\">\n    <path d=\"M 34.954394 13.5 \n\" clip-path=\"url(#p7dc946a0b6)\" style=\"fill: none; stroke: #1f77b4; stroke-width: 1.5; stroke-linecap: square\"/>\n   </g>\n   <g id=\"line2d_12\">\n    <path d=\"M 34.954394 13.5 \nL 44.698573 78.829132 \n\" clip-path=\"url(#p7dc946a0b6)\" style=\"fill: none; stroke: #1f77b4; stroke-width: 1.5; stroke-linecap: square\"/>\n   </g>\n   <g id=\"line2d_13\">\n    <path d=\"M 34.954394 13.5 \nL 44.698573 78.829132 \n\" clip-path=\"url(#p7dc946a0b6)\" style=\"fill: none; stroke: #1f77b4; stroke-width: 1.5; stroke-linecap: square\"/>\n   </g>\n   <g id=\"line2d_14\">\n    <path d=\"M 49.633125 113.92835 \n\" clip-path=\"url(#p7dc946a0b6)\" style=\"fill: none; stroke-dasharray: 5.55,2.4; stroke-dashoffset: 0; stroke: #ff7f0e; stroke-width: 1.5\"/>\n   </g>\n   <g id=\"line2d_15\"/>\n   <g id=\"line2d_16\">\n    <path d=\"M 34.954394 13.5 \nL 44.698573 78.829132 \n\" clip-path=\"url(#p7dc946a0b6)\" style=\"fill: none; stroke: #1f77b4; stroke-width: 1.5; stroke-linecap: square\"/>\n   </g>\n   <g id=\"line2d_17\">\n    <path d=\"M 49.633125 113.92835 \n\" clip-path=\"url(#p7dc946a0b6)\" style=\"fill: none; stroke-dasharray: 5.55,2.4; stroke-dashoffset: 0; stroke: #ff7f0e; stroke-width: 1.5\"/>\n   </g>\n   <g id=\"line2d_18\">\n    <path d=\"M 49.633125 111.691992 \n\" clip-path=\"url(#p7dc946a0b6)\" style=\"fill: none; stroke-dasharray: 9.6,2.4,1.5,2.4; stroke-dashoffset: 0; stroke: #2ca02c; stroke-width: 1.5\"/>\n   </g>\n   <g id=\"line2d_19\">\n    <path d=\"M 34.954394 13.5 \nL 44.698573 78.829132 \nL 54.442752 113.657829 \n\" clip-path=\"url(#p7dc946a0b6)\" style=\"fill: none; stroke: #1f77b4; stroke-width: 1.5; stroke-linecap: square\"/>\n   </g>\n   <g id=\"line2d_20\">\n    <path d=\"M 49.633125 113.92835 \n\" clip-path=\"url(#p7dc946a0b6)\" style=\"fill: none; stroke-dasharray: 5.55,2.4; stroke-dashoffset: 0; stroke: #ff7f0e; stroke-width: 1.5\"/>\n   </g>\n   <g id=\"line2d_21\">\n    <path d=\"M 49.633125 111.691992 \n\" clip-path=\"url(#p7dc946a0b6)\" style=\"fill: none; stroke-dasharray: 9.6,2.4,1.5,2.4; stroke-dashoffset: 0; stroke: #2ca02c; stroke-width: 1.5\"/>\n   </g>\n   <g id=\"line2d_22\">\n    <path d=\"M 34.954394 13.5 \nL 44.698573 78.829132 \nL 54.442752 113.657829 \nL 64.186931 120.45129 \n\" clip-path=\"url(#p7dc946a0b6)\" style=\"fill: none; stroke: #1f77b4; stroke-width: 1.5; stroke-linecap: square\"/>\n   </g>\n   <g id=\"line2d_23\">\n    <path d=\"M 49.633125 113.92835 \n\" clip-path=\"url(#p7dc946a0b6)\" style=\"fill: none; stroke-dasharray: 5.55,2.4; stroke-dashoffset: 0; stroke: #ff7f0e; stroke-width: 1.5\"/>\n   </g>\n   <g id=\"line2d_24\">\n    <path d=\"M 49.633125 111.691992 \n\" clip-path=\"url(#p7dc946a0b6)\" style=\"fill: none; stroke-dasharray: 9.6,2.4,1.5,2.4; stroke-dashoffset: 0; stroke: #2ca02c; stroke-width: 1.5\"/>\n   </g>\n   <g id=\"line2d_25\">\n    <path d=\"M 34.954394 13.5 \nL 44.698573 78.829132 \nL 54.442752 113.657829 \nL 64.186931 120.45129 \n\" clip-path=\"url(#p7dc946a0b6)\" style=\"fill: none; stroke: #1f77b4; stroke-width: 1.5; stroke-linecap: square\"/>\n   </g>\n   <g id=\"line2d_26\">\n    <path d=\"M 49.633125 113.92835 \nL 69.163125 122.041695 \n\" clip-path=\"url(#p7dc946a0b6)\" style=\"fill: none; stroke-dasharray: 5.55,2.4; stroke-dashoffset: 0; stroke: #ff7f0e; stroke-width: 1.5\"/>\n   </g>\n   <g id=\"line2d_27\">\n    <path d=\"M 49.633125 111.691992 \n\" clip-path=\"url(#p7dc946a0b6)\" style=\"fill: none; stroke-dasharray: 9.6,2.4,1.5,2.4; stroke-dashoffset: 0; stroke: #2ca02c; stroke-width: 1.5\"/>\n   </g>\n   <g id=\"line2d_28\">\n    <path d=\"M 34.954394 13.5 \nL 44.698573 78.829132 \nL 54.442752 113.657829 \nL 64.186931 120.45129 \n\" clip-path=\"url(#p7dc946a0b6)\" style=\"fill: none; stroke: #1f77b4; stroke-width: 1.5; stroke-linecap: square\"/>\n   </g>\n   <g id=\"line2d_29\">\n    <path d=\"M 49.633125 113.92835 \nL 69.163125 122.041695 \n\" clip-path=\"url(#p7dc946a0b6)\" style=\"fill: none; stroke-dasharray: 5.55,2.4; stroke-dashoffset: 0; stroke: #ff7f0e; stroke-width: 1.5\"/>\n   </g>\n   <g id=\"line2d_30\">\n    <path d=\"M 49.633125 111.691992 \nL 69.163125 108.9999 \n\" clip-path=\"url(#p7dc946a0b6)\" style=\"fill: none; stroke-dasharray: 9.6,2.4,1.5,2.4; stroke-dashoffset: 0; stroke: #2ca02c; stroke-width: 1.5\"/>\n   </g>\n   <g id=\"line2d_31\">\n    <path d=\"M 34.954394 13.5 \nL 44.698573 78.829132 \nL 54.442752 113.657829 \nL 64.186931 120.45129 \nL 73.93111 124.617619 \n\" clip-path=\"url(#p7dc946a0b6)\" style=\"fill: none; stroke: #1f77b4; stroke-width: 1.5; stroke-linecap: square\"/>\n   </g>\n   <g id=\"line2d_32\">\n    <path d=\"M 49.633125 113.92835 \nL 69.163125 122.041695 \n\" clip-path=\"url(#p7dc946a0b6)\" style=\"fill: none; stroke-dasharray: 5.55,2.4; stroke-dashoffset: 0; stroke: #ff7f0e; stroke-width: 1.5\"/>\n   </g>\n   <g id=\"line2d_33\">\n    <path d=\"M 49.633125 111.691992 \nL 69.163125 108.9999 \n\" clip-path=\"url(#p7dc946a0b6)\" style=\"fill: none; stroke-dasharray: 9.6,2.4,1.5,2.4; stroke-dashoffset: 0; stroke: #2ca02c; stroke-width: 1.5\"/>\n   </g>\n   <g id=\"line2d_34\">\n    <path d=\"M 34.954394 13.5 \nL 44.698573 78.829132 \nL 54.442752 113.657829 \nL 64.186931 120.45129 \nL 73.93111 124.617619 \nL 83.675289 127.537196 \n\" clip-path=\"url(#p7dc946a0b6)\" style=\"fill: none; stroke: #1f77b4; stroke-width: 1.5; stroke-linecap: square\"/>\n   </g>\n   <g id=\"line2d_35\">\n    <path d=\"M 49.633125 113.92835 \nL 69.163125 122.041695 \n\" clip-path=\"url(#p7dc946a0b6)\" style=\"fill: none; stroke-dasharray: 5.55,2.4; stroke-dashoffset: 0; stroke: #ff7f0e; stroke-width: 1.5\"/>\n   </g>\n   <g id=\"line2d_36\">\n    <path d=\"M 49.633125 111.691992 \nL 69.163125 108.9999 \n\" clip-path=\"url(#p7dc946a0b6)\" style=\"fill: none; stroke-dasharray: 9.6,2.4,1.5,2.4; stroke-dashoffset: 0; stroke: #2ca02c; stroke-width: 1.5\"/>\n   </g>\n   <g id=\"line2d_37\">\n    <path d=\"M 34.954394 13.5 \nL 44.698573 78.829132 \nL 54.442752 113.657829 \nL 64.186931 120.45129 \nL 73.93111 124.617619 \nL 83.675289 127.537196 \n\" clip-path=\"url(#p7dc946a0b6)\" style=\"fill: none; stroke: #1f77b4; stroke-width: 1.5; stroke-linecap: square\"/>\n   </g>\n   <g id=\"line2d_38\">\n    <path d=\"M 49.633125 113.92835 \nL 69.163125 122.041695 \nL 88.693125 130.528792 \n\" clip-path=\"url(#p7dc946a0b6)\" style=\"fill: none; stroke-dasharray: 5.55,2.4; stroke-dashoffset: 0; stroke: #ff7f0e; stroke-width: 1.5\"/>\n   </g>\n   <g id=\"line2d_39\">\n    <path d=\"M 49.633125 111.691992 \nL 69.163125 108.9999 \n\" clip-path=\"url(#p7dc946a0b6)\" style=\"fill: none; stroke-dasharray: 9.6,2.4,1.5,2.4; stroke-dashoffset: 0; stroke: #2ca02c; stroke-width: 1.5\"/>\n   </g>\n   <g id=\"line2d_40\">\n    <path d=\"M 34.954394 13.5 \nL 44.698573 78.829132 \nL 54.442752 113.657829 \nL 64.186931 120.45129 \nL 73.93111 124.617619 \nL 83.675289 127.537196 \n\" clip-path=\"url(#p7dc946a0b6)\" style=\"fill: none; stroke: #1f77b4; stroke-width: 1.5; stroke-linecap: square\"/>\n   </g>\n   <g id=\"line2d_41\">\n    <path d=\"M 49.633125 113.92835 \nL 69.163125 122.041695 \nL 88.693125 130.528792 \n\" clip-path=\"url(#p7dc946a0b6)\" style=\"fill: none; stroke-dasharray: 5.55,2.4; stroke-dashoffset: 0; stroke: #ff7f0e; stroke-width: 1.5\"/>\n   </g>\n   <g id=\"line2d_42\">\n    <path d=\"M 49.633125 111.691992 \nL 69.163125 108.9999 \nL 88.693125 105.377132 \n\" clip-path=\"url(#p7dc946a0b6)\" style=\"fill: none; stroke-dasharray: 9.6,2.4,1.5,2.4; stroke-dashoffset: 0; stroke: #2ca02c; stroke-width: 1.5\"/>\n   </g>\n   <g id=\"line2d_43\">\n    <path d=\"M 34.954394 13.5 \nL 44.698573 78.829132 \nL 54.442752 113.657829 \nL 64.186931 120.45129 \nL 73.93111 124.617619 \nL 83.675289 127.537196 \nL 93.419468 129.72863 \n\" clip-path=\"url(#p7dc946a0b6)\" style=\"fill: none; stroke: #1f77b4; stroke-width: 1.5; stroke-linecap: square\"/>\n   </g>\n   <g id=\"line2d_44\">\n    <path d=\"M 49.633125 113.92835 \nL 69.163125 122.041695 \nL 88.693125 130.528792 \n\" clip-path=\"url(#p7dc946a0b6)\" style=\"fill: none; stroke-dasharray: 5.55,2.4; stroke-dashoffset: 0; stroke: #ff7f0e; stroke-width: 1.5\"/>\n   </g>\n   <g id=\"line2d_45\">\n    <path d=\"M 49.633125 111.691992 \nL 69.163125 108.9999 \nL 88.693125 105.377132 \n\" clip-path=\"url(#p7dc946a0b6)\" style=\"fill: none; stroke-dasharray: 9.6,2.4,1.5,2.4; stroke-dashoffset: 0; stroke: #2ca02c; stroke-width: 1.5\"/>\n   </g>\n   <g id=\"line2d_46\">\n    <path d=\"M 34.954394 13.5 \nL 44.698573 78.829132 \nL 54.442752 113.657829 \nL 64.186931 120.45129 \nL 73.93111 124.617619 \nL 83.675289 127.537196 \nL 93.419468 129.72863 \nL 103.163647 131.19688 \n\" clip-path=\"url(#p7dc946a0b6)\" style=\"fill: none; stroke: #1f77b4; stroke-width: 1.5; stroke-linecap: square\"/>\n   </g>\n   <g id=\"line2d_47\">\n    <path d=\"M 49.633125 113.92835 \nL 69.163125 122.041695 \nL 88.693125 130.528792 \n\" clip-path=\"url(#p7dc946a0b6)\" style=\"fill: none; stroke-dasharray: 5.55,2.4; stroke-dashoffset: 0; stroke: #ff7f0e; stroke-width: 1.5\"/>\n   </g>\n   <g id=\"line2d_48\">\n    <path d=\"M 49.633125 111.691992 \nL 69.163125 108.9999 \nL 88.693125 105.377132 \n\" clip-path=\"url(#p7dc946a0b6)\" style=\"fill: none; stroke-dasharray: 9.6,2.4,1.5,2.4; stroke-dashoffset: 0; stroke: #2ca02c; stroke-width: 1.5\"/>\n   </g>\n   <g id=\"line2d_49\">\n    <path d=\"M 34.954394 13.5 \nL 44.698573 78.829132 \nL 54.442752 113.657829 \nL 64.186931 120.45129 \nL 73.93111 124.617619 \nL 83.675289 127.537196 \nL 93.419468 129.72863 \nL 103.163647 131.19688 \n\" clip-path=\"url(#p7dc946a0b6)\" style=\"fill: none; stroke: #1f77b4; stroke-width: 1.5; stroke-linecap: square\"/>\n   </g>\n   <g id=\"line2d_50\">\n    <path d=\"M 49.633125 113.92835 \nL 69.163125 122.041695 \nL 88.693125 130.528792 \nL 108.223125 133.871884 \n\" clip-path=\"url(#p7dc946a0b6)\" style=\"fill: none; stroke-dasharray: 5.55,2.4; stroke-dashoffset: 0; stroke: #ff7f0e; stroke-width: 1.5\"/>\n   </g>\n   <g id=\"line2d_51\">\n    <path d=\"M 49.633125 111.691992 \nL 69.163125 108.9999 \nL 88.693125 105.377132 \n\" clip-path=\"url(#p7dc946a0b6)\" style=\"fill: none; stroke-dasharray: 9.6,2.4,1.5,2.4; stroke-dashoffset: 0; stroke: #2ca02c; stroke-width: 1.5\"/>\n   </g>\n   <g id=\"line2d_52\">\n    <path d=\"M 34.954394 13.5 \nL 44.698573 78.829132 \nL 54.442752 113.657829 \nL 64.186931 120.45129 \nL 73.93111 124.617619 \nL 83.675289 127.537196 \nL 93.419468 129.72863 \nL 103.163647 131.19688 \n\" clip-path=\"url(#p7dc946a0b6)\" style=\"fill: none; stroke: #1f77b4; stroke-width: 1.5; stroke-linecap: square\"/>\n   </g>\n   <g id=\"line2d_53\">\n    <path d=\"M 49.633125 113.92835 \nL 69.163125 122.041695 \nL 88.693125 130.528792 \nL 108.223125 133.871884 \n\" clip-path=\"url(#p7dc946a0b6)\" style=\"fill: none; stroke-dasharray: 5.55,2.4; stroke-dashoffset: 0; stroke: #ff7f0e; stroke-width: 1.5\"/>\n   </g>\n   <g id=\"line2d_54\">\n    <path d=\"M 49.633125 111.691992 \nL 69.163125 108.9999 \nL 88.693125 105.377132 \nL 108.223125 103.971748 \n\" clip-path=\"url(#p7dc946a0b6)\" style=\"fill: none; stroke-dasharray: 9.6,2.4,1.5,2.4; stroke-dashoffset: 0; stroke: #2ca02c; stroke-width: 1.5\"/>\n   </g>\n   <g id=\"line2d_55\">\n    <path d=\"M 34.954394 13.5 \nL 44.698573 78.829132 \nL 54.442752 113.657829 \nL 64.186931 120.45129 \nL 73.93111 124.617619 \nL 83.675289 127.537196 \nL 93.419468 129.72863 \nL 103.163647 131.19688 \nL 112.907826 132.929396 \n\" clip-path=\"url(#p7dc946a0b6)\" style=\"fill: none; stroke: #1f77b4; stroke-width: 1.5; stroke-linecap: square\"/>\n   </g>\n   <g id=\"line2d_56\">\n    <path d=\"M 49.633125 113.92835 \nL 69.163125 122.041695 \nL 88.693125 130.528792 \nL 108.223125 133.871884 \n\" clip-path=\"url(#p7dc946a0b6)\" style=\"fill: none; stroke-dasharray: 5.55,2.4; stroke-dashoffset: 0; stroke: #ff7f0e; stroke-width: 1.5\"/>\n   </g>\n   <g id=\"line2d_57\">\n    <path d=\"M 49.633125 111.691992 \nL 69.163125 108.9999 \nL 88.693125 105.377132 \nL 108.223125 103.971748 \n\" clip-path=\"url(#p7dc946a0b6)\" style=\"fill: none; stroke-dasharray: 9.6,2.4,1.5,2.4; stroke-dashoffset: 0; stroke: #2ca02c; stroke-width: 1.5\"/>\n   </g>\n   <g id=\"line2d_58\">\n    <path d=\"M 34.954394 13.5 \nL 44.698573 78.829132 \nL 54.442752 113.657829 \nL 64.186931 120.45129 \nL 73.93111 124.617619 \nL 83.675289 127.537196 \nL 93.419468 129.72863 \nL 103.163647 131.19688 \nL 112.907826 132.929396 \nL 122.652006 133.328835 \n\" clip-path=\"url(#p7dc946a0b6)\" style=\"fill: none; stroke: #1f77b4; stroke-width: 1.5; stroke-linecap: square\"/>\n   </g>\n   <g id=\"line2d_59\">\n    <path d=\"M 49.633125 113.92835 \nL 69.163125 122.041695 \nL 88.693125 130.528792 \nL 108.223125 133.871884 \n\" clip-path=\"url(#p7dc946a0b6)\" style=\"fill: none; stroke-dasharray: 5.55,2.4; stroke-dashoffset: 0; stroke: #ff7f0e; stroke-width: 1.5\"/>\n   </g>\n   <g id=\"line2d_60\">\n    <path d=\"M 49.633125 111.691992 \nL 69.163125 108.9999 \nL 88.693125 105.377132 \nL 108.223125 103.971748 \n\" clip-path=\"url(#p7dc946a0b6)\" style=\"fill: none; stroke-dasharray: 9.6,2.4,1.5,2.4; stroke-dashoffset: 0; stroke: #2ca02c; stroke-width: 1.5\"/>\n   </g>\n   <g id=\"line2d_61\">\n    <path d=\"M 34.954394 13.5 \nL 44.698573 78.829132 \nL 54.442752 113.657829 \nL 64.186931 120.45129 \nL 73.93111 124.617619 \nL 83.675289 127.537196 \nL 93.419468 129.72863 \nL 103.163647 131.19688 \nL 112.907826 132.929396 \nL 122.652006 133.328835 \n\" clip-path=\"url(#p7dc946a0b6)\" style=\"fill: none; stroke: #1f77b4; stroke-width: 1.5; stroke-linecap: square\"/>\n   </g>\n   <g id=\"line2d_62\">\n    <path d=\"M 49.633125 113.92835 \nL 69.163125 122.041695 \nL 88.693125 130.528792 \nL 108.223125 133.871884 \nL 127.753125 133.752594 \n\" clip-path=\"url(#p7dc946a0b6)\" style=\"fill: none; stroke-dasharray: 5.55,2.4; stroke-dashoffset: 0; stroke: #ff7f0e; stroke-width: 1.5\"/>\n   </g>\n   <g id=\"line2d_63\">\n    <path d=\"M 49.633125 111.691992 \nL 69.163125 108.9999 \nL 88.693125 105.377132 \nL 108.223125 103.971748 \n\" clip-path=\"url(#p7dc946a0b6)\" style=\"fill: none; stroke-dasharray: 9.6,2.4,1.5,2.4; stroke-dashoffset: 0; stroke: #2ca02c; stroke-width: 1.5\"/>\n   </g>\n   <g id=\"line2d_64\">\n    <path d=\"M 34.954394 13.5 \nL 44.698573 78.829132 \nL 54.442752 113.657829 \nL 64.186931 120.45129 \nL 73.93111 124.617619 \nL 83.675289 127.537196 \nL 93.419468 129.72863 \nL 103.163647 131.19688 \nL 112.907826 132.929396 \nL 122.652006 133.328835 \n\" clip-path=\"url(#p7dc946a0b6)\" style=\"fill: none; stroke: #1f77b4; stroke-width: 1.5; stroke-linecap: square\"/>\n   </g>\n   <g id=\"line2d_65\">\n    <path d=\"M 49.633125 113.92835 \nL 69.163125 122.041695 \nL 88.693125 130.528792 \nL 108.223125 133.871884 \nL 127.753125 133.752594 \n\" clip-path=\"url(#p7dc946a0b6)\" style=\"fill: none; stroke-dasharray: 5.55,2.4; stroke-dashoffset: 0; stroke: #ff7f0e; stroke-width: 1.5\"/>\n   </g>\n   <g id=\"line2d_66\">\n    <path d=\"M 49.633125 111.691992 \nL 69.163125 108.9999 \nL 88.693125 105.377132 \nL 108.223125 103.971748 \nL 127.753125 104.015471 \n\" clip-path=\"url(#p7dc946a0b6)\" style=\"fill: none; stroke-dasharray: 9.6,2.4,1.5,2.4; stroke-dashoffset: 0; stroke: #2ca02c; stroke-width: 1.5\"/>\n   </g>\n   <g id=\"line2d_67\">\n    <path d=\"M 34.954394 13.5 \nL 44.698573 78.829132 \nL 54.442752 113.657829 \nL 64.186931 120.45129 \nL 73.93111 124.617619 \nL 83.675289 127.537196 \nL 93.419468 129.72863 \nL 103.163647 131.19688 \nL 112.907826 132.929396 \nL 122.652006 133.328835 \nL 132.396185 134.852604 \n\" clip-path=\"url(#p7dc946a0b6)\" style=\"fill: none; stroke: #1f77b4; stroke-width: 1.5; stroke-linecap: square\"/>\n   </g>\n   <g id=\"line2d_68\">\n    <path d=\"M 49.633125 113.92835 \nL 69.163125 122.041695 \nL 88.693125 130.528792 \nL 108.223125 133.871884 \nL 127.753125 133.752594 \n\" clip-path=\"url(#p7dc946a0b6)\" style=\"fill: none; stroke-dasharray: 5.55,2.4; stroke-dashoffset: 0; stroke: #ff7f0e; stroke-width: 1.5\"/>\n   </g>\n   <g id=\"line2d_69\">\n    <path d=\"M 49.633125 111.691992 \nL 69.163125 108.9999 \nL 88.693125 105.377132 \nL 108.223125 103.971748 \nL 127.753125 104.015471 \n\" clip-path=\"url(#p7dc946a0b6)\" style=\"fill: none; stroke-dasharray: 9.6,2.4,1.5,2.4; stroke-dashoffset: 0; stroke: #2ca02c; stroke-width: 1.5\"/>\n   </g>\n   <g id=\"line2d_70\">\n    <path d=\"M 34.954394 13.5 \nL 44.698573 78.829132 \nL 54.442752 113.657829 \nL 64.186931 120.45129 \nL 73.93111 124.617619 \nL 83.675289 127.537196 \nL 93.419468 129.72863 \nL 103.163647 131.19688 \nL 112.907826 132.929396 \nL 122.652006 133.328835 \nL 132.396185 134.852604 \nL 142.140364 135.176835 \n\" clip-path=\"url(#p7dc946a0b6)\" style=\"fill: none; stroke: #1f77b4; stroke-width: 1.5; stroke-linecap: square\"/>\n   </g>\n   <g id=\"line2d_71\">\n    <path d=\"M 49.633125 113.92835 \nL 69.163125 122.041695 \nL 88.693125 130.528792 \nL 108.223125 133.871884 \nL 127.753125 133.752594 \n\" clip-path=\"url(#p7dc946a0b6)\" style=\"fill: none; stroke-dasharray: 5.55,2.4; stroke-dashoffset: 0; stroke: #ff7f0e; stroke-width: 1.5\"/>\n   </g>\n   <g id=\"line2d_72\">\n    <path d=\"M 49.633125 111.691992 \nL 69.163125 108.9999 \nL 88.693125 105.377132 \nL 108.223125 103.971748 \nL 127.753125 104.015471 \n\" clip-path=\"url(#p7dc946a0b6)\" style=\"fill: none; stroke-dasharray: 9.6,2.4,1.5,2.4; stroke-dashoffset: 0; stroke: #2ca02c; stroke-width: 1.5\"/>\n   </g>\n   <g id=\"line2d_73\">\n    <path d=\"M 34.954394 13.5 \nL 44.698573 78.829132 \nL 54.442752 113.657829 \nL 64.186931 120.45129 \nL 73.93111 124.617619 \nL 83.675289 127.537196 \nL 93.419468 129.72863 \nL 103.163647 131.19688 \nL 112.907826 132.929396 \nL 122.652006 133.328835 \nL 132.396185 134.852604 \nL 142.140364 135.176835 \n\" clip-path=\"url(#p7dc946a0b6)\" style=\"fill: none; stroke: #1f77b4; stroke-width: 1.5; stroke-linecap: square\"/>\n   </g>\n   <g id=\"line2d_74\">\n    <path d=\"M 49.633125 113.92835 \nL 69.163125 122.041695 \nL 88.693125 130.528792 \nL 108.223125 133.871884 \nL 127.753125 133.752594 \nL 147.283125 135.556598 \n\" clip-path=\"url(#p7dc946a0b6)\" style=\"fill: none; stroke-dasharray: 5.55,2.4; stroke-dashoffset: 0; stroke: #ff7f0e; stroke-width: 1.5\"/>\n   </g>\n   <g id=\"line2d_75\">\n    <path d=\"M 49.633125 111.691992 \nL 69.163125 108.9999 \nL 88.693125 105.377132 \nL 108.223125 103.971748 \nL 127.753125 104.015471 \n\" clip-path=\"url(#p7dc946a0b6)\" style=\"fill: none; stroke-dasharray: 9.6,2.4,1.5,2.4; stroke-dashoffset: 0; stroke: #2ca02c; stroke-width: 1.5\"/>\n   </g>\n   <g id=\"line2d_76\">\n    <path d=\"M 34.954394 13.5 \nL 44.698573 78.829132 \nL 54.442752 113.657829 \nL 64.186931 120.45129 \nL 73.93111 124.617619 \nL 83.675289 127.537196 \nL 93.419468 129.72863 \nL 103.163647 131.19688 \nL 112.907826 132.929396 \nL 122.652006 133.328835 \nL 132.396185 134.852604 \nL 142.140364 135.176835 \n\" clip-path=\"url(#p7dc946a0b6)\" style=\"fill: none; stroke: #1f77b4; stroke-width: 1.5; stroke-linecap: square\"/>\n   </g>\n   <g id=\"line2d_77\">\n    <path d=\"M 49.633125 113.92835 \nL 69.163125 122.041695 \nL 88.693125 130.528792 \nL 108.223125 133.871884 \nL 127.753125 133.752594 \nL 147.283125 135.556598 \n\" clip-path=\"url(#p7dc946a0b6)\" style=\"fill: none; stroke-dasharray: 5.55,2.4; stroke-dashoffset: 0; stroke: #ff7f0e; stroke-width: 1.5\"/>\n   </g>\n   <g id=\"line2d_78\">\n    <path d=\"M 49.633125 111.691992 \nL 69.163125 108.9999 \nL 88.693125 105.377132 \nL 108.223125 103.971748 \nL 127.753125 104.015471 \nL 147.283125 103.440825 \n\" clip-path=\"url(#p7dc946a0b6)\" style=\"fill: none; stroke-dasharray: 9.6,2.4,1.5,2.4; stroke-dashoffset: 0; stroke: #2ca02c; stroke-width: 1.5\"/>\n   </g>\n   <g id=\"line2d_79\">\n    <path d=\"M 34.954394 13.5 \nL 44.698573 78.829132 \nL 54.442752 113.657829 \nL 64.186931 120.45129 \nL 73.93111 124.617619 \nL 83.675289 127.537196 \nL 93.419468 129.72863 \nL 103.163647 131.19688 \nL 112.907826 132.929396 \nL 122.652006 133.328835 \nL 132.396185 134.852604 \nL 142.140364 135.176835 \nL 151.884543 136.482043 \n\" clip-path=\"url(#p7dc946a0b6)\" style=\"fill: none; stroke: #1f77b4; stroke-width: 1.5; stroke-linecap: square\"/>\n   </g>\n   <g id=\"line2d_80\">\n    <path d=\"M 49.633125 113.92835 \nL 69.163125 122.041695 \nL 88.693125 130.528792 \nL 108.223125 133.871884 \nL 127.753125 133.752594 \nL 147.283125 135.556598 \n\" clip-path=\"url(#p7dc946a0b6)\" style=\"fill: none; stroke-dasharray: 5.55,2.4; stroke-dashoffset: 0; stroke: #ff7f0e; stroke-width: 1.5\"/>\n   </g>\n   <g id=\"line2d_81\">\n    <path d=\"M 49.633125 111.691992 \nL 69.163125 108.9999 \nL 88.693125 105.377132 \nL 108.223125 103.971748 \nL 127.753125 104.015471 \nL 147.283125 103.440825 \n\" clip-path=\"url(#p7dc946a0b6)\" style=\"fill: none; stroke-dasharray: 9.6,2.4,1.5,2.4; stroke-dashoffset: 0; stroke: #2ca02c; stroke-width: 1.5\"/>\n   </g>\n   <g id=\"line2d_82\">\n    <path d=\"M 34.954394 13.5 \nL 44.698573 78.829132 \nL 54.442752 113.657829 \nL 64.186931 120.45129 \nL 73.93111 124.617619 \nL 83.675289 127.537196 \nL 93.419468 129.72863 \nL 103.163647 131.19688 \nL 112.907826 132.929396 \nL 122.652006 133.328835 \nL 132.396185 134.852604 \nL 142.140364 135.176835 \nL 151.884543 136.482043 \nL 161.628722 136.302064 \n\" clip-path=\"url(#p7dc946a0b6)\" style=\"fill: none; stroke: #1f77b4; stroke-width: 1.5; stroke-linecap: square\"/>\n   </g>\n   <g id=\"line2d_83\">\n    <path d=\"M 49.633125 113.92835 \nL 69.163125 122.041695 \nL 88.693125 130.528792 \nL 108.223125 133.871884 \nL 127.753125 133.752594 \nL 147.283125 135.556598 \n\" clip-path=\"url(#p7dc946a0b6)\" style=\"fill: none; stroke-dasharray: 5.55,2.4; stroke-dashoffset: 0; stroke: #ff7f0e; stroke-width: 1.5\"/>\n   </g>\n   <g id=\"line2d_84\">\n    <path d=\"M 49.633125 111.691992 \nL 69.163125 108.9999 \nL 88.693125 105.377132 \nL 108.223125 103.971748 \nL 127.753125 104.015471 \nL 147.283125 103.440825 \n\" clip-path=\"url(#p7dc946a0b6)\" style=\"fill: none; stroke-dasharray: 9.6,2.4,1.5,2.4; stroke-dashoffset: 0; stroke: #2ca02c; stroke-width: 1.5\"/>\n   </g>\n   <g id=\"line2d_85\">\n    <path d=\"M 34.954394 13.5 \nL 44.698573 78.829132 \nL 54.442752 113.657829 \nL 64.186931 120.45129 \nL 73.93111 124.617619 \nL 83.675289 127.537196 \nL 93.419468 129.72863 \nL 103.163647 131.19688 \nL 112.907826 132.929396 \nL 122.652006 133.328835 \nL 132.396185 134.852604 \nL 142.140364 135.176835 \nL 151.884543 136.482043 \nL 161.628722 136.302064 \n\" clip-path=\"url(#p7dc946a0b6)\" style=\"fill: none; stroke: #1f77b4; stroke-width: 1.5; stroke-linecap: square\"/>\n   </g>\n   <g id=\"line2d_86\">\n    <path d=\"M 49.633125 113.92835 \nL 69.163125 122.041695 \nL 88.693125 130.528792 \nL 108.223125 133.871884 \nL 127.753125 133.752594 \nL 147.283125 135.556598 \nL 166.813125 137.229883 \n\" clip-path=\"url(#p7dc946a0b6)\" style=\"fill: none; stroke-dasharray: 5.55,2.4; stroke-dashoffset: 0; stroke: #ff7f0e; stroke-width: 1.5\"/>\n   </g>\n   <g id=\"line2d_87\">\n    <path d=\"M 49.633125 111.691992 \nL 69.163125 108.9999 \nL 88.693125 105.377132 \nL 108.223125 103.971748 \nL 127.753125 104.015471 \nL 147.283125 103.440825 \n\" clip-path=\"url(#p7dc946a0b6)\" style=\"fill: none; stroke-dasharray: 9.6,2.4,1.5,2.4; stroke-dashoffset: 0; stroke: #2ca02c; stroke-width: 1.5\"/>\n   </g>\n   <g id=\"line2d_88\">\n    <path d=\"M 34.954394 13.5 \nL 44.698573 78.829132 \nL 54.442752 113.657829 \nL 64.186931 120.45129 \nL 73.93111 124.617619 \nL 83.675289 127.537196 \nL 93.419468 129.72863 \nL 103.163647 131.19688 \nL 112.907826 132.929396 \nL 122.652006 133.328835 \nL 132.396185 134.852604 \nL 142.140364 135.176835 \nL 151.884543 136.482043 \nL 161.628722 136.302064 \n\" clip-path=\"url(#p7dc946a0b6)\" style=\"fill: none; stroke: #1f77b4; stroke-width: 1.5; stroke-linecap: square\"/>\n   </g>\n   <g id=\"line2d_89\">\n    <path d=\"M 49.633125 113.92835 \nL 69.163125 122.041695 \nL 88.693125 130.528792 \nL 108.223125 133.871884 \nL 127.753125 133.752594 \nL 147.283125 135.556598 \nL 166.813125 137.229883 \n\" clip-path=\"url(#p7dc946a0b6)\" style=\"fill: none; stroke-dasharray: 5.55,2.4; stroke-dashoffset: 0; stroke: #ff7f0e; stroke-width: 1.5\"/>\n   </g>\n   <g id=\"line2d_90\">\n    <path d=\"M 49.633125 111.691992 \nL 69.163125 108.9999 \nL 88.693125 105.377132 \nL 108.223125 103.971748 \nL 127.753125 104.015471 \nL 147.283125 103.440825 \nL 166.813125 102.822456 \n\" clip-path=\"url(#p7dc946a0b6)\" style=\"fill: none; stroke-dasharray: 9.6,2.4,1.5,2.4; stroke-dashoffset: 0; stroke: #2ca02c; stroke-width: 1.5\"/>\n   </g>\n   <g id=\"line2d_91\">\n    <path d=\"M 34.954394 13.5 \nL 44.698573 78.829132 \nL 54.442752 113.657829 \nL 64.186931 120.45129 \nL 73.93111 124.617619 \nL 83.675289 127.537196 \nL 93.419468 129.72863 \nL 103.163647 131.19688 \nL 112.907826 132.929396 \nL 122.652006 133.328835 \nL 132.396185 134.852604 \nL 142.140364 135.176835 \nL 151.884543 136.482043 \nL 161.628722 136.302064 \nL 171.372901 136.905222 \n\" clip-path=\"url(#p7dc946a0b6)\" style=\"fill: none; stroke: #1f77b4; stroke-width: 1.5; stroke-linecap: square\"/>\n   </g>\n   <g id=\"line2d_92\">\n    <path d=\"M 49.633125 113.92835 \nL 69.163125 122.041695 \nL 88.693125 130.528792 \nL 108.223125 133.871884 \nL 127.753125 133.752594 \nL 147.283125 135.556598 \nL 166.813125 137.229883 \n\" clip-path=\"url(#p7dc946a0b6)\" style=\"fill: none; stroke-dasharray: 5.55,2.4; stroke-dashoffset: 0; stroke: #ff7f0e; stroke-width: 1.5\"/>\n   </g>\n   <g id=\"line2d_93\">\n    <path d=\"M 49.633125 111.691992 \nL 69.163125 108.9999 \nL 88.693125 105.377132 \nL 108.223125 103.971748 \nL 127.753125 104.015471 \nL 147.283125 103.440825 \nL 166.813125 102.822456 \n\" clip-path=\"url(#p7dc946a0b6)\" style=\"fill: none; stroke-dasharray: 9.6,2.4,1.5,2.4; stroke-dashoffset: 0; stroke: #2ca02c; stroke-width: 1.5\"/>\n   </g>\n   <g id=\"line2d_94\">\n    <path d=\"M 34.954394 13.5 \nL 44.698573 78.829132 \nL 54.442752 113.657829 \nL 64.186931 120.45129 \nL 73.93111 124.617619 \nL 83.675289 127.537196 \nL 93.419468 129.72863 \nL 103.163647 131.19688 \nL 112.907826 132.929396 \nL 122.652006 133.328835 \nL 132.396185 134.852604 \nL 142.140364 135.176835 \nL 151.884543 136.482043 \nL 161.628722 136.302064 \nL 171.372901 136.905222 \nL 181.11708 137.908032 \n\" clip-path=\"url(#p7dc946a0b6)\" style=\"fill: none; stroke: #1f77b4; stroke-width: 1.5; stroke-linecap: square\"/>\n   </g>\n   <g id=\"line2d_95\">\n    <path d=\"M 49.633125 113.92835 \nL 69.163125 122.041695 \nL 88.693125 130.528792 \nL 108.223125 133.871884 \nL 127.753125 133.752594 \nL 147.283125 135.556598 \nL 166.813125 137.229883 \n\" clip-path=\"url(#p7dc946a0b6)\" style=\"fill: none; stroke-dasharray: 5.55,2.4; stroke-dashoffset: 0; stroke: #ff7f0e; stroke-width: 1.5\"/>\n   </g>\n   <g id=\"line2d_96\">\n    <path d=\"M 49.633125 111.691992 \nL 69.163125 108.9999 \nL 88.693125 105.377132 \nL 108.223125 103.971748 \nL 127.753125 104.015471 \nL 147.283125 103.440825 \nL 166.813125 102.822456 \n\" clip-path=\"url(#p7dc946a0b6)\" style=\"fill: none; stroke-dasharray: 9.6,2.4,1.5,2.4; stroke-dashoffset: 0; stroke: #2ca02c; stroke-width: 1.5\"/>\n   </g>\n   <g id=\"line2d_97\">\n    <path d=\"M 34.954394 13.5 \nL 44.698573 78.829132 \nL 54.442752 113.657829 \nL 64.186931 120.45129 \nL 73.93111 124.617619 \nL 83.675289 127.537196 \nL 93.419468 129.72863 \nL 103.163647 131.19688 \nL 112.907826 132.929396 \nL 122.652006 133.328835 \nL 132.396185 134.852604 \nL 142.140364 135.176835 \nL 151.884543 136.482043 \nL 161.628722 136.302064 \nL 171.372901 136.905222 \nL 181.11708 137.908032 \n\" clip-path=\"url(#p7dc946a0b6)\" style=\"fill: none; stroke: #1f77b4; stroke-width: 1.5; stroke-linecap: square\"/>\n   </g>\n   <g id=\"line2d_98\">\n    <path d=\"M 49.633125 113.92835 \nL 69.163125 122.041695 \nL 88.693125 130.528792 \nL 108.223125 133.871884 \nL 127.753125 133.752594 \nL 147.283125 135.556598 \nL 166.813125 137.229883 \nL 186.343125 138.575055 \n\" clip-path=\"url(#p7dc946a0b6)\" style=\"fill: none; stroke-dasharray: 5.55,2.4; stroke-dashoffset: 0; stroke: #ff7f0e; stroke-width: 1.5\"/>\n   </g>\n   <g id=\"line2d_99\">\n    <path d=\"M 49.633125 111.691992 \nL 69.163125 108.9999 \nL 88.693125 105.377132 \nL 108.223125 103.971748 \nL 127.753125 104.015471 \nL 147.283125 103.440825 \nL 166.813125 102.822456 \n\" clip-path=\"url(#p7dc946a0b6)\" style=\"fill: none; stroke-dasharray: 9.6,2.4,1.5,2.4; stroke-dashoffset: 0; stroke: #2ca02c; stroke-width: 1.5\"/>\n   </g>\n   <g id=\"line2d_100\">\n    <path d=\"M 34.954394 13.5 \nL 44.698573 78.829132 \nL 54.442752 113.657829 \nL 64.186931 120.45129 \nL 73.93111 124.617619 \nL 83.675289 127.537196 \nL 93.419468 129.72863 \nL 103.163647 131.19688 \nL 112.907826 132.929396 \nL 122.652006 133.328835 \nL 132.396185 134.852604 \nL 142.140364 135.176835 \nL 151.884543 136.482043 \nL 161.628722 136.302064 \nL 171.372901 136.905222 \nL 181.11708 137.908032 \n\" clip-path=\"url(#p7dc946a0b6)\" style=\"fill: none; stroke: #1f77b4; stroke-width: 1.5; stroke-linecap: square\"/>\n   </g>\n   <g id=\"line2d_101\">\n    <path d=\"M 49.633125 113.92835 \nL 69.163125 122.041695 \nL 88.693125 130.528792 \nL 108.223125 133.871884 \nL 127.753125 133.752594 \nL 147.283125 135.556598 \nL 166.813125 137.229883 \nL 186.343125 138.575055 \n\" clip-path=\"url(#p7dc946a0b6)\" style=\"fill: none; stroke-dasharray: 5.55,2.4; stroke-dashoffset: 0; stroke: #ff7f0e; stroke-width: 1.5\"/>\n   </g>\n   <g id=\"line2d_102\">\n    <path d=\"M 49.633125 111.691992 \nL 69.163125 108.9999 \nL 88.693125 105.377132 \nL 108.223125 103.971748 \nL 127.753125 104.015471 \nL 147.283125 103.440825 \nL 166.813125 102.822456 \nL 186.343125 102.322764 \n\" clip-path=\"url(#p7dc946a0b6)\" style=\"fill: none; stroke-dasharray: 9.6,2.4,1.5,2.4; stroke-dashoffset: 0; stroke: #2ca02c; stroke-width: 1.5\"/>\n   </g>\n   <g id=\"line2d_103\">\n    <path d=\"M 34.954394 13.5 \nL 44.698573 78.829132 \nL 54.442752 113.657829 \nL 64.186931 120.45129 \nL 73.93111 124.617619 \nL 83.675289 127.537196 \nL 93.419468 129.72863 \nL 103.163647 131.19688 \nL 112.907826 132.929396 \nL 122.652006 133.328835 \nL 132.396185 134.852604 \nL 142.140364 135.176835 \nL 151.884543 136.482043 \nL 161.628722 136.302064 \nL 171.372901 136.905222 \nL 181.11708 137.908032 \nL 190.861259 138.611995 \n\" clip-path=\"url(#p7dc946a0b6)\" style=\"fill: none; stroke: #1f77b4; stroke-width: 1.5; stroke-linecap: square\"/>\n   </g>\n   <g id=\"line2d_104\">\n    <path d=\"M 49.633125 113.92835 \nL 69.163125 122.041695 \nL 88.693125 130.528792 \nL 108.223125 133.871884 \nL 127.753125 133.752594 \nL 147.283125 135.556598 \nL 166.813125 137.229883 \nL 186.343125 138.575055 \n\" clip-path=\"url(#p7dc946a0b6)\" style=\"fill: none; stroke-dasharray: 5.55,2.4; stroke-dashoffset: 0; stroke: #ff7f0e; stroke-width: 1.5\"/>\n   </g>\n   <g id=\"line2d_105\">\n    <path d=\"M 49.633125 111.691992 \nL 69.163125 108.9999 \nL 88.693125 105.377132 \nL 108.223125 103.971748 \nL 127.753125 104.015471 \nL 147.283125 103.440825 \nL 166.813125 102.822456 \nL 186.343125 102.322764 \n\" clip-path=\"url(#p7dc946a0b6)\" style=\"fill: none; stroke-dasharray: 9.6,2.4,1.5,2.4; stroke-dashoffset: 0; stroke: #2ca02c; stroke-width: 1.5\"/>\n   </g>\n   <g id=\"line2d_106\">\n    <path d=\"M 34.954394 13.5 \nL 44.698573 78.829132 \nL 54.442752 113.657829 \nL 64.186931 120.45129 \nL 73.93111 124.617619 \nL 83.675289 127.537196 \nL 93.419468 129.72863 \nL 103.163647 131.19688 \nL 112.907826 132.929396 \nL 122.652006 133.328835 \nL 132.396185 134.852604 \nL 142.140364 135.176835 \nL 151.884543 136.482043 \nL 161.628722 136.302064 \nL 171.372901 136.905222 \nL 181.11708 137.908032 \nL 190.861259 138.611995 \nL 200.605438 138.248821 \n\" clip-path=\"url(#p7dc946a0b6)\" style=\"fill: none; stroke: #1f77b4; stroke-width: 1.5; stroke-linecap: square\"/>\n   </g>\n   <g id=\"line2d_107\">\n    <path d=\"M 49.633125 113.92835 \nL 69.163125 122.041695 \nL 88.693125 130.528792 \nL 108.223125 133.871884 \nL 127.753125 133.752594 \nL 147.283125 135.556598 \nL 166.813125 137.229883 \nL 186.343125 138.575055 \n\" clip-path=\"url(#p7dc946a0b6)\" style=\"fill: none; stroke-dasharray: 5.55,2.4; stroke-dashoffset: 0; stroke: #ff7f0e; stroke-width: 1.5\"/>\n   </g>\n   <g id=\"line2d_108\">\n    <path d=\"M 49.633125 111.691992 \nL 69.163125 108.9999 \nL 88.693125 105.377132 \nL 108.223125 103.971748 \nL 127.753125 104.015471 \nL 147.283125 103.440825 \nL 166.813125 102.822456 \nL 186.343125 102.322764 \n\" clip-path=\"url(#p7dc946a0b6)\" style=\"fill: none; stroke-dasharray: 9.6,2.4,1.5,2.4; stroke-dashoffset: 0; stroke: #2ca02c; stroke-width: 1.5\"/>\n   </g>\n   <g id=\"line2d_109\">\n    <path d=\"M 34.954394 13.5 \nL 44.698573 78.829132 \nL 54.442752 113.657829 \nL 64.186931 120.45129 \nL 73.93111 124.617619 \nL 83.675289 127.537196 \nL 93.419468 129.72863 \nL 103.163647 131.19688 \nL 112.907826 132.929396 \nL 122.652006 133.328835 \nL 132.396185 134.852604 \nL 142.140364 135.176835 \nL 151.884543 136.482043 \nL 161.628722 136.302064 \nL 171.372901 136.905222 \nL 181.11708 137.908032 \nL 190.861259 138.611995 \nL 200.605438 138.248821 \n\" clip-path=\"url(#p7dc946a0b6)\" style=\"fill: none; stroke: #1f77b4; stroke-width: 1.5; stroke-linecap: square\"/>\n   </g>\n   <g id=\"line2d_110\">\n    <path d=\"M 49.633125 113.92835 \nL 69.163125 122.041695 \nL 88.693125 130.528792 \nL 108.223125 133.871884 \nL 127.753125 133.752594 \nL 147.283125 135.556598 \nL 166.813125 137.229883 \nL 186.343125 138.575055 \nL 205.873125 138.529701 \n\" clip-path=\"url(#p7dc946a0b6)\" style=\"fill: none; stroke-dasharray: 5.55,2.4; stroke-dashoffset: 0; stroke: #ff7f0e; stroke-width: 1.5\"/>\n   </g>\n   <g id=\"line2d_111\">\n    <path d=\"M 49.633125 111.691992 \nL 69.163125 108.9999 \nL 88.693125 105.377132 \nL 108.223125 103.971748 \nL 127.753125 104.015471 \nL 147.283125 103.440825 \nL 166.813125 102.822456 \nL 186.343125 102.322764 \n\" clip-path=\"url(#p7dc946a0b6)\" style=\"fill: none; stroke-dasharray: 9.6,2.4,1.5,2.4; stroke-dashoffset: 0; stroke: #2ca02c; stroke-width: 1.5\"/>\n   </g>\n   <g id=\"line2d_112\">\n    <path d=\"M 34.954394 13.5 \nL 44.698573 78.829132 \nL 54.442752 113.657829 \nL 64.186931 120.45129 \nL 73.93111 124.617619 \nL 83.675289 127.537196 \nL 93.419468 129.72863 \nL 103.163647 131.19688 \nL 112.907826 132.929396 \nL 122.652006 133.328835 \nL 132.396185 134.852604 \nL 142.140364 135.176835 \nL 151.884543 136.482043 \nL 161.628722 136.302064 \nL 171.372901 136.905222 \nL 181.11708 137.908032 \nL 190.861259 138.611995 \nL 200.605438 138.248821 \n\" clip-path=\"url(#p7dc946a0b6)\" style=\"fill: none; stroke: #1f77b4; stroke-width: 1.5; stroke-linecap: square\"/>\n   </g>\n   <g id=\"line2d_113\">\n    <path d=\"M 49.633125 113.92835 \nL 69.163125 122.041695 \nL 88.693125 130.528792 \nL 108.223125 133.871884 \nL 127.753125 133.752594 \nL 147.283125 135.556598 \nL 166.813125 137.229883 \nL 186.343125 138.575055 \nL 205.873125 138.529701 \n\" clip-path=\"url(#p7dc946a0b6)\" style=\"fill: none; stroke-dasharray: 5.55,2.4; stroke-dashoffset: 0; stroke: #ff7f0e; stroke-width: 1.5\"/>\n   </g>\n   <g id=\"line2d_114\">\n    <path d=\"M 49.633125 111.691992 \nL 69.163125 108.9999 \nL 88.693125 105.377132 \nL 108.223125 103.971748 \nL 127.753125 104.015471 \nL 147.283125 103.440825 \nL 166.813125 102.822456 \nL 186.343125 102.322764 \nL 205.873125 102.24781 \n\" clip-path=\"url(#p7dc946a0b6)\" style=\"fill: none; stroke-dasharray: 9.6,2.4,1.5,2.4; stroke-dashoffset: 0; stroke: #2ca02c; stroke-width: 1.5\"/>\n   </g>\n   <g id=\"line2d_115\">\n    <path d=\"M 34.954394 13.5 \nL 44.698573 78.829132 \nL 54.442752 113.657829 \nL 64.186931 120.45129 \nL 73.93111 124.617619 \nL 83.675289 127.537196 \nL 93.419468 129.72863 \nL 103.163647 131.19688 \nL 112.907826 132.929396 \nL 122.652006 133.328835 \nL 132.396185 134.852604 \nL 142.140364 135.176835 \nL 151.884543 136.482043 \nL 161.628722 136.302064 \nL 171.372901 136.905222 \nL 181.11708 137.908032 \nL 190.861259 138.611995 \nL 200.605438 138.248821 \nL 210.349618 139.5 \n\" clip-path=\"url(#p7dc946a0b6)\" style=\"fill: none; stroke: #1f77b4; stroke-width: 1.5; stroke-linecap: square\"/>\n   </g>\n   <g id=\"line2d_116\">\n    <path d=\"M 49.633125 113.92835 \nL 69.163125 122.041695 \nL 88.693125 130.528792 \nL 108.223125 133.871884 \nL 127.753125 133.752594 \nL 147.283125 135.556598 \nL 166.813125 137.229883 \nL 186.343125 138.575055 \nL 205.873125 138.529701 \n\" clip-path=\"url(#p7dc946a0b6)\" style=\"fill: none; stroke-dasharray: 5.55,2.4; stroke-dashoffset: 0; stroke: #ff7f0e; stroke-width: 1.5\"/>\n   </g>\n   <g id=\"line2d_117\">\n    <path d=\"M 49.633125 111.691992 \nL 69.163125 108.9999 \nL 88.693125 105.377132 \nL 108.223125 103.971748 \nL 127.753125 104.015471 \nL 147.283125 103.440825 \nL 166.813125 102.822456 \nL 186.343125 102.322764 \nL 205.873125 102.24781 \n\" clip-path=\"url(#p7dc946a0b6)\" style=\"fill: none; stroke-dasharray: 9.6,2.4,1.5,2.4; stroke-dashoffset: 0; stroke: #2ca02c; stroke-width: 1.5\"/>\n   </g>\n   <g id=\"line2d_118\">\n    <path d=\"M 34.954394 13.5 \nL 44.698573 78.829132 \nL 54.442752 113.657829 \nL 64.186931 120.45129 \nL 73.93111 124.617619 \nL 83.675289 127.537196 \nL 93.419468 129.72863 \nL 103.163647 131.19688 \nL 112.907826 132.929396 \nL 122.652006 133.328835 \nL 132.396185 134.852604 \nL 142.140364 135.176835 \nL 151.884543 136.482043 \nL 161.628722 136.302064 \nL 171.372901 136.905222 \nL 181.11708 137.908032 \nL 190.861259 138.611995 \nL 200.605438 138.248821 \nL 210.349618 139.5 \nL 220.093797 139.042865 \n\" clip-path=\"url(#p7dc946a0b6)\" style=\"fill: none; stroke: #1f77b4; stroke-width: 1.5; stroke-linecap: square\"/>\n   </g>\n   <g id=\"line2d_119\">\n    <path d=\"M 49.633125 113.92835 \nL 69.163125 122.041695 \nL 88.693125 130.528792 \nL 108.223125 133.871884 \nL 127.753125 133.752594 \nL 147.283125 135.556598 \nL 166.813125 137.229883 \nL 186.343125 138.575055 \nL 205.873125 138.529701 \n\" clip-path=\"url(#p7dc946a0b6)\" style=\"fill: none; stroke-dasharray: 5.55,2.4; stroke-dashoffset: 0; stroke: #ff7f0e; stroke-width: 1.5\"/>\n   </g>\n   <g id=\"line2d_120\">\n    <path d=\"M 49.633125 111.691992 \nL 69.163125 108.9999 \nL 88.693125 105.377132 \nL 108.223125 103.971748 \nL 127.753125 104.015471 \nL 147.283125 103.440825 \nL 166.813125 102.822456 \nL 186.343125 102.322764 \nL 205.873125 102.24781 \n\" clip-path=\"url(#p7dc946a0b6)\" style=\"fill: none; stroke-dasharray: 9.6,2.4,1.5,2.4; stroke-dashoffset: 0; stroke: #2ca02c; stroke-width: 1.5\"/>\n   </g>\n   <g id=\"line2d_121\">\n    <path d=\"M 34.954394 13.5 \nL 44.698573 78.829132 \nL 54.442752 113.657829 \nL 64.186931 120.45129 \nL 73.93111 124.617619 \nL 83.675289 127.537196 \nL 93.419468 129.72863 \nL 103.163647 131.19688 \nL 112.907826 132.929396 \nL 122.652006 133.328835 \nL 132.396185 134.852604 \nL 142.140364 135.176835 \nL 151.884543 136.482043 \nL 161.628722 136.302064 \nL 171.372901 136.905222 \nL 181.11708 137.908032 \nL 190.861259 138.611995 \nL 200.605438 138.248821 \nL 210.349618 139.5 \nL 220.093797 139.042865 \n\" clip-path=\"url(#p7dc946a0b6)\" style=\"fill: none; stroke: #1f77b4; stroke-width: 1.5; stroke-linecap: square\"/>\n   </g>\n   <g id=\"line2d_122\">\n    <path d=\"M 49.633125 113.92835 \nL 69.163125 122.041695 \nL 88.693125 130.528792 \nL 108.223125 133.871884 \nL 127.753125 133.752594 \nL 147.283125 135.556598 \nL 166.813125 137.229883 \nL 186.343125 138.575055 \nL 205.873125 138.529701 \nL 225.403125 139.153924 \n\" clip-path=\"url(#p7dc946a0b6)\" style=\"fill: none; stroke-dasharray: 5.55,2.4; stroke-dashoffset: 0; stroke: #ff7f0e; stroke-width: 1.5\"/>\n   </g>\n   <g id=\"line2d_123\">\n    <path d=\"M 49.633125 111.691992 \nL 69.163125 108.9999 \nL 88.693125 105.377132 \nL 108.223125 103.971748 \nL 127.753125 104.015471 \nL 147.283125 103.440825 \nL 166.813125 102.822456 \nL 186.343125 102.322764 \nL 205.873125 102.24781 \n\" clip-path=\"url(#p7dc946a0b6)\" style=\"fill: none; stroke-dasharray: 9.6,2.4,1.5,2.4; stroke-dashoffset: 0; stroke: #2ca02c; stroke-width: 1.5\"/>\n   </g>\n   <g id=\"line2d_124\">\n    <path d=\"M 34.954394 13.5 \nL 44.698573 78.829132 \nL 54.442752 113.657829 \nL 64.186931 120.45129 \nL 73.93111 124.617619 \nL 83.675289 127.537196 \nL 93.419468 129.72863 \nL 103.163647 131.19688 \nL 112.907826 132.929396 \nL 122.652006 133.328835 \nL 132.396185 134.852604 \nL 142.140364 135.176835 \nL 151.884543 136.482043 \nL 161.628722 136.302064 \nL 171.372901 136.905222 \nL 181.11708 137.908032 \nL 190.861259 138.611995 \nL 200.605438 138.248821 \nL 210.349618 139.5 \nL 220.093797 139.042865 \n\" clip-path=\"url(#p7dc946a0b6)\" style=\"fill: none; stroke: #1f77b4; stroke-width: 1.5; stroke-linecap: square\"/>\n   </g>\n   <g id=\"line2d_125\">\n    <path d=\"M 49.633125 113.92835 \nL 69.163125 122.041695 \nL 88.693125 130.528792 \nL 108.223125 133.871884 \nL 127.753125 133.752594 \nL 147.283125 135.556598 \nL 166.813125 137.229883 \nL 186.343125 138.575055 \nL 205.873125 138.529701 \nL 225.403125 139.153924 \n\" clip-path=\"url(#p7dc946a0b6)\" style=\"fill: none; stroke-dasharray: 5.55,2.4; stroke-dashoffset: 0; stroke: #ff7f0e; stroke-width: 1.5\"/>\n   </g>\n   <g id=\"line2d_126\">\n    <path d=\"M 49.633125 111.691992 \nL 69.163125 108.9999 \nL 88.693125 105.377132 \nL 108.223125 103.971748 \nL 127.753125 104.015471 \nL 147.283125 103.440825 \nL 166.813125 102.822456 \nL 186.343125 102.322764 \nL 205.873125 102.24781 \nL 225.403125 102.072918 \n\" clip-path=\"url(#p7dc946a0b6)\" style=\"fill: none; stroke-dasharray: 9.6,2.4,1.5,2.4; stroke-dashoffset: 0; stroke: #2ca02c; stroke-width: 1.5\"/>\n   </g>\n   <g id=\"patch_3\">\n    <path d=\"M 30.103125 145.8 \nL 30.103125 7.2 \n\" style=\"fill: none; stroke: #000000; stroke-width: 0.8; stroke-linejoin: miter; stroke-linecap: square\"/>\n   </g>\n   <g id=\"patch_4\">\n    <path d=\"M 225.403125 145.8 \nL 225.403125 7.2 \n\" style=\"fill: none; stroke: #000000; stroke-width: 0.8; stroke-linejoin: miter; stroke-linecap: square\"/>\n   </g>\n   <g id=\"patch_5\">\n    <path d=\"M 30.103125 145.8 \nL 225.403125 145.8 \n\" style=\"fill: none; stroke: #000000; stroke-width: 0.8; stroke-linejoin: miter; stroke-linecap: square\"/>\n   </g>\n   <g id=\"patch_6\">\n    <path d=\"M 30.103125 7.2 \nL 225.403125 7.2 \n\" style=\"fill: none; stroke: #000000; stroke-width: 0.8; stroke-linejoin: miter; stroke-linecap: square\"/>\n   </g>\n   <g id=\"legend_1\">\n    <g id=\"patch_7\">\n     <path d=\"M 138.8125 60.06875 \nL 218.403125 60.06875 \nQ 220.403125 60.06875 220.403125 58.06875 \nL 220.403125 14.2 \nQ 220.403125 12.2 218.403125 12.2 \nL 138.8125 12.2 \nQ 136.8125 12.2 136.8125 14.2 \nL 136.8125 58.06875 \nQ 136.8125 60.06875 138.8125 60.06875 \nz\n\" style=\"fill: #ffffff; opacity: 0.8; stroke: #cccccc; stroke-linejoin: miter\"/>\n    </g>\n    <g id=\"line2d_127\">\n     <path d=\"M 140.8125 20.298438 \nL 150.8125 20.298438 \nL 160.8125 20.298438 \n\" style=\"fill: none; stroke: #1f77b4; stroke-width: 1.5; stroke-linecap: square\"/>\n    </g>\n    <g id=\"text_12\">\n     <!-- train_loss -->\n     <g transform=\"translate(168.8125 23.798438) scale(0.1 -0.1)\">\n      <defs>\n       <path id=\"DejaVuSans-74\" d=\"M 1172 4494 \nL 1172 3500 \nL 2356 3500 \nL 2356 3053 \nL 1172 3053 \nL 1172 1153 \nQ 1172 725 1289 603 \nQ 1406 481 1766 481 \nL 2356 481 \nL 2356 0 \nL 1766 0 \nQ 1100 0 847 248 \nQ 594 497 594 1153 \nL 594 3053 \nL 172 3053 \nL 172 3500 \nL 594 3500 \nL 594 4494 \nL 1172 4494 \nz\n\" transform=\"scale(0.015625)\"/>\n       <path id=\"DejaVuSans-72\" d=\"M 2631 2963 \nQ 2534 3019 2420 3045 \nQ 2306 3072 2169 3072 \nQ 1681 3072 1420 2755 \nQ 1159 2438 1159 1844 \nL 1159 0 \nL 581 0 \nL 581 3500 \nL 1159 3500 \nL 1159 2956 \nQ 1341 3275 1631 3429 \nQ 1922 3584 2338 3584 \nQ 2397 3584 2469 3576 \nQ 2541 3569 2628 3553 \nL 2631 2963 \nz\n\" transform=\"scale(0.015625)\"/>\n       <path id=\"DejaVuSans-61\" d=\"M 2194 1759 \nQ 1497 1759 1228 1600 \nQ 959 1441 959 1056 \nQ 959 750 1161 570 \nQ 1363 391 1709 391 \nQ 2188 391 2477 730 \nQ 2766 1069 2766 1631 \nL 2766 1759 \nL 2194 1759 \nz\nM 3341 1997 \nL 3341 0 \nL 2766 0 \nL 2766 531 \nQ 2569 213 2275 61 \nQ 1981 -91 1556 -91 \nQ 1019 -91 701 211 \nQ 384 513 384 1019 \nQ 384 1609 779 1909 \nQ 1175 2209 1959 2209 \nL 2766 2209 \nL 2766 2266 \nQ 2766 2663 2505 2880 \nQ 2244 3097 1772 3097 \nQ 1472 3097 1187 3025 \nQ 903 2953 641 2809 \nL 641 3341 \nQ 956 3463 1253 3523 \nQ 1550 3584 1831 3584 \nQ 2591 3584 2966 3190 \nQ 3341 2797 3341 1997 \nz\n\" transform=\"scale(0.015625)\"/>\n       <path id=\"DejaVuSans-69\" d=\"M 603 3500 \nL 1178 3500 \nL 1178 0 \nL 603 0 \nL 603 3500 \nz\nM 603 4863 \nL 1178 4863 \nL 1178 4134 \nL 603 4134 \nL 603 4863 \nz\n\" transform=\"scale(0.015625)\"/>\n       <path id=\"DejaVuSans-6e\" d=\"M 3513 2113 \nL 3513 0 \nL 2938 0 \nL 2938 2094 \nQ 2938 2591 2744 2837 \nQ 2550 3084 2163 3084 \nQ 1697 3084 1428 2787 \nQ 1159 2491 1159 1978 \nL 1159 0 \nL 581 0 \nL 581 3500 \nL 1159 3500 \nL 1159 2956 \nQ 1366 3272 1645 3428 \nQ 1925 3584 2291 3584 \nQ 2894 3584 3203 3211 \nQ 3513 2838 3513 2113 \nz\n\" transform=\"scale(0.015625)\"/>\n       <path id=\"DejaVuSans-5f\" d=\"M 3263 -1063 \nL 3263 -1509 \nL -63 -1509 \nL -63 -1063 \nL 3263 -1063 \nz\n\" transform=\"scale(0.015625)\"/>\n       <path id=\"DejaVuSans-6c\" d=\"M 603 4863 \nL 1178 4863 \nL 1178 0 \nL 603 0 \nL 603 4863 \nz\n\" transform=\"scale(0.015625)\"/>\n       <path id=\"DejaVuSans-73\" d=\"M 2834 3397 \nL 2834 2853 \nQ 2591 2978 2328 3040 \nQ 2066 3103 1784 3103 \nQ 1356 3103 1142 2972 \nQ 928 2841 928 2578 \nQ 928 2378 1081 2264 \nQ 1234 2150 1697 2047 \nL 1894 2003 \nQ 2506 1872 2764 1633 \nQ 3022 1394 3022 966 \nQ 3022 478 2636 193 \nQ 2250 -91 1575 -91 \nQ 1294 -91 989 -36 \nQ 684 19 347 128 \nL 347 722 \nQ 666 556 975 473 \nQ 1284 391 1588 391 \nQ 1994 391 2212 530 \nQ 2431 669 2431 922 \nQ 2431 1156 2273 1281 \nQ 2116 1406 1581 1522 \nL 1381 1569 \nQ 847 1681 609 1914 \nQ 372 2147 372 2553 \nQ 372 3047 722 3315 \nQ 1072 3584 1716 3584 \nQ 2034 3584 2315 3537 \nQ 2597 3491 2834 3397 \nz\n\" transform=\"scale(0.015625)\"/>\n      </defs>\n      <use xlink:href=\"#DejaVuSans-74\"/>\n      <use xlink:href=\"#DejaVuSans-72\" x=\"39.208984\"/>\n      <use xlink:href=\"#DejaVuSans-61\" x=\"80.322266\"/>\n      <use xlink:href=\"#DejaVuSans-69\" x=\"141.601562\"/>\n      <use xlink:href=\"#DejaVuSans-6e\" x=\"169.384766\"/>\n      <use xlink:href=\"#DejaVuSans-5f\" x=\"232.763672\"/>\n      <use xlink:href=\"#DejaVuSans-6c\" x=\"282.763672\"/>\n      <use xlink:href=\"#DejaVuSans-6f\" x=\"310.546875\"/>\n      <use xlink:href=\"#DejaVuSans-73\" x=\"371.728516\"/>\n      <use xlink:href=\"#DejaVuSans-73\" x=\"423.828125\"/>\n     </g>\n    </g>\n    <g id=\"line2d_128\">\n     <path d=\"M 140.8125 35.254688 \nL 150.8125 35.254688 \nL 160.8125 35.254688 \n\" style=\"fill: none; stroke-dasharray: 5.55,2.4; stroke-dashoffset: 0; stroke: #ff7f0e; stroke-width: 1.5\"/>\n    </g>\n    <g id=\"text_13\">\n     <!-- val_loss -->\n     <g transform=\"translate(168.8125 38.754688) scale(0.1 -0.1)\">\n      <defs>\n       <path id=\"DejaVuSans-76\" d=\"M 191 3500 \nL 800 3500 \nL 1894 563 \nL 2988 3500 \nL 3597 3500 \nL 2284 0 \nL 1503 0 \nL 191 3500 \nz\n\" transform=\"scale(0.015625)\"/>\n      </defs>\n      <use xlink:href=\"#DejaVuSans-76\"/>\n      <use xlink:href=\"#DejaVuSans-61\" x=\"59.179688\"/>\n      <use xlink:href=\"#DejaVuSans-6c\" x=\"120.458984\"/>\n      <use xlink:href=\"#DejaVuSans-5f\" x=\"148.242188\"/>\n      <use xlink:href=\"#DejaVuSans-6c\" x=\"198.242188\"/>\n      <use xlink:href=\"#DejaVuSans-6f\" x=\"226.025391\"/>\n      <use xlink:href=\"#DejaVuSans-73\" x=\"287.207031\"/>\n      <use xlink:href=\"#DejaVuSans-73\" x=\"339.306641\"/>\n     </g>\n    </g>\n    <g id=\"line2d_129\">\n     <path d=\"M 140.8125 50.210938 \nL 150.8125 50.210938 \nL 160.8125 50.210938 \n\" style=\"fill: none; stroke-dasharray: 9.6,2.4,1.5,2.4; stroke-dashoffset: 0; stroke: #2ca02c; stroke-width: 1.5\"/>\n    </g>\n    <g id=\"text_14\">\n     <!-- val_acc -->\n     <g transform=\"translate(168.8125 53.710938) scale(0.1 -0.1)\">\n      <use xlink:href=\"#DejaVuSans-76\"/>\n      <use xlink:href=\"#DejaVuSans-61\" x=\"59.179688\"/>\n      <use xlink:href=\"#DejaVuSans-6c\" x=\"120.458984\"/>\n      <use xlink:href=\"#DejaVuSans-5f\" x=\"148.242188\"/>\n      <use xlink:href=\"#DejaVuSans-61\" x=\"198.242188\"/>\n      <use xlink:href=\"#DejaVuSans-63\" x=\"259.521484\"/>\n      <use xlink:href=\"#DejaVuSans-63\" x=\"314.501953\"/>\n     </g>\n    </g>\n   </g>\n  </g>\n </g>\n <defs>\n  <clipPath id=\"p7dc946a0b6\">\n   <rect x=\"30.103125\" y=\"7.2\" width=\"195.3\" height=\"138.6\"/>\n  </clipPath>\n </defs>\n</svg>\n"
          },
          "metadata": {}
        }
      ]
    },
    {
      "cell_type": "markdown",
      "source": [
        "### 8.2.4. Summary\n",
        "\n",
        "* VGG는 현대 CNN의 시작이라고 할 정도로 중요함. 여러개의 컨볼루션 블록과 깊고 좁은 네트워크에 대한 선호의 특성을 도입\n",
        "* VGG는 단일 네트워크가 아닌 유사한 매개변수를 가진 여러 모델의 가족을 정의\n",
        "* 현대의 딥러닝 프레임워크는 네트워크를 XML 구성 파일로 정의할 필요 없이 간단한 Python 코드로 조립할 수 있게 해줘서 개발 과정이 단순화됨"
      ],
      "metadata": {
        "id": "O9Y6UjoQ94SX"
      }
    },
    {
      "cell_type": "markdown",
      "source": [
        "### 8.2.5 exercises\n",
        "\n",
        "2. When displaying the dimensions associated with the various layers of the network, we only see the information associated with eight blocks (plus some auxiliary transforms), even though the network has 11 layers. Where did the remaining three layers go?\n",
        "\n",
        "> VGG네트워크는 여러개의 convolution layer와 max pooling레이어로 구성. 나머지 3개의 layer는 완전 연결 레이어로, 최종 예측을 위해 사용된다. 차원 정보는 컨볼루션과 풀링 레이어에 중점을 두기 때문에, 완전 연결 레이어는 생략되고 두개만 표시된 것이라고 볼 수 있다. 즉, 나머지 3개의 레이어는 완전 연결 레이어."
      ],
      "metadata": {
        "id": "tsElVvZOBJwj"
      }
    },
    {
      "cell_type": "markdown",
      "source": [
        "### discussions or takeaway messages\n",
        "\n",
        "* VGG 네트워크 구성\n",
        "    - 컨볼루션 및 풀링 레이어 : 여러 VGG블록으로 구성\n",
        "    - 완전 연결 레이어\n",
        "\n",
        "* VGG 블록 : 다양한 아키텍처를 정의할 수 있는 패밀리를 형성, 특정 네트워크는 블록을 조합하여 구성됨\n",
        "* 현대 딥러닝 프레임워크의 발전으로 개발 과정이 단순화됨\n"
      ],
      "metadata": {
        "id": "8L_AeOWn-iZi"
      }
    },
    {
      "cell_type": "markdown",
      "source": [
        "## 8.6. Residual Networks (ResNet) and ResNeXt"
      ],
      "metadata": {
        "id": "MCLndOgPrffL"
      }
    },
    {
      "cell_type": "code",
      "source": [
        "import torch\n",
        "from torch import nn\n",
        "from torch.nn import functional as F\n",
        "from d2l import torch as d2l"
      ],
      "metadata": {
        "id": "472RDc4u9-4O"
      },
      "execution_count": 46,
      "outputs": []
    },
    {
      "cell_type": "markdown",
      "source": [
        "### 8.6.1. Function Classes\n",
        "\n",
        "특정 네트워크 아키텍처가 도달할 수 있는 함수 클래스를 고려. 주어진 데이터셋을 통해 학습하여 얻을 수 잇는 파라미터 집합을 포함함\n",
        "\n",
        "* 최적화 문제\n",
        "    - 데이터셋의 특징 ( x )와 레이블 ( y )를 가지고 ( f )를 찾기 위해 최적화 문제를 해결하려고 합니다.\n",
        "    - 정규화는 함수 클래스의 복잡성을 제어하고 일관성을 달성하는 데 도움을 줄 수 있음. 훈련 데이터의 크기가 커질수록 일반적으로 더 나은 hat{f}을 기대할 수 있습니다.\n",
        "\n",
        "* 함수 클래스\n",
        "\n",
        "* nested 함수 클래스\n",
        "    - 함수클래스 F'이 F를 포함하는 경우, 네트워크의 표현력이 증가한다고 보잘할 수 있음 -> 더 많은 계층을 추가할 때 기존 모델과 동일한 성능을 유지 가능\n",
        "\n",
        "* ResNet (잔차 네트워크)\n",
        "    - deep CV model을 연구할때, 추가된 각 계층이 정체 함수를 포함해야 한다\n",
        "    - 잔차 블록\n",
        "\n",
        "* 잔차 블록의 적용\n",
        "    - 순환 신경망, transformer 모델, 그래프 신경망 등 다양한 네트워크 구조에 추가되어 효율적으로 많은 계층을 쌓는 데 사용"
      ],
      "metadata": {
        "id": "DdcrJDRY-AOr"
      }
    },
    {
      "cell_type": "markdown",
      "source": [
        "### 8.6.2. Residual Blocks\n",
        "\n",
        "[잔차 블록]\n",
        "\n",
        "*  입력을 X로 하고, 우리가 학습하고자 하는 목표 맵핑을 H로 가정. 잔차 블록의 왼쪽 부분은 H를 직접 학습해야 하며, 오른쪽 부분은 잔차 맵핑 R을 학습.\n",
        "* 아이덴티티 맵핑: 만약 우리가 원하는 목표 맵핑이 아이덴티티 맵핑 I라면, 잔차 맵핑은 'R = H - I'. 학습이 더 쉬워지며, 상위 레이어의 가중치와 편향을 0으로 설정하는거로 충분함.\n",
        "\n",
        "\n",
        "[잔차 연결]\n",
        "\n",
        "* 잔차 블록의 구조에서 입력 X는 추가 연산을 거치지 않고 직접 더해져, 최종 ReLU 활성화 함수 전에 더해지는데 이것으로 잔차 연결이 이루어짐\n",
        "* 잔차 연결을 통해 입력이 레이어를 빠르게 전파\n",
        "\n",
        "[ResNet 설계]\n",
        "\n",
        "* VGG의 구조 채택: ResNet은 VGG의 모든 컨볼루션 레이어 설계를 포함하며, 각 잔차 블록은 두 개의 동일한 출력 채널을 가진 3x3 컨볼루션 레이어로 구성.\n",
        "* 각 컨볼루션 레이어 뒤에는 배치 정규화와 ReLU 활성화 함수가 있다. 이 두 개의 컨볼루션 연산 뒤에는 입력을 더하기 전에 추가적인 변환을 통해 출력 형태를 맞출 필요가 잇다."
      ],
      "metadata": {
        "id": "5aEjKXsa-CWf"
      }
    },
    {
      "cell_type": "code",
      "source": [
        "class Residual(nn.Module):\n",
        "    \"\"\"The Residual block of ResNet models.\"\"\"\n",
        "    def __init__(self, num_channels, use_1x1conv=False, strides=1):\n",
        "        super().__init__()\n",
        "        self.conv1 = nn.LazyConv2d(num_channels, kernel_size=3, padding=1,\n",
        "                                   stride=strides)\n",
        "        self.conv2 = nn.LazyConv2d(num_channels, kernel_size=3, padding=1)\n",
        "        if use_1x1conv:\n",
        "            self.conv3 = nn.LazyConv2d(num_channels, kernel_size=1,\n",
        "                                       stride=strides)\n",
        "        else:\n",
        "            self.conv3 = None\n",
        "        self.bn1 = nn.LazyBatchNorm2d()\n",
        "        self.bn2 = nn.LazyBatchNorm2d()\n",
        "\n",
        "    def forward(self, X):\n",
        "        Y = F.relu(self.bn1(self.conv1(X)))\n",
        "        Y = self.bn2(self.conv2(Y))\n",
        "        if self.conv3:\n",
        "            X = self.conv3(X)\n",
        "        Y += X\n",
        "        return F.relu(Y)"
      ],
      "metadata": {
        "id": "0yXSsasE-Dpx"
      },
      "execution_count": 47,
      "outputs": []
    },
    {
      "cell_type": "code",
      "source": [
        "blk = Residual(3)\n",
        "X = torch.randn(4, 3, 6, 6)\n",
        "blk(X).shape"
      ],
      "metadata": {
        "id": "YTrKyX7N-E45",
        "colab": {
          "base_uri": "https://localhost:8080/"
        },
        "outputId": "f092b2a9-8175-46f4-c2a7-664e5cf37095"
      },
      "execution_count": 48,
      "outputs": [
        {
          "output_type": "execute_result",
          "data": {
            "text/plain": [
              "torch.Size([4, 3, 6, 6])"
            ]
          },
          "metadata": {},
          "execution_count": 48
        }
      ]
    },
    {
      "cell_type": "code",
      "source": [
        "blk = Residual(6, use_1x1conv=True, strides=2)\n",
        "blk(X).shape"
      ],
      "metadata": {
        "id": "Zyon6yvp-Hxl",
        "colab": {
          "base_uri": "https://localhost:8080/"
        },
        "outputId": "9beb9a4d-9ff0-442a-a363-58f0e63f62b5"
      },
      "execution_count": 49,
      "outputs": [
        {
          "output_type": "execute_result",
          "data": {
            "text/plain": [
              "torch.Size([4, 6, 3, 3])"
            ]
          },
          "metadata": {},
          "execution_count": 49
        }
      ]
    },
    {
      "cell_type": "markdown",
      "source": [
        "### 8.6.3. ResNet Model\n",
        "\n",
        "* 초기 : 64개의 출력 채널, 7x7 컨볼루션 레이어, stride 2. 이어 stride 2의 max-pooling 레이어. 각 컨볼루션 레이어 뒤에 배치 정규화 레이어\n"
      ],
      "metadata": {
        "id": "9z762XPQ-JFP"
      }
    },
    {
      "cell_type": "code",
      "source": [
        "class ResNet(d2l.Classifier):\n",
        "    def b1(self):\n",
        "        return nn.Sequential(\n",
        "            nn.LazyConv2d(64, kernel_size=7, stride=2, padding=3),\n",
        "            nn.LazyBatchNorm2d(), nn.ReLU(),\n",
        "            nn.MaxPool2d(kernel_size=3, stride=2, padding=1))"
      ],
      "metadata": {
        "id": "X8CU6IJ1-KKP"
      },
      "execution_count": 50,
      "outputs": []
    },
    {
      "cell_type": "code",
      "source": [
        "@d2l.add_to_class(ResNet)\n",
        "def block(self, num_residuals, num_channels, first_block=False):\n",
        "    blk = []\n",
        "    for i in range(num_residuals):\n",
        "        if i == 0 and not first_block:\n",
        "            blk.append(Residual(num_channels, use_1x1conv=True, strides=2))\n",
        "        else:\n",
        "            blk.append(Residual(num_channels))\n",
        "    return nn.Sequential(*blk)"
      ],
      "metadata": {
        "id": "LPaXK-qI-MF2"
      },
      "execution_count": 51,
      "outputs": []
    },
    {
      "cell_type": "markdown",
      "source": [
        "모든 모듈이 ResNet에 추가. 각각의 모듈은 두 개의 잔차 블록을 사용하며, 마지막에 global average pooling 레이어와 완전 연결 레이어가 추가됨"
      ],
      "metadata": {
        "id": "Se9AV2iu-XqL"
      }
    },
    {
      "cell_type": "code",
      "source": [
        "@d2l.add_to_class(ResNet)\n",
        "def __init__(self, arch, lr=0.1, num_classes=10):\n",
        "    super(ResNet, self).__init__()\n",
        "    self.save_hyperparameters()\n",
        "    self.net = nn.Sequential(self.b1())\n",
        "    for i, b in enumerate(arch):\n",
        "        self.net.add_module(f'b{i+2}', self.block(*b, first_block=(i==0)))\n",
        "    self.net.add_module('last', nn.Sequential(\n",
        "        nn.AdaptiveAvgPool2d((1, 1)), nn.Flatten(),\n",
        "        nn.LazyLinear(num_classes)))\n",
        "    self.net.apply(d2l.init_cnn)"
      ],
      "metadata": {
        "id": "UKIukRCu-NDB"
      },
      "execution_count": 52,
      "outputs": []
    },
    {
      "cell_type": "markdown",
      "source": [
        "각 모듈에 네 개의 컨볼루션 레이어, 첫 번째 컨볼루션 레이어와 최종 완전 연결 레이어를 포함하면 총 18개의 레이어로 구성되어 있는 ResNet-18"
      ],
      "metadata": {
        "id": "w60N7_au-gJ2"
      }
    },
    {
      "cell_type": "code",
      "source": [
        "class ResNet18(ResNet):\n",
        "    def __init__(self, lr=0.1, num_classes=10):\n",
        "        super().__init__(((2, 64), (2, 128), (2, 256), (2, 512)),\n",
        "                       lr, num_classes)\n",
        "\n",
        "ResNet18().layer_summary((1, 1, 96, 96))"
      ],
      "metadata": {
        "id": "4-BaIWlH-OJN",
        "colab": {
          "base_uri": "https://localhost:8080/"
        },
        "outputId": "9cc0fdaf-22c3-4624-ffa4-865e90e9cdcd"
      },
      "execution_count": 53,
      "outputs": [
        {
          "output_type": "stream",
          "name": "stdout",
          "text": [
            "Sequential output shape:\t torch.Size([1, 64, 24, 24])\n",
            "Sequential output shape:\t torch.Size([1, 64, 24, 24])\n",
            "Sequential output shape:\t torch.Size([1, 128, 12, 12])\n",
            "Sequential output shape:\t torch.Size([1, 256, 6, 6])\n",
            "Sequential output shape:\t torch.Size([1, 512, 3, 3])\n",
            "Sequential output shape:\t torch.Size([1, 10])\n"
          ]
        }
      ]
    },
    {
      "cell_type": "markdown",
      "source": [
        "### 8.6.4. Training"
      ],
      "metadata": {
        "id": "fyRvNbwL-PX2"
      }
    },
    {
      "cell_type": "code",
      "source": [
        "model = ResNet18(lr=0.01)\n",
        "trainer = d2l.Trainer(max_epochs=10, num_gpus=1)\n",
        "data = d2l.FashionMNIST(batch_size=128, resize=(96, 96))\n",
        "model.apply_init([next(iter(data.get_dataloader(True)))[0]], d2l.init_cnn)\n",
        "trainer.fit(model, data)"
      ],
      "metadata": {
        "id": "3A7yrCDl-RQ8",
        "colab": {
          "base_uri": "https://localhost:8080/",
          "height": 265
        },
        "outputId": "c847c6fd-6c31-42b7-bff8-4756df6e66a4"
      },
      "execution_count": 54,
      "outputs": [
        {
          "output_type": "display_data",
          "data": {
            "text/plain": [
              "<Figure size 350x250 with 1 Axes>"
            ],
            "image/svg+xml": "<?xml version=\"1.0\" encoding=\"utf-8\" standalone=\"no\"?>\n<!DOCTYPE svg PUBLIC \"-//W3C//DTD SVG 1.1//EN\"\n  \"http://www.w3.org/Graphics/SVG/1.1/DTD/svg11.dtd\">\n<svg xmlns:xlink=\"http://www.w3.org/1999/xlink\" width=\"238.965625pt\" height=\"183.35625pt\" viewBox=\"0 0 238.965625 183.35625\" xmlns=\"http://www.w3.org/2000/svg\" version=\"1.1\">\n <metadata>\n  <rdf:RDF xmlns:dc=\"http://purl.org/dc/elements/1.1/\" xmlns:cc=\"http://creativecommons.org/ns#\" xmlns:rdf=\"http://www.w3.org/1999/02/22-rdf-syntax-ns#\">\n   <cc:Work>\n    <dc:type rdf:resource=\"http://purl.org/dc/dcmitype/StillImage\"/>\n    <dc:date>2024-10-10T10:08:56.441480</dc:date>\n    <dc:format>image/svg+xml</dc:format>\n    <dc:creator>\n     <cc:Agent>\n      <dc:title>Matplotlib v3.7.2, https://matplotlib.org/</dc:title>\n     </cc:Agent>\n    </dc:creator>\n   </cc:Work>\n  </rdf:RDF>\n </metadata>\n <defs>\n  <style type=\"text/css\">*{stroke-linejoin: round; stroke-linecap: butt}</style>\n </defs>\n <g id=\"figure_1\">\n  <g id=\"patch_1\">\n   <path d=\"M 0 183.35625 \nL 238.965625 183.35625 \nL 238.965625 0 \nL 0 0 \nz\n\" style=\"fill: #ffffff\"/>\n  </g>\n  <g id=\"axes_1\">\n   <g id=\"patch_2\">\n    <path d=\"M 30.103125 145.8 \nL 225.403125 145.8 \nL 225.403125 7.2 \nL 30.103125 7.2 \nz\n\" style=\"fill: #ffffff\"/>\n   </g>\n   <g id=\"matplotlib.axis_1\">\n    <g id=\"xtick_1\">\n     <g id=\"line2d_1\">\n      <defs>\n       <path id=\"m1c483c5603\" d=\"M 0 0 \nL 0 3.5 \n\" style=\"stroke: #000000; stroke-width: 0.8\"/>\n      </defs>\n      <g>\n       <use xlink:href=\"#m1c483c5603\" x=\"30.103125\" y=\"145.8\" style=\"stroke: #000000; stroke-width: 0.8\"/>\n      </g>\n     </g>\n     <g id=\"text_1\">\n      <!-- 0 -->\n      <g transform=\"translate(26.921875 160.398438) scale(0.1 -0.1)\">\n       <defs>\n        <path id=\"DejaVuSans-30\" d=\"M 2034 4250 \nQ 1547 4250 1301 3770 \nQ 1056 3291 1056 2328 \nQ 1056 1369 1301 889 \nQ 1547 409 2034 409 \nQ 2525 409 2770 889 \nQ 3016 1369 3016 2328 \nQ 3016 3291 2770 3770 \nQ 2525 4250 2034 4250 \nz\nM 2034 4750 \nQ 2819 4750 3233 4129 \nQ 3647 3509 3647 2328 \nQ 3647 1150 3233 529 \nQ 2819 -91 2034 -91 \nQ 1250 -91 836 529 \nQ 422 1150 422 2328 \nQ 422 3509 836 4129 \nQ 1250 4750 2034 4750 \nz\n\" transform=\"scale(0.015625)\"/>\n       </defs>\n       <use xlink:href=\"#DejaVuSans-30\"/>\n      </g>\n     </g>\n    </g>\n    <g id=\"xtick_2\">\n     <g id=\"line2d_2\">\n      <g>\n       <use xlink:href=\"#m1c483c5603\" x=\"69.163125\" y=\"145.8\" style=\"stroke: #000000; stroke-width: 0.8\"/>\n      </g>\n     </g>\n     <g id=\"text_2\">\n      <!-- 2 -->\n      <g transform=\"translate(65.981875 160.398438) scale(0.1 -0.1)\">\n       <defs>\n        <path id=\"DejaVuSans-32\" d=\"M 1228 531 \nL 3431 531 \nL 3431 0 \nL 469 0 \nL 469 531 \nQ 828 903 1448 1529 \nQ 2069 2156 2228 2338 \nQ 2531 2678 2651 2914 \nQ 2772 3150 2772 3378 \nQ 2772 3750 2511 3984 \nQ 2250 4219 1831 4219 \nQ 1534 4219 1204 4116 \nQ 875 4013 500 3803 \nL 500 4441 \nQ 881 4594 1212 4672 \nQ 1544 4750 1819 4750 \nQ 2544 4750 2975 4387 \nQ 3406 4025 3406 3419 \nQ 3406 3131 3298 2873 \nQ 3191 2616 2906 2266 \nQ 2828 2175 2409 1742 \nQ 1991 1309 1228 531 \nz\n\" transform=\"scale(0.015625)\"/>\n       </defs>\n       <use xlink:href=\"#DejaVuSans-32\"/>\n      </g>\n     </g>\n    </g>\n    <g id=\"xtick_3\">\n     <g id=\"line2d_3\">\n      <g>\n       <use xlink:href=\"#m1c483c5603\" x=\"108.223125\" y=\"145.8\" style=\"stroke: #000000; stroke-width: 0.8\"/>\n      </g>\n     </g>\n     <g id=\"text_3\">\n      <!-- 4 -->\n      <g transform=\"translate(105.041875 160.398438) scale(0.1 -0.1)\">\n       <defs>\n        <path id=\"DejaVuSans-34\" d=\"M 2419 4116 \nL 825 1625 \nL 2419 1625 \nL 2419 4116 \nz\nM 2253 4666 \nL 3047 4666 \nL 3047 1625 \nL 3713 1625 \nL 3713 1100 \nL 3047 1100 \nL 3047 0 \nL 2419 0 \nL 2419 1100 \nL 313 1100 \nL 313 1709 \nL 2253 4666 \nz\n\" transform=\"scale(0.015625)\"/>\n       </defs>\n       <use xlink:href=\"#DejaVuSans-34\"/>\n      </g>\n     </g>\n    </g>\n    <g id=\"xtick_4\">\n     <g id=\"line2d_4\">\n      <g>\n       <use xlink:href=\"#m1c483c5603\" x=\"147.283125\" y=\"145.8\" style=\"stroke: #000000; stroke-width: 0.8\"/>\n      </g>\n     </g>\n     <g id=\"text_4\">\n      <!-- 6 -->\n      <g transform=\"translate(144.101875 160.398438) scale(0.1 -0.1)\">\n       <defs>\n        <path id=\"DejaVuSans-36\" d=\"M 2113 2584 \nQ 1688 2584 1439 2293 \nQ 1191 2003 1191 1497 \nQ 1191 994 1439 701 \nQ 1688 409 2113 409 \nQ 2538 409 2786 701 \nQ 3034 994 3034 1497 \nQ 3034 2003 2786 2293 \nQ 2538 2584 2113 2584 \nz\nM 3366 4563 \nL 3366 3988 \nQ 3128 4100 2886 4159 \nQ 2644 4219 2406 4219 \nQ 1781 4219 1451 3797 \nQ 1122 3375 1075 2522 \nQ 1259 2794 1537 2939 \nQ 1816 3084 2150 3084 \nQ 2853 3084 3261 2657 \nQ 3669 2231 3669 1497 \nQ 3669 778 3244 343 \nQ 2819 -91 2113 -91 \nQ 1303 -91 875 529 \nQ 447 1150 447 2328 \nQ 447 3434 972 4092 \nQ 1497 4750 2381 4750 \nQ 2619 4750 2861 4703 \nQ 3103 4656 3366 4563 \nz\n\" transform=\"scale(0.015625)\"/>\n       </defs>\n       <use xlink:href=\"#DejaVuSans-36\"/>\n      </g>\n     </g>\n    </g>\n    <g id=\"xtick_5\">\n     <g id=\"line2d_5\">\n      <g>\n       <use xlink:href=\"#m1c483c5603\" x=\"186.343125\" y=\"145.8\" style=\"stroke: #000000; stroke-width: 0.8\"/>\n      </g>\n     </g>\n     <g id=\"text_5\">\n      <!-- 8 -->\n      <g transform=\"translate(183.161875 160.398438) scale(0.1 -0.1)\">\n       <defs>\n        <path id=\"DejaVuSans-38\" d=\"M 2034 2216 \nQ 1584 2216 1326 1975 \nQ 1069 1734 1069 1313 \nQ 1069 891 1326 650 \nQ 1584 409 2034 409 \nQ 2484 409 2743 651 \nQ 3003 894 3003 1313 \nQ 3003 1734 2745 1975 \nQ 2488 2216 2034 2216 \nz\nM 1403 2484 \nQ 997 2584 770 2862 \nQ 544 3141 544 3541 \nQ 544 4100 942 4425 \nQ 1341 4750 2034 4750 \nQ 2731 4750 3128 4425 \nQ 3525 4100 3525 3541 \nQ 3525 3141 3298 2862 \nQ 3072 2584 2669 2484 \nQ 3125 2378 3379 2068 \nQ 3634 1759 3634 1313 \nQ 3634 634 3220 271 \nQ 2806 -91 2034 -91 \nQ 1263 -91 848 271 \nQ 434 634 434 1313 \nQ 434 1759 690 2068 \nQ 947 2378 1403 2484 \nz\nM 1172 3481 \nQ 1172 3119 1398 2916 \nQ 1625 2713 2034 2713 \nQ 2441 2713 2670 2916 \nQ 2900 3119 2900 3481 \nQ 2900 3844 2670 4047 \nQ 2441 4250 2034 4250 \nQ 1625 4250 1398 4047 \nQ 1172 3844 1172 3481 \nz\n\" transform=\"scale(0.015625)\"/>\n       </defs>\n       <use xlink:href=\"#DejaVuSans-38\"/>\n      </g>\n     </g>\n    </g>\n    <g id=\"xtick_6\">\n     <g id=\"line2d_6\">\n      <g>\n       <use xlink:href=\"#m1c483c5603\" x=\"225.403125\" y=\"145.8\" style=\"stroke: #000000; stroke-width: 0.8\"/>\n      </g>\n     </g>\n     <g id=\"text_6\">\n      <!-- 10 -->\n      <g transform=\"translate(219.040625 160.398438) scale(0.1 -0.1)\">\n       <defs>\n        <path id=\"DejaVuSans-31\" d=\"M 794 531 \nL 1825 531 \nL 1825 4091 \nL 703 3866 \nL 703 4441 \nL 1819 4666 \nL 2450 4666 \nL 2450 531 \nL 3481 531 \nL 3481 0 \nL 794 0 \nL 794 531 \nz\n\" transform=\"scale(0.015625)\"/>\n       </defs>\n       <use xlink:href=\"#DejaVuSans-31\"/>\n       <use xlink:href=\"#DejaVuSans-30\" x=\"63.623047\"/>\n      </g>\n     </g>\n    </g>\n    <g id=\"text_7\">\n     <!-- epoch -->\n     <g transform=\"translate(112.525 174.076563) scale(0.1 -0.1)\">\n      <defs>\n       <path id=\"DejaVuSans-65\" d=\"M 3597 1894 \nL 3597 1613 \nL 953 1613 \nQ 991 1019 1311 708 \nQ 1631 397 2203 397 \nQ 2534 397 2845 478 \nQ 3156 559 3463 722 \nL 3463 178 \nQ 3153 47 2828 -22 \nQ 2503 -91 2169 -91 \nQ 1331 -91 842 396 \nQ 353 884 353 1716 \nQ 353 2575 817 3079 \nQ 1281 3584 2069 3584 \nQ 2775 3584 3186 3129 \nQ 3597 2675 3597 1894 \nz\nM 3022 2063 \nQ 3016 2534 2758 2815 \nQ 2500 3097 2075 3097 \nQ 1594 3097 1305 2825 \nQ 1016 2553 972 2059 \nL 3022 2063 \nz\n\" transform=\"scale(0.015625)\"/>\n       <path id=\"DejaVuSans-70\" d=\"M 1159 525 \nL 1159 -1331 \nL 581 -1331 \nL 581 3500 \nL 1159 3500 \nL 1159 2969 \nQ 1341 3281 1617 3432 \nQ 1894 3584 2278 3584 \nQ 2916 3584 3314 3078 \nQ 3713 2572 3713 1747 \nQ 3713 922 3314 415 \nQ 2916 -91 2278 -91 \nQ 1894 -91 1617 61 \nQ 1341 213 1159 525 \nz\nM 3116 1747 \nQ 3116 2381 2855 2742 \nQ 2594 3103 2138 3103 \nQ 1681 3103 1420 2742 \nQ 1159 2381 1159 1747 \nQ 1159 1113 1420 752 \nQ 1681 391 2138 391 \nQ 2594 391 2855 752 \nQ 3116 1113 3116 1747 \nz\n\" transform=\"scale(0.015625)\"/>\n       <path id=\"DejaVuSans-6f\" d=\"M 1959 3097 \nQ 1497 3097 1228 2736 \nQ 959 2375 959 1747 \nQ 959 1119 1226 758 \nQ 1494 397 1959 397 \nQ 2419 397 2687 759 \nQ 2956 1122 2956 1747 \nQ 2956 2369 2687 2733 \nQ 2419 3097 1959 3097 \nz\nM 1959 3584 \nQ 2709 3584 3137 3096 \nQ 3566 2609 3566 1747 \nQ 3566 888 3137 398 \nQ 2709 -91 1959 -91 \nQ 1206 -91 779 398 \nQ 353 888 353 1747 \nQ 353 2609 779 3096 \nQ 1206 3584 1959 3584 \nz\n\" transform=\"scale(0.015625)\"/>\n       <path id=\"DejaVuSans-63\" d=\"M 3122 3366 \nL 3122 2828 \nQ 2878 2963 2633 3030 \nQ 2388 3097 2138 3097 \nQ 1578 3097 1268 2742 \nQ 959 2388 959 1747 \nQ 959 1106 1268 751 \nQ 1578 397 2138 397 \nQ 2388 397 2633 464 \nQ 2878 531 3122 666 \nL 3122 134 \nQ 2881 22 2623 -34 \nQ 2366 -91 2075 -91 \nQ 1284 -91 818 406 \nQ 353 903 353 1747 \nQ 353 2603 823 3093 \nQ 1294 3584 2113 3584 \nQ 2378 3584 2631 3529 \nQ 2884 3475 3122 3366 \nz\n\" transform=\"scale(0.015625)\"/>\n       <path id=\"DejaVuSans-68\" d=\"M 3513 2113 \nL 3513 0 \nL 2938 0 \nL 2938 2094 \nQ 2938 2591 2744 2837 \nQ 2550 3084 2163 3084 \nQ 1697 3084 1428 2787 \nQ 1159 2491 1159 1978 \nL 1159 0 \nL 581 0 \nL 581 4863 \nL 1159 4863 \nL 1159 2956 \nQ 1366 3272 1645 3428 \nQ 1925 3584 2291 3584 \nQ 2894 3584 3203 3211 \nQ 3513 2838 3513 2113 \nz\n\" transform=\"scale(0.015625)\"/>\n      </defs>\n      <use xlink:href=\"#DejaVuSans-65\"/>\n      <use xlink:href=\"#DejaVuSans-70\" x=\"61.523438\"/>\n      <use xlink:href=\"#DejaVuSans-6f\" x=\"125\"/>\n      <use xlink:href=\"#DejaVuSans-63\" x=\"186.181641\"/>\n      <use xlink:href=\"#DejaVuSans-68\" x=\"241.162109\"/>\n     </g>\n    </g>\n   </g>\n   <g id=\"matplotlib.axis_2\">\n    <g id=\"ytick_1\">\n     <g id=\"line2d_7\">\n      <defs>\n       <path id=\"mb0993d4d6c\" d=\"M 0 0 \nL -3.5 0 \n\" style=\"stroke: #000000; stroke-width: 0.8\"/>\n      </defs>\n      <g>\n       <use xlink:href=\"#mb0993d4d6c\" x=\"30.103125\" y=\"142.837195\" style=\"stroke: #000000; stroke-width: 0.8\"/>\n      </g>\n     </g>\n     <g id=\"text_8\">\n      <!-- 0.0 -->\n      <g transform=\"translate(7.2 146.636414) scale(0.1 -0.1)\">\n       <defs>\n        <path id=\"DejaVuSans-2e\" d=\"M 684 794 \nL 1344 794 \nL 1344 0 \nL 684 0 \nL 684 794 \nz\n\" transform=\"scale(0.015625)\"/>\n       </defs>\n       <use xlink:href=\"#DejaVuSans-30\"/>\n       <use xlink:href=\"#DejaVuSans-2e\" x=\"63.623047\"/>\n       <use xlink:href=\"#DejaVuSans-30\" x=\"95.410156\"/>\n      </g>\n     </g>\n    </g>\n    <g id=\"ytick_2\">\n     <g id=\"line2d_8\">\n      <g>\n       <use xlink:href=\"#mb0993d4d6c\" x=\"30.103125\" y=\"114.399324\" style=\"stroke: #000000; stroke-width: 0.8\"/>\n      </g>\n     </g>\n     <g id=\"text_9\">\n      <!-- 0.2 -->\n      <g transform=\"translate(7.2 118.198542) scale(0.1 -0.1)\">\n       <use xlink:href=\"#DejaVuSans-30\"/>\n       <use xlink:href=\"#DejaVuSans-2e\" x=\"63.623047\"/>\n       <use xlink:href=\"#DejaVuSans-32\" x=\"95.410156\"/>\n      </g>\n     </g>\n    </g>\n    <g id=\"ytick_3\">\n     <g id=\"line2d_9\">\n      <g>\n       <use xlink:href=\"#mb0993d4d6c\" x=\"30.103125\" y=\"85.961452\" style=\"stroke: #000000; stroke-width: 0.8\"/>\n      </g>\n     </g>\n     <g id=\"text_10\">\n      <!-- 0.4 -->\n      <g transform=\"translate(7.2 89.760671) scale(0.1 -0.1)\">\n       <use xlink:href=\"#DejaVuSans-30\"/>\n       <use xlink:href=\"#DejaVuSans-2e\" x=\"63.623047\"/>\n       <use xlink:href=\"#DejaVuSans-34\" x=\"95.410156\"/>\n      </g>\n     </g>\n    </g>\n    <g id=\"ytick_4\">\n     <g id=\"line2d_10\">\n      <g>\n       <use xlink:href=\"#mb0993d4d6c\" x=\"30.103125\" y=\"57.52358\" style=\"stroke: #000000; stroke-width: 0.8\"/>\n      </g>\n     </g>\n     <g id=\"text_11\">\n      <!-- 0.6 -->\n      <g transform=\"translate(7.2 61.322799) scale(0.1 -0.1)\">\n       <use xlink:href=\"#DejaVuSans-30\"/>\n       <use xlink:href=\"#DejaVuSans-2e\" x=\"63.623047\"/>\n       <use xlink:href=\"#DejaVuSans-36\" x=\"95.410156\"/>\n      </g>\n     </g>\n    </g>\n    <g id=\"ytick_5\">\n     <g id=\"line2d_11\">\n      <g>\n       <use xlink:href=\"#mb0993d4d6c\" x=\"30.103125\" y=\"29.085709\" style=\"stroke: #000000; stroke-width: 0.8\"/>\n      </g>\n     </g>\n     <g id=\"text_12\">\n      <!-- 0.8 -->\n      <g transform=\"translate(7.2 32.884927) scale(0.1 -0.1)\">\n       <use xlink:href=\"#DejaVuSans-30\"/>\n       <use xlink:href=\"#DejaVuSans-2e\" x=\"63.623047\"/>\n       <use xlink:href=\"#DejaVuSans-38\" x=\"95.410156\"/>\n      </g>\n     </g>\n    </g>\n   </g>\n   <g id=\"line2d_12\">\n    <path d=\"M 34.954394 65.516869 \n\" clip-path=\"url(#pa0475193fd)\" style=\"fill: none; stroke: #1f77b4; stroke-width: 1.5; stroke-linecap: square\"/>\n   </g>\n   <g id=\"line2d_13\">\n    <path d=\"M 34.954394 65.516869 \nL 44.698573 93.711039 \n\" clip-path=\"url(#pa0475193fd)\" style=\"fill: none; stroke: #1f77b4; stroke-width: 1.5; stroke-linecap: square\"/>\n   </g>\n   <g id=\"line2d_14\">\n    <path d=\"M 34.954394 65.516869 \nL 44.698573 93.711039 \n\" clip-path=\"url(#pa0475193fd)\" style=\"fill: none; stroke: #1f77b4; stroke-width: 1.5; stroke-linecap: square\"/>\n   </g>\n   <g id=\"line2d_15\">\n    <path d=\"M 49.633125 93.76599 \n\" clip-path=\"url(#pa0475193fd)\" style=\"fill: none; stroke-dasharray: 5.55,2.4; stroke-dashoffset: 0; stroke: #ff7f0e; stroke-width: 1.5\"/>\n   </g>\n   <g id=\"line2d_16\"/>\n   <g id=\"line2d_17\">\n    <path d=\"M 34.954394 65.516869 \nL 44.698573 93.711039 \n\" clip-path=\"url(#pa0475193fd)\" style=\"fill: none; stroke: #1f77b4; stroke-width: 1.5; stroke-linecap: square\"/>\n   </g>\n   <g id=\"line2d_18\">\n    <path d=\"M 49.633125 93.76599 \n\" clip-path=\"url(#pa0475193fd)\" style=\"fill: none; stroke-dasharray: 5.55,2.4; stroke-dashoffset: 0; stroke: #ff7f0e; stroke-width: 1.5\"/>\n   </g>\n   <g id=\"line2d_19\">\n    <path d=\"M 49.633125 18.998026 \n\" clip-path=\"url(#pa0475193fd)\" style=\"fill: none; stroke-dasharray: 9.6,2.4,1.5,2.4; stroke-dashoffset: 0; stroke: #2ca02c; stroke-width: 1.5\"/>\n   </g>\n   <g id=\"line2d_20\">\n    <path d=\"M 34.954394 65.516869 \nL 44.698573 93.711039 \nL 54.442752 104.318322 \n\" clip-path=\"url(#pa0475193fd)\" style=\"fill: none; stroke: #1f77b4; stroke-width: 1.5; stroke-linecap: square\"/>\n   </g>\n   <g id=\"line2d_21\">\n    <path d=\"M 49.633125 93.76599 \n\" clip-path=\"url(#pa0475193fd)\" style=\"fill: none; stroke-dasharray: 5.55,2.4; stroke-dashoffset: 0; stroke: #ff7f0e; stroke-width: 1.5\"/>\n   </g>\n   <g id=\"line2d_22\">\n    <path d=\"M 49.633125 18.998026 \n\" clip-path=\"url(#pa0475193fd)\" style=\"fill: none; stroke-dasharray: 9.6,2.4,1.5,2.4; stroke-dashoffset: 0; stroke: #2ca02c; stroke-width: 1.5\"/>\n   </g>\n   <g id=\"line2d_23\">\n    <path d=\"M 34.954394 65.516869 \nL 44.698573 93.711039 \nL 54.442752 104.318322 \nL 64.186931 105.306941 \n\" clip-path=\"url(#pa0475193fd)\" style=\"fill: none; stroke: #1f77b4; stroke-width: 1.5; stroke-linecap: square\"/>\n   </g>\n   <g id=\"line2d_24\">\n    <path d=\"M 49.633125 93.76599 \n\" clip-path=\"url(#pa0475193fd)\" style=\"fill: none; stroke-dasharray: 5.55,2.4; stroke-dashoffset: 0; stroke: #ff7f0e; stroke-width: 1.5\"/>\n   </g>\n   <g id=\"line2d_25\">\n    <path d=\"M 49.633125 18.998026 \n\" clip-path=\"url(#pa0475193fd)\" style=\"fill: none; stroke-dasharray: 9.6,2.4,1.5,2.4; stroke-dashoffset: 0; stroke: #2ca02c; stroke-width: 1.5\"/>\n   </g>\n   <g id=\"line2d_26\">\n    <path d=\"M 34.954394 65.516869 \nL 44.698573 93.711039 \nL 54.442752 104.318322 \nL 64.186931 105.306941 \n\" clip-path=\"url(#pa0475193fd)\" style=\"fill: none; stroke: #1f77b4; stroke-width: 1.5; stroke-linecap: square\"/>\n   </g>\n   <g id=\"line2d_27\">\n    <path d=\"M 49.633125 93.76599 \nL 69.163125 97.191634 \n\" clip-path=\"url(#pa0475193fd)\" style=\"fill: none; stroke-dasharray: 5.55,2.4; stroke-dashoffset: 0; stroke: #ff7f0e; stroke-width: 1.5\"/>\n   </g>\n   <g id=\"line2d_28\">\n    <path d=\"M 49.633125 18.998026 \n\" clip-path=\"url(#pa0475193fd)\" style=\"fill: none; stroke-dasharray: 9.6,2.4,1.5,2.4; stroke-dashoffset: 0; stroke: #2ca02c; stroke-width: 1.5\"/>\n   </g>\n   <g id=\"line2d_29\">\n    <path d=\"M 34.954394 65.516869 \nL 44.698573 93.711039 \nL 54.442752 104.318322 \nL 64.186931 105.306941 \n\" clip-path=\"url(#pa0475193fd)\" style=\"fill: none; stroke: #1f77b4; stroke-width: 1.5; stroke-linecap: square\"/>\n   </g>\n   <g id=\"line2d_30\">\n    <path d=\"M 49.633125 93.76599 \nL 69.163125 97.191634 \n\" clip-path=\"url(#pa0475193fd)\" style=\"fill: none; stroke-dasharray: 5.55,2.4; stroke-dashoffset: 0; stroke: #ff7f0e; stroke-width: 1.5\"/>\n   </g>\n   <g id=\"line2d_31\">\n    <path d=\"M 49.633125 18.998026 \nL 69.163125 17.015362 \n\" clip-path=\"url(#pa0475193fd)\" style=\"fill: none; stroke-dasharray: 9.6,2.4,1.5,2.4; stroke-dashoffset: 0; stroke: #2ca02c; stroke-width: 1.5\"/>\n   </g>\n   <g id=\"line2d_32\">\n    <path d=\"M 34.954394 65.516869 \nL 44.698573 93.711039 \nL 54.442752 104.318322 \nL 64.186931 105.306941 \nL 73.93111 113.182421 \n\" clip-path=\"url(#pa0475193fd)\" style=\"fill: none; stroke: #1f77b4; stroke-width: 1.5; stroke-linecap: square\"/>\n   </g>\n   <g id=\"line2d_33\">\n    <path d=\"M 49.633125 93.76599 \nL 69.163125 97.191634 \n\" clip-path=\"url(#pa0475193fd)\" style=\"fill: none; stroke-dasharray: 5.55,2.4; stroke-dashoffset: 0; stroke: #ff7f0e; stroke-width: 1.5\"/>\n   </g>\n   <g id=\"line2d_34\">\n    <path d=\"M 49.633125 18.998026 \nL 69.163125 17.015362 \n\" clip-path=\"url(#pa0475193fd)\" style=\"fill: none; stroke-dasharray: 9.6,2.4,1.5,2.4; stroke-dashoffset: 0; stroke: #2ca02c; stroke-width: 1.5\"/>\n   </g>\n   <g id=\"line2d_35\">\n    <path d=\"M 34.954394 65.516869 \nL 44.698573 93.711039 \nL 54.442752 104.318322 \nL 64.186931 105.306941 \nL 73.93111 113.182421 \nL 83.675289 112.581481 \n\" clip-path=\"url(#pa0475193fd)\" style=\"fill: none; stroke: #1f77b4; stroke-width: 1.5; stroke-linecap: square\"/>\n   </g>\n   <g id=\"line2d_36\">\n    <path d=\"M 49.633125 93.76599 \nL 69.163125 97.191634 \n\" clip-path=\"url(#pa0475193fd)\" style=\"fill: none; stroke-dasharray: 5.55,2.4; stroke-dashoffset: 0; stroke: #ff7f0e; stroke-width: 1.5\"/>\n   </g>\n   <g id=\"line2d_37\">\n    <path d=\"M 49.633125 18.998026 \nL 69.163125 17.015362 \n\" clip-path=\"url(#pa0475193fd)\" style=\"fill: none; stroke-dasharray: 9.6,2.4,1.5,2.4; stroke-dashoffset: 0; stroke: #2ca02c; stroke-width: 1.5\"/>\n   </g>\n   <g id=\"line2d_38\">\n    <path d=\"M 34.954394 65.516869 \nL 44.698573 93.711039 \nL 54.442752 104.318322 \nL 64.186931 105.306941 \nL 73.93111 113.182421 \nL 83.675289 112.581481 \n\" clip-path=\"url(#pa0475193fd)\" style=\"fill: none; stroke: #1f77b4; stroke-width: 1.5; stroke-linecap: square\"/>\n   </g>\n   <g id=\"line2d_39\">\n    <path d=\"M 49.633125 93.76599 \nL 69.163125 97.191634 \nL 88.693125 106.125186 \n\" clip-path=\"url(#pa0475193fd)\" style=\"fill: none; stroke-dasharray: 5.55,2.4; stroke-dashoffset: 0; stroke: #ff7f0e; stroke-width: 1.5\"/>\n   </g>\n   <g id=\"line2d_40\">\n    <path d=\"M 49.633125 18.998026 \nL 69.163125 17.015362 \n\" clip-path=\"url(#pa0475193fd)\" style=\"fill: none; stroke-dasharray: 9.6,2.4,1.5,2.4; stroke-dashoffset: 0; stroke: #2ca02c; stroke-width: 1.5\"/>\n   </g>\n   <g id=\"line2d_41\">\n    <path d=\"M 34.954394 65.516869 \nL 44.698573 93.711039 \nL 54.442752 104.318322 \nL 64.186931 105.306941 \nL 73.93111 113.182421 \nL 83.675289 112.581481 \n\" clip-path=\"url(#pa0475193fd)\" style=\"fill: none; stroke: #1f77b4; stroke-width: 1.5; stroke-linecap: square\"/>\n   </g>\n   <g id=\"line2d_42\">\n    <path d=\"M 49.633125 93.76599 \nL 69.163125 97.191634 \nL 88.693125 106.125186 \n\" clip-path=\"url(#pa0475193fd)\" style=\"fill: none; stroke-dasharray: 5.55,2.4; stroke-dashoffset: 0; stroke: #ff7f0e; stroke-width: 1.5\"/>\n   </g>\n   <g id=\"line2d_43\">\n    <path d=\"M 49.633125 18.998026 \nL 69.163125 17.015362 \nL 88.693125 13.837475 \n\" clip-path=\"url(#pa0475193fd)\" style=\"fill: none; stroke-dasharray: 9.6,2.4,1.5,2.4; stroke-dashoffset: 0; stroke: #2ca02c; stroke-width: 1.5\"/>\n   </g>\n   <g id=\"line2d_44\">\n    <path d=\"M 34.954394 65.516869 \nL 44.698573 93.711039 \nL 54.442752 104.318322 \nL 64.186931 105.306941 \nL 73.93111 113.182421 \nL 83.675289 112.581481 \nL 93.419468 120.021166 \n\" clip-path=\"url(#pa0475193fd)\" style=\"fill: none; stroke: #1f77b4; stroke-width: 1.5; stroke-linecap: square\"/>\n   </g>\n   <g id=\"line2d_45\">\n    <path d=\"M 49.633125 93.76599 \nL 69.163125 97.191634 \nL 88.693125 106.125186 \n\" clip-path=\"url(#pa0475193fd)\" style=\"fill: none; stroke-dasharray: 5.55,2.4; stroke-dashoffset: 0; stroke: #ff7f0e; stroke-width: 1.5\"/>\n   </g>\n   <g id=\"line2d_46\">\n    <path d=\"M 49.633125 18.998026 \nL 69.163125 17.015362 \nL 88.693125 13.837475 \n\" clip-path=\"url(#pa0475193fd)\" style=\"fill: none; stroke-dasharray: 9.6,2.4,1.5,2.4; stroke-dashoffset: 0; stroke: #2ca02c; stroke-width: 1.5\"/>\n   </g>\n   <g id=\"line2d_47\">\n    <path d=\"M 34.954394 65.516869 \nL 44.698573 93.711039 \nL 54.442752 104.318322 \nL 64.186931 105.306941 \nL 73.93111 113.182421 \nL 83.675289 112.581481 \nL 93.419468 120.021166 \nL 103.163647 118.424619 \n\" clip-path=\"url(#pa0475193fd)\" style=\"fill: none; stroke: #1f77b4; stroke-width: 1.5; stroke-linecap: square\"/>\n   </g>\n   <g id=\"line2d_48\">\n    <path d=\"M 49.633125 93.76599 \nL 69.163125 97.191634 \nL 88.693125 106.125186 \n\" clip-path=\"url(#pa0475193fd)\" style=\"fill: none; stroke-dasharray: 5.55,2.4; stroke-dashoffset: 0; stroke: #ff7f0e; stroke-width: 1.5\"/>\n   </g>\n   <g id=\"line2d_49\">\n    <path d=\"M 49.633125 18.998026 \nL 69.163125 17.015362 \nL 88.693125 13.837475 \n\" clip-path=\"url(#pa0475193fd)\" style=\"fill: none; stroke-dasharray: 9.6,2.4,1.5,2.4; stroke-dashoffset: 0; stroke: #2ca02c; stroke-width: 1.5\"/>\n   </g>\n   <g id=\"line2d_50\">\n    <path d=\"M 34.954394 65.516869 \nL 44.698573 93.711039 \nL 54.442752 104.318322 \nL 64.186931 105.306941 \nL 73.93111 113.182421 \nL 83.675289 112.581481 \nL 93.419468 120.021166 \nL 103.163647 118.424619 \n\" clip-path=\"url(#pa0475193fd)\" style=\"fill: none; stroke: #1f77b4; stroke-width: 1.5; stroke-linecap: square\"/>\n   </g>\n   <g id=\"line2d_51\">\n    <path d=\"M 49.633125 93.76599 \nL 69.163125 97.191634 \nL 88.693125 106.125186 \nL 108.223125 98.009846 \n\" clip-path=\"url(#pa0475193fd)\" style=\"fill: none; stroke-dasharray: 5.55,2.4; stroke-dashoffset: 0; stroke: #ff7f0e; stroke-width: 1.5\"/>\n   </g>\n   <g id=\"line2d_52\">\n    <path d=\"M 49.633125 18.998026 \nL 69.163125 17.015362 \nL 88.693125 13.837475 \n\" clip-path=\"url(#pa0475193fd)\" style=\"fill: none; stroke-dasharray: 9.6,2.4,1.5,2.4; stroke-dashoffset: 0; stroke: #2ca02c; stroke-width: 1.5\"/>\n   </g>\n   <g id=\"line2d_53\">\n    <path d=\"M 34.954394 65.516869 \nL 44.698573 93.711039 \nL 54.442752 104.318322 \nL 64.186931 105.306941 \nL 73.93111 113.182421 \nL 83.675289 112.581481 \nL 93.419468 120.021166 \nL 103.163647 118.424619 \n\" clip-path=\"url(#pa0475193fd)\" style=\"fill: none; stroke: #1f77b4; stroke-width: 1.5; stroke-linecap: square\"/>\n   </g>\n   <g id=\"line2d_54\">\n    <path d=\"M 49.633125 93.76599 \nL 69.163125 97.191634 \nL 88.693125 106.125186 \nL 108.223125 98.009846 \n\" clip-path=\"url(#pa0475193fd)\" style=\"fill: none; stroke-dasharray: 5.55,2.4; stroke-dashoffset: 0; stroke: #ff7f0e; stroke-width: 1.5\"/>\n   </g>\n   <g id=\"line2d_55\">\n    <path d=\"M 49.633125 18.998026 \nL 69.163125 17.015362 \nL 88.693125 13.837475 \nL 108.223125 16.326351 \n\" clip-path=\"url(#pa0475193fd)\" style=\"fill: none; stroke-dasharray: 9.6,2.4,1.5,2.4; stroke-dashoffset: 0; stroke: #2ca02c; stroke-width: 1.5\"/>\n   </g>\n   <g id=\"line2d_56\">\n    <path d=\"M 34.954394 65.516869 \nL 44.698573 93.711039 \nL 54.442752 104.318322 \nL 64.186931 105.306941 \nL 73.93111 113.182421 \nL 83.675289 112.581481 \nL 93.419468 120.021166 \nL 103.163647 118.424619 \nL 112.907826 124.940807 \n\" clip-path=\"url(#pa0475193fd)\" style=\"fill: none; stroke: #1f77b4; stroke-width: 1.5; stroke-linecap: square\"/>\n   </g>\n   <g id=\"line2d_57\">\n    <path d=\"M 49.633125 93.76599 \nL 69.163125 97.191634 \nL 88.693125 106.125186 \nL 108.223125 98.009846 \n\" clip-path=\"url(#pa0475193fd)\" style=\"fill: none; stroke-dasharray: 5.55,2.4; stroke-dashoffset: 0; stroke: #ff7f0e; stroke-width: 1.5\"/>\n   </g>\n   <g id=\"line2d_58\">\n    <path d=\"M 49.633125 18.998026 \nL 69.163125 17.015362 \nL 88.693125 13.837475 \nL 108.223125 16.326351 \n\" clip-path=\"url(#pa0475193fd)\" style=\"fill: none; stroke-dasharray: 9.6,2.4,1.5,2.4; stroke-dashoffset: 0; stroke: #2ca02c; stroke-width: 1.5\"/>\n   </g>\n   <g id=\"line2d_59\">\n    <path d=\"M 34.954394 65.516869 \nL 44.698573 93.711039 \nL 54.442752 104.318322 \nL 64.186931 105.306941 \nL 73.93111 113.182421 \nL 83.675289 112.581481 \nL 93.419468 120.021166 \nL 103.163647 118.424619 \nL 112.907826 124.940807 \nL 122.652006 123.870319 \n\" clip-path=\"url(#pa0475193fd)\" style=\"fill: none; stroke: #1f77b4; stroke-width: 1.5; stroke-linecap: square\"/>\n   </g>\n   <g id=\"line2d_60\">\n    <path d=\"M 49.633125 93.76599 \nL 69.163125 97.191634 \nL 88.693125 106.125186 \nL 108.223125 98.009846 \n\" clip-path=\"url(#pa0475193fd)\" style=\"fill: none; stroke-dasharray: 5.55,2.4; stroke-dashoffset: 0; stroke: #ff7f0e; stroke-width: 1.5\"/>\n   </g>\n   <g id=\"line2d_61\">\n    <path d=\"M 49.633125 18.998026 \nL 69.163125 17.015362 \nL 88.693125 13.837475 \nL 108.223125 16.326351 \n\" clip-path=\"url(#pa0475193fd)\" style=\"fill: none; stroke-dasharray: 9.6,2.4,1.5,2.4; stroke-dashoffset: 0; stroke: #2ca02c; stroke-width: 1.5\"/>\n   </g>\n   <g id=\"line2d_62\">\n    <path d=\"M 34.954394 65.516869 \nL 44.698573 93.711039 \nL 54.442752 104.318322 \nL 64.186931 105.306941 \nL 73.93111 113.182421 \nL 83.675289 112.581481 \nL 93.419468 120.021166 \nL 103.163647 118.424619 \nL 112.907826 124.940807 \nL 122.652006 123.870319 \n\" clip-path=\"url(#pa0475193fd)\" style=\"fill: none; stroke: #1f77b4; stroke-width: 1.5; stroke-linecap: square\"/>\n   </g>\n   <g id=\"line2d_63\">\n    <path d=\"M 49.633125 93.76599 \nL 69.163125 97.191634 \nL 88.693125 106.125186 \nL 108.223125 98.009846 \nL 127.753125 100.874387 \n\" clip-path=\"url(#pa0475193fd)\" style=\"fill: none; stroke-dasharray: 5.55,2.4; stroke-dashoffset: 0; stroke: #ff7f0e; stroke-width: 1.5\"/>\n   </g>\n   <g id=\"line2d_64\">\n    <path d=\"M 49.633125 18.998026 \nL 69.163125 17.015362 \nL 88.693125 13.837475 \nL 108.223125 16.326351 \n\" clip-path=\"url(#pa0475193fd)\" style=\"fill: none; stroke-dasharray: 9.6,2.4,1.5,2.4; stroke-dashoffset: 0; stroke: #2ca02c; stroke-width: 1.5\"/>\n   </g>\n   <g id=\"line2d_65\">\n    <path d=\"M 34.954394 65.516869 \nL 44.698573 93.711039 \nL 54.442752 104.318322 \nL 64.186931 105.306941 \nL 73.93111 113.182421 \nL 83.675289 112.581481 \nL 93.419468 120.021166 \nL 103.163647 118.424619 \nL 112.907826 124.940807 \nL 122.652006 123.870319 \n\" clip-path=\"url(#pa0475193fd)\" style=\"fill: none; stroke: #1f77b4; stroke-width: 1.5; stroke-linecap: square\"/>\n   </g>\n   <g id=\"line2d_66\">\n    <path d=\"M 49.633125 93.76599 \nL 69.163125 97.191634 \nL 88.693125 106.125186 \nL 108.223125 98.009846 \nL 127.753125 100.874387 \n\" clip-path=\"url(#pa0475193fd)\" style=\"fill: none; stroke-dasharray: 5.55,2.4; stroke-dashoffset: 0; stroke: #ff7f0e; stroke-width: 1.5\"/>\n   </g>\n   <g id=\"line2d_67\">\n    <path d=\"M 49.633125 18.998026 \nL 69.163125 17.015362 \nL 88.693125 13.837475 \nL 108.223125 16.326351 \nL 127.753125 15.24362 \n\" clip-path=\"url(#pa0475193fd)\" style=\"fill: none; stroke-dasharray: 9.6,2.4,1.5,2.4; stroke-dashoffset: 0; stroke: #2ca02c; stroke-width: 1.5\"/>\n   </g>\n   <g id=\"line2d_68\">\n    <path d=\"M 34.954394 65.516869 \nL 44.698573 93.711039 \nL 54.442752 104.318322 \nL 64.186931 105.306941 \nL 73.93111 113.182421 \nL 83.675289 112.581481 \nL 93.419468 120.021166 \nL 103.163647 118.424619 \nL 112.907826 124.940807 \nL 122.652006 123.870319 \nL 132.396185 129.535784 \n\" clip-path=\"url(#pa0475193fd)\" style=\"fill: none; stroke: #1f77b4; stroke-width: 1.5; stroke-linecap: square\"/>\n   </g>\n   <g id=\"line2d_69\">\n    <path d=\"M 49.633125 93.76599 \nL 69.163125 97.191634 \nL 88.693125 106.125186 \nL 108.223125 98.009846 \nL 127.753125 100.874387 \n\" clip-path=\"url(#pa0475193fd)\" style=\"fill: none; stroke-dasharray: 5.55,2.4; stroke-dashoffset: 0; stroke: #ff7f0e; stroke-width: 1.5\"/>\n   </g>\n   <g id=\"line2d_70\">\n    <path d=\"M 49.633125 18.998026 \nL 69.163125 17.015362 \nL 88.693125 13.837475 \nL 108.223125 16.326351 \nL 127.753125 15.24362 \n\" clip-path=\"url(#pa0475193fd)\" style=\"fill: none; stroke-dasharray: 9.6,2.4,1.5,2.4; stroke-dashoffset: 0; stroke: #2ca02c; stroke-width: 1.5\"/>\n   </g>\n   <g id=\"line2d_71\">\n    <path d=\"M 34.954394 65.516869 \nL 44.698573 93.711039 \nL 54.442752 104.318322 \nL 64.186931 105.306941 \nL 73.93111 113.182421 \nL 83.675289 112.581481 \nL 93.419468 120.021166 \nL 103.163647 118.424619 \nL 112.907826 124.940807 \nL 122.652006 123.870319 \nL 132.396185 129.535784 \nL 142.140364 127.90349 \n\" clip-path=\"url(#pa0475193fd)\" style=\"fill: none; stroke: #1f77b4; stroke-width: 1.5; stroke-linecap: square\"/>\n   </g>\n   <g id=\"line2d_72\">\n    <path d=\"M 49.633125 93.76599 \nL 69.163125 97.191634 \nL 88.693125 106.125186 \nL 108.223125 98.009846 \nL 127.753125 100.874387 \n\" clip-path=\"url(#pa0475193fd)\" style=\"fill: none; stroke-dasharray: 5.55,2.4; stroke-dashoffset: 0; stroke: #ff7f0e; stroke-width: 1.5\"/>\n   </g>\n   <g id=\"line2d_73\">\n    <path d=\"M 49.633125 18.998026 \nL 69.163125 17.015362 \nL 88.693125 13.837475 \nL 108.223125 16.326351 \nL 127.753125 15.24362 \n\" clip-path=\"url(#pa0475193fd)\" style=\"fill: none; stroke-dasharray: 9.6,2.4,1.5,2.4; stroke-dashoffset: 0; stroke: #2ca02c; stroke-width: 1.5\"/>\n   </g>\n   <g id=\"line2d_74\">\n    <path d=\"M 34.954394 65.516869 \nL 44.698573 93.711039 \nL 54.442752 104.318322 \nL 64.186931 105.306941 \nL 73.93111 113.182421 \nL 83.675289 112.581481 \nL 93.419468 120.021166 \nL 103.163647 118.424619 \nL 112.907826 124.940807 \nL 122.652006 123.870319 \nL 132.396185 129.535784 \nL 142.140364 127.90349 \n\" clip-path=\"url(#pa0475193fd)\" style=\"fill: none; stroke: #1f77b4; stroke-width: 1.5; stroke-linecap: square\"/>\n   </g>\n   <g id=\"line2d_75\">\n    <path d=\"M 49.633125 93.76599 \nL 69.163125 97.191634 \nL 88.693125 106.125186 \nL 108.223125 98.009846 \nL 127.753125 100.874387 \nL 147.283125 93.369765 \n\" clip-path=\"url(#pa0475193fd)\" style=\"fill: none; stroke-dasharray: 5.55,2.4; stroke-dashoffset: 0; stroke: #ff7f0e; stroke-width: 1.5\"/>\n   </g>\n   <g id=\"line2d_76\">\n    <path d=\"M 49.633125 18.998026 \nL 69.163125 17.015362 \nL 88.693125 13.837475 \nL 108.223125 16.326351 \nL 127.753125 15.24362 \n\" clip-path=\"url(#pa0475193fd)\" style=\"fill: none; stroke-dasharray: 9.6,2.4,1.5,2.4; stroke-dashoffset: 0; stroke: #2ca02c; stroke-width: 1.5\"/>\n   </g>\n   <g id=\"line2d_77\">\n    <path d=\"M 34.954394 65.516869 \nL 44.698573 93.711039 \nL 54.442752 104.318322 \nL 64.186931 105.306941 \nL 73.93111 113.182421 \nL 83.675289 112.581481 \nL 93.419468 120.021166 \nL 103.163647 118.424619 \nL 112.907826 124.940807 \nL 122.652006 123.870319 \nL 132.396185 129.535784 \nL 142.140364 127.90349 \n\" clip-path=\"url(#pa0475193fd)\" style=\"fill: none; stroke: #1f77b4; stroke-width: 1.5; stroke-linecap: square\"/>\n   </g>\n   <g id=\"line2d_78\">\n    <path d=\"M 49.633125 93.76599 \nL 69.163125 97.191634 \nL 88.693125 106.125186 \nL 108.223125 98.009846 \nL 127.753125 100.874387 \nL 147.283125 93.369765 \n\" clip-path=\"url(#pa0475193fd)\" style=\"fill: none; stroke-dasharray: 5.55,2.4; stroke-dashoffset: 0; stroke: #ff7f0e; stroke-width: 1.5\"/>\n   </g>\n   <g id=\"line2d_79\">\n    <path d=\"M 49.633125 18.998026 \nL 69.163125 17.015362 \nL 88.693125 13.837475 \nL 108.223125 16.326351 \nL 127.753125 15.24362 \nL 147.283125 17.085669 \n\" clip-path=\"url(#pa0475193fd)\" style=\"fill: none; stroke-dasharray: 9.6,2.4,1.5,2.4; stroke-dashoffset: 0; stroke: #2ca02c; stroke-width: 1.5\"/>\n   </g>\n   <g id=\"line2d_80\">\n    <path d=\"M 34.954394 65.516869 \nL 44.698573 93.711039 \nL 54.442752 104.318322 \nL 64.186931 105.306941 \nL 73.93111 113.182421 \nL 83.675289 112.581481 \nL 93.419468 120.021166 \nL 103.163647 118.424619 \nL 112.907826 124.940807 \nL 122.652006 123.870319 \nL 132.396185 129.535784 \nL 142.140364 127.90349 \nL 151.884543 132.935402 \n\" clip-path=\"url(#pa0475193fd)\" style=\"fill: none; stroke: #1f77b4; stroke-width: 1.5; stroke-linecap: square\"/>\n   </g>\n   <g id=\"line2d_81\">\n    <path d=\"M 49.633125 93.76599 \nL 69.163125 97.191634 \nL 88.693125 106.125186 \nL 108.223125 98.009846 \nL 127.753125 100.874387 \nL 147.283125 93.369765 \n\" clip-path=\"url(#pa0475193fd)\" style=\"fill: none; stroke-dasharray: 5.55,2.4; stroke-dashoffset: 0; stroke: #ff7f0e; stroke-width: 1.5\"/>\n   </g>\n   <g id=\"line2d_82\">\n    <path d=\"M 49.633125 18.998026 \nL 69.163125 17.015362 \nL 88.693125 13.837475 \nL 108.223125 16.326351 \nL 127.753125 15.24362 \nL 147.283125 17.085669 \n\" clip-path=\"url(#pa0475193fd)\" style=\"fill: none; stroke-dasharray: 9.6,2.4,1.5,2.4; stroke-dashoffset: 0; stroke: #2ca02c; stroke-width: 1.5\"/>\n   </g>\n   <g id=\"line2d_83\">\n    <path d=\"M 34.954394 65.516869 \nL 44.698573 93.711039 \nL 54.442752 104.318322 \nL 64.186931 105.306941 \nL 73.93111 113.182421 \nL 83.675289 112.581481 \nL 93.419468 120.021166 \nL 103.163647 118.424619 \nL 112.907826 124.940807 \nL 122.652006 123.870319 \nL 132.396185 129.535784 \nL 142.140364 127.90349 \nL 151.884543 132.935402 \nL 161.628722 131.273576 \n\" clip-path=\"url(#pa0475193fd)\" style=\"fill: none; stroke: #1f77b4; stroke-width: 1.5; stroke-linecap: square\"/>\n   </g>\n   <g id=\"line2d_84\">\n    <path d=\"M 49.633125 93.76599 \nL 69.163125 97.191634 \nL 88.693125 106.125186 \nL 108.223125 98.009846 \nL 127.753125 100.874387 \nL 147.283125 93.369765 \n\" clip-path=\"url(#pa0475193fd)\" style=\"fill: none; stroke-dasharray: 5.55,2.4; stroke-dashoffset: 0; stroke: #ff7f0e; stroke-width: 1.5\"/>\n   </g>\n   <g id=\"line2d_85\">\n    <path d=\"M 49.633125 18.998026 \nL 69.163125 17.015362 \nL 88.693125 13.837475 \nL 108.223125 16.326351 \nL 127.753125 15.24362 \nL 147.283125 17.085669 \n\" clip-path=\"url(#pa0475193fd)\" style=\"fill: none; stroke-dasharray: 9.6,2.4,1.5,2.4; stroke-dashoffset: 0; stroke: #2ca02c; stroke-width: 1.5\"/>\n   </g>\n   <g id=\"line2d_86\">\n    <path d=\"M 34.954394 65.516869 \nL 44.698573 93.711039 \nL 54.442752 104.318322 \nL 64.186931 105.306941 \nL 73.93111 113.182421 \nL 83.675289 112.581481 \nL 93.419468 120.021166 \nL 103.163647 118.424619 \nL 112.907826 124.940807 \nL 122.652006 123.870319 \nL 132.396185 129.535784 \nL 142.140364 127.90349 \nL 151.884543 132.935402 \nL 161.628722 131.273576 \n\" clip-path=\"url(#pa0475193fd)\" style=\"fill: none; stroke: #1f77b4; stroke-width: 1.5; stroke-linecap: square\"/>\n   </g>\n   <g id=\"line2d_87\">\n    <path d=\"M 49.633125 93.76599 \nL 69.163125 97.191634 \nL 88.693125 106.125186 \nL 108.223125 98.009846 \nL 127.753125 100.874387 \nL 147.283125 93.369765 \nL 166.813125 100.946711 \n\" clip-path=\"url(#pa0475193fd)\" style=\"fill: none; stroke-dasharray: 5.55,2.4; stroke-dashoffset: 0; stroke: #ff7f0e; stroke-width: 1.5\"/>\n   </g>\n   <g id=\"line2d_88\">\n    <path d=\"M 49.633125 18.998026 \nL 69.163125 17.015362 \nL 88.693125 13.837475 \nL 108.223125 16.326351 \nL 127.753125 15.24362 \nL 147.283125 17.085669 \n\" clip-path=\"url(#pa0475193fd)\" style=\"fill: none; stroke-dasharray: 9.6,2.4,1.5,2.4; stroke-dashoffset: 0; stroke: #2ca02c; stroke-width: 1.5\"/>\n   </g>\n   <g id=\"line2d_89\">\n    <path d=\"M 34.954394 65.516869 \nL 44.698573 93.711039 \nL 54.442752 104.318322 \nL 64.186931 105.306941 \nL 73.93111 113.182421 \nL 83.675289 112.581481 \nL 93.419468 120.021166 \nL 103.163647 118.424619 \nL 112.907826 124.940807 \nL 122.652006 123.870319 \nL 132.396185 129.535784 \nL 142.140364 127.90349 \nL 151.884543 132.935402 \nL 161.628722 131.273576 \n\" clip-path=\"url(#pa0475193fd)\" style=\"fill: none; stroke: #1f77b4; stroke-width: 1.5; stroke-linecap: square\"/>\n   </g>\n   <g id=\"line2d_90\">\n    <path d=\"M 49.633125 93.76599 \nL 69.163125 97.191634 \nL 88.693125 106.125186 \nL 108.223125 98.009846 \nL 127.753125 100.874387 \nL 147.283125 93.369765 \nL 166.813125 100.946711 \n\" clip-path=\"url(#pa0475193fd)\" style=\"fill: none; stroke-dasharray: 5.55,2.4; stroke-dashoffset: 0; stroke: #ff7f0e; stroke-width: 1.5\"/>\n   </g>\n   <g id=\"line2d_91\">\n    <path d=\"M 49.633125 18.998026 \nL 69.163125 17.015362 \nL 88.693125 13.837475 \nL 108.223125 16.326351 \nL 127.753125 15.24362 \nL 147.283125 17.085669 \nL 166.813125 14.329625 \n\" clip-path=\"url(#pa0475193fd)\" style=\"fill: none; stroke-dasharray: 9.6,2.4,1.5,2.4; stroke-dashoffset: 0; stroke: #2ca02c; stroke-width: 1.5\"/>\n   </g>\n   <g id=\"line2d_92\">\n    <path d=\"M 34.954394 65.516869 \nL 44.698573 93.711039 \nL 54.442752 104.318322 \nL 64.186931 105.306941 \nL 73.93111 113.182421 \nL 83.675289 112.581481 \nL 93.419468 120.021166 \nL 103.163647 118.424619 \nL 112.907826 124.940807 \nL 122.652006 123.870319 \nL 132.396185 129.535784 \nL 142.140364 127.90349 \nL 151.884543 132.935402 \nL 161.628722 131.273576 \nL 171.372901 135.607969 \n\" clip-path=\"url(#pa0475193fd)\" style=\"fill: none; stroke: #1f77b4; stroke-width: 1.5; stroke-linecap: square\"/>\n   </g>\n   <g id=\"line2d_93\">\n    <path d=\"M 49.633125 93.76599 \nL 69.163125 97.191634 \nL 88.693125 106.125186 \nL 108.223125 98.009846 \nL 127.753125 100.874387 \nL 147.283125 93.369765 \nL 166.813125 100.946711 \n\" clip-path=\"url(#pa0475193fd)\" style=\"fill: none; stroke-dasharray: 5.55,2.4; stroke-dashoffset: 0; stroke: #ff7f0e; stroke-width: 1.5\"/>\n   </g>\n   <g id=\"line2d_94\">\n    <path d=\"M 49.633125 18.998026 \nL 69.163125 17.015362 \nL 88.693125 13.837475 \nL 108.223125 16.326351 \nL 127.753125 15.24362 \nL 147.283125 17.085669 \nL 166.813125 14.329625 \n\" clip-path=\"url(#pa0475193fd)\" style=\"fill: none; stroke-dasharray: 9.6,2.4,1.5,2.4; stroke-dashoffset: 0; stroke: #2ca02c; stroke-width: 1.5\"/>\n   </g>\n   <g id=\"line2d_95\">\n    <path d=\"M 34.954394 65.516869 \nL 44.698573 93.711039 \nL 54.442752 104.318322 \nL 64.186931 105.306941 \nL 73.93111 113.182421 \nL 83.675289 112.581481 \nL 93.419468 120.021166 \nL 103.163647 118.424619 \nL 112.907826 124.940807 \nL 122.652006 123.870319 \nL 132.396185 129.535784 \nL 142.140364 127.90349 \nL 151.884543 132.935402 \nL 161.628722 131.273576 \nL 171.372901 135.607969 \nL 181.11708 135.235096 \n\" clip-path=\"url(#pa0475193fd)\" style=\"fill: none; stroke: #1f77b4; stroke-width: 1.5; stroke-linecap: square\"/>\n   </g>\n   <g id=\"line2d_96\">\n    <path d=\"M 49.633125 93.76599 \nL 69.163125 97.191634 \nL 88.693125 106.125186 \nL 108.223125 98.009846 \nL 127.753125 100.874387 \nL 147.283125 93.369765 \nL 166.813125 100.946711 \n\" clip-path=\"url(#pa0475193fd)\" style=\"fill: none; stroke-dasharray: 5.55,2.4; stroke-dashoffset: 0; stroke: #ff7f0e; stroke-width: 1.5\"/>\n   </g>\n   <g id=\"line2d_97\">\n    <path d=\"M 49.633125 18.998026 \nL 69.163125 17.015362 \nL 88.693125 13.837475 \nL 108.223125 16.326351 \nL 127.753125 15.24362 \nL 147.283125 17.085669 \nL 166.813125 14.329625 \n\" clip-path=\"url(#pa0475193fd)\" style=\"fill: none; stroke-dasharray: 9.6,2.4,1.5,2.4; stroke-dashoffset: 0; stroke: #2ca02c; stroke-width: 1.5\"/>\n   </g>\n   <g id=\"line2d_98\">\n    <path d=\"M 34.954394 65.516869 \nL 44.698573 93.711039 \nL 54.442752 104.318322 \nL 64.186931 105.306941 \nL 73.93111 113.182421 \nL 83.675289 112.581481 \nL 93.419468 120.021166 \nL 103.163647 118.424619 \nL 112.907826 124.940807 \nL 122.652006 123.870319 \nL 132.396185 129.535784 \nL 142.140364 127.90349 \nL 151.884543 132.935402 \nL 161.628722 131.273576 \nL 171.372901 135.607969 \nL 181.11708 135.235096 \n\" clip-path=\"url(#pa0475193fd)\" style=\"fill: none; stroke: #1f77b4; stroke-width: 1.5; stroke-linecap: square\"/>\n   </g>\n   <g id=\"line2d_99\">\n    <path d=\"M 49.633125 93.76599 \nL 69.163125 97.191634 \nL 88.693125 106.125186 \nL 108.223125 98.009846 \nL 127.753125 100.874387 \nL 147.283125 93.369765 \nL 166.813125 100.946711 \nL 186.343125 98.066504 \n\" clip-path=\"url(#pa0475193fd)\" style=\"fill: none; stroke-dasharray: 5.55,2.4; stroke-dashoffset: 0; stroke: #ff7f0e; stroke-width: 1.5\"/>\n   </g>\n   <g id=\"line2d_100\">\n    <path d=\"M 49.633125 18.998026 \nL 69.163125 17.015362 \nL 88.693125 13.837475 \nL 108.223125 16.326351 \nL 127.753125 15.24362 \nL 147.283125 17.085669 \nL 166.813125 14.329625 \n\" clip-path=\"url(#pa0475193fd)\" style=\"fill: none; stroke-dasharray: 9.6,2.4,1.5,2.4; stroke-dashoffset: 0; stroke: #2ca02c; stroke-width: 1.5\"/>\n   </g>\n   <g id=\"line2d_101\">\n    <path d=\"M 34.954394 65.516869 \nL 44.698573 93.711039 \nL 54.442752 104.318322 \nL 64.186931 105.306941 \nL 73.93111 113.182421 \nL 83.675289 112.581481 \nL 93.419468 120.021166 \nL 103.163647 118.424619 \nL 112.907826 124.940807 \nL 122.652006 123.870319 \nL 132.396185 129.535784 \nL 142.140364 127.90349 \nL 151.884543 132.935402 \nL 161.628722 131.273576 \nL 171.372901 135.607969 \nL 181.11708 135.235096 \n\" clip-path=\"url(#pa0475193fd)\" style=\"fill: none; stroke: #1f77b4; stroke-width: 1.5; stroke-linecap: square\"/>\n   </g>\n   <g id=\"line2d_102\">\n    <path d=\"M 49.633125 93.76599 \nL 69.163125 97.191634 \nL 88.693125 106.125186 \nL 108.223125 98.009846 \nL 127.753125 100.874387 \nL 147.283125 93.369765 \nL 166.813125 100.946711 \nL 186.343125 98.066504 \n\" clip-path=\"url(#pa0475193fd)\" style=\"fill: none; stroke-dasharray: 5.55,2.4; stroke-dashoffset: 0; stroke: #ff7f0e; stroke-width: 1.5\"/>\n   </g>\n   <g id=\"line2d_103\">\n    <path d=\"M 49.633125 18.998026 \nL 69.163125 17.015362 \nL 88.693125 13.837475 \nL 108.223125 16.326351 \nL 127.753125 15.24362 \nL 147.283125 17.085669 \nL 166.813125 14.329625 \nL 186.343125 13.514061 \n\" clip-path=\"url(#pa0475193fd)\" style=\"fill: none; stroke-dasharray: 9.6,2.4,1.5,2.4; stroke-dashoffset: 0; stroke: #2ca02c; stroke-width: 1.5\"/>\n   </g>\n   <g id=\"line2d_104\">\n    <path d=\"M 34.954394 65.516869 \nL 44.698573 93.711039 \nL 54.442752 104.318322 \nL 64.186931 105.306941 \nL 73.93111 113.182421 \nL 83.675289 112.581481 \nL 93.419468 120.021166 \nL 103.163647 118.424619 \nL 112.907826 124.940807 \nL 122.652006 123.870319 \nL 132.396185 129.535784 \nL 142.140364 127.90349 \nL 151.884543 132.935402 \nL 161.628722 131.273576 \nL 171.372901 135.607969 \nL 181.11708 135.235096 \nL 190.861259 137.804811 \n\" clip-path=\"url(#pa0475193fd)\" style=\"fill: none; stroke: #1f77b4; stroke-width: 1.5; stroke-linecap: square\"/>\n   </g>\n   <g id=\"line2d_105\">\n    <path d=\"M 49.633125 93.76599 \nL 69.163125 97.191634 \nL 88.693125 106.125186 \nL 108.223125 98.009846 \nL 127.753125 100.874387 \nL 147.283125 93.369765 \nL 166.813125 100.946711 \nL 186.343125 98.066504 \n\" clip-path=\"url(#pa0475193fd)\" style=\"fill: none; stroke-dasharray: 5.55,2.4; stroke-dashoffset: 0; stroke: #ff7f0e; stroke-width: 1.5\"/>\n   </g>\n   <g id=\"line2d_106\">\n    <path d=\"M 49.633125 18.998026 \nL 69.163125 17.015362 \nL 88.693125 13.837475 \nL 108.223125 16.326351 \nL 127.753125 15.24362 \nL 147.283125 17.085669 \nL 166.813125 14.329625 \nL 186.343125 13.514061 \n\" clip-path=\"url(#pa0475193fd)\" style=\"fill: none; stroke-dasharray: 9.6,2.4,1.5,2.4; stroke-dashoffset: 0; stroke: #2ca02c; stroke-width: 1.5\"/>\n   </g>\n   <g id=\"line2d_107\">\n    <path d=\"M 34.954394 65.516869 \nL 44.698573 93.711039 \nL 54.442752 104.318322 \nL 64.186931 105.306941 \nL 73.93111 113.182421 \nL 83.675289 112.581481 \nL 93.419468 120.021166 \nL 103.163647 118.424619 \nL 112.907826 124.940807 \nL 122.652006 123.870319 \nL 132.396185 129.535784 \nL 142.140364 127.90349 \nL 151.884543 132.935402 \nL 161.628722 131.273576 \nL 171.372901 135.607969 \nL 181.11708 135.235096 \nL 190.861259 137.804811 \nL 200.605438 137.271838 \n\" clip-path=\"url(#pa0475193fd)\" style=\"fill: none; stroke: #1f77b4; stroke-width: 1.5; stroke-linecap: square\"/>\n   </g>\n   <g id=\"line2d_108\">\n    <path d=\"M 49.633125 93.76599 \nL 69.163125 97.191634 \nL 88.693125 106.125186 \nL 108.223125 98.009846 \nL 127.753125 100.874387 \nL 147.283125 93.369765 \nL 166.813125 100.946711 \nL 186.343125 98.066504 \n\" clip-path=\"url(#pa0475193fd)\" style=\"fill: none; stroke-dasharray: 5.55,2.4; stroke-dashoffset: 0; stroke: #ff7f0e; stroke-width: 1.5\"/>\n   </g>\n   <g id=\"line2d_109\">\n    <path d=\"M 49.633125 18.998026 \nL 69.163125 17.015362 \nL 88.693125 13.837475 \nL 108.223125 16.326351 \nL 127.753125 15.24362 \nL 147.283125 17.085669 \nL 166.813125 14.329625 \nL 186.343125 13.514061 \n\" clip-path=\"url(#pa0475193fd)\" style=\"fill: none; stroke-dasharray: 9.6,2.4,1.5,2.4; stroke-dashoffset: 0; stroke: #2ca02c; stroke-width: 1.5\"/>\n   </g>\n   <g id=\"line2d_110\">\n    <path d=\"M 34.954394 65.516869 \nL 44.698573 93.711039 \nL 54.442752 104.318322 \nL 64.186931 105.306941 \nL 73.93111 113.182421 \nL 83.675289 112.581481 \nL 93.419468 120.021166 \nL 103.163647 118.424619 \nL 112.907826 124.940807 \nL 122.652006 123.870319 \nL 132.396185 129.535784 \nL 142.140364 127.90349 \nL 151.884543 132.935402 \nL 161.628722 131.273576 \nL 171.372901 135.607969 \nL 181.11708 135.235096 \nL 190.861259 137.804811 \nL 200.605438 137.271838 \n\" clip-path=\"url(#pa0475193fd)\" style=\"fill: none; stroke: #1f77b4; stroke-width: 1.5; stroke-linecap: square\"/>\n   </g>\n   <g id=\"line2d_111\">\n    <path d=\"M 49.633125 93.76599 \nL 69.163125 97.191634 \nL 88.693125 106.125186 \nL 108.223125 98.009846 \nL 127.753125 100.874387 \nL 147.283125 93.369765 \nL 166.813125 100.946711 \nL 186.343125 98.066504 \nL 205.873125 98.486241 \n\" clip-path=\"url(#pa0475193fd)\" style=\"fill: none; stroke-dasharray: 5.55,2.4; stroke-dashoffset: 0; stroke: #ff7f0e; stroke-width: 1.5\"/>\n   </g>\n   <g id=\"line2d_112\">\n    <path d=\"M 49.633125 18.998026 \nL 69.163125 17.015362 \nL 88.693125 13.837475 \nL 108.223125 16.326351 \nL 127.753125 15.24362 \nL 147.283125 17.085669 \nL 166.813125 14.329625 \nL 186.343125 13.514061 \n\" clip-path=\"url(#pa0475193fd)\" style=\"fill: none; stroke-dasharray: 9.6,2.4,1.5,2.4; stroke-dashoffset: 0; stroke: #2ca02c; stroke-width: 1.5\"/>\n   </g>\n   <g id=\"line2d_113\">\n    <path d=\"M 34.954394 65.516869 \nL 44.698573 93.711039 \nL 54.442752 104.318322 \nL 64.186931 105.306941 \nL 73.93111 113.182421 \nL 83.675289 112.581481 \nL 93.419468 120.021166 \nL 103.163647 118.424619 \nL 112.907826 124.940807 \nL 122.652006 123.870319 \nL 132.396185 129.535784 \nL 142.140364 127.90349 \nL 151.884543 132.935402 \nL 161.628722 131.273576 \nL 171.372901 135.607969 \nL 181.11708 135.235096 \nL 190.861259 137.804811 \nL 200.605438 137.271838 \n\" clip-path=\"url(#pa0475193fd)\" style=\"fill: none; stroke: #1f77b4; stroke-width: 1.5; stroke-linecap: square\"/>\n   </g>\n   <g id=\"line2d_114\">\n    <path d=\"M 49.633125 93.76599 \nL 69.163125 97.191634 \nL 88.693125 106.125186 \nL 108.223125 98.009846 \nL 127.753125 100.874387 \nL 147.283125 93.369765 \nL 166.813125 100.946711 \nL 186.343125 98.066504 \nL 205.873125 98.486241 \n\" clip-path=\"url(#pa0475193fd)\" style=\"fill: none; stroke-dasharray: 5.55,2.4; stroke-dashoffset: 0; stroke: #ff7f0e; stroke-width: 1.5\"/>\n   </g>\n   <g id=\"line2d_115\">\n    <path d=\"M 49.633125 18.998026 \nL 69.163125 17.015362 \nL 88.693125 13.837475 \nL 108.223125 16.326351 \nL 127.753125 15.24362 \nL 147.283125 17.085669 \nL 166.813125 14.329625 \nL 186.343125 13.514061 \nL 205.873125 13.59843 \n\" clip-path=\"url(#pa0475193fd)\" style=\"fill: none; stroke-dasharray: 9.6,2.4,1.5,2.4; stroke-dashoffset: 0; stroke: #2ca02c; stroke-width: 1.5\"/>\n   </g>\n   <g id=\"line2d_116\">\n    <path d=\"M 34.954394 65.516869 \nL 44.698573 93.711039 \nL 54.442752 104.318322 \nL 64.186931 105.306941 \nL 73.93111 113.182421 \nL 83.675289 112.581481 \nL 93.419468 120.021166 \nL 103.163647 118.424619 \nL 112.907826 124.940807 \nL 122.652006 123.870319 \nL 132.396185 129.535784 \nL 142.140364 127.90349 \nL 151.884543 132.935402 \nL 161.628722 131.273576 \nL 171.372901 135.607969 \nL 181.11708 135.235096 \nL 190.861259 137.804811 \nL 200.605438 137.271838 \nL 210.349618 139.5 \n\" clip-path=\"url(#pa0475193fd)\" style=\"fill: none; stroke: #1f77b4; stroke-width: 1.5; stroke-linecap: square\"/>\n   </g>\n   <g id=\"line2d_117\">\n    <path d=\"M 49.633125 93.76599 \nL 69.163125 97.191634 \nL 88.693125 106.125186 \nL 108.223125 98.009846 \nL 127.753125 100.874387 \nL 147.283125 93.369765 \nL 166.813125 100.946711 \nL 186.343125 98.066504 \nL 205.873125 98.486241 \n\" clip-path=\"url(#pa0475193fd)\" style=\"fill: none; stroke-dasharray: 5.55,2.4; stroke-dashoffset: 0; stroke: #ff7f0e; stroke-width: 1.5\"/>\n   </g>\n   <g id=\"line2d_118\">\n    <path d=\"M 49.633125 18.998026 \nL 69.163125 17.015362 \nL 88.693125 13.837475 \nL 108.223125 16.326351 \nL 127.753125 15.24362 \nL 147.283125 17.085669 \nL 166.813125 14.329625 \nL 186.343125 13.514061 \nL 205.873125 13.59843 \n\" clip-path=\"url(#pa0475193fd)\" style=\"fill: none; stroke-dasharray: 9.6,2.4,1.5,2.4; stroke-dashoffset: 0; stroke: #2ca02c; stroke-width: 1.5\"/>\n   </g>\n   <g id=\"line2d_119\">\n    <path d=\"M 34.954394 65.516869 \nL 44.698573 93.711039 \nL 54.442752 104.318322 \nL 64.186931 105.306941 \nL 73.93111 113.182421 \nL 83.675289 112.581481 \nL 93.419468 120.021166 \nL 103.163647 118.424619 \nL 112.907826 124.940807 \nL 122.652006 123.870319 \nL 132.396185 129.535784 \nL 142.140364 127.90349 \nL 151.884543 132.935402 \nL 161.628722 131.273576 \nL 171.372901 135.607969 \nL 181.11708 135.235096 \nL 190.861259 137.804811 \nL 200.605438 137.271838 \nL 210.349618 139.5 \nL 220.093797 138.895026 \n\" clip-path=\"url(#pa0475193fd)\" style=\"fill: none; stroke: #1f77b4; stroke-width: 1.5; stroke-linecap: square\"/>\n   </g>\n   <g id=\"line2d_120\">\n    <path d=\"M 49.633125 93.76599 \nL 69.163125 97.191634 \nL 88.693125 106.125186 \nL 108.223125 98.009846 \nL 127.753125 100.874387 \nL 147.283125 93.369765 \nL 166.813125 100.946711 \nL 186.343125 98.066504 \nL 205.873125 98.486241 \n\" clip-path=\"url(#pa0475193fd)\" style=\"fill: none; stroke-dasharray: 5.55,2.4; stroke-dashoffset: 0; stroke: #ff7f0e; stroke-width: 1.5\"/>\n   </g>\n   <g id=\"line2d_121\">\n    <path d=\"M 49.633125 18.998026 \nL 69.163125 17.015362 \nL 88.693125 13.837475 \nL 108.223125 16.326351 \nL 127.753125 15.24362 \nL 147.283125 17.085669 \nL 166.813125 14.329625 \nL 186.343125 13.514061 \nL 205.873125 13.59843 \n\" clip-path=\"url(#pa0475193fd)\" style=\"fill: none; stroke-dasharray: 9.6,2.4,1.5,2.4; stroke-dashoffset: 0; stroke: #2ca02c; stroke-width: 1.5\"/>\n   </g>\n   <g id=\"line2d_122\">\n    <path d=\"M 34.954394 65.516869 \nL 44.698573 93.711039 \nL 54.442752 104.318322 \nL 64.186931 105.306941 \nL 73.93111 113.182421 \nL 83.675289 112.581481 \nL 93.419468 120.021166 \nL 103.163647 118.424619 \nL 112.907826 124.940807 \nL 122.652006 123.870319 \nL 132.396185 129.535784 \nL 142.140364 127.90349 \nL 151.884543 132.935402 \nL 161.628722 131.273576 \nL 171.372901 135.607969 \nL 181.11708 135.235096 \nL 190.861259 137.804811 \nL 200.605438 137.271838 \nL 210.349618 139.5 \nL 220.093797 138.895026 \n\" clip-path=\"url(#pa0475193fd)\" style=\"fill: none; stroke: #1f77b4; stroke-width: 1.5; stroke-linecap: square\"/>\n   </g>\n   <g id=\"line2d_123\">\n    <path d=\"M 49.633125 93.76599 \nL 69.163125 97.191634 \nL 88.693125 106.125186 \nL 108.223125 98.009846 \nL 127.753125 100.874387 \nL 147.283125 93.369765 \nL 166.813125 100.946711 \nL 186.343125 98.066504 \nL 205.873125 98.486241 \nL 225.403125 94.130813 \n\" clip-path=\"url(#pa0475193fd)\" style=\"fill: none; stroke-dasharray: 5.55,2.4; stroke-dashoffset: 0; stroke: #ff7f0e; stroke-width: 1.5\"/>\n   </g>\n   <g id=\"line2d_124\">\n    <path d=\"M 49.633125 18.998026 \nL 69.163125 17.015362 \nL 88.693125 13.837475 \nL 108.223125 16.326351 \nL 127.753125 15.24362 \nL 147.283125 17.085669 \nL 166.813125 14.329625 \nL 186.343125 13.514061 \nL 205.873125 13.59843 \n\" clip-path=\"url(#pa0475193fd)\" style=\"fill: none; stroke-dasharray: 9.6,2.4,1.5,2.4; stroke-dashoffset: 0; stroke: #2ca02c; stroke-width: 1.5\"/>\n   </g>\n   <g id=\"line2d_125\">\n    <path d=\"M 34.954394 65.516869 \nL 44.698573 93.711039 \nL 54.442752 104.318322 \nL 64.186931 105.306941 \nL 73.93111 113.182421 \nL 83.675289 112.581481 \nL 93.419468 120.021166 \nL 103.163647 118.424619 \nL 112.907826 124.940807 \nL 122.652006 123.870319 \nL 132.396185 129.535784 \nL 142.140364 127.90349 \nL 151.884543 132.935402 \nL 161.628722 131.273576 \nL 171.372901 135.607969 \nL 181.11708 135.235096 \nL 190.861259 137.804811 \nL 200.605438 137.271838 \nL 210.349618 139.5 \nL 220.093797 138.895026 \n\" clip-path=\"url(#pa0475193fd)\" style=\"fill: none; stroke: #1f77b4; stroke-width: 1.5; stroke-linecap: square\"/>\n   </g>\n   <g id=\"line2d_126\">\n    <path d=\"M 49.633125 93.76599 \nL 69.163125 97.191634 \nL 88.693125 106.125186 \nL 108.223125 98.009846 \nL 127.753125 100.874387 \nL 147.283125 93.369765 \nL 166.813125 100.946711 \nL 186.343125 98.066504 \nL 205.873125 98.486241 \nL 225.403125 94.130813 \n\" clip-path=\"url(#pa0475193fd)\" style=\"fill: none; stroke-dasharray: 5.55,2.4; stroke-dashoffset: 0; stroke: #ff7f0e; stroke-width: 1.5\"/>\n   </g>\n   <g id=\"line2d_127\">\n    <path d=\"M 49.633125 18.998026 \nL 69.163125 17.015362 \nL 88.693125 13.837475 \nL 108.223125 16.326351 \nL 127.753125 15.24362 \nL 147.283125 17.085669 \nL 166.813125 14.329625 \nL 186.343125 13.514061 \nL 205.873125 13.59843 \nL 225.403125 13.5 \n\" clip-path=\"url(#pa0475193fd)\" style=\"fill: none; stroke-dasharray: 9.6,2.4,1.5,2.4; stroke-dashoffset: 0; stroke: #2ca02c; stroke-width: 1.5\"/>\n   </g>\n   <g id=\"patch_3\">\n    <path d=\"M 30.103125 145.8 \nL 30.103125 7.2 \n\" style=\"fill: none; stroke: #000000; stroke-width: 0.8; stroke-linejoin: miter; stroke-linecap: square\"/>\n   </g>\n   <g id=\"patch_4\">\n    <path d=\"M 225.403125 145.8 \nL 225.403125 7.2 \n\" style=\"fill: none; stroke: #000000; stroke-width: 0.8; stroke-linejoin: miter; stroke-linecap: square\"/>\n   </g>\n   <g id=\"patch_5\">\n    <path d=\"M 30.103125 145.8 \nL 225.403125 145.8 \n\" style=\"fill: none; stroke: #000000; stroke-width: 0.8; stroke-linejoin: miter; stroke-linecap: square\"/>\n   </g>\n   <g id=\"patch_6\">\n    <path d=\"M 30.103125 7.2 \nL 225.403125 7.2 \n\" style=\"fill: none; stroke: #000000; stroke-width: 0.8; stroke-linejoin: miter; stroke-linecap: square\"/>\n   </g>\n   <g id=\"legend_1\">\n    <g id=\"patch_7\">\n     <path d=\"M 138.8125 100.434375 \nL 218.403125 100.434375 \nQ 220.403125 100.434375 220.403125 98.434375 \nL 220.403125 54.565625 \nQ 220.403125 52.565625 218.403125 52.565625 \nL 138.8125 52.565625 \nQ 136.8125 52.565625 136.8125 54.565625 \nL 136.8125 98.434375 \nQ 136.8125 100.434375 138.8125 100.434375 \nz\n\" style=\"fill: #ffffff; opacity: 0.8; stroke: #cccccc; stroke-linejoin: miter\"/>\n    </g>\n    <g id=\"line2d_128\">\n     <path d=\"M 140.8125 60.664063 \nL 150.8125 60.664063 \nL 160.8125 60.664063 \n\" style=\"fill: none; stroke: #1f77b4; stroke-width: 1.5; stroke-linecap: square\"/>\n    </g>\n    <g id=\"text_13\">\n     <!-- train_loss -->\n     <g transform=\"translate(168.8125 64.164063) scale(0.1 -0.1)\">\n      <defs>\n       <path id=\"DejaVuSans-74\" d=\"M 1172 4494 \nL 1172 3500 \nL 2356 3500 \nL 2356 3053 \nL 1172 3053 \nL 1172 1153 \nQ 1172 725 1289 603 \nQ 1406 481 1766 481 \nL 2356 481 \nL 2356 0 \nL 1766 0 \nQ 1100 0 847 248 \nQ 594 497 594 1153 \nL 594 3053 \nL 172 3053 \nL 172 3500 \nL 594 3500 \nL 594 4494 \nL 1172 4494 \nz\n\" transform=\"scale(0.015625)\"/>\n       <path id=\"DejaVuSans-72\" d=\"M 2631 2963 \nQ 2534 3019 2420 3045 \nQ 2306 3072 2169 3072 \nQ 1681 3072 1420 2755 \nQ 1159 2438 1159 1844 \nL 1159 0 \nL 581 0 \nL 581 3500 \nL 1159 3500 \nL 1159 2956 \nQ 1341 3275 1631 3429 \nQ 1922 3584 2338 3584 \nQ 2397 3584 2469 3576 \nQ 2541 3569 2628 3553 \nL 2631 2963 \nz\n\" transform=\"scale(0.015625)\"/>\n       <path id=\"DejaVuSans-61\" d=\"M 2194 1759 \nQ 1497 1759 1228 1600 \nQ 959 1441 959 1056 \nQ 959 750 1161 570 \nQ 1363 391 1709 391 \nQ 2188 391 2477 730 \nQ 2766 1069 2766 1631 \nL 2766 1759 \nL 2194 1759 \nz\nM 3341 1997 \nL 3341 0 \nL 2766 0 \nL 2766 531 \nQ 2569 213 2275 61 \nQ 1981 -91 1556 -91 \nQ 1019 -91 701 211 \nQ 384 513 384 1019 \nQ 384 1609 779 1909 \nQ 1175 2209 1959 2209 \nL 2766 2209 \nL 2766 2266 \nQ 2766 2663 2505 2880 \nQ 2244 3097 1772 3097 \nQ 1472 3097 1187 3025 \nQ 903 2953 641 2809 \nL 641 3341 \nQ 956 3463 1253 3523 \nQ 1550 3584 1831 3584 \nQ 2591 3584 2966 3190 \nQ 3341 2797 3341 1997 \nz\n\" transform=\"scale(0.015625)\"/>\n       <path id=\"DejaVuSans-69\" d=\"M 603 3500 \nL 1178 3500 \nL 1178 0 \nL 603 0 \nL 603 3500 \nz\nM 603 4863 \nL 1178 4863 \nL 1178 4134 \nL 603 4134 \nL 603 4863 \nz\n\" transform=\"scale(0.015625)\"/>\n       <path id=\"DejaVuSans-6e\" d=\"M 3513 2113 \nL 3513 0 \nL 2938 0 \nL 2938 2094 \nQ 2938 2591 2744 2837 \nQ 2550 3084 2163 3084 \nQ 1697 3084 1428 2787 \nQ 1159 2491 1159 1978 \nL 1159 0 \nL 581 0 \nL 581 3500 \nL 1159 3500 \nL 1159 2956 \nQ 1366 3272 1645 3428 \nQ 1925 3584 2291 3584 \nQ 2894 3584 3203 3211 \nQ 3513 2838 3513 2113 \nz\n\" transform=\"scale(0.015625)\"/>\n       <path id=\"DejaVuSans-5f\" d=\"M 3263 -1063 \nL 3263 -1509 \nL -63 -1509 \nL -63 -1063 \nL 3263 -1063 \nz\n\" transform=\"scale(0.015625)\"/>\n       <path id=\"DejaVuSans-6c\" d=\"M 603 4863 \nL 1178 4863 \nL 1178 0 \nL 603 0 \nL 603 4863 \nz\n\" transform=\"scale(0.015625)\"/>\n       <path id=\"DejaVuSans-73\" d=\"M 2834 3397 \nL 2834 2853 \nQ 2591 2978 2328 3040 \nQ 2066 3103 1784 3103 \nQ 1356 3103 1142 2972 \nQ 928 2841 928 2578 \nQ 928 2378 1081 2264 \nQ 1234 2150 1697 2047 \nL 1894 2003 \nQ 2506 1872 2764 1633 \nQ 3022 1394 3022 966 \nQ 3022 478 2636 193 \nQ 2250 -91 1575 -91 \nQ 1294 -91 989 -36 \nQ 684 19 347 128 \nL 347 722 \nQ 666 556 975 473 \nQ 1284 391 1588 391 \nQ 1994 391 2212 530 \nQ 2431 669 2431 922 \nQ 2431 1156 2273 1281 \nQ 2116 1406 1581 1522 \nL 1381 1569 \nQ 847 1681 609 1914 \nQ 372 2147 372 2553 \nQ 372 3047 722 3315 \nQ 1072 3584 1716 3584 \nQ 2034 3584 2315 3537 \nQ 2597 3491 2834 3397 \nz\n\" transform=\"scale(0.015625)\"/>\n      </defs>\n      <use xlink:href=\"#DejaVuSans-74\"/>\n      <use xlink:href=\"#DejaVuSans-72\" x=\"39.208984\"/>\n      <use xlink:href=\"#DejaVuSans-61\" x=\"80.322266\"/>\n      <use xlink:href=\"#DejaVuSans-69\" x=\"141.601562\"/>\n      <use xlink:href=\"#DejaVuSans-6e\" x=\"169.384766\"/>\n      <use xlink:href=\"#DejaVuSans-5f\" x=\"232.763672\"/>\n      <use xlink:href=\"#DejaVuSans-6c\" x=\"282.763672\"/>\n      <use xlink:href=\"#DejaVuSans-6f\" x=\"310.546875\"/>\n      <use xlink:href=\"#DejaVuSans-73\" x=\"371.728516\"/>\n      <use xlink:href=\"#DejaVuSans-73\" x=\"423.828125\"/>\n     </g>\n    </g>\n    <g id=\"line2d_129\">\n     <path d=\"M 140.8125 75.620313 \nL 150.8125 75.620313 \nL 160.8125 75.620313 \n\" style=\"fill: none; stroke-dasharray: 5.55,2.4; stroke-dashoffset: 0; stroke: #ff7f0e; stroke-width: 1.5\"/>\n    </g>\n    <g id=\"text_14\">\n     <!-- val_loss -->\n     <g transform=\"translate(168.8125 79.120313) scale(0.1 -0.1)\">\n      <defs>\n       <path id=\"DejaVuSans-76\" d=\"M 191 3500 \nL 800 3500 \nL 1894 563 \nL 2988 3500 \nL 3597 3500 \nL 2284 0 \nL 1503 0 \nL 191 3500 \nz\n\" transform=\"scale(0.015625)\"/>\n      </defs>\n      <use xlink:href=\"#DejaVuSans-76\"/>\n      <use xlink:href=\"#DejaVuSans-61\" x=\"59.179688\"/>\n      <use xlink:href=\"#DejaVuSans-6c\" x=\"120.458984\"/>\n      <use xlink:href=\"#DejaVuSans-5f\" x=\"148.242188\"/>\n      <use xlink:href=\"#DejaVuSans-6c\" x=\"198.242188\"/>\n      <use xlink:href=\"#DejaVuSans-6f\" x=\"226.025391\"/>\n      <use xlink:href=\"#DejaVuSans-73\" x=\"287.207031\"/>\n      <use xlink:href=\"#DejaVuSans-73\" x=\"339.306641\"/>\n     </g>\n    </g>\n    <g id=\"line2d_130\">\n     <path d=\"M 140.8125 90.576563 \nL 150.8125 90.576563 \nL 160.8125 90.576563 \n\" style=\"fill: none; stroke-dasharray: 9.6,2.4,1.5,2.4; stroke-dashoffset: 0; stroke: #2ca02c; stroke-width: 1.5\"/>\n    </g>\n    <g id=\"text_15\">\n     <!-- val_acc -->\n     <g transform=\"translate(168.8125 94.076563) scale(0.1 -0.1)\">\n      <use xlink:href=\"#DejaVuSans-76\"/>\n      <use xlink:href=\"#DejaVuSans-61\" x=\"59.179688\"/>\n      <use xlink:href=\"#DejaVuSans-6c\" x=\"120.458984\"/>\n      <use xlink:href=\"#DejaVuSans-5f\" x=\"148.242188\"/>\n      <use xlink:href=\"#DejaVuSans-61\" x=\"198.242188\"/>\n      <use xlink:href=\"#DejaVuSans-63\" x=\"259.521484\"/>\n      <use xlink:href=\"#DejaVuSans-63\" x=\"314.501953\"/>\n     </g>\n    </g>\n   </g>\n  </g>\n </g>\n <defs>\n  <clipPath id=\"pa0475193fd\">\n   <rect x=\"30.103125\" y=\"7.2\" width=\"195.3\" height=\"138.6\"/>\n  </clipPath>\n </defs>\n</svg>\n"
          },
          "metadata": {}
        }
      ]
    },
    {
      "cell_type": "markdown",
      "source": [
        "### discussions or takeaway messages\n",
        "\n",
        "* ResNet의 입력 : 64개의 출력 채널을 가진 7X7 convolution - 배치 정규화, 이어지는 layer와 max poolling layer\n",
        "* ResNet은 여러 개의 잔차 블록으로 이루어진 네 개의 모듈을 사용\n",
        "* 각 모듈 내에서 채널 수는 첫 번째 블록을 제외하고 X2,, 높이와 너비는 1/2.\n",
        "* 잔차 블록 : 2개의 3X3 컨볼루션 레이어로 구성. 입력을 더하는 잔차 연결\n",
        "* ResNet의 모듈들을 통과하면서 해상도는 감소하고 채널 수는 증가"
      ],
      "metadata": {
        "id": "S8p75GZq-kQG"
      }
    }
  ]
}