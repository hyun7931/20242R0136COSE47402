{
  "cells": [
    {
      "cell_type": "markdown",
      "id": "75f19d59-60d1-4444-8dd2-b79f4dfe7d40",
      "metadata": {
        "id": "75f19d59-60d1-4444-8dd2-b79f4dfe7d40"
      },
      "source": [
        "# COSE474_HW1\n",
        "## 2022320009 이수현\n",
        "\n",
        "discussion or takeway messages는 각 챕터에 있습니다."
      ]
    },
    {
      "cell_type": "markdown",
      "source": [
        "## 2.1. Data Manipulation\n",
        "\n",
        "data -> 1)acquire 2)process\n",
        "\n",
        "tensor class supports -> automatic differentiation(자동미분), GPU로 accelerate numerical computation\n",
        "\n",
        "=> 신경망은 코딩이 쉽고 실행 속도가 빠름"
      ],
      "metadata": {
        "id": "0yMuGePjfoU-"
      },
      "id": "0yMuGePjfoU-"
    },
    {
      "cell_type": "markdown",
      "id": "4d4afdcf-8ce9-4757-a985-811a3de7b538",
      "metadata": {
        "id": "4d4afdcf-8ce9-4757-a985-811a3de7b538"
      },
      "source": [
        "### 2.1.1.getting started"
      ]
    },
    {
      "cell_type": "code",
      "execution_count": 1,
      "id": "6144f13e-781b-4e9c-88c3-b0d05a15dedb",
      "metadata": {
        "id": "6144f13e-781b-4e9c-88c3-b0d05a15dedb"
      },
      "outputs": [],
      "source": [
        "import torch"
      ]
    },
    {
      "cell_type": "code",
      "execution_count": 2,
      "id": "6544b7d1-ba0a-4279-b0e7-8704e676b214",
      "metadata": {
        "id": "6544b7d1-ba0a-4279-b0e7-8704e676b214",
        "outputId": "400d0faa-bacb-4232-ec3b-ee635901ff59",
        "colab": {
          "base_uri": "https://localhost:8080/"
        }
      },
      "outputs": [
        {
          "output_type": "execute_result",
          "data": {
            "text/plain": [
              "tensor([ 0.,  1.,  2.,  3.,  4.,  5.,  6.,  7.,  8.,  9., 10., 11.])"
            ]
          },
          "metadata": {},
          "execution_count": 2
        }
      ],
      "source": [
        "x = torch.arange(12, dtype=torch.float32)\n",
        "x"
      ]
    },
    {
      "cell_type": "markdown",
      "id": "52b0ba93-5c98-4f62-8cb8-740032926dfa",
      "metadata": {
        "id": "52b0ba93-5c98-4f62-8cb8-740032926dfa"
      },
      "source": [
        "**arange** : 지정된 범위에서 일정간격(기본1)으로 값을 생성\n",
        "\n",
        "torch.arange(12, dtype=torch.float32) => 0~11까지, data type은 float32\n",
        "\n",
        "-> 그렇다면 간격을 2로 하고 싶다면?\n",
        "arange(start, end, step) : step에 간격값을 넣을 수 있음"
      ]
    },
    {
      "cell_type": "code",
      "execution_count": 3,
      "id": "adb6c76e-60c6-4a81-b7d1-b89b79985d13",
      "metadata": {
        "id": "adb6c76e-60c6-4a81-b7d1-b89b79985d13",
        "outputId": "ecb00759-8b9a-4b59-dd89-b099792b167e",
        "colab": {
          "base_uri": "https://localhost:8080/"
        }
      },
      "outputs": [
        {
          "output_type": "execute_result",
          "data": {
            "text/plain": [
              "tensor([ 0.,  2.,  4.,  6.,  8., 10.])"
            ]
          },
          "metadata": {},
          "execution_count": 3
        }
      ],
      "source": [
        "y = torch.arange(0,12,2, dtype=torch.float32)\n",
        "y"
      ]
    },
    {
      "cell_type": "code",
      "execution_count": 4,
      "id": "a9aaba7d-5da8-4b58-8944-f400cfa0117f",
      "metadata": {
        "id": "a9aaba7d-5da8-4b58-8944-f400cfa0117f",
        "outputId": "9f3bdf16-fbed-49ee-c159-33532eac4648",
        "colab": {
          "base_uri": "https://localhost:8080/"
        }
      },
      "outputs": [
        {
          "output_type": "execute_result",
          "data": {
            "text/plain": [
              "12"
            ]
          },
          "metadata": {},
          "execution_count": 4
        }
      ],
      "source": [
        "x.numel()"
      ]
    },
    {
      "cell_type": "markdown",
      "id": "1ebd7e55-c46d-47f8-892c-4725b2a67b0e",
      "metadata": {
        "id": "1ebd7e55-c46d-47f8-892c-4725b2a67b0e"
      },
      "source": [
        "**numel** : 텐서의 원소 수"
      ]
    },
    {
      "cell_type": "code",
      "execution_count": 5,
      "id": "c3a66cc5-ec71-40f7-8e81-6187d70751d3",
      "metadata": {
        "id": "c3a66cc5-ec71-40f7-8e81-6187d70751d3",
        "outputId": "3a2cdc48-5317-4935-9d0d-dc93ef3fa833",
        "colab": {
          "base_uri": "https://localhost:8080/"
        }
      },
      "outputs": [
        {
          "output_type": "execute_result",
          "data": {
            "text/plain": [
              "torch.Size([12])"
            ]
          },
          "metadata": {},
          "execution_count": 5
        }
      ],
      "source": [
        "x.shape"
      ]
    },
    {
      "cell_type": "markdown",
      "id": "0333e44b-2055-4620-a693-3d2ae29b1fe0",
      "metadata": {
        "id": "0333e44b-2055-4620-a693-3d2ae29b1fe0"
      },
      "source": [
        "**shape** : 텐서의 차원의 크기"
      ]
    },
    {
      "cell_type": "markdown",
      "id": "2f87792f-7bc5-4a40-b0e3-6320fde67ef6",
      "metadata": {
        "id": "2f87792f-7bc5-4a40-b0e3-6320fde67ef6"
      },
      "source": [
        "**reshape** : 텐서의 크기, 값 변화 없이 모양만 변경\n",
        "\n",
        "size n, target shape(h,w) => w=n/h 이므로\n",
        "x.reshape(3,4)대신 x.reshape(-1,4)나 x.reshape(3,-1)도 가능\n",
        "\n",
        "'-1'은 PyTorch가 나머지 차원의 값을 자동으로 게산해줌. 즉, -1은 자동으로 계산될 차원을 의미함!"
      ]
    },
    {
      "cell_type": "code",
      "execution_count": 6,
      "id": "e8ff52f9-27cf-40f5-9d9d-5c59eeb7537d",
      "metadata": {
        "id": "e8ff52f9-27cf-40f5-9d9d-5c59eeb7537d",
        "outputId": "b87b5e84-9d5a-4937-8b69-b820fa75d385",
        "colab": {
          "base_uri": "https://localhost:8080/"
        }
      },
      "outputs": [
        {
          "output_type": "execute_result",
          "data": {
            "text/plain": [
              "tensor([[ 0.,  1.,  2.,  3.],\n",
              "        [ 4.,  5.,  6.,  7.],\n",
              "        [ 8.,  9., 10., 11.]])"
            ]
          },
          "metadata": {},
          "execution_count": 6
        }
      ],
      "source": [
        "X = x.reshape(3, 4)\n",
        "X"
      ]
    },
    {
      "cell_type": "markdown",
      "id": "b2cce5f5-f27e-4031-b571-d7fd0c392294",
      "metadata": {
        "id": "b2cce5f5-f27e-4031-b571-d7fd0c392294"
      },
      "source": [
        "실무에서 특정 값으로 초기화된 텐서를 자주 사용\n",
        "=> 모든 원소가 0/1로 설정된 텐서 만들기\n",
        "\n",
        "**zeros** : 모든 원소가 0인 텐서\n",
        "\n",
        "**ones** : 모든 원소가 1인 텐서"
      ]
    },
    {
      "cell_type": "code",
      "execution_count": 7,
      "id": "40e1d0ae-5633-4f91-a456-7ba3cf927889",
      "metadata": {
        "id": "40e1d0ae-5633-4f91-a456-7ba3cf927889",
        "outputId": "9a4bccdc-cd4b-4d20-d370-64c6c4cfda21",
        "colab": {
          "base_uri": "https://localhost:8080/"
        }
      },
      "outputs": [
        {
          "output_type": "execute_result",
          "data": {
            "text/plain": [
              "tensor([[[0., 0., 0., 0.],\n",
              "         [0., 0., 0., 0.],\n",
              "         [0., 0., 0., 0.]],\n",
              "\n",
              "        [[0., 0., 0., 0.],\n",
              "         [0., 0., 0., 0.],\n",
              "         [0., 0., 0., 0.]]])"
            ]
          },
          "metadata": {},
          "execution_count": 7
        }
      ],
      "source": [
        "torch.zeros((2, 3, 4))"
      ]
    },
    {
      "cell_type": "code",
      "execution_count": 8,
      "id": "3274bdbf-6862-4cd1-b463-a3078561b042",
      "metadata": {
        "id": "3274bdbf-6862-4cd1-b463-a3078561b042",
        "outputId": "b3f431b9-807d-42e0-d5ac-f81de44e37b6",
        "colab": {
          "base_uri": "https://localhost:8080/"
        }
      },
      "outputs": [
        {
          "output_type": "execute_result",
          "data": {
            "text/plain": [
              "tensor([[[1., 1., 1., 1.],\n",
              "         [1., 1., 1., 1.],\n",
              "         [1., 1., 1., 1.]],\n",
              "\n",
              "        [[1., 1., 1., 1.],\n",
              "         [1., 1., 1., 1.],\n",
              "         [1., 1., 1., 1.]]])"
            ]
          },
          "metadata": {},
          "execution_count": 8
        }
      ],
      "source": [
        "torch.ones((2, 3, 4))"
      ]
    },
    {
      "cell_type": "markdown",
      "id": "7f1bfd49-ea19-4f18-bd41-7b95890ff41f",
      "metadata": {
        "id": "7f1bfd49-ea19-4f18-bd41-7b95890ff41f"
      },
      "source": [
        "무작위,독립적 샘플링\n",
        "\n",
        "**randn** : n*m크기의 정규분포 랜덤 숫자의 텐서를 생성해줘"
      ]
    },
    {
      "cell_type": "code",
      "execution_count": 9,
      "id": "6dbcd558-7835-4c03-be98-ede521c93ddb",
      "metadata": {
        "id": "6dbcd558-7835-4c03-be98-ede521c93ddb",
        "outputId": "c3d3806d-4409-4bd7-ba2c-072de514dbcf",
        "colab": {
          "base_uri": "https://localhost:8080/"
        }
      },
      "outputs": [
        {
          "output_type": "execute_result",
          "data": {
            "text/plain": [
              "tensor([[ 1.3587,  0.0611,  0.3233, -0.8273],\n",
              "        [-0.2127,  0.9823, -0.5997,  1.3423],\n",
              "        [ 0.4562,  0.6575, -0.0273,  0.1166]])"
            ]
          },
          "metadata": {},
          "execution_count": 9
        }
      ],
      "source": [
        "torch.randn(3, 4)"
      ]
    },
    {
      "cell_type": "markdown",
      "id": "23ac1acb-73bc-4a3b-96a0-98f844a327c6",
      "metadata": {
        "id": "23ac1acb-73bc-4a3b-96a0-98f844a327c6"
      },
      "source": [
        "중첩 리스트를 이용하여 텐서 생성"
      ]
    },
    {
      "cell_type": "code",
      "execution_count": 10,
      "id": "6b1415ed-963b-4d99-a84d-d6c982501d01",
      "metadata": {
        "id": "6b1415ed-963b-4d99-a84d-d6c982501d01",
        "outputId": "5989e438-97c2-4738-ae8a-eb962a0a5afa",
        "colab": {
          "base_uri": "https://localhost:8080/"
        }
      },
      "outputs": [
        {
          "output_type": "execute_result",
          "data": {
            "text/plain": [
              "tensor([[2, 1, 4, 3],\n",
              "        [1, 2, 3, 4],\n",
              "        [4, 3, 2, 1]])"
            ]
          },
          "metadata": {},
          "execution_count": 10
        }
      ],
      "source": [
        "torch.tensor([[2, 1, 4, 3], [1, 2, 3, 4], [4, 3, 2, 1]])"
      ]
    },
    {
      "cell_type": "markdown",
      "id": "f4fc30f6-4513-4663-a566-3d04f396b235",
      "metadata": {
        "id": "f4fc30f6-4513-4663-a566-3d04f396b235"
      },
      "source": [
        "### 2.1.2.indexing and slicing"
      ]
    },
    {
      "cell_type": "markdown",
      "id": "d955d775-e094-4790-88c0-54a19b24e376",
      "metadata": {
        "id": "d955d775-e094-4790-88c0-54a19b24e376"
      },
      "source": [
        "indexing : *0으로 시작*, 끝을 기준으로 접근하려면 음수 가능\n",
        "\n",
        "slicing : 반환된 값에는 시작은 포함되지만 끝은 포함되지 않음\n",
        "\n",
        "X[start : stop]이렇게 slicing하면 start ~ (stop-1)까지"
      ]
    },
    {
      "cell_type": "code",
      "execution_count": 11,
      "id": "e840fef7-f54f-4107-ad1d-165292eeaeee",
      "metadata": {
        "id": "e840fef7-f54f-4107-ad1d-165292eeaeee",
        "outputId": "95960666-457a-4c38-8018-e0c5f34b630d",
        "colab": {
          "base_uri": "https://localhost:8080/"
        }
      },
      "outputs": [
        {
          "output_type": "execute_result",
          "data": {
            "text/plain": [
              "(tensor([ 8.,  9., 10., 11.]),\n",
              " tensor([[ 4.,  5.,  6.,  7.],\n",
              "         [ 8.,  9., 10., 11.]]))"
            ]
          },
          "metadata": {},
          "execution_count": 11
        }
      ],
      "source": [
        "X[-1], X[1:3]"
      ]
    },
    {
      "cell_type": "markdown",
      "id": "08b14140-089b-4685-a48b-c29c3c3c004a",
      "metadata": {
        "id": "08b14140-089b-4685-a48b-c29c3c3c004a"
      },
      "source": [
        "X[1, 2] = 17 : X텐서에서 (두번째 행,세번째 열)의 값(기존엔 6)을 17로 변경.\n",
        "\n",
        "indexing은 항상 0부터 시작한다는 것을 잊지마!"
      ]
    },
    {
      "cell_type": "code",
      "execution_count": 12,
      "id": "c758e2af-591c-4a7c-b511-9099c64a319a",
      "metadata": {
        "id": "c758e2af-591c-4a7c-b511-9099c64a319a",
        "outputId": "beed2374-c716-4de0-c8e2-36e6d6a54496",
        "colab": {
          "base_uri": "https://localhost:8080/"
        }
      },
      "outputs": [
        {
          "output_type": "execute_result",
          "data": {
            "text/plain": [
              "tensor([[ 0.,  1.,  2.,  3.],\n",
              "        [ 4.,  5., 17.,  7.],\n",
              "        [ 8.,  9., 10., 11.]])"
            ]
          },
          "metadata": {},
          "execution_count": 12
        }
      ],
      "source": [
        "X[1, 2] = 17\n",
        "X"
      ]
    },
    {
      "cell_type": "markdown",
      "id": "5344e63e-5eac-4d61-9b90-e9eae46ab3c8",
      "metadata": {
        "id": "5344e63e-5eac-4d61-9b90-e9eae46ab3c8"
      },
      "source": [
        "여러개에 동일한 값을 할당하려면 할당 작업의 왼쪽에 indexing 적용!\n",
        "\n",
        "X[:2, :] = 12 : ':2'=0~1의 행 , 전체 에 적용. 즉, 1열과 2열 모두를 12로 변경"
      ]
    },
    {
      "cell_type": "code",
      "execution_count": 13,
      "id": "17011a70-2cf0-41bf-8795-3787a36aada0",
      "metadata": {
        "id": "17011a70-2cf0-41bf-8795-3787a36aada0",
        "outputId": "230400fd-4b7d-40ee-996e-f0d9efb6b565",
        "colab": {
          "base_uri": "https://localhost:8080/"
        }
      },
      "outputs": [
        {
          "output_type": "execute_result",
          "data": {
            "text/plain": [
              "tensor([[12., 12., 12., 12.],\n",
              "        [12., 12., 12., 12.],\n",
              "        [ 8.,  9., 10., 11.]])"
            ]
          },
          "metadata": {},
          "execution_count": 13
        }
      ],
      "source": [
        "X[:2, :] = 12\n",
        "X"
      ]
    },
    {
      "cell_type": "markdown",
      "id": "594d2b53-50f8-4fa4-9dd3-0a7fdf62ecef",
      "metadata": {
        "id": "594d2b53-50f8-4fa4-9dd3-0a7fdf62ecef"
      },
      "source": [
        "### 2.1.3.operations"
      ]
    },
    {
      "cell_type": "code",
      "execution_count": 14,
      "id": "4bc479b1-0d14-4775-9aa7-396f8ebe601e",
      "metadata": {
        "id": "4bc479b1-0d14-4775-9aa7-396f8ebe601e",
        "outputId": "1dae526c-a77d-49fb-f170-c38980966a61",
        "colab": {
          "base_uri": "https://localhost:8080/"
        }
      },
      "outputs": [
        {
          "output_type": "execute_result",
          "data": {
            "text/plain": [
              "tensor([162754.7969, 162754.7969, 162754.7969, 162754.7969, 162754.7969,\n",
              "        162754.7969, 162754.7969, 162754.7969,   2980.9580,   8103.0840,\n",
              "         22026.4648,  59874.1406])"
            ]
          },
          "metadata": {},
          "execution_count": 14
        }
      ],
      "source": [
        "torch.exp(x) #e의 거듭제곱"
      ]
    },
    {
      "cell_type": "code",
      "execution_count": 15,
      "id": "1e2c1637-1173-4f0d-8ae7-8d5576c988fa",
      "metadata": {
        "id": "1e2c1637-1173-4f0d-8ae7-8d5576c988fa",
        "outputId": "c6642c04-1557-4d2f-d141-5df4b22b4054",
        "colab": {
          "base_uri": "https://localhost:8080/"
        }
      },
      "outputs": [
        {
          "output_type": "execute_result",
          "data": {
            "text/plain": [
              "(tensor([ 3.,  4.,  6., 10.]),\n",
              " tensor([-1.,  0.,  2.,  6.]),\n",
              " tensor([ 2.,  4.,  8., 16.]),\n",
              " tensor([0.5000, 1.0000, 2.0000, 4.0000]),\n",
              " tensor([ 1.,  4., 16., 64.]))"
            ]
          },
          "metadata": {},
          "execution_count": 15
        }
      ],
      "source": [
        "x = torch.tensor([1.0, 2, 4, 8])\n",
        "y = torch.tensor([2, 2, 2, 2])\n",
        "x + y, x - y, x * y, x / y, x ** y"
      ]
    },
    {
      "cell_type": "code",
      "execution_count": 16,
      "id": "d801472c-bdb3-4013-87e5-f9465a6b4f50",
      "metadata": {
        "id": "d801472c-bdb3-4013-87e5-f9465a6b4f50",
        "outputId": "e868a2fa-a727-4a4d-9fa3-4bbc6a070329",
        "colab": {
          "base_uri": "https://localhost:8080/"
        }
      },
      "outputs": [
        {
          "output_type": "execute_result",
          "data": {
            "text/plain": [
              "(tensor([[ 0.,  1.,  2.,  3.],\n",
              "         [ 4.,  5.,  6.,  7.],\n",
              "         [ 8.,  9., 10., 11.],\n",
              "         [ 2.,  1.,  4.,  3.],\n",
              "         [ 1.,  2.,  3.,  4.],\n",
              "         [ 4.,  3.,  2.,  1.]]),\n",
              " tensor([[ 0.,  1.,  2.,  3.,  2.,  1.,  4.,  3.],\n",
              "         [ 4.,  5.,  6.,  7.,  1.,  2.,  3.,  4.],\n",
              "         [ 8.,  9., 10., 11.,  4.,  3.,  2.,  1.]]))"
            ]
          },
          "metadata": {},
          "execution_count": 16
        }
      ],
      "source": [
        "X = torch.arange(12, dtype=torch.float32).reshape((3,4))\n",
        "Y = torch.tensor([[2.0, 1, 4, 3], [1, 2, 3, 4], [4, 3, 2, 1]])\n",
        "torch.cat((X, Y), dim=0), torch.cat((X, Y), dim=1)\n",
        "#dim=0 : 첫번째 차원(행)을 기준으로 연결, dim=1 : 첫번째 차원(열)을 기준으로 연결"
      ]
    },
    {
      "cell_type": "markdown",
      "id": "cfbf4f8d-19ba-4174-8b02-7932799a9bed",
      "metadata": {
        "id": "cfbf4f8d-19ba-4174-8b02-7932799a9bed"
      },
      "source": [
        "**cat** : 두 개의 텐서를 지정한 차원에서 연결\n",
        "\n",
        "**dim=0** 행으로 연결 (세로로 길어짐)\n",
        "\n",
        "**dim=1** 열로 연결 (가로로 길어짐)"
      ]
    },
    {
      "cell_type": "markdown",
      "id": "7a743e2d-4da3-460e-9797-78e8bc61de44",
      "metadata": {
        "id": "7a743e2d-4da3-460e-9797-78e8bc61de44"
      },
      "source": [
        "각 위치 i, j에 대해 X[i, j]와 Y[i, j]가 같으면 1, 다르면 0"
      ]
    },
    {
      "cell_type": "code",
      "execution_count": 17,
      "id": "01974d14-a77d-43b5-88ba-1c0efe17f370",
      "metadata": {
        "id": "01974d14-a77d-43b5-88ba-1c0efe17f370",
        "outputId": "cbdeb227-8bdc-4c06-fafb-e57c35747d72",
        "colab": {
          "base_uri": "https://localhost:8080/"
        }
      },
      "outputs": [
        {
          "output_type": "execute_result",
          "data": {
            "text/plain": [
              "tensor([[False,  True, False,  True],\n",
              "        [False, False, False, False],\n",
              "        [False, False, False, False]])"
            ]
          },
          "metadata": {},
          "execution_count": 17
        }
      ],
      "source": [
        "X == Y"
      ]
    },
    {
      "cell_type": "code",
      "execution_count": 18,
      "id": "c65223bd-1956-4242-90f5-9562afbff318",
      "metadata": {
        "id": "c65223bd-1956-4242-90f5-9562afbff318",
        "outputId": "9241aa9a-12d9-4235-a848-9ed4b45a8e23",
        "colab": {
          "base_uri": "https://localhost:8080/"
        }
      },
      "outputs": [
        {
          "output_type": "execute_result",
          "data": {
            "text/plain": [
              "tensor(66.)"
            ]
          },
          "metadata": {},
          "execution_count": 18
        }
      ],
      "source": [
        "X.sum()"
      ]
    },
    {
      "cell_type": "markdown",
      "id": "a81c97ce-213f-48ba-b2a9-1f3d738ab953",
      "metadata": {
        "id": "a81c97ce-213f-48ba-b2a9-1f3d738ab953"
      },
      "source": [
        "### 2.1.4.broadcasting"
      ]
    },
    {
      "cell_type": "markdown",
      "id": "55f1085d-b25d-4635-8136-ac7ca063206e",
      "metadata": {
        "id": "55f1085d-b25d-4635-8136-ac7ca063206e"
      },
      "source": [
        "특정 조건에서는 모양이 달라도 broadcasting을 통해 연산 가능\n",
        "\n",
        "(i) expand one or both arrays by copying elements along axes with length 1 so that after this transformation, the two tensors have the same shape : 두 텐서의 모양을 맞춤\n",
        "\n",
        "(ii) perform an elementwise operation on the resulting arrays : 연산"
      ]
    },
    {
      "cell_type": "code",
      "execution_count": 19,
      "id": "c64e7ecf-5600-4aea-984a-28b38c28fa61",
      "metadata": {
        "id": "c64e7ecf-5600-4aea-984a-28b38c28fa61",
        "outputId": "e387f668-09ac-4d50-9d47-1216ca4bcca4",
        "colab": {
          "base_uri": "https://localhost:8080/"
        }
      },
      "outputs": [
        {
          "output_type": "execute_result",
          "data": {
            "text/plain": [
              "(tensor([[0],\n",
              "         [1],\n",
              "         [2]]),\n",
              " tensor([[0, 1]]))"
            ]
          },
          "metadata": {},
          "execution_count": 19
        }
      ],
      "source": [
        "a = torch.arange(3).reshape((3, 1))\n",
        "b = torch.arange(2).reshape((1, 2))\n",
        "a, b"
      ]
    },
    {
      "cell_type": "code",
      "execution_count": 20,
      "id": "56f7b90a-81d4-4b6a-a03f-654e308cbabd",
      "metadata": {
        "id": "56f7b90a-81d4-4b6a-a03f-654e308cbabd",
        "outputId": "e481b948-8e25-46da-f18a-02594ed5322b",
        "colab": {
          "base_uri": "https://localhost:8080/"
        }
      },
      "outputs": [
        {
          "output_type": "execute_result",
          "data": {
            "text/plain": [
              "tensor([[0, 1],\n",
              "        [1, 2],\n",
              "        [2, 3]])"
            ]
          },
          "metadata": {},
          "execution_count": 20
        }
      ],
      "source": [
        "a + b"
      ]
    },
    {
      "cell_type": "markdown",
      "id": "9d1c19a3-c052-47d2-a14b-9e013c2a8687",
      "metadata": {
        "id": "9d1c19a3-c052-47d2-a14b-9e013c2a8687"
      },
      "source": [
        "### 2.1.5.saving memory"
      ]
    },
    {
      "cell_type": "markdown",
      "id": "585945c5-b3d8-4a9f-9dba-817bae52050b",
      "metadata": {
        "id": "585945c5-b3d8-4a9f-9dba-817bae52050b"
      },
      "source": [
        "Y = Y + X와 같은 연산을 수행하면, 새로운 메모리가 할당되어 결과를 저장.\n",
        "\n",
        "Y는 원래 가리키던 메모리 주소를 해제하고 새로 할당된 메모리 주소를 가리킨다."
      ]
    },
    {
      "cell_type": "code",
      "execution_count": 21,
      "id": "cbb2258f-74f9-495d-970b-a77d90fbbebc",
      "metadata": {
        "id": "cbb2258f-74f9-495d-970b-a77d90fbbebc",
        "outputId": "73f63373-f533-422e-f739-2b6b1baf10d6",
        "colab": {
          "base_uri": "https://localhost:8080/"
        }
      },
      "outputs": [
        {
          "output_type": "execute_result",
          "data": {
            "text/plain": [
              "False"
            ]
          },
          "metadata": {},
          "execution_count": 21
        }
      ],
      "source": [
        "before = id(Y)\n",
        "Y = Y + X\n",
        "id(Y) == before"
      ]
    },
    {
      "cell_type": "markdown",
      "id": "78e4225f-d1d6-4ce8-913a-30962813ac0c",
      "metadata": {
        "id": "78e4225f-d1d6-4ce8-913a-30962813ac0c"
      },
      "source": [
        "false가 나왔다는건 Y가 새로운 메모리 주소를 가리킨다는것!!!\n",
        "\n",
        "문제\n",
        "1. 메모리 비효율적\n",
        "2. 참조 관리가 힘듦\n",
        "\n",
        "=> in-place operation : slice를 이용하여 연산 결과를 이전에 할당된 배열에 저장.\n",
        "\n",
        "Y[:] = <'expression'>\n",
        "\n",
        "we overwrite the values of tensor Z, after initializing it, using zeros_like, to have the same shape as Y."
      ]
    },
    {
      "cell_type": "code",
      "execution_count": 22,
      "id": "3f5548db-9d3b-4931-9266-72d1cadd6e8d",
      "metadata": {
        "id": "3f5548db-9d3b-4931-9266-72d1cadd6e8d",
        "outputId": "5509c93d-0bfc-452b-c72b-f7dbe36e92ef",
        "colab": {
          "base_uri": "https://localhost:8080/"
        }
      },
      "outputs": [
        {
          "output_type": "stream",
          "name": "stdout",
          "text": [
            "id(Z): 137959216371072\n",
            "id(Z): 137959216371072\n"
          ]
        }
      ],
      "source": [
        "Z = torch.zeros_like(Y)\n",
        "print('id(Z):', id(Z))\n",
        "Z[:] = X + Y\n",
        "print('id(Z):', id(Z))"
      ]
    },
    {
      "cell_type": "code",
      "execution_count": 23,
      "id": "1257eea4-a3a4-4afe-8af5-057e3ac6b39b",
      "metadata": {
        "id": "1257eea4-a3a4-4afe-8af5-057e3ac6b39b",
        "outputId": "a2422782-be88-487f-cc81-4c9ee1529394",
        "colab": {
          "base_uri": "https://localhost:8080/"
        }
      },
      "outputs": [
        {
          "output_type": "execute_result",
          "data": {
            "text/plain": [
              "True"
            ]
          },
          "metadata": {},
          "execution_count": 23
        }
      ],
      "source": [
        "before = id(X)\n",
        "X += Y\n",
        "id(X) == before"
      ]
    },
    {
      "cell_type": "markdown",
      "id": "d99784da-87c2-4bf7-8f73-6fcf1f87eb86",
      "metadata": {
        "id": "d99784da-87c2-4bf7-8f73-6fcf1f87eb86"
      },
      "source": [
        "### 2.1.6.conversion to other python objects"
      ]
    },
    {
      "cell_type": "code",
      "execution_count": 24,
      "id": "982d9b43-6159-4999-9b9f-c643758f7665",
      "metadata": {
        "id": "982d9b43-6159-4999-9b9f-c643758f7665",
        "outputId": "ce1e2a2a-f942-4e14-a4a3-ff5cecf0a3d8",
        "colab": {
          "base_uri": "https://localhost:8080/"
        }
      },
      "outputs": [
        {
          "output_type": "execute_result",
          "data": {
            "text/plain": [
              "(numpy.ndarray, torch.Tensor)"
            ]
          },
          "metadata": {},
          "execution_count": 24
        }
      ],
      "source": [
        "A = X.numpy()\n",
        "B = torch.from_numpy(A)\n",
        "type(A), type(B)"
      ]
    },
    {
      "cell_type": "code",
      "execution_count": 25,
      "id": "4fe6ec5e-65de-4d5c-be89-85e8e58b608f",
      "metadata": {
        "id": "4fe6ec5e-65de-4d5c-be89-85e8e58b608f",
        "outputId": "5197a10d-845b-4b7a-b28a-f2eab1b7ff15",
        "colab": {
          "base_uri": "https://localhost:8080/"
        }
      },
      "outputs": [
        {
          "output_type": "execute_result",
          "data": {
            "text/plain": [
              "(tensor([3.5000]), 3.5, 3.5, 3)"
            ]
          },
          "metadata": {},
          "execution_count": 25
        }
      ],
      "source": [
        "a = torch.tensor([3.5])\n",
        "a, a.item(), float(a), int(a)"
      ]
    },
    {
      "cell_type": "markdown",
      "id": "38fa7025-19f9-47fb-9cd2-ea84657c1c4f",
      "metadata": {
        "id": "38fa7025-19f9-47fb-9cd2-ea84657c1c4f"
      },
      "source": [
        "### 2.1.7 summary"
      ]
    },
    {
      "cell_type": "markdown",
      "id": "605fb393-8802-4562-a963-ca87f8c944d8",
      "metadata": {
        "id": "605fb393-8802-4562-a963-ca87f8c944d8"
      },
      "source": [
        "### 2.1.8 exercises\n",
        "\n",
        "1. Run the code in this section. Change the conditional statement X == Y to X < Y or X > Y, and then see what kind of tensor you can get."
      ]
    },
    {
      "cell_type": "code",
      "execution_count": 26,
      "id": "c960186f-86ac-4ef4-b82a-bfee036bf371",
      "metadata": {
        "id": "c960186f-86ac-4ef4-b82a-bfee036bf371",
        "outputId": "d1367877-ed94-4d92-a3b0-76abf3fc7080",
        "colab": {
          "base_uri": "https://localhost:8080/"
        }
      },
      "outputs": [
        {
          "output_type": "execute_result",
          "data": {
            "text/plain": [
              "(tensor([1., 2., 4., 8.]), tensor([2, 2, 2, 2]))"
            ]
          },
          "metadata": {},
          "execution_count": 26
        }
      ],
      "source": [
        "X = torch.arange(12, dtype=torch.float32).reshape((3,4))\n",
        "Y = torch.tensor([[2.0, 1, 4, 3], [1, 2, 3, 4], [4, 3, 2, 1]])\n",
        "x,y"
      ]
    },
    {
      "cell_type": "code",
      "execution_count": 27,
      "id": "35fc4623-aa14-47a4-9b6d-900e300ca3a6",
      "metadata": {
        "id": "35fc4623-aa14-47a4-9b6d-900e300ca3a6",
        "outputId": "24542d06-4440-49b8-a863-022dacedb5fd",
        "colab": {
          "base_uri": "https://localhost:8080/"
        }
      },
      "outputs": [
        {
          "output_type": "execute_result",
          "data": {
            "text/plain": [
              "tensor([ True, False, False, False])"
            ]
          },
          "metadata": {},
          "execution_count": 27
        }
      ],
      "source": [
        "x<y"
      ]
    },
    {
      "cell_type": "code",
      "execution_count": 28,
      "id": "73ffb305-e047-45c8-a6ed-8cf9268ced48",
      "metadata": {
        "id": "73ffb305-e047-45c8-a6ed-8cf9268ced48",
        "outputId": "6ffd90fe-2cc3-4e19-d2fe-989e3f21ae44",
        "colab": {
          "base_uri": "https://localhost:8080/"
        }
      },
      "outputs": [
        {
          "output_type": "execute_result",
          "data": {
            "text/plain": [
              "tensor([False, False,  True,  True])"
            ]
          },
          "metadata": {},
          "execution_count": 28
        }
      ],
      "source": [
        "x>y"
      ]
    },
    {
      "cell_type": "markdown",
      "id": "6d91527b-27fb-429c-aa62-e166a9ad003a",
      "metadata": {
        "id": "6d91527b-27fb-429c-aa62-e166a9ad003a"
      },
      "source": [
        "2. eplace the two tensors that operate by element in the broadcasting mechanism with other shapes, e.g., 3-dimensional tensors. Is the result the same as expected?"
      ]
    },
    {
      "cell_type": "code",
      "execution_count": 29,
      "id": "9e2e0453-8cf1-4acb-bf97-ee660d8fee0a",
      "metadata": {
        "id": "9e2e0453-8cf1-4acb-bf97-ee660d8fee0a",
        "outputId": "c6be35e1-a008-4c2e-fc94-3570b2365e93",
        "colab": {
          "base_uri": "https://localhost:8080/"
        }
      },
      "outputs": [
        {
          "output_type": "execute_result",
          "data": {
            "text/plain": [
              "(tensor([[0],\n",
              "         [1],\n",
              "         [2]]),\n",
              " tensor([[0, 1]]))"
            ]
          },
          "metadata": {},
          "execution_count": 29
        }
      ],
      "source": [
        "a = torch.arange(3).reshape((3, 1))\n",
        "b = torch.arange(2).reshape((1, 2))\n",
        "a, b"
      ]
    },
    {
      "cell_type": "code",
      "execution_count": 30,
      "id": "4f121920-61da-4fba-bca9-2a8f0ad46bd3",
      "metadata": {
        "id": "4f121920-61da-4fba-bca9-2a8f0ad46bd3",
        "outputId": "0602d80f-585f-445e-def8-b061d51889c9",
        "colab": {
          "base_uri": "https://localhost:8080/"
        }
      },
      "outputs": [
        {
          "output_type": "execute_result",
          "data": {
            "text/plain": [
              "tensor([[0, 1],\n",
              "        [1, 2],\n",
              "        [2, 3]])"
            ]
          },
          "metadata": {},
          "execution_count": 30
        }
      ],
      "source": [
        "a+b"
      ]
    },
    {
      "cell_type": "code",
      "execution_count": 31,
      "id": "14aad08b-da36-4562-9579-958d7a434948",
      "metadata": {
        "id": "14aad08b-da36-4562-9579-958d7a434948",
        "outputId": "480a88ef-36eb-4dd4-ec64-a1184708efa0",
        "colab": {
          "base_uri": "https://localhost:8080/"
        }
      },
      "outputs": [
        {
          "output_type": "execute_result",
          "data": {
            "text/plain": [
              "tensor([[[0, 1]],\n",
              "\n",
              "        [[1, 2]],\n",
              "\n",
              "        [[2, 3]]])"
            ]
          },
          "metadata": {},
          "execution_count": 31
        }
      ],
      "source": [
        "a3d = torch.arange(3).reshape((3, 1, 1))\n",
        "b3d = torch.arange(2).reshape((1, 1, 2))\n",
        "a3d + b3d"
      ]
    },
    {
      "cell_type": "markdown",
      "id": "8080ebf5-4a73-467d-b2c9-6610bee52092",
      "metadata": {
        "id": "8080ebf5-4a73-467d-b2c9-6610bee52092"
      },
      "source": [
        "=> 두개의 결과(a+b와 a3d+b3d0는 값만 보면 동일하게 나온다. 즉, broadcasting을 이용하면 2차원이든 3차원이든 상관없이 잘 계산된다."
      ]
    },
    {
      "cell_type": "markdown",
      "id": "3e1af516-7931-4395-b58a-e8986bb98515",
      "metadata": {
        "id": "3e1af516-7931-4395-b58a-e8986bb98515"
      },
      "source": [
        "### discussions or takeaway messages\n",
        "\n",
        "1. arange : 지정된 범위에서 일정간격(기본1)으로 값 생성\n",
        "\t범위 바꾸고 싶으면 step에 숫자 넣기 : arange(start, end, step)\n",
        "\n",
        "2. numel : 텐서 차원 크기\n",
        "\n",
        "3. reshape : 텐서 모양 변경\n",
        "\t'-1'을 넣으면 자동으로 차원 계산됨. 어차피 12=3*4 처럼 계산이 되기 때문에\n",
        "\n",
        "4. zeroes / ones : 텐서의 모든 값을 0/1로\n",
        "\n",
        "5. randn(n,m) : n*m크기의 정규분포 난수 생성\n",
        "\n",
        "6. indexing은 항상 0부터 시작을 잊지마\n",
        "\n",
        "7. slicing [A,B]이면 A ~ (B-1)까지\n",
        "\n",
        "8. cat(X,Y, dim=0or1) : 두 개의 텐서를 연결 (dim=0:행으로 연결, dim=1:열로 연결)\n",
        "\n",
        "9. broadcasting : 모양이 다른 두 텐서를 모양을 맞춰서 연산함\n",
        "\n",
        "10. 메모리 관리 : 새로운 메모리 할당은 메모리 비효율적+참조관리 힘듦의 문제를 발생시키기 때문에 가능하면 in-place로"
      ]
    },
    {
      "cell_type": "markdown",
      "id": "0545304f-f5b6-4b9e-83b1-3f36b9090678",
      "metadata": {
        "id": "0545304f-f5b6-4b9e-83b1-3f36b9090678"
      },
      "source": [
        "## 2.2.Data Preprocsessing\n"
      ]
    },
    {
      "cell_type": "markdown",
      "id": "96a39b1b-d9fd-44af-8fcb-cac7b2fc78a6",
      "metadata": {
        "id": "96a39b1b-d9fd-44af-8fcb-cac7b2fc78a6"
      },
      "source": [
        "### 2.2.1.reading the dataset\n",
        "csv파일 가져오기"
      ]
    },
    {
      "cell_type": "code",
      "execution_count": 32,
      "id": "1a18e4fa-bd04-4aad-bf24-d3ee7719b7db",
      "metadata": {
        "id": "1a18e4fa-bd04-4aad-bf24-d3ee7719b7db",
        "outputId": "af07f72c-db97-417f-970c-847ec81bc3a8",
        "colab": {
          "base_uri": "https://localhost:8080/"
        }
      },
      "outputs": [
        {
          "output_type": "stream",
          "name": "stdout",
          "text": [
            "Current Directory: /content\n",
            "Parent Directory: /\n"
          ]
        }
      ],
      "source": [
        "import os\n",
        "\n",
        "current_directory = os.getcwd()\n",
        "print(\"Current Directory:\", current_directory)\n",
        "\n",
        "parent_directory = os.path.dirname(current_directory)\n",
        "print(\"Parent Directory:\", parent_directory)"
      ]
    },
    {
      "cell_type": "code",
      "execution_count": 33,
      "id": "acc68af6-1085-4877-a31f-824edf2f1658",
      "metadata": {
        "id": "acc68af6-1085-4877-a31f-824edf2f1658"
      },
      "outputs": [],
      "source": [
        "os.makedirs('data', exist_ok=True)\n",
        "data_file = os.path.join('data', 'house_tiny.csv')\n",
        "\n",
        "with open(data_file, 'w') as f:\n",
        "    f.write('''NumRooms,RoofType,Price\n",
        "NA,NA,127500\n",
        "2,NA,106000\n",
        "4,Slate,178100\n",
        "NA,NA,140000''')"
      ]
    },
    {
      "cell_type": "code",
      "execution_count": 34,
      "id": "c5e6b8d9-4738-4873-a7ce-6d674dc70957",
      "metadata": {
        "id": "c5e6b8d9-4738-4873-a7ce-6d674dc70957",
        "outputId": "938965f5-b9f2-42da-c597-67320fc5c2fe",
        "colab": {
          "base_uri": "https://localhost:8080/"
        }
      },
      "outputs": [
        {
          "output_type": "stream",
          "name": "stdout",
          "text": [
            "   NumRooms RoofType   Price\n",
            "0       NaN      NaN  127500\n",
            "1       2.0      NaN  106000\n",
            "2       4.0    Slate  178100\n",
            "3       NaN      NaN  140000\n"
          ]
        }
      ],
      "source": [
        "import pandas as pd\n",
        "\n",
        "data = pd.read_csv(data_file)\n",
        "print(data)"
      ]
    },
    {
      "cell_type": "markdown",
      "id": "a2469abd-f15f-4e11-b7bb-82ba5951c118",
      "metadata": {
        "id": "a2469abd-f15f-4e11-b7bb-82ba5951c118"
      },
      "source": [
        "### 2.2.2.data preparation\n",
        "\n",
        "* 지도학습 : 일부 입력 값 집합이 주어지면 지정된 목표 값을 예측.\n",
        "\n",
        "\n",
        "  데이터셋을 input : target values로 분리 -> iloc이용\n",
        "\n",
        "* CSV 모든값을 NaN으로 처리할수도,....->missing values\n",
        "\n",
        "\n",
        "  missing values -> 1)imputation 2)deletion\n",
        "\n",
        "* common imputation heuristics\n",
        "\n",
        "\n",
        "  범주형 입력 필드에서 NaN값을 하나의 범주로 취급하여 결측치를 처리\n",
        "\n",
        "\n",
        "  RoofType : Slate / NaN\n",
        "\n",
        "  RoofType_Slate : RoofType가 Slate면 1, 아니면 0\n",
        "\n",
        "  RoofType_NaN : RoofType가 Slate면 1, 아니면 0\n",
        "\n",
        "  RoofType가 Slate인 경우: RoofType_Slate는 1, RoofType_nan은 0\n",
        "\n",
        "  RoofType가 NaN인 경우: RoofType_Slate는 0, RoofType_nan은 1\n"
      ]
    },
    {
      "cell_type": "code",
      "execution_count": 35,
      "id": "e2a40eea-20ba-472f-b1d2-bca1c5939c6e",
      "metadata": {
        "id": "e2a40eea-20ba-472f-b1d2-bca1c5939c6e",
        "outputId": "1320bc9d-ea3f-4452-8807-5d2f3e7ba281",
        "colab": {
          "base_uri": "https://localhost:8080/"
        }
      },
      "outputs": [
        {
          "output_type": "stream",
          "name": "stdout",
          "text": [
            "   NumRooms  RoofType_Slate  RoofType_nan\n",
            "0       NaN           False          True\n",
            "1       2.0           False          True\n",
            "2       4.0            True         False\n",
            "3       NaN           False          True\n"
          ]
        }
      ],
      "source": [
        "inputs, targets = data.iloc[:, 0:2], data.iloc[:, 2] #데이터 분리~\n",
        "inputs = pd.get_dummies(inputs, dummy_na=True)\n",
        "#dummy_na=True : 결측치를 별도의 카테고리로 간주 -> RoofType_nan생성 : 결측치이면 1, 아니면 0\n",
        "print(inputs)"
      ]
    },
    {
      "cell_type": "code",
      "execution_count": 36,
      "id": "1a038083-a82a-4233-91a6-ca87134c9480",
      "metadata": {
        "id": "1a038083-a82a-4233-91a6-ca87134c9480",
        "outputId": "51e48ee5-ddbf-4da9-b9f1-9a9a6100e194",
        "colab": {
          "base_uri": "https://localhost:8080/"
        }
      },
      "outputs": [
        {
          "output_type": "stream",
          "name": "stdout",
          "text": [
            "   NumRooms  RoofType_Slate  RoofType_nan\n",
            "0       3.0           False          True\n",
            "1       2.0           False          True\n",
            "2       4.0            True         False\n",
            "3       3.0           False          True\n"
          ]
        }
      ],
      "source": [
        "inputs = inputs.fillna(inputs.mean()) #fillna : 결측치를 특정값으로 대체 -> mean평균값로로\n",
        "print(inputs)"
      ]
    },
    {
      "cell_type": "markdown",
      "id": "7effab4e-a860-4750-bafa-82082436262e",
      "metadata": {
        "id": "7effab4e-a860-4750-bafa-82082436262e"
      },
      "source": [
        "### 2.2.3.conversion to the tensor format"
      ]
    },
    {
      "cell_type": "code",
      "execution_count": 37,
      "id": "b9bd8436-3854-4df0-937d-9081142f1181",
      "metadata": {
        "id": "b9bd8436-3854-4df0-937d-9081142f1181",
        "outputId": "942868af-3135-4cc7-82a5-f33f997f8ed1",
        "colab": {
          "base_uri": "https://localhost:8080/"
        }
      },
      "outputs": [
        {
          "output_type": "execute_result",
          "data": {
            "text/plain": [
              "(tensor([[3., 0., 1.],\n",
              "         [2., 0., 1.],\n",
              "         [4., 1., 0.],\n",
              "         [3., 0., 1.]], dtype=torch.float64),\n",
              " tensor([127500., 106000., 178100., 140000.], dtype=torch.float64))"
            ]
          },
          "metadata": {},
          "execution_count": 37
        }
      ],
      "source": [
        "import torch\n",
        "\n",
        "X = torch.tensor(inputs.to_numpy(dtype=float))\n",
        "y = torch.tensor(targets.to_numpy(dtype=float))\n",
        "X, y"
      ]
    },
    {
      "cell_type": "markdown",
      "id": "894c1d5e-04b2-4545-ad0d-ca4afa4eb5d1",
      "metadata": {
        "id": "894c1d5e-04b2-4545-ad0d-ca4afa4eb5d1"
      },
      "source": [
        "### 2.2.4.discussion"
      ]
    },
    {
      "cell_type": "markdown",
      "id": "12df513c-5e94-4830-9d5e-30ee99f0858f",
      "metadata": {
        "id": "12df513c-5e94-4830-9d5e-30ee99f0858f"
      },
      "source": [
        "데이터 처리가 더 어려워질것. 단일 CSV파일 대신 관계형 DB의 여러 파일이.\n",
        "\n",
        "범주형 및 숫자를 넘어서는 다양한 data types.\n",
        "\n",
        "데이터 처리가 머신 러닝에서 가장 큰 bottleneck가 되는 것을 방지하기 위해 advanced tools and efficient algorithms가 필요\n",
        "\n",
        "데이터 품질에 주의. 이상치, 잘못된 측정값, 기록 오류 등\n",
        "\n",
        "eaborn, Bokeh, or matplotlib등의 시각화 도구가 도움이 될 수 있다"
      ]
    },
    {
      "cell_type": "markdown",
      "id": "1b508091-12e8-4994-949d-b1c09fb7c95a",
      "metadata": {
        "id": "1b508091-12e8-4994-949d-b1c09fb7c95a"
      },
      "source": [
        "### 2.2.5.exercises\n",
        "\n",
        "1. Try loading datasets, e.g., Abalone from the UCI Machine Learning Repository and inspect their properties. What fraction of them has missing values? What fraction of the variables is numerical, categorical, or text?\n",
        "\n",
        "-> url 연결 페이지가 not found나옵니다"
      ]
    },
    {
      "cell_type": "markdown",
      "id": "798db4bd-46f0-4fff-8224-5be3a8e56102",
      "metadata": {
        "id": "798db4bd-46f0-4fff-8224-5be3a8e56102"
      },
      "source": [
        "2. Try indexing and selecting data columns by name rather than by column number. The pandas documentation on indexing has further details on how to do this."
      ]
    },
    {
      "cell_type": "code",
      "execution_count": 38,
      "id": "f6f297ac-83f4-4466-a9a0-a93613d8c5cf",
      "metadata": {
        "id": "f6f297ac-83f4-4466-a9a0-a93613d8c5cf",
        "outputId": "132edeca-7a7e-4a4e-95fa-e5e593d537a3",
        "colab": {
          "base_uri": "https://localhost:8080/"
        }
      },
      "outputs": [
        {
          "output_type": "stream",
          "name": "stdout",
          "text": [
            "   NumRooms RoofType   Price\n",
            "0       NaN      NaN  127500\n",
            "1       2.0      NaN  106000\n",
            "2       4.0    Slate  178100\n",
            "3       NaN      NaN  140000\n"
          ]
        }
      ],
      "source": [
        "print(data)"
      ]
    },
    {
      "cell_type": "code",
      "execution_count": 39,
      "id": "6ef4bf19-c577-44bf-90f1-0f6a7ca4506c",
      "metadata": {
        "id": "6ef4bf19-c577-44bf-90f1-0f6a7ca4506c",
        "outputId": "cfcad7a4-4051-402e-8c5b-71446a22054d",
        "colab": {
          "base_uri": "https://localhost:8080/"
        }
      },
      "outputs": [
        {
          "output_type": "stream",
          "name": "stdout",
          "text": [
            "NumRooms:\n",
            " 0    NaN\n",
            "1    2.0\n",
            "2    4.0\n",
            "3    NaN\n",
            "Name: NumRooms, dtype: float64\n",
            "RoofType:\n",
            " 0      NaN\n",
            "1      NaN\n",
            "2    Slate\n",
            "3      NaN\n",
            "Name: RoofType, dtype: object\n",
            "Price:\n",
            " 0    127500\n",
            "1    106000\n",
            "2    178100\n",
            "3    140000\n",
            "Name: Price, dtype: int64\n"
          ]
        }
      ],
      "source": [
        "numRooms = data['NumRooms']\n",
        "roofType = data['RoofType']\n",
        "price = data['Price']\n",
        "\n",
        "print(\"NumRooms:\\n\", numRooms)\n",
        "print(\"RoofType:\\n\", roofType)\n",
        "print(\"Price:\\n\", price)"
      ]
    },
    {
      "cell_type": "markdown",
      "id": "4dbec231-4e80-4a5f-ad45-6ed9766646b4",
      "metadata": {
        "id": "4dbec231-4e80-4a5f-ad45-6ed9766646b4"
      },
      "source": [
        "3. How large a dataset do you think you could load this way? What might be the limitations? Hint: consider the time to read the data, representation, processing, and memory footprint. Try this out on your laptop. What happens if you try it out on a server?\n",
        "\n",
        "-> 데이터가 너무 크면 load하고 처리하는데 시간이 너무 오래 걸리고, 데이터를 저장할 메모리 공간도 부족해진다. 또한 Pandas는 데이터를 data frame형태로 저장하는데, 이는 문자열 데이터 보다 더 많은 메모리 공간을 차지한다. 노트북 사양에 따라 다르겠지만 일반적으로 노트북보다는 서버가 더 많은 RAM이 있기 때문에 서버에서 큰 데이터를 다루는 것이 더 좋다고 생각한다."
      ]
    },
    {
      "cell_type": "markdown",
      "id": "79170bbf-ea4d-4a75-bd87-83f57d6de406",
      "metadata": {
        "id": "79170bbf-ea4d-4a75-bd87-83f57d6de406"
      },
      "source": [
        "4. How would you deal with data that has a very large number of categories? What if the category labels are all unique? Should you include the latter?\n",
        "\n",
        "-> 카테고리가 매우 많다면 비슷한 카테고리를 하나로 묶던지 아니면 자주 나오지 않는 카테고리는 drop하거나 '그 외'등 하나로 묶을 수 있을 것 같다. 또한 PCA등의 기법을 사용해서 카테고리 차원을 축소시킬 수 있다.\n",
        "\n",
        "카테고리 label들이 모두 unique하다면 모든 카테고리를 커버하는것은 너무 많기도하고 질 좋은 결과가 나오지 않을 것이기 때문에 자주나오거나 결과에 영향이 있을만큼 데이터가 많은 카테고리 위위주로 선별해야할 것 같다."
      ]
    },
    {
      "cell_type": "markdown",
      "id": "22350cc3-d899-46c2-8f27-d6b77d3fbee2",
      "metadata": {
        "id": "22350cc3-d899-46c2-8f27-d6b77d3fbee2"
      },
      "source": [
        "5. What alternatives to pandas can you think of? How about loading NumPy tensors from a file? Check out Pillow, the Python Imaging Library.\n",
        "\n",
        "-> numpy는 배열기반의 데이터를 처리하기에 좋은 라이브러리다.\n",
        "\n",
        "   Pillow는 python imaging library로, 이미지 처리하기 좋은 라이브러리다."
      ]
    },
    {
      "cell_type": "code",
      "source": [],
      "metadata": {
        "id": "adKHmwoix6-p"
      },
      "id": "adKHmwoix6-p",
      "execution_count": null,
      "outputs": []
    },
    {
      "cell_type": "code",
      "execution_count": null,
      "metadata": {
        "outputId": "29824be8-1601-4332-f130-271d33db639a",
        "id": "oRb3yD-yx7NQ"
      },
      "outputs": [
        {
          "name": "stdout",
          "output_type": "stream",
          "text": [
            "[[1 2 3]\n",
            " [4 5 6]]\n"
          ]
        }
      ],
      "source": [
        "import numpy as np\n",
        "\n",
        "pra25 = np.array([[7, 49, 63], [3, 9, 27]])\n",
        "np.save('pra25.npy', data)\n",
        "\n",
        "loaded_pra = np.load('pra25.npy')\n",
        "print(loaded_pra)"
      ],
      "id": "oRb3yD-yx7NQ"
    },
    {
      "cell_type": "markdown",
      "id": "2e9af9de-e32f-46e2-8916-bf1e3cb7a63f",
      "metadata": {
        "id": "2e9af9de-e32f-46e2-8916-bf1e3cb7a63f"
      },
      "source": [
        "### discussions or takeaway messages\n",
        "\n",
        "1. pandas로 데이터 load하는 것은 꽤 해봐서 익숙함\n",
        "\n",
        "2. RoofType : NaN값을 하나의 범주로 취급하여 결측치를 처리\n",
        "\n",
        "\tRoofType가 Slate인 경우: RoofType_Slate는 1, RoofType_nan은 0\n",
        "\n",
        "\tRoofType가 NaN인 경우: RoofType_Slate는 0, RoofType_nan은 1\n",
        "\n",
        "    -> 결측치를 단순히 버리는게 아니라 결측치 정보로 다룰 수 있게 함!\n",
        "\n",
        "3. 결측치 종류에는 무엇이?\n",
        "\n",
        "   \n",
        "\tA) Missing completely at random (MCAR) - 완전 무작위 결측\n",
        "\n",
        "\n",
        "   :입력값 누락, 전산 오류 등 결측치 발생이 데이터와 상관 없음\n",
        "\n",
        "\n",
        "\tB) Missing at random (MAR) - 무작위 결측\n",
        "\n",
        "\t:결측치가 있을 확률이 관측된 데이터에 따라 다름. 결측값의 발생이 특정 변수와 관련이 있으나 얻고자 하는 결과와는 상관이 없을 경우\n",
        "\n",
        "\n",
        "\tC) Not missing at random (NMAR) - 비무작위 결측\n",
        "\n",
        "\t:결측값 발생이 다른 변수와 상관 있음\n",
        "\n",
        "5. 결측치 처리 방법\n",
        "\n",
        "   \n",
        "\t삭제 / 대체(평균값, 중간값, 최빈값 등) / 모델기반대체(KNN, ML, 회귀, RandomForest 등)\n",
        "\n",
        "\n"
      ]
    },
    {
      "cell_type": "markdown",
      "id": "ee1ff56e-885d-4010-9d0f-51599f2da91d",
      "metadata": {
        "id": "ee1ff56e-885d-4010-9d0f-51599f2da91d"
      },
      "source": [
        "## 2.3.Linear Algebra"
      ]
    },
    {
      "cell_type": "code",
      "execution_count": 41,
      "id": "74a7a65e-58a3-41c0-b69e-94654e6d2ab2",
      "metadata": {
        "id": "74a7a65e-58a3-41c0-b69e-94654e6d2ab2"
      },
      "outputs": [],
      "source": [
        "import torch"
      ]
    },
    {
      "cell_type": "markdown",
      "id": "4159f9cb-79e1-4b8a-93fe-77f1d4ffe080",
      "metadata": {
        "id": "4159f9cb-79e1-4b8a-93fe-77f1d4ffe080"
      },
      "source": [
        "### 2.3.1.scalars"
      ]
    },
    {
      "cell_type": "code",
      "execution_count": 42,
      "id": "f5b29499-2d31-4bca-8776-ff825eb557f3",
      "metadata": {
        "id": "f5b29499-2d31-4bca-8776-ff825eb557f3",
        "outputId": "df6a5f66-45cc-4a81-a814-df89387d8762",
        "colab": {
          "base_uri": "https://localhost:8080/"
        }
      },
      "outputs": [
        {
          "output_type": "execute_result",
          "data": {
            "text/plain": [
              "(tensor(5.), tensor(6.), tensor(1.5000), tensor(9.))"
            ]
          },
          "metadata": {},
          "execution_count": 42
        }
      ],
      "source": [
        "x = torch.tensor(3.0)\n",
        "y = torch.tensor(2.0)\n",
        "\n",
        "x + y, x * y, x / y, x**y"
      ]
    },
    {
      "cell_type": "markdown",
      "id": "6da58e71-9a0d-4737-8dbe-e5a00c54bc0c",
      "metadata": {
        "id": "6da58e71-9a0d-4737-8dbe-e5a00c54bc0c"
      },
      "source": [
        "### 2.3.2.vectors"
      ]
    },
    {
      "cell_type": "code",
      "execution_count": 43,
      "id": "dfeb5c85-a070-4d34-930c-f055c2c82555",
      "metadata": {
        "id": "dfeb5c85-a070-4d34-930c-f055c2c82555",
        "outputId": "5a1a917b-6b9f-4563-b015-f2be40b886dd",
        "colab": {
          "base_uri": "https://localhost:8080/"
        }
      },
      "outputs": [
        {
          "output_type": "execute_result",
          "data": {
            "text/plain": [
              "tensor([0, 1, 2])"
            ]
          },
          "metadata": {},
          "execution_count": 43
        }
      ],
      "source": [
        "x = torch.arange(3)\n",
        "x"
      ]
    },
    {
      "cell_type": "code",
      "execution_count": 44,
      "id": "b275e56d-2ad6-4a91-95f5-90c471d6dbd5",
      "metadata": {
        "id": "b275e56d-2ad6-4a91-95f5-90c471d6dbd5",
        "outputId": "e0c51988-6206-47c9-c67f-1b358f3ec1c0",
        "colab": {
          "base_uri": "https://localhost:8080/"
        }
      },
      "outputs": [
        {
          "output_type": "execute_result",
          "data": {
            "text/plain": [
              "tensor(2)"
            ]
          },
          "metadata": {},
          "execution_count": 44
        }
      ],
      "source": [
        "x[2]\n",
        "#tensor의 세번째 element에 접근 -> tensor(2) : 세번째 element는 tensor 형태로 저장된 숫자 2다."
      ]
    },
    {
      "cell_type": "code",
      "execution_count": 45,
      "id": "d53f9338-4781-45e9-b6aa-9b12afd41494",
      "metadata": {
        "id": "d53f9338-4781-45e9-b6aa-9b12afd41494",
        "outputId": "7b03d6bb-38db-46b6-f8d4-fa3a6989f0d7",
        "colab": {
          "base_uri": "https://localhost:8080/"
        }
      },
      "outputs": [
        {
          "output_type": "execute_result",
          "data": {
            "text/plain": [
              "3"
            ]
          },
          "metadata": {},
          "execution_count": 45
        }
      ],
      "source": [
        "len(x) #길이"
      ]
    },
    {
      "cell_type": "code",
      "execution_count": 46,
      "id": "4cea221d-f77c-43de-8cc7-88c9542bb55e",
      "metadata": {
        "id": "4cea221d-f77c-43de-8cc7-88c9542bb55e",
        "outputId": "7adbfb1e-7cec-4f8b-bb53-2c4d2229ec1e",
        "colab": {
          "base_uri": "https://localhost:8080/"
        }
      },
      "outputs": [
        {
          "output_type": "execute_result",
          "data": {
            "text/plain": [
              "torch.Size([3])"
            ]
          },
          "metadata": {},
          "execution_count": 46
        }
      ],
      "source": [
        "x.shape #차원"
      ]
    },
    {
      "cell_type": "markdown",
      "id": "2906ff0b-5138-4480-94c0-45e55d87f160",
      "metadata": {
        "id": "2906ff0b-5138-4480-94c0-45e55d87f160"
      },
      "source": [
        "### 2.3.3.matrices"
      ]
    },
    {
      "cell_type": "code",
      "execution_count": 47,
      "id": "fbbbb5f1-ae62-4963-8ec6-8bfb162d416d",
      "metadata": {
        "id": "fbbbb5f1-ae62-4963-8ec6-8bfb162d416d",
        "outputId": "8ca59fac-ee68-403d-cfc6-bd2d68d1bf66",
        "colab": {
          "base_uri": "https://localhost:8080/"
        }
      },
      "outputs": [
        {
          "output_type": "execute_result",
          "data": {
            "text/plain": [
              "tensor([[0, 1],\n",
              "        [2, 3],\n",
              "        [4, 5]])"
            ]
          },
          "metadata": {},
          "execution_count": 47
        }
      ],
      "source": [
        "A = torch.arange(6).reshape(3, 2)\n",
        "A"
      ]
    },
    {
      "cell_type": "code",
      "execution_count": 48,
      "id": "e8b17fad-4c56-4010-9beb-2f0794dca08d",
      "metadata": {
        "id": "e8b17fad-4c56-4010-9beb-2f0794dca08d",
        "outputId": "6b34c8a8-e4db-4547-f0b2-dbfc1f409a4c",
        "colab": {
          "base_uri": "https://localhost:8080/"
        }
      },
      "outputs": [
        {
          "output_type": "execute_result",
          "data": {
            "text/plain": [
              "tensor([[0, 2, 4],\n",
              "        [1, 3, 5]])"
            ]
          },
          "metadata": {},
          "execution_count": 48
        }
      ],
      "source": [
        "A.T"
      ]
    },
    {
      "cell_type": "code",
      "execution_count": 49,
      "id": "37cae0d7-ee84-4794-95ce-e33a1d24593e",
      "metadata": {
        "id": "37cae0d7-ee84-4794-95ce-e33a1d24593e",
        "outputId": "5f4b0b02-e315-42c6-c38c-32a60a7f1ae3",
        "colab": {
          "base_uri": "https://localhost:8080/"
        }
      },
      "outputs": [
        {
          "output_type": "execute_result",
          "data": {
            "text/plain": [
              "tensor([[True, True, True],\n",
              "        [True, True, True],\n",
              "        [True, True, True]])"
            ]
          },
          "metadata": {},
          "execution_count": 49
        }
      ],
      "source": [
        "A = torch.tensor([[1, 2, 3], [2, 0, 4], [3, 4, 5]])\n",
        "A == A.T #대칭인지 확인"
      ]
    },
    {
      "cell_type": "markdown",
      "id": "4f195637-d329-4114-99f5-2c25e3ca3863",
      "metadata": {
        "id": "4f195637-d329-4114-99f5-2c25e3ca3863"
      },
      "source": [
        "### 2.3.4.tensors\n",
        "\n",
        "tensor는 n차원 array를 표현하는 일반적인 방법\n",
        "\n",
        "이미지 작업에도 중요. 각 이미지 : 높이, 넓이, channel에 해당하는 축으로 tensor 정렬."
      ]
    },
    {
      "cell_type": "code",
      "execution_count": 50,
      "id": "07210111-8551-4a25-bc47-65d525f339c8",
      "metadata": {
        "id": "07210111-8551-4a25-bc47-65d525f339c8",
        "outputId": "8924588f-f805-49f6-bab4-d876b0de5022",
        "colab": {
          "base_uri": "https://localhost:8080/"
        }
      },
      "outputs": [
        {
          "output_type": "execute_result",
          "data": {
            "text/plain": [
              "tensor([[[ 0,  1,  2,  3],\n",
              "         [ 4,  5,  6,  7],\n",
              "         [ 8,  9, 10, 11]],\n",
              "\n",
              "        [[12, 13, 14, 15],\n",
              "         [16, 17, 18, 19],\n",
              "         [20, 21, 22, 23]]])"
            ]
          },
          "metadata": {},
          "execution_count": 50
        }
      ],
      "source": [
        "torch.arange(24).reshape(2, 3, 4)"
      ]
    },
    {
      "cell_type": "markdown",
      "id": "7ee6bdf9-8bfb-45b2-84f8-a202b034695c",
      "metadata": {
        "id": "7ee6bdf9-8bfb-45b2-84f8-a202b034695c"
      },
      "source": [
        "### 2.3.5.basic properties of tensor arithmetic"
      ]
    },
    {
      "cell_type": "code",
      "execution_count": 51,
      "id": "d9509b4b-84eb-46f0-90a1-77be5085c3b3",
      "metadata": {
        "id": "d9509b4b-84eb-46f0-90a1-77be5085c3b3",
        "outputId": "58bd320f-4e42-4c47-ff8b-c2709605c11d",
        "colab": {
          "base_uri": "https://localhost:8080/"
        }
      },
      "outputs": [
        {
          "output_type": "execute_result",
          "data": {
            "text/plain": [
              "(tensor([[0., 1., 2.],\n",
              "         [3., 4., 5.]]),\n",
              " tensor([[ 0.,  2.,  4.],\n",
              "         [ 6.,  8., 10.]]))"
            ]
          },
          "metadata": {},
          "execution_count": 51
        }
      ],
      "source": [
        "A = torch.arange(6, dtype=torch.float32).reshape(2, 3)\n",
        "B =A.clone()\n",
        "A, A + B"
      ]
    },
    {
      "cell_type": "code",
      "execution_count": 52,
      "id": "881ad2fb-ab44-42a3-9fc0-544935d5baf6",
      "metadata": {
        "id": "881ad2fb-ab44-42a3-9fc0-544935d5baf6",
        "outputId": "07e93e65-8f09-4c44-b085-f5b0642a6904",
        "colab": {
          "base_uri": "https://localhost:8080/"
        }
      },
      "outputs": [
        {
          "output_type": "execute_result",
          "data": {
            "text/plain": [
              "tensor([[ 0.,  1.,  4.],\n",
              "        [ 9., 16., 25.]])"
            ]
          },
          "metadata": {},
          "execution_count": 52
        }
      ],
      "source": [
        "A * B"
      ]
    },
    {
      "cell_type": "code",
      "execution_count": 53,
      "id": "8c02835c-cb13-4646-9a02-b02ef535279e",
      "metadata": {
        "id": "8c02835c-cb13-4646-9a02-b02ef535279e",
        "outputId": "2c16376a-8e29-495b-c958-b94d8da129c9",
        "colab": {
          "base_uri": "https://localhost:8080/"
        }
      },
      "outputs": [
        {
          "output_type": "execute_result",
          "data": {
            "text/plain": [
              "(tensor([[[ 2,  3,  4,  5],\n",
              "          [ 6,  7,  8,  9],\n",
              "          [10, 11, 12, 13]],\n",
              " \n",
              "         [[14, 15, 16, 17],\n",
              "          [18, 19, 20, 21],\n",
              "          [22, 23, 24, 25]]]),\n",
              " torch.Size([2, 3, 4]))"
            ]
          },
          "metadata": {},
          "execution_count": 53
        }
      ],
      "source": [
        "a = 2\n",
        "X = torch.arange(24).reshape(2, 3, 4)\n",
        "a + X, (a * X).shape"
      ]
    },
    {
      "cell_type": "markdown",
      "id": "36464ca4-fe5a-4d06-97ef-cc3f47571db7",
      "metadata": {
        "id": "36464ca4-fe5a-4d06-97ef-cc3f47571db7"
      },
      "source": [
        "### 2.3.6.reduction"
      ]
    },
    {
      "cell_type": "code",
      "execution_count": 54,
      "id": "0b3a90a4-0657-4abb-9a92-50429781f9bf",
      "metadata": {
        "id": "0b3a90a4-0657-4abb-9a92-50429781f9bf",
        "outputId": "1076910d-ec9c-4d94-ee87-2bdfde204058",
        "colab": {
          "base_uri": "https://localhost:8080/"
        }
      },
      "outputs": [
        {
          "output_type": "execute_result",
          "data": {
            "text/plain": [
              "(tensor([0., 1., 2.]), tensor(3.))"
            ]
          },
          "metadata": {},
          "execution_count": 54
        }
      ],
      "source": [
        "x = torch.arange(3, dtype=torch.float32)\n",
        "x, x.sum()"
      ]
    },
    {
      "cell_type": "code",
      "execution_count": 55,
      "id": "196b6299-6fdb-4676-9682-677bb14970dd",
      "metadata": {
        "id": "196b6299-6fdb-4676-9682-677bb14970dd",
        "outputId": "5a043e1b-b90b-45ee-f40c-2db7804854d2",
        "colab": {
          "base_uri": "https://localhost:8080/"
        }
      },
      "outputs": [
        {
          "output_type": "execute_result",
          "data": {
            "text/plain": [
              "(torch.Size([2, 3]), tensor(15.))"
            ]
          },
          "metadata": {},
          "execution_count": 55
        }
      ],
      "source": [
        "A.shape, A.sum()"
      ]
    },
    {
      "cell_type": "markdown",
      "id": "04986f15-6b32-4922-9972-c512ae1570bd",
      "metadata": {
        "id": "04986f15-6b32-4922-9972-c512ae1570bd"
      },
      "source": [
        "sum function -> 모든 축을 따라 tensor가 감소해서 결국 scala로 만들어짐.\n",
        "\n",
        "라이브러리를 사용하여 tensor를 축소해야하는 축을 지정할 수 있다. 아래의 예시.\n",
        "\n",
        "axis=0(행) , 1(열)"
      ]
    },
    {
      "cell_type": "code",
      "execution_count": 56,
      "id": "613498d3-85dc-4423-8282-a52cdd141203",
      "metadata": {
        "id": "613498d3-85dc-4423-8282-a52cdd141203",
        "outputId": "56bf7964-17c8-4d9b-e227-3d553138e4c5",
        "colab": {
          "base_uri": "https://localhost:8080/"
        }
      },
      "outputs": [
        {
          "output_type": "execute_result",
          "data": {
            "text/plain": [
              "(torch.Size([2, 3]), torch.Size([3]))"
            ]
          },
          "metadata": {},
          "execution_count": 56
        }
      ],
      "source": [
        "A.shape, A.sum(axis=0).shape #축소해야하는 축 지정. axis=0 : 첫번째 축(행)을 기준으로."
      ]
    },
    {
      "cell_type": "code",
      "execution_count": 57,
      "id": "f175d3d7-f3b8-421b-b07a-7165452c26d8",
      "metadata": {
        "id": "f175d3d7-f3b8-421b-b07a-7165452c26d8",
        "outputId": "c8164664-5bbb-48ab-9315-ddddc2133952",
        "colab": {
          "base_uri": "https://localhost:8080/"
        }
      },
      "outputs": [
        {
          "output_type": "execute_result",
          "data": {
            "text/plain": [
              "(torch.Size([2, 3]), torch.Size([2]))"
            ]
          },
          "metadata": {},
          "execution_count": 57
        }
      ],
      "source": [
        "A.shape, A.sum(axis=1).shape #축소해야하는 축 지정. axis=1 : 첫번째 축(열)을 기준으로."
      ]
    },
    {
      "cell_type": "code",
      "execution_count": 58,
      "id": "7466e80d-8a75-46bd-aa16-8288f265c831",
      "metadata": {
        "id": "7466e80d-8a75-46bd-aa16-8288f265c831",
        "outputId": "c7ee447b-09de-4d42-b02f-4af11c1a0aa0",
        "colab": {
          "base_uri": "https://localhost:8080/"
        }
      },
      "outputs": [
        {
          "output_type": "execute_result",
          "data": {
            "text/plain": [
              "tensor(True)"
            ]
          },
          "metadata": {},
          "execution_count": 58
        }
      ],
      "source": [
        "A.sum(axis=[0, 1]) == A.sum()\n",
        "#행과 열을 모두 기준으로 합침. A는 2차원이므로 걍 다 합치겠다는말...! sum과 같은 기능을 한다~"
      ]
    },
    {
      "cell_type": "code",
      "execution_count": 59,
      "id": "605a6860-cb48-4b90-a6dc-e2ddf05ac107",
      "metadata": {
        "id": "605a6860-cb48-4b90-a6dc-e2ddf05ac107",
        "outputId": "b4db5a7c-94c3-4bdd-943b-c306be49fd58",
        "colab": {
          "base_uri": "https://localhost:8080/"
        }
      },
      "outputs": [
        {
          "output_type": "execute_result",
          "data": {
            "text/plain": [
              "tensor(15.)"
            ]
          },
          "metadata": {},
          "execution_count": 59
        }
      ],
      "source": [
        "A.sum(axis=[0, 1])"
      ]
    },
    {
      "cell_type": "code",
      "execution_count": 60,
      "id": "cd3b5087-478f-4b92-a28c-14746134651e",
      "metadata": {
        "id": "cd3b5087-478f-4b92-a28c-14746134651e",
        "outputId": "8c20ab9c-6876-45fc-9e9d-373dcf88c3d5",
        "colab": {
          "base_uri": "https://localhost:8080/"
        }
      },
      "outputs": [
        {
          "output_type": "execute_result",
          "data": {
            "text/plain": [
              "tensor(15.)"
            ]
          },
          "metadata": {},
          "execution_count": 60
        }
      ],
      "source": [
        "A.sum()"
      ]
    },
    {
      "cell_type": "code",
      "execution_count": 61,
      "id": "cf6676ab-74e0-4ab5-94e8-fb9fc2d0b6a3",
      "metadata": {
        "id": "cf6676ab-74e0-4ab5-94e8-fb9fc2d0b6a3",
        "outputId": "5ab6d8e7-3168-43c4-e96e-fe2499ae8e50",
        "colab": {
          "base_uri": "https://localhost:8080/"
        }
      },
      "outputs": [
        {
          "output_type": "execute_result",
          "data": {
            "text/plain": [
              "(tensor(2.5000), tensor(2.5000))"
            ]
          },
          "metadata": {},
          "execution_count": 61
        }
      ],
      "source": [
        "A.mean(), A.sum() / A.numel() #numel은 element의 개수!"
      ]
    },
    {
      "cell_type": "code",
      "execution_count": 62,
      "id": "202c4f3c-3fe7-4bc2-851c-a05592cb6e6c",
      "metadata": {
        "id": "202c4f3c-3fe7-4bc2-851c-a05592cb6e6c",
        "outputId": "5c1c4124-6539-4eb5-f72a-a94771ba7c9a",
        "colab": {
          "base_uri": "https://localhost:8080/"
        }
      },
      "outputs": [
        {
          "output_type": "execute_result",
          "data": {
            "text/plain": [
              "(tensor([1.5000, 2.5000, 3.5000]), tensor([1.5000, 2.5000, 3.5000]))"
            ]
          },
          "metadata": {},
          "execution_count": 62
        }
      ],
      "source": [
        "A.mean(axis=0), A.sum(axis=0) / A.shape[0]"
      ]
    },
    {
      "cell_type": "markdown",
      "id": "c9d1b02e-efe3-4bb0-a8ec-f97c3bffddb5",
      "metadata": {
        "id": "c9d1b02e-efe3-4bb0-a8ec-f97c3bffddb5"
      },
      "source": [
        "### 2.3.7.non-reduction sum\n",
        "\n",
        "sum이나 mean계산시에 axes의 수를 유지하는게 좋을 때가 있음,\n",
        "\n",
        "특히 broadcast에서."
      ]
    },
    {
      "cell_type": "code",
      "execution_count": 63,
      "id": "675a507a-2b85-43d9-92d0-0d60fcb2ddb6",
      "metadata": {
        "id": "675a507a-2b85-43d9-92d0-0d60fcb2ddb6",
        "outputId": "346aabbb-3566-4407-f732-3e5a9eb16e9b",
        "colab": {
          "base_uri": "https://localhost:8080/"
        }
      },
      "outputs": [
        {
          "output_type": "execute_result",
          "data": {
            "text/plain": [
              "(tensor([[ 3.],\n",
              "         [12.]]),\n",
              " torch.Size([2, 1]))"
            ]
          },
          "metadata": {},
          "execution_count": 63
        }
      ],
      "source": [
        "sum_A = A.sum(axis=1, keepdims=True) #keepdims=True\n",
        "sum_A, sum_A.shape"
      ]
    },
    {
      "cell_type": "code",
      "execution_count": 64,
      "id": "af9e5520-3c59-4ad0-9b01-756efb7041d9",
      "metadata": {
        "id": "af9e5520-3c59-4ad0-9b01-756efb7041d9",
        "outputId": "7975ea48-85c0-43d0-8713-70fbb04bc131",
        "colab": {
          "base_uri": "https://localhost:8080/"
        }
      },
      "outputs": [
        {
          "output_type": "execute_result",
          "data": {
            "text/plain": [
              "tensor([[0.0000, 0.3333, 0.6667],\n",
              "        [0.2500, 0.3333, 0.4167]])"
            ]
          },
          "metadata": {},
          "execution_count": 64
        }
      ],
      "source": [
        "A / sum_A"
      ]
    },
    {
      "cell_type": "code",
      "execution_count": 65,
      "id": "c61b5c07-b11e-4c5c-98de-1d2a33437c3f",
      "metadata": {
        "id": "c61b5c07-b11e-4c5c-98de-1d2a33437c3f",
        "outputId": "e8022cb4-5699-4cfd-f80a-1e9ca34e6c1e",
        "colab": {
          "base_uri": "https://localhost:8080/"
        }
      },
      "outputs": [
        {
          "output_type": "execute_result",
          "data": {
            "text/plain": [
              "tensor([[0., 1., 2.],\n",
              "        [3., 5., 7.]])"
            ]
          },
          "metadata": {},
          "execution_count": 65
        }
      ],
      "source": [
        "A.cumsum(axis=0)"
      ]
    },
    {
      "cell_type": "markdown",
      "id": "6bc98102-4de2-45b1-9e5a-0135b3be6f55",
      "metadata": {
        "id": "6bc98102-4de2-45b1-9e5a-0135b3be6f55"
      },
      "source": [
        "### 2.3.8.dot products\n",
        "\n",
        "내적!"
      ]
    },
    {
      "cell_type": "code",
      "execution_count": 66,
      "id": "6989e485-b4dc-4851-b32c-111b1ebd2310",
      "metadata": {
        "id": "6989e485-b4dc-4851-b32c-111b1ebd2310",
        "outputId": "75700b69-8207-445c-88a3-d9e1843ed392",
        "colab": {
          "base_uri": "https://localhost:8080/"
        }
      },
      "outputs": [
        {
          "output_type": "execute_result",
          "data": {
            "text/plain": [
              "(tensor([0., 1., 2.]), tensor([1., 1., 1.]), tensor(3.))"
            ]
          },
          "metadata": {},
          "execution_count": 66
        }
      ],
      "source": [
        "y = torch.ones(3, dtype = torch.float32)\n",
        "x, y, torch.dot(x, y)"
      ]
    },
    {
      "cell_type": "code",
      "execution_count": 67,
      "id": "4b4fee6e-8f57-44c4-9df0-96b34a27ed00",
      "metadata": {
        "id": "4b4fee6e-8f57-44c4-9df0-96b34a27ed00",
        "outputId": "d623b092-4e88-47f7-9e76-e5b865e6fde6",
        "colab": {
          "base_uri": "https://localhost:8080/"
        }
      },
      "outputs": [
        {
          "output_type": "execute_result",
          "data": {
            "text/plain": [
              "tensor(3.)"
            ]
          },
          "metadata": {},
          "execution_count": 67
        }
      ],
      "source": [
        "torch.sum(x * y)"
      ]
    },
    {
      "cell_type": "markdown",
      "id": "71d9502c-6899-409f-909c-71b1cf591211",
      "metadata": {
        "id": "71d9502c-6899-409f-909c-71b1cf591211"
      },
      "source": [
        "### 2.3.9.martix-vector products"
      ]
    },
    {
      "cell_type": "code",
      "execution_count": 68,
      "id": "71c7c38b-2bc6-4b0c-816f-70b39686d7c7",
      "metadata": {
        "id": "71c7c38b-2bc6-4b0c-816f-70b39686d7c7",
        "outputId": "f05aab90-cd99-453a-eb76-60a594cde269",
        "colab": {
          "base_uri": "https://localhost:8080/"
        }
      },
      "outputs": [
        {
          "output_type": "execute_result",
          "data": {
            "text/plain": [
              "(torch.Size([2, 3]), torch.Size([3]), tensor([ 5., 14.]), tensor([ 5., 14.]))"
            ]
          },
          "metadata": {},
          "execution_count": 68
        }
      ],
      "source": [
        "A.shape, x.shape, torch.mv(A, x), A@x\n",
        "\n",
        "#torch.mv(A, x) : 행렬곱 계산. 행렬A와 벡터x의 내적을 계산한 벡터값 (행렬,벡터)\n",
        "#A @ x : 행렬곱 계산의 다른 방식."
      ]
    },
    {
      "cell_type": "markdown",
      "id": "9c8a9b77-1158-44ce-8c26-99258bf56ddd",
      "metadata": {
        "id": "9c8a9b77-1158-44ce-8c26-99258bf56ddd"
      },
      "source": [
        "### 2.3.10.matrix-matrix multiplication"
      ]
    },
    {
      "cell_type": "code",
      "execution_count": 69,
      "id": "637b0260-3433-41d2-a3c6-3bb058daf661",
      "metadata": {
        "id": "637b0260-3433-41d2-a3c6-3bb058daf661",
        "outputId": "1d16baff-9a5b-4f64-ccbf-f389296dd760",
        "colab": {
          "base_uri": "https://localhost:8080/"
        }
      },
      "outputs": [
        {
          "output_type": "execute_result",
          "data": {
            "text/plain": [
              "(tensor([[ 3.,  3.,  3.,  3.],\n",
              "         [12., 12., 12., 12.]]),\n",
              " tensor([[ 3.,  3.,  3.,  3.],\n",
              "         [12., 12., 12., 12.]]))"
            ]
          },
          "metadata": {},
          "execution_count": 69
        }
      ],
      "source": [
        "B = torch.ones(3, 4)\n",
        "torch.mm(A, B), A@B\n",
        "\n",
        "#torch.mm(A, B) : 행렬 곱 계산.(행렬,행렬)"
      ]
    },
    {
      "cell_type": "markdown",
      "id": "7903cfda-ee52-4d4f-bdd7-ef1e66219677",
      "metadata": {
        "id": "7903cfda-ee52-4d4f-bdd7-ef1e66219677"
      },
      "source": [
        "### 2.3.11.norms\n",
        "\n",
        "벡터의 크기\n",
        "\n",
        "벡터를 스칼라에 mapping하고 세가지 속성을 충족\n",
        " 1. ||ax|| = ||a||||x||\n",
        " 2. ||x+y||<=||x||+||y||\n",
        " 3. ||x||>0 for all x!=0"
      ]
    },
    {
      "cell_type": "code",
      "execution_count": 70,
      "id": "1883ef89-3666-4c8c-b57d-79ecfb6ca014",
      "metadata": {
        "id": "1883ef89-3666-4c8c-b57d-79ecfb6ca014",
        "outputId": "1fffe5fd-5ca9-4afc-cdae-54767ee985ef",
        "colab": {
          "base_uri": "https://localhost:8080/"
        }
      },
      "outputs": [
        {
          "output_type": "execute_result",
          "data": {
            "text/plain": [
              "tensor(5.)"
            ]
          },
          "metadata": {},
          "execution_count": 70
        }
      ],
      "source": [
        "u = torch.tensor([3.0, -4.0])\n",
        "torch.norm(u)"
      ]
    },
    {
      "cell_type": "code",
      "execution_count": 71,
      "id": "3f050f92-3eec-4917-aa29-f37adb040d20",
      "metadata": {
        "id": "3f050f92-3eec-4917-aa29-f37adb040d20",
        "outputId": "1c481afd-7ef1-4ecb-c0ad-f6e9a6865d90",
        "colab": {
          "base_uri": "https://localhost:8080/"
        }
      },
      "outputs": [
        {
          "output_type": "execute_result",
          "data": {
            "text/plain": [
              "tensor(7.)"
            ]
          },
          "metadata": {},
          "execution_count": 71
        }
      ],
      "source": [
        "torch.abs(u).sum()\n",
        "\n",
        "#torch.abs(u) : tensor u의 각 element의 절대값"
      ]
    },
    {
      "cell_type": "code",
      "execution_count": 72,
      "id": "28ada158-1c68-42bb-8938-2785aaad1dc5",
      "metadata": {
        "id": "28ada158-1c68-42bb-8938-2785aaad1dc5",
        "outputId": "d597906b-e4d8-4dec-abbb-08e93d50eccd",
        "colab": {
          "base_uri": "https://localhost:8080/"
        }
      },
      "outputs": [
        {
          "output_type": "execute_result",
          "data": {
            "text/plain": [
              "tensor(6.)"
            ]
          },
          "metadata": {},
          "execution_count": 72
        }
      ],
      "source": [
        "torch.norm(torch.ones((4, 9)))\n",
        "\n",
        "#4*9 모두 1로 이루어진 행렬.\n",
        "#전체 크기 = 루트(1+1+..+1) = 루트(36) = 6"
      ]
    },
    {
      "cell_type": "markdown",
      "id": "4e790214-4086-45fb-8fa6-4821ec500a8c",
      "metadata": {
        "id": "4e790214-4086-45fb-8fa6-4821ec500a8c"
      },
      "source": [
        "### 2.3.12.discussion\n",
        "\n",
        "Scalars, vectors, matrices, and tensors는 각각 0,1,2,n개의 축을 갖는다\n",
        "\n",
        "tensor은 indexing, sum, mean등의 연산으로 axis를 따라 자르거나 줄일 수 있다\n",
        "\n",
        "Elementwise products are called Hadamard products\n",
        "\n",
        "dot products, matrix–vector products, and matrix–matrix products are not elementwise operations\n",
        "\n",
        "Hadmard products보다 matrix-matrix product가 계산 시간이 오래 걸린다\n"
      ]
    },
    {
      "cell_type": "markdown",
      "id": "a91eff02-f989-4cbb-ac82-91edb3b1c052",
      "metadata": {
        "id": "a91eff02-f989-4cbb-ac82-91edb3b1c052"
      },
      "source": [
        "### discussions or takeaway messages\n",
        "\n",
        "1. 선형대수\n",
        "\n",
        "2. tensor를 사용해서 축을 따라 자르거나 줄일 수 있다.\n",
        "\n",
        "3. 축 지정도 가능 : axis=0(행) , 1(열)\n",
        "\n",
        "4. broadcast에서는 축의 수를 유지하는게 좋을 수 있음\n",
        "\n",
        "5. torch.mv(A,x) : 행렬A와 벡터x의 행렬곱 계산 / A@x로 도 가능\n",
        "\n",
        "6. torch.mm(A, B) : 행렬A와 행렬B의 행렬곱 계산 / A@B도 가능"
      ]
    },
    {
      "cell_type": "markdown",
      "id": "ee7a3a3a-01ba-4784-9f46-8674d4326bf2",
      "metadata": {
        "id": "ee7a3a3a-01ba-4784-9f46-8674d4326bf2"
      },
      "source": [
        "## 2.5.Automatic Differentiation"
      ]
    },
    {
      "cell_type": "code",
      "execution_count": 73,
      "id": "969b6c25-89a4-4d4d-8e10-c261893ba1bb",
      "metadata": {
        "id": "969b6c25-89a4-4d4d-8e10-c261893ba1bb"
      },
      "outputs": [],
      "source": [
        "import torch"
      ]
    },
    {
      "cell_type": "markdown",
      "id": "5d7ea93c-0b4f-4a2f-b03a-981c35a0d30e",
      "metadata": {
        "id": "5d7ea93c-0b4f-4a2f-b03a-981c35a0d30e"
      },
      "source": [
        "### 2.5.1.a simple function\n",
        "\n",
        "differentiatiog the function y=2(x^T)x"
      ]
    },
    {
      "cell_type": "code",
      "execution_count": 74,
      "id": "573899fe-83d1-46aa-9bdb-ba350c1c3ae4",
      "metadata": {
        "id": "573899fe-83d1-46aa-9bdb-ba350c1c3ae4",
        "outputId": "96c489b1-2a35-490e-9596-6beb3f15f6b0",
        "colab": {
          "base_uri": "https://localhost:8080/"
        }
      },
      "outputs": [
        {
          "output_type": "execute_result",
          "data": {
            "text/plain": [
              "tensor([0., 1., 2., 3.])"
            ]
          },
          "metadata": {},
          "execution_count": 74
        }
      ],
      "source": [
        "x = torch.arange(4.0)\n",
        "x"
      ]
    },
    {
      "cell_type": "markdown",
      "id": "3ec8166e-9f46-4adc-bbc1-205265817a22",
      "metadata": {
        "id": "3ec8166e-9f46-4adc-bbc1-205265817a22"
      },
      "source": [
        "변수 y에 대해 x미분을 하기 전에 저장할 공간이 필요함 -> 새로운 메모리 할당은 피해 -> y에 저장할께"
      ]
    },
    {
      "cell_type": "code",
      "execution_count": 75,
      "id": "ae28f488-141d-4eed-b924-0f704ec22d83",
      "metadata": {
        "id": "ae28f488-141d-4eed-b924-0f704ec22d83"
      },
      "outputs": [],
      "source": [
        "x.requires_grad_(True)\n",
        "x.grad  # 기본적으로 gradient는 none임"
      ]
    },
    {
      "cell_type": "code",
      "execution_count": 76,
      "id": "f0df0c1d-d8ce-4b63-8aad-5ac0744dd558",
      "metadata": {
        "id": "f0df0c1d-d8ce-4b63-8aad-5ac0744dd558",
        "outputId": "36de6995-2a18-448a-dc4e-0ab5bb19b49f",
        "colab": {
          "base_uri": "https://localhost:8080/"
        }
      },
      "outputs": [
        {
          "output_type": "execute_result",
          "data": {
            "text/plain": [
              "tensor(28., grad_fn=<MulBackward0>)"
            ]
          },
          "metadata": {},
          "execution_count": 76
        }
      ],
      "source": [
        "y = 2 * torch.dot(x, x) #x내적x = 1 + 4 + 9 = 14 -*2-> 28\n",
        "y"
      ]
    },
    {
      "cell_type": "markdown",
      "id": "1de4c887-8453-4c25-97c7-08a0cf915f6a",
      "metadata": {
        "id": "1de4c887-8453-4c25-97c7-08a0cf915f6a"
      },
      "source": [
        "backward method를 통해 x에 대한 y의 gradient를 구함."
      ]
    },
    {
      "cell_type": "code",
      "execution_count": 77,
      "id": "c7b5a425-f547-445a-8e42-8d19d816144d",
      "metadata": {
        "id": "c7b5a425-f547-445a-8e42-8d19d816144d",
        "outputId": "18879e86-b994-4fdd-9b0d-d2d8dfe6be55",
        "colab": {
          "base_uri": "https://localhost:8080/"
        }
      },
      "outputs": [
        {
          "output_type": "execute_result",
          "data": {
            "text/plain": [
              "tensor([ 0.,  4.,  8., 12.])"
            ]
          },
          "metadata": {},
          "execution_count": 77
        }
      ],
      "source": [
        "y.backward()\n",
        "x.grad"
      ]
    },
    {
      "cell_type": "markdown",
      "id": "b09d67e3-b18a-405f-8f26-1768e88314a0",
      "metadata": {
        "id": "b09d67e3-b18a-405f-8f26-1768e88314a0"
      },
      "source": [
        "-> 이거 계산을 어떻게 아는거?\n",
        ": PyTorch가 연산 그래프를 추적하여 어떤 게산이 이루어졌는지 알고 있어서 그걸 바탕으로 미분을 계산한다고 함!\n",
        "\n",
        "2x^2의 미분 = 4x = [0,4,8,12]"
      ]
    },
    {
      "cell_type": "code",
      "execution_count": 78,
      "id": "3130ca08-61b7-4e9d-bc52-1c62efe60fe9",
      "metadata": {
        "id": "3130ca08-61b7-4e9d-bc52-1c62efe60fe9",
        "outputId": "b9d579e4-093f-4de0-cc75-d121851fd1ed",
        "colab": {
          "base_uri": "https://localhost:8080/"
        }
      },
      "outputs": [
        {
          "output_type": "execute_result",
          "data": {
            "text/plain": [
              "tensor([True, True, True, True])"
            ]
          },
          "metadata": {},
          "execution_count": 78
        }
      ],
      "source": [
        "x.grad == 4 * x"
      ]
    },
    {
      "cell_type": "code",
      "execution_count": 79,
      "id": "6b0c6328-e9c6-495e-9aa1-cc5b5a384a58",
      "metadata": {
        "id": "6b0c6328-e9c6-495e-9aa1-cc5b5a384a58",
        "outputId": "6e2afdad-4366-4c40-db03-4d4ce0d2ba48",
        "colab": {
          "base_uri": "https://localhost:8080/"
        }
      },
      "outputs": [
        {
          "output_type": "execute_result",
          "data": {
            "text/plain": [
              "tensor([1., 1., 1., 1.])"
            ]
          },
          "metadata": {},
          "execution_count": 79
        }
      ],
      "source": [
        "x.grad.zero_()\n",
        "y = x.sum()\n",
        "y.backward()\n",
        "x.grad"
      ]
    },
    {
      "cell_type": "markdown",
      "id": "e8e879cf-3d72-46c7-a753-e2e8caa96804",
      "metadata": {
        "id": "e8e879cf-3d72-46c7-a753-e2e8caa96804"
      },
      "source": [
        "### 2.4.2.backward for non-scalar variables\n",
        "\n",
        "y가 벡터일때 벡터x에 대한 y의 도함수의 표현 => x의 각 성분에 대한 y의 각 성분의 부분 도함수를 포함하는 Jacobian\n",
        "\n",
        "Jacobian : 전체 벡터 x에 대한 y의 각 요소의 기울기를 sum up -> x와 같은 shape의 벡터를 생성"
      ]
    },
    {
      "cell_type": "code",
      "execution_count": 80,
      "id": "d473f2d5-c52b-4181-887f-3a3030f47628",
      "metadata": {
        "id": "d473f2d5-c52b-4181-887f-3a3030f47628",
        "outputId": "7896277e-c1cc-4012-b8bd-72f7956624a5",
        "colab": {
          "base_uri": "https://localhost:8080/"
        }
      },
      "outputs": [
        {
          "output_type": "execute_result",
          "data": {
            "text/plain": [
              "tensor([0., 2., 4., 6.])"
            ]
          },
          "metadata": {},
          "execution_count": 80
        }
      ],
      "source": [
        "x.grad.zero_()\n",
        "y = x * x\n",
        "y.backward(gradient=torch.ones(len(y)))  # Faster: y.sum().backward()\n",
        "#y의 각 요소의 gradient를 1로 설정 -> y.sum().backward()와 같은 효과.\n",
        "#y의 요소들을 모두 더하고, 그 sum에 대해 backward\n",
        "x.grad"
      ]
    },
    {
      "cell_type": "markdown",
      "id": "4a42ad1b-85f3-48a6-91e0-e38efd5dfa9b",
      "metadata": {
        "id": "4a42ad1b-85f3-48a6-91e0-e38efd5dfa9b"
      },
      "source": [
        "### 2.5.3.detaching computation\n",
        "\n",
        "detach() : tensor를 계산 그래프에서 분리. 그 tensor는 이제 그래프의 일부가 아니고 그에 대한 gradient가 전파되지 않음"
      ]
    },
    {
      "cell_type": "code",
      "execution_count": 81,
      "id": "e23e7924-d4c0-4b83-8868-fc78c7c93997",
      "metadata": {
        "id": "e23e7924-d4c0-4b83-8868-fc78c7c93997",
        "outputId": "6537b46e-4d3b-4697-bd8c-527f334e3943",
        "colab": {
          "base_uri": "https://localhost:8080/"
        }
      },
      "outputs": [
        {
          "output_type": "execute_result",
          "data": {
            "text/plain": [
              "tensor([True, True, True, True])"
            ]
          },
          "metadata": {},
          "execution_count": 81
        }
      ],
      "source": [
        "x.grad.zero_()\n",
        "y = x * x\n",
        "u = y.detach() #u는 y의 값을 가지지만 그래프에서 분리된 tensor!\n",
        "z = u * x\n",
        "\n",
        "z.sum().backward() #z.sum하고 backward -> 여기서 x의 gradient계산됨\n",
        "x.grad == u"
      ]
    },
    {
      "cell_type": "markdown",
      "id": "b5a9f883-2731-42dd-a999-cedd63101404",
      "metadata": {
        "id": "b5a9f883-2731-42dd-a999-cedd63101404"
      },
      "source": [
        "u는 그래프에서 분리된 tensor -> y의 기울기를 전파하지 않으며 u를 통해 x로의 gradient 전파가 이루어지지 않는다.\n",
        "\n",
        "z = u * x. u는 y의 값을 가져오지만 y의 기울기를 전파하지 않으므로 z는 x에 대한 직접적인 연산으로만 계산됨...!\n",
        "\n",
        "y=x*x로 정의된 y는 계산그래프에 남아있음. y를 생성하는 연산은 그래프에 남아 있으므로(y로 이어지는 계산그래프는 지속되므로) x에 대한 y의 기울기를 계산할 수 있음\n",
        "\n",
        "=> 간접적인 영향 없이 직접적인 연관만 고려하여 gradient 계산하기"
      ]
    },
    {
      "cell_type": "code",
      "execution_count": 82,
      "id": "d19e9ccd-27e3-4738-9e35-0ad17cf655df",
      "metadata": {
        "id": "d19e9ccd-27e3-4738-9e35-0ad17cf655df",
        "outputId": "111abf29-e319-4fd9-bd21-1700f19c4d41",
        "colab": {
          "base_uri": "https://localhost:8080/"
        }
      },
      "outputs": [
        {
          "output_type": "execute_result",
          "data": {
            "text/plain": [
              "tensor([True, True, True, True])"
            ]
          },
          "metadata": {},
          "execution_count": 82
        }
      ],
      "source": [
        "x.grad.zero_()\n",
        "y.sum().backward()\n",
        "x.grad == 2 * x"
      ]
    },
    {
      "cell_type": "markdown",
      "id": "b077d9fb-58ca-4ea2-b409-423c59dfc510",
      "metadata": {
        "id": "b077d9fb-58ca-4ea2-b409-423c59dfc510"
      },
      "source": [
        "### 2.5.4.gradients and python control flow\n",
        "\n",
        "automatic differentiation -> python control flow를 통과하는데 필요한 함수의 계산 그래프를 구축하더라도 결과 변수의 gradient를 계산할 수 있다"
      ]
    },
    {
      "cell_type": "code",
      "execution_count": 83,
      "id": "36607197-7c44-43f0-aab2-100b05b6d5de",
      "metadata": {
        "id": "36607197-7c44-43f0-aab2-100b05b6d5de"
      },
      "outputs": [],
      "source": [
        "def f(a):\n",
        "    b = a * 2\n",
        "    while b.norm() < 1000:\n",
        "        b = b * 2\n",
        "    if b.sum() > 0:\n",
        "        c = b\n",
        "    else:\n",
        "        c = 100 * b\n",
        "    return c"
      ]
    },
    {
      "cell_type": "code",
      "execution_count": 84,
      "id": "1812c071-c328-4287-b699-6e4e85668f63",
      "metadata": {
        "id": "1812c071-c328-4287-b699-6e4e85668f63"
      },
      "outputs": [],
      "source": [
        "a = torch.randn(size=(), requires_grad=True)\n",
        "d = f(a)\n",
        "d.backward()"
      ]
    },
    {
      "cell_type": "code",
      "execution_count": 85,
      "id": "d6f1f54d-10fa-4fbd-b679-d0363ac3ed55",
      "metadata": {
        "id": "d6f1f54d-10fa-4fbd-b679-d0363ac3ed55",
        "outputId": "e5c1a421-013f-4846-937d-eec9b1d2b890",
        "colab": {
          "base_uri": "https://localhost:8080/"
        }
      },
      "outputs": [
        {
          "output_type": "execute_result",
          "data": {
            "text/plain": [
              "tensor(True)"
            ]
          },
          "metadata": {},
          "execution_count": 85
        }
      ],
      "source": [
        "a.grad == d / a"
      ]
    },
    {
      "cell_type": "markdown",
      "id": "2f7cc211-8733-44e0-a660-ba903de075e7",
      "metadata": {
        "id": "2f7cc211-8733-44e0-a660-ba903de075e7"
      },
      "source": [
        "### 2.5.5.discussion\n",
        "\n",
        "automatic differentiation -> 효율적\n",
        "\n",
        "autograd to optimize models, 근데 optimization of autograd libraries도 중요함\n",
        "\n",
        "(i) attach gradients to those variables with respect to which we desire derivatives; 원하는 변수에 gradient 연결\n",
        "\n",
        "(ii) record the computation of the target value; 목표값의 계산 기록\n",
        "\n",
        "(iii) execute the backpropagation function; backpropagation 함수 실행\n",
        "\n",
        "(iv) access the resulting gradient."
      ]
    },
    {
      "cell_type": "markdown",
      "id": "a5fccd56-7dfe-4a82-8ca2-2cc9f90d413a",
      "metadata": {
        "id": "a5fccd56-7dfe-4a82-8ca2-2cc9f90d413a"
      },
      "source": [
        "### discussions or takeaway messages\n",
        "\n",
        "1. automatic differentiation 자동 미분\n",
        "\n",
        "2. detach() : tensor를 계산 그래프에서 분리. 더이상 gradient가 전파되지 않음.\n",
        "\n",
        "3. 하지만 기존의 연산은 계산 그래프에 남아있으므로 gradient를 구할 수 있다\n",
        "\n",
        "4. traget 변수에 gradient 연결 -> traget value 계산 기록 -> backpropagation -> resulting gradient.\n",
        "\n",
        "5. 사실 완벽하게 이해하진 못한 듯 하다 좀 더 공부해야겠다."
      ]
    },
    {
      "cell_type": "markdown",
      "id": "e4e740ed-66ce-4457-80ba-b6c328a7eb1d",
      "metadata": {
        "id": "e4e740ed-66ce-4457-80ba-b6c328a7eb1d"
      },
      "source": [
        "## 3.1.Linear Regression"
      ]
    },
    {
      "cell_type": "code",
      "source": [
        "pip install d2l"
      ],
      "metadata": {
        "colab": {
          "base_uri": "https://localhost:8080/",
          "height": 1000
        },
        "id": "CG1TzF9cyHVy",
        "outputId": "59e28730-a300-4891-eb74-b61aa09623d3"
      },
      "id": "CG1TzF9cyHVy",
      "execution_count": 87,
      "outputs": [
        {
          "output_type": "stream",
          "name": "stdout",
          "text": [
            "Collecting d2l\n",
            "  Downloading d2l-1.0.3-py3-none-any.whl.metadata (556 bytes)\n",
            "Collecting jupyter==1.0.0 (from d2l)\n",
            "  Downloading jupyter-1.0.0-py2.py3-none-any.whl.metadata (995 bytes)\n",
            "Collecting numpy==1.23.5 (from d2l)\n",
            "  Downloading numpy-1.23.5-cp310-cp310-manylinux_2_17_x86_64.manylinux2014_x86_64.whl.metadata (2.3 kB)\n",
            "Collecting matplotlib==3.7.2 (from d2l)\n",
            "  Downloading matplotlib-3.7.2-cp310-cp310-manylinux_2_17_x86_64.manylinux2014_x86_64.whl.metadata (5.6 kB)\n",
            "Collecting matplotlib-inline==0.1.6 (from d2l)\n",
            "  Downloading matplotlib_inline-0.1.6-py3-none-any.whl.metadata (2.8 kB)\n",
            "Collecting requests==2.31.0 (from d2l)\n",
            "  Downloading requests-2.31.0-py3-none-any.whl.metadata (4.6 kB)\n",
            "Collecting pandas==2.0.3 (from d2l)\n",
            "  Downloading pandas-2.0.3-cp310-cp310-manylinux_2_17_x86_64.manylinux2014_x86_64.whl.metadata (18 kB)\n",
            "Collecting scipy==1.10.1 (from d2l)\n",
            "  Downloading scipy-1.10.1-cp310-cp310-manylinux_2_17_x86_64.manylinux2014_x86_64.whl.metadata (58 kB)\n",
            "\u001b[2K     \u001b[90m━━━━━━━━━━━━━━━━━━━━━━━━━━━━━━━━━━━━━━━━\u001b[0m \u001b[32m58.9/58.9 kB\u001b[0m \u001b[31m2.5 MB/s\u001b[0m eta \u001b[36m0:00:00\u001b[0m\n",
            "\u001b[?25hRequirement already satisfied: notebook in /usr/local/lib/python3.10/dist-packages (from jupyter==1.0.0->d2l) (6.5.5)\n",
            "Collecting qtconsole (from jupyter==1.0.0->d2l)\n",
            "  Downloading qtconsole-5.6.0-py3-none-any.whl.metadata (5.0 kB)\n",
            "Requirement already satisfied: jupyter-console in /usr/local/lib/python3.10/dist-packages (from jupyter==1.0.0->d2l) (6.1.0)\n",
            "Requirement already satisfied: nbconvert in /usr/local/lib/python3.10/dist-packages (from jupyter==1.0.0->d2l) (6.5.4)\n",
            "Requirement already satisfied: ipykernel in /usr/local/lib/python3.10/dist-packages (from jupyter==1.0.0->d2l) (5.5.6)\n",
            "Requirement already satisfied: ipywidgets in /usr/local/lib/python3.10/dist-packages (from jupyter==1.0.0->d2l) (7.7.1)\n",
            "Requirement already satisfied: contourpy>=1.0.1 in /usr/local/lib/python3.10/dist-packages (from matplotlib==3.7.2->d2l) (1.3.0)\n",
            "Requirement already satisfied: cycler>=0.10 in /usr/local/lib/python3.10/dist-packages (from matplotlib==3.7.2->d2l) (0.12.1)\n",
            "Requirement already satisfied: fonttools>=4.22.0 in /usr/local/lib/python3.10/dist-packages (from matplotlib==3.7.2->d2l) (4.53.1)\n",
            "Requirement already satisfied: kiwisolver>=1.0.1 in /usr/local/lib/python3.10/dist-packages (from matplotlib==3.7.2->d2l) (1.4.7)\n",
            "Requirement already satisfied: packaging>=20.0 in /usr/local/lib/python3.10/dist-packages (from matplotlib==3.7.2->d2l) (24.1)\n",
            "Requirement already satisfied: pillow>=6.2.0 in /usr/local/lib/python3.10/dist-packages (from matplotlib==3.7.2->d2l) (10.4.0)\n",
            "Collecting pyparsing<3.1,>=2.3.1 (from matplotlib==3.7.2->d2l)\n",
            "  Downloading pyparsing-3.0.9-py3-none-any.whl.metadata (4.2 kB)\n",
            "Requirement already satisfied: python-dateutil>=2.7 in /usr/local/lib/python3.10/dist-packages (from matplotlib==3.7.2->d2l) (2.8.2)\n",
            "Requirement already satisfied: traitlets in /usr/local/lib/python3.10/dist-packages (from matplotlib-inline==0.1.6->d2l) (5.7.1)\n",
            "Requirement already satisfied: pytz>=2020.1 in /usr/local/lib/python3.10/dist-packages (from pandas==2.0.3->d2l) (2024.2)\n",
            "Requirement already satisfied: tzdata>=2022.1 in /usr/local/lib/python3.10/dist-packages (from pandas==2.0.3->d2l) (2024.1)\n",
            "Requirement already satisfied: charset-normalizer<4,>=2 in /usr/local/lib/python3.10/dist-packages (from requests==2.31.0->d2l) (3.3.2)\n",
            "Requirement already satisfied: idna<4,>=2.5 in /usr/local/lib/python3.10/dist-packages (from requests==2.31.0->d2l) (3.10)\n",
            "Requirement already satisfied: urllib3<3,>=1.21.1 in /usr/local/lib/python3.10/dist-packages (from requests==2.31.0->d2l) (2.2.3)\n",
            "Requirement already satisfied: certifi>=2017.4.17 in /usr/local/lib/python3.10/dist-packages (from requests==2.31.0->d2l) (2024.8.30)\n",
            "Requirement already satisfied: six>=1.5 in /usr/local/lib/python3.10/dist-packages (from python-dateutil>=2.7->matplotlib==3.7.2->d2l) (1.16.0)\n",
            "Requirement already satisfied: ipython-genutils in /usr/local/lib/python3.10/dist-packages (from ipykernel->jupyter==1.0.0->d2l) (0.2.0)\n",
            "Requirement already satisfied: ipython>=5.0.0 in /usr/local/lib/python3.10/dist-packages (from ipykernel->jupyter==1.0.0->d2l) (7.34.0)\n",
            "Requirement already satisfied: jupyter-client in /usr/local/lib/python3.10/dist-packages (from ipykernel->jupyter==1.0.0->d2l) (6.1.12)\n",
            "Requirement already satisfied: tornado>=4.2 in /usr/local/lib/python3.10/dist-packages (from ipykernel->jupyter==1.0.0->d2l) (6.3.3)\n",
            "Requirement already satisfied: widgetsnbextension~=3.6.0 in /usr/local/lib/python3.10/dist-packages (from ipywidgets->jupyter==1.0.0->d2l) (3.6.9)\n",
            "Requirement already satisfied: jupyterlab-widgets>=1.0.0 in /usr/local/lib/python3.10/dist-packages (from ipywidgets->jupyter==1.0.0->d2l) (3.0.13)\n",
            "Requirement already satisfied: prompt-toolkit!=3.0.0,!=3.0.1,<3.1.0,>=2.0.0 in /usr/local/lib/python3.10/dist-packages (from jupyter-console->jupyter==1.0.0->d2l) (3.0.47)\n",
            "Requirement already satisfied: pygments in /usr/local/lib/python3.10/dist-packages (from jupyter-console->jupyter==1.0.0->d2l) (2.18.0)\n",
            "Requirement already satisfied: lxml in /usr/local/lib/python3.10/dist-packages (from nbconvert->jupyter==1.0.0->d2l) (4.9.4)\n",
            "Requirement already satisfied: beautifulsoup4 in /usr/local/lib/python3.10/dist-packages (from nbconvert->jupyter==1.0.0->d2l) (4.12.3)\n",
            "Requirement already satisfied: bleach in /usr/local/lib/python3.10/dist-packages (from nbconvert->jupyter==1.0.0->d2l) (6.1.0)\n",
            "Requirement already satisfied: defusedxml in /usr/local/lib/python3.10/dist-packages (from nbconvert->jupyter==1.0.0->d2l) (0.7.1)\n",
            "Requirement already satisfied: entrypoints>=0.2.2 in /usr/local/lib/python3.10/dist-packages (from nbconvert->jupyter==1.0.0->d2l) (0.4)\n",
            "Requirement already satisfied: jinja2>=3.0 in /usr/local/lib/python3.10/dist-packages (from nbconvert->jupyter==1.0.0->d2l) (3.1.4)\n",
            "Requirement already satisfied: jupyter-core>=4.7 in /usr/local/lib/python3.10/dist-packages (from nbconvert->jupyter==1.0.0->d2l) (5.7.2)\n",
            "Requirement already satisfied: jupyterlab-pygments in /usr/local/lib/python3.10/dist-packages (from nbconvert->jupyter==1.0.0->d2l) (0.3.0)\n",
            "Requirement already satisfied: MarkupSafe>=2.0 in /usr/local/lib/python3.10/dist-packages (from nbconvert->jupyter==1.0.0->d2l) (2.1.5)\n",
            "Requirement already satisfied: mistune<2,>=0.8.1 in /usr/local/lib/python3.10/dist-packages (from nbconvert->jupyter==1.0.0->d2l) (0.8.4)\n",
            "Requirement already satisfied: nbclient>=0.5.0 in /usr/local/lib/python3.10/dist-packages (from nbconvert->jupyter==1.0.0->d2l) (0.10.0)\n",
            "Requirement already satisfied: nbformat>=5.1 in /usr/local/lib/python3.10/dist-packages (from nbconvert->jupyter==1.0.0->d2l) (5.10.4)\n",
            "Requirement already satisfied: pandocfilters>=1.4.1 in /usr/local/lib/python3.10/dist-packages (from nbconvert->jupyter==1.0.0->d2l) (1.5.1)\n",
            "Requirement already satisfied: tinycss2 in /usr/local/lib/python3.10/dist-packages (from nbconvert->jupyter==1.0.0->d2l) (1.3.0)\n",
            "Requirement already satisfied: pyzmq<25,>=17 in /usr/local/lib/python3.10/dist-packages (from notebook->jupyter==1.0.0->d2l) (24.0.1)\n",
            "Requirement already satisfied: argon2-cffi in /usr/local/lib/python3.10/dist-packages (from notebook->jupyter==1.0.0->d2l) (23.1.0)\n",
            "Requirement already satisfied: nest-asyncio>=1.5 in /usr/local/lib/python3.10/dist-packages (from notebook->jupyter==1.0.0->d2l) (1.6.0)\n",
            "Requirement already satisfied: Send2Trash>=1.8.0 in /usr/local/lib/python3.10/dist-packages (from notebook->jupyter==1.0.0->d2l) (1.8.3)\n",
            "Requirement already satisfied: terminado>=0.8.3 in /usr/local/lib/python3.10/dist-packages (from notebook->jupyter==1.0.0->d2l) (0.18.1)\n",
            "Requirement already satisfied: prometheus-client in /usr/local/lib/python3.10/dist-packages (from notebook->jupyter==1.0.0->d2l) (0.20.0)\n",
            "Requirement already satisfied: nbclassic>=0.4.7 in /usr/local/lib/python3.10/dist-packages (from notebook->jupyter==1.0.0->d2l) (1.1.0)\n",
            "Collecting qtpy>=2.4.0 (from qtconsole->jupyter==1.0.0->d2l)\n",
            "  Downloading QtPy-2.4.1-py3-none-any.whl.metadata (12 kB)\n",
            "Requirement already satisfied: setuptools>=18.5 in /usr/local/lib/python3.10/dist-packages (from ipython>=5.0.0->ipykernel->jupyter==1.0.0->d2l) (71.0.4)\n",
            "Collecting jedi>=0.16 (from ipython>=5.0.0->ipykernel->jupyter==1.0.0->d2l)\n",
            "  Using cached jedi-0.19.1-py2.py3-none-any.whl.metadata (22 kB)\n",
            "Requirement already satisfied: decorator in /usr/local/lib/python3.10/dist-packages (from ipython>=5.0.0->ipykernel->jupyter==1.0.0->d2l) (4.4.2)\n",
            "Requirement already satisfied: pickleshare in /usr/local/lib/python3.10/dist-packages (from ipython>=5.0.0->ipykernel->jupyter==1.0.0->d2l) (0.7.5)\n",
            "Requirement already satisfied: backcall in /usr/local/lib/python3.10/dist-packages (from ipython>=5.0.0->ipykernel->jupyter==1.0.0->d2l) (0.2.0)\n",
            "Requirement already satisfied: pexpect>4.3 in /usr/local/lib/python3.10/dist-packages (from ipython>=5.0.0->ipykernel->jupyter==1.0.0->d2l) (4.9.0)\n",
            "Requirement already satisfied: platformdirs>=2.5 in /usr/local/lib/python3.10/dist-packages (from jupyter-core>=4.7->nbconvert->jupyter==1.0.0->d2l) (4.3.6)\n",
            "Requirement already satisfied: notebook-shim>=0.2.3 in /usr/local/lib/python3.10/dist-packages (from nbclassic>=0.4.7->notebook->jupyter==1.0.0->d2l) (0.2.4)\n",
            "Requirement already satisfied: fastjsonschema>=2.15 in /usr/local/lib/python3.10/dist-packages (from nbformat>=5.1->nbconvert->jupyter==1.0.0->d2l) (2.20.0)\n",
            "Requirement already satisfied: jsonschema>=2.6 in /usr/local/lib/python3.10/dist-packages (from nbformat>=5.1->nbconvert->jupyter==1.0.0->d2l) (4.23.0)\n",
            "Requirement already satisfied: wcwidth in /usr/local/lib/python3.10/dist-packages (from prompt-toolkit!=3.0.0,!=3.0.1,<3.1.0,>=2.0.0->jupyter-console->jupyter==1.0.0->d2l) (0.2.13)\n",
            "Requirement already satisfied: ptyprocess in /usr/local/lib/python3.10/dist-packages (from terminado>=0.8.3->notebook->jupyter==1.0.0->d2l) (0.7.0)\n",
            "Requirement already satisfied: argon2-cffi-bindings in /usr/local/lib/python3.10/dist-packages (from argon2-cffi->notebook->jupyter==1.0.0->d2l) (21.2.0)\n",
            "Requirement already satisfied: soupsieve>1.2 in /usr/local/lib/python3.10/dist-packages (from beautifulsoup4->nbconvert->jupyter==1.0.0->d2l) (2.6)\n",
            "Requirement already satisfied: webencodings in /usr/local/lib/python3.10/dist-packages (from bleach->nbconvert->jupyter==1.0.0->d2l) (0.5.1)\n",
            "Requirement already satisfied: parso<0.9.0,>=0.8.3 in /usr/local/lib/python3.10/dist-packages (from jedi>=0.16->ipython>=5.0.0->ipykernel->jupyter==1.0.0->d2l) (0.8.4)\n",
            "Requirement already satisfied: attrs>=22.2.0 in /usr/local/lib/python3.10/dist-packages (from jsonschema>=2.6->nbformat>=5.1->nbconvert->jupyter==1.0.0->d2l) (24.2.0)\n",
            "Requirement already satisfied: jsonschema-specifications>=2023.03.6 in /usr/local/lib/python3.10/dist-packages (from jsonschema>=2.6->nbformat>=5.1->nbconvert->jupyter==1.0.0->d2l) (2023.12.1)\n",
            "Requirement already satisfied: referencing>=0.28.4 in /usr/local/lib/python3.10/dist-packages (from jsonschema>=2.6->nbformat>=5.1->nbconvert->jupyter==1.0.0->d2l) (0.35.1)\n",
            "Requirement already satisfied: rpds-py>=0.7.1 in /usr/local/lib/python3.10/dist-packages (from jsonschema>=2.6->nbformat>=5.1->nbconvert->jupyter==1.0.0->d2l) (0.20.0)\n",
            "Requirement already satisfied: jupyter-server<3,>=1.8 in /usr/local/lib/python3.10/dist-packages (from notebook-shim>=0.2.3->nbclassic>=0.4.7->notebook->jupyter==1.0.0->d2l) (1.24.0)\n",
            "Requirement already satisfied: cffi>=1.0.1 in /usr/local/lib/python3.10/dist-packages (from argon2-cffi-bindings->argon2-cffi->notebook->jupyter==1.0.0->d2l) (1.17.1)\n",
            "Requirement already satisfied: pycparser in /usr/local/lib/python3.10/dist-packages (from cffi>=1.0.1->argon2-cffi-bindings->argon2-cffi->notebook->jupyter==1.0.0->d2l) (2.22)\n",
            "Requirement already satisfied: anyio<4,>=3.1.0 in /usr/local/lib/python3.10/dist-packages (from jupyter-server<3,>=1.8->notebook-shim>=0.2.3->nbclassic>=0.4.7->notebook->jupyter==1.0.0->d2l) (3.7.1)\n",
            "Requirement already satisfied: websocket-client in /usr/local/lib/python3.10/dist-packages (from jupyter-server<3,>=1.8->notebook-shim>=0.2.3->nbclassic>=0.4.7->notebook->jupyter==1.0.0->d2l) (1.8.0)\n",
            "Requirement already satisfied: sniffio>=1.1 in /usr/local/lib/python3.10/dist-packages (from anyio<4,>=3.1.0->jupyter-server<3,>=1.8->notebook-shim>=0.2.3->nbclassic>=0.4.7->notebook->jupyter==1.0.0->d2l) (1.3.1)\n",
            "Requirement already satisfied: exceptiongroup in /usr/local/lib/python3.10/dist-packages (from anyio<4,>=3.1.0->jupyter-server<3,>=1.8->notebook-shim>=0.2.3->nbclassic>=0.4.7->notebook->jupyter==1.0.0->d2l) (1.2.2)\n",
            "Downloading d2l-1.0.3-py3-none-any.whl (111 kB)\n",
            "\u001b[2K   \u001b[90m━━━━━━━━━━━━━━━━━━━━━━━━━━━━━━━━━━━━━━━━\u001b[0m \u001b[32m111.7/111.7 kB\u001b[0m \u001b[31m4.9 MB/s\u001b[0m eta \u001b[36m0:00:00\u001b[0m\n",
            "\u001b[?25hDownloading jupyter-1.0.0-py2.py3-none-any.whl (2.7 kB)\n",
            "Downloading matplotlib-3.7.2-cp310-cp310-manylinux_2_17_x86_64.manylinux2014_x86_64.whl (11.6 MB)\n",
            "\u001b[2K   \u001b[90m━━━━━━━━━━━━━━━━━━━━━━━━━━━━━━━━━━━━━━━━\u001b[0m \u001b[32m11.6/11.6 MB\u001b[0m \u001b[31m89.1 MB/s\u001b[0m eta \u001b[36m0:00:00\u001b[0m\n",
            "\u001b[?25hDownloading matplotlib_inline-0.1.6-py3-none-any.whl (9.4 kB)\n",
            "Downloading numpy-1.23.5-cp310-cp310-manylinux_2_17_x86_64.manylinux2014_x86_64.whl (17.1 MB)\n",
            "\u001b[2K   \u001b[90m━━━━━━━━━━━━━━━━━━━━━━━━━━━━━━━━━━━━━━━━\u001b[0m \u001b[32m17.1/17.1 MB\u001b[0m \u001b[31m79.3 MB/s\u001b[0m eta \u001b[36m0:00:00\u001b[0m\n",
            "\u001b[?25hDownloading pandas-2.0.3-cp310-cp310-manylinux_2_17_x86_64.manylinux2014_x86_64.whl (12.3 MB)\n",
            "\u001b[2K   \u001b[90m━━━━━━━━━━━━━━━━━━━━━━━━━━━━━━━━━━━━━━━━\u001b[0m \u001b[32m12.3/12.3 MB\u001b[0m \u001b[31m82.2 MB/s\u001b[0m eta \u001b[36m0:00:00\u001b[0m\n",
            "\u001b[?25hDownloading requests-2.31.0-py3-none-any.whl (62 kB)\n",
            "\u001b[2K   \u001b[90m━━━━━━━━━━━━━━━━━━━━━━━━━━━━━━━━━━━━━━━━\u001b[0m \u001b[32m62.6/62.6 kB\u001b[0m \u001b[31m5.0 MB/s\u001b[0m eta \u001b[36m0:00:00\u001b[0m\n",
            "\u001b[?25hDownloading scipy-1.10.1-cp310-cp310-manylinux_2_17_x86_64.manylinux2014_x86_64.whl (34.4 MB)\n",
            "\u001b[2K   \u001b[90m━━━━━━━━━━━━━━━━━━━━━━━━━━━━━━━━━━━━━━━━\u001b[0m \u001b[32m34.4/34.4 MB\u001b[0m \u001b[31m15.3 MB/s\u001b[0m eta \u001b[36m0:00:00\u001b[0m\n",
            "\u001b[?25hDownloading pyparsing-3.0.9-py3-none-any.whl (98 kB)\n",
            "\u001b[2K   \u001b[90m━━━━━━━━━━━━━━━━━━━━━━━━━━━━━━━━━━━━━━━━\u001b[0m \u001b[32m98.3/98.3 kB\u001b[0m \u001b[31m7.7 MB/s\u001b[0m eta \u001b[36m0:00:00\u001b[0m\n",
            "\u001b[?25hDownloading qtconsole-5.6.0-py3-none-any.whl (124 kB)\n",
            "\u001b[2K   \u001b[90m━━━━━━━━━━━━━━━━━━━━━━━━━━━━━━━━━━━━━━━━\u001b[0m \u001b[32m124.7/124.7 kB\u001b[0m \u001b[31m10.7 MB/s\u001b[0m eta \u001b[36m0:00:00\u001b[0m\n",
            "\u001b[?25hDownloading QtPy-2.4.1-py3-none-any.whl (93 kB)\n",
            "\u001b[2K   \u001b[90m━━━━━━━━━━━━━━━━━━━━━━━━━━━━━━━━━━━━━━━━\u001b[0m \u001b[32m93.5/93.5 kB\u001b[0m \u001b[31m7.9 MB/s\u001b[0m eta \u001b[36m0:00:00\u001b[0m\n",
            "\u001b[?25hUsing cached jedi-0.19.1-py2.py3-none-any.whl (1.6 MB)\n",
            "Installing collected packages: requests, qtpy, pyparsing, numpy, matplotlib-inline, jedi, scipy, pandas, matplotlib, qtconsole, jupyter, d2l\n",
            "  Attempting uninstall: requests\n",
            "    Found existing installation: requests 2.32.3\n",
            "    Uninstalling requests-2.32.3:\n",
            "      Successfully uninstalled requests-2.32.3\n",
            "  Attempting uninstall: pyparsing\n",
            "    Found existing installation: pyparsing 3.1.4\n",
            "    Uninstalling pyparsing-3.1.4:\n",
            "      Successfully uninstalled pyparsing-3.1.4\n",
            "  Attempting uninstall: numpy\n",
            "    Found existing installation: numpy 1.26.4\n",
            "    Uninstalling numpy-1.26.4:\n",
            "      Successfully uninstalled numpy-1.26.4\n",
            "  Attempting uninstall: matplotlib-inline\n",
            "    Found existing installation: matplotlib-inline 0.1.7\n",
            "    Uninstalling matplotlib-inline-0.1.7:\n",
            "      Successfully uninstalled matplotlib-inline-0.1.7\n",
            "  Attempting uninstall: scipy\n",
            "    Found existing installation: scipy 1.13.1\n",
            "    Uninstalling scipy-1.13.1:\n",
            "      Successfully uninstalled scipy-1.13.1\n",
            "  Attempting uninstall: pandas\n",
            "    Found existing installation: pandas 2.1.4\n",
            "    Uninstalling pandas-2.1.4:\n",
            "      Successfully uninstalled pandas-2.1.4\n",
            "  Attempting uninstall: matplotlib\n",
            "    Found existing installation: matplotlib 3.7.1\n",
            "    Uninstalling matplotlib-3.7.1:\n",
            "      Successfully uninstalled matplotlib-3.7.1\n",
            "\u001b[31mERROR: pip's dependency resolver does not currently take into account all the packages that are installed. This behaviour is the source of the following dependency conflicts.\n",
            "albucore 0.0.16 requires numpy>=1.24, but you have numpy 1.23.5 which is incompatible.\n",
            "albumentations 1.4.15 requires numpy>=1.24.4, but you have numpy 1.23.5 which is incompatible.\n",
            "bigframes 1.17.0 requires numpy>=1.24.0, but you have numpy 1.23.5 which is incompatible.\n",
            "chex 0.1.86 requires numpy>=1.24.1, but you have numpy 1.23.5 which is incompatible.\n",
            "google-colab 1.0.0 requires pandas==2.1.4, but you have pandas 2.0.3 which is incompatible.\n",
            "google-colab 1.0.0 requires requests==2.32.3, but you have requests 2.31.0 which is incompatible.\n",
            "mizani 0.11.4 requires pandas>=2.1.0, but you have pandas 2.0.3 which is incompatible.\n",
            "pandas-stubs 2.1.4.231227 requires numpy>=1.26.0; python_version < \"3.13\", but you have numpy 1.23.5 which is incompatible.\n",
            "plotnine 0.13.6 requires pandas<3.0.0,>=2.1.0, but you have pandas 2.0.3 which is incompatible.\n",
            "xarray 2024.9.0 requires numpy>=1.24, but you have numpy 1.23.5 which is incompatible.\n",
            "xarray 2024.9.0 requires pandas>=2.1, but you have pandas 2.0.3 which is incompatible.\u001b[0m\u001b[31m\n",
            "\u001b[0mSuccessfully installed d2l-1.0.3 jedi-0.19.1 jupyter-1.0.0 matplotlib-3.7.2 matplotlib-inline-0.1.6 numpy-1.23.5 pandas-2.0.3 pyparsing-3.0.9 qtconsole-5.6.0 qtpy-2.4.1 requests-2.31.0 scipy-1.10.1\n"
          ]
        },
        {
          "output_type": "display_data",
          "data": {
            "application/vnd.colab-display-data+json": {
              "pip_warning": {
                "packages": [
                  "matplotlib",
                  "matplotlib_inline",
                  "mpl_toolkits",
                  "numpy",
                  "pandas"
                ]
              },
              "id": "ca8dd5a5c2e4416b9801f146be408c03"
            }
          },
          "metadata": {}
        }
      ]
    },
    {
      "cell_type": "code",
      "execution_count": 1,
      "id": "e1c68d09-0ed9-4234-ae63-e7a1f08bc600",
      "metadata": {
        "id": "e1c68d09-0ed9-4234-ae63-e7a1f08bc600"
      },
      "outputs": [],
      "source": [
        "%matplotlib inline\n",
        "import math\n",
        "import time\n",
        "import numpy as np\n",
        "import torch\n",
        "from d2l import torch as d2l"
      ]
    },
    {
      "cell_type": "markdown",
      "id": "e7502b2e-4c7b-4a4a-af3c-cf1c15d0ca6d",
      "metadata": {
        "id": "e7502b2e-4c7b-4a4a-af3c-cf1c15d0ca6d"
      },
      "source": [
        "### 3.1.1.basics\n",
        "\n",
        "#### 3.1.1.1.model\n",
        "\n",
        "#### 3.1.1.2.loss function\n",
        "손실함수 : 실제 값과 예측 값 사이의 거리를 quantify.\n",
        "작을수록 좋음\n",
        "보통 regression 문제의 경우 loss function은 squared error.\n",
        "\n",
        "#### 3.1.1.3.analutic solution\n",
        "\n",
        "#### 3.1.1.4.minibatch stochastic gradient descent\n",
        "경사하강법의 일종ㅈ데이터셋을 여러개의 미니배치로 나눈다 -> 각 미니배치에 대해 loss function을 계산하고 기울기를 구함 -> parameter 업데이트 -> epoch하면서 업데이트를 반복\n",
        "\n",
        "#### 3.1.1.5.predictions"
      ]
    },
    {
      "cell_type": "markdown",
      "id": "d5e9af5f-014c-441a-836d-1129eff876d4",
      "metadata": {
        "id": "d5e9af5f-014c-441a-836d-1129eff876d4"
      },
      "source": [
        "### 3.1.2.vectorization for speed"
      ]
    },
    {
      "cell_type": "code",
      "execution_count": 2,
      "id": "913b4f08-84d9-4d09-8d6b-2690217799e4",
      "metadata": {
        "id": "913b4f08-84d9-4d09-8d6b-2690217799e4"
      },
      "outputs": [],
      "source": [
        "n = 10000\n",
        "a = torch.ones(n)\n",
        "b = torch.ones(n)"
      ]
    },
    {
      "cell_type": "code",
      "execution_count": 3,
      "id": "735efc09-a5f4-479f-a01f-7012c4dde846",
      "metadata": {
        "id": "735efc09-a5f4-479f-a01f-7012c4dde846",
        "outputId": "98f464b9-4583-4581-8486-9ec92671f157",
        "colab": {
          "base_uri": "https://localhost:8080/",
          "height": 35
        }
      },
      "outputs": [
        {
          "output_type": "execute_result",
          "data": {
            "text/plain": [
              "'0.41876 sec'"
            ],
            "application/vnd.google.colaboratory.intrinsic+json": {
              "type": "string"
            }
          },
          "metadata": {},
          "execution_count": 3
        }
      ],
      "source": [
        "c = torch.zeros(n)\n",
        "t = time.time()\n",
        "for i in range(n):\n",
        "    c[i] = a[i] + b[i]\n",
        "f'{time.time() - t:.5f} sec'"
      ]
    },
    {
      "cell_type": "code",
      "execution_count": 4,
      "id": "1ef64619-8e5a-445c-9b39-cc935903dc0c",
      "metadata": {
        "id": "1ef64619-8e5a-445c-9b39-cc935903dc0c",
        "outputId": "17d739b8-34bc-4db5-918d-8abdcd10b195",
        "colab": {
          "base_uri": "https://localhost:8080/",
          "height": 35
        }
      },
      "outputs": [
        {
          "output_type": "execute_result",
          "data": {
            "text/plain": [
              "'0.00027 sec'"
            ],
            "application/vnd.google.colaboratory.intrinsic+json": {
              "type": "string"
            }
          },
          "metadata": {},
          "execution_count": 4
        }
      ],
      "source": [
        "t = time.time()\n",
        "d = a + b\n",
        "f'{time.time() - t:.5f} sec'"
      ]
    },
    {
      "cell_type": "markdown",
      "id": "77894e3f-78ac-4bda-8de6-538898177ce6",
      "metadata": {
        "id": "77894e3f-78ac-4bda-8de6-538898177ce6"
      },
      "source": [
        "### 3.1.3.the normal distribution and squared loss"
      ]
    },
    {
      "cell_type": "code",
      "execution_count": 5,
      "id": "0aa4edec-3d99-487f-9276-7431db554a68",
      "metadata": {
        "id": "0aa4edec-3d99-487f-9276-7431db554a68"
      },
      "outputs": [],
      "source": [
        "def normal(x, mu, sigma):\n",
        "    p = 1 / math.sqrt(2 * math.pi * sigma**2)\n",
        "    return p * np.exp(-0.5 * (x - mu)**2 / sigma**2)"
      ]
    },
    {
      "cell_type": "code",
      "execution_count": 6,
      "id": "107dd3f0-9b6f-4d8c-948e-9156621096ce",
      "metadata": {
        "id": "107dd3f0-9b6f-4d8c-948e-9156621096ce",
        "outputId": "f816f4af-cb5b-4b88-ca73-e2b17e7d70dc",
        "colab": {
          "base_uri": "https://localhost:8080/",
          "height": 265
        }
      },
      "outputs": [
        {
          "output_type": "display_data",
          "data": {
            "text/plain": [
              "<Figure size 450x250 with 1 Axes>"
            ],
            "image/svg+xml": "<?xml version=\"1.0\" encoding=\"utf-8\" standalone=\"no\"?>\n<!DOCTYPE svg PUBLIC \"-//W3C//DTD SVG 1.1//EN\"\n  \"http://www.w3.org/Graphics/SVG/1.1/DTD/svg11.dtd\">\n<svg xmlns:xlink=\"http://www.w3.org/1999/xlink\" width=\"302.08125pt\" height=\"183.35625pt\" viewBox=\"0 0 302.08125 183.35625\" xmlns=\"http://www.w3.org/2000/svg\" version=\"1.1\">\n <metadata>\n  <rdf:RDF xmlns:dc=\"http://purl.org/dc/elements/1.1/\" xmlns:cc=\"http://creativecommons.org/ns#\" xmlns:rdf=\"http://www.w3.org/1999/02/22-rdf-syntax-ns#\">\n   <cc:Work>\n    <dc:type rdf:resource=\"http://purl.org/dc/dcmitype/StillImage\"/>\n    <dc:date>2024-09-24T02:08:46.222667</dc:date>\n    <dc:format>image/svg+xml</dc:format>\n    <dc:creator>\n     <cc:Agent>\n      <dc:title>Matplotlib v3.7.2, https://matplotlib.org/</dc:title>\n     </cc:Agent>\n    </dc:creator>\n   </cc:Work>\n  </rdf:RDF>\n </metadata>\n <defs>\n  <style type=\"text/css\">*{stroke-linejoin: round; stroke-linecap: butt}</style>\n </defs>\n <g id=\"figure_1\">\n  <g id=\"patch_1\">\n   <path d=\"M 0 183.35625 \nL 302.08125 183.35625 \nL 302.08125 0 \nL 0 0 \nz\n\" style=\"fill: #ffffff\"/>\n  </g>\n  <g id=\"axes_1\">\n   <g id=\"patch_2\">\n    <path d=\"M 43.78125 145.8 \nL 294.88125 145.8 \nL 294.88125 7.2 \nL 43.78125 7.2 \nz\n\" style=\"fill: #ffffff\"/>\n   </g>\n   <g id=\"matplotlib.axis_1\">\n    <g id=\"xtick_1\">\n     <g id=\"line2d_1\">\n      <path d=\"M 71.511736 145.8 \nL 71.511736 7.2 \n\" clip-path=\"url(#pabb3b74daa)\" style=\"fill: none; stroke: #b0b0b0; stroke-width: 0.8; stroke-linecap: square\"/>\n     </g>\n     <g id=\"line2d_2\">\n      <defs>\n       <path id=\"m063666bc74\" d=\"M 0 0 \nL 0 3.5 \n\" style=\"stroke: #000000; stroke-width: 0.8\"/>\n      </defs>\n      <g>\n       <use xlink:href=\"#m063666bc74\" x=\"71.511736\" y=\"145.8\" style=\"stroke: #000000; stroke-width: 0.8\"/>\n      </g>\n     </g>\n     <g id=\"text_1\">\n      <!-- −6 -->\n      <g transform=\"translate(64.140642 160.398438) scale(0.1 -0.1)\">\n       <defs>\n        <path id=\"DejaVuSans-2212\" d=\"M 678 2272 \nL 4684 2272 \nL 4684 1741 \nL 678 1741 \nL 678 2272 \nz\n\" transform=\"scale(0.015625)\"/>\n        <path id=\"DejaVuSans-36\" d=\"M 2113 2584 \nQ 1688 2584 1439 2293 \nQ 1191 2003 1191 1497 \nQ 1191 994 1439 701 \nQ 1688 409 2113 409 \nQ 2538 409 2786 701 \nQ 3034 994 3034 1497 \nQ 3034 2003 2786 2293 \nQ 2538 2584 2113 2584 \nz\nM 3366 4563 \nL 3366 3988 \nQ 3128 4100 2886 4159 \nQ 2644 4219 2406 4219 \nQ 1781 4219 1451 3797 \nQ 1122 3375 1075 2522 \nQ 1259 2794 1537 2939 \nQ 1816 3084 2150 3084 \nQ 2853 3084 3261 2657 \nQ 3669 2231 3669 1497 \nQ 3669 778 3244 343 \nQ 2819 -91 2113 -91 \nQ 1303 -91 875 529 \nQ 447 1150 447 2328 \nQ 447 3434 972 4092 \nQ 1497 4750 2381 4750 \nQ 2619 4750 2861 4703 \nQ 3103 4656 3366 4563 \nz\n\" transform=\"scale(0.015625)\"/>\n       </defs>\n       <use xlink:href=\"#DejaVuSans-2212\"/>\n       <use xlink:href=\"#DejaVuSans-36\" x=\"83.789062\"/>\n      </g>\n     </g>\n    </g>\n    <g id=\"xtick_2\">\n     <g id=\"line2d_3\">\n      <path d=\"M 104.145435 145.8 \nL 104.145435 7.2 \n\" clip-path=\"url(#pabb3b74daa)\" style=\"fill: none; stroke: #b0b0b0; stroke-width: 0.8; stroke-linecap: square\"/>\n     </g>\n     <g id=\"line2d_4\">\n      <g>\n       <use xlink:href=\"#m063666bc74\" x=\"104.145435\" y=\"145.8\" style=\"stroke: #000000; stroke-width: 0.8\"/>\n      </g>\n     </g>\n     <g id=\"text_2\">\n      <!-- −4 -->\n      <g transform=\"translate(96.774342 160.398438) scale(0.1 -0.1)\">\n       <defs>\n        <path id=\"DejaVuSans-34\" d=\"M 2419 4116 \nL 825 1625 \nL 2419 1625 \nL 2419 4116 \nz\nM 2253 4666 \nL 3047 4666 \nL 3047 1625 \nL 3713 1625 \nL 3713 1100 \nL 3047 1100 \nL 3047 0 \nL 2419 0 \nL 2419 1100 \nL 313 1100 \nL 313 1709 \nL 2253 4666 \nz\n\" transform=\"scale(0.015625)\"/>\n       </defs>\n       <use xlink:href=\"#DejaVuSans-2212\"/>\n       <use xlink:href=\"#DejaVuSans-34\" x=\"83.789062\"/>\n      </g>\n     </g>\n    </g>\n    <g id=\"xtick_3\">\n     <g id=\"line2d_5\">\n      <path d=\"M 136.779135 145.8 \nL 136.779135 7.2 \n\" clip-path=\"url(#pabb3b74daa)\" style=\"fill: none; stroke: #b0b0b0; stroke-width: 0.8; stroke-linecap: square\"/>\n     </g>\n     <g id=\"line2d_6\">\n      <g>\n       <use xlink:href=\"#m063666bc74\" x=\"136.779135\" y=\"145.8\" style=\"stroke: #000000; stroke-width: 0.8\"/>\n      </g>\n     </g>\n     <g id=\"text_3\">\n      <!-- −2 -->\n      <g transform=\"translate(129.408041 160.398438) scale(0.1 -0.1)\">\n       <defs>\n        <path id=\"DejaVuSans-32\" d=\"M 1228 531 \nL 3431 531 \nL 3431 0 \nL 469 0 \nL 469 531 \nQ 828 903 1448 1529 \nQ 2069 2156 2228 2338 \nQ 2531 2678 2651 2914 \nQ 2772 3150 2772 3378 \nQ 2772 3750 2511 3984 \nQ 2250 4219 1831 4219 \nQ 1534 4219 1204 4116 \nQ 875 4013 500 3803 \nL 500 4441 \nQ 881 4594 1212 4672 \nQ 1544 4750 1819 4750 \nQ 2544 4750 2975 4387 \nQ 3406 4025 3406 3419 \nQ 3406 3131 3298 2873 \nQ 3191 2616 2906 2266 \nQ 2828 2175 2409 1742 \nQ 1991 1309 1228 531 \nz\n\" transform=\"scale(0.015625)\"/>\n       </defs>\n       <use xlink:href=\"#DejaVuSans-2212\"/>\n       <use xlink:href=\"#DejaVuSans-32\" x=\"83.789062\"/>\n      </g>\n     </g>\n    </g>\n    <g id=\"xtick_4\">\n     <g id=\"line2d_7\">\n      <path d=\"M 169.412834 145.8 \nL 169.412834 7.2 \n\" clip-path=\"url(#pabb3b74daa)\" style=\"fill: none; stroke: #b0b0b0; stroke-width: 0.8; stroke-linecap: square\"/>\n     </g>\n     <g id=\"line2d_8\">\n      <g>\n       <use xlink:href=\"#m063666bc74\" x=\"169.412834\" y=\"145.8\" style=\"stroke: #000000; stroke-width: 0.8\"/>\n      </g>\n     </g>\n     <g id=\"text_4\">\n      <!-- 0 -->\n      <g transform=\"translate(166.231584 160.398438) scale(0.1 -0.1)\">\n       <defs>\n        <path id=\"DejaVuSans-30\" d=\"M 2034 4250 \nQ 1547 4250 1301 3770 \nQ 1056 3291 1056 2328 \nQ 1056 1369 1301 889 \nQ 1547 409 2034 409 \nQ 2525 409 2770 889 \nQ 3016 1369 3016 2328 \nQ 3016 3291 2770 3770 \nQ 2525 4250 2034 4250 \nz\nM 2034 4750 \nQ 2819 4750 3233 4129 \nQ 3647 3509 3647 2328 \nQ 3647 1150 3233 529 \nQ 2819 -91 2034 -91 \nQ 1250 -91 836 529 \nQ 422 1150 422 2328 \nQ 422 3509 836 4129 \nQ 1250 4750 2034 4750 \nz\n\" transform=\"scale(0.015625)\"/>\n       </defs>\n       <use xlink:href=\"#DejaVuSans-30\"/>\n      </g>\n     </g>\n    </g>\n    <g id=\"xtick_5\">\n     <g id=\"line2d_9\">\n      <path d=\"M 202.046534 145.8 \nL 202.046534 7.2 \n\" clip-path=\"url(#pabb3b74daa)\" style=\"fill: none; stroke: #b0b0b0; stroke-width: 0.8; stroke-linecap: square\"/>\n     </g>\n     <g id=\"line2d_10\">\n      <g>\n       <use xlink:href=\"#m063666bc74\" x=\"202.046534\" y=\"145.8\" style=\"stroke: #000000; stroke-width: 0.8\"/>\n      </g>\n     </g>\n     <g id=\"text_5\">\n      <!-- 2 -->\n      <g transform=\"translate(198.865284 160.398438) scale(0.1 -0.1)\">\n       <use xlink:href=\"#DejaVuSans-32\"/>\n      </g>\n     </g>\n    </g>\n    <g id=\"xtick_6\">\n     <g id=\"line2d_11\">\n      <path d=\"M 234.680233 145.8 \nL 234.680233 7.2 \n\" clip-path=\"url(#pabb3b74daa)\" style=\"fill: none; stroke: #b0b0b0; stroke-width: 0.8; stroke-linecap: square\"/>\n     </g>\n     <g id=\"line2d_12\">\n      <g>\n       <use xlink:href=\"#m063666bc74\" x=\"234.680233\" y=\"145.8\" style=\"stroke: #000000; stroke-width: 0.8\"/>\n      </g>\n     </g>\n     <g id=\"text_6\">\n      <!-- 4 -->\n      <g transform=\"translate(231.498983 160.398438) scale(0.1 -0.1)\">\n       <use xlink:href=\"#DejaVuSans-34\"/>\n      </g>\n     </g>\n    </g>\n    <g id=\"xtick_7\">\n     <g id=\"line2d_13\">\n      <path d=\"M 267.313932 145.8 \nL 267.313932 7.2 \n\" clip-path=\"url(#pabb3b74daa)\" style=\"fill: none; stroke: #b0b0b0; stroke-width: 0.8; stroke-linecap: square\"/>\n     </g>\n     <g id=\"line2d_14\">\n      <g>\n       <use xlink:href=\"#m063666bc74\" x=\"267.313932\" y=\"145.8\" style=\"stroke: #000000; stroke-width: 0.8\"/>\n      </g>\n     </g>\n     <g id=\"text_7\">\n      <!-- 6 -->\n      <g transform=\"translate(264.132682 160.398438) scale(0.1 -0.1)\">\n       <use xlink:href=\"#DejaVuSans-36\"/>\n      </g>\n     </g>\n    </g>\n    <g id=\"text_8\">\n     <!-- x -->\n     <g transform=\"translate(166.371875 174.076563) scale(0.1 -0.1)\">\n      <defs>\n       <path id=\"DejaVuSans-78\" d=\"M 3513 3500 \nL 2247 1797 \nL 3578 0 \nL 2900 0 \nL 1881 1375 \nL 863 0 \nL 184 0 \nL 1544 1831 \nL 300 3500 \nL 978 3500 \nL 1906 2253 \nL 2834 3500 \nL 3513 3500 \nz\n\" transform=\"scale(0.015625)\"/>\n      </defs>\n      <use xlink:href=\"#DejaVuSans-78\"/>\n     </g>\n    </g>\n   </g>\n   <g id=\"matplotlib.axis_2\">\n    <g id=\"ytick_1\">\n     <g id=\"line2d_15\">\n      <path d=\"M 43.78125 139.5 \nL 294.88125 139.5 \n\" clip-path=\"url(#pabb3b74daa)\" style=\"fill: none; stroke: #b0b0b0; stroke-width: 0.8; stroke-linecap: square\"/>\n     </g>\n     <g id=\"line2d_16\">\n      <defs>\n       <path id=\"mc30785a6fa\" d=\"M 0 0 \nL -3.5 0 \n\" style=\"stroke: #000000; stroke-width: 0.8\"/>\n      </defs>\n      <g>\n       <use xlink:href=\"#mc30785a6fa\" x=\"43.78125\" y=\"139.5\" style=\"stroke: #000000; stroke-width: 0.8\"/>\n      </g>\n     </g>\n     <g id=\"text_9\">\n      <!-- 0.0 -->\n      <g transform=\"translate(20.878125 143.299219) scale(0.1 -0.1)\">\n       <defs>\n        <path id=\"DejaVuSans-2e\" d=\"M 684 794 \nL 1344 794 \nL 1344 0 \nL 684 0 \nL 684 794 \nz\n\" transform=\"scale(0.015625)\"/>\n       </defs>\n       <use xlink:href=\"#DejaVuSans-30\"/>\n       <use xlink:href=\"#DejaVuSans-2e\" x=\"63.623047\"/>\n       <use xlink:href=\"#DejaVuSans-30\" x=\"95.410156\"/>\n      </g>\n     </g>\n    </g>\n    <g id=\"ytick_2\">\n     <g id=\"line2d_17\">\n      <path d=\"M 43.78125 107.916484 \nL 294.88125 107.916484 \n\" clip-path=\"url(#pabb3b74daa)\" style=\"fill: none; stroke: #b0b0b0; stroke-width: 0.8; stroke-linecap: square\"/>\n     </g>\n     <g id=\"line2d_18\">\n      <g>\n       <use xlink:href=\"#mc30785a6fa\" x=\"43.78125\" y=\"107.916484\" style=\"stroke: #000000; stroke-width: 0.8\"/>\n      </g>\n     </g>\n     <g id=\"text_10\">\n      <!-- 0.1 -->\n      <g transform=\"translate(20.878125 111.715702) scale(0.1 -0.1)\">\n       <defs>\n        <path id=\"DejaVuSans-31\" d=\"M 794 531 \nL 1825 531 \nL 1825 4091 \nL 703 3866 \nL 703 4441 \nL 1819 4666 \nL 2450 4666 \nL 2450 531 \nL 3481 531 \nL 3481 0 \nL 794 0 \nL 794 531 \nz\n\" transform=\"scale(0.015625)\"/>\n       </defs>\n       <use xlink:href=\"#DejaVuSans-30\"/>\n       <use xlink:href=\"#DejaVuSans-2e\" x=\"63.623047\"/>\n       <use xlink:href=\"#DejaVuSans-31\" x=\"95.410156\"/>\n      </g>\n     </g>\n    </g>\n    <g id=\"ytick_3\">\n     <g id=\"line2d_19\">\n      <path d=\"M 43.78125 76.332967 \nL 294.88125 76.332967 \n\" clip-path=\"url(#pabb3b74daa)\" style=\"fill: none; stroke: #b0b0b0; stroke-width: 0.8; stroke-linecap: square\"/>\n     </g>\n     <g id=\"line2d_20\">\n      <g>\n       <use xlink:href=\"#mc30785a6fa\" x=\"43.78125\" y=\"76.332967\" style=\"stroke: #000000; stroke-width: 0.8\"/>\n      </g>\n     </g>\n     <g id=\"text_11\">\n      <!-- 0.2 -->\n      <g transform=\"translate(20.878125 80.132186) scale(0.1 -0.1)\">\n       <use xlink:href=\"#DejaVuSans-30\"/>\n       <use xlink:href=\"#DejaVuSans-2e\" x=\"63.623047\"/>\n       <use xlink:href=\"#DejaVuSans-32\" x=\"95.410156\"/>\n      </g>\n     </g>\n    </g>\n    <g id=\"ytick_4\">\n     <g id=\"line2d_21\">\n      <path d=\"M 43.78125 44.749451 \nL 294.88125 44.749451 \n\" clip-path=\"url(#pabb3b74daa)\" style=\"fill: none; stroke: #b0b0b0; stroke-width: 0.8; stroke-linecap: square\"/>\n     </g>\n     <g id=\"line2d_22\">\n      <g>\n       <use xlink:href=\"#mc30785a6fa\" x=\"43.78125\" y=\"44.749451\" style=\"stroke: #000000; stroke-width: 0.8\"/>\n      </g>\n     </g>\n     <g id=\"text_12\">\n      <!-- 0.3 -->\n      <g transform=\"translate(20.878125 48.54867) scale(0.1 -0.1)\">\n       <defs>\n        <path id=\"DejaVuSans-33\" d=\"M 2597 2516 \nQ 3050 2419 3304 2112 \nQ 3559 1806 3559 1356 \nQ 3559 666 3084 287 \nQ 2609 -91 1734 -91 \nQ 1441 -91 1130 -33 \nQ 819 25 488 141 \nL 488 750 \nQ 750 597 1062 519 \nQ 1375 441 1716 441 \nQ 2309 441 2620 675 \nQ 2931 909 2931 1356 \nQ 2931 1769 2642 2001 \nQ 2353 2234 1838 2234 \nL 1294 2234 \nL 1294 2753 \nL 1863 2753 \nQ 2328 2753 2575 2939 \nQ 2822 3125 2822 3475 \nQ 2822 3834 2567 4026 \nQ 2313 4219 1838 4219 \nQ 1578 4219 1281 4162 \nQ 984 4106 628 3988 \nL 628 4550 \nQ 988 4650 1302 4700 \nQ 1616 4750 1894 4750 \nQ 2613 4750 3031 4423 \nQ 3450 4097 3450 3541 \nQ 3450 3153 3228 2886 \nQ 3006 2619 2597 2516 \nz\n\" transform=\"scale(0.015625)\"/>\n       </defs>\n       <use xlink:href=\"#DejaVuSans-30\"/>\n       <use xlink:href=\"#DejaVuSans-2e\" x=\"63.623047\"/>\n       <use xlink:href=\"#DejaVuSans-33\" x=\"95.410156\"/>\n      </g>\n     </g>\n    </g>\n    <g id=\"ytick_5\">\n     <g id=\"line2d_23\">\n      <path d=\"M 43.78125 13.165935 \nL 294.88125 13.165935 \n\" clip-path=\"url(#pabb3b74daa)\" style=\"fill: none; stroke: #b0b0b0; stroke-width: 0.8; stroke-linecap: square\"/>\n     </g>\n     <g id=\"line2d_24\">\n      <g>\n       <use xlink:href=\"#mc30785a6fa\" x=\"43.78125\" y=\"13.165935\" style=\"stroke: #000000; stroke-width: 0.8\"/>\n      </g>\n     </g>\n     <g id=\"text_13\">\n      <!-- 0.4 -->\n      <g transform=\"translate(20.878125 16.965154) scale(0.1 -0.1)\">\n       <use xlink:href=\"#DejaVuSans-30\"/>\n       <use xlink:href=\"#DejaVuSans-2e\" x=\"63.623047\"/>\n       <use xlink:href=\"#DejaVuSans-34\" x=\"95.410156\"/>\n      </g>\n     </g>\n    </g>\n    <g id=\"text_14\">\n     <!-- p(x) -->\n     <g transform=\"translate(14.798438 86.535156) rotate(-90) scale(0.1 -0.1)\">\n      <defs>\n       <path id=\"DejaVuSans-70\" d=\"M 1159 525 \nL 1159 -1331 \nL 581 -1331 \nL 581 3500 \nL 1159 3500 \nL 1159 2969 \nQ 1341 3281 1617 3432 \nQ 1894 3584 2278 3584 \nQ 2916 3584 3314 3078 \nQ 3713 2572 3713 1747 \nQ 3713 922 3314 415 \nQ 2916 -91 2278 -91 \nQ 1894 -91 1617 61 \nQ 1341 213 1159 525 \nz\nM 3116 1747 \nQ 3116 2381 2855 2742 \nQ 2594 3103 2138 3103 \nQ 1681 3103 1420 2742 \nQ 1159 2381 1159 1747 \nQ 1159 1113 1420 752 \nQ 1681 391 2138 391 \nQ 2594 391 2855 752 \nQ 3116 1113 3116 1747 \nz\n\" transform=\"scale(0.015625)\"/>\n       <path id=\"DejaVuSans-28\" d=\"M 1984 4856 \nQ 1566 4138 1362 3434 \nQ 1159 2731 1159 2009 \nQ 1159 1288 1364 580 \nQ 1569 -128 1984 -844 \nL 1484 -844 \nQ 1016 -109 783 600 \nQ 550 1309 550 2009 \nQ 550 2706 781 3412 \nQ 1013 4119 1484 4856 \nL 1984 4856 \nz\n\" transform=\"scale(0.015625)\"/>\n       <path id=\"DejaVuSans-29\" d=\"M 513 4856 \nL 1013 4856 \nQ 1481 4119 1714 3412 \nQ 1947 2706 1947 2009 \nQ 1947 1309 1714 600 \nQ 1481 -109 1013 -844 \nL 513 -844 \nQ 928 -128 1133 580 \nQ 1338 1288 1338 2009 \nQ 1338 2731 1133 3434 \nQ 928 4138 513 4856 \nz\n\" transform=\"scale(0.015625)\"/>\n      </defs>\n      <use xlink:href=\"#DejaVuSans-70\"/>\n      <use xlink:href=\"#DejaVuSans-28\" x=\"63.476562\"/>\n      <use xlink:href=\"#DejaVuSans-78\" x=\"102.490234\"/>\n      <use xlink:href=\"#DejaVuSans-29\" x=\"161.669922\"/>\n     </g>\n    </g>\n   </g>\n   <g id=\"line2d_25\">\n    <path d=\"M 55.194886 139.5 \nL 108.061479 139.392742 \nL 113.44604 139.148719 \nL 117.035747 138.770771 \nL 119.809611 138.25954 \nL 122.09397 137.619981 \nL 124.051992 136.856558 \nL 125.846846 135.932618 \nL 127.478531 134.864093 \nL 129.110215 133.53546 \nL 130.7419 131.902404 \nL 132.373585 129.918522 \nL 133.842102 127.79423 \nL 135.473787 125.01546 \nL 137.105472 121.755388 \nL 138.737157 117.977866 \nL 140.368842 113.655911 \nL 142.163695 108.255858 \nL 144.121717 101.596938 \nL 146.242908 93.525729 \nL 148.690435 83.248545 \nL 151.790637 69.178196 \nL 157.827871 41.57206 \nL 159.949061 33.006718 \nL 161.743915 26.675681 \nL 163.212431 22.276554 \nL 164.517779 19.044317 \nL 165.659959 16.789011 \nL 166.63897 15.307609 \nL 167.454812 14.403942 \nL 168.270655 13.808322 \nL 168.923329 13.556687 \nL 169.576003 13.5063 \nL 170.228677 13.657402 \nL 170.881351 14.009268 \nL 171.697193 14.728769 \nL 172.513036 15.753897 \nL 173.492047 17.376612 \nL 174.634226 19.788832 \nL 175.776406 22.726997 \nL 177.081754 26.675681 \nL 178.713439 32.392617 \nL 180.671461 40.191426 \nL 183.118988 50.957567 \nL 192.256424 92.210802 \nL 194.540783 101.006788 \nL 196.498805 107.731288 \nL 198.456827 113.655911 \nL 200.25168 118.379758 \nL 201.883365 122.104146 \nL 203.51505 125.314336 \nL 205.146735 128.047227 \nL 206.77842 130.345625 \nL 208.410105 132.255577 \nL 210.04179 133.824084 \nL 211.673475 135.097239 \nL 213.468328 136.208702 \nL 215.42635 137.136646 \nL 217.547541 137.875773 \nL 219.8319 138.435791 \nL 222.605764 138.879679 \nL 226.032303 139.193999 \nL 230.927358 139.396705 \nL 239.412119 139.487295 \nL 277.104042 139.5 \nL 283.467614 139.5 \nL 283.467614 139.5 \n\" clip-path=\"url(#pabb3b74daa)\" style=\"fill: none; stroke: #1f77b4; stroke-width: 1.5; stroke-linecap: square\"/>\n   </g>\n   <g id=\"line2d_26\">\n    <path d=\"M 55.194886 139.362188 \nL 65.63767 139.098708 \nL 72.980253 138.699787 \nL 78.69115 138.178279 \nL 83.586205 137.516853 \nL 87.991754 136.697191 \nL 91.907798 135.745999 \nL 95.497505 134.654637 \nL 98.924044 133.387507 \nL 102.187413 131.951607 \nL 105.450783 130.271147 \nL 108.714153 128.328848 \nL 111.977523 126.112322 \nL 115.240893 123.615644 \nL 118.504263 120.840886 \nL 121.930802 117.640793 \nL 125.683677 113.829699 \nL 130.089226 109.01843 \nL 136.126461 102.052696 \nL 144.448054 92.482389 \nL 148.364098 88.331596 \nL 151.627468 85.194678 \nL 154.401333 82.824913 \nL 157.012028 80.888277 \nL 159.296387 79.455574 \nL 161.580746 78.288522 \nL 163.701937 77.457339 \nL 165.659959 76.915213 \nL 167.617981 76.595215 \nL 169.576003 76.500787 \nL 171.534025 76.632947 \nL 173.492047 76.99027 \nL 175.450069 77.568916 \nL 177.571259 78.438306 \nL 179.69245 79.54932 \nL 181.976809 81.000265 \nL 184.424336 82.824913 \nL 187.035032 85.047175 \nL 189.972065 87.839952 \nL 193.398603 91.412502 \nL 197.804153 96.3499 \nL 212.978823 113.657453 \nL 216.894867 117.640793 \nL 220.484574 120.986092 \nL 223.911112 123.877929 \nL 227.174482 126.346542 \nL 230.437852 128.535259 \nL 233.701222 130.450724 \nL 236.964592 132.105883 \nL 240.227962 133.51842 \nL 243.6545 134.763387 \nL 247.244207 135.834289 \nL 251.160251 136.766392 \nL 255.402632 137.542786 \nL 260.134519 138.178279 \nL 265.682247 138.687887 \nL 272.372156 139.065638 \nL 281.020086 139.318239 \nL 283.467614 139.359757 \nL 283.467614 139.359757 \n\" clip-path=\"url(#pabb3b74daa)\" style=\"fill: none; stroke-dasharray: 5.55,2.4; stroke-dashoffset: 0; stroke: #bf00bf; stroke-width: 1.5\"/>\n   </g>\n   <g id=\"line2d_27\">\n    <path d=\"M 55.194886 139.5 \nL 157.012028 139.392742 \nL 162.396589 139.148719 \nL 165.986296 138.770771 \nL 168.76016 138.25954 \nL 171.044519 137.619981 \nL 173.002541 136.856558 \nL 174.797395 135.932618 \nL 176.42908 134.864093 \nL 178.060765 133.53546 \nL 179.69245 131.902404 \nL 181.324135 129.918522 \nL 182.792651 127.79423 \nL 184.424336 125.01546 \nL 186.056021 121.755388 \nL 187.687706 117.977866 \nL 189.319391 113.655911 \nL 191.114244 108.255858 \nL 193.072266 101.596938 \nL 195.193457 93.525729 \nL 197.640984 83.248545 \nL 200.741186 69.178196 \nL 206.77842 41.57206 \nL 208.899611 33.006718 \nL 210.694464 26.675681 \nL 212.16298 22.276554 \nL 213.468328 19.044317 \nL 214.610508 16.789011 \nL 215.589519 15.307609 \nL 216.405361 14.403942 \nL 217.221204 13.808322 \nL 217.873878 13.556687 \nL 218.526552 13.5063 \nL 219.179226 13.657402 \nL 219.8319 14.009268 \nL 220.647742 14.728769 \nL 221.463585 15.753897 \nL 222.442596 17.376612 \nL 223.584775 19.788832 \nL 224.726955 22.726997 \nL 226.032303 26.675681 \nL 227.663988 32.392617 \nL 229.62201 40.191426 \nL 232.069537 50.957567 \nL 241.206973 92.210802 \nL 243.491332 101.006788 \nL 245.449354 107.731288 \nL 247.407376 113.655911 \nL 249.202229 118.379758 \nL 250.833914 122.104146 \nL 252.465599 125.314336 \nL 254.097284 128.047227 \nL 255.728969 130.345625 \nL 257.360654 132.255577 \nL 258.992339 133.824084 \nL 260.624024 135.097239 \nL 262.418878 136.208702 \nL 264.376899 137.136646 \nL 266.49809 137.875773 \nL 268.782449 138.435791 \nL 271.556313 138.879679 \nL 274.982852 139.193999 \nL 279.877907 139.396705 \nL 283.467614 139.456009 \nL 283.467614 139.456009 \n\" clip-path=\"url(#pabb3b74daa)\" style=\"fill: none; stroke-dasharray: 9.6,2.4,1.5,2.4; stroke-dashoffset: 0; stroke: #008000; stroke-width: 1.5\"/>\n   </g>\n   <g id=\"patch_3\">\n    <path d=\"M 43.78125 145.8 \nL 43.78125 7.2 \n\" style=\"fill: none; stroke: #000000; stroke-width: 0.8; stroke-linejoin: miter; stroke-linecap: square\"/>\n   </g>\n   <g id=\"patch_4\">\n    <path d=\"M 294.88125 145.8 \nL 294.88125 7.2 \n\" style=\"fill: none; stroke: #000000; stroke-width: 0.8; stroke-linejoin: miter; stroke-linecap: square\"/>\n   </g>\n   <g id=\"patch_5\">\n    <path d=\"M 43.78125 145.8 \nL 294.88125 145.8 \n\" style=\"fill: none; stroke: #000000; stroke-width: 0.8; stroke-linejoin: miter; stroke-linecap: square\"/>\n   </g>\n   <g id=\"patch_6\">\n    <path d=\"M 43.78125 7.2 \nL 294.88125 7.2 \n\" style=\"fill: none; stroke: #000000; stroke-width: 0.8; stroke-linejoin: miter; stroke-linecap: square\"/>\n   </g>\n   <g id=\"legend_1\">\n    <g id=\"patch_7\">\n     <path d=\"M 50.78125 59.234375 \nL 152.05625 59.234375 \nQ 154.05625 59.234375 154.05625 57.234375 \nL 154.05625 14.2 \nQ 154.05625 12.2 152.05625 12.2 \nL 50.78125 12.2 \nQ 48.78125 12.2 48.78125 14.2 \nL 48.78125 57.234375 \nQ 48.78125 59.234375 50.78125 59.234375 \nz\n\" style=\"fill: #ffffff; opacity: 0.8; stroke: #cccccc; stroke-linejoin: miter\"/>\n    </g>\n    <g id=\"line2d_28\">\n     <path d=\"M 52.78125 20.298438 \nL 62.78125 20.298438 \nL 72.78125 20.298438 \n\" style=\"fill: none; stroke: #1f77b4; stroke-width: 1.5; stroke-linecap: square\"/>\n    </g>\n    <g id=\"text_15\">\n     <!-- mean 0, std 1 -->\n     <g transform=\"translate(80.78125 23.798438) scale(0.1 -0.1)\">\n      <defs>\n       <path id=\"DejaVuSans-6d\" d=\"M 3328 2828 \nQ 3544 3216 3844 3400 \nQ 4144 3584 4550 3584 \nQ 5097 3584 5394 3201 \nQ 5691 2819 5691 2113 \nL 5691 0 \nL 5113 0 \nL 5113 2094 \nQ 5113 2597 4934 2840 \nQ 4756 3084 4391 3084 \nQ 3944 3084 3684 2787 \nQ 3425 2491 3425 1978 \nL 3425 0 \nL 2847 0 \nL 2847 2094 \nQ 2847 2600 2669 2842 \nQ 2491 3084 2119 3084 \nQ 1678 3084 1418 2786 \nQ 1159 2488 1159 1978 \nL 1159 0 \nL 581 0 \nL 581 3500 \nL 1159 3500 \nL 1159 2956 \nQ 1356 3278 1631 3431 \nQ 1906 3584 2284 3584 \nQ 2666 3584 2933 3390 \nQ 3200 3197 3328 2828 \nz\n\" transform=\"scale(0.015625)\"/>\n       <path id=\"DejaVuSans-65\" d=\"M 3597 1894 \nL 3597 1613 \nL 953 1613 \nQ 991 1019 1311 708 \nQ 1631 397 2203 397 \nQ 2534 397 2845 478 \nQ 3156 559 3463 722 \nL 3463 178 \nQ 3153 47 2828 -22 \nQ 2503 -91 2169 -91 \nQ 1331 -91 842 396 \nQ 353 884 353 1716 \nQ 353 2575 817 3079 \nQ 1281 3584 2069 3584 \nQ 2775 3584 3186 3129 \nQ 3597 2675 3597 1894 \nz\nM 3022 2063 \nQ 3016 2534 2758 2815 \nQ 2500 3097 2075 3097 \nQ 1594 3097 1305 2825 \nQ 1016 2553 972 2059 \nL 3022 2063 \nz\n\" transform=\"scale(0.015625)\"/>\n       <path id=\"DejaVuSans-61\" d=\"M 2194 1759 \nQ 1497 1759 1228 1600 \nQ 959 1441 959 1056 \nQ 959 750 1161 570 \nQ 1363 391 1709 391 \nQ 2188 391 2477 730 \nQ 2766 1069 2766 1631 \nL 2766 1759 \nL 2194 1759 \nz\nM 3341 1997 \nL 3341 0 \nL 2766 0 \nL 2766 531 \nQ 2569 213 2275 61 \nQ 1981 -91 1556 -91 \nQ 1019 -91 701 211 \nQ 384 513 384 1019 \nQ 384 1609 779 1909 \nQ 1175 2209 1959 2209 \nL 2766 2209 \nL 2766 2266 \nQ 2766 2663 2505 2880 \nQ 2244 3097 1772 3097 \nQ 1472 3097 1187 3025 \nQ 903 2953 641 2809 \nL 641 3341 \nQ 956 3463 1253 3523 \nQ 1550 3584 1831 3584 \nQ 2591 3584 2966 3190 \nQ 3341 2797 3341 1997 \nz\n\" transform=\"scale(0.015625)\"/>\n       <path id=\"DejaVuSans-6e\" d=\"M 3513 2113 \nL 3513 0 \nL 2938 0 \nL 2938 2094 \nQ 2938 2591 2744 2837 \nQ 2550 3084 2163 3084 \nQ 1697 3084 1428 2787 \nQ 1159 2491 1159 1978 \nL 1159 0 \nL 581 0 \nL 581 3500 \nL 1159 3500 \nL 1159 2956 \nQ 1366 3272 1645 3428 \nQ 1925 3584 2291 3584 \nQ 2894 3584 3203 3211 \nQ 3513 2838 3513 2113 \nz\n\" transform=\"scale(0.015625)\"/>\n       <path id=\"DejaVuSans-20\" transform=\"scale(0.015625)\"/>\n       <path id=\"DejaVuSans-2c\" d=\"M 750 794 \nL 1409 794 \nL 1409 256 \nL 897 -744 \nL 494 -744 \nL 750 256 \nL 750 794 \nz\n\" transform=\"scale(0.015625)\"/>\n       <path id=\"DejaVuSans-73\" d=\"M 2834 3397 \nL 2834 2853 \nQ 2591 2978 2328 3040 \nQ 2066 3103 1784 3103 \nQ 1356 3103 1142 2972 \nQ 928 2841 928 2578 \nQ 928 2378 1081 2264 \nQ 1234 2150 1697 2047 \nL 1894 2003 \nQ 2506 1872 2764 1633 \nQ 3022 1394 3022 966 \nQ 3022 478 2636 193 \nQ 2250 -91 1575 -91 \nQ 1294 -91 989 -36 \nQ 684 19 347 128 \nL 347 722 \nQ 666 556 975 473 \nQ 1284 391 1588 391 \nQ 1994 391 2212 530 \nQ 2431 669 2431 922 \nQ 2431 1156 2273 1281 \nQ 2116 1406 1581 1522 \nL 1381 1569 \nQ 847 1681 609 1914 \nQ 372 2147 372 2553 \nQ 372 3047 722 3315 \nQ 1072 3584 1716 3584 \nQ 2034 3584 2315 3537 \nQ 2597 3491 2834 3397 \nz\n\" transform=\"scale(0.015625)\"/>\n       <path id=\"DejaVuSans-74\" d=\"M 1172 4494 \nL 1172 3500 \nL 2356 3500 \nL 2356 3053 \nL 1172 3053 \nL 1172 1153 \nQ 1172 725 1289 603 \nQ 1406 481 1766 481 \nL 2356 481 \nL 2356 0 \nL 1766 0 \nQ 1100 0 847 248 \nQ 594 497 594 1153 \nL 594 3053 \nL 172 3053 \nL 172 3500 \nL 594 3500 \nL 594 4494 \nL 1172 4494 \nz\n\" transform=\"scale(0.015625)\"/>\n       <path id=\"DejaVuSans-64\" d=\"M 2906 2969 \nL 2906 4863 \nL 3481 4863 \nL 3481 0 \nL 2906 0 \nL 2906 525 \nQ 2725 213 2448 61 \nQ 2172 -91 1784 -91 \nQ 1150 -91 751 415 \nQ 353 922 353 1747 \nQ 353 2572 751 3078 \nQ 1150 3584 1784 3584 \nQ 2172 3584 2448 3432 \nQ 2725 3281 2906 2969 \nz\nM 947 1747 \nQ 947 1113 1208 752 \nQ 1469 391 1925 391 \nQ 2381 391 2643 752 \nQ 2906 1113 2906 1747 \nQ 2906 2381 2643 2742 \nQ 2381 3103 1925 3103 \nQ 1469 3103 1208 2742 \nQ 947 2381 947 1747 \nz\n\" transform=\"scale(0.015625)\"/>\n      </defs>\n      <use xlink:href=\"#DejaVuSans-6d\"/>\n      <use xlink:href=\"#DejaVuSans-65\" x=\"97.412109\"/>\n      <use xlink:href=\"#DejaVuSans-61\" x=\"158.935547\"/>\n      <use xlink:href=\"#DejaVuSans-6e\" x=\"220.214844\"/>\n      <use xlink:href=\"#DejaVuSans-20\" x=\"283.59375\"/>\n      <use xlink:href=\"#DejaVuSans-30\" x=\"315.380859\"/>\n      <use xlink:href=\"#DejaVuSans-2c\" x=\"379.003906\"/>\n      <use xlink:href=\"#DejaVuSans-20\" x=\"410.791016\"/>\n      <use xlink:href=\"#DejaVuSans-73\" x=\"442.578125\"/>\n      <use xlink:href=\"#DejaVuSans-74\" x=\"494.677734\"/>\n      <use xlink:href=\"#DejaVuSans-64\" x=\"533.886719\"/>\n      <use xlink:href=\"#DejaVuSans-20\" x=\"597.363281\"/>\n      <use xlink:href=\"#DejaVuSans-31\" x=\"629.150391\"/>\n     </g>\n    </g>\n    <g id=\"line2d_29\">\n     <path d=\"M 52.78125 34.976563 \nL 62.78125 34.976563 \nL 72.78125 34.976563 \n\" style=\"fill: none; stroke-dasharray: 5.55,2.4; stroke-dashoffset: 0; stroke: #bf00bf; stroke-width: 1.5\"/>\n    </g>\n    <g id=\"text_16\">\n     <!-- mean 0, std 2 -->\n     <g transform=\"translate(80.78125 38.476563) scale(0.1 -0.1)\">\n      <use xlink:href=\"#DejaVuSans-6d\"/>\n      <use xlink:href=\"#DejaVuSans-65\" x=\"97.412109\"/>\n      <use xlink:href=\"#DejaVuSans-61\" x=\"158.935547\"/>\n      <use xlink:href=\"#DejaVuSans-6e\" x=\"220.214844\"/>\n      <use xlink:href=\"#DejaVuSans-20\" x=\"283.59375\"/>\n      <use xlink:href=\"#DejaVuSans-30\" x=\"315.380859\"/>\n      <use xlink:href=\"#DejaVuSans-2c\" x=\"379.003906\"/>\n      <use xlink:href=\"#DejaVuSans-20\" x=\"410.791016\"/>\n      <use xlink:href=\"#DejaVuSans-73\" x=\"442.578125\"/>\n      <use xlink:href=\"#DejaVuSans-74\" x=\"494.677734\"/>\n      <use xlink:href=\"#DejaVuSans-64\" x=\"533.886719\"/>\n      <use xlink:href=\"#DejaVuSans-20\" x=\"597.363281\"/>\n      <use xlink:href=\"#DejaVuSans-32\" x=\"629.150391\"/>\n     </g>\n    </g>\n    <g id=\"line2d_30\">\n     <path d=\"M 52.78125 49.654688 \nL 62.78125 49.654688 \nL 72.78125 49.654688 \n\" style=\"fill: none; stroke-dasharray: 9.6,2.4,1.5,2.4; stroke-dashoffset: 0; stroke: #008000; stroke-width: 1.5\"/>\n    </g>\n    <g id=\"text_17\">\n     <!-- mean 3, std 1 -->\n     <g transform=\"translate(80.78125 53.154688) scale(0.1 -0.1)\">\n      <use xlink:href=\"#DejaVuSans-6d\"/>\n      <use xlink:href=\"#DejaVuSans-65\" x=\"97.412109\"/>\n      <use xlink:href=\"#DejaVuSans-61\" x=\"158.935547\"/>\n      <use xlink:href=\"#DejaVuSans-6e\" x=\"220.214844\"/>\n      <use xlink:href=\"#DejaVuSans-20\" x=\"283.59375\"/>\n      <use xlink:href=\"#DejaVuSans-33\" x=\"315.380859\"/>\n      <use xlink:href=\"#DejaVuSans-2c\" x=\"379.003906\"/>\n      <use xlink:href=\"#DejaVuSans-20\" x=\"410.791016\"/>\n      <use xlink:href=\"#DejaVuSans-73\" x=\"442.578125\"/>\n      <use xlink:href=\"#DejaVuSans-74\" x=\"494.677734\"/>\n      <use xlink:href=\"#DejaVuSans-64\" x=\"533.886719\"/>\n      <use xlink:href=\"#DejaVuSans-20\" x=\"597.363281\"/>\n      <use xlink:href=\"#DejaVuSans-31\" x=\"629.150391\"/>\n     </g>\n    </g>\n   </g>\n  </g>\n </g>\n <defs>\n  <clipPath id=\"pabb3b74daa\">\n   <rect x=\"43.78125\" y=\"7.2\" width=\"251.1\" height=\"138.6\"/>\n  </clipPath>\n </defs>\n</svg>\n"
          },
          "metadata": {}
        }
      ],
      "source": [
        "x = np.arange(-7, 7, 0.01)\n",
        "params = [(0, 1), (0, 2), (3, 1)]\n",
        "d2l.plot(x, [normal(x, mu, sigma) for mu, sigma in params],\n",
        "         xlabel='x', ylabel='p(x)', figsize=(4.5, 2.5),\n",
        "         legend=[f'mean {mu}, std {sigma}' for mu, sigma in params])"
      ]
    },
    {
      "cell_type": "markdown",
      "id": "8f8fa261-0277-4cfc-952c-47fdeeae5a80",
      "metadata": {
        "id": "8f8fa261-0277-4cfc-952c-47fdeeae5a80"
      },
      "source": [
        "### 3.1.4.linear regression as a neural network"
      ]
    },
    {
      "cell_type": "markdown",
      "id": "f61500d4-8b94-448a-a52e-ca44ede14570",
      "metadata": {
        "id": "f61500d4-8b94-448a-a52e-ca44ede14570"
      },
      "source": [
        "### 3.1.5.summary\n",
        "\n",
        "traditional linear regression\n",
        "\n",
        "선형 함수의 파라미터 -> squared loss 줄이는 방향으로\n",
        "\n",
        "gaussian noise를 가정한 maximum likelihood estimation\n",
        "\n",
        "선형모델들이 단순히 신경망으로 표현될 수 있음"
      ]
    },
    {
      "cell_type": "markdown",
      "id": "83b6e047-1cf4-4702-b394-78cc9a51fca3",
      "metadata": {
        "id": "83b6e047-1cf4-4702-b394-78cc9a51fca3"
      },
      "source": [
        "### discussions or takeaway messages\n",
        "\n",
        "1. 전통적인 선형 회귀 방법\n",
        "\n",
        "2. 손실 함수\n",
        "\n",
        "3. minibatch stochastic gradient descent : 데이터를 여러개의 작은 사이즈(미니배치)로 나눠서 각각의 loss function을 구하고 업데이트"
      ]
    },
    {
      "cell_type": "markdown",
      "id": "8db65c21-42d8-4f84-814b-c61f8a9969b4",
      "metadata": {
        "id": "8db65c21-42d8-4f84-814b-c61f8a9969b4"
      },
      "source": [
        "## 3.2.Object-Oriented Design for Implementation\n",
        "\n",
        "high level 의three classes를 제공\n",
        "\n",
        "(i) Module contains models, losses, and optimization methods\n",
        "\n",
        "(ii) DataModule provides data loaders for training and validation\n",
        "\n",
        "(iii) both classes are combined using the Trainer class, which allows us to train models on a variety of hardware platforms.\n"
      ]
    },
    {
      "cell_type": "code",
      "execution_count": 7,
      "id": "aa94988d-a26d-4bfd-87cf-345fe9ba5940",
      "metadata": {
        "id": "aa94988d-a26d-4bfd-87cf-345fe9ba5940"
      },
      "outputs": [],
      "source": [
        "import time\n",
        "import numpy as np\n",
        "import torch\n",
        "from torch import nn\n",
        "from d2l import torch as d2l"
      ]
    },
    {
      "cell_type": "markdown",
      "id": "3b441829-c2e9-4c01-adaf-51e2778b0676",
      "metadata": {
        "id": "3b441829-c2e9-4c01-adaf-51e2778b0676"
      },
      "source": [
        "### 3.2.1.utilities"
      ]
    },
    {
      "cell_type": "code",
      "execution_count": 8,
      "id": "1f013e72-36f6-422b-b11e-30146f62dd13",
      "metadata": {
        "id": "1f013e72-36f6-422b-b11e-30146f62dd13"
      },
      "outputs": [],
      "source": [
        "def add_to_class(Class):\n",
        "    def wrapper(obj):\n",
        "        setattr(Class, obj.__name__, obj)\n",
        "    return wrapper"
      ]
    },
    {
      "cell_type": "code",
      "execution_count": 9,
      "id": "8475fb07-7cad-402b-9c2c-0a19c978e236",
      "metadata": {
        "id": "8475fb07-7cad-402b-9c2c-0a19c978e236"
      },
      "outputs": [],
      "source": [
        "class A:\n",
        "    def __init__(self):\n",
        "        self.b = 1\n",
        "\n",
        "a = A()"
      ]
    },
    {
      "cell_type": "code",
      "execution_count": 10,
      "id": "f0a737ec-b5d5-4ccd-97c1-a8a17291677a",
      "metadata": {
        "id": "f0a737ec-b5d5-4ccd-97c1-a8a17291677a",
        "outputId": "b84771c8-176b-4065-a8c9-a76b27ce75ec",
        "colab": {
          "base_uri": "https://localhost:8080/"
        }
      },
      "outputs": [
        {
          "output_type": "stream",
          "name": "stdout",
          "text": [
            "Class attrib|ute \"b\" is 1\n"
          ]
        }
      ],
      "source": [
        "@add_to_class(A) #기존 class에 새로운 method를 추가\n",
        "def do(self):\n",
        "    print('Class attrib|ute \"b\" is', self.b)\n",
        "\n",
        "a.do()"
      ]
    },
    {
      "cell_type": "code",
      "execution_count": 11,
      "id": "bc2feda1-5fd6-40ae-8d86-e860bc658afc",
      "metadata": {
        "id": "bc2feda1-5fd6-40ae-8d86-e860bc658afc"
      },
      "outputs": [],
      "source": [
        "class HyperParameters:\n",
        "    \"\"\"The base class of hyperparameters.\"\"\"\n",
        "    def save_hyperparameters(self, ignore=[]):\n",
        "        raise NotImplemented"
      ]
    },
    {
      "cell_type": "code",
      "execution_count": 12,
      "id": "ded42c31-51ee-4664-b263-70ad6fd59ccb",
      "metadata": {
        "id": "ded42c31-51ee-4664-b263-70ad6fd59ccb",
        "outputId": "62d1380b-5ff3-44ef-f08d-9ff29c40903b",
        "colab": {
          "base_uri": "https://localhost:8080/"
        }
      },
      "outputs": [
        {
          "output_type": "stream",
          "name": "stdout",
          "text": [
            "self.a = 1 self.b = 2\n",
            "There is no self.c = True\n"
          ]
        }
      ],
      "source": [
        "class HyperParameters:\n",
        "    \"\"\"The base class of hyperparameters.\"\"\"\n",
        "    def save_hyperparameters(self, ignore=[], **kwargs):\n",
        "        params = {k: v for k, v in kwargs.items() if k not in ignore}\n",
        "        for k, v in params.items():\n",
        "            setattr(self, k, v)\n",
        "\n",
        "class B(HyperParameters):\n",
        "    def __init__(self, a, b, c):\n",
        "        self.save_hyperparameters(ignore=['c'], a=a, b=b)\n",
        "        print('self.a =', self.a, 'self.b =', self.b)\n",
        "        print('There is no self.c =', not hasattr(self, 'c'))\n",
        "\n",
        "b = B(a=1, b=2, c=3)"
      ]
    },
    {
      "cell_type": "code",
      "execution_count": 13,
      "id": "65672531-6016-475a-aeb1-2186d056bb9e",
      "metadata": {
        "id": "65672531-6016-475a-aeb1-2186d056bb9e"
      },
      "outputs": [],
      "source": [
        "class ProgressBoard(d2l.HyperParameters):\n",
        "    \"\"\"The board that plots data points in animation.\"\"\"\n",
        "    def __init__(self, xlabel=None, ylabel=None, xlim=None,\n",
        "                 ylim=None, xscale='linear', yscale='linear',\n",
        "                 ls=['-', '--', '-.', ':'], colors=['C0', 'C1', 'C2', 'C3'],\n",
        "                 fig=None, axes=None, figsize=(3.5, 2.5), display=True):\n",
        "        self.save_hyperparameters()\n",
        "\n",
        "    def draw(self, x, y, label, every_n=1):\n",
        "        raise NotImplemented"
      ]
    },
    {
      "cell_type": "code",
      "execution_count": 14,
      "id": "c5cc6e3c-7a85-4c5e-89b3-209fa06a2219",
      "metadata": {
        "id": "c5cc6e3c-7a85-4c5e-89b3-209fa06a2219",
        "colab": {
          "base_uri": "https://localhost:8080/",
          "height": 265
        },
        "outputId": "44fff52e-cc49-4cf6-ab36-97eca3340b98"
      },
      "outputs": [
        {
          "output_type": "display_data",
          "data": {
            "text/plain": [
              "<Figure size 350x250 with 1 Axes>"
            ],
            "image/svg+xml": "<?xml version=\"1.0\" encoding=\"utf-8\" standalone=\"no\"?>\n<!DOCTYPE svg PUBLIC \"-//W3C//DTD SVG 1.1//EN\"\n  \"http://www.w3.org/Graphics/SVG/1.1/DTD/svg11.dtd\">\n<svg xmlns:xlink=\"http://www.w3.org/1999/xlink\" width=\"241.185572pt\" height=\"183.35625pt\" viewBox=\"0 0 241.185572 183.35625\" xmlns=\"http://www.w3.org/2000/svg\" version=\"1.1\">\n <metadata>\n  <rdf:RDF xmlns:dc=\"http://purl.org/dc/elements/1.1/\" xmlns:cc=\"http://creativecommons.org/ns#\" xmlns:rdf=\"http://www.w3.org/1999/02/22-rdf-syntax-ns#\">\n   <cc:Work>\n    <dc:type rdf:resource=\"http://purl.org/dc/dcmitype/StillImage\"/>\n    <dc:date>2024-09-24T02:09:14.080460</dc:date>\n    <dc:format>image/svg+xml</dc:format>\n    <dc:creator>\n     <cc:Agent>\n      <dc:title>Matplotlib v3.7.2, https://matplotlib.org/</dc:title>\n     </cc:Agent>\n    </dc:creator>\n   </cc:Work>\n  </rdf:RDF>\n </metadata>\n <defs>\n  <style type=\"text/css\">*{stroke-linejoin: round; stroke-linecap: butt}</style>\n </defs>\n <g id=\"figure_1\">\n  <g id=\"patch_1\">\n   <path d=\"M -0 183.35625 \nL 241.185572 183.35625 \nL 241.185572 0 \nL -0 0 \nz\n\" style=\"fill: #ffffff\"/>\n  </g>\n  <g id=\"axes_1\">\n   <g id=\"patch_2\">\n    <path d=\"M 38.482813 145.8 \nL 233.782813 145.8 \nL 233.782813 7.2 \nL 38.482813 7.2 \nz\n\" style=\"fill: #ffffff\"/>\n   </g>\n   <g id=\"matplotlib.axis_1\">\n    <g id=\"xtick_1\">\n     <g id=\"line2d_1\">\n      <defs>\n       <path id=\"m5e178b4056\" d=\"M 0 0 \nL 0 3.5 \n\" style=\"stroke: #000000; stroke-width: 0.8\"/>\n      </defs>\n      <g>\n       <use xlink:href=\"#m5e178b4056\" x=\"46.454241\" y=\"145.8\" style=\"stroke: #000000; stroke-width: 0.8\"/>\n      </g>\n     </g>\n     <g id=\"text_1\">\n      <!-- 0 -->\n      <g transform=\"translate(43.272991 160.398438) scale(0.1 -0.1)\">\n       <defs>\n        <path id=\"DejaVuSans-30\" d=\"M 2034 4250 \nQ 1547 4250 1301 3770 \nQ 1056 3291 1056 2328 \nQ 1056 1369 1301 889 \nQ 1547 409 2034 409 \nQ 2525 409 2770 889 \nQ 3016 1369 3016 2328 \nQ 3016 3291 2770 3770 \nQ 2525 4250 2034 4250 \nz\nM 2034 4750 \nQ 2819 4750 3233 4129 \nQ 3647 3509 3647 2328 \nQ 3647 1150 3233 529 \nQ 2819 -91 2034 -91 \nQ 1250 -91 836 529 \nQ 422 1150 422 2328 \nQ 422 3509 836 4129 \nQ 1250 4750 2034 4750 \nz\n\" transform=\"scale(0.015625)\"/>\n       </defs>\n       <use xlink:href=\"#DejaVuSans-30\"/>\n      </g>\n     </g>\n    </g>\n    <g id=\"xtick_2\">\n     <g id=\"line2d_2\">\n      <g>\n       <use xlink:href=\"#m5e178b4056\" x=\"82.688007\" y=\"145.8\" style=\"stroke: #000000; stroke-width: 0.8\"/>\n      </g>\n     </g>\n     <g id=\"text_2\">\n      <!-- 2 -->\n      <g transform=\"translate(79.506757 160.398438) scale(0.1 -0.1)\">\n       <defs>\n        <path id=\"DejaVuSans-32\" d=\"M 1228 531 \nL 3431 531 \nL 3431 0 \nL 469 0 \nL 469 531 \nQ 828 903 1448 1529 \nQ 2069 2156 2228 2338 \nQ 2531 2678 2651 2914 \nQ 2772 3150 2772 3378 \nQ 2772 3750 2511 3984 \nQ 2250 4219 1831 4219 \nQ 1534 4219 1204 4116 \nQ 875 4013 500 3803 \nL 500 4441 \nQ 881 4594 1212 4672 \nQ 1544 4750 1819 4750 \nQ 2544 4750 2975 4387 \nQ 3406 4025 3406 3419 \nQ 3406 3131 3298 2873 \nQ 3191 2616 2906 2266 \nQ 2828 2175 2409 1742 \nQ 1991 1309 1228 531 \nz\n\" transform=\"scale(0.015625)\"/>\n       </defs>\n       <use xlink:href=\"#DejaVuSans-32\"/>\n      </g>\n     </g>\n    </g>\n    <g id=\"xtick_3\">\n     <g id=\"line2d_3\">\n      <g>\n       <use xlink:href=\"#m5e178b4056\" x=\"118.921774\" y=\"145.8\" style=\"stroke: #000000; stroke-width: 0.8\"/>\n      </g>\n     </g>\n     <g id=\"text_3\">\n      <!-- 4 -->\n      <g transform=\"translate(115.740524 160.398438) scale(0.1 -0.1)\">\n       <defs>\n        <path id=\"DejaVuSans-34\" d=\"M 2419 4116 \nL 825 1625 \nL 2419 1625 \nL 2419 4116 \nz\nM 2253 4666 \nL 3047 4666 \nL 3047 1625 \nL 3713 1625 \nL 3713 1100 \nL 3047 1100 \nL 3047 0 \nL 2419 0 \nL 2419 1100 \nL 313 1100 \nL 313 1709 \nL 2253 4666 \nz\n\" transform=\"scale(0.015625)\"/>\n       </defs>\n       <use xlink:href=\"#DejaVuSans-34\"/>\n      </g>\n     </g>\n    </g>\n    <g id=\"xtick_4\">\n     <g id=\"line2d_4\">\n      <g>\n       <use xlink:href=\"#m5e178b4056\" x=\"155.15554\" y=\"145.8\" style=\"stroke: #000000; stroke-width: 0.8\"/>\n      </g>\n     </g>\n     <g id=\"text_4\">\n      <!-- 6 -->\n      <g transform=\"translate(151.97429 160.398438) scale(0.1 -0.1)\">\n       <defs>\n        <path id=\"DejaVuSans-36\" d=\"M 2113 2584 \nQ 1688 2584 1439 2293 \nQ 1191 2003 1191 1497 \nQ 1191 994 1439 701 \nQ 1688 409 2113 409 \nQ 2538 409 2786 701 \nQ 3034 994 3034 1497 \nQ 3034 2003 2786 2293 \nQ 2538 2584 2113 2584 \nz\nM 3366 4563 \nL 3366 3988 \nQ 3128 4100 2886 4159 \nQ 2644 4219 2406 4219 \nQ 1781 4219 1451 3797 \nQ 1122 3375 1075 2522 \nQ 1259 2794 1537 2939 \nQ 1816 3084 2150 3084 \nQ 2853 3084 3261 2657 \nQ 3669 2231 3669 1497 \nQ 3669 778 3244 343 \nQ 2819 -91 2113 -91 \nQ 1303 -91 875 529 \nQ 447 1150 447 2328 \nQ 447 3434 972 4092 \nQ 1497 4750 2381 4750 \nQ 2619 4750 2861 4703 \nQ 3103 4656 3366 4563 \nz\n\" transform=\"scale(0.015625)\"/>\n       </defs>\n       <use xlink:href=\"#DejaVuSans-36\"/>\n      </g>\n     </g>\n    </g>\n    <g id=\"xtick_5\">\n     <g id=\"line2d_5\">\n      <g>\n       <use xlink:href=\"#m5e178b4056\" x=\"191.389306\" y=\"145.8\" style=\"stroke: #000000; stroke-width: 0.8\"/>\n      </g>\n     </g>\n     <g id=\"text_5\">\n      <!-- 8 -->\n      <g transform=\"translate(188.208056 160.398438) scale(0.1 -0.1)\">\n       <defs>\n        <path id=\"DejaVuSans-38\" d=\"M 2034 2216 \nQ 1584 2216 1326 1975 \nQ 1069 1734 1069 1313 \nQ 1069 891 1326 650 \nQ 1584 409 2034 409 \nQ 2484 409 2743 651 \nQ 3003 894 3003 1313 \nQ 3003 1734 2745 1975 \nQ 2488 2216 2034 2216 \nz\nM 1403 2484 \nQ 997 2584 770 2862 \nQ 544 3141 544 3541 \nQ 544 4100 942 4425 \nQ 1341 4750 2034 4750 \nQ 2731 4750 3128 4425 \nQ 3525 4100 3525 3541 \nQ 3525 3141 3298 2862 \nQ 3072 2584 2669 2484 \nQ 3125 2378 3379 2068 \nQ 3634 1759 3634 1313 \nQ 3634 634 3220 271 \nQ 2806 -91 2034 -91 \nQ 1263 -91 848 271 \nQ 434 634 434 1313 \nQ 434 1759 690 2068 \nQ 947 2378 1403 2484 \nz\nM 1172 3481 \nQ 1172 3119 1398 2916 \nQ 1625 2713 2034 2713 \nQ 2441 2713 2670 2916 \nQ 2900 3119 2900 3481 \nQ 2900 3844 2670 4047 \nQ 2441 4250 2034 4250 \nQ 1625 4250 1398 4047 \nQ 1172 3844 1172 3481 \nz\n\" transform=\"scale(0.015625)\"/>\n       </defs>\n       <use xlink:href=\"#DejaVuSans-38\"/>\n      </g>\n     </g>\n    </g>\n    <g id=\"xtick_6\">\n     <g id=\"line2d_6\">\n      <g>\n       <use xlink:href=\"#m5e178b4056\" x=\"227.623072\" y=\"145.8\" style=\"stroke: #000000; stroke-width: 0.8\"/>\n      </g>\n     </g>\n     <g id=\"text_6\">\n      <!-- 10 -->\n      <g transform=\"translate(221.260572 160.398438) scale(0.1 -0.1)\">\n       <defs>\n        <path id=\"DejaVuSans-31\" d=\"M 794 531 \nL 1825 531 \nL 1825 4091 \nL 703 3866 \nL 703 4441 \nL 1819 4666 \nL 2450 4666 \nL 2450 531 \nL 3481 531 \nL 3481 0 \nL 794 0 \nL 794 531 \nz\n\" transform=\"scale(0.015625)\"/>\n       </defs>\n       <use xlink:href=\"#DejaVuSans-31\"/>\n       <use xlink:href=\"#DejaVuSans-30\" x=\"63.623047\"/>\n      </g>\n     </g>\n    </g>\n    <g id=\"text_7\">\n     <!-- x -->\n     <g transform=\"translate(133.173438 174.076563) scale(0.1 -0.1)\">\n      <defs>\n       <path id=\"DejaVuSans-78\" d=\"M 3513 3500 \nL 2247 1797 \nL 3578 0 \nL 2900 0 \nL 1881 1375 \nL 863 0 \nL 184 0 \nL 1544 1831 \nL 300 3500 \nL 978 3500 \nL 1906 2253 \nL 2834 3500 \nL 3513 3500 \nz\n\" transform=\"scale(0.015625)\"/>\n      </defs>\n      <use xlink:href=\"#DejaVuSans-78\"/>\n     </g>\n    </g>\n   </g>\n   <g id=\"matplotlib.axis_2\">\n    <g id=\"ytick_1\">\n     <g id=\"line2d_7\">\n      <defs>\n       <path id=\"m015fa7669b\" d=\"M 0 0 \nL -3.5 0 \n\" style=\"stroke: #000000; stroke-width: 0.8\"/>\n      </defs>\n      <g>\n       <use xlink:href=\"#m015fa7669b\" x=\"38.482813\" y=\"139.701599\" style=\"stroke: #000000; stroke-width: 0.8\"/>\n      </g>\n     </g>\n     <g id=\"text_8\">\n      <!-- −1.0 -->\n      <g transform=\"translate(7.2 143.500818) scale(0.1 -0.1)\">\n       <defs>\n        <path id=\"DejaVuSans-2212\" d=\"M 678 2272 \nL 4684 2272 \nL 4684 1741 \nL 678 1741 \nL 678 2272 \nz\n\" transform=\"scale(0.015625)\"/>\n        <path id=\"DejaVuSans-2e\" d=\"M 684 794 \nL 1344 794 \nL 1344 0 \nL 684 0 \nL 684 794 \nz\n\" transform=\"scale(0.015625)\"/>\n       </defs>\n       <use xlink:href=\"#DejaVuSans-2212\"/>\n       <use xlink:href=\"#DejaVuSans-31\" x=\"83.789062\"/>\n       <use xlink:href=\"#DejaVuSans-2e\" x=\"147.412109\"/>\n       <use xlink:href=\"#DejaVuSans-30\" x=\"179.199219\"/>\n      </g>\n     </g>\n    </g>\n    <g id=\"ytick_2\">\n     <g id=\"line2d_8\">\n      <g>\n       <use xlink:href=\"#m015fa7669b\" x=\"38.482813\" y=\"108.131347\" style=\"stroke: #000000; stroke-width: 0.8\"/>\n      </g>\n     </g>\n     <g id=\"text_9\">\n      <!-- −0.5 -->\n      <g transform=\"translate(7.2 111.930566) scale(0.1 -0.1)\">\n       <defs>\n        <path id=\"DejaVuSans-35\" d=\"M 691 4666 \nL 3169 4666 \nL 3169 4134 \nL 1269 4134 \nL 1269 2991 \nQ 1406 3038 1543 3061 \nQ 1681 3084 1819 3084 \nQ 2600 3084 3056 2656 \nQ 3513 2228 3513 1497 \nQ 3513 744 3044 326 \nQ 2575 -91 1722 -91 \nQ 1428 -91 1123 -41 \nQ 819 9 494 109 \nL 494 744 \nQ 775 591 1075 516 \nQ 1375 441 1709 441 \nQ 2250 441 2565 725 \nQ 2881 1009 2881 1497 \nQ 2881 1984 2565 2268 \nQ 2250 2553 1709 2553 \nQ 1456 2553 1204 2497 \nQ 953 2441 691 2322 \nL 691 4666 \nz\n\" transform=\"scale(0.015625)\"/>\n       </defs>\n       <use xlink:href=\"#DejaVuSans-2212\"/>\n       <use xlink:href=\"#DejaVuSans-30\" x=\"83.789062\"/>\n       <use xlink:href=\"#DejaVuSans-2e\" x=\"147.412109\"/>\n       <use xlink:href=\"#DejaVuSans-35\" x=\"179.199219\"/>\n      </g>\n     </g>\n    </g>\n    <g id=\"ytick_3\">\n     <g id=\"line2d_9\">\n      <g>\n       <use xlink:href=\"#m015fa7669b\" x=\"38.482813\" y=\"76.561095\" style=\"stroke: #000000; stroke-width: 0.8\"/>\n      </g>\n     </g>\n     <g id=\"text_10\">\n      <!-- 0.0 -->\n      <g transform=\"translate(15.579688 80.360314) scale(0.1 -0.1)\">\n       <use xlink:href=\"#DejaVuSans-30\"/>\n       <use xlink:href=\"#DejaVuSans-2e\" x=\"63.623047\"/>\n       <use xlink:href=\"#DejaVuSans-30\" x=\"95.410156\"/>\n      </g>\n     </g>\n    </g>\n    <g id=\"ytick_4\">\n     <g id=\"line2d_10\">\n      <g>\n       <use xlink:href=\"#m015fa7669b\" x=\"38.482813\" y=\"44.990843\" style=\"stroke: #000000; stroke-width: 0.8\"/>\n      </g>\n     </g>\n     <g id=\"text_11\">\n      <!-- 0.5 -->\n      <g transform=\"translate(15.579688 48.790062) scale(0.1 -0.1)\">\n       <use xlink:href=\"#DejaVuSans-30\"/>\n       <use xlink:href=\"#DejaVuSans-2e\" x=\"63.623047\"/>\n       <use xlink:href=\"#DejaVuSans-35\" x=\"95.410156\"/>\n      </g>\n     </g>\n    </g>\n    <g id=\"ytick_5\">\n     <g id=\"line2d_11\">\n      <g>\n       <use xlink:href=\"#m015fa7669b\" x=\"38.482813\" y=\"13.420591\" style=\"stroke: #000000; stroke-width: 0.8\"/>\n      </g>\n     </g>\n     <g id=\"text_12\">\n      <!-- 1.0 -->\n      <g transform=\"translate(15.579688 17.21981) scale(0.1 -0.1)\">\n       <use xlink:href=\"#DejaVuSans-31\"/>\n       <use xlink:href=\"#DejaVuSans-2e\" x=\"63.623047\"/>\n       <use xlink:href=\"#DejaVuSans-30\" x=\"95.410156\"/>\n      </g>\n     </g>\n    </g>\n   </g>\n   <g id=\"line2d_12\">\n    <path d=\"M 47.360085 73.409329 \n\" clip-path=\"url(#p62c6945063)\" style=\"fill: none; stroke: #1f77b4; stroke-width: 1.5; stroke-linecap: square\"/>\n   </g>\n   <g id=\"line2d_13\"/>\n   <g id=\"line2d_14\">\n    <path d=\"M 47.360085 73.409329 \nL 50.983462 60.959407 \n\" clip-path=\"url(#p62c6945063)\" style=\"fill: none; stroke: #1f77b4; stroke-width: 1.5; stroke-linecap: square\"/>\n   </g>\n   <g id=\"line2d_15\"/>\n   <g id=\"line2d_16\">\n    <path d=\"M 47.360085 73.409329 \nL 50.983462 60.959407 \nL 54.606838 49.131475 \n\" clip-path=\"url(#p62c6945063)\" style=\"fill: none; stroke: #1f77b4; stroke-width: 1.5; stroke-linecap: square\"/>\n   </g>\n   <g id=\"line2d_17\"/>\n   <g id=\"line2d_18\">\n    <path d=\"M 47.360085 73.409329 \nL 50.983462 60.959407 \nL 54.606838 49.131475 \nL 58.230215 38.397075 \n\" clip-path=\"url(#p62c6945063)\" style=\"fill: none; stroke: #1f77b4; stroke-width: 1.5; stroke-linecap: square\"/>\n   </g>\n   <g id=\"line2d_19\"/>\n   <g id=\"line2d_20\">\n    <path d=\"M 47.360085 73.409329 \nL 50.983462 60.959407 \nL 54.606838 49.131475 \nL 58.230215 38.397075 \nL 61.853592 29.184154 \n\" clip-path=\"url(#p62c6945063)\" style=\"fill: none; stroke: #1f77b4; stroke-width: 1.5; stroke-linecap: square\"/>\n   </g>\n   <g id=\"line2d_21\"/>\n   <g id=\"line2d_22\">\n    <path d=\"M 47.360085 73.409329 \nL 50.983462 60.959407 \nL 54.606838 49.131475 \nL 58.230215 38.397075 \nL 61.853592 29.184154 \n\" clip-path=\"url(#p62c6945063)\" style=\"fill: none; stroke: #1f77b4; stroke-width: 1.5; stroke-linecap: square\"/>\n   </g>\n   <g id=\"line2d_23\">\n    <path d=\"M 54.606838 22.023199 \n\" clip-path=\"url(#p62c6945063)\" style=\"fill: none; stroke-dasharray: 5.55,2.4; stroke-dashoffset: 0; stroke: #ff7f0e; stroke-width: 1.5\"/>\n   </g>\n   <g id=\"line2d_24\">\n    <path d=\"M 47.360085 73.409329 \nL 50.983462 60.959407 \nL 54.606838 49.131475 \nL 58.230215 38.397075 \nL 61.853592 29.184154 \nL 65.476968 21.860003 \n\" clip-path=\"url(#p62c6945063)\" style=\"fill: none; stroke: #1f77b4; stroke-width: 1.5; stroke-linecap: square\"/>\n   </g>\n   <g id=\"line2d_25\">\n    <path d=\"M 54.606838 22.023199 \n\" clip-path=\"url(#p62c6945063)\" style=\"fill: none; stroke-dasharray: 5.55,2.4; stroke-dashoffset: 0; stroke: #ff7f0e; stroke-width: 1.5\"/>\n   </g>\n   <g id=\"line2d_26\">\n    <path d=\"M 47.360085 73.409329 \nL 50.983462 60.959407 \nL 54.606838 49.131475 \nL 58.230215 38.397075 \nL 61.853592 29.184154 \nL 65.476968 21.860003 \nL 69.100345 16.716611 \n\" clip-path=\"url(#p62c6945063)\" style=\"fill: none; stroke: #1f77b4; stroke-width: 1.5; stroke-linecap: square\"/>\n   </g>\n   <g id=\"line2d_27\">\n    <path d=\"M 54.606838 22.023199 \n\" clip-path=\"url(#p62c6945063)\" style=\"fill: none; stroke-dasharray: 5.55,2.4; stroke-dashoffset: 0; stroke: #ff7f0e; stroke-width: 1.5\"/>\n   </g>\n   <g id=\"line2d_28\">\n    <path d=\"M 47.360085 73.409329 \nL 50.983462 60.959407 \nL 54.606838 49.131475 \nL 58.230215 38.397075 \nL 61.853592 29.184154 \nL 65.476968 21.860003 \nL 69.100345 16.716611 \nL 72.723722 13.959031 \n\" clip-path=\"url(#p62c6945063)\" style=\"fill: none; stroke: #1f77b4; stroke-width: 1.5; stroke-linecap: square\"/>\n   </g>\n   <g id=\"line2d_29\">\n    <path d=\"M 54.606838 22.023199 \n\" clip-path=\"url(#p62c6945063)\" style=\"fill: none; stroke-dasharray: 5.55,2.4; stroke-dashoffset: 0; stroke: #ff7f0e; stroke-width: 1.5\"/>\n   </g>\n   <g id=\"line2d_30\">\n    <path d=\"M 47.360085 73.409329 \nL 50.983462 60.959407 \nL 54.606838 49.131475 \nL 58.230215 38.397075 \nL 61.853592 29.184154 \nL 65.476968 21.860003 \nL 69.100345 16.716611 \nL 72.723722 13.959031 \nL 76.347098 13.697196 \n\" clip-path=\"url(#p62c6945063)\" style=\"fill: none; stroke: #1f77b4; stroke-width: 1.5; stroke-linecap: square\"/>\n   </g>\n   <g id=\"line2d_31\">\n    <path d=\"M 54.606838 22.023199 \n\" clip-path=\"url(#p62c6945063)\" style=\"fill: none; stroke-dasharray: 5.55,2.4; stroke-dashoffset: 0; stroke: #ff7f0e; stroke-width: 1.5\"/>\n   </g>\n   <g id=\"line2d_32\">\n    <path d=\"M 47.360085 73.409329 \nL 50.983462 60.959407 \nL 54.606838 49.131475 \nL 58.230215 38.397075 \nL 61.853592 29.184154 \nL 65.476968 21.860003 \nL 69.100345 16.716611 \nL 72.723722 13.959031 \nL 76.347098 13.697196 \nL 79.970475 15.941548 \n\" clip-path=\"url(#p62c6945063)\" style=\"fill: none; stroke: #1f77b4; stroke-width: 1.5; stroke-linecap: square\"/>\n   </g>\n   <g id=\"line2d_33\">\n    <path d=\"M 54.606838 22.023199 \n\" clip-path=\"url(#p62c6945063)\" style=\"fill: none; stroke-dasharray: 5.55,2.4; stroke-dashoffset: 0; stroke: #ff7f0e; stroke-width: 1.5\"/>\n   </g>\n   <g id=\"line2d_34\">\n    <path d=\"M 47.360085 73.409329 \nL 50.983462 60.959407 \nL 54.606838 49.131475 \nL 58.230215 38.397075 \nL 61.853592 29.184154 \nL 65.476968 21.860003 \nL 69.100345 16.716611 \nL 72.723722 13.959031 \nL 76.347098 13.697196 \nL 79.970475 15.941548 \n\" clip-path=\"url(#p62c6945063)\" style=\"fill: none; stroke: #1f77b4; stroke-width: 1.5; stroke-linecap: square\"/>\n   </g>\n   <g id=\"line2d_35\">\n    <path d=\"M 54.606838 22.023199 \nL 72.723722 69.262535 \n\" clip-path=\"url(#p62c6945063)\" style=\"fill: none; stroke-dasharray: 5.55,2.4; stroke-dashoffset: 0; stroke: #ff7f0e; stroke-width: 1.5\"/>\n   </g>\n   <g id=\"line2d_36\">\n    <path d=\"M 47.360085 73.409329 \nL 50.983462 60.959407 \nL 54.606838 49.131475 \nL 58.230215 38.397075 \nL 61.853592 29.184154 \nL 65.476968 21.860003 \nL 69.100345 16.716611 \nL 72.723722 13.959031 \nL 76.347098 13.697196 \nL 79.970475 15.941548 \nL 83.593851 20.602609 \n\" clip-path=\"url(#p62c6945063)\" style=\"fill: none; stroke: #1f77b4; stroke-width: 1.5; stroke-linecap: square\"/>\n   </g>\n   <g id=\"line2d_37\">\n    <path d=\"M 54.606838 22.023199 \nL 72.723722 69.262535 \n\" clip-path=\"url(#p62c6945063)\" style=\"fill: none; stroke-dasharray: 5.55,2.4; stroke-dashoffset: 0; stroke: #ff7f0e; stroke-width: 1.5\"/>\n   </g>\n   <g id=\"line2d_38\">\n    <path d=\"M 47.360085 73.409329 \nL 50.983462 60.959407 \nL 54.606838 49.131475 \nL 58.230215 38.397075 \nL 61.853592 29.184154 \nL 65.476968 21.860003 \nL 69.100345 16.716611 \nL 72.723722 13.959031 \nL 76.347098 13.697196 \nL 79.970475 15.941548 \nL 83.593851 20.602609 \nL 87.217228 27.494558 \n\" clip-path=\"url(#p62c6945063)\" style=\"fill: none; stroke: #1f77b4; stroke-width: 1.5; stroke-linecap: square\"/>\n   </g>\n   <g id=\"line2d_39\">\n    <path d=\"M 54.606838 22.023199 \nL 72.723722 69.262535 \n\" clip-path=\"url(#p62c6945063)\" style=\"fill: none; stroke-dasharray: 5.55,2.4; stroke-dashoffset: 0; stroke: #ff7f0e; stroke-width: 1.5\"/>\n   </g>\n   <g id=\"line2d_40\">\n    <path d=\"M 47.360085 73.409329 \nL 50.983462 60.959407 \nL 54.606838 49.131475 \nL 58.230215 38.397075 \nL 61.853592 29.184154 \nL 65.476968 21.860003 \nL 69.100345 16.716611 \nL 72.723722 13.959031 \nL 76.347098 13.697196 \nL 79.970475 15.941548 \nL 83.593851 20.602609 \nL 87.217228 27.494558 \nL 90.840605 36.342636 \n\" clip-path=\"url(#p62c6945063)\" style=\"fill: none; stroke: #1f77b4; stroke-width: 1.5; stroke-linecap: square\"/>\n   </g>\n   <g id=\"line2d_41\">\n    <path d=\"M 54.606838 22.023199 \nL 72.723722 69.262535 \n\" clip-path=\"url(#p62c6945063)\" style=\"fill: none; stroke-dasharray: 5.55,2.4; stroke-dashoffset: 0; stroke: #ff7f0e; stroke-width: 1.5\"/>\n   </g>\n   <g id=\"line2d_42\">\n    <path d=\"M 47.360085 73.409329 \nL 50.983462 60.959407 \nL 54.606838 49.131475 \nL 58.230215 38.397075 \nL 61.853592 29.184154 \nL 65.476968 21.860003 \nL 69.100345 16.716611 \nL 72.723722 13.959031 \nL 76.347098 13.697196 \nL 79.970475 15.941548 \nL 83.593851 20.602609 \nL 87.217228 27.494558 \nL 90.840605 36.342636 \nL 94.463981 46.794096 \n\" clip-path=\"url(#p62c6945063)\" style=\"fill: none; stroke: #1f77b4; stroke-width: 1.5; stroke-linecap: square\"/>\n   </g>\n   <g id=\"line2d_43\">\n    <path d=\"M 54.606838 22.023199 \nL 72.723722 69.262535 \n\" clip-path=\"url(#p62c6945063)\" style=\"fill: none; stroke-dasharray: 5.55,2.4; stroke-dashoffset: 0; stroke: #ff7f0e; stroke-width: 1.5\"/>\n   </g>\n   <g id=\"line2d_44\">\n    <path d=\"M 47.360085 73.409329 \nL 50.983462 60.959407 \nL 54.606838 49.131475 \nL 58.230215 38.397075 \nL 61.853592 29.184154 \nL 65.476968 21.860003 \nL 69.100345 16.716611 \nL 72.723722 13.959031 \nL 76.347098 13.697196 \nL 79.970475 15.941548 \nL 83.593851 20.602609 \nL 87.217228 27.494558 \nL 90.840605 36.342636 \nL 94.463981 46.794096 \nL 98.087358 58.432273 \n\" clip-path=\"url(#p62c6945063)\" style=\"fill: none; stroke: #1f77b4; stroke-width: 1.5; stroke-linecap: square\"/>\n   </g>\n   <g id=\"line2d_45\">\n    <path d=\"M 54.606838 22.023199 \nL 72.723722 69.262535 \n\" clip-path=\"url(#p62c6945063)\" style=\"fill: none; stroke-dasharray: 5.55,2.4; stroke-dashoffset: 0; stroke: #ff7f0e; stroke-width: 1.5\"/>\n   </g>\n   <g id=\"line2d_46\">\n    <path d=\"M 47.360085 73.409329 \nL 50.983462 60.959407 \nL 54.606838 49.131475 \nL 58.230215 38.397075 \nL 61.853592 29.184154 \nL 65.476968 21.860003 \nL 69.100345 16.716611 \nL 72.723722 13.959031 \nL 76.347098 13.697196 \nL 79.970475 15.941548 \nL 83.593851 20.602609 \nL 87.217228 27.494558 \nL 90.840605 36.342636 \nL 94.463981 46.794096 \nL 98.087358 58.432273 \n\" clip-path=\"url(#p62c6945063)\" style=\"fill: none; stroke: #1f77b4; stroke-width: 1.5; stroke-linecap: square\"/>\n   </g>\n   <g id=\"line2d_47\">\n    <path d=\"M 54.606838 22.023199 \nL 72.723722 69.262535 \nL 90.840605 123.212134 \n\" clip-path=\"url(#p62c6945063)\" style=\"fill: none; stroke-dasharray: 5.55,2.4; stroke-dashoffset: 0; stroke: #ff7f0e; stroke-width: 1.5\"/>\n   </g>\n   <g id=\"line2d_48\">\n    <path d=\"M 47.360085 73.409329 \nL 50.983462 60.959407 \nL 54.606838 49.131475 \nL 58.230215 38.397075 \nL 61.853592 29.184154 \nL 65.476968 21.860003 \nL 69.100345 16.716611 \nL 72.723722 13.959031 \nL 76.347098 13.697196 \nL 79.970475 15.941548 \nL 83.593851 20.602609 \nL 87.217228 27.494558 \nL 90.840605 36.342636 \nL 94.463981 46.794096 \nL 98.087358 58.432273 \nL 101.710735 70.793189 \n\" clip-path=\"url(#p62c6945063)\" style=\"fill: none; stroke: #1f77b4; stroke-width: 1.5; stroke-linecap: square\"/>\n   </g>\n   <g id=\"line2d_49\">\n    <path d=\"M 54.606838 22.023199 \nL 72.723722 69.262535 \nL 90.840605 123.212134 \n\" clip-path=\"url(#p62c6945063)\" style=\"fill: none; stroke-dasharray: 5.55,2.4; stroke-dashoffset: 0; stroke: #ff7f0e; stroke-width: 1.5\"/>\n   </g>\n   <g id=\"line2d_50\">\n    <path d=\"M 47.360085 73.409329 \nL 50.983462 60.959407 \nL 54.606838 49.131475 \nL 58.230215 38.397075 \nL 61.853592 29.184154 \nL 65.476968 21.860003 \nL 69.100345 16.716611 \nL 72.723722 13.959031 \nL 76.347098 13.697196 \nL 79.970475 15.941548 \nL 83.593851 20.602609 \nL 87.217228 27.494558 \nL 90.840605 36.342636 \nL 94.463981 46.794096 \nL 98.087358 58.432273 \nL 101.710735 70.793189 \nL 105.334111 83.384053 \n\" clip-path=\"url(#p62c6945063)\" style=\"fill: none; stroke: #1f77b4; stroke-width: 1.5; stroke-linecap: square\"/>\n   </g>\n   <g id=\"line2d_51\">\n    <path d=\"M 54.606838 22.023199 \nL 72.723722 69.262535 \nL 90.840605 123.212134 \n\" clip-path=\"url(#p62c6945063)\" style=\"fill: none; stroke-dasharray: 5.55,2.4; stroke-dashoffset: 0; stroke: #ff7f0e; stroke-width: 1.5\"/>\n   </g>\n   <g id=\"line2d_52\">\n    <path d=\"M 47.360085 73.409329 \nL 50.983462 60.959407 \nL 54.606838 49.131475 \nL 58.230215 38.397075 \nL 61.853592 29.184154 \nL 65.476968 21.860003 \nL 69.100345 16.716611 \nL 72.723722 13.959031 \nL 76.347098 13.697196 \nL 79.970475 15.941548 \nL 83.593851 20.602609 \nL 87.217228 27.494558 \nL 90.840605 36.342636 \nL 94.463981 46.794096 \nL 98.087358 58.432273 \nL 101.710735 70.793189 \nL 105.334111 83.384053 \nL 108.957488 95.702907 \n\" clip-path=\"url(#p62c6945063)\" style=\"fill: none; stroke: #1f77b4; stroke-width: 1.5; stroke-linecap: square\"/>\n   </g>\n   <g id=\"line2d_53\">\n    <path d=\"M 54.606838 22.023199 \nL 72.723722 69.262535 \nL 90.840605 123.212134 \n\" clip-path=\"url(#p62c6945063)\" style=\"fill: none; stroke-dasharray: 5.55,2.4; stroke-dashoffset: 0; stroke: #ff7f0e; stroke-width: 1.5\"/>\n   </g>\n   <g id=\"line2d_54\">\n    <path d=\"M 47.360085 73.409329 \nL 50.983462 60.959407 \nL 54.606838 49.131475 \nL 58.230215 38.397075 \nL 61.853592 29.184154 \nL 65.476968 21.860003 \nL 69.100345 16.716611 \nL 72.723722 13.959031 \nL 76.347098 13.697196 \nL 79.970475 15.941548 \nL 83.593851 20.602609 \nL 87.217228 27.494558 \nL 90.840605 36.342636 \nL 94.463981 46.794096 \nL 98.087358 58.432273 \nL 101.710735 70.793189 \nL 105.334111 83.384053 \nL 108.957488 95.702907 \nL 112.580864 107.258638 \n\" clip-path=\"url(#p62c6945063)\" style=\"fill: none; stroke: #1f77b4; stroke-width: 1.5; stroke-linecap: square\"/>\n   </g>\n   <g id=\"line2d_55\">\n    <path d=\"M 54.606838 22.023199 \nL 72.723722 69.262535 \nL 90.840605 123.212134 \n\" clip-path=\"url(#p62c6945063)\" style=\"fill: none; stroke-dasharray: 5.55,2.4; stroke-dashoffset: 0; stroke: #ff7f0e; stroke-width: 1.5\"/>\n   </g>\n   <g id=\"line2d_56\">\n    <path d=\"M 47.360085 73.409329 \nL 50.983462 60.959407 \nL 54.606838 49.131475 \nL 58.230215 38.397075 \nL 61.853592 29.184154 \nL 65.476968 21.860003 \nL 69.100345 16.716611 \nL 72.723722 13.959031 \nL 76.347098 13.697196 \nL 79.970475 15.941548 \nL 83.593851 20.602609 \nL 87.217228 27.494558 \nL 90.840605 36.342636 \nL 94.463981 46.794096 \nL 98.087358 58.432273 \nL 101.710735 70.793189 \nL 105.334111 83.384053 \nL 108.957488 95.702907 \nL 112.580864 107.258638 \nL 116.204241 117.590554 \n\" clip-path=\"url(#p62c6945063)\" style=\"fill: none; stroke: #1f77b4; stroke-width: 1.5; stroke-linecap: square\"/>\n   </g>\n   <g id=\"line2d_57\">\n    <path d=\"M 54.606838 22.023199 \nL 72.723722 69.262535 \nL 90.840605 123.212134 \n\" clip-path=\"url(#p62c6945063)\" style=\"fill: none; stroke-dasharray: 5.55,2.4; stroke-dashoffset: 0; stroke: #ff7f0e; stroke-width: 1.5\"/>\n   </g>\n   <g id=\"line2d_58\">\n    <path d=\"M 47.360085 73.409329 \nL 50.983462 60.959407 \nL 54.606838 49.131475 \nL 58.230215 38.397075 \nL 61.853592 29.184154 \nL 65.476968 21.860003 \nL 69.100345 16.716611 \nL 72.723722 13.959031 \nL 76.347098 13.697196 \nL 79.970475 15.941548 \nL 83.593851 20.602609 \nL 87.217228 27.494558 \nL 90.840605 36.342636 \nL 94.463981 46.794096 \nL 98.087358 58.432273 \nL 101.710735 70.793189 \nL 105.334111 83.384053 \nL 108.957488 95.702907 \nL 112.580864 107.258638 \nL 116.204241 117.590554 \n\" clip-path=\"url(#p62c6945063)\" style=\"fill: none; stroke: #1f77b4; stroke-width: 1.5; stroke-linecap: square\"/>\n   </g>\n   <g id=\"line2d_59\">\n    <path d=\"M 54.606838 22.023199 \nL 72.723722 69.262535 \nL 90.840605 123.212134 \nL 108.957488 134.270983 \n\" clip-path=\"url(#p62c6945063)\" style=\"fill: none; stroke-dasharray: 5.55,2.4; stroke-dashoffset: 0; stroke: #ff7f0e; stroke-width: 1.5\"/>\n   </g>\n   <g id=\"line2d_60\">\n    <path d=\"M 47.360085 73.409329 \nL 50.983462 60.959407 \nL 54.606838 49.131475 \nL 58.230215 38.397075 \nL 61.853592 29.184154 \nL 65.476968 21.860003 \nL 69.100345 16.716611 \nL 72.723722 13.959031 \nL 76.347098 13.697196 \nL 79.970475 15.941548 \nL 83.593851 20.602609 \nL 87.217228 27.494558 \nL 90.840605 36.342636 \nL 94.463981 46.794096 \nL 98.087358 58.432273 \nL 101.710735 70.793189 \nL 105.334111 83.384053 \nL 108.957488 95.702907 \nL 112.580864 107.258638 \nL 116.204241 117.590554 \nL 119.827618 126.286755 \n\" clip-path=\"url(#p62c6945063)\" style=\"fill: none; stroke: #1f77b4; stroke-width: 1.5; stroke-linecap: square\"/>\n   </g>\n   <g id=\"line2d_61\">\n    <path d=\"M 54.606838 22.023199 \nL 72.723722 69.262535 \nL 90.840605 123.212134 \nL 108.957488 134.270983 \n\" clip-path=\"url(#p62c6945063)\" style=\"fill: none; stroke-dasharray: 5.55,2.4; stroke-dashoffset: 0; stroke: #ff7f0e; stroke-width: 1.5\"/>\n   </g>\n   <g id=\"line2d_62\">\n    <path d=\"M 47.360085 73.409329 \nL 50.983462 60.959407 \nL 54.606838 49.131475 \nL 58.230215 38.397075 \nL 61.853592 29.184154 \nL 65.476968 21.860003 \nL 69.100345 16.716611 \nL 72.723722 13.959031 \nL 76.347098 13.697196 \nL 79.970475 15.941548 \nL 83.593851 20.602609 \nL 87.217228 27.494558 \nL 90.840605 36.342636 \nL 94.463981 46.794096 \nL 98.087358 58.432273 \nL 101.710735 70.793189 \nL 105.334111 83.384053 \nL 108.957488 95.702907 \nL 112.580864 107.258638 \nL 116.204241 117.590554 \nL 119.827618 126.286755 \nL 123.450994 133.000552 \n\" clip-path=\"url(#p62c6945063)\" style=\"fill: none; stroke: #1f77b4; stroke-width: 1.5; stroke-linecap: square\"/>\n   </g>\n   <g id=\"line2d_63\">\n    <path d=\"M 54.606838 22.023199 \nL 72.723722 69.262535 \nL 90.840605 123.212134 \nL 108.957488 134.270983 \n\" clip-path=\"url(#p62c6945063)\" style=\"fill: none; stroke-dasharray: 5.55,2.4; stroke-dashoffset: 0; stroke: #ff7f0e; stroke-width: 1.5\"/>\n   </g>\n   <g id=\"line2d_64\">\n    <path d=\"M 47.360085 73.409329 \nL 50.983462 60.959407 \nL 54.606838 49.131475 \nL 58.230215 38.397075 \nL 61.853592 29.184154 \nL 65.476968 21.860003 \nL 69.100345 16.716611 \nL 72.723722 13.959031 \nL 76.347098 13.697196 \nL 79.970475 15.941548 \nL 83.593851 20.602609 \nL 87.217228 27.494558 \nL 90.840605 36.342636 \nL 94.463981 46.794096 \nL 98.087358 58.432273 \nL 101.710735 70.793189 \nL 105.334111 83.384053 \nL 108.957488 95.702907 \nL 112.580864 107.258638 \nL 116.204241 117.590554 \nL 119.827618 126.286755 \nL 123.450994 133.000552 \nL 127.074371 137.464285 \n\" clip-path=\"url(#p62c6945063)\" style=\"fill: none; stroke: #1f77b4; stroke-width: 1.5; stroke-linecap: square\"/>\n   </g>\n   <g id=\"line2d_65\">\n    <path d=\"M 54.606838 22.023199 \nL 72.723722 69.262535 \nL 90.840605 123.212134 \nL 108.957488 134.270983 \n\" clip-path=\"url(#p62c6945063)\" style=\"fill: none; stroke-dasharray: 5.55,2.4; stroke-dashoffset: 0; stroke: #ff7f0e; stroke-width: 1.5\"/>\n   </g>\n   <g id=\"line2d_66\">\n    <path d=\"M 47.360085 73.409329 \nL 50.983462 60.959407 \nL 54.606838 49.131475 \nL 58.230215 38.397075 \nL 61.853592 29.184154 \nL 65.476968 21.860003 \nL 69.100345 16.716611 \nL 72.723722 13.959031 \nL 76.347098 13.697196 \nL 79.970475 15.941548 \nL 83.593851 20.602609 \nL 87.217228 27.494558 \nL 90.840605 36.342636 \nL 94.463981 46.794096 \nL 98.087358 58.432273 \nL 101.710735 70.793189 \nL 105.334111 83.384053 \nL 108.957488 95.702907 \nL 112.580864 107.258638 \nL 116.204241 117.590554 \nL 119.827618 126.286755 \nL 123.450994 133.000552 \nL 127.074371 137.464285 \nL 130.697748 139.5 \n\" clip-path=\"url(#p62c6945063)\" style=\"fill: none; stroke: #1f77b4; stroke-width: 1.5; stroke-linecap: square\"/>\n   </g>\n   <g id=\"line2d_67\">\n    <path d=\"M 54.606838 22.023199 \nL 72.723722 69.262535 \nL 90.840605 123.212134 \nL 108.957488 134.270983 \n\" clip-path=\"url(#p62c6945063)\" style=\"fill: none; stroke-dasharray: 5.55,2.4; stroke-dashoffset: 0; stroke: #ff7f0e; stroke-width: 1.5\"/>\n   </g>\n   <g id=\"line2d_68\">\n    <path d=\"M 47.360085 73.409329 \nL 50.983462 60.959407 \nL 54.606838 49.131475 \nL 58.230215 38.397075 \nL 61.853592 29.184154 \nL 65.476968 21.860003 \nL 69.100345 16.716611 \nL 72.723722 13.959031 \nL 76.347098 13.697196 \nL 79.970475 15.941548 \nL 83.593851 20.602609 \nL 87.217228 27.494558 \nL 90.840605 36.342636 \nL 94.463981 46.794096 \nL 98.087358 58.432273 \nL 101.710735 70.793189 \nL 105.334111 83.384053 \nL 108.957488 95.702907 \nL 112.580864 107.258638 \nL 116.204241 117.590554 \nL 119.827618 126.286755 \nL 123.450994 133.000552 \nL 127.074371 137.464285 \nL 130.697748 139.5 \nL 134.321124 139.02654 \n\" clip-path=\"url(#p62c6945063)\" style=\"fill: none; stroke: #1f77b4; stroke-width: 1.5; stroke-linecap: square\"/>\n   </g>\n   <g id=\"line2d_69\">\n    <path d=\"M 54.606838 22.023199 \nL 72.723722 69.262535 \nL 90.840605 123.212134 \nL 108.957488 134.270983 \n\" clip-path=\"url(#p62c6945063)\" style=\"fill: none; stroke-dasharray: 5.55,2.4; stroke-dashoffset: 0; stroke: #ff7f0e; stroke-width: 1.5\"/>\n   </g>\n   <g id=\"line2d_70\">\n    <path d=\"M 47.360085 73.409329 \nL 50.983462 60.959407 \nL 54.606838 49.131475 \nL 58.230215 38.397075 \nL 61.853592 29.184154 \nL 65.476968 21.860003 \nL 69.100345 16.716611 \nL 72.723722 13.959031 \nL 76.347098 13.697196 \nL 79.970475 15.941548 \nL 83.593851 20.602609 \nL 87.217228 27.494558 \nL 90.840605 36.342636 \nL 94.463981 46.794096 \nL 98.087358 58.432273 \nL 101.710735 70.793189 \nL 105.334111 83.384053 \nL 108.957488 95.702907 \nL 112.580864 107.258638 \nL 116.204241 117.590554 \nL 119.827618 126.286755 \nL 123.450994 133.000552 \nL 127.074371 137.464285 \nL 130.697748 139.5 \nL 134.321124 139.02654 \n\" clip-path=\"url(#p62c6945063)\" style=\"fill: none; stroke: #1f77b4; stroke-width: 1.5; stroke-linecap: square\"/>\n   </g>\n   <g id=\"line2d_71\">\n    <path d=\"M 54.606838 22.023199 \nL 72.723722 69.262535 \nL 90.840605 123.212134 \nL 108.957488 134.270983 \nL 127.074371 92.271627 \n\" clip-path=\"url(#p62c6945063)\" style=\"fill: none; stroke-dasharray: 5.55,2.4; stroke-dashoffset: 0; stroke: #ff7f0e; stroke-width: 1.5\"/>\n   </g>\n   <g id=\"line2d_72\">\n    <path d=\"M 47.360085 73.409329 \nL 50.983462 60.959407 \nL 54.606838 49.131475 \nL 58.230215 38.397075 \nL 61.853592 29.184154 \nL 65.476968 21.860003 \nL 69.100345 16.716611 \nL 72.723722 13.959031 \nL 76.347098 13.697196 \nL 79.970475 15.941548 \nL 83.593851 20.602609 \nL 87.217228 27.494558 \nL 90.840605 36.342636 \nL 94.463981 46.794096 \nL 98.087358 58.432273 \nL 101.710735 70.793189 \nL 105.334111 83.384053 \nL 108.957488 95.702907 \nL 112.580864 107.258638 \nL 116.204241 117.590554 \nL 119.827618 126.286755 \nL 123.450994 133.000552 \nL 127.074371 137.464285 \nL 130.697748 139.5 \nL 134.321124 139.02654 \nL 137.944501 136.062779 \n\" clip-path=\"url(#p62c6945063)\" style=\"fill: none; stroke: #1f77b4; stroke-width: 1.5; stroke-linecap: square\"/>\n   </g>\n   <g id=\"line2d_73\">\n    <path d=\"M 54.606838 22.023199 \nL 72.723722 69.262535 \nL 90.840605 123.212134 \nL 108.957488 134.270983 \nL 127.074371 92.271627 \n\" clip-path=\"url(#p62c6945063)\" style=\"fill: none; stroke-dasharray: 5.55,2.4; stroke-dashoffset: 0; stroke: #ff7f0e; stroke-width: 1.5\"/>\n   </g>\n   <g id=\"line2d_74\">\n    <path d=\"M 47.360085 73.409329 \nL 50.983462 60.959407 \nL 54.606838 49.131475 \nL 58.230215 38.397075 \nL 61.853592 29.184154 \nL 65.476968 21.860003 \nL 69.100345 16.716611 \nL 72.723722 13.959031 \nL 76.347098 13.697196 \nL 79.970475 15.941548 \nL 83.593851 20.602609 \nL 87.217228 27.494558 \nL 90.840605 36.342636 \nL 94.463981 46.794096 \nL 98.087358 58.432273 \nL 101.710735 70.793189 \nL 105.334111 83.384053 \nL 108.957488 95.702907 \nL 112.580864 107.258638 \nL 116.204241 117.590554 \nL 119.827618 126.286755 \nL 123.450994 133.000552 \nL 127.074371 137.464285 \nL 130.697748 139.5 \nL 134.321124 139.02654 \nL 137.944501 136.062779 \nL 141.567877 130.726874 \n\" clip-path=\"url(#p62c6945063)\" style=\"fill: none; stroke: #1f77b4; stroke-width: 1.5; stroke-linecap: square\"/>\n   </g>\n   <g id=\"line2d_75\">\n    <path d=\"M 54.606838 22.023199 \nL 72.723722 69.262535 \nL 90.840605 123.212134 \nL 108.957488 134.270983 \nL 127.074371 92.271627 \n\" clip-path=\"url(#p62c6945063)\" style=\"fill: none; stroke-dasharray: 5.55,2.4; stroke-dashoffset: 0; stroke: #ff7f0e; stroke-width: 1.5\"/>\n   </g>\n   <g id=\"line2d_76\">\n    <path d=\"M 47.360085 73.409329 \nL 50.983462 60.959407 \nL 54.606838 49.131475 \nL 58.230215 38.397075 \nL 61.853592 29.184154 \nL 65.476968 21.860003 \nL 69.100345 16.716611 \nL 72.723722 13.959031 \nL 76.347098 13.697196 \nL 79.970475 15.941548 \nL 83.593851 20.602609 \nL 87.217228 27.494558 \nL 90.840605 36.342636 \nL 94.463981 46.794096 \nL 98.087358 58.432273 \nL 101.710735 70.793189 \nL 105.334111 83.384053 \nL 108.957488 95.702907 \nL 112.580864 107.258638 \nL 116.204241 117.590554 \nL 119.827618 126.286755 \nL 123.450994 133.000552 \nL 127.074371 137.464285 \nL 130.697748 139.5 \nL 134.321124 139.02654 \nL 137.944501 136.062779 \nL 141.567877 130.726874 \nL 145.191254 123.231551 \n\" clip-path=\"url(#p62c6945063)\" style=\"fill: none; stroke: #1f77b4; stroke-width: 1.5; stroke-linecap: square\"/>\n   </g>\n   <g id=\"line2d_77\">\n    <path d=\"M 54.606838 22.023199 \nL 72.723722 69.262535 \nL 90.840605 123.212134 \nL 108.957488 134.270983 \nL 127.074371 92.271627 \n\" clip-path=\"url(#p62c6945063)\" style=\"fill: none; stroke-dasharray: 5.55,2.4; stroke-dashoffset: 0; stroke: #ff7f0e; stroke-width: 1.5\"/>\n   </g>\n   <g id=\"line2d_78\">\n    <path d=\"M 47.360085 73.409329 \nL 50.983462 60.959407 \nL 54.606838 49.131475 \nL 58.230215 38.397075 \nL 61.853592 29.184154 \nL 65.476968 21.860003 \nL 69.100345 16.716611 \nL 72.723722 13.959031 \nL 76.347098 13.697196 \nL 79.970475 15.941548 \nL 83.593851 20.602609 \nL 87.217228 27.494558 \nL 90.840605 36.342636 \nL 94.463981 46.794096 \nL 98.087358 58.432273 \nL 101.710735 70.793189 \nL 105.334111 83.384053 \nL 108.957488 95.702907 \nL 112.580864 107.258638 \nL 116.204241 117.590554 \nL 119.827618 126.286755 \nL 123.450994 133.000552 \nL 127.074371 137.464285 \nL 130.697748 139.5 \nL 134.321124 139.02654 \nL 137.944501 136.062779 \nL 141.567877 130.726874 \nL 145.191254 123.231551 \nL 148.814631 113.875623 \n\" clip-path=\"url(#p62c6945063)\" style=\"fill: none; stroke: #1f77b4; stroke-width: 1.5; stroke-linecap: square\"/>\n   </g>\n   <g id=\"line2d_79\">\n    <path d=\"M 54.606838 22.023199 \nL 72.723722 69.262535 \nL 90.840605 123.212134 \nL 108.957488 134.270983 \nL 127.074371 92.271627 \n\" clip-path=\"url(#p62c6945063)\" style=\"fill: none; stroke-dasharray: 5.55,2.4; stroke-dashoffset: 0; stroke: #ff7f0e; stroke-width: 1.5\"/>\n   </g>\n   <g id=\"line2d_80\">\n    <path d=\"M 47.360085 73.409329 \nL 50.983462 60.959407 \nL 54.606838 49.131475 \nL 58.230215 38.397075 \nL 61.853592 29.184154 \nL 65.476968 21.860003 \nL 69.100345 16.716611 \nL 72.723722 13.959031 \nL 76.347098 13.697196 \nL 79.970475 15.941548 \nL 83.593851 20.602609 \nL 87.217228 27.494558 \nL 90.840605 36.342636 \nL 94.463981 46.794096 \nL 98.087358 58.432273 \nL 101.710735 70.793189 \nL 105.334111 83.384053 \nL 108.957488 95.702907 \nL 112.580864 107.258638 \nL 116.204241 117.590554 \nL 119.827618 126.286755 \nL 123.450994 133.000552 \nL 127.074371 137.464285 \nL 130.697748 139.5 \nL 134.321124 139.02654 \nL 137.944501 136.062779 \nL 141.567877 130.726874 \nL 145.191254 123.231551 \nL 148.814631 113.875623 \nL 152.438007 103.032084 \n\" clip-path=\"url(#p62c6945063)\" style=\"fill: none; stroke: #1f77b4; stroke-width: 1.5; stroke-linecap: square\"/>\n   </g>\n   <g id=\"line2d_81\">\n    <path d=\"M 54.606838 22.023199 \nL 72.723722 69.262535 \nL 90.840605 123.212134 \nL 108.957488 134.270983 \nL 127.074371 92.271627 \n\" clip-path=\"url(#p62c6945063)\" style=\"fill: none; stroke-dasharray: 5.55,2.4; stroke-dashoffset: 0; stroke: #ff7f0e; stroke-width: 1.5\"/>\n   </g>\n   <g id=\"line2d_82\">\n    <path d=\"M 47.360085 73.409329 \nL 50.983462 60.959407 \nL 54.606838 49.131475 \nL 58.230215 38.397075 \nL 61.853592 29.184154 \nL 65.476968 21.860003 \nL 69.100345 16.716611 \nL 72.723722 13.959031 \nL 76.347098 13.697196 \nL 79.970475 15.941548 \nL 83.593851 20.602609 \nL 87.217228 27.494558 \nL 90.840605 36.342636 \nL 94.463981 46.794096 \nL 98.087358 58.432273 \nL 101.710735 70.793189 \nL 105.334111 83.384053 \nL 108.957488 95.702907 \nL 112.580864 107.258638 \nL 116.204241 117.590554 \nL 119.827618 126.286755 \nL 123.450994 133.000552 \nL 127.074371 137.464285 \nL 130.697748 139.5 \nL 134.321124 139.02654 \nL 137.944501 136.062779 \nL 141.567877 130.726874 \nL 145.191254 123.231551 \nL 148.814631 113.875623 \nL 152.438007 103.032084 \n\" clip-path=\"url(#p62c6945063)\" style=\"fill: none; stroke: #1f77b4; stroke-width: 1.5; stroke-linecap: square\"/>\n   </g>\n   <g id=\"line2d_83\">\n    <path d=\"M 54.606838 22.023199 \nL 72.723722 69.262535 \nL 90.840605 123.212134 \nL 108.957488 134.270983 \nL 127.074371 92.271627 \nL 145.191254 35.828081 \n\" clip-path=\"url(#p62c6945063)\" style=\"fill: none; stroke-dasharray: 5.55,2.4; stroke-dashoffset: 0; stroke: #ff7f0e; stroke-width: 1.5\"/>\n   </g>\n   <g id=\"line2d_84\">\n    <path d=\"M 47.360085 73.409329 \nL 50.983462 60.959407 \nL 54.606838 49.131475 \nL 58.230215 38.397075 \nL 61.853592 29.184154 \nL 65.476968 21.860003 \nL 69.100345 16.716611 \nL 72.723722 13.959031 \nL 76.347098 13.697196 \nL 79.970475 15.941548 \nL 83.593851 20.602609 \nL 87.217228 27.494558 \nL 90.840605 36.342636 \nL 94.463981 46.794096 \nL 98.087358 58.432273 \nL 101.710735 70.793189 \nL 105.334111 83.384053 \nL 108.957488 95.702907 \nL 112.580864 107.258638 \nL 116.204241 117.590554 \nL 119.827618 126.286755 \nL 123.450994 133.000552 \nL 127.074371 137.464285 \nL 130.697748 139.5 \nL 134.321124 139.02654 \nL 137.944501 136.062779 \nL 141.567877 130.726874 \nL 145.191254 123.231551 \nL 148.814631 113.875623 \nL 152.438007 103.032084 \nL 156.061384 91.133229 \n\" clip-path=\"url(#p62c6945063)\" style=\"fill: none; stroke: #1f77b4; stroke-width: 1.5; stroke-linecap: square\"/>\n   </g>\n   <g id=\"line2d_85\">\n    <path d=\"M 54.606838 22.023199 \nL 72.723722 69.262535 \nL 90.840605 123.212134 \nL 108.957488 134.270983 \nL 127.074371 92.271627 \nL 145.191254 35.828081 \n\" clip-path=\"url(#p62c6945063)\" style=\"fill: none; stroke-dasharray: 5.55,2.4; stroke-dashoffset: 0; stroke: #ff7f0e; stroke-width: 1.5\"/>\n   </g>\n   <g id=\"line2d_86\">\n    <path d=\"M 47.360085 73.409329 \nL 50.983462 60.959407 \nL 54.606838 49.131475 \nL 58.230215 38.397075 \nL 61.853592 29.184154 \nL 65.476968 21.860003 \nL 69.100345 16.716611 \nL 72.723722 13.959031 \nL 76.347098 13.697196 \nL 79.970475 15.941548 \nL 83.593851 20.602609 \nL 87.217228 27.494558 \nL 90.840605 36.342636 \nL 94.463981 46.794096 \nL 98.087358 58.432273 \nL 101.710735 70.793189 \nL 105.334111 83.384053 \nL 108.957488 95.702907 \nL 112.580864 107.258638 \nL 116.204241 117.590554 \nL 119.827618 126.286755 \nL 123.450994 133.000552 \nL 127.074371 137.464285 \nL 130.697748 139.5 \nL 134.321124 139.02654 \nL 137.944501 136.062779 \nL 141.567877 130.726874 \nL 145.191254 123.231551 \nL 148.814631 113.875623 \nL 152.438007 103.032084 \nL 156.061384 91.133229 \nL 159.684761 78.653429 \n\" clip-path=\"url(#p62c6945063)\" style=\"fill: none; stroke: #1f77b4; stroke-width: 1.5; stroke-linecap: square\"/>\n   </g>\n   <g id=\"line2d_87\">\n    <path d=\"M 54.606838 22.023199 \nL 72.723722 69.262535 \nL 90.840605 123.212134 \nL 108.957488 134.270983 \nL 127.074371 92.271627 \nL 145.191254 35.828081 \n\" clip-path=\"url(#p62c6945063)\" style=\"fill: none; stroke-dasharray: 5.55,2.4; stroke-dashoffset: 0; stroke: #ff7f0e; stroke-width: 1.5\"/>\n   </g>\n   <g id=\"line2d_88\">\n    <path d=\"M 47.360085 73.409329 \nL 50.983462 60.959407 \nL 54.606838 49.131475 \nL 58.230215 38.397075 \nL 61.853592 29.184154 \nL 65.476968 21.860003 \nL 69.100345 16.716611 \nL 72.723722 13.959031 \nL 76.347098 13.697196 \nL 79.970475 15.941548 \nL 83.593851 20.602609 \nL 87.217228 27.494558 \nL 90.840605 36.342636 \nL 94.463981 46.794096 \nL 98.087358 58.432273 \nL 101.710735 70.793189 \nL 105.334111 83.384053 \nL 108.957488 95.702907 \nL 112.580864 107.258638 \nL 116.204241 117.590554 \nL 119.827618 126.286755 \nL 123.450994 133.000552 \nL 127.074371 137.464285 \nL 130.697748 139.5 \nL 134.321124 139.02654 \nL 137.944501 136.062779 \nL 141.567877 130.726874 \nL 145.191254 123.231551 \nL 148.814631 113.875623 \nL 152.438007 103.032084 \nL 156.061384 91.133229 \nL 159.684761 78.653429 \nL 163.308137 66.090215 \n\" clip-path=\"url(#p62c6945063)\" style=\"fill: none; stroke: #1f77b4; stroke-width: 1.5; stroke-linecap: square\"/>\n   </g>\n   <g id=\"line2d_89\">\n    <path d=\"M 54.606838 22.023199 \nL 72.723722 69.262535 \nL 90.840605 123.212134 \nL 108.957488 134.270983 \nL 127.074371 92.271627 \nL 145.191254 35.828081 \n\" clip-path=\"url(#p62c6945063)\" style=\"fill: none; stroke-dasharray: 5.55,2.4; stroke-dashoffset: 0; stroke: #ff7f0e; stroke-width: 1.5\"/>\n   </g>\n   <g id=\"line2d_90\">\n    <path d=\"M 47.360085 73.409329 \nL 50.983462 60.959407 \nL 54.606838 49.131475 \nL 58.230215 38.397075 \nL 61.853592 29.184154 \nL 65.476968 21.860003 \nL 69.100345 16.716611 \nL 72.723722 13.959031 \nL 76.347098 13.697196 \nL 79.970475 15.941548 \nL 83.593851 20.602609 \nL 87.217228 27.494558 \nL 90.840605 36.342636 \nL 94.463981 46.794096 \nL 98.087358 58.432273 \nL 101.710735 70.793189 \nL 105.334111 83.384053 \nL 108.957488 95.702907 \nL 112.580864 107.258638 \nL 116.204241 117.590554 \nL 119.827618 126.286755 \nL 123.450994 133.000552 \nL 127.074371 137.464285 \nL 130.697748 139.5 \nL 134.321124 139.02654 \nL 137.944501 136.062779 \nL 141.567877 130.726874 \nL 145.191254 123.231551 \nL 148.814631 113.875623 \nL 152.438007 103.032084 \nL 156.061384 91.133229 \nL 159.684761 78.653429 \nL 163.308137 66.090215 \nL 166.931514 53.944442 \n\" clip-path=\"url(#p62c6945063)\" style=\"fill: none; stroke: #1f77b4; stroke-width: 1.5; stroke-linecap: square\"/>\n   </g>\n   <g id=\"line2d_91\">\n    <path d=\"M 54.606838 22.023199 \nL 72.723722 69.262535 \nL 90.840605 123.212134 \nL 108.957488 134.270983 \nL 127.074371 92.271627 \nL 145.191254 35.828081 \n\" clip-path=\"url(#p62c6945063)\" style=\"fill: none; stroke-dasharray: 5.55,2.4; stroke-dashoffset: 0; stroke: #ff7f0e; stroke-width: 1.5\"/>\n   </g>\n   <g id=\"line2d_92\">\n    <path d=\"M 47.360085 73.409329 \nL 50.983462 60.959407 \nL 54.606838 49.131475 \nL 58.230215 38.397075 \nL 61.853592 29.184154 \nL 65.476968 21.860003 \nL 69.100345 16.716611 \nL 72.723722 13.959031 \nL 76.347098 13.697196 \nL 79.970475 15.941548 \nL 83.593851 20.602609 \nL 87.217228 27.494558 \nL 90.840605 36.342636 \nL 94.463981 46.794096 \nL 98.087358 58.432273 \nL 101.710735 70.793189 \nL 105.334111 83.384053 \nL 108.957488 95.702907 \nL 112.580864 107.258638 \nL 116.204241 117.590554 \nL 119.827618 126.286755 \nL 123.450994 133.000552 \nL 127.074371 137.464285 \nL 130.697748 139.5 \nL 134.321124 139.02654 \nL 137.944501 136.062779 \nL 141.567877 130.726874 \nL 145.191254 123.231551 \nL 148.814631 113.875623 \nL 152.438007 103.032084 \nL 156.061384 91.133229 \nL 159.684761 78.653429 \nL 163.308137 66.090215 \nL 166.931514 53.944442 \nL 170.55489 42.700323 \n\" clip-path=\"url(#p62c6945063)\" style=\"fill: none; stroke: #1f77b4; stroke-width: 1.5; stroke-linecap: square\"/>\n   </g>\n   <g id=\"line2d_93\">\n    <path d=\"M 54.606838 22.023199 \nL 72.723722 69.262535 \nL 90.840605 123.212134 \nL 108.957488 134.270983 \nL 127.074371 92.271627 \nL 145.191254 35.828081 \n\" clip-path=\"url(#p62c6945063)\" style=\"fill: none; stroke-dasharray: 5.55,2.4; stroke-dashoffset: 0; stroke: #ff7f0e; stroke-width: 1.5\"/>\n   </g>\n   <g id=\"line2d_94\">\n    <path d=\"M 47.360085 73.409329 \nL 50.983462 60.959407 \nL 54.606838 49.131475 \nL 58.230215 38.397075 \nL 61.853592 29.184154 \nL 65.476968 21.860003 \nL 69.100345 16.716611 \nL 72.723722 13.959031 \nL 76.347098 13.697196 \nL 79.970475 15.941548 \nL 83.593851 20.602609 \nL 87.217228 27.494558 \nL 90.840605 36.342636 \nL 94.463981 46.794096 \nL 98.087358 58.432273 \nL 101.710735 70.793189 \nL 105.334111 83.384053 \nL 108.957488 95.702907 \nL 112.580864 107.258638 \nL 116.204241 117.590554 \nL 119.827618 126.286755 \nL 123.450994 133.000552 \nL 127.074371 137.464285 \nL 130.697748 139.5 \nL 134.321124 139.02654 \nL 137.944501 136.062779 \nL 141.567877 130.726874 \nL 145.191254 123.231551 \nL 148.814631 113.875623 \nL 152.438007 103.032084 \nL 156.061384 91.133229 \nL 159.684761 78.653429 \nL 163.308137 66.090215 \nL 166.931514 53.944442 \nL 170.55489 42.700323 \n\" clip-path=\"url(#p62c6945063)\" style=\"fill: none; stroke: #1f77b4; stroke-width: 1.5; stroke-linecap: square\"/>\n   </g>\n   <g id=\"line2d_95\">\n    <path d=\"M 54.606838 22.023199 \nL 72.723722 69.262535 \nL 90.840605 123.212134 \nL 108.957488 134.270983 \nL 127.074371 92.271627 \nL 145.191254 35.828081 \nL 163.308137 16.83428 \n\" clip-path=\"url(#p62c6945063)\" style=\"fill: none; stroke-dasharray: 5.55,2.4; stroke-dashoffset: 0; stroke: #ff7f0e; stroke-width: 1.5\"/>\n   </g>\n   <g id=\"line2d_96\">\n    <path d=\"M 47.360085 73.409329 \nL 50.983462 60.959407 \nL 54.606838 49.131475 \nL 58.230215 38.397075 \nL 61.853592 29.184154 \nL 65.476968 21.860003 \nL 69.100345 16.716611 \nL 72.723722 13.959031 \nL 76.347098 13.697196 \nL 79.970475 15.941548 \nL 83.593851 20.602609 \nL 87.217228 27.494558 \nL 90.840605 36.342636 \nL 94.463981 46.794096 \nL 98.087358 58.432273 \nL 101.710735 70.793189 \nL 105.334111 83.384053 \nL 108.957488 95.702907 \nL 112.580864 107.258638 \nL 116.204241 117.590554 \nL 119.827618 126.286755 \nL 123.450994 133.000552 \nL 127.074371 137.464285 \nL 130.697748 139.5 \nL 134.321124 139.02654 \nL 137.944501 136.062779 \nL 141.567877 130.726874 \nL 145.191254 123.231551 \nL 148.814631 113.875623 \nL 152.438007 103.032084 \nL 156.061384 91.133229 \nL 159.684761 78.653429 \nL 163.308137 66.090215 \nL 166.931514 53.944442 \nL 170.55489 42.700323 \nL 174.178267 32.806126 \n\" clip-path=\"url(#p62c6945063)\" style=\"fill: none; stroke: #1f77b4; stroke-width: 1.5; stroke-linecap: square\"/>\n   </g>\n   <g id=\"line2d_97\">\n    <path d=\"M 54.606838 22.023199 \nL 72.723722 69.262535 \nL 90.840605 123.212134 \nL 108.957488 134.270983 \nL 127.074371 92.271627 \nL 145.191254 35.828081 \nL 163.308137 16.83428 \n\" clip-path=\"url(#p62c6945063)\" style=\"fill: none; stroke-dasharray: 5.55,2.4; stroke-dashoffset: 0; stroke: #ff7f0e; stroke-width: 1.5\"/>\n   </g>\n   <g id=\"line2d_98\">\n    <path d=\"M 47.360085 73.409329 \nL 50.983462 60.959407 \nL 54.606838 49.131475 \nL 58.230215 38.397075 \nL 61.853592 29.184154 \nL 65.476968 21.860003 \nL 69.100345 16.716611 \nL 72.723722 13.959031 \nL 76.347098 13.697196 \nL 79.970475 15.941548 \nL 83.593851 20.602609 \nL 87.217228 27.494558 \nL 90.840605 36.342636 \nL 94.463981 46.794096 \nL 98.087358 58.432273 \nL 101.710735 70.793189 \nL 105.334111 83.384053 \nL 108.957488 95.702907 \nL 112.580864 107.258638 \nL 116.204241 117.590554 \nL 119.827618 126.286755 \nL 123.450994 133.000552 \nL 127.074371 137.464285 \nL 130.697748 139.5 \nL 134.321124 139.02654 \nL 137.944501 136.062779 \nL 141.567877 130.726874 \nL 145.191254 123.231551 \nL 148.814631 113.875623 \nL 152.438007 103.032084 \nL 156.061384 91.133229 \nL 159.684761 78.653429 \nL 163.308137 66.090215 \nL 166.931514 53.944442 \nL 170.55489 42.700323 \nL 174.178267 32.806126 \nL 177.801644 24.656302 \n\" clip-path=\"url(#p62c6945063)\" style=\"fill: none; stroke: #1f77b4; stroke-width: 1.5; stroke-linecap: square\"/>\n   </g>\n   <g id=\"line2d_99\">\n    <path d=\"M 54.606838 22.023199 \nL 72.723722 69.262535 \nL 90.840605 123.212134 \nL 108.957488 134.270983 \nL 127.074371 92.271627 \nL 145.191254 35.828081 \nL 163.308137 16.83428 \n\" clip-path=\"url(#p62c6945063)\" style=\"fill: none; stroke-dasharray: 5.55,2.4; stroke-dashoffset: 0; stroke: #ff7f0e; stroke-width: 1.5\"/>\n   </g>\n   <g id=\"line2d_100\">\n    <path d=\"M 47.360085 73.409329 \nL 50.983462 60.959407 \nL 54.606838 49.131475 \nL 58.230215 38.397075 \nL 61.853592 29.184154 \nL 65.476968 21.860003 \nL 69.100345 16.716611 \nL 72.723722 13.959031 \nL 76.347098 13.697196 \nL 79.970475 15.941548 \nL 83.593851 20.602609 \nL 87.217228 27.494558 \nL 90.840605 36.342636 \nL 94.463981 46.794096 \nL 98.087358 58.432273 \nL 101.710735 70.793189 \nL 105.334111 83.384053 \nL 108.957488 95.702907 \nL 112.580864 107.258638 \nL 116.204241 117.590554 \nL 119.827618 126.286755 \nL 123.450994 133.000552 \nL 127.074371 137.464285 \nL 130.697748 139.5 \nL 134.321124 139.02654 \nL 137.944501 136.062779 \nL 141.567877 130.726874 \nL 145.191254 123.231551 \nL 148.814631 113.875623 \nL 152.438007 103.032084 \nL 156.061384 91.133229 \nL 159.684761 78.653429 \nL 163.308137 66.090215 \nL 166.931514 53.944442 \nL 170.55489 42.700323 \nL 174.178267 32.806126 \nL 177.801644 24.656302 \nL 181.42502 18.575758 \n\" clip-path=\"url(#p62c6945063)\" style=\"fill: none; stroke: #1f77b4; stroke-width: 1.5; stroke-linecap: square\"/>\n   </g>\n   <g id=\"line2d_101\">\n    <path d=\"M 54.606838 22.023199 \nL 72.723722 69.262535 \nL 90.840605 123.212134 \nL 108.957488 134.270983 \nL 127.074371 92.271627 \nL 145.191254 35.828081 \nL 163.308137 16.83428 \n\" clip-path=\"url(#p62c6945063)\" style=\"fill: none; stroke-dasharray: 5.55,2.4; stroke-dashoffset: 0; stroke: #ff7f0e; stroke-width: 1.5\"/>\n   </g>\n   <g id=\"line2d_102\">\n    <path d=\"M 47.360085 73.409329 \nL 50.983462 60.959407 \nL 54.606838 49.131475 \nL 58.230215 38.397075 \nL 61.853592 29.184154 \nL 65.476968 21.860003 \nL 69.100345 16.716611 \nL 72.723722 13.959031 \nL 76.347098 13.697196 \nL 79.970475 15.941548 \nL 83.593851 20.602609 \nL 87.217228 27.494558 \nL 90.840605 36.342636 \nL 94.463981 46.794096 \nL 98.087358 58.432273 \nL 101.710735 70.793189 \nL 105.334111 83.384053 \nL 108.957488 95.702907 \nL 112.580864 107.258638 \nL 116.204241 117.590554 \nL 119.827618 126.286755 \nL 123.450994 133.000552 \nL 127.074371 137.464285 \nL 130.697748 139.5 \nL 134.321124 139.02654 \nL 137.944501 136.062779 \nL 141.567877 130.726874 \nL 145.191254 123.231551 \nL 148.814631 113.875623 \nL 152.438007 103.032084 \nL 156.061384 91.133229 \nL 159.684761 78.653429 \nL 163.308137 66.090215 \nL 166.931514 53.944442 \nL 170.55489 42.700323 \nL 174.178267 32.806126 \nL 177.801644 24.656302 \nL 181.42502 18.575758 \nL 185.048397 14.806907 \n\" clip-path=\"url(#p62c6945063)\" style=\"fill: none; stroke: #1f77b4; stroke-width: 1.5; stroke-linecap: square\"/>\n   </g>\n   <g id=\"line2d_103\">\n    <path d=\"M 54.606838 22.023199 \nL 72.723722 69.262535 \nL 90.840605 123.212134 \nL 108.957488 134.270983 \nL 127.074371 92.271627 \nL 145.191254 35.828081 \nL 163.308137 16.83428 \n\" clip-path=\"url(#p62c6945063)\" style=\"fill: none; stroke-dasharray: 5.55,2.4; stroke-dashoffset: 0; stroke: #ff7f0e; stroke-width: 1.5\"/>\n   </g>\n   <g id=\"line2d_104\">\n    <path d=\"M 47.360085 73.409329 \nL 50.983462 60.959407 \nL 54.606838 49.131475 \nL 58.230215 38.397075 \nL 61.853592 29.184154 \nL 65.476968 21.860003 \nL 69.100345 16.716611 \nL 72.723722 13.959031 \nL 76.347098 13.697196 \nL 79.970475 15.941548 \nL 83.593851 20.602609 \nL 87.217228 27.494558 \nL 90.840605 36.342636 \nL 94.463981 46.794096 \nL 98.087358 58.432273 \nL 101.710735 70.793189 \nL 105.334111 83.384053 \nL 108.957488 95.702907 \nL 112.580864 107.258638 \nL 116.204241 117.590554 \nL 119.827618 126.286755 \nL 123.450994 133.000552 \nL 127.074371 137.464285 \nL 130.697748 139.5 \nL 134.321124 139.02654 \nL 137.944501 136.062779 \nL 141.567877 130.726874 \nL 145.191254 123.231551 \nL 148.814631 113.875623 \nL 152.438007 103.032084 \nL 156.061384 91.133229 \nL 159.684761 78.653429 \nL 163.308137 66.090215 \nL 166.931514 53.944442 \nL 170.55489 42.700323 \nL 174.178267 32.806126 \nL 177.801644 24.656302 \nL 181.42502 18.575758 \nL 185.048397 14.806907 \nL 188.671774 13.5 \n\" clip-path=\"url(#p62c6945063)\" style=\"fill: none; stroke: #1f77b4; stroke-width: 1.5; stroke-linecap: square\"/>\n   </g>\n   <g id=\"line2d_105\">\n    <path d=\"M 54.606838 22.023199 \nL 72.723722 69.262535 \nL 90.840605 123.212134 \nL 108.957488 134.270983 \nL 127.074371 92.271627 \nL 145.191254 35.828081 \nL 163.308137 16.83428 \n\" clip-path=\"url(#p62c6945063)\" style=\"fill: none; stroke-dasharray: 5.55,2.4; stroke-dashoffset: 0; stroke: #ff7f0e; stroke-width: 1.5\"/>\n   </g>\n   <g id=\"line2d_106\">\n    <path d=\"M 47.360085 73.409329 \nL 50.983462 60.959407 \nL 54.606838 49.131475 \nL 58.230215 38.397075 \nL 61.853592 29.184154 \nL 65.476968 21.860003 \nL 69.100345 16.716611 \nL 72.723722 13.959031 \nL 76.347098 13.697196 \nL 79.970475 15.941548 \nL 83.593851 20.602609 \nL 87.217228 27.494558 \nL 90.840605 36.342636 \nL 94.463981 46.794096 \nL 98.087358 58.432273 \nL 101.710735 70.793189 \nL 105.334111 83.384053 \nL 108.957488 95.702907 \nL 112.580864 107.258638 \nL 116.204241 117.590554 \nL 119.827618 126.286755 \nL 123.450994 133.000552 \nL 127.074371 137.464285 \nL 130.697748 139.5 \nL 134.321124 139.02654 \nL 137.944501 136.062779 \nL 141.567877 130.726874 \nL 145.191254 123.231551 \nL 148.814631 113.875623 \nL 152.438007 103.032084 \nL 156.061384 91.133229 \nL 159.684761 78.653429 \nL 163.308137 66.090215 \nL 166.931514 53.944442 \nL 170.55489 42.700323 \nL 174.178267 32.806126 \nL 177.801644 24.656302 \nL 181.42502 18.575758 \nL 185.048397 14.806907 \nL 188.671774 13.5 \n\" clip-path=\"url(#p62c6945063)\" style=\"fill: none; stroke: #1f77b4; stroke-width: 1.5; stroke-linecap: square\"/>\n   </g>\n   <g id=\"line2d_107\">\n    <path d=\"M 54.606838 22.023199 \nL 72.723722 69.262535 \nL 90.840605 123.212134 \nL 108.957488 134.270983 \nL 127.074371 92.271627 \nL 145.191254 35.828081 \nL 163.308137 16.83428 \nL 181.42502 52.753037 \n\" clip-path=\"url(#p62c6945063)\" style=\"fill: none; stroke-dasharray: 5.55,2.4; stroke-dashoffset: 0; stroke: #ff7f0e; stroke-width: 1.5\"/>\n   </g>\n   <g id=\"line2d_108\">\n    <path d=\"M 47.360085 73.409329 \nL 50.983462 60.959407 \nL 54.606838 49.131475 \nL 58.230215 38.397075 \nL 61.853592 29.184154 \nL 65.476968 21.860003 \nL 69.100345 16.716611 \nL 72.723722 13.959031 \nL 76.347098 13.697196 \nL 79.970475 15.941548 \nL 83.593851 20.602609 \nL 87.217228 27.494558 \nL 90.840605 36.342636 \nL 94.463981 46.794096 \nL 98.087358 58.432273 \nL 101.710735 70.793189 \nL 105.334111 83.384053 \nL 108.957488 95.702907 \nL 112.580864 107.258638 \nL 116.204241 117.590554 \nL 119.827618 126.286755 \nL 123.450994 133.000552 \nL 127.074371 137.464285 \nL 130.697748 139.5 \nL 134.321124 139.02654 \nL 137.944501 136.062779 \nL 141.567877 130.726874 \nL 145.191254 123.231551 \nL 148.814631 113.875623 \nL 152.438007 103.032084 \nL 156.061384 91.133229 \nL 159.684761 78.653429 \nL 163.308137 66.090215 \nL 166.931514 53.944442 \nL 170.55489 42.700323 \nL 174.178267 32.806126 \nL 177.801644 24.656302 \nL 181.42502 18.575758 \nL 185.048397 14.806907 \nL 188.671774 13.5 \nL 192.29515 14.70714 \n\" clip-path=\"url(#p62c6945063)\" style=\"fill: none; stroke: #1f77b4; stroke-width: 1.5; stroke-linecap: square\"/>\n   </g>\n   <g id=\"line2d_109\">\n    <path d=\"M 54.606838 22.023199 \nL 72.723722 69.262535 \nL 90.840605 123.212134 \nL 108.957488 134.270983 \nL 127.074371 92.271627 \nL 145.191254 35.828081 \nL 163.308137 16.83428 \nL 181.42502 52.753037 \n\" clip-path=\"url(#p62c6945063)\" style=\"fill: none; stroke-dasharray: 5.55,2.4; stroke-dashoffset: 0; stroke: #ff7f0e; stroke-width: 1.5\"/>\n   </g>\n   <g id=\"line2d_110\">\n    <path d=\"M 47.360085 73.409329 \nL 50.983462 60.959407 \nL 54.606838 49.131475 \nL 58.230215 38.397075 \nL 61.853592 29.184154 \nL 65.476968 21.860003 \nL 69.100345 16.716611 \nL 72.723722 13.959031 \nL 76.347098 13.697196 \nL 79.970475 15.941548 \nL 83.593851 20.602609 \nL 87.217228 27.494558 \nL 90.840605 36.342636 \nL 94.463981 46.794096 \nL 98.087358 58.432273 \nL 101.710735 70.793189 \nL 105.334111 83.384053 \nL 108.957488 95.702907 \nL 112.580864 107.258638 \nL 116.204241 117.590554 \nL 119.827618 126.286755 \nL 123.450994 133.000552 \nL 127.074371 137.464285 \nL 130.697748 139.5 \nL 134.321124 139.02654 \nL 137.944501 136.062779 \nL 141.567877 130.726874 \nL 145.191254 123.231551 \nL 148.814631 113.875623 \nL 152.438007 103.032084 \nL 156.061384 91.133229 \nL 159.684761 78.653429 \nL 163.308137 66.090215 \nL 166.931514 53.944442 \nL 170.55489 42.700323 \nL 174.178267 32.806126 \nL 177.801644 24.656302 \nL 181.42502 18.575758 \nL 185.048397 14.806907 \nL 188.671774 13.5 \nL 192.29515 14.70714 \nL 195.918527 18.380202 \n\" clip-path=\"url(#p62c6945063)\" style=\"fill: none; stroke: #1f77b4; stroke-width: 1.5; stroke-linecap: square\"/>\n   </g>\n   <g id=\"line2d_111\">\n    <path d=\"M 54.606838 22.023199 \nL 72.723722 69.262535 \nL 90.840605 123.212134 \nL 108.957488 134.270983 \nL 127.074371 92.271627 \nL 145.191254 35.828081 \nL 163.308137 16.83428 \nL 181.42502 52.753037 \n\" clip-path=\"url(#p62c6945063)\" style=\"fill: none; stroke-dasharray: 5.55,2.4; stroke-dashoffset: 0; stroke: #ff7f0e; stroke-width: 1.5\"/>\n   </g>\n   <g id=\"line2d_112\">\n    <path d=\"M 47.360085 73.409329 \nL 50.983462 60.959407 \nL 54.606838 49.131475 \nL 58.230215 38.397075 \nL 61.853592 29.184154 \nL 65.476968 21.860003 \nL 69.100345 16.716611 \nL 72.723722 13.959031 \nL 76.347098 13.697196 \nL 79.970475 15.941548 \nL 83.593851 20.602609 \nL 87.217228 27.494558 \nL 90.840605 36.342636 \nL 94.463981 46.794096 \nL 98.087358 58.432273 \nL 101.710735 70.793189 \nL 105.334111 83.384053 \nL 108.957488 95.702907 \nL 112.580864 107.258638 \nL 116.204241 117.590554 \nL 119.827618 126.286755 \nL 123.450994 133.000552 \nL 127.074371 137.464285 \nL 130.697748 139.5 \nL 134.321124 139.02654 \nL 137.944501 136.062779 \nL 141.567877 130.726874 \nL 145.191254 123.231551 \nL 148.814631 113.875623 \nL 152.438007 103.032084 \nL 156.061384 91.133229 \nL 159.684761 78.653429 \nL 163.308137 66.090215 \nL 166.931514 53.944442 \nL 170.55489 42.700323 \nL 174.178267 32.806126 \nL 177.801644 24.656302 \nL 181.42502 18.575758 \nL 185.048397 14.806907 \nL 188.671774 13.5 \nL 192.29515 14.70714 \nL 195.918527 18.380202 \nL 199.541903 24.372753 \n\" clip-path=\"url(#p62c6945063)\" style=\"fill: none; stroke: #1f77b4; stroke-width: 1.5; stroke-linecap: square\"/>\n   </g>\n   <g id=\"line2d_113\">\n    <path d=\"M 54.606838 22.023199 \nL 72.723722 69.262535 \nL 90.840605 123.212134 \nL 108.957488 134.270983 \nL 127.074371 92.271627 \nL 145.191254 35.828081 \nL 163.308137 16.83428 \nL 181.42502 52.753037 \n\" clip-path=\"url(#p62c6945063)\" style=\"fill: none; stroke-dasharray: 5.55,2.4; stroke-dashoffset: 0; stroke: #ff7f0e; stroke-width: 1.5\"/>\n   </g>\n   <g id=\"line2d_114\">\n    <path d=\"M 47.360085 73.409329 \nL 50.983462 60.959407 \nL 54.606838 49.131475 \nL 58.230215 38.397075 \nL 61.853592 29.184154 \nL 65.476968 21.860003 \nL 69.100345 16.716611 \nL 72.723722 13.959031 \nL 76.347098 13.697196 \nL 79.970475 15.941548 \nL 83.593851 20.602609 \nL 87.217228 27.494558 \nL 90.840605 36.342636 \nL 94.463981 46.794096 \nL 98.087358 58.432273 \nL 101.710735 70.793189 \nL 105.334111 83.384053 \nL 108.957488 95.702907 \nL 112.580864 107.258638 \nL 116.204241 117.590554 \nL 119.827618 126.286755 \nL 123.450994 133.000552 \nL 127.074371 137.464285 \nL 130.697748 139.5 \nL 134.321124 139.02654 \nL 137.944501 136.062779 \nL 141.567877 130.726874 \nL 145.191254 123.231551 \nL 148.814631 113.875623 \nL 152.438007 103.032084 \nL 156.061384 91.133229 \nL 159.684761 78.653429 \nL 163.308137 66.090215 \nL 166.931514 53.944442 \nL 170.55489 42.700323 \nL 174.178267 32.806126 \nL 177.801644 24.656302 \nL 181.42502 18.575758 \nL 185.048397 14.806907 \nL 188.671774 13.5 \nL 192.29515 14.70714 \nL 195.918527 18.380202 \nL 199.541903 24.372753 \nL 203.16528 32.445888 \n\" clip-path=\"url(#p62c6945063)\" style=\"fill: none; stroke: #1f77b4; stroke-width: 1.5; stroke-linecap: square\"/>\n   </g>\n   <g id=\"line2d_115\">\n    <path d=\"M 54.606838 22.023199 \nL 72.723722 69.262535 \nL 90.840605 123.212134 \nL 108.957488 134.270983 \nL 127.074371 92.271627 \nL 145.191254 35.828081 \nL 163.308137 16.83428 \nL 181.42502 52.753037 \n\" clip-path=\"url(#p62c6945063)\" style=\"fill: none; stroke-dasharray: 5.55,2.4; stroke-dashoffset: 0; stroke: #ff7f0e; stroke-width: 1.5\"/>\n   </g>\n   <g id=\"line2d_116\">\n    <path d=\"M 47.360085 73.409329 \nL 50.983462 60.959407 \nL 54.606838 49.131475 \nL 58.230215 38.397075 \nL 61.853592 29.184154 \nL 65.476968 21.860003 \nL 69.100345 16.716611 \nL 72.723722 13.959031 \nL 76.347098 13.697196 \nL 79.970475 15.941548 \nL 83.593851 20.602609 \nL 87.217228 27.494558 \nL 90.840605 36.342636 \nL 94.463981 46.794096 \nL 98.087358 58.432273 \nL 101.710735 70.793189 \nL 105.334111 83.384053 \nL 108.957488 95.702907 \nL 112.580864 107.258638 \nL 116.204241 117.590554 \nL 119.827618 126.286755 \nL 123.450994 133.000552 \nL 127.074371 137.464285 \nL 130.697748 139.5 \nL 134.321124 139.02654 \nL 137.944501 136.062779 \nL 141.567877 130.726874 \nL 145.191254 123.231551 \nL 148.814631 113.875623 \nL 152.438007 103.032084 \nL 156.061384 91.133229 \nL 159.684761 78.653429 \nL 163.308137 66.090215 \nL 166.931514 53.944442 \nL 170.55489 42.700323 \nL 174.178267 32.806126 \nL 177.801644 24.656302 \nL 181.42502 18.575758 \nL 185.048397 14.806907 \nL 188.671774 13.5 \nL 192.29515 14.70714 \nL 195.918527 18.380202 \nL 199.541903 24.372753 \nL 203.16528 32.445888 \nL 206.788657 42.277757 \n\" clip-path=\"url(#p62c6945063)\" style=\"fill: none; stroke: #1f77b4; stroke-width: 1.5; stroke-linecap: square\"/>\n   </g>\n   <g id=\"line2d_117\">\n    <path d=\"M 54.606838 22.023199 \nL 72.723722 69.262535 \nL 90.840605 123.212134 \nL 108.957488 134.270983 \nL 127.074371 92.271627 \nL 145.191254 35.828081 \nL 163.308137 16.83428 \nL 181.42502 52.753037 \n\" clip-path=\"url(#p62c6945063)\" style=\"fill: none; stroke-dasharray: 5.55,2.4; stroke-dashoffset: 0; stroke: #ff7f0e; stroke-width: 1.5\"/>\n   </g>\n   <g id=\"line2d_118\">\n    <path d=\"M 47.360085 73.409329 \nL 50.983462 60.959407 \nL 54.606838 49.131475 \nL 58.230215 38.397075 \nL 61.853592 29.184154 \nL 65.476968 21.860003 \nL 69.100345 16.716611 \nL 72.723722 13.959031 \nL 76.347098 13.697196 \nL 79.970475 15.941548 \nL 83.593851 20.602609 \nL 87.217228 27.494558 \nL 90.840605 36.342636 \nL 94.463981 46.794096 \nL 98.087358 58.432273 \nL 101.710735 70.793189 \nL 105.334111 83.384053 \nL 108.957488 95.702907 \nL 112.580864 107.258638 \nL 116.204241 117.590554 \nL 119.827618 126.286755 \nL 123.450994 133.000552 \nL 127.074371 137.464285 \nL 130.697748 139.5 \nL 134.321124 139.02654 \nL 137.944501 136.062779 \nL 141.567877 130.726874 \nL 145.191254 123.231551 \nL 148.814631 113.875623 \nL 152.438007 103.032084 \nL 156.061384 91.133229 \nL 159.684761 78.653429 \nL 163.308137 66.090215 \nL 166.931514 53.944442 \nL 170.55489 42.700323 \nL 174.178267 32.806126 \nL 177.801644 24.656302 \nL 181.42502 18.575758 \nL 185.048397 14.806907 \nL 188.671774 13.5 \nL 192.29515 14.70714 \nL 195.918527 18.380202 \nL 199.541903 24.372753 \nL 203.16528 32.445888 \nL 206.788657 42.277757 \n\" clip-path=\"url(#p62c6945063)\" style=\"fill: none; stroke: #1f77b4; stroke-width: 1.5; stroke-linecap: square\"/>\n   </g>\n   <g id=\"line2d_119\">\n    <path d=\"M 54.606838 22.023199 \nL 72.723722 69.262535 \nL 90.840605 123.212134 \nL 108.957488 134.270983 \nL 127.074371 92.271627 \nL 145.191254 35.828081 \nL 163.308137 16.83428 \nL 181.42502 52.753037 \nL 199.541903 110.560813 \n\" clip-path=\"url(#p62c6945063)\" style=\"fill: none; stroke-dasharray: 5.55,2.4; stroke-dashoffset: 0; stroke: #ff7f0e; stroke-width: 1.5\"/>\n   </g>\n   <g id=\"line2d_120\">\n    <path d=\"M 47.360085 73.409329 \nL 50.983462 60.959407 \nL 54.606838 49.131475 \nL 58.230215 38.397075 \nL 61.853592 29.184154 \nL 65.476968 21.860003 \nL 69.100345 16.716611 \nL 72.723722 13.959031 \nL 76.347098 13.697196 \nL 79.970475 15.941548 \nL 83.593851 20.602609 \nL 87.217228 27.494558 \nL 90.840605 36.342636 \nL 94.463981 46.794096 \nL 98.087358 58.432273 \nL 101.710735 70.793189 \nL 105.334111 83.384053 \nL 108.957488 95.702907 \nL 112.580864 107.258638 \nL 116.204241 117.590554 \nL 119.827618 126.286755 \nL 123.450994 133.000552 \nL 127.074371 137.464285 \nL 130.697748 139.5 \nL 134.321124 139.02654 \nL 137.944501 136.062779 \nL 141.567877 130.726874 \nL 145.191254 123.231551 \nL 148.814631 113.875623 \nL 152.438007 103.032084 \nL 156.061384 91.133229 \nL 159.684761 78.653429 \nL 163.308137 66.090215 \nL 166.931514 53.944442 \nL 170.55489 42.700323 \nL 174.178267 32.806126 \nL 177.801644 24.656302 \nL 181.42502 18.575758 \nL 185.048397 14.806907 \nL 188.671774 13.5 \nL 192.29515 14.70714 \nL 195.918527 18.380202 \nL 199.541903 24.372753 \nL 203.16528 32.445888 \nL 206.788657 42.277757 \nL 210.412033 53.476395 \n\" clip-path=\"url(#p62c6945063)\" style=\"fill: none; stroke: #1f77b4; stroke-width: 1.5; stroke-linecap: square\"/>\n   </g>\n   <g id=\"line2d_121\">\n    <path d=\"M 54.606838 22.023199 \nL 72.723722 69.262535 \nL 90.840605 123.212134 \nL 108.957488 134.270983 \nL 127.074371 92.271627 \nL 145.191254 35.828081 \nL 163.308137 16.83428 \nL 181.42502 52.753037 \nL 199.541903 110.560813 \n\" clip-path=\"url(#p62c6945063)\" style=\"fill: none; stroke-dasharray: 5.55,2.4; stroke-dashoffset: 0; stroke: #ff7f0e; stroke-width: 1.5\"/>\n   </g>\n   <g id=\"line2d_122\">\n    <path d=\"M 47.360085 73.409329 \nL 50.983462 60.959407 \nL 54.606838 49.131475 \nL 58.230215 38.397075 \nL 61.853592 29.184154 \nL 65.476968 21.860003 \nL 69.100345 16.716611 \nL 72.723722 13.959031 \nL 76.347098 13.697196 \nL 79.970475 15.941548 \nL 83.593851 20.602609 \nL 87.217228 27.494558 \nL 90.840605 36.342636 \nL 94.463981 46.794096 \nL 98.087358 58.432273 \nL 101.710735 70.793189 \nL 105.334111 83.384053 \nL 108.957488 95.702907 \nL 112.580864 107.258638 \nL 116.204241 117.590554 \nL 119.827618 126.286755 \nL 123.450994 133.000552 \nL 127.074371 137.464285 \nL 130.697748 139.5 \nL 134.321124 139.02654 \nL 137.944501 136.062779 \nL 141.567877 130.726874 \nL 145.191254 123.231551 \nL 148.814631 113.875623 \nL 152.438007 103.032084 \nL 156.061384 91.133229 \nL 159.684761 78.653429 \nL 163.308137 66.090215 \nL 166.931514 53.944442 \nL 170.55489 42.700323 \nL 174.178267 32.806126 \nL 177.801644 24.656302 \nL 181.42502 18.575758 \nL 185.048397 14.806907 \nL 188.671774 13.5 \nL 192.29515 14.70714 \nL 195.918527 18.380202 \nL 199.541903 24.372753 \nL 203.16528 32.445888 \nL 206.788657 42.277757 \nL 210.412033 53.476395 \nL 214.03541 65.595347 \n\" clip-path=\"url(#p62c6945063)\" style=\"fill: none; stroke: #1f77b4; stroke-width: 1.5; stroke-linecap: square\"/>\n   </g>\n   <g id=\"line2d_123\">\n    <path d=\"M 54.606838 22.023199 \nL 72.723722 69.262535 \nL 90.840605 123.212134 \nL 108.957488 134.270983 \nL 127.074371 92.271627 \nL 145.191254 35.828081 \nL 163.308137 16.83428 \nL 181.42502 52.753037 \nL 199.541903 110.560813 \n\" clip-path=\"url(#p62c6945063)\" style=\"fill: none; stroke-dasharray: 5.55,2.4; stroke-dashoffset: 0; stroke: #ff7f0e; stroke-width: 1.5\"/>\n   </g>\n   <g id=\"line2d_124\">\n    <path d=\"M 47.360085 73.409329 \nL 50.983462 60.959407 \nL 54.606838 49.131475 \nL 58.230215 38.397075 \nL 61.853592 29.184154 \nL 65.476968 21.860003 \nL 69.100345 16.716611 \nL 72.723722 13.959031 \nL 76.347098 13.697196 \nL 79.970475 15.941548 \nL 83.593851 20.602609 \nL 87.217228 27.494558 \nL 90.840605 36.342636 \nL 94.463981 46.794096 \nL 98.087358 58.432273 \nL 101.710735 70.793189 \nL 105.334111 83.384053 \nL 108.957488 95.702907 \nL 112.580864 107.258638 \nL 116.204241 117.590554 \nL 119.827618 126.286755 \nL 123.450994 133.000552 \nL 127.074371 137.464285 \nL 130.697748 139.5 \nL 134.321124 139.02654 \nL 137.944501 136.062779 \nL 141.567877 130.726874 \nL 145.191254 123.231551 \nL 148.814631 113.875623 \nL 152.438007 103.032084 \nL 156.061384 91.133229 \nL 159.684761 78.653429 \nL 163.308137 66.090215 \nL 166.931514 53.944442 \nL 170.55489 42.700323 \nL 174.178267 32.806126 \nL 177.801644 24.656302 \nL 181.42502 18.575758 \nL 185.048397 14.806907 \nL 188.671774 13.5 \nL 192.29515 14.70714 \nL 195.918527 18.380202 \nL 199.541903 24.372753 \nL 203.16528 32.445888 \nL 206.788657 42.277757 \nL 210.412033 53.476395 \nL 214.03541 65.595347 \nL 217.658787 78.151469 \n\" clip-path=\"url(#p62c6945063)\" style=\"fill: none; stroke: #1f77b4; stroke-width: 1.5; stroke-linecap: square\"/>\n   </g>\n   <g id=\"line2d_125\">\n    <path d=\"M 54.606838 22.023199 \nL 72.723722 69.262535 \nL 90.840605 123.212134 \nL 108.957488 134.270983 \nL 127.074371 92.271627 \nL 145.191254 35.828081 \nL 163.308137 16.83428 \nL 181.42502 52.753037 \nL 199.541903 110.560813 \n\" clip-path=\"url(#p62c6945063)\" style=\"fill: none; stroke-dasharray: 5.55,2.4; stroke-dashoffset: 0; stroke: #ff7f0e; stroke-width: 1.5\"/>\n   </g>\n   <g id=\"line2d_126\">\n    <path d=\"M 47.360085 73.409329 \nL 50.983462 60.959407 \nL 54.606838 49.131475 \nL 58.230215 38.397075 \nL 61.853592 29.184154 \nL 65.476968 21.860003 \nL 69.100345 16.716611 \nL 72.723722 13.959031 \nL 76.347098 13.697196 \nL 79.970475 15.941548 \nL 83.593851 20.602609 \nL 87.217228 27.494558 \nL 90.840605 36.342636 \nL 94.463981 46.794096 \nL 98.087358 58.432273 \nL 101.710735 70.793189 \nL 105.334111 83.384053 \nL 108.957488 95.702907 \nL 112.580864 107.258638 \nL 116.204241 117.590554 \nL 119.827618 126.286755 \nL 123.450994 133.000552 \nL 127.074371 137.464285 \nL 130.697748 139.5 \nL 134.321124 139.02654 \nL 137.944501 136.062779 \nL 141.567877 130.726874 \nL 145.191254 123.231551 \nL 148.814631 113.875623 \nL 152.438007 103.032084 \nL 156.061384 91.133229 \nL 159.684761 78.653429 \nL 163.308137 66.090215 \nL 166.931514 53.944442 \nL 170.55489 42.700323 \nL 174.178267 32.806126 \nL 177.801644 24.656302 \nL 181.42502 18.575758 \nL 185.048397 14.806907 \nL 188.671774 13.5 \nL 192.29515 14.70714 \nL 195.918527 18.380202 \nL 199.541903 24.372753 \nL 203.16528 32.445888 \nL 206.788657 42.277757 \nL 210.412033 53.476395 \nL 214.03541 65.595347 \nL 217.658787 78.151469 \nL 221.282163 90.644187 \n\" clip-path=\"url(#p62c6945063)\" style=\"fill: none; stroke: #1f77b4; stroke-width: 1.5; stroke-linecap: square\"/>\n   </g>\n   <g id=\"line2d_127\">\n    <path d=\"M 54.606838 22.023199 \nL 72.723722 69.262535 \nL 90.840605 123.212134 \nL 108.957488 134.270983 \nL 127.074371 92.271627 \nL 145.191254 35.828081 \nL 163.308137 16.83428 \nL 181.42502 52.753037 \nL 199.541903 110.560813 \n\" clip-path=\"url(#p62c6945063)\" style=\"fill: none; stroke-dasharray: 5.55,2.4; stroke-dashoffset: 0; stroke: #ff7f0e; stroke-width: 1.5\"/>\n   </g>\n   <g id=\"line2d_128\">\n    <path d=\"M 47.360085 73.409329 \nL 50.983462 60.959407 \nL 54.606838 49.131475 \nL 58.230215 38.397075 \nL 61.853592 29.184154 \nL 65.476968 21.860003 \nL 69.100345 16.716611 \nL 72.723722 13.959031 \nL 76.347098 13.697196 \nL 79.970475 15.941548 \nL 83.593851 20.602609 \nL 87.217228 27.494558 \nL 90.840605 36.342636 \nL 94.463981 46.794096 \nL 98.087358 58.432273 \nL 101.710735 70.793189 \nL 105.334111 83.384053 \nL 108.957488 95.702907 \nL 112.580864 107.258638 \nL 116.204241 117.590554 \nL 119.827618 126.286755 \nL 123.450994 133.000552 \nL 127.074371 137.464285 \nL 130.697748 139.5 \nL 134.321124 139.02654 \nL 137.944501 136.062779 \nL 141.567877 130.726874 \nL 145.191254 123.231551 \nL 148.814631 113.875623 \nL 152.438007 103.032084 \nL 156.061384 91.133229 \nL 159.684761 78.653429 \nL 163.308137 66.090215 \nL 166.931514 53.944442 \nL 170.55489 42.700323 \nL 174.178267 32.806126 \nL 177.801644 24.656302 \nL 181.42502 18.575758 \nL 185.048397 14.806907 \nL 188.671774 13.5 \nL 192.29515 14.70714 \nL 195.918527 18.380202 \nL 199.541903 24.372753 \nL 203.16528 32.445888 \nL 206.788657 42.277757 \nL 210.412033 53.476395 \nL 214.03541 65.595347 \nL 217.658787 78.151469 \nL 221.282163 90.644187 \nL 224.90554 102.575457 \n\" clip-path=\"url(#p62c6945063)\" style=\"fill: none; stroke: #1f77b4; stroke-width: 1.5; stroke-linecap: square\"/>\n   </g>\n   <g id=\"line2d_129\">\n    <path d=\"M 54.606838 22.023199 \nL 72.723722 69.262535 \nL 90.840605 123.212134 \nL 108.957488 134.270983 \nL 127.074371 92.271627 \nL 145.191254 35.828081 \nL 163.308137 16.83428 \nL 181.42502 52.753037 \nL 199.541903 110.560813 \n\" clip-path=\"url(#p62c6945063)\" style=\"fill: none; stroke-dasharray: 5.55,2.4; stroke-dashoffset: 0; stroke: #ff7f0e; stroke-width: 1.5\"/>\n   </g>\n   <g id=\"line2d_130\">\n    <path d=\"M 47.360085 73.409329 \nL 50.983462 60.959407 \nL 54.606838 49.131475 \nL 58.230215 38.397075 \nL 61.853592 29.184154 \nL 65.476968 21.860003 \nL 69.100345 16.716611 \nL 72.723722 13.959031 \nL 76.347098 13.697196 \nL 79.970475 15.941548 \nL 83.593851 20.602609 \nL 87.217228 27.494558 \nL 90.840605 36.342636 \nL 94.463981 46.794096 \nL 98.087358 58.432273 \nL 101.710735 70.793189 \nL 105.334111 83.384053 \nL 108.957488 95.702907 \nL 112.580864 107.258638 \nL 116.204241 117.590554 \nL 119.827618 126.286755 \nL 123.450994 133.000552 \nL 127.074371 137.464285 \nL 130.697748 139.5 \nL 134.321124 139.02654 \nL 137.944501 136.062779 \nL 141.567877 130.726874 \nL 145.191254 123.231551 \nL 148.814631 113.875623 \nL 152.438007 103.032084 \nL 156.061384 91.133229 \nL 159.684761 78.653429 \nL 163.308137 66.090215 \nL 166.931514 53.944442 \nL 170.55489 42.700323 \nL 174.178267 32.806126 \nL 177.801644 24.656302 \nL 181.42502 18.575758 \nL 185.048397 14.806907 \nL 188.671774 13.5 \nL 192.29515 14.70714 \nL 195.918527 18.380202 \nL 199.541903 24.372753 \nL 203.16528 32.445888 \nL 206.788657 42.277757 \nL 210.412033 53.476395 \nL 214.03541 65.595347 \nL 217.658787 78.151469 \nL 221.282163 90.644187 \nL 224.90554 102.575457 \n\" clip-path=\"url(#p62c6945063)\" style=\"fill: none; stroke: #1f77b4; stroke-width: 1.5; stroke-linecap: square\"/>\n   </g>\n   <g id=\"line2d_131\">\n    <path d=\"M 54.606838 22.023199 \nL 72.723722 69.262535 \nL 90.840605 123.212134 \nL 108.957488 134.270983 \nL 127.074371 92.271627 \nL 145.191254 35.828081 \nL 163.308137 16.83428 \nL 181.42502 52.753037 \nL 199.541903 110.560813 \nL 217.658787 137.109405 \n\" clip-path=\"url(#p62c6945063)\" style=\"fill: none; stroke-dasharray: 5.55,2.4; stroke-dashoffset: 0; stroke: #ff7f0e; stroke-width: 1.5\"/>\n   </g>\n   <g id=\"patch_3\">\n    <path d=\"M 38.482813 145.8 \nL 38.482813 7.2 \n\" style=\"fill: none; stroke: #000000; stroke-width: 0.8; stroke-linejoin: miter; stroke-linecap: square\"/>\n   </g>\n   <g id=\"patch_4\">\n    <path d=\"M 233.782813 145.8 \nL 233.782813 7.2 \n\" style=\"fill: none; stroke: #000000; stroke-width: 0.8; stroke-linejoin: miter; stroke-linecap: square\"/>\n   </g>\n   <g id=\"patch_5\">\n    <path d=\"M 38.482813 145.8 \nL 233.782813 145.8 \n\" style=\"fill: none; stroke: #000000; stroke-width: 0.8; stroke-linejoin: miter; stroke-linecap: square\"/>\n   </g>\n   <g id=\"patch_6\">\n    <path d=\"M 38.482813 7.2 \nL 233.782813 7.2 \n\" style=\"fill: none; stroke: #000000; stroke-width: 0.8; stroke-linejoin: miter; stroke-linecap: square\"/>\n   </g>\n   <g id=\"legend_1\">\n    <g id=\"patch_7\">\n     <path d=\"M 177.95625 140.8 \nL 226.782813 140.8 \nQ 228.782813 140.8 228.782813 138.8 \nL 228.782813 110.44375 \nQ 228.782813 108.44375 226.782813 108.44375 \nL 177.95625 108.44375 \nQ 175.95625 108.44375 175.95625 110.44375 \nL 175.95625 138.8 \nQ 175.95625 140.8 177.95625 140.8 \nz\n\" style=\"fill: #ffffff; opacity: 0.8; stroke: #cccccc; stroke-linejoin: miter\"/>\n    </g>\n    <g id=\"line2d_132\">\n     <path d=\"M 179.95625 116.542188 \nL 189.95625 116.542188 \nL 199.95625 116.542188 \n\" style=\"fill: none; stroke: #1f77b4; stroke-width: 1.5; stroke-linecap: square\"/>\n    </g>\n    <g id=\"text_13\">\n     <!-- sin -->\n     <g transform=\"translate(207.95625 120.042188) scale(0.1 -0.1)\">\n      <defs>\n       <path id=\"DejaVuSans-73\" d=\"M 2834 3397 \nL 2834 2853 \nQ 2591 2978 2328 3040 \nQ 2066 3103 1784 3103 \nQ 1356 3103 1142 2972 \nQ 928 2841 928 2578 \nQ 928 2378 1081 2264 \nQ 1234 2150 1697 2047 \nL 1894 2003 \nQ 2506 1872 2764 1633 \nQ 3022 1394 3022 966 \nQ 3022 478 2636 193 \nQ 2250 -91 1575 -91 \nQ 1294 -91 989 -36 \nQ 684 19 347 128 \nL 347 722 \nQ 666 556 975 473 \nQ 1284 391 1588 391 \nQ 1994 391 2212 530 \nQ 2431 669 2431 922 \nQ 2431 1156 2273 1281 \nQ 2116 1406 1581 1522 \nL 1381 1569 \nQ 847 1681 609 1914 \nQ 372 2147 372 2553 \nQ 372 3047 722 3315 \nQ 1072 3584 1716 3584 \nQ 2034 3584 2315 3537 \nQ 2597 3491 2834 3397 \nz\n\" transform=\"scale(0.015625)\"/>\n       <path id=\"DejaVuSans-69\" d=\"M 603 3500 \nL 1178 3500 \nL 1178 0 \nL 603 0 \nL 603 3500 \nz\nM 603 4863 \nL 1178 4863 \nL 1178 4134 \nL 603 4134 \nL 603 4863 \nz\n\" transform=\"scale(0.015625)\"/>\n       <path id=\"DejaVuSans-6e\" d=\"M 3513 2113 \nL 3513 0 \nL 2938 0 \nL 2938 2094 \nQ 2938 2591 2744 2837 \nQ 2550 3084 2163 3084 \nQ 1697 3084 1428 2787 \nQ 1159 2491 1159 1978 \nL 1159 0 \nL 581 0 \nL 581 3500 \nL 1159 3500 \nL 1159 2956 \nQ 1366 3272 1645 3428 \nQ 1925 3584 2291 3584 \nQ 2894 3584 3203 3211 \nQ 3513 2838 3513 2113 \nz\n\" transform=\"scale(0.015625)\"/>\n      </defs>\n      <use xlink:href=\"#DejaVuSans-73\"/>\n      <use xlink:href=\"#DejaVuSans-69\" x=\"52.099609\"/>\n      <use xlink:href=\"#DejaVuSans-6e\" x=\"79.882812\"/>\n     </g>\n    </g>\n    <g id=\"line2d_133\">\n     <path d=\"M 179.95625 131.220313 \nL 189.95625 131.220313 \nL 199.95625 131.220313 \n\" style=\"fill: none; stroke-dasharray: 5.55,2.4; stroke-dashoffset: 0; stroke: #ff7f0e; stroke-width: 1.5\"/>\n    </g>\n    <g id=\"text_14\">\n     <!-- cos -->\n     <g transform=\"translate(207.95625 134.720313) scale(0.1 -0.1)\">\n      <defs>\n       <path id=\"DejaVuSans-63\" d=\"M 3122 3366 \nL 3122 2828 \nQ 2878 2963 2633 3030 \nQ 2388 3097 2138 3097 \nQ 1578 3097 1268 2742 \nQ 959 2388 959 1747 \nQ 959 1106 1268 751 \nQ 1578 397 2138 397 \nQ 2388 397 2633 464 \nQ 2878 531 3122 666 \nL 3122 134 \nQ 2881 22 2623 -34 \nQ 2366 -91 2075 -91 \nQ 1284 -91 818 406 \nQ 353 903 353 1747 \nQ 353 2603 823 3093 \nQ 1294 3584 2113 3584 \nQ 2378 3584 2631 3529 \nQ 2884 3475 3122 3366 \nz\n\" transform=\"scale(0.015625)\"/>\n       <path id=\"DejaVuSans-6f\" d=\"M 1959 3097 \nQ 1497 3097 1228 2736 \nQ 959 2375 959 1747 \nQ 959 1119 1226 758 \nQ 1494 397 1959 397 \nQ 2419 397 2687 759 \nQ 2956 1122 2956 1747 \nQ 2956 2369 2687 2733 \nQ 2419 3097 1959 3097 \nz\nM 1959 3584 \nQ 2709 3584 3137 3096 \nQ 3566 2609 3566 1747 \nQ 3566 888 3137 398 \nQ 2709 -91 1959 -91 \nQ 1206 -91 779 398 \nQ 353 888 353 1747 \nQ 353 2609 779 3096 \nQ 1206 3584 1959 3584 \nz\n\" transform=\"scale(0.015625)\"/>\n      </defs>\n      <use xlink:href=\"#DejaVuSans-63\"/>\n      <use xlink:href=\"#DejaVuSans-6f\" x=\"54.980469\"/>\n      <use xlink:href=\"#DejaVuSans-73\" x=\"116.162109\"/>\n     </g>\n    </g>\n   </g>\n  </g>\n </g>\n <defs>\n  <clipPath id=\"p62c6945063\">\n   <rect x=\"38.482813\" y=\"7.2\" width=\"195.3\" height=\"138.6\"/>\n  </clipPath>\n </defs>\n</svg>\n"
          },
          "metadata": {}
        }
      ],
      "source": [
        "board = d2l.ProgressBoard('x')\n",
        "for x in np.arange(0, 10, 0.1):\n",
        "    board.draw(x, np.sin(x), 'sin', every_n=2)\n",
        "    board.draw(x, np.cos(x), 'cos', every_n=10)"
      ]
    },
    {
      "cell_type": "markdown",
      "id": "0f6dc7f6-1230-4fa6-852a-336946e677c4",
      "metadata": {
        "id": "0f6dc7f6-1230-4fa6-852a-336946e677c4"
      },
      "source": [
        "### 3.2.2.models\n",
        "module class는 구현할 모든 모델의 기본.\n",
        "\n",
        "최소 3가지 방법이 필요\n",
        "\n",
        "1. _init_운 헉습 가능한 매개변수를 저장\n",
        "2. training_step method는 loss value를 반환하기 위해 data batch를 accept\n",
        "3. configure_optimizer는 학습 가능한 매개변수를 업데이트하는데 사용되는 최적화 방법을 반환"
      ]
    },
    {
      "cell_type": "code",
      "execution_count": 15,
      "id": "8c160577-41bd-4ad7-b1ef-588c88127f9b",
      "metadata": {
        "id": "8c160577-41bd-4ad7-b1ef-588c88127f9b"
      },
      "outputs": [],
      "source": [
        "class Module(nn.Module, d2l.HyperParameters):\n",
        "    def __init__(self, plot_train_per_epoch=2, plot_valid_per_epoch=1):\n",
        "        super().__init__()\n",
        "        self.save_hyperparameters()\n",
        "        self.board = ProgressBoard()\n",
        "\n",
        "    def loss(self, y_hat, y):\n",
        "        raise NotImplementedError\n",
        "\n",
        "    def forward(self, X):\n",
        "        assert hasattr(self, 'net'), 'Neural network is defined'\n",
        "        return self.net(X)\n",
        "\n",
        "    def plot(self, key, value, train):\n",
        "        assert hasattr(self, 'trainer'), 'Trainer is not inited'\n",
        "        self.board.xlabel = 'epoch'\n",
        "        if train:\n",
        "            x = self.trainer.train_batch_idx / \\\n",
        "                self.trainer.num_train_batches\n",
        "            n = self.trainer.num_train_batches / \\\n",
        "                self.plot_train_per_epoch\n",
        "        else:\n",
        "            x = self.trainer.epoch + 1\n",
        "            n = self.trainer.num_val_batches / \\\n",
        "                self.plot_valid_per_epoch\n",
        "        self.board.draw(x, value.to(d2l.cpu()).detach().numpy(),\n",
        "                        ('train_' if train else 'val_') + key,\n",
        "                        every_n=int(n))\n",
        "\n",
        "    def training_step(self, batch):\n",
        "        l = self.loss(self(*batch[:-1]), batch[-1])\n",
        "        self.plot('loss', l, train=True)\n",
        "        return l\n",
        "\n",
        "    def validation_step(self, batch):\n",
        "        l = self.loss(self(*batch[:-1]), batch[-1])\n",
        "        self.plot('loss', l, train=False)\n",
        "\n",
        "    def configure_optimizers(self):\n",
        "        raise NotImplementedError"
      ]
    },
    {
      "cell_type": "markdown",
      "id": "655cbf48-975b-49f3-b200-16b069727c52",
      "metadata": {
        "id": "655cbf48-975b-49f3-b200-16b069727c52"
      },
      "source": [
        "### 3.2.3.data\n",
        "\n",
        "DataModule class는 data의 기본 class.\n",
        "\n",
        "_init_을 사용해 데이터를 준비.\n",
        "\n",
        "train_dataloader는 train data set에 필요한 data loader를 반환\n",
        "\n",
        "data loader는 python생성기, data batch를 생성 -> 손실을 계산하기 위해 모듈의 training_step method에 입력됨\n",
        "\n",
        "val_dataloader는 유효성 검사 데이터 로더를 반환"
      ]
    },
    {
      "cell_type": "code",
      "execution_count": 70,
      "id": "4b526918-c3c7-4814-b154-6c351f569350",
      "metadata": {
        "id": "4b526918-c3c7-4814-b154-6c351f569350"
      },
      "outputs": [],
      "source": [
        "class DataModule(d2l.HyperParameters):\n",
        "    def __init__(self, root='../data', num_workers=4):\n",
        "        self.save_hyperparameters()\n",
        "\n",
        "    def get_dataloader(self, train):\n",
        "        raise NotImplementedError\n",
        "\n",
        "    def train_dataloader(self):\n",
        "        return self.get_dataloader(train=True)\n",
        "\n",
        "    def val_dataloader(self):\n",
        "        return self.get_dataloader(train=False)"
      ]
    },
    {
      "cell_type": "markdown",
      "id": "e6681234-d7c2-4f4f-959a-ea39320560c8",
      "metadata": {
        "id": "e6681234-d7c2-4f4f-959a-ea39320560c8"
      },
      "source": [
        "### 3.2.4.training\n",
        "\n",
        "DataModule에 지정된 데이터로 module class에서 학습가능한 매개변수를 훈련함\n",
        "\n",
        "-> module의 instance인 model, datamodule의 instance인 data를 accepts.\n",
        "\n",
        "max_epochs만큼 반복"
      ]
    },
    {
      "cell_type": "code",
      "execution_count": 17,
      "id": "17a1952e-ed5c-4cbd-940c-ddb496252380",
      "metadata": {
        "id": "17a1952e-ed5c-4cbd-940c-ddb496252380"
      },
      "outputs": [],
      "source": [
        "class Trainer(d2l.HyperParameters):\n",
        "    def __init__(self, max_epochs, num_gpus=0, gradient_clip_val=0):\n",
        "        self.save_hyperparameters()\n",
        "        assert num_gpus == 0,\n",
        "\n",
        "    def prepare_data(self, data):\n",
        "        self.train_dataloader = data.train_dataloader()\n",
        "        self.val_dataloader = data.val_dataloader()\n",
        "        self.num_train_batches = len(self.train_dataloader)\n",
        "        self.num_val_batches = (len(self.val_dataloader)\n",
        "                                if self.val_dataloader is not None else 0)\n",
        "\n",
        "    def prepare_model(self, model):\n",
        "        model.trainer = self\n",
        "        model.board.xlim = [0, self.max_epochs]\n",
        "        self.model = model\n",
        "\n",
        "    def fit(self, model, data):\n",
        "        self.prepare_data(data)\n",
        "        self.prepare_model(model)\n",
        "        self.optim = model.configure_optimizers()\n",
        "        self.epoch = 0\n",
        "        self.train_batch_idx = 0\n",
        "        self.val_batch_idx = 0\n",
        "        for self.epoch in range(self.max_epochs):\n",
        "            self.fit_epoch()\n",
        "\n",
        "    def fit_epoch(self):\n",
        "        raise NotImplementedError"
      ]
    },
    {
      "cell_type": "markdown",
      "id": "0b157288-f86f-4f44-9171-6bbe02f129c8",
      "metadata": {
        "id": "0b157288-f86f-4f44-9171-6bbe02f129c8"
      },
      "source": [
        "### 3.2.5.summary\n",
        "\n",
        "객체 지향 설계를 강조하기 위해 단순히 객체가 데이터를 저장하고 서로 상호작용하는 방식을 보여준것.\n",
        "\n",
        "완전히 구현된 클래스는 D2L라이브러리에 저장됨."
      ]
    },
    {
      "cell_type": "markdown",
      "id": "b948cecf-f778-4c8b-965e-9668459f72aa",
      "metadata": {
        "id": "b948cecf-f778-4c8b-965e-9668459f72aa"
      },
      "source": [
        "### discussions or takeaway messages\n",
        "\n",
        "1. 객체 지향 설계\n",
        "\n",
        "2. D2L 라이브러리 써보기\n",
        "\n",
        "3. 많은 구성요소를 크게 바꾸지 않고 재사용이 가능함."
      ]
    },
    {
      "cell_type": "markdown",
      "id": "a84e50a2-767d-4060-ae8d-e6faebdf3de9",
      "metadata": {
        "id": "a84e50a2-767d-4060-ae8d-e6faebdf3de9"
      },
      "source": [
        "## 3.4.Linear Regression Implementation from Scratch"
      ]
    },
    {
      "cell_type": "code",
      "execution_count": 18,
      "id": "06a6380f-ee6e-42e5-91a4-14370120db0a",
      "metadata": {
        "id": "06a6380f-ee6e-42e5-91a4-14370120db0a"
      },
      "outputs": [],
      "source": [
        "%matplotlib inline\n",
        "import torch\n",
        "from d2l import torch as d2l"
      ]
    },
    {
      "cell_type": "markdown",
      "id": "e467c4c3-75b3-4673-9930-be731262e4a6",
      "metadata": {
        "id": "e467c4c3-75b3-4673-9930-be731262e4a6"
      },
      "source": [
        "### 3.4.1.defining the model"
      ]
    },
    {
      "cell_type": "code",
      "execution_count": 19,
      "id": "58feb2db-390f-4791-887a-0b1a9ef4b4fd",
      "metadata": {
        "id": "58feb2db-390f-4791-887a-0b1a9ef4b4fd"
      },
      "outputs": [],
      "source": [
        "class LinearRegressionScratch(d2l.Module):\n",
        "    def __init__(self, num_inputs, lr, sigma=0.01):\n",
        "        super().__init__()\n",
        "        self.save_hyperparameters()\n",
        "        self.w = torch.normal(0, sigma, (num_inputs, 1), requires_grad=True)\n",
        "        self.b = torch.zeros(1, requires_grad=True)"
      ]
    },
    {
      "cell_type": "code",
      "execution_count": 20,
      "id": "32f2fab6-9c04-4012-93b7-01da1d6e8ff6",
      "metadata": {
        "id": "32f2fab6-9c04-4012-93b7-01da1d6e8ff6"
      },
      "outputs": [],
      "source": [
        "@d2l.add_to_class(LinearRegressionScratch)\n",
        "def forward(self, X):\n",
        "    return torch.matmul(X, self.w) + self.b"
      ]
    },
    {
      "cell_type": "markdown",
      "id": "3fedf423-4c2b-483d-98a0-a2fa3fe72027",
      "metadata": {
        "id": "3fedf423-4c2b-483d-98a0-a2fa3fe72027"
      },
      "source": [
        "### 3.4.2.definint the loss function"
      ]
    },
    {
      "cell_type": "code",
      "execution_count": 21,
      "id": "53b1d531-4e4d-4880-a1a3-9fc2454c2f46",
      "metadata": {
        "id": "53b1d531-4e4d-4880-a1a3-9fc2454c2f46"
      },
      "outputs": [],
      "source": [
        "@d2l.add_to_class(LinearRegressionScratch)\n",
        "def loss(self, y_hat, y):\n",
        "    l = (y_hat - y) ** 2 / 2\n",
        "    return l.mean()"
      ]
    },
    {
      "cell_type": "markdown",
      "id": "eca43490-0565-4b24-b91b-c7a8c21b2557",
      "metadata": {
        "id": "eca43490-0565-4b24-b91b-c7a8c21b2557"
      },
      "source": [
        "### 3.4.3.defining the optimization algorithm"
      ]
    },
    {
      "cell_type": "code",
      "execution_count": 22,
      "id": "7dd975d1-9788-4ff2-ae35-ed8bdf434651",
      "metadata": {
        "id": "7dd975d1-9788-4ff2-ae35-ed8bdf434651"
      },
      "outputs": [],
      "source": [
        "class SGD(d2l.HyperParameters):\n",
        "    def __init__(self, params, lr):\n",
        "        self.save_hyperparameters()\n",
        "\n",
        "    def step(self):\n",
        "        for param in self.params:\n",
        "            param -= self.lr * param.grad\n",
        "\n",
        "    def zero_grad(self):\n",
        "        for param in self.params:\n",
        "            if param.grad is not None:\n",
        "                param.grad.zero_()"
      ]
    },
    {
      "cell_type": "code",
      "execution_count": 23,
      "id": "9d731a4f-d417-4759-8219-3d1ed795cce1",
      "metadata": {
        "id": "9d731a4f-d417-4759-8219-3d1ed795cce1"
      },
      "outputs": [],
      "source": [
        "@d2l.add_to_class(LinearRegressionScratch)\n",
        "def configure_optimizers(self):\n",
        "    return SGD([self.w, self.b], self.lr)"
      ]
    },
    {
      "cell_type": "markdown",
      "id": "145ff918-9642-4b28-8d09-d6edd5d2aac2",
      "metadata": {
        "id": "145ff918-9642-4b28-8d09-d6edd5d2aac2"
      },
      "source": [
        "### 3.4.4.training\n",
        "\n",
        "epochs만큼 반복하여 학습\n",
        "\n",
        "각 반복에서 미니배치를 수집하고 모델의 training_step method를 통해 loss 계산\n",
        "\n",
        "각 매개변수에 대한 기울기 계산\n",
        "\n",
        "최적화 알고리즘 -> 모델 매개변수 update\n",
        "\n",
        "- initialize parameters\n",
        "- repeat until done\n",
        "\n",
        "      -> compute gradient\n",
        "  \n",
        "      -> update parameters\n"
      ]
    },
    {
      "cell_type": "code",
      "execution_count": 24,
      "id": "6a67b980-60e7-499c-963b-9faf89efbb23",
      "metadata": {
        "id": "6a67b980-60e7-499c-963b-9faf89efbb23"
      },
      "outputs": [],
      "source": [
        "@d2l.add_to_class(d2l.Trainer)\n",
        "def prepare_batch(self, batch):\n",
        "    return batch\n",
        "\n",
        "@d2l.add_to_class(d2l.Trainer)\n",
        "def fit_epoch(self):\n",
        "    self.model.train()\n",
        "    for batch in self.train_dataloader:\n",
        "        loss = self.model.training_step(self.prepare_batch(batch))\n",
        "        self.optim.zero_grad()\n",
        "        with torch.no_grad():\n",
        "            loss.backward()\n",
        "            if self.gradient_clip_val > 0:  # To be discussed later\n",
        "                self.clip_gradients(self.gradient_clip_val, self.model)\n",
        "            self.optim.step()\n",
        "        self.train_batch_idx += 1\n",
        "    if self.val_dataloader is None:\n",
        "        return\n",
        "    self.model.eval()\n",
        "    for batch in self.val_dataloader:\n",
        "        with torch.no_grad():\n",
        "            self.model.validation_step(self.prepare_batch(batch))\n",
        "        self.val_batch_idx += 1"
      ]
    },
    {
      "cell_type": "code",
      "execution_count": 25,
      "id": "95fdca3d-73ad-4134-9707-bc1097f9b543",
      "metadata": {
        "id": "95fdca3d-73ad-4134-9707-bc1097f9b543",
        "colab": {
          "base_uri": "https://localhost:8080/",
          "height": 265
        },
        "outputId": "42ebaf48-2a9a-46d8-ab7b-f745bccbb878"
      },
      "outputs": [
        {
          "output_type": "display_data",
          "data": {
            "text/plain": [
              "<Figure size 350x250 with 1 Axes>"
            ],
            "image/svg+xml": "<?xml version=\"1.0\" encoding=\"utf-8\" standalone=\"no\"?>\n<!DOCTYPE svg PUBLIC \"-//W3C//DTD SVG 1.1//EN\"\n  \"http://www.w3.org/Graphics/SVG/1.1/DTD/svg11.dtd\">\n<svg xmlns:xlink=\"http://www.w3.org/1999/xlink\" width=\"237.376562pt\" height=\"183.35625pt\" viewBox=\"0 0 237.376562 183.35625\" xmlns=\"http://www.w3.org/2000/svg\" version=\"1.1\">\n <metadata>\n  <rdf:RDF xmlns:dc=\"http://purl.org/dc/elements/1.1/\" xmlns:cc=\"http://creativecommons.org/ns#\" xmlns:rdf=\"http://www.w3.org/1999/02/22-rdf-syntax-ns#\">\n   <cc:Work>\n    <dc:type rdf:resource=\"http://purl.org/dc/dcmitype/StillImage\"/>\n    <dc:date>2024-09-24T02:09:16.757891</dc:date>\n    <dc:format>image/svg+xml</dc:format>\n    <dc:creator>\n     <cc:Agent>\n      <dc:title>Matplotlib v3.7.2, https://matplotlib.org/</dc:title>\n     </cc:Agent>\n    </dc:creator>\n   </cc:Work>\n  </rdf:RDF>\n </metadata>\n <defs>\n  <style type=\"text/css\">*{stroke-linejoin: round; stroke-linecap: butt}</style>\n </defs>\n <g id=\"figure_1\">\n  <g id=\"patch_1\">\n   <path d=\"M 0 183.35625 \nL 237.376562 183.35625 \nL 237.376562 0 \nL 0 0 \nz\n\" style=\"fill: #ffffff\"/>\n  </g>\n  <g id=\"axes_1\">\n   <g id=\"patch_2\">\n    <path d=\"M 26.925 145.8 \nL 222.225 145.8 \nL 222.225 7.2 \nL 26.925 7.2 \nz\n\" style=\"fill: #ffffff\"/>\n   </g>\n   <g id=\"matplotlib.axis_1\">\n    <g id=\"xtick_1\">\n     <g id=\"line2d_1\">\n      <defs>\n       <path id=\"m33b34ee5b8\" d=\"M 0 0 \nL 0 3.5 \n\" style=\"stroke: #000000; stroke-width: 0.8\"/>\n      </defs>\n      <g>\n       <use xlink:href=\"#m33b34ee5b8\" x=\"26.925\" y=\"145.8\" style=\"stroke: #000000; stroke-width: 0.8\"/>\n      </g>\n     </g>\n     <g id=\"text_1\">\n      <!-- 0.0 -->\n      <g transform=\"translate(18.973438 160.398438) scale(0.1 -0.1)\">\n       <defs>\n        <path id=\"DejaVuSans-30\" d=\"M 2034 4250 \nQ 1547 4250 1301 3770 \nQ 1056 3291 1056 2328 \nQ 1056 1369 1301 889 \nQ 1547 409 2034 409 \nQ 2525 409 2770 889 \nQ 3016 1369 3016 2328 \nQ 3016 3291 2770 3770 \nQ 2525 4250 2034 4250 \nz\nM 2034 4750 \nQ 2819 4750 3233 4129 \nQ 3647 3509 3647 2328 \nQ 3647 1150 3233 529 \nQ 2819 -91 2034 -91 \nQ 1250 -91 836 529 \nQ 422 1150 422 2328 \nQ 422 3509 836 4129 \nQ 1250 4750 2034 4750 \nz\n\" transform=\"scale(0.015625)\"/>\n        <path id=\"DejaVuSans-2e\" d=\"M 684 794 \nL 1344 794 \nL 1344 0 \nL 684 0 \nL 684 794 \nz\n\" transform=\"scale(0.015625)\"/>\n       </defs>\n       <use xlink:href=\"#DejaVuSans-30\"/>\n       <use xlink:href=\"#DejaVuSans-2e\" x=\"63.623047\"/>\n       <use xlink:href=\"#DejaVuSans-30\" x=\"95.410156\"/>\n      </g>\n     </g>\n    </g>\n    <g id=\"xtick_2\">\n     <g id=\"line2d_2\">\n      <g>\n       <use xlink:href=\"#m33b34ee5b8\" x=\"59.475\" y=\"145.8\" style=\"stroke: #000000; stroke-width: 0.8\"/>\n      </g>\n     </g>\n     <g id=\"text_2\">\n      <!-- 0.5 -->\n      <g transform=\"translate(51.523438 160.398438) scale(0.1 -0.1)\">\n       <defs>\n        <path id=\"DejaVuSans-35\" d=\"M 691 4666 \nL 3169 4666 \nL 3169 4134 \nL 1269 4134 \nL 1269 2991 \nQ 1406 3038 1543 3061 \nQ 1681 3084 1819 3084 \nQ 2600 3084 3056 2656 \nQ 3513 2228 3513 1497 \nQ 3513 744 3044 326 \nQ 2575 -91 1722 -91 \nQ 1428 -91 1123 -41 \nQ 819 9 494 109 \nL 494 744 \nQ 775 591 1075 516 \nQ 1375 441 1709 441 \nQ 2250 441 2565 725 \nQ 2881 1009 2881 1497 \nQ 2881 1984 2565 2268 \nQ 2250 2553 1709 2553 \nQ 1456 2553 1204 2497 \nQ 953 2441 691 2322 \nL 691 4666 \nz\n\" transform=\"scale(0.015625)\"/>\n       </defs>\n       <use xlink:href=\"#DejaVuSans-30\"/>\n       <use xlink:href=\"#DejaVuSans-2e\" x=\"63.623047\"/>\n       <use xlink:href=\"#DejaVuSans-35\" x=\"95.410156\"/>\n      </g>\n     </g>\n    </g>\n    <g id=\"xtick_3\">\n     <g id=\"line2d_3\">\n      <g>\n       <use xlink:href=\"#m33b34ee5b8\" x=\"92.025\" y=\"145.8\" style=\"stroke: #000000; stroke-width: 0.8\"/>\n      </g>\n     </g>\n     <g id=\"text_3\">\n      <!-- 1.0 -->\n      <g transform=\"translate(84.073438 160.398438) scale(0.1 -0.1)\">\n       <defs>\n        <path id=\"DejaVuSans-31\" d=\"M 794 531 \nL 1825 531 \nL 1825 4091 \nL 703 3866 \nL 703 4441 \nL 1819 4666 \nL 2450 4666 \nL 2450 531 \nL 3481 531 \nL 3481 0 \nL 794 0 \nL 794 531 \nz\n\" transform=\"scale(0.015625)\"/>\n       </defs>\n       <use xlink:href=\"#DejaVuSans-31\"/>\n       <use xlink:href=\"#DejaVuSans-2e\" x=\"63.623047\"/>\n       <use xlink:href=\"#DejaVuSans-30\" x=\"95.410156\"/>\n      </g>\n     </g>\n    </g>\n    <g id=\"xtick_4\">\n     <g id=\"line2d_4\">\n      <g>\n       <use xlink:href=\"#m33b34ee5b8\" x=\"124.575\" y=\"145.8\" style=\"stroke: #000000; stroke-width: 0.8\"/>\n      </g>\n     </g>\n     <g id=\"text_4\">\n      <!-- 1.5 -->\n      <g transform=\"translate(116.623437 160.398438) scale(0.1 -0.1)\">\n       <use xlink:href=\"#DejaVuSans-31\"/>\n       <use xlink:href=\"#DejaVuSans-2e\" x=\"63.623047\"/>\n       <use xlink:href=\"#DejaVuSans-35\" x=\"95.410156\"/>\n      </g>\n     </g>\n    </g>\n    <g id=\"xtick_5\">\n     <g id=\"line2d_5\">\n      <g>\n       <use xlink:href=\"#m33b34ee5b8\" x=\"157.125\" y=\"145.8\" style=\"stroke: #000000; stroke-width: 0.8\"/>\n      </g>\n     </g>\n     <g id=\"text_5\">\n      <!-- 2.0 -->\n      <g transform=\"translate(149.173438 160.398438) scale(0.1 -0.1)\">\n       <defs>\n        <path id=\"DejaVuSans-32\" d=\"M 1228 531 \nL 3431 531 \nL 3431 0 \nL 469 0 \nL 469 531 \nQ 828 903 1448 1529 \nQ 2069 2156 2228 2338 \nQ 2531 2678 2651 2914 \nQ 2772 3150 2772 3378 \nQ 2772 3750 2511 3984 \nQ 2250 4219 1831 4219 \nQ 1534 4219 1204 4116 \nQ 875 4013 500 3803 \nL 500 4441 \nQ 881 4594 1212 4672 \nQ 1544 4750 1819 4750 \nQ 2544 4750 2975 4387 \nQ 3406 4025 3406 3419 \nQ 3406 3131 3298 2873 \nQ 3191 2616 2906 2266 \nQ 2828 2175 2409 1742 \nQ 1991 1309 1228 531 \nz\n\" transform=\"scale(0.015625)\"/>\n       </defs>\n       <use xlink:href=\"#DejaVuSans-32\"/>\n       <use xlink:href=\"#DejaVuSans-2e\" x=\"63.623047\"/>\n       <use xlink:href=\"#DejaVuSans-30\" x=\"95.410156\"/>\n      </g>\n     </g>\n    </g>\n    <g id=\"xtick_6\">\n     <g id=\"line2d_6\">\n      <g>\n       <use xlink:href=\"#m33b34ee5b8\" x=\"189.675\" y=\"145.8\" style=\"stroke: #000000; stroke-width: 0.8\"/>\n      </g>\n     </g>\n     <g id=\"text_6\">\n      <!-- 2.5 -->\n      <g transform=\"translate(181.723438 160.398438) scale(0.1 -0.1)\">\n       <use xlink:href=\"#DejaVuSans-32\"/>\n       <use xlink:href=\"#DejaVuSans-2e\" x=\"63.623047\"/>\n       <use xlink:href=\"#DejaVuSans-35\" x=\"95.410156\"/>\n      </g>\n     </g>\n    </g>\n    <g id=\"xtick_7\">\n     <g id=\"line2d_7\">\n      <g>\n       <use xlink:href=\"#m33b34ee5b8\" x=\"222.225\" y=\"145.8\" style=\"stroke: #000000; stroke-width: 0.8\"/>\n      </g>\n     </g>\n     <g id=\"text_7\">\n      <!-- 3.0 -->\n      <g transform=\"translate(214.273438 160.398438) scale(0.1 -0.1)\">\n       <defs>\n        <path id=\"DejaVuSans-33\" d=\"M 2597 2516 \nQ 3050 2419 3304 2112 \nQ 3559 1806 3559 1356 \nQ 3559 666 3084 287 \nQ 2609 -91 1734 -91 \nQ 1441 -91 1130 -33 \nQ 819 25 488 141 \nL 488 750 \nQ 750 597 1062 519 \nQ 1375 441 1716 441 \nQ 2309 441 2620 675 \nQ 2931 909 2931 1356 \nQ 2931 1769 2642 2001 \nQ 2353 2234 1838 2234 \nL 1294 2234 \nL 1294 2753 \nL 1863 2753 \nQ 2328 2753 2575 2939 \nQ 2822 3125 2822 3475 \nQ 2822 3834 2567 4026 \nQ 2313 4219 1838 4219 \nQ 1578 4219 1281 4162 \nQ 984 4106 628 3988 \nL 628 4550 \nQ 988 4650 1302 4700 \nQ 1616 4750 1894 4750 \nQ 2613 4750 3031 4423 \nQ 3450 4097 3450 3541 \nQ 3450 3153 3228 2886 \nQ 3006 2619 2597 2516 \nz\n\" transform=\"scale(0.015625)\"/>\n       </defs>\n       <use xlink:href=\"#DejaVuSans-33\"/>\n       <use xlink:href=\"#DejaVuSans-2e\" x=\"63.623047\"/>\n       <use xlink:href=\"#DejaVuSans-30\" x=\"95.410156\"/>\n      </g>\n     </g>\n    </g>\n    <g id=\"text_8\">\n     <!-- epoch -->\n     <g transform=\"translate(109.346875 174.076563) scale(0.1 -0.1)\">\n      <defs>\n       <path id=\"DejaVuSans-65\" d=\"M 3597 1894 \nL 3597 1613 \nL 953 1613 \nQ 991 1019 1311 708 \nQ 1631 397 2203 397 \nQ 2534 397 2845 478 \nQ 3156 559 3463 722 \nL 3463 178 \nQ 3153 47 2828 -22 \nQ 2503 -91 2169 -91 \nQ 1331 -91 842 396 \nQ 353 884 353 1716 \nQ 353 2575 817 3079 \nQ 1281 3584 2069 3584 \nQ 2775 3584 3186 3129 \nQ 3597 2675 3597 1894 \nz\nM 3022 2063 \nQ 3016 2534 2758 2815 \nQ 2500 3097 2075 3097 \nQ 1594 3097 1305 2825 \nQ 1016 2553 972 2059 \nL 3022 2063 \nz\n\" transform=\"scale(0.015625)\"/>\n       <path id=\"DejaVuSans-70\" d=\"M 1159 525 \nL 1159 -1331 \nL 581 -1331 \nL 581 3500 \nL 1159 3500 \nL 1159 2969 \nQ 1341 3281 1617 3432 \nQ 1894 3584 2278 3584 \nQ 2916 3584 3314 3078 \nQ 3713 2572 3713 1747 \nQ 3713 922 3314 415 \nQ 2916 -91 2278 -91 \nQ 1894 -91 1617 61 \nQ 1341 213 1159 525 \nz\nM 3116 1747 \nQ 3116 2381 2855 2742 \nQ 2594 3103 2138 3103 \nQ 1681 3103 1420 2742 \nQ 1159 2381 1159 1747 \nQ 1159 1113 1420 752 \nQ 1681 391 2138 391 \nQ 2594 391 2855 752 \nQ 3116 1113 3116 1747 \nz\n\" transform=\"scale(0.015625)\"/>\n       <path id=\"DejaVuSans-6f\" d=\"M 1959 3097 \nQ 1497 3097 1228 2736 \nQ 959 2375 959 1747 \nQ 959 1119 1226 758 \nQ 1494 397 1959 397 \nQ 2419 397 2687 759 \nQ 2956 1122 2956 1747 \nQ 2956 2369 2687 2733 \nQ 2419 3097 1959 3097 \nz\nM 1959 3584 \nQ 2709 3584 3137 3096 \nQ 3566 2609 3566 1747 \nQ 3566 888 3137 398 \nQ 2709 -91 1959 -91 \nQ 1206 -91 779 398 \nQ 353 888 353 1747 \nQ 353 2609 779 3096 \nQ 1206 3584 1959 3584 \nz\n\" transform=\"scale(0.015625)\"/>\n       <path id=\"DejaVuSans-63\" d=\"M 3122 3366 \nL 3122 2828 \nQ 2878 2963 2633 3030 \nQ 2388 3097 2138 3097 \nQ 1578 3097 1268 2742 \nQ 959 2388 959 1747 \nQ 959 1106 1268 751 \nQ 1578 397 2138 397 \nQ 2388 397 2633 464 \nQ 2878 531 3122 666 \nL 3122 134 \nQ 2881 22 2623 -34 \nQ 2366 -91 2075 -91 \nQ 1284 -91 818 406 \nQ 353 903 353 1747 \nQ 353 2603 823 3093 \nQ 1294 3584 2113 3584 \nQ 2378 3584 2631 3529 \nQ 2884 3475 3122 3366 \nz\n\" transform=\"scale(0.015625)\"/>\n       <path id=\"DejaVuSans-68\" d=\"M 3513 2113 \nL 3513 0 \nL 2938 0 \nL 2938 2094 \nQ 2938 2591 2744 2837 \nQ 2550 3084 2163 3084 \nQ 1697 3084 1428 2787 \nQ 1159 2491 1159 1978 \nL 1159 0 \nL 581 0 \nL 581 4863 \nL 1159 4863 \nL 1159 2956 \nQ 1366 3272 1645 3428 \nQ 1925 3584 2291 3584 \nQ 2894 3584 3203 3211 \nQ 3513 2838 3513 2113 \nz\n\" transform=\"scale(0.015625)\"/>\n      </defs>\n      <use xlink:href=\"#DejaVuSans-65\"/>\n      <use xlink:href=\"#DejaVuSans-70\" x=\"61.523438\"/>\n      <use xlink:href=\"#DejaVuSans-6f\" x=\"125\"/>\n      <use xlink:href=\"#DejaVuSans-63\" x=\"186.181641\"/>\n      <use xlink:href=\"#DejaVuSans-68\" x=\"241.162109\"/>\n     </g>\n    </g>\n   </g>\n   <g id=\"matplotlib.axis_2\">\n    <g id=\"ytick_1\">\n     <g id=\"line2d_8\">\n      <defs>\n       <path id=\"m50247e7f7a\" d=\"M 0 0 \nL -3.5 0 \n\" style=\"stroke: #000000; stroke-width: 0.8\"/>\n      </defs>\n      <g>\n       <use xlink:href=\"#m50247e7f7a\" x=\"26.925\" y=\"140.218076\" style=\"stroke: #000000; stroke-width: 0.8\"/>\n      </g>\n     </g>\n     <g id=\"text_9\">\n      <!-- 0 -->\n      <g transform=\"translate(13.5625 144.017295) scale(0.1 -0.1)\">\n       <use xlink:href=\"#DejaVuSans-30\"/>\n      </g>\n     </g>\n    </g>\n    <g id=\"ytick_2\">\n     <g id=\"line2d_9\">\n      <g>\n       <use xlink:href=\"#m50247e7f7a\" x=\"26.925\" y=\"116.340859\" style=\"stroke: #000000; stroke-width: 0.8\"/>\n      </g>\n     </g>\n     <g id=\"text_10\">\n      <!-- 2 -->\n      <g transform=\"translate(13.5625 120.140078) scale(0.1 -0.1)\">\n       <use xlink:href=\"#DejaVuSans-32\"/>\n      </g>\n     </g>\n    </g>\n    <g id=\"ytick_3\">\n     <g id=\"line2d_10\">\n      <g>\n       <use xlink:href=\"#m50247e7f7a\" x=\"26.925\" y=\"92.463642\" style=\"stroke: #000000; stroke-width: 0.8\"/>\n      </g>\n     </g>\n     <g id=\"text_11\">\n      <!-- 4 -->\n      <g transform=\"translate(13.5625 96.262861) scale(0.1 -0.1)\">\n       <defs>\n        <path id=\"DejaVuSans-34\" d=\"M 2419 4116 \nL 825 1625 \nL 2419 1625 \nL 2419 4116 \nz\nM 2253 4666 \nL 3047 4666 \nL 3047 1625 \nL 3713 1625 \nL 3713 1100 \nL 3047 1100 \nL 3047 0 \nL 2419 0 \nL 2419 1100 \nL 313 1100 \nL 313 1709 \nL 2253 4666 \nz\n\" transform=\"scale(0.015625)\"/>\n       </defs>\n       <use xlink:href=\"#DejaVuSans-34\"/>\n      </g>\n     </g>\n    </g>\n    <g id=\"ytick_4\">\n     <g id=\"line2d_11\">\n      <g>\n       <use xlink:href=\"#m50247e7f7a\" x=\"26.925\" y=\"68.586425\" style=\"stroke: #000000; stroke-width: 0.8\"/>\n      </g>\n     </g>\n     <g id=\"text_12\">\n      <!-- 6 -->\n      <g transform=\"translate(13.5625 72.385644) scale(0.1 -0.1)\">\n       <defs>\n        <path id=\"DejaVuSans-36\" d=\"M 2113 2584 \nQ 1688 2584 1439 2293 \nQ 1191 2003 1191 1497 \nQ 1191 994 1439 701 \nQ 1688 409 2113 409 \nQ 2538 409 2786 701 \nQ 3034 994 3034 1497 \nQ 3034 2003 2786 2293 \nQ 2538 2584 2113 2584 \nz\nM 3366 4563 \nL 3366 3988 \nQ 3128 4100 2886 4159 \nQ 2644 4219 2406 4219 \nQ 1781 4219 1451 3797 \nQ 1122 3375 1075 2522 \nQ 1259 2794 1537 2939 \nQ 1816 3084 2150 3084 \nQ 2853 3084 3261 2657 \nQ 3669 2231 3669 1497 \nQ 3669 778 3244 343 \nQ 2819 -91 2113 -91 \nQ 1303 -91 875 529 \nQ 447 1150 447 2328 \nQ 447 3434 972 4092 \nQ 1497 4750 2381 4750 \nQ 2619 4750 2861 4703 \nQ 3103 4656 3366 4563 \nz\n\" transform=\"scale(0.015625)\"/>\n       </defs>\n       <use xlink:href=\"#DejaVuSans-36\"/>\n      </g>\n     </g>\n    </g>\n    <g id=\"ytick_5\">\n     <g id=\"line2d_12\">\n      <g>\n       <use xlink:href=\"#m50247e7f7a\" x=\"26.925\" y=\"44.709208\" style=\"stroke: #000000; stroke-width: 0.8\"/>\n      </g>\n     </g>\n     <g id=\"text_13\">\n      <!-- 8 -->\n      <g transform=\"translate(13.5625 48.508427) scale(0.1 -0.1)\">\n       <defs>\n        <path id=\"DejaVuSans-38\" d=\"M 2034 2216 \nQ 1584 2216 1326 1975 \nQ 1069 1734 1069 1313 \nQ 1069 891 1326 650 \nQ 1584 409 2034 409 \nQ 2484 409 2743 651 \nQ 3003 894 3003 1313 \nQ 3003 1734 2745 1975 \nQ 2488 2216 2034 2216 \nz\nM 1403 2484 \nQ 997 2584 770 2862 \nQ 544 3141 544 3541 \nQ 544 4100 942 4425 \nQ 1341 4750 2034 4750 \nQ 2731 4750 3128 4425 \nQ 3525 4100 3525 3541 \nQ 3525 3141 3298 2862 \nQ 3072 2584 2669 2484 \nQ 3125 2378 3379 2068 \nQ 3634 1759 3634 1313 \nQ 3634 634 3220 271 \nQ 2806 -91 2034 -91 \nQ 1263 -91 848 271 \nQ 434 634 434 1313 \nQ 434 1759 690 2068 \nQ 947 2378 1403 2484 \nz\nM 1172 3481 \nQ 1172 3119 1398 2916 \nQ 1625 2713 2034 2713 \nQ 2441 2713 2670 2916 \nQ 2900 3119 2900 3481 \nQ 2900 3844 2670 4047 \nQ 2441 4250 2034 4250 \nQ 1625 4250 1398 4047 \nQ 1172 3844 1172 3481 \nz\n\" transform=\"scale(0.015625)\"/>\n       </defs>\n       <use xlink:href=\"#DejaVuSans-38\"/>\n      </g>\n     </g>\n    </g>\n    <g id=\"ytick_6\">\n     <g id=\"line2d_13\">\n      <g>\n       <use xlink:href=\"#m50247e7f7a\" x=\"26.925\" y=\"20.831991\" style=\"stroke: #000000; stroke-width: 0.8\"/>\n      </g>\n     </g>\n     <g id=\"text_14\">\n      <!-- 10 -->\n      <g transform=\"translate(7.2 24.63121) scale(0.1 -0.1)\">\n       <use xlink:href=\"#DejaVuSans-31\"/>\n       <use xlink:href=\"#DejaVuSans-30\" x=\"63.623047\"/>\n      </g>\n     </g>\n    </g>\n   </g>\n   <g id=\"line2d_14\">\n    <path d=\"M 42.182813 13.5 \n\" clip-path=\"url(#p06cd8e5160)\" style=\"fill: none; stroke: #1f77b4; stroke-width: 1.5; stroke-linecap: square\"/>\n   </g>\n   <g id=\"line2d_15\">\n    <path d=\"M 42.182813 13.5 \nL 74.732812 90.145581 \n\" clip-path=\"url(#p06cd8e5160)\" style=\"fill: none; stroke: #1f77b4; stroke-width: 1.5; stroke-linecap: square\"/>\n   </g>\n   <g id=\"line2d_16\">\n    <path d=\"M 42.182813 13.5 \nL 74.732812 90.145581 \n\" clip-path=\"url(#p06cd8e5160)\" style=\"fill: none; stroke: #1f77b4; stroke-width: 1.5; stroke-linecap: square\"/>\n   </g>\n   <g id=\"line2d_17\">\n    <path d=\"M 92.025 109.503676 \n\" clip-path=\"url(#p06cd8e5160)\" style=\"fill: none; stroke-dasharray: 5.55,2.4; stroke-dashoffset: 0; stroke: #ff7f0e; stroke-width: 1.5\"/>\n   </g>\n   <g id=\"line2d_18\">\n    <path d=\"M 42.182813 13.5 \nL 74.732812 90.145581 \nL 107.282813 120.729145 \n\" clip-path=\"url(#p06cd8e5160)\" style=\"fill: none; stroke: #1f77b4; stroke-width: 1.5; stroke-linecap: square\"/>\n   </g>\n   <g id=\"line2d_19\">\n    <path d=\"M 92.025 109.503676 \n\" clip-path=\"url(#p06cd8e5160)\" style=\"fill: none; stroke-dasharray: 5.55,2.4; stroke-dashoffset: 0; stroke: #ff7f0e; stroke-width: 1.5\"/>\n   </g>\n   <g id=\"line2d_20\">\n    <path d=\"M 42.182813 13.5 \nL 74.732812 90.145581 \nL 107.282813 120.729145 \nL 139.832812 131.878357 \n\" clip-path=\"url(#p06cd8e5160)\" style=\"fill: none; stroke: #1f77b4; stroke-width: 1.5; stroke-linecap: square\"/>\n   </g>\n   <g id=\"line2d_21\">\n    <path d=\"M 92.025 109.503676 \n\" clip-path=\"url(#p06cd8e5160)\" style=\"fill: none; stroke-dasharray: 5.55,2.4; stroke-dashoffset: 0; stroke: #ff7f0e; stroke-width: 1.5\"/>\n   </g>\n   <g id=\"line2d_22\">\n    <path d=\"M 42.182813 13.5 \nL 74.732812 90.145581 \nL 107.282813 120.729145 \nL 139.832812 131.878357 \n\" clip-path=\"url(#p06cd8e5160)\" style=\"fill: none; stroke: #1f77b4; stroke-width: 1.5; stroke-linecap: square\"/>\n   </g>\n   <g id=\"line2d_23\">\n    <path d=\"M 92.025 109.503676 \nL 157.125 135.434195 \n\" clip-path=\"url(#p06cd8e5160)\" style=\"fill: none; stroke-dasharray: 5.55,2.4; stroke-dashoffset: 0; stroke: #ff7f0e; stroke-width: 1.5\"/>\n   </g>\n   <g id=\"line2d_24\">\n    <path d=\"M 42.182813 13.5 \nL 74.732812 90.145581 \nL 107.282813 120.729145 \nL 139.832812 131.878357 \nL 172.382812 137.151331 \n\" clip-path=\"url(#p06cd8e5160)\" style=\"fill: none; stroke: #1f77b4; stroke-width: 1.5; stroke-linecap: square\"/>\n   </g>\n   <g id=\"line2d_25\">\n    <path d=\"M 92.025 109.503676 \nL 157.125 135.434195 \n\" clip-path=\"url(#p06cd8e5160)\" style=\"fill: none; stroke-dasharray: 5.55,2.4; stroke-dashoffset: 0; stroke: #ff7f0e; stroke-width: 1.5\"/>\n   </g>\n   <g id=\"line2d_26\">\n    <path d=\"M 42.182813 13.5 \nL 74.732812 90.145581 \nL 107.282813 120.729145 \nL 139.832812 131.878357 \nL 172.382812 137.151331 \nL 204.932812 138.922084 \n\" clip-path=\"url(#p06cd8e5160)\" style=\"fill: none; stroke: #1f77b4; stroke-width: 1.5; stroke-linecap: square\"/>\n   </g>\n   <g id=\"line2d_27\">\n    <path d=\"M 92.025 109.503676 \nL 157.125 135.434195 \n\" clip-path=\"url(#p06cd8e5160)\" style=\"fill: none; stroke-dasharray: 5.55,2.4; stroke-dashoffset: 0; stroke: #ff7f0e; stroke-width: 1.5\"/>\n   </g>\n   <g id=\"line2d_28\">\n    <path d=\"M 42.182813 13.5 \nL 74.732812 90.145581 \nL 107.282813 120.729145 \nL 139.832812 131.878357 \nL 172.382812 137.151331 \nL 204.932812 138.922084 \n\" clip-path=\"url(#p06cd8e5160)\" style=\"fill: none; stroke: #1f77b4; stroke-width: 1.5; stroke-linecap: square\"/>\n   </g>\n   <g id=\"line2d_29\">\n    <path d=\"M 92.025 109.503676 \nL 157.125 135.434195 \nL 222.225 139.5 \n\" clip-path=\"url(#p06cd8e5160)\" style=\"fill: none; stroke-dasharray: 5.55,2.4; stroke-dashoffset: 0; stroke: #ff7f0e; stroke-width: 1.5\"/>\n   </g>\n   <g id=\"patch_3\">\n    <path d=\"M 26.925 145.8 \nL 26.925 7.2 \n\" style=\"fill: none; stroke: #000000; stroke-width: 0.8; stroke-linejoin: miter; stroke-linecap: square\"/>\n   </g>\n   <g id=\"patch_4\">\n    <path d=\"M 222.225 145.8 \nL 222.225 7.2 \n\" style=\"fill: none; stroke: #000000; stroke-width: 0.8; stroke-linejoin: miter; stroke-linecap: square\"/>\n   </g>\n   <g id=\"patch_5\">\n    <path d=\"M 26.925 145.8 \nL 222.225 145.8 \n\" style=\"fill: none; stroke: #000000; stroke-width: 0.8; stroke-linejoin: miter; stroke-linecap: square\"/>\n   </g>\n   <g id=\"patch_6\">\n    <path d=\"M 26.925 7.2 \nL 222.225 7.2 \n\" style=\"fill: none; stroke: #000000; stroke-width: 0.8; stroke-linejoin: miter; stroke-linecap: square\"/>\n   </g>\n   <g id=\"legend_1\">\n    <g id=\"patch_7\">\n     <path d=\"M 135.634375 45.1125 \nL 215.225 45.1125 \nQ 217.225 45.1125 217.225 43.1125 \nL 217.225 14.2 \nQ 217.225 12.2 215.225 12.2 \nL 135.634375 12.2 \nQ 133.634375 12.2 133.634375 14.2 \nL 133.634375 43.1125 \nQ 133.634375 45.1125 135.634375 45.1125 \nz\n\" style=\"fill: #ffffff; opacity: 0.8; stroke: #cccccc; stroke-linejoin: miter\"/>\n    </g>\n    <g id=\"line2d_30\">\n     <path d=\"M 137.634375 20.298438 \nL 147.634375 20.298438 \nL 157.634375 20.298438 \n\" style=\"fill: none; stroke: #1f77b4; stroke-width: 1.5; stroke-linecap: square\"/>\n    </g>\n    <g id=\"text_15\">\n     <!-- train_loss -->\n     <g transform=\"translate(165.634375 23.798438) scale(0.1 -0.1)\">\n      <defs>\n       <path id=\"DejaVuSans-74\" d=\"M 1172 4494 \nL 1172 3500 \nL 2356 3500 \nL 2356 3053 \nL 1172 3053 \nL 1172 1153 \nQ 1172 725 1289 603 \nQ 1406 481 1766 481 \nL 2356 481 \nL 2356 0 \nL 1766 0 \nQ 1100 0 847 248 \nQ 594 497 594 1153 \nL 594 3053 \nL 172 3053 \nL 172 3500 \nL 594 3500 \nL 594 4494 \nL 1172 4494 \nz\n\" transform=\"scale(0.015625)\"/>\n       <path id=\"DejaVuSans-72\" d=\"M 2631 2963 \nQ 2534 3019 2420 3045 \nQ 2306 3072 2169 3072 \nQ 1681 3072 1420 2755 \nQ 1159 2438 1159 1844 \nL 1159 0 \nL 581 0 \nL 581 3500 \nL 1159 3500 \nL 1159 2956 \nQ 1341 3275 1631 3429 \nQ 1922 3584 2338 3584 \nQ 2397 3584 2469 3576 \nQ 2541 3569 2628 3553 \nL 2631 2963 \nz\n\" transform=\"scale(0.015625)\"/>\n       <path id=\"DejaVuSans-61\" d=\"M 2194 1759 \nQ 1497 1759 1228 1600 \nQ 959 1441 959 1056 \nQ 959 750 1161 570 \nQ 1363 391 1709 391 \nQ 2188 391 2477 730 \nQ 2766 1069 2766 1631 \nL 2766 1759 \nL 2194 1759 \nz\nM 3341 1997 \nL 3341 0 \nL 2766 0 \nL 2766 531 \nQ 2569 213 2275 61 \nQ 1981 -91 1556 -91 \nQ 1019 -91 701 211 \nQ 384 513 384 1019 \nQ 384 1609 779 1909 \nQ 1175 2209 1959 2209 \nL 2766 2209 \nL 2766 2266 \nQ 2766 2663 2505 2880 \nQ 2244 3097 1772 3097 \nQ 1472 3097 1187 3025 \nQ 903 2953 641 2809 \nL 641 3341 \nQ 956 3463 1253 3523 \nQ 1550 3584 1831 3584 \nQ 2591 3584 2966 3190 \nQ 3341 2797 3341 1997 \nz\n\" transform=\"scale(0.015625)\"/>\n       <path id=\"DejaVuSans-69\" d=\"M 603 3500 \nL 1178 3500 \nL 1178 0 \nL 603 0 \nL 603 3500 \nz\nM 603 4863 \nL 1178 4863 \nL 1178 4134 \nL 603 4134 \nL 603 4863 \nz\n\" transform=\"scale(0.015625)\"/>\n       <path id=\"DejaVuSans-6e\" d=\"M 3513 2113 \nL 3513 0 \nL 2938 0 \nL 2938 2094 \nQ 2938 2591 2744 2837 \nQ 2550 3084 2163 3084 \nQ 1697 3084 1428 2787 \nQ 1159 2491 1159 1978 \nL 1159 0 \nL 581 0 \nL 581 3500 \nL 1159 3500 \nL 1159 2956 \nQ 1366 3272 1645 3428 \nQ 1925 3584 2291 3584 \nQ 2894 3584 3203 3211 \nQ 3513 2838 3513 2113 \nz\n\" transform=\"scale(0.015625)\"/>\n       <path id=\"DejaVuSans-5f\" d=\"M 3263 -1063 \nL 3263 -1509 \nL -63 -1509 \nL -63 -1063 \nL 3263 -1063 \nz\n\" transform=\"scale(0.015625)\"/>\n       <path id=\"DejaVuSans-6c\" d=\"M 603 4863 \nL 1178 4863 \nL 1178 0 \nL 603 0 \nL 603 4863 \nz\n\" transform=\"scale(0.015625)\"/>\n       <path id=\"DejaVuSans-73\" d=\"M 2834 3397 \nL 2834 2853 \nQ 2591 2978 2328 3040 \nQ 2066 3103 1784 3103 \nQ 1356 3103 1142 2972 \nQ 928 2841 928 2578 \nQ 928 2378 1081 2264 \nQ 1234 2150 1697 2047 \nL 1894 2003 \nQ 2506 1872 2764 1633 \nQ 3022 1394 3022 966 \nQ 3022 478 2636 193 \nQ 2250 -91 1575 -91 \nQ 1294 -91 989 -36 \nQ 684 19 347 128 \nL 347 722 \nQ 666 556 975 473 \nQ 1284 391 1588 391 \nQ 1994 391 2212 530 \nQ 2431 669 2431 922 \nQ 2431 1156 2273 1281 \nQ 2116 1406 1581 1522 \nL 1381 1569 \nQ 847 1681 609 1914 \nQ 372 2147 372 2553 \nQ 372 3047 722 3315 \nQ 1072 3584 1716 3584 \nQ 2034 3584 2315 3537 \nQ 2597 3491 2834 3397 \nz\n\" transform=\"scale(0.015625)\"/>\n      </defs>\n      <use xlink:href=\"#DejaVuSans-74\"/>\n      <use xlink:href=\"#DejaVuSans-72\" x=\"39.208984\"/>\n      <use xlink:href=\"#DejaVuSans-61\" x=\"80.322266\"/>\n      <use xlink:href=\"#DejaVuSans-69\" x=\"141.601562\"/>\n      <use xlink:href=\"#DejaVuSans-6e\" x=\"169.384766\"/>\n      <use xlink:href=\"#DejaVuSans-5f\" x=\"232.763672\"/>\n      <use xlink:href=\"#DejaVuSans-6c\" x=\"282.763672\"/>\n      <use xlink:href=\"#DejaVuSans-6f\" x=\"310.546875\"/>\n      <use xlink:href=\"#DejaVuSans-73\" x=\"371.728516\"/>\n      <use xlink:href=\"#DejaVuSans-73\" x=\"423.828125\"/>\n     </g>\n    </g>\n    <g id=\"line2d_31\">\n     <path d=\"M 137.634375 35.254688 \nL 147.634375 35.254688 \nL 157.634375 35.254688 \n\" style=\"fill: none; stroke-dasharray: 5.55,2.4; stroke-dashoffset: 0; stroke: #ff7f0e; stroke-width: 1.5\"/>\n    </g>\n    <g id=\"text_16\">\n     <!-- val_loss -->\n     <g transform=\"translate(165.634375 38.754688) scale(0.1 -0.1)\">\n      <defs>\n       <path id=\"DejaVuSans-76\" d=\"M 191 3500 \nL 800 3500 \nL 1894 563 \nL 2988 3500 \nL 3597 3500 \nL 2284 0 \nL 1503 0 \nL 191 3500 \nz\n\" transform=\"scale(0.015625)\"/>\n      </defs>\n      <use xlink:href=\"#DejaVuSans-76\"/>\n      <use xlink:href=\"#DejaVuSans-61\" x=\"59.179688\"/>\n      <use xlink:href=\"#DejaVuSans-6c\" x=\"120.458984\"/>\n      <use xlink:href=\"#DejaVuSans-5f\" x=\"148.242188\"/>\n      <use xlink:href=\"#DejaVuSans-6c\" x=\"198.242188\"/>\n      <use xlink:href=\"#DejaVuSans-6f\" x=\"226.025391\"/>\n      <use xlink:href=\"#DejaVuSans-73\" x=\"287.207031\"/>\n      <use xlink:href=\"#DejaVuSans-73\" x=\"339.306641\"/>\n     </g>\n    </g>\n   </g>\n  </g>\n </g>\n <defs>\n  <clipPath id=\"p06cd8e5160\">\n   <rect x=\"26.925\" y=\"7.2\" width=\"195.3\" height=\"138.6\"/>\n  </clipPath>\n </defs>\n</svg>\n"
          },
          "metadata": {}
        }
      ],
      "source": [
        "model = LinearRegressionScratch(2, lr=0.03)\n",
        "data = d2l.SyntheticRegressionData(w=torch.tensor([2, -3.4]), b=4.2)\n",
        "trainer = d2l.Trainer(max_epochs=3)\n",
        "trainer.fit(model, data)"
      ]
    },
    {
      "cell_type": "code",
      "execution_count": 26,
      "id": "c03ea92f-2209-45f8-b797-d7b085710481",
      "metadata": {
        "id": "c03ea92f-2209-45f8-b797-d7b085710481",
        "colab": {
          "base_uri": "https://localhost:8080/"
        },
        "outputId": "86f2abca-eca0-4660-b0ab-63c045f7b1d6"
      },
      "outputs": [
        {
          "output_type": "stream",
          "name": "stdout",
          "text": [
            "error in estimating w: tensor([ 0.1343, -0.1789])\n",
            "error in estimating b: tensor([0.2681])\n"
          ]
        }
      ],
      "source": [
        "with torch.no_grad():\n",
        "    print(f'error in estimating w: {data.w - model.w.reshape(data.w.shape)}')\n",
        "    print(f'error in estimating b: {data.b - model.b}')"
      ]
    },
    {
      "cell_type": "markdown",
      "id": "9cb2fc13-5c07-4002-981f-a42ade77a023",
      "metadata": {
        "id": "9cb2fc13-5c07-4002-981f-a42ade77a023"
      },
      "source": [
        "### 3.4.5.summary\n",
        "\n",
        "* 완전한 기능의 신경망 모델과 훈련 loop 구현\n",
        "\n",
        "* data loader, a model, a loss function, an optimization procedure, and a visualization and monitoring tool을 built"
      ]
    },
    {
      "cell_type": "markdown",
      "id": "58bc4581-d2d8-44f3-9727-df14ff61412d",
      "metadata": {
        "id": "58bc4581-d2d8-44f3-9727-df14ff61412d"
      },
      "source": [
        "### discussions or takeaway messages\n",
        "\n",
        "1. 딥러닝 시스템을 설계하기 위한 기초 구현\n",
        "\n",
        "2. 신경망 모델, 훈련 loop\n",
        "\n",
        "3. data loader, a model, a loss function, an optimization procedure, and a visualization and monitoring tool"
      ]
    },
    {
      "cell_type": "markdown",
      "id": "85382518-74c1-4f04-86de-2c960d661436",
      "metadata": {
        "id": "85382518-74c1-4f04-86de-2c960d661436"
      },
      "source": [
        "## 4.1.Softmax Regression\n",
        "\n",
        "단순히 squared errors를 줄이는 것 보다 추정에 더 많은 것이 있다.\n",
        "\n",
        "어떤 범주에 초점을 맞추는 \"분류\"를 다뤄보자\n",
        "\n",
        "1) class에 예제를 hard assignments\n",
        "2) soft assignments : 카테고리가 적용될 확률을 평가하는 문제\n",
        "\n",
        "두개 이상의 label -> multi-label classification"
      ]
    },
    {
      "cell_type": "markdown",
      "id": "57bccbc1-c5f8-4b0b-bc17-382a4bff355d",
      "metadata": {
        "id": "57bccbc1-c5f8-4b0b-bc17-382a4bff355d"
      },
      "source": [
        "#### 4.1.1.1.linear model\n",
        "\n",
        "#### 4.1.1.1.2.the softmax\n",
        "* softmax : classification에서 출력 값을 확률로 변환하는데 사용\n",
        "\n",
        "* classification의 어려움 : 출력값이 확률이 아닐 수 있음 , 출력값이 음수일 가능성\n",
        "\n",
        "-> softmax function!\n",
        "\n",
        ": 모든 출력값을 지수함수로 변환(양수값) -> 정규화\n",
        "\n",
        "* softmax 특징 : 순서를 보존하기 때문에 softmax를 계산하여 어떤 class가 가장 높은 확률로 할당되었는지 결정할 필요가 없음(softmax를 적용하지 않아도 가장 큰 zi가 가장 높은 확률의 class)\n",
        "\n",
        "#### 4.1.1.1.3.vectorization"
      ]
    },
    {
      "cell_type": "markdown",
      "id": "4a8308c5-0135-4ce2-8a9a-fcfa7e29ff65",
      "metadata": {
        "id": "4a8308c5-0135-4ce2-8a9a-fcfa7e29ff65"
      },
      "source": [
        "### 4.1.2.loss function\n",
        "\n",
        "#### 4.1.2.1.log-likelihood\n",
        "* likelihood : 확률 분포가 가정된 상황에서 관측값이 가지는 확률값\n",
        "* soft max함수가 각 class에 대한 조건부 확률을 vector형태로 반환 (각 class가 정답일 확률)\n",
        "* dataset에서 각 label는 one-hot encoding으로 표현. 맞으면 1, 틀리면 0\n",
        "* 각 label이 독립적으로 추출된다고 가정!\n",
        "* negative log-likelihood : 모델의 확률과 실제 label의 차이 -> 손실 측정\n",
        "* cross-entropy loss : softmax로 계산된 확률값과 one-hot encoding된 실제 label의 차이를 계산 |최소화하는게 목적| 손실 값은 0이상, 완벽하게 예측한다면 손실 값은 0\n",
        "\n",
        "#### 4.1.2.2.softmax and cross-entropy loss\n",
        "* 둘 다 classification에서 자주 사용\n",
        "\n",
        "* softmax : 출력값을 확률값으로\n",
        "* cross entropy loss : 실제 정답 label과 모델의 예측 확률간의 차이를 측정. 예측된 확률의 로그 값에 실제 레이블을 곱한 후 음수를 취하여 계산 | 정답에 대한 예측 확률이 높을수록 값이 작아짐\n",
        "* cross entropy에서 모델의 parameter를 최적화하기 위해 손실함수 미분.\n",
        "* 복잡한 경우 single이 아닌  entire distribution이 올 수 있음. 마찬가지로 corss entropy loss를 적용할 수 잇음. 손실함수는 label에 대한 분포의 기댓값을 구하는 방식. 이 방식은 lable이 확률적으로 여러 class에 걸쳐있을 때 효과적\n",
        "\n",
        "### 4.1.3. Information Theory Basics\n",
        "\n",
        "#### 4.1.3.1.entropy\n",
        "* entropy : 데이터에 포함된 정보의 양. 엔드로피가 높다 = 데이터의 예측이 어렵다 = 정보가 많다\n",
        "\n",
        "#### 4.1.3.2.suprisal\n",
        "* 예측할 수 없는 사건이 발생했을 때의 놀라움. 예측할 수 없는게 클수록 커짐.\n",
        "* 사건이 발생할 확률이 낮을수록 suprisal이 커짐\n",
        "* entropy는 suprisal의 기대값.\n",
        "\n",
        "#### 4.1.3.3.cross-entropy revisited\n",
        "* cross-entropy : 실제 분포P와 모델이 예측한 분포Q의 차이.\n",
        "* cross entropy를 classification에서 사용하는 이유 :\n",
        "      1) 관측한 데이터의 likelihood 최대화\n",
        "      2) suprisal 최소화\n",
        "\n",
        "### 4.1.4.summary and discussion\n",
        "\n",
        "* cross entropy loss : 확률적 접근을 사용하기 위해 softmax(신경망의 출력을 이산확률분포로 바꿔줌) 사용.\n",
        "\n",
        "* softmax와 cross entropy loss의 미분이 label과 예측값 사이의 차이를 사용하는 방식 -> squared loss와 비슷\n",
        "\n",
        "* 다만, 중요한 사항들이 생략되어 있음 : fully connected layer의 경우, 입력과 출력이 많아지면 계산비용이 입력개수*출력개수에 비례해서 커짐 -> approximation, compression을 사용해 해결"
      ]
    },
    {
      "cell_type": "markdown",
      "id": "c2d5f226-3f63-4823-a5c3-410fcd315447",
      "metadata": {
        "id": "c2d5f226-3f63-4823-a5c3-410fcd315447"
      },
      "source": [
        "### discussions or takeaway messages\n",
        "\n",
        "1. classification!\n",
        "\n",
        "2. 신경망 -> softmax : 신경망의 출력을 확률로 바꿔줌 -> cross entropy loss\n",
        "\n",
        "3. softmax : 지수함수(양수값으로 변환) -> 정규화\n",
        "\n",
        "4. softmax는 순서를 보존해줌.\n",
        "\n",
        "5. cross-entropy loss : 모델의 예측값과 실제 label의 차이를 계산\n",
        "\n",
        "6. distribution이 오는 등 복잡한 경우에도 corss entropy loss이용 가능.\n",
        "\n",
        "7. 사건이 발생할 확률이 낮 -> syprisal이 커짐\n",
        "\n",
        "8. entropy가 높 = 데이터 예측이 어렵 = 정보가 많다"
      ]
    },
    {
      "cell_type": "markdown",
      "id": "7b8e502f-0920-4fcd-ac9e-fab7e1e86a8b",
      "metadata": {
        "id": "7b8e502f-0920-4fcd-ac9e-fab7e1e86a8b"
      },
      "source": [
        "## 4.2. The Image Classification Dataset\n"
      ]
    },
    {
      "cell_type": "code",
      "execution_count": 27,
      "id": "532dfd09-f30f-4707-8f19-454a0a91b574",
      "metadata": {
        "id": "532dfd09-f30f-4707-8f19-454a0a91b574"
      },
      "outputs": [],
      "source": [
        "%matplotlib inline\n",
        "import time\n",
        "import torch\n",
        "import torchvision\n",
        "from torchvision import transforms\n",
        "from d2l import torch as d2l\n",
        "\n",
        "d2l.use_svg_display()"
      ]
    },
    {
      "cell_type": "markdown",
      "id": "b202d158-e947-48fb-8290-57df056d7c63",
      "metadata": {
        "id": "b202d158-e947-48fb-8290-57df056d7c63"
      },
      "source": [
        "### 4.2.1.loading the dataset"
      ]
    },
    {
      "cell_type": "markdown",
      "id": "da94764c-860e-4f13-9cb4-7485f3c7e973",
      "metadata": {
        "id": "da94764c-860e-4f13-9cb4-7485f3c7e973"
      },
      "source": [
        "class FashionMNIST(d2l.DataModule):  #@save\n",
        "    \"\"\"The Fashion-MNIST dataset.\"\"\"\n",
        "    def __init__(self, batch_size=64, resize=(28, 28)):\n",
        "        super().__init__()\n",
        "        self.save_hyperparameters()\n",
        "        trans = transforms.Compose([transforms.Resize(resize),\n",
        "                                    transforms.ToTensor()])\n",
        "        self.train = torchvision.datasets.FashionMNIST(\n",
        "            root=self.root, train=True, transform=trans, download=True)\n",
        "        self.val = torchvision.datasets.FashionMNIST(\n",
        "            root=self.root, train=False, transform=trans, download=True)"
      ]
    },
    {
      "cell_type": "code",
      "source": [
        "class FashionMNIST(d2l.DataModule):\n",
        "    \"\"\"The Fashion-MNIST dataset.\"\"\"\n",
        "    def __init__(self, batch_size=64, resize=(28, 28)):\n",
        "        super().__init__()\n",
        "        self.save_hyperparameters()\n",
        "        trans = transforms.Compose([transforms.Resize(resize),\n",
        "                                    transforms.ToTensor()])\n",
        "        self.train = torchvision.datasets.FashionMNIST(\n",
        "            root=self.root, train=True, transform=trans, download=True)\n",
        "        self.val = torchvision.datasets.FashionMNIST(\n",
        "            root=self.root, train=False, transform=trans, download=True)"
      ],
      "metadata": {
        "id": "tlMEVh5izT0P"
      },
      "id": "tlMEVh5izT0P",
      "execution_count": 29,
      "outputs": []
    },
    {
      "cell_type": "code",
      "execution_count": 30,
      "id": "42716b27-7bf2-421b-9ad6-f6bc9f253256",
      "metadata": {
        "id": "42716b27-7bf2-421b-9ad6-f6bc9f253256",
        "colab": {
          "base_uri": "https://localhost:8080/"
        },
        "outputId": "c5cb9095-3fee-4a06-c044-654482049d84"
      },
      "outputs": [
        {
          "output_type": "stream",
          "name": "stdout",
          "text": [
            "Downloading http://fashion-mnist.s3-website.eu-central-1.amazonaws.com/train-images-idx3-ubyte.gz\n",
            "Downloading http://fashion-mnist.s3-website.eu-central-1.amazonaws.com/train-images-idx3-ubyte.gz to ../data/FashionMNIST/raw/train-images-idx3-ubyte.gz\n"
          ]
        },
        {
          "output_type": "stream",
          "name": "stderr",
          "text": [
            "100%|██████████| 26421880/26421880 [00:01<00:00, 16608330.97it/s]\n"
          ]
        },
        {
          "output_type": "stream",
          "name": "stdout",
          "text": [
            "Extracting ../data/FashionMNIST/raw/train-images-idx3-ubyte.gz to ../data/FashionMNIST/raw\n",
            "\n",
            "Downloading http://fashion-mnist.s3-website.eu-central-1.amazonaws.com/train-labels-idx1-ubyte.gz\n",
            "Downloading http://fashion-mnist.s3-website.eu-central-1.amazonaws.com/train-labels-idx1-ubyte.gz to ../data/FashionMNIST/raw/train-labels-idx1-ubyte.gz\n"
          ]
        },
        {
          "output_type": "stream",
          "name": "stderr",
          "text": [
            "100%|██████████| 29515/29515 [00:00<00:00, 305599.22it/s]\n"
          ]
        },
        {
          "output_type": "stream",
          "name": "stdout",
          "text": [
            "Extracting ../data/FashionMNIST/raw/train-labels-idx1-ubyte.gz to ../data/FashionMNIST/raw\n",
            "\n",
            "Downloading http://fashion-mnist.s3-website.eu-central-1.amazonaws.com/t10k-images-idx3-ubyte.gz\n",
            "Downloading http://fashion-mnist.s3-website.eu-central-1.amazonaws.com/t10k-images-idx3-ubyte.gz to ../data/FashionMNIST/raw/t10k-images-idx3-ubyte.gz\n"
          ]
        },
        {
          "output_type": "stream",
          "name": "stderr",
          "text": [
            "100%|██████████| 4422102/4422102 [00:00<00:00, 5551236.08it/s]\n"
          ]
        },
        {
          "output_type": "stream",
          "name": "stdout",
          "text": [
            "Extracting ../data/FashionMNIST/raw/t10k-images-idx3-ubyte.gz to ../data/FashionMNIST/raw\n",
            "\n",
            "Downloading http://fashion-mnist.s3-website.eu-central-1.amazonaws.com/t10k-labels-idx1-ubyte.gz\n",
            "Downloading http://fashion-mnist.s3-website.eu-central-1.amazonaws.com/t10k-labels-idx1-ubyte.gz to ../data/FashionMNIST/raw/t10k-labels-idx1-ubyte.gz\n"
          ]
        },
        {
          "output_type": "stream",
          "name": "stderr",
          "text": [
            "100%|██████████| 5148/5148 [00:00<00:00, 5331426.42it/s]"
          ]
        },
        {
          "output_type": "stream",
          "name": "stdout",
          "text": [
            "Extracting ../data/FashionMNIST/raw/t10k-labels-idx1-ubyte.gz to ../data/FashionMNIST/raw\n",
            "\n"
          ]
        },
        {
          "output_type": "stream",
          "name": "stderr",
          "text": [
            "\n"
          ]
        },
        {
          "output_type": "execute_result",
          "data": {
            "text/plain": [
              "(60000, 10000)"
            ]
          },
          "metadata": {},
          "execution_count": 30
        }
      ],
      "source": [
        "data = FashionMNIST(resize=(32, 32))\n",
        "len(data.train), len(data.val)"
      ]
    },
    {
      "cell_type": "code",
      "execution_count": 31,
      "id": "69e35fa3-a15b-4ade-af2f-67e41f4d5781",
      "metadata": {
        "id": "69e35fa3-a15b-4ade-af2f-67e41f4d5781",
        "colab": {
          "base_uri": "https://localhost:8080/"
        },
        "outputId": "da7830cf-4e60-4ea5-f292-0381bdb279d3"
      },
      "outputs": [
        {
          "output_type": "execute_result",
          "data": {
            "text/plain": [
              "torch.Size([1, 32, 32])"
            ]
          },
          "metadata": {},
          "execution_count": 31
        }
      ],
      "source": [
        "data.train[0][0].shape"
      ]
    },
    {
      "cell_type": "code",
      "execution_count": 32,
      "id": "4c4e31f9-9eb8-4ee9-a7f0-3042cfb4dafa",
      "metadata": {
        "id": "4c4e31f9-9eb8-4ee9-a7f0-3042cfb4dafa"
      },
      "outputs": [],
      "source": [
        "@d2l.add_to_class(FashionMNIST)\n",
        "def text_labels(self, indices):\n",
        "    \"\"\"Return text labels.\"\"\"\n",
        "    labels = ['t-shirt', 'trouser', 'pullover', 'dress', 'coat',\n",
        "              'sandal', 'shirt', 'sneaker', 'bag', 'ankle boot']\n",
        "    return [labels[int(i)] for i in indices]"
      ]
    },
    {
      "cell_type": "markdown",
      "id": "daf8a804-cd1a-4170-9af7-6ce6b2aa1c26",
      "metadata": {
        "id": "daf8a804-cd1a-4170-9af7-6ce6b2aa1c26"
      },
      "source": [
        "### 4.2.2.reading a minibatch\n",
        "\n",
        "reading from the training,test sets를 쉽게 하기 위해 creating one from scratch보다 내장된 data iterator를 사용.\n",
        "\n",
        "각 반복에서 data iterator은 미니배치 데이터를 읽고 training data의 example를 랜덤으로 섞는다"
      ]
    },
    {
      "cell_type": "code",
      "execution_count": 33,
      "id": "21e0d466-5ca5-4cda-a3ed-8d26fc64060d",
      "metadata": {
        "id": "21e0d466-5ca5-4cda-a3ed-8d26fc64060d"
      },
      "outputs": [],
      "source": [
        "@d2l.add_to_class(FashionMNIST)\n",
        "def get_dataloader(self, train):\n",
        "    data = self.train if train else self.val\n",
        "    return torch.utils.data.DataLoader(data, self.batch_size, shuffle=train,\n",
        "                                       num_workers=self.num_workers)"
      ]
    },
    {
      "cell_type": "code",
      "execution_count": 34,
      "id": "0ed16c7a-62df-490b-9e4b-7d63f3920f17",
      "metadata": {
        "id": "0ed16c7a-62df-490b-9e4b-7d63f3920f17",
        "colab": {
          "base_uri": "https://localhost:8080/"
        },
        "outputId": "5a50b10c-0312-412f-df2e-7acef5e171af"
      },
      "outputs": [
        {
          "output_type": "stream",
          "name": "stderr",
          "text": [
            "/usr/local/lib/python3.10/dist-packages/torch/utils/data/dataloader.py:557: UserWarning: This DataLoader will create 4 worker processes in total. Our suggested max number of worker in current system is 2, which is smaller than what this DataLoader is going to create. Please be aware that excessive worker creation might get DataLoader running slow or even freeze, lower the worker number to avoid potential slowness/freeze if necessary.\n",
            "  warnings.warn(_create_warning_msg(\n"
          ]
        },
        {
          "output_type": "stream",
          "name": "stdout",
          "text": [
            "torch.Size([64, 1, 32, 32]) torch.float32 torch.Size([64]) torch.int64\n"
          ]
        }
      ],
      "source": [
        "X, y = next(iter(data.train_dataloader()))\n",
        "print(X.shape, X.dtype, y.shape, y.dtype)"
      ]
    },
    {
      "cell_type": "code",
      "execution_count": 35,
      "id": "9b8994ef-c344-4828-a616-a2231fd45b09",
      "metadata": {
        "id": "9b8994ef-c344-4828-a616-a2231fd45b09",
        "colab": {
          "base_uri": "https://localhost:8080/",
          "height": 35
        },
        "outputId": "4ca1f664-322d-42a6-99b9-a47af0b1c516"
      },
      "outputs": [
        {
          "output_type": "execute_result",
          "data": {
            "text/plain": [
              "'11.47 sec'"
            ],
            "application/vnd.google.colaboratory.intrinsic+json": {
              "type": "string"
            }
          },
          "metadata": {},
          "execution_count": 35
        }
      ],
      "source": [
        "tic = time.time()\n",
        "for X, y in data.train_dataloader():\n",
        "    continue\n",
        "f'{time.time() - tic:.2f} sec'"
      ]
    },
    {
      "cell_type": "markdown",
      "id": "f0d801d6-cb22-43a1-875b-cb3fc47d86b9",
      "metadata": {
        "id": "f0d801d6-cb22-43a1-875b-cb3fc47d86b9"
      },
      "source": [
        "### 4.2.3.visualiztion"
      ]
    },
    {
      "cell_type": "code",
      "execution_count": 36,
      "id": "82dd66e1-9633-481f-a5ea-acedd50fbfd2",
      "metadata": {
        "id": "82dd66e1-9633-481f-a5ea-acedd50fbfd2"
      },
      "outputs": [],
      "source": [
        "def show_images(imgs, num_rows, num_cols, titles=None, scale=1.5):\n",
        "    raise NotImplementedError"
      ]
    },
    {
      "cell_type": "code",
      "execution_count": 37,
      "id": "e17dfda8-0c20-4d43-a2ae-d81fae29b3b3",
      "metadata": {
        "id": "e17dfda8-0c20-4d43-a2ae-d81fae29b3b3",
        "colab": {
          "base_uri": "https://localhost:8080/",
          "height": 174
        },
        "outputId": "2ffa6604-922d-475c-a8df-3a1d72f893c8"
      },
      "outputs": [
        {
          "output_type": "display_data",
          "data": {
            "text/plain": [
              "<Figure size 1200x150 with 8 Axes>"
            ],
            "image/svg+xml": "<?xml version=\"1.0\" encoding=\"utf-8\" standalone=\"no\"?>\n<!DOCTYPE svg PUBLIC \"-//W3C//DTD SVG 1.1//EN\"\n  \"http://www.w3.org/Graphics/SVG/1.1/DTD/svg11.dtd\">\n<svg xmlns:xlink=\"http://www.w3.org/1999/xlink\" width=\"684pt\" height=\"100.752168pt\" viewBox=\"0 0 684 100.752168\" xmlns=\"http://www.w3.org/2000/svg\" version=\"1.1\">\n <metadata>\n  <rdf:RDF xmlns:dc=\"http://purl.org/dc/elements/1.1/\" xmlns:cc=\"http://creativecommons.org/ns#\" xmlns:rdf=\"http://www.w3.org/1999/02/22-rdf-syntax-ns#\">\n   <cc:Work>\n    <dc:type rdf:resource=\"http://purl.org/dc/dcmitype/StillImage\"/>\n    <dc:date>2024-09-24T02:12:56.197457</dc:date>\n    <dc:format>image/svg+xml</dc:format>\n    <dc:creator>\n     <cc:Agent>\n      <dc:title>Matplotlib v3.7.2, https://matplotlib.org/</dc:title>\n     </cc:Agent>\n    </dc:creator>\n   </cc:Work>\n  </rdf:RDF>\n </metadata>\n <defs>\n  <style type=\"text/css\">*{stroke-linejoin: round; stroke-linecap: butt}</style>\n </defs>\n <g id=\"figure_1\">\n  <g id=\"patch_1\">\n   <path d=\"M 0 100.752168 \nL 684 100.752168 \nL 684 0 \nL 0 0 \nz\n\" style=\"fill: #ffffff\"/>\n  </g>\n  <g id=\"axes_1\">\n   <g id=\"patch_2\">\n    <path d=\"M 7.2 93.552168 \nL 78.434043 93.552168 \nL 78.434043 22.318125 \nL 7.2 22.318125 \nz\n\" style=\"fill: #ffffff\"/>\n   </g>\n   <g clip-path=\"url(#pe9550a2ff8)\">\n    <image xlink:href=\"data:image/png;base64,\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\" id=\"imagec7a6c76b4b\" transform=\"scale(1 -1) translate(0 -71.28)\" x=\"7.2\" y=\"-22.272168\" width=\"71.28\" height=\"71.28\"/>\n   </g>\n   <g id=\"patch_3\">\n    <path d=\"M 7.2 93.552168 \nL 7.2 22.318125 \n\" style=\"fill: none; stroke: #000000; stroke-width: 0.8; stroke-linejoin: miter; stroke-linecap: square\"/>\n   </g>\n   <g id=\"patch_4\">\n    <path d=\"M 78.434043 93.552168 \nL 78.434043 22.318125 \n\" style=\"fill: none; stroke: #000000; stroke-width: 0.8; stroke-linejoin: miter; stroke-linecap: square\"/>\n   </g>\n   <g id=\"patch_5\">\n    <path d=\"M 7.2 93.552168 \nL 78.434043 93.552168 \n\" style=\"fill: none; stroke: #000000; stroke-width: 0.8; stroke-linejoin: miter; stroke-linecap: square\"/>\n   </g>\n   <g id=\"patch_6\">\n    <path d=\"M 7.2 22.318125 \nL 78.434043 22.318125 \n\" style=\"fill: none; stroke: #000000; stroke-width: 0.8; stroke-linejoin: miter; stroke-linecap: square\"/>\n   </g>\n   <g id=\"text_1\">\n    <!-- ankle boot -->\n    <g transform=\"translate(11.093896 16.318125) scale(0.12 -0.12)\">\n     <defs>\n      <path id=\"DejaVuSans-61\" d=\"M 2194 1759 \nQ 1497 1759 1228 1600 \nQ 959 1441 959 1056 \nQ 959 750 1161 570 \nQ 1363 391 1709 391 \nQ 2188 391 2477 730 \nQ 2766 1069 2766 1631 \nL 2766 1759 \nL 2194 1759 \nz\nM 3341 1997 \nL 3341 0 \nL 2766 0 \nL 2766 531 \nQ 2569 213 2275 61 \nQ 1981 -91 1556 -91 \nQ 1019 -91 701 211 \nQ 384 513 384 1019 \nQ 384 1609 779 1909 \nQ 1175 2209 1959 2209 \nL 2766 2209 \nL 2766 2266 \nQ 2766 2663 2505 2880 \nQ 2244 3097 1772 3097 \nQ 1472 3097 1187 3025 \nQ 903 2953 641 2809 \nL 641 3341 \nQ 956 3463 1253 3523 \nQ 1550 3584 1831 3584 \nQ 2591 3584 2966 3190 \nQ 3341 2797 3341 1997 \nz\n\" transform=\"scale(0.015625)\"/>\n      <path id=\"DejaVuSans-6e\" d=\"M 3513 2113 \nL 3513 0 \nL 2938 0 \nL 2938 2094 \nQ 2938 2591 2744 2837 \nQ 2550 3084 2163 3084 \nQ 1697 3084 1428 2787 \nQ 1159 2491 1159 1978 \nL 1159 0 \nL 581 0 \nL 581 3500 \nL 1159 3500 \nL 1159 2956 \nQ 1366 3272 1645 3428 \nQ 1925 3584 2291 3584 \nQ 2894 3584 3203 3211 \nQ 3513 2838 3513 2113 \nz\n\" transform=\"scale(0.015625)\"/>\n      <path id=\"DejaVuSans-6b\" d=\"M 581 4863 \nL 1159 4863 \nL 1159 1991 \nL 2875 3500 \nL 3609 3500 \nL 1753 1863 \nL 3688 0 \nL 2938 0 \nL 1159 1709 \nL 1159 0 \nL 581 0 \nL 581 4863 \nz\n\" transform=\"scale(0.015625)\"/>\n      <path id=\"DejaVuSans-6c\" d=\"M 603 4863 \nL 1178 4863 \nL 1178 0 \nL 603 0 \nL 603 4863 \nz\n\" transform=\"scale(0.015625)\"/>\n      <path id=\"DejaVuSans-65\" d=\"M 3597 1894 \nL 3597 1613 \nL 953 1613 \nQ 991 1019 1311 708 \nQ 1631 397 2203 397 \nQ 2534 397 2845 478 \nQ 3156 559 3463 722 \nL 3463 178 \nQ 3153 47 2828 -22 \nQ 2503 -91 2169 -91 \nQ 1331 -91 842 396 \nQ 353 884 353 1716 \nQ 353 2575 817 3079 \nQ 1281 3584 2069 3584 \nQ 2775 3584 3186 3129 \nQ 3597 2675 3597 1894 \nz\nM 3022 2063 \nQ 3016 2534 2758 2815 \nQ 2500 3097 2075 3097 \nQ 1594 3097 1305 2825 \nQ 1016 2553 972 2059 \nL 3022 2063 \nz\n\" transform=\"scale(0.015625)\"/>\n      <path id=\"DejaVuSans-20\" transform=\"scale(0.015625)\"/>\n      <path id=\"DejaVuSans-62\" d=\"M 3116 1747 \nQ 3116 2381 2855 2742 \nQ 2594 3103 2138 3103 \nQ 1681 3103 1420 2742 \nQ 1159 2381 1159 1747 \nQ 1159 1113 1420 752 \nQ 1681 391 2138 391 \nQ 2594 391 2855 752 \nQ 3116 1113 3116 1747 \nz\nM 1159 2969 \nQ 1341 3281 1617 3432 \nQ 1894 3584 2278 3584 \nQ 2916 3584 3314 3078 \nQ 3713 2572 3713 1747 \nQ 3713 922 3314 415 \nQ 2916 -91 2278 -91 \nQ 1894 -91 1617 61 \nQ 1341 213 1159 525 \nL 1159 0 \nL 581 0 \nL 581 4863 \nL 1159 4863 \nL 1159 2969 \nz\n\" transform=\"scale(0.015625)\"/>\n      <path id=\"DejaVuSans-6f\" d=\"M 1959 3097 \nQ 1497 3097 1228 2736 \nQ 959 2375 959 1747 \nQ 959 1119 1226 758 \nQ 1494 397 1959 397 \nQ 2419 397 2687 759 \nQ 2956 1122 2956 1747 \nQ 2956 2369 2687 2733 \nQ 2419 3097 1959 3097 \nz\nM 1959 3584 \nQ 2709 3584 3137 3096 \nQ 3566 2609 3566 1747 \nQ 3566 888 3137 398 \nQ 2709 -91 1959 -91 \nQ 1206 -91 779 398 \nQ 353 888 353 1747 \nQ 353 2609 779 3096 \nQ 1206 3584 1959 3584 \nz\n\" transform=\"scale(0.015625)\"/>\n      <path id=\"DejaVuSans-74\" d=\"M 1172 4494 \nL 1172 3500 \nL 2356 3500 \nL 2356 3053 \nL 1172 3053 \nL 1172 1153 \nQ 1172 725 1289 603 \nQ 1406 481 1766 481 \nL 2356 481 \nL 2356 0 \nL 1766 0 \nQ 1100 0 847 248 \nQ 594 497 594 1153 \nL 594 3053 \nL 172 3053 \nL 172 3500 \nL 594 3500 \nL 594 4494 \nL 1172 4494 \nz\n\" transform=\"scale(0.015625)\"/>\n     </defs>\n     <use xlink:href=\"#DejaVuSans-61\"/>\n     <use xlink:href=\"#DejaVuSans-6e\" x=\"61.279297\"/>\n     <use xlink:href=\"#DejaVuSans-6b\" x=\"124.658203\"/>\n     <use xlink:href=\"#DejaVuSans-6c\" x=\"182.568359\"/>\n     <use xlink:href=\"#DejaVuSans-65\" x=\"210.351562\"/>\n     <use xlink:href=\"#DejaVuSans-20\" x=\"271.875\"/>\n     <use xlink:href=\"#DejaVuSans-62\" x=\"303.662109\"/>\n     <use xlink:href=\"#DejaVuSans-6f\" x=\"367.138672\"/>\n     <use xlink:href=\"#DejaVuSans-6f\" x=\"428.320312\"/>\n     <use xlink:href=\"#DejaVuSans-74\" x=\"489.501953\"/>\n    </g>\n   </g>\n  </g>\n  <g id=\"axes_2\">\n   <g id=\"patch_7\">\n    <path d=\"M 92.680851 93.552168 \nL 163.914894 93.552168 \nL 163.914894 22.318125 \nL 92.680851 22.318125 \nz\n\" style=\"fill: #ffffff\"/>\n   </g>\n   <g clip-path=\"url(#p1b7e517be2)\">\n    <image xlink:href=\"data:image/png;base64,\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\" id=\"image6359ad505e\" transform=\"scale(1 -1) translate(0 -71.28)\" x=\"92.680851\" y=\"-22.272168\" width=\"71.28\" height=\"71.28\"/>\n   </g>\n   <g id=\"patch_8\">\n    <path d=\"M 92.680851 93.552168 \nL 92.680851 22.318125 \n\" style=\"fill: none; stroke: #000000; stroke-width: 0.8; stroke-linejoin: miter; stroke-linecap: square\"/>\n   </g>\n   <g id=\"patch_9\">\n    <path d=\"M 163.914894 93.552168 \nL 163.914894 22.318125 \n\" style=\"fill: none; stroke: #000000; stroke-width: 0.8; stroke-linejoin: miter; stroke-linecap: square\"/>\n   </g>\n   <g id=\"patch_10\">\n    <path d=\"M 92.680851 93.552168 \nL 163.914894 93.552168 \n\" style=\"fill: none; stroke: #000000; stroke-width: 0.8; stroke-linejoin: miter; stroke-linecap: square\"/>\n   </g>\n   <g id=\"patch_11\">\n    <path d=\"M 92.680851 22.318125 \nL 163.914894 22.318125 \n\" style=\"fill: none; stroke: #000000; stroke-width: 0.8; stroke-linejoin: miter; stroke-linecap: square\"/>\n   </g>\n   <g id=\"text_2\">\n    <!-- pullover -->\n    <g transform=\"translate(103.971622 16.318125) scale(0.12 -0.12)\">\n     <defs>\n      <path id=\"DejaVuSans-70\" d=\"M 1159 525 \nL 1159 -1331 \nL 581 -1331 \nL 581 3500 \nL 1159 3500 \nL 1159 2969 \nQ 1341 3281 1617 3432 \nQ 1894 3584 2278 3584 \nQ 2916 3584 3314 3078 \nQ 3713 2572 3713 1747 \nQ 3713 922 3314 415 \nQ 2916 -91 2278 -91 \nQ 1894 -91 1617 61 \nQ 1341 213 1159 525 \nz\nM 3116 1747 \nQ 3116 2381 2855 2742 \nQ 2594 3103 2138 3103 \nQ 1681 3103 1420 2742 \nQ 1159 2381 1159 1747 \nQ 1159 1113 1420 752 \nQ 1681 391 2138 391 \nQ 2594 391 2855 752 \nQ 3116 1113 3116 1747 \nz\n\" transform=\"scale(0.015625)\"/>\n      <path id=\"DejaVuSans-75\" d=\"M 544 1381 \nL 544 3500 \nL 1119 3500 \nL 1119 1403 \nQ 1119 906 1312 657 \nQ 1506 409 1894 409 \nQ 2359 409 2629 706 \nQ 2900 1003 2900 1516 \nL 2900 3500 \nL 3475 3500 \nL 3475 0 \nL 2900 0 \nL 2900 538 \nQ 2691 219 2414 64 \nQ 2138 -91 1772 -91 \nQ 1169 -91 856 284 \nQ 544 659 544 1381 \nz\nM 1991 3584 \nL 1991 3584 \nz\n\" transform=\"scale(0.015625)\"/>\n      <path id=\"DejaVuSans-76\" d=\"M 191 3500 \nL 800 3500 \nL 1894 563 \nL 2988 3500 \nL 3597 3500 \nL 2284 0 \nL 1503 0 \nL 191 3500 \nz\n\" transform=\"scale(0.015625)\"/>\n      <path id=\"DejaVuSans-72\" d=\"M 2631 2963 \nQ 2534 3019 2420 3045 \nQ 2306 3072 2169 3072 \nQ 1681 3072 1420 2755 \nQ 1159 2438 1159 1844 \nL 1159 0 \nL 581 0 \nL 581 3500 \nL 1159 3500 \nL 1159 2956 \nQ 1341 3275 1631 3429 \nQ 1922 3584 2338 3584 \nQ 2397 3584 2469 3576 \nQ 2541 3569 2628 3553 \nL 2631 2963 \nz\n\" transform=\"scale(0.015625)\"/>\n     </defs>\n     <use xlink:href=\"#DejaVuSans-70\"/>\n     <use xlink:href=\"#DejaVuSans-75\" x=\"63.476562\"/>\n     <use xlink:href=\"#DejaVuSans-6c\" x=\"126.855469\"/>\n     <use xlink:href=\"#DejaVuSans-6c\" x=\"154.638672\"/>\n     <use xlink:href=\"#DejaVuSans-6f\" x=\"182.421875\"/>\n     <use xlink:href=\"#DejaVuSans-76\" x=\"243.603516\"/>\n     <use xlink:href=\"#DejaVuSans-65\" x=\"302.783203\"/>\n     <use xlink:href=\"#DejaVuSans-72\" x=\"364.306641\"/>\n    </g>\n   </g>\n  </g>\n  <g id=\"axes_3\">\n   <g id=\"patch_12\">\n    <path d=\"M 178.161702 93.552168 \nL 249.395745 93.552168 \nL 249.395745 22.318125 \nL 178.161702 22.318125 \nz\n\" style=\"fill: #ffffff\"/>\n   </g>\n   <g clip-path=\"url(#p0dcc7dfb43)\">\n    <image xlink:href=\"data:image/png;base64,\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\" id=\"imageeedc60e860\" transform=\"scale(1 -1) translate(0 -71.28)\" x=\"178.161702\" y=\"-22.272168\" width=\"71.28\" height=\"71.28\"/>\n   </g>\n   <g id=\"patch_13\">\n    <path d=\"M 178.161702 93.552168 \nL 178.161702 22.318125 \n\" style=\"fill: none; stroke: #000000; stroke-width: 0.8; stroke-linejoin: miter; stroke-linecap: square\"/>\n   </g>\n   <g id=\"patch_14\">\n    <path d=\"M 249.395745 93.552168 \nL 249.395745 22.318125 \n\" style=\"fill: none; stroke: #000000; stroke-width: 0.8; stroke-linejoin: miter; stroke-linecap: square\"/>\n   </g>\n   <g id=\"patch_15\">\n    <path d=\"M 178.161702 93.552168 \nL 249.395745 93.552168 \n\" style=\"fill: none; stroke: #000000; stroke-width: 0.8; stroke-linejoin: miter; stroke-linecap: square\"/>\n   </g>\n   <g id=\"patch_16\">\n    <path d=\"M 178.161702 22.318125 \nL 249.395745 22.318125 \n\" style=\"fill: none; stroke: #000000; stroke-width: 0.8; stroke-linejoin: miter; stroke-linecap: square\"/>\n   </g>\n   <g id=\"text_3\">\n    <!-- trouser -->\n    <g transform=\"translate(192.337161 16.318125) scale(0.12 -0.12)\">\n     <defs>\n      <path id=\"DejaVuSans-73\" d=\"M 2834 3397 \nL 2834 2853 \nQ 2591 2978 2328 3040 \nQ 2066 3103 1784 3103 \nQ 1356 3103 1142 2972 \nQ 928 2841 928 2578 \nQ 928 2378 1081 2264 \nQ 1234 2150 1697 2047 \nL 1894 2003 \nQ 2506 1872 2764 1633 \nQ 3022 1394 3022 966 \nQ 3022 478 2636 193 \nQ 2250 -91 1575 -91 \nQ 1294 -91 989 -36 \nQ 684 19 347 128 \nL 347 722 \nQ 666 556 975 473 \nQ 1284 391 1588 391 \nQ 1994 391 2212 530 \nQ 2431 669 2431 922 \nQ 2431 1156 2273 1281 \nQ 2116 1406 1581 1522 \nL 1381 1569 \nQ 847 1681 609 1914 \nQ 372 2147 372 2553 \nQ 372 3047 722 3315 \nQ 1072 3584 1716 3584 \nQ 2034 3584 2315 3537 \nQ 2597 3491 2834 3397 \nz\n\" transform=\"scale(0.015625)\"/>\n     </defs>\n     <use xlink:href=\"#DejaVuSans-74\"/>\n     <use xlink:href=\"#DejaVuSans-72\" x=\"39.208984\"/>\n     <use xlink:href=\"#DejaVuSans-6f\" x=\"78.072266\"/>\n     <use xlink:href=\"#DejaVuSans-75\" x=\"139.253906\"/>\n     <use xlink:href=\"#DejaVuSans-73\" x=\"202.632812\"/>\n     <use xlink:href=\"#DejaVuSans-65\" x=\"254.732422\"/>\n     <use xlink:href=\"#DejaVuSans-72\" x=\"316.255859\"/>\n    </g>\n   </g>\n  </g>\n  <g id=\"axes_4\">\n   <g id=\"patch_17\">\n    <path d=\"M 263.642553 93.552168 \nL 334.876596 93.552168 \nL 334.876596 22.318125 \nL 263.642553 22.318125 \nz\n\" style=\"fill: #ffffff\"/>\n   </g>\n   <g clip-path=\"url(#pe5eda8aa71)\">\n    <image xlink:href=\"data:image/png;base64,\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\" id=\"imagef4457a5791\" transform=\"scale(1 -1) translate(0 -71.28)\" x=\"263.642553\" y=\"-22.272168\" width=\"71.28\" height=\"71.28\"/>\n   </g>\n   <g id=\"patch_18\">\n    <path d=\"M 263.642553 93.552168 \nL 263.642553 22.318125 \n\" style=\"fill: none; stroke: #000000; stroke-width: 0.8; stroke-linejoin: miter; stroke-linecap: square\"/>\n   </g>\n   <g id=\"patch_19\">\n    <path d=\"M 334.876596 93.552168 \nL 334.876596 22.318125 \n\" style=\"fill: none; stroke: #000000; stroke-width: 0.8; stroke-linejoin: miter; stroke-linecap: square\"/>\n   </g>\n   <g id=\"patch_20\">\n    <path d=\"M 263.642553 93.552168 \nL 334.876596 93.552168 \n\" style=\"fill: none; stroke: #000000; stroke-width: 0.8; stroke-linejoin: miter; stroke-linecap: square\"/>\n   </g>\n   <g id=\"patch_21\">\n    <path d=\"M 263.642553 22.318125 \nL 334.876596 22.318125 \n\" style=\"fill: none; stroke: #000000; stroke-width: 0.8; stroke-linejoin: miter; stroke-linecap: square\"/>\n   </g>\n   <g id=\"text_4\">\n    <!-- trouser -->\n    <g transform=\"translate(277.818012 16.318125) scale(0.12 -0.12)\">\n     <use xlink:href=\"#DejaVuSans-74\"/>\n     <use xlink:href=\"#DejaVuSans-72\" x=\"39.208984\"/>\n     <use xlink:href=\"#DejaVuSans-6f\" x=\"78.072266\"/>\n     <use xlink:href=\"#DejaVuSans-75\" x=\"139.253906\"/>\n     <use xlink:href=\"#DejaVuSans-73\" x=\"202.632812\"/>\n     <use xlink:href=\"#DejaVuSans-65\" x=\"254.732422\"/>\n     <use xlink:href=\"#DejaVuSans-72\" x=\"316.255859\"/>\n    </g>\n   </g>\n  </g>\n  <g id=\"axes_5\">\n   <g id=\"patch_22\">\n    <path d=\"M 349.123404 93.552168 \nL 420.357447 93.552168 \nL 420.357447 22.318125 \nL 349.123404 22.318125 \nz\n\" style=\"fill: #ffffff\"/>\n   </g>\n   <g clip-path=\"url(#p296ee4fdc6)\">\n    <image xlink:href=\"data:image/png;base64,\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\" id=\"imageba94261789\" transform=\"scale(1 -1) translate(0 -71.28)\" x=\"349.123404\" y=\"-22.272168\" width=\"71.28\" height=\"71.28\"/>\n   </g>\n   <g id=\"patch_23\">\n    <path d=\"M 349.123404 93.552168 \nL 349.123404 22.318125 \n\" style=\"fill: none; stroke: #000000; stroke-width: 0.8; stroke-linejoin: miter; stroke-linecap: square\"/>\n   </g>\n   <g id=\"patch_24\">\n    <path d=\"M 420.357447 93.552168 \nL 420.357447 22.318125 \n\" style=\"fill: none; stroke: #000000; stroke-width: 0.8; stroke-linejoin: miter; stroke-linecap: square\"/>\n   </g>\n   <g id=\"patch_25\">\n    <path d=\"M 349.123404 93.552168 \nL 420.357447 93.552168 \n\" style=\"fill: none; stroke: #000000; stroke-width: 0.8; stroke-linejoin: miter; stroke-linecap: square\"/>\n   </g>\n   <g id=\"patch_26\">\n    <path d=\"M 349.123404 22.318125 \nL 420.357447 22.318125 \n\" style=\"fill: none; stroke: #000000; stroke-width: 0.8; stroke-linejoin: miter; stroke-linecap: square\"/>\n   </g>\n   <g id=\"text_5\">\n    <!-- shirt -->\n    <g transform=\"translate(371.326676 16.318125) scale(0.12 -0.12)\">\n     <defs>\n      <path id=\"DejaVuSans-68\" d=\"M 3513 2113 \nL 3513 0 \nL 2938 0 \nL 2938 2094 \nQ 2938 2591 2744 2837 \nQ 2550 3084 2163 3084 \nQ 1697 3084 1428 2787 \nQ 1159 2491 1159 1978 \nL 1159 0 \nL 581 0 \nL 581 4863 \nL 1159 4863 \nL 1159 2956 \nQ 1366 3272 1645 3428 \nQ 1925 3584 2291 3584 \nQ 2894 3584 3203 3211 \nQ 3513 2838 3513 2113 \nz\n\" transform=\"scale(0.015625)\"/>\n      <path id=\"DejaVuSans-69\" d=\"M 603 3500 \nL 1178 3500 \nL 1178 0 \nL 603 0 \nL 603 3500 \nz\nM 603 4863 \nL 1178 4863 \nL 1178 4134 \nL 603 4134 \nL 603 4863 \nz\n\" transform=\"scale(0.015625)\"/>\n     </defs>\n     <use xlink:href=\"#DejaVuSans-73\"/>\n     <use xlink:href=\"#DejaVuSans-68\" x=\"52.099609\"/>\n     <use xlink:href=\"#DejaVuSans-69\" x=\"115.478516\"/>\n     <use xlink:href=\"#DejaVuSans-72\" x=\"143.261719\"/>\n     <use xlink:href=\"#DejaVuSans-74\" x=\"184.375\"/>\n    </g>\n   </g>\n  </g>\n  <g id=\"axes_6\">\n   <g id=\"patch_27\">\n    <path d=\"M 434.604255 93.552168 \nL 505.838298 93.552168 \nL 505.838298 22.318125 \nL 434.604255 22.318125 \nz\n\" style=\"fill: #ffffff\"/>\n   </g>\n   <g clip-path=\"url(#pc0564c8470)\">\n    <image xlink:href=\"data:image/png;base64,\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\" id=\"image9e46e9a694\" transform=\"scale(1 -1) translate(0 -71.28)\" x=\"434.604255\" y=\"-22.272168\" width=\"71.28\" height=\"71.28\"/>\n   </g>\n   <g id=\"patch_28\">\n    <path d=\"M 434.604255 93.552168 \nL 434.604255 22.318125 \n\" style=\"fill: none; stroke: #000000; stroke-width: 0.8; stroke-linejoin: miter; stroke-linecap: square\"/>\n   </g>\n   <g id=\"patch_29\">\n    <path d=\"M 505.838298 93.552168 \nL 505.838298 22.318125 \n\" style=\"fill: none; stroke: #000000; stroke-width: 0.8; stroke-linejoin: miter; stroke-linecap: square\"/>\n   </g>\n   <g id=\"patch_30\">\n    <path d=\"M 434.604255 93.552168 \nL 505.838298 93.552168 \n\" style=\"fill: none; stroke: #000000; stroke-width: 0.8; stroke-linejoin: miter; stroke-linecap: square\"/>\n   </g>\n   <g id=\"patch_31\">\n    <path d=\"M 434.604255 22.318125 \nL 505.838298 22.318125 \n\" style=\"fill: none; stroke: #000000; stroke-width: 0.8; stroke-linejoin: miter; stroke-linecap: square\"/>\n   </g>\n   <g id=\"text_6\">\n    <!-- trouser -->\n    <g transform=\"translate(448.779714 16.318125) scale(0.12 -0.12)\">\n     <use xlink:href=\"#DejaVuSans-74\"/>\n     <use xlink:href=\"#DejaVuSans-72\" x=\"39.208984\"/>\n     <use xlink:href=\"#DejaVuSans-6f\" x=\"78.072266\"/>\n     <use xlink:href=\"#DejaVuSans-75\" x=\"139.253906\"/>\n     <use xlink:href=\"#DejaVuSans-73\" x=\"202.632812\"/>\n     <use xlink:href=\"#DejaVuSans-65\" x=\"254.732422\"/>\n     <use xlink:href=\"#DejaVuSans-72\" x=\"316.255859\"/>\n    </g>\n   </g>\n  </g>\n  <g id=\"axes_7\">\n   <g id=\"patch_32\">\n    <path d=\"M 520.085106 93.552168 \nL 591.319149 93.552168 \nL 591.319149 22.318125 \nL 520.085106 22.318125 \nz\n\" style=\"fill: #ffffff\"/>\n   </g>\n   <g clip-path=\"url(#p39ab3a84f2)\">\n    <image xlink:href=\"data:image/png;base64,\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\" id=\"image5684140d69\" transform=\"scale(1 -1) translate(0 -71.28)\" x=\"520.085106\" y=\"-22.272168\" width=\"71.28\" height=\"71.28\"/>\n   </g>\n   <g id=\"patch_33\">\n    <path d=\"M 520.085106 93.552168 \nL 520.085106 22.318125 \n\" style=\"fill: none; stroke: #000000; stroke-width: 0.8; stroke-linejoin: miter; stroke-linecap: square\"/>\n   </g>\n   <g id=\"patch_34\">\n    <path d=\"M 591.319149 93.552168 \nL 591.319149 22.318125 \n\" style=\"fill: none; stroke: #000000; stroke-width: 0.8; stroke-linejoin: miter; stroke-linecap: square\"/>\n   </g>\n   <g id=\"patch_35\">\n    <path d=\"M 520.085106 93.552168 \nL 591.319149 93.552168 \n\" style=\"fill: none; stroke: #000000; stroke-width: 0.8; stroke-linejoin: miter; stroke-linecap: square\"/>\n   </g>\n   <g id=\"patch_36\">\n    <path d=\"M 520.085106 22.318125 \nL 591.319149 22.318125 \n\" style=\"fill: none; stroke: #000000; stroke-width: 0.8; stroke-linejoin: miter; stroke-linecap: square\"/>\n   </g>\n   <g id=\"text_7\">\n    <!-- coat -->\n    <g transform=\"translate(542.702753 16.318125) scale(0.12 -0.12)\">\n     <defs>\n      <path id=\"DejaVuSans-63\" d=\"M 3122 3366 \nL 3122 2828 \nQ 2878 2963 2633 3030 \nQ 2388 3097 2138 3097 \nQ 1578 3097 1268 2742 \nQ 959 2388 959 1747 \nQ 959 1106 1268 751 \nQ 1578 397 2138 397 \nQ 2388 397 2633 464 \nQ 2878 531 3122 666 \nL 3122 134 \nQ 2881 22 2623 -34 \nQ 2366 -91 2075 -91 \nQ 1284 -91 818 406 \nQ 353 903 353 1747 \nQ 353 2603 823 3093 \nQ 1294 3584 2113 3584 \nQ 2378 3584 2631 3529 \nQ 2884 3475 3122 3366 \nz\n\" transform=\"scale(0.015625)\"/>\n     </defs>\n     <use xlink:href=\"#DejaVuSans-63\"/>\n     <use xlink:href=\"#DejaVuSans-6f\" x=\"54.980469\"/>\n     <use xlink:href=\"#DejaVuSans-61\" x=\"116.162109\"/>\n     <use xlink:href=\"#DejaVuSans-74\" x=\"177.441406\"/>\n    </g>\n   </g>\n  </g>\n  <g id=\"axes_8\">\n   <g id=\"patch_37\">\n    <path d=\"M 605.565957 93.552168 \nL 676.8 93.552168 \nL 676.8 22.318125 \nL 605.565957 22.318125 \nz\n\" style=\"fill: #ffffff\"/>\n   </g>\n   <g clip-path=\"url(#p87772c6cfa)\">\n    <image xlink:href=\"data:image/png;base64,\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\" id=\"image0232e113b9\" transform=\"scale(1 -1) translate(0 -71.28)\" x=\"605.565957\" y=\"-22.272168\" width=\"71.28\" height=\"71.28\"/>\n   </g>\n   <g id=\"patch_38\">\n    <path d=\"M 605.565957 93.552168 \nL 605.565957 22.318125 \n\" style=\"fill: none; stroke: #000000; stroke-width: 0.8; stroke-linejoin: miter; stroke-linecap: square\"/>\n   </g>\n   <g id=\"patch_39\">\n    <path d=\"M 676.8 93.552168 \nL 676.8 22.318125 \n\" style=\"fill: none; stroke: #000000; stroke-width: 0.8; stroke-linejoin: miter; stroke-linecap: square\"/>\n   </g>\n   <g id=\"patch_40\">\n    <path d=\"M 605.565957 93.552168 \nL 676.8 93.552168 \n\" style=\"fill: none; stroke: #000000; stroke-width: 0.8; stroke-linejoin: miter; stroke-linecap: square\"/>\n   </g>\n   <g id=\"patch_41\">\n    <path d=\"M 605.565957 22.318125 \nL 676.8 22.318125 \n\" style=\"fill: none; stroke: #000000; stroke-width: 0.8; stroke-linejoin: miter; stroke-linecap: square\"/>\n   </g>\n   <g id=\"text_8\">\n    <!-- shirt -->\n    <g transform=\"translate(627.769229 16.318125) scale(0.12 -0.12)\">\n     <use xlink:href=\"#DejaVuSans-73\"/>\n     <use xlink:href=\"#DejaVuSans-68\" x=\"52.099609\"/>\n     <use xlink:href=\"#DejaVuSans-69\" x=\"115.478516\"/>\n     <use xlink:href=\"#DejaVuSans-72\" x=\"143.261719\"/>\n     <use xlink:href=\"#DejaVuSans-74\" x=\"184.375\"/>\n    </g>\n   </g>\n  </g>\n </g>\n <defs>\n  <clipPath id=\"pe9550a2ff8\">\n   <rect x=\"7.2\" y=\"22.318125\" width=\"71.234043\" height=\"71.234043\"/>\n  </clipPath>\n  <clipPath id=\"p1b7e517be2\">\n   <rect x=\"92.680851\" y=\"22.318125\" width=\"71.234043\" height=\"71.234043\"/>\n  </clipPath>\n  <clipPath id=\"p0dcc7dfb43\">\n   <rect x=\"178.161702\" y=\"22.318125\" width=\"71.234043\" height=\"71.234043\"/>\n  </clipPath>\n  <clipPath id=\"pe5eda8aa71\">\n   <rect x=\"263.642553\" y=\"22.318125\" width=\"71.234043\" height=\"71.234043\"/>\n  </clipPath>\n  <clipPath id=\"p296ee4fdc6\">\n   <rect x=\"349.123404\" y=\"22.318125\" width=\"71.234043\" height=\"71.234043\"/>\n  </clipPath>\n  <clipPath id=\"pc0564c8470\">\n   <rect x=\"434.604255\" y=\"22.318125\" width=\"71.234043\" height=\"71.234043\"/>\n  </clipPath>\n  <clipPath id=\"p39ab3a84f2\">\n   <rect x=\"520.085106\" y=\"22.318125\" width=\"71.234043\" height=\"71.234043\"/>\n  </clipPath>\n  <clipPath id=\"p87772c6cfa\">\n   <rect x=\"605.565957\" y=\"22.318125\" width=\"71.234043\" height=\"71.234043\"/>\n  </clipPath>\n </defs>\n</svg>\n"
          },
          "metadata": {}
        }
      ],
      "source": [
        "@d2l.add_to_class(FashionMNIST)\n",
        "def visualize(self, batch, nrows=1, ncols=8, labels=[]):\n",
        "    X, y = batch\n",
        "    if not labels:\n",
        "        labels = self.text_labels(y)\n",
        "    d2l.show_images(X.squeeze(1), nrows, ncols, titles=labels)\n",
        "batch = next(iter(data.val_dataloader()))\n",
        "data.visualize(batch)"
      ]
    },
    {
      "cell_type": "markdown",
      "id": "3e0c90d6-8c38-4d1e-a619-251fffcb280d",
      "metadata": {
        "id": "3e0c90d6-8c38-4d1e-a619-251fffcb280d"
      },
      "source": [
        "### 4.2.4.summary\n",
        "* Fashion-MNIST : 의류 이미지를 10 categories로 분류하는 dataset\n",
        "* 이미지 데이터 -> tensor(batch size, # of channels, 높이, 너비)\n",
        "* data iterator : 효율을 위해 중요함"
      ]
    },
    {
      "cell_type": "markdown",
      "id": "dc391791-286b-4843-b1ea-53c82488d5be",
      "metadata": {
        "id": "dc391791-286b-4843-b1ea-53c82488d5be"
      },
      "source": [
        "### discussions or takeaway messages\n",
        "\n",
        "1. 대용량 dataset을 처리할 때 데이터를 한번에 메모리에 올리기 힘듦 -> batch size로 나눠서 미니배치를 순서대로 모델에 공급 : data iterator\n",
        "\n",
        "2. data iterator의 기능 : 전체 데이터를 미니배치로 쪼개 메모리에 공급 / 데이터 shuffling / 병렬처리 및 비동기 데이터 로딩 / preprocessing\n",
        "\n",
        "3. data iterator의 장점 : 대용량 dataset 처리 / 메모리 효율 / 훈련 속도 높이기 / 데이터 전처리 자동화"
      ]
    },
    {
      "cell_type": "markdown",
      "id": "def123b6-457e-4f89-af36-a787fefefa55",
      "metadata": {
        "id": "def123b6-457e-4f89-af36-a787fefefa55"
      },
      "source": [
        "## 4.3. The Base Classification Model"
      ]
    },
    {
      "cell_type": "code",
      "execution_count": 38,
      "id": "e9f6aa18-c733-4a6c-9e06-2585b80b935e",
      "metadata": {
        "id": "e9f6aa18-c733-4a6c-9e06-2585b80b935e"
      },
      "outputs": [],
      "source": [
        "import torch\n",
        "from d2l import torch as d2l"
      ]
    },
    {
      "cell_type": "markdown",
      "id": "ada3984d-7d4b-4a7a-a7f2-821044c64839",
      "metadata": {
        "id": "ada3984d-7d4b-4a7a-a7f2-821044c64839"
      },
      "source": [
        "### 4.3.1.the classifier class\n",
        "\n",
        "validation_step에서 validation batch에 대한 손실값과 분류 정확도를 보고\n",
        "\n",
        "every num_val_batches에 대해 업데이트를 그림 -> 전체 검증 데이터에 대한 평균 손실과 정확도를 생성"
      ]
    },
    {
      "cell_type": "code",
      "execution_count": 39,
      "id": "742a35e7-0ac3-43ff-99bf-e098a24b4c69",
      "metadata": {
        "id": "742a35e7-0ac3-43ff-99bf-e098a24b4c69"
      },
      "outputs": [],
      "source": [
        "class Classifier(d2l.Module):\n",
        "    def validation_step(self, batch):\n",
        "        Y_hat = self(*batch[:-1])\n",
        "        self.plot('loss', self.loss(Y_hat, batch[-1]), train=False)\n",
        "        self.plot('acc', self.accuracy(Y_hat, batch[-1]), train=False)"
      ]
    },
    {
      "cell_type": "markdown",
      "id": "e51dc2e3-c308-4a7b-ab27-bd8a1e8c0847",
      "metadata": {
        "id": "e51dc2e3-c308-4a7b-ab27-bd8a1e8c0847"
      },
      "source": [
        "@d2l.add_to_class(d2l.Module)  #@save\n",
        "def configure_optimizers(self):\n",
        "    return torch.optim.SGD(self.parameters(), lr=self.lr)"
      ]
    },
    {
      "cell_type": "markdown",
      "id": "b9cbb590-e182-48b8-91a8-2f56c3881ef2",
      "metadata": {
        "id": "b9cbb590-e182-48b8-91a8-2f56c3881ef2"
      },
      "source": [
        "### 4.3.2.accuracy\n",
        "\n",
        "accuarcy는 모델이 예측한 값이 실제 정답과 일치한 경우의 비율. 정확도를 최적화하는 것은 어렵지만 classification에서는 중요한 성능 지표.\n",
        "\n",
        "y_hat이 여러 class에 대한 확률 점수를 담고있는 행렬이라고 하자. 예측된 확률중 가장 높은 확률의 class가 무엇인지 알기 위해 argmax. 예측한 class와 실제 정답 y를 비교.\n",
        "\n",
        "예측된 값과 실제값을 비교할 때(==)를 위해 데이터 형식을 맞춰야함. 비교 결과는 tensro의 형태로 똑같으면1, 다르면 0. -> 1과 0을 모두 더해 맞은 예측의 개수 -> 정확도 계산"
      ]
    },
    {
      "cell_type": "code",
      "execution_count": 40,
      "id": "1f8d2f41-20ab-4eae-90d9-37481a08fc32",
      "metadata": {
        "id": "1f8d2f41-20ab-4eae-90d9-37481a08fc32"
      },
      "outputs": [],
      "source": [
        "@d2l.add_to_class(Classifier)\n",
        "def accuracy(self, Y_hat, Y, averaged=True):\n",
        "    Y_hat = Y_hat.reshape((-1, Y_hat.shape[-1]))\n",
        "    preds = Y_hat.argmax(axis=1).type(Y.dtype)\n",
        "    compare = (preds == Y.reshape(-1)).type(torch.float32)\n",
        "    return compare.mean() if averaged else compare"
      ]
    },
    {
      "cell_type": "markdown",
      "id": "186fcd7e-5498-4151-a547-58edeaba3426",
      "metadata": {
        "id": "186fcd7e-5498-4151-a547-58edeaba3426"
      },
      "source": [
        "### 4.3.3.summary\n",
        "\n",
        "* classification에서 가장 중요한 것은 accuracy\n",
        "* we train classifiers to optimize a variety of other objectives for statistical and computational reasons\n"
      ]
    },
    {
      "cell_type": "markdown",
      "id": "15b0d340-73b8-416c-93f6-6369b36eea7b",
      "metadata": {
        "id": "15b0d340-73b8-416c-93f6-6369b36eea7b"
      },
      "source": [
        "### discussions or takeaway messages\n",
        "\n",
        "1. classification에서 accuracy\n",
        "\n",
        "2. 여러 class에 대한 확률 변수 -> argmax : 가장 높은 값의 class찾기 -> 실제값과 비교 -> 평균내기\n",
        "\n",
        "3. classification에서 다른 성능지표?\n",
        "\n",
        "     : accuacy , precision(PPV) , recall(TPR) , F1 score : recall과 precision의 조화 평균.\n",
        "\n",
        "      그 이외에도 error rate, specificity, fall out 등\n",
        "\n",
        "\t* error rate : 모델이 전체 데이터에서 예측이 틀린 비율\n",
        "\t* specificity : 특이도 TNR(True Negative Rate)\n",
        "\t* fall out : 위양성률 FPR(False Positive Rate)"
      ]
    },
    {
      "cell_type": "markdown",
      "id": "1a72342f-8903-45af-9973-fd3eb23e056f",
      "metadata": {
        "id": "1a72342f-8903-45af-9973-fd3eb23e056f"
      },
      "source": [
        "## 4.4. Softmax Regression Implementation from Scratch"
      ]
    },
    {
      "cell_type": "code",
      "execution_count": 41,
      "id": "da40290f-8bef-4033-bce6-b23c3fc659eb",
      "metadata": {
        "id": "da40290f-8bef-4033-bce6-b23c3fc659eb"
      },
      "outputs": [],
      "source": [
        "import torch\n",
        "from d2l import torch as d2l"
      ]
    },
    {
      "cell_type": "markdown",
      "id": "195cbbb7-4c9c-4457-881d-c30ce23f7bd5",
      "metadata": {
        "id": "195cbbb7-4c9c-4457-881d-c30ce23f7bd5"
      },
      "source": [
        "### 4.4.1.the softmax"
      ]
    },
    {
      "cell_type": "code",
      "execution_count": 42,
      "id": "5ff7044c-4e86-4974-8356-cb6531c7558a",
      "metadata": {
        "id": "5ff7044c-4e86-4974-8356-cb6531c7558a",
        "outputId": "5b48ce91-69f5-4180-f6e2-c3084ca9b832",
        "colab": {
          "base_uri": "https://localhost:8080/"
        }
      },
      "outputs": [
        {
          "output_type": "execute_result",
          "data": {
            "text/plain": [
              "(tensor([[5., 7., 9.]]),\n",
              " tensor([[ 6.],\n",
              "         [15.]]))"
            ]
          },
          "metadata": {},
          "execution_count": 42
        }
      ],
      "source": [
        "X = torch.tensor([[1.0, 2.0, 3.0], [4.0, 5.0, 6.0]])\n",
        "X.sum(0, keepdims=True), X.sum(1, keepdims=True)"
      ]
    },
    {
      "cell_type": "code",
      "execution_count": 43,
      "id": "405969e7-734d-4e91-bbc2-7f0a6132ff79",
      "metadata": {
        "id": "405969e7-734d-4e91-bbc2-7f0a6132ff79"
      },
      "outputs": [],
      "source": [
        "def softmax(X):\n",
        "    X_exp = torch.exp(X)\n",
        "    partition = X_exp.sum(1, keepdims=True)\n",
        "    return X_exp / partition  # The broadcasting mechanism is applied here"
      ]
    },
    {
      "cell_type": "code",
      "execution_count": 44,
      "id": "7a53bdc7-4d15-4787-8bdc-e181b41d982a",
      "metadata": {
        "id": "7a53bdc7-4d15-4787-8bdc-e181b41d982a",
        "outputId": "2cfc9a08-ee2c-41b0-dc81-7a8f25d415dc",
        "colab": {
          "base_uri": "https://localhost:8080/"
        }
      },
      "outputs": [
        {
          "output_type": "execute_result",
          "data": {
            "text/plain": [
              "(tensor([[0.2000, 0.1405, 0.1971, 0.1645, 0.2980],\n",
              "         [0.1476, 0.3027, 0.1534, 0.2044, 0.1920]]),\n",
              " tensor([1.0000, 1.0000]))"
            ]
          },
          "metadata": {},
          "execution_count": 44
        }
      ],
      "source": [
        "X = torch.rand((2, 5))\n",
        "X_prob = softmax(X)\n",
        "X_prob, X_prob.sum(1)"
      ]
    },
    {
      "cell_type": "markdown",
      "id": "576759fa-7ef0-4f9a-b9b0-6b89065cef5b",
      "metadata": {
        "id": "576759fa-7ef0-4f9a-b9b0-6b89065cef5b"
      },
      "source": [
        "### 4.4.2.the model"
      ]
    },
    {
      "cell_type": "code",
      "execution_count": 45,
      "id": "cab0fb2d-38ed-47ca-a1be-1a2fb9ee815e",
      "metadata": {
        "id": "cab0fb2d-38ed-47ca-a1be-1a2fb9ee815e"
      },
      "outputs": [],
      "source": [
        "class SoftmaxRegressionScratch(d2l.Classifier):\n",
        "    def __init__(self, num_inputs, num_outputs, lr, sigma=0.01):\n",
        "        super().__init__()\n",
        "        self.save_hyperparameters()\n",
        "        self.W = torch.normal(0, sigma, size=(num_inputs, num_outputs),\n",
        "                              requires_grad=True)\n",
        "        self.b = torch.zeros(num_outputs, requires_grad=True)\n",
        "\n",
        "    def parameters(self):\n",
        "        return [self.W, self.b]"
      ]
    },
    {
      "cell_type": "code",
      "execution_count": 46,
      "id": "a935004e-9a29-470b-8852-e49c817efbed",
      "metadata": {
        "id": "a935004e-9a29-470b-8852-e49c817efbed"
      },
      "outputs": [],
      "source": [
        "@d2l.add_to_class(SoftmaxRegressionScratch)\n",
        "def forward(self, X):\n",
        "    X = X.reshape((-1, self.W.shape[0]))\n",
        "    return softmax(torch.matmul(X, self.W) + self.b)"
      ]
    },
    {
      "cell_type": "markdown",
      "id": "6248211e-842f-495a-bd07-fc13c166b48e",
      "metadata": {
        "id": "6248211e-842f-495a-bd07-fc13c166b48e"
      },
      "source": [
        "### 4.4.3.the cross-entropy loss"
      ]
    },
    {
      "cell_type": "code",
      "execution_count": 47,
      "id": "e0e678e0-b2d4-4a1a-a847-6587053d1181",
      "metadata": {
        "id": "e0e678e0-b2d4-4a1a-a847-6587053d1181",
        "outputId": "47ed113a-ed86-4ec9-b40d-94097576eb3e",
        "colab": {
          "base_uri": "https://localhost:8080/"
        }
      },
      "outputs": [
        {
          "output_type": "execute_result",
          "data": {
            "text/plain": [
              "tensor([0.1000, 0.5000])"
            ]
          },
          "metadata": {},
          "execution_count": 47
        }
      ],
      "source": [
        "y = torch.tensor([0, 2])\n",
        "y_hat = torch.tensor([[0.1, 0.3, 0.6], [0.3, 0.2, 0.5]])\n",
        "y_hat[[0, 1], y]"
      ]
    },
    {
      "cell_type": "code",
      "execution_count": 48,
      "id": "d423a46f-b053-4eec-a6a8-29bf49d6c2dc",
      "metadata": {
        "id": "d423a46f-b053-4eec-a6a8-29bf49d6c2dc",
        "outputId": "d2645eb1-bc13-42ee-98ce-d6a00b37d872",
        "colab": {
          "base_uri": "https://localhost:8080/"
        }
      },
      "outputs": [
        {
          "output_type": "execute_result",
          "data": {
            "text/plain": [
              "tensor(1.4979)"
            ]
          },
          "metadata": {},
          "execution_count": 48
        }
      ],
      "source": [
        "def cross_entropy(y_hat, y):\n",
        "    return -torch.log(y_hat[list(range(len(y_hat))), y]).mean()\n",
        "\n",
        "cross_entropy(y_hat, y)"
      ]
    },
    {
      "cell_type": "code",
      "execution_count": 49,
      "id": "aaea53b2-905f-4307-9b18-b85882c33ce2",
      "metadata": {
        "id": "aaea53b2-905f-4307-9b18-b85882c33ce2"
      },
      "outputs": [],
      "source": [
        "@d2l.add_to_class(SoftmaxRegressionScratch)\n",
        "def loss(self, y_hat, y):\n",
        "    return cross_entropy(y_hat, y)"
      ]
    },
    {
      "cell_type": "markdown",
      "id": "4a5ea0d6-abed-42af-98c9-53e5d80d0d1a",
      "metadata": {
        "id": "4a5ea0d6-abed-42af-98c9-53e5d80d0d1a"
      },
      "source": [
        "### 4.4.4.training\n",
        "\n",
        "10 epochs로 모델 학습\n",
        "\n",
        "the number of epochs (max_epochs), the minibatch size (batch_size), and learning rate (lr)은 조정 가능 파라미터.\n",
        "\n",
        "기본 훈련 루프에서 학습되지는 않지만, 훈련과 일반화 성능 모두에 영향을 미침.\n",
        "\n",
        "실제로는 데이터의 validation split에서 값을 선택한 다음, test split에서 최종 모델을 평가할 수 있음"
      ]
    },
    {
      "cell_type": "code",
      "execution_count": 50,
      "id": "cefd686a-38b7-4461-8d2b-3c144dc08064",
      "metadata": {
        "id": "cefd686a-38b7-4461-8d2b-3c144dc08064",
        "colab": {
          "base_uri": "https://localhost:8080/",
          "height": 265
        },
        "outputId": "ff331c0b-f2d6-4ca1-ce85-e271fb8c5446"
      },
      "outputs": [
        {
          "output_type": "display_data",
          "data": {
            "text/plain": [
              "<Figure size 350x250 with 1 Axes>"
            ],
            "image/svg+xml": "<?xml version=\"1.0\" encoding=\"utf-8\" standalone=\"no\"?>\n<!DOCTYPE svg PUBLIC \"-//W3C//DTD SVG 1.1//EN\"\n  \"http://www.w3.org/Graphics/SVG/1.1/DTD/svg11.dtd\">\n<svg xmlns:xlink=\"http://www.w3.org/1999/xlink\" width=\"238.965625pt\" height=\"183.35625pt\" viewBox=\"0 0 238.965625 183.35625\" xmlns=\"http://www.w3.org/2000/svg\" version=\"1.1\">\n <metadata>\n  <rdf:RDF xmlns:dc=\"http://purl.org/dc/elements/1.1/\" xmlns:cc=\"http://creativecommons.org/ns#\" xmlns:rdf=\"http://www.w3.org/1999/02/22-rdf-syntax-ns#\">\n   <cc:Work>\n    <dc:type rdf:resource=\"http://purl.org/dc/dcmitype/StillImage\"/>\n    <dc:date>2024-09-24T02:15:08.284941</dc:date>\n    <dc:format>image/svg+xml</dc:format>\n    <dc:creator>\n     <cc:Agent>\n      <dc:title>Matplotlib v3.7.2, https://matplotlib.org/</dc:title>\n     </cc:Agent>\n    </dc:creator>\n   </cc:Work>\n  </rdf:RDF>\n </metadata>\n <defs>\n  <style type=\"text/css\">*{stroke-linejoin: round; stroke-linecap: butt}</style>\n </defs>\n <g id=\"figure_1\">\n  <g id=\"patch_1\">\n   <path d=\"M 0 183.35625 \nL 238.965625 183.35625 \nL 238.965625 0 \nL 0 0 \nz\n\" style=\"fill: #ffffff\"/>\n  </g>\n  <g id=\"axes_1\">\n   <g id=\"patch_2\">\n    <path d=\"M 30.103125 145.8 \nL 225.403125 145.8 \nL 225.403125 7.2 \nL 30.103125 7.2 \nz\n\" style=\"fill: #ffffff\"/>\n   </g>\n   <g id=\"matplotlib.axis_1\">\n    <g id=\"xtick_1\">\n     <g id=\"line2d_1\">\n      <defs>\n       <path id=\"m8d15a6151e\" d=\"M 0 0 \nL 0 3.5 \n\" style=\"stroke: #000000; stroke-width: 0.8\"/>\n      </defs>\n      <g>\n       <use xlink:href=\"#m8d15a6151e\" x=\"30.103125\" y=\"145.8\" style=\"stroke: #000000; stroke-width: 0.8\"/>\n      </g>\n     </g>\n     <g id=\"text_1\">\n      <!-- 0 -->\n      <g transform=\"translate(26.921875 160.398438) scale(0.1 -0.1)\">\n       <defs>\n        <path id=\"DejaVuSans-30\" d=\"M 2034 4250 \nQ 1547 4250 1301 3770 \nQ 1056 3291 1056 2328 \nQ 1056 1369 1301 889 \nQ 1547 409 2034 409 \nQ 2525 409 2770 889 \nQ 3016 1369 3016 2328 \nQ 3016 3291 2770 3770 \nQ 2525 4250 2034 4250 \nz\nM 2034 4750 \nQ 2819 4750 3233 4129 \nQ 3647 3509 3647 2328 \nQ 3647 1150 3233 529 \nQ 2819 -91 2034 -91 \nQ 1250 -91 836 529 \nQ 422 1150 422 2328 \nQ 422 3509 836 4129 \nQ 1250 4750 2034 4750 \nz\n\" transform=\"scale(0.015625)\"/>\n       </defs>\n       <use xlink:href=\"#DejaVuSans-30\"/>\n      </g>\n     </g>\n    </g>\n    <g id=\"xtick_2\">\n     <g id=\"line2d_2\">\n      <g>\n       <use xlink:href=\"#m8d15a6151e\" x=\"69.163125\" y=\"145.8\" style=\"stroke: #000000; stroke-width: 0.8\"/>\n      </g>\n     </g>\n     <g id=\"text_2\">\n      <!-- 2 -->\n      <g transform=\"translate(65.981875 160.398438) scale(0.1 -0.1)\">\n       <defs>\n        <path id=\"DejaVuSans-32\" d=\"M 1228 531 \nL 3431 531 \nL 3431 0 \nL 469 0 \nL 469 531 \nQ 828 903 1448 1529 \nQ 2069 2156 2228 2338 \nQ 2531 2678 2651 2914 \nQ 2772 3150 2772 3378 \nQ 2772 3750 2511 3984 \nQ 2250 4219 1831 4219 \nQ 1534 4219 1204 4116 \nQ 875 4013 500 3803 \nL 500 4441 \nQ 881 4594 1212 4672 \nQ 1544 4750 1819 4750 \nQ 2544 4750 2975 4387 \nQ 3406 4025 3406 3419 \nQ 3406 3131 3298 2873 \nQ 3191 2616 2906 2266 \nQ 2828 2175 2409 1742 \nQ 1991 1309 1228 531 \nz\n\" transform=\"scale(0.015625)\"/>\n       </defs>\n       <use xlink:href=\"#DejaVuSans-32\"/>\n      </g>\n     </g>\n    </g>\n    <g id=\"xtick_3\">\n     <g id=\"line2d_3\">\n      <g>\n       <use xlink:href=\"#m8d15a6151e\" x=\"108.223125\" y=\"145.8\" style=\"stroke: #000000; stroke-width: 0.8\"/>\n      </g>\n     </g>\n     <g id=\"text_3\">\n      <!-- 4 -->\n      <g transform=\"translate(105.041875 160.398438) scale(0.1 -0.1)\">\n       <defs>\n        <path id=\"DejaVuSans-34\" d=\"M 2419 4116 \nL 825 1625 \nL 2419 1625 \nL 2419 4116 \nz\nM 2253 4666 \nL 3047 4666 \nL 3047 1625 \nL 3713 1625 \nL 3713 1100 \nL 3047 1100 \nL 3047 0 \nL 2419 0 \nL 2419 1100 \nL 313 1100 \nL 313 1709 \nL 2253 4666 \nz\n\" transform=\"scale(0.015625)\"/>\n       </defs>\n       <use xlink:href=\"#DejaVuSans-34\"/>\n      </g>\n     </g>\n    </g>\n    <g id=\"xtick_4\">\n     <g id=\"line2d_4\">\n      <g>\n       <use xlink:href=\"#m8d15a6151e\" x=\"147.283125\" y=\"145.8\" style=\"stroke: #000000; stroke-width: 0.8\"/>\n      </g>\n     </g>\n     <g id=\"text_4\">\n      <!-- 6 -->\n      <g transform=\"translate(144.101875 160.398438) scale(0.1 -0.1)\">\n       <defs>\n        <path id=\"DejaVuSans-36\" d=\"M 2113 2584 \nQ 1688 2584 1439 2293 \nQ 1191 2003 1191 1497 \nQ 1191 994 1439 701 \nQ 1688 409 2113 409 \nQ 2538 409 2786 701 \nQ 3034 994 3034 1497 \nQ 3034 2003 2786 2293 \nQ 2538 2584 2113 2584 \nz\nM 3366 4563 \nL 3366 3988 \nQ 3128 4100 2886 4159 \nQ 2644 4219 2406 4219 \nQ 1781 4219 1451 3797 \nQ 1122 3375 1075 2522 \nQ 1259 2794 1537 2939 \nQ 1816 3084 2150 3084 \nQ 2853 3084 3261 2657 \nQ 3669 2231 3669 1497 \nQ 3669 778 3244 343 \nQ 2819 -91 2113 -91 \nQ 1303 -91 875 529 \nQ 447 1150 447 2328 \nQ 447 3434 972 4092 \nQ 1497 4750 2381 4750 \nQ 2619 4750 2861 4703 \nQ 3103 4656 3366 4563 \nz\n\" transform=\"scale(0.015625)\"/>\n       </defs>\n       <use xlink:href=\"#DejaVuSans-36\"/>\n      </g>\n     </g>\n    </g>\n    <g id=\"xtick_5\">\n     <g id=\"line2d_5\">\n      <g>\n       <use xlink:href=\"#m8d15a6151e\" x=\"186.343125\" y=\"145.8\" style=\"stroke: #000000; stroke-width: 0.8\"/>\n      </g>\n     </g>\n     <g id=\"text_5\">\n      <!-- 8 -->\n      <g transform=\"translate(183.161875 160.398438) scale(0.1 -0.1)\">\n       <defs>\n        <path id=\"DejaVuSans-38\" d=\"M 2034 2216 \nQ 1584 2216 1326 1975 \nQ 1069 1734 1069 1313 \nQ 1069 891 1326 650 \nQ 1584 409 2034 409 \nQ 2484 409 2743 651 \nQ 3003 894 3003 1313 \nQ 3003 1734 2745 1975 \nQ 2488 2216 2034 2216 \nz\nM 1403 2484 \nQ 997 2584 770 2862 \nQ 544 3141 544 3541 \nQ 544 4100 942 4425 \nQ 1341 4750 2034 4750 \nQ 2731 4750 3128 4425 \nQ 3525 4100 3525 3541 \nQ 3525 3141 3298 2862 \nQ 3072 2584 2669 2484 \nQ 3125 2378 3379 2068 \nQ 3634 1759 3634 1313 \nQ 3634 634 3220 271 \nQ 2806 -91 2034 -91 \nQ 1263 -91 848 271 \nQ 434 634 434 1313 \nQ 434 1759 690 2068 \nQ 947 2378 1403 2484 \nz\nM 1172 3481 \nQ 1172 3119 1398 2916 \nQ 1625 2713 2034 2713 \nQ 2441 2713 2670 2916 \nQ 2900 3119 2900 3481 \nQ 2900 3844 2670 4047 \nQ 2441 4250 2034 4250 \nQ 1625 4250 1398 4047 \nQ 1172 3844 1172 3481 \nz\n\" transform=\"scale(0.015625)\"/>\n       </defs>\n       <use xlink:href=\"#DejaVuSans-38\"/>\n      </g>\n     </g>\n    </g>\n    <g id=\"xtick_6\">\n     <g id=\"line2d_6\">\n      <g>\n       <use xlink:href=\"#m8d15a6151e\" x=\"225.403125\" y=\"145.8\" style=\"stroke: #000000; stroke-width: 0.8\"/>\n      </g>\n     </g>\n     <g id=\"text_6\">\n      <!-- 10 -->\n      <g transform=\"translate(219.040625 160.398438) scale(0.1 -0.1)\">\n       <defs>\n        <path id=\"DejaVuSans-31\" d=\"M 794 531 \nL 1825 531 \nL 1825 4091 \nL 703 3866 \nL 703 4441 \nL 1819 4666 \nL 2450 4666 \nL 2450 531 \nL 3481 531 \nL 3481 0 \nL 794 0 \nL 794 531 \nz\n\" transform=\"scale(0.015625)\"/>\n       </defs>\n       <use xlink:href=\"#DejaVuSans-31\"/>\n       <use xlink:href=\"#DejaVuSans-30\" x=\"63.623047\"/>\n      </g>\n     </g>\n    </g>\n    <g id=\"text_7\">\n     <!-- epoch -->\n     <g transform=\"translate(112.525 174.076563) scale(0.1 -0.1)\">\n      <defs>\n       <path id=\"DejaVuSans-65\" d=\"M 3597 1894 \nL 3597 1613 \nL 953 1613 \nQ 991 1019 1311 708 \nQ 1631 397 2203 397 \nQ 2534 397 2845 478 \nQ 3156 559 3463 722 \nL 3463 178 \nQ 3153 47 2828 -22 \nQ 2503 -91 2169 -91 \nQ 1331 -91 842 396 \nQ 353 884 353 1716 \nQ 353 2575 817 3079 \nQ 1281 3584 2069 3584 \nQ 2775 3584 3186 3129 \nQ 3597 2675 3597 1894 \nz\nM 3022 2063 \nQ 3016 2534 2758 2815 \nQ 2500 3097 2075 3097 \nQ 1594 3097 1305 2825 \nQ 1016 2553 972 2059 \nL 3022 2063 \nz\n\" transform=\"scale(0.015625)\"/>\n       <path id=\"DejaVuSans-70\" d=\"M 1159 525 \nL 1159 -1331 \nL 581 -1331 \nL 581 3500 \nL 1159 3500 \nL 1159 2969 \nQ 1341 3281 1617 3432 \nQ 1894 3584 2278 3584 \nQ 2916 3584 3314 3078 \nQ 3713 2572 3713 1747 \nQ 3713 922 3314 415 \nQ 2916 -91 2278 -91 \nQ 1894 -91 1617 61 \nQ 1341 213 1159 525 \nz\nM 3116 1747 \nQ 3116 2381 2855 2742 \nQ 2594 3103 2138 3103 \nQ 1681 3103 1420 2742 \nQ 1159 2381 1159 1747 \nQ 1159 1113 1420 752 \nQ 1681 391 2138 391 \nQ 2594 391 2855 752 \nQ 3116 1113 3116 1747 \nz\n\" transform=\"scale(0.015625)\"/>\n       <path id=\"DejaVuSans-6f\" d=\"M 1959 3097 \nQ 1497 3097 1228 2736 \nQ 959 2375 959 1747 \nQ 959 1119 1226 758 \nQ 1494 397 1959 397 \nQ 2419 397 2687 759 \nQ 2956 1122 2956 1747 \nQ 2956 2369 2687 2733 \nQ 2419 3097 1959 3097 \nz\nM 1959 3584 \nQ 2709 3584 3137 3096 \nQ 3566 2609 3566 1747 \nQ 3566 888 3137 398 \nQ 2709 -91 1959 -91 \nQ 1206 -91 779 398 \nQ 353 888 353 1747 \nQ 353 2609 779 3096 \nQ 1206 3584 1959 3584 \nz\n\" transform=\"scale(0.015625)\"/>\n       <path id=\"DejaVuSans-63\" d=\"M 3122 3366 \nL 3122 2828 \nQ 2878 2963 2633 3030 \nQ 2388 3097 2138 3097 \nQ 1578 3097 1268 2742 \nQ 959 2388 959 1747 \nQ 959 1106 1268 751 \nQ 1578 397 2138 397 \nQ 2388 397 2633 464 \nQ 2878 531 3122 666 \nL 3122 134 \nQ 2881 22 2623 -34 \nQ 2366 -91 2075 -91 \nQ 1284 -91 818 406 \nQ 353 903 353 1747 \nQ 353 2603 823 3093 \nQ 1294 3584 2113 3584 \nQ 2378 3584 2631 3529 \nQ 2884 3475 3122 3366 \nz\n\" transform=\"scale(0.015625)\"/>\n       <path id=\"DejaVuSans-68\" d=\"M 3513 2113 \nL 3513 0 \nL 2938 0 \nL 2938 2094 \nQ 2938 2591 2744 2837 \nQ 2550 3084 2163 3084 \nQ 1697 3084 1428 2787 \nQ 1159 2491 1159 1978 \nL 1159 0 \nL 581 0 \nL 581 4863 \nL 1159 4863 \nL 1159 2956 \nQ 1366 3272 1645 3428 \nQ 1925 3584 2291 3584 \nQ 2894 3584 3203 3211 \nQ 3513 2838 3513 2113 \nz\n\" transform=\"scale(0.015625)\"/>\n      </defs>\n      <use xlink:href=\"#DejaVuSans-65\"/>\n      <use xlink:href=\"#DejaVuSans-70\" x=\"61.523438\"/>\n      <use xlink:href=\"#DejaVuSans-6f\" x=\"125\"/>\n      <use xlink:href=\"#DejaVuSans-63\" x=\"186.181641\"/>\n      <use xlink:href=\"#DejaVuSans-68\" x=\"241.162109\"/>\n     </g>\n    </g>\n   </g>\n   <g id=\"matplotlib.axis_2\">\n    <g id=\"ytick_1\">\n     <g id=\"line2d_7\">\n      <defs>\n       <path id=\"m4bfa35390a\" d=\"M 0 0 \nL -3.5 0 \n\" style=\"stroke: #000000; stroke-width: 0.8\"/>\n      </defs>\n      <g>\n       <use xlink:href=\"#m4bfa35390a\" x=\"30.103125\" y=\"124.171833\" style=\"stroke: #000000; stroke-width: 0.8\"/>\n      </g>\n     </g>\n     <g id=\"text_8\">\n      <!-- 0.5 -->\n      <g transform=\"translate(7.2 127.971052) scale(0.1 -0.1)\">\n       <defs>\n        <path id=\"DejaVuSans-2e\" d=\"M 684 794 \nL 1344 794 \nL 1344 0 \nL 684 0 \nL 684 794 \nz\n\" transform=\"scale(0.015625)\"/>\n        <path id=\"DejaVuSans-35\" d=\"M 691 4666 \nL 3169 4666 \nL 3169 4134 \nL 1269 4134 \nL 1269 2991 \nQ 1406 3038 1543 3061 \nQ 1681 3084 1819 3084 \nQ 2600 3084 3056 2656 \nQ 3513 2228 3513 1497 \nQ 3513 744 3044 326 \nQ 2575 -91 1722 -91 \nQ 1428 -91 1123 -41 \nQ 819 9 494 109 \nL 494 744 \nQ 775 591 1075 516 \nQ 1375 441 1709 441 \nQ 2250 441 2565 725 \nQ 2881 1009 2881 1497 \nQ 2881 1984 2565 2268 \nQ 2250 2553 1709 2553 \nQ 1456 2553 1204 2497 \nQ 953 2441 691 2322 \nL 691 4666 \nz\n\" transform=\"scale(0.015625)\"/>\n       </defs>\n       <use xlink:href=\"#DejaVuSans-30\"/>\n       <use xlink:href=\"#DejaVuSans-2e\" x=\"63.623047\"/>\n       <use xlink:href=\"#DejaVuSans-35\" x=\"95.410156\"/>\n      </g>\n     </g>\n    </g>\n    <g id=\"ytick_2\">\n     <g id=\"line2d_8\">\n      <g>\n       <use xlink:href=\"#m4bfa35390a\" x=\"30.103125\" y=\"97.834878\" style=\"stroke: #000000; stroke-width: 0.8\"/>\n      </g>\n     </g>\n     <g id=\"text_9\">\n      <!-- 0.6 -->\n      <g transform=\"translate(7.2 101.634097) scale(0.1 -0.1)\">\n       <use xlink:href=\"#DejaVuSans-30\"/>\n       <use xlink:href=\"#DejaVuSans-2e\" x=\"63.623047\"/>\n       <use xlink:href=\"#DejaVuSans-36\" x=\"95.410156\"/>\n      </g>\n     </g>\n    </g>\n    <g id=\"ytick_3\">\n     <g id=\"line2d_9\">\n      <g>\n       <use xlink:href=\"#m4bfa35390a\" x=\"30.103125\" y=\"71.497923\" style=\"stroke: #000000; stroke-width: 0.8\"/>\n      </g>\n     </g>\n     <g id=\"text_10\">\n      <!-- 0.7 -->\n      <g transform=\"translate(7.2 75.297142) scale(0.1 -0.1)\">\n       <defs>\n        <path id=\"DejaVuSans-37\" d=\"M 525 4666 \nL 3525 4666 \nL 3525 4397 \nL 1831 0 \nL 1172 0 \nL 2766 4134 \nL 525 4134 \nL 525 4666 \nz\n\" transform=\"scale(0.015625)\"/>\n       </defs>\n       <use xlink:href=\"#DejaVuSans-30\"/>\n       <use xlink:href=\"#DejaVuSans-2e\" x=\"63.623047\"/>\n       <use xlink:href=\"#DejaVuSans-37\" x=\"95.410156\"/>\n      </g>\n     </g>\n    </g>\n    <g id=\"ytick_4\">\n     <g id=\"line2d_10\">\n      <g>\n       <use xlink:href=\"#m4bfa35390a\" x=\"30.103125\" y=\"45.160968\" style=\"stroke: #000000; stroke-width: 0.8\"/>\n      </g>\n     </g>\n     <g id=\"text_11\">\n      <!-- 0.8 -->\n      <g transform=\"translate(7.2 48.960187) scale(0.1 -0.1)\">\n       <use xlink:href=\"#DejaVuSans-30\"/>\n       <use xlink:href=\"#DejaVuSans-2e\" x=\"63.623047\"/>\n       <use xlink:href=\"#DejaVuSans-38\" x=\"95.410156\"/>\n      </g>\n     </g>\n    </g>\n    <g id=\"ytick_5\">\n     <g id=\"line2d_11\">\n      <g>\n       <use xlink:href=\"#m4bfa35390a\" x=\"30.103125\" y=\"18.824013\" style=\"stroke: #000000; stroke-width: 0.8\"/>\n      </g>\n     </g>\n     <g id=\"text_12\">\n      <!-- 0.9 -->\n      <g transform=\"translate(7.2 22.623232) scale(0.1 -0.1)\">\n       <defs>\n        <path id=\"DejaVuSans-39\" d=\"M 703 97 \nL 703 672 \nQ 941 559 1184 500 \nQ 1428 441 1663 441 \nQ 2288 441 2617 861 \nQ 2947 1281 2994 2138 \nQ 2813 1869 2534 1725 \nQ 2256 1581 1919 1581 \nQ 1219 1581 811 2004 \nQ 403 2428 403 3163 \nQ 403 3881 828 4315 \nQ 1253 4750 1959 4750 \nQ 2769 4750 3195 4129 \nQ 3622 3509 3622 2328 \nQ 3622 1225 3098 567 \nQ 2575 -91 1691 -91 \nQ 1453 -91 1209 -44 \nQ 966 3 703 97 \nz\nM 1959 2075 \nQ 2384 2075 2632 2365 \nQ 2881 2656 2881 3163 \nQ 2881 3666 2632 3958 \nQ 2384 4250 1959 4250 \nQ 1534 4250 1286 3958 \nQ 1038 3666 1038 3163 \nQ 1038 2656 1286 2365 \nQ 1534 2075 1959 2075 \nz\n\" transform=\"scale(0.015625)\"/>\n       </defs>\n       <use xlink:href=\"#DejaVuSans-30\"/>\n       <use xlink:href=\"#DejaVuSans-2e\" x=\"63.623047\"/>\n       <use xlink:href=\"#DejaVuSans-39\" x=\"95.410156\"/>\n      </g>\n     </g>\n    </g>\n   </g>\n   <g id=\"line2d_12\">\n    <path d=\"M 34.923295 13.5 \n\" clip-path=\"url(#p4d9e69b79b)\" style=\"fill: none; stroke: #1f77b4; stroke-width: 1.5; stroke-linecap: square\"/>\n   </g>\n   <g id=\"line2d_13\">\n    <path d=\"M 34.923295 13.5 \nL 44.646742 83.567538 \n\" clip-path=\"url(#p4d9e69b79b)\" style=\"fill: none; stroke: #1f77b4; stroke-width: 1.5; stroke-linecap: square\"/>\n   </g>\n   <g id=\"line2d_14\">\n    <path d=\"M 34.923295 13.5 \nL 44.646742 83.567538 \n\" clip-path=\"url(#p4d9e69b79b)\" style=\"fill: none; stroke: #1f77b4; stroke-width: 1.5; stroke-linecap: square\"/>\n   </g>\n   <g id=\"line2d_15\">\n    <path d=\"M 49.633125 89.968672 \n\" clip-path=\"url(#p4d9e69b79b)\" style=\"fill: none; stroke-dasharray: 5.55,2.4; stroke-dashoffset: 0; stroke: #ff7f0e; stroke-width: 1.5\"/>\n   </g>\n   <g id=\"line2d_16\"/>\n   <g id=\"line2d_17\">\n    <path d=\"M 34.923295 13.5 \nL 44.646742 83.567538 \n\" clip-path=\"url(#p4d9e69b79b)\" style=\"fill: none; stroke: #1f77b4; stroke-width: 1.5; stroke-linecap: square\"/>\n   </g>\n   <g id=\"line2d_18\">\n    <path d=\"M 49.633125 89.968672 \n\" clip-path=\"url(#p4d9e69b79b)\" style=\"fill: none; stroke-dasharray: 5.55,2.4; stroke-dashoffset: 0; stroke: #ff7f0e; stroke-width: 1.5\"/>\n   </g>\n   <g id=\"line2d_19\">\n    <path d=\"M 49.633125 47.810095 \n\" clip-path=\"url(#p4d9e69b79b)\" style=\"fill: none; stroke-dasharray: 9.6,2.4,1.5,2.4; stroke-dashoffset: 0; stroke: #2ca02c; stroke-width: 1.5\"/>\n   </g>\n   <g id=\"line2d_20\">\n    <path d=\"M 34.923295 13.5 \nL 44.646742 83.567538 \nL 54.370189 101.636303 \n\" clip-path=\"url(#p4d9e69b79b)\" style=\"fill: none; stroke: #1f77b4; stroke-width: 1.5; stroke-linecap: square\"/>\n   </g>\n   <g id=\"line2d_21\">\n    <path d=\"M 49.633125 89.968672 \n\" clip-path=\"url(#p4d9e69b79b)\" style=\"fill: none; stroke-dasharray: 5.55,2.4; stroke-dashoffset: 0; stroke: #ff7f0e; stroke-width: 1.5\"/>\n   </g>\n   <g id=\"line2d_22\">\n    <path d=\"M 49.633125 47.810095 \n\" clip-path=\"url(#p4d9e69b79b)\" style=\"fill: none; stroke-dasharray: 9.6,2.4,1.5,2.4; stroke-dashoffset: 0; stroke: #2ca02c; stroke-width: 1.5\"/>\n   </g>\n   <g id=\"line2d_23\">\n    <path d=\"M 34.923295 13.5 \nL 44.646742 83.567538 \nL 54.370189 101.636303 \nL 64.093636 109.920753 \n\" clip-path=\"url(#p4d9e69b79b)\" style=\"fill: none; stroke: #1f77b4; stroke-width: 1.5; stroke-linecap: square\"/>\n   </g>\n   <g id=\"line2d_24\">\n    <path d=\"M 49.633125 89.968672 \n\" clip-path=\"url(#p4d9e69b79b)\" style=\"fill: none; stroke-dasharray: 5.55,2.4; stroke-dashoffset: 0; stroke: #ff7f0e; stroke-width: 1.5\"/>\n   </g>\n   <g id=\"line2d_25\">\n    <path d=\"M 49.633125 47.810095 \n\" clip-path=\"url(#p4d9e69b79b)\" style=\"fill: none; stroke-dasharray: 9.6,2.4,1.5,2.4; stroke-dashoffset: 0; stroke: #2ca02c; stroke-width: 1.5\"/>\n   </g>\n   <g id=\"line2d_26\">\n    <path d=\"M 34.923295 13.5 \nL 44.646742 83.567538 \nL 54.370189 101.636303 \nL 64.093636 109.920753 \n\" clip-path=\"url(#p4d9e69b79b)\" style=\"fill: none; stroke: #1f77b4; stroke-width: 1.5; stroke-linecap: square\"/>\n   </g>\n   <g id=\"line2d_27\">\n    <path d=\"M 49.633125 89.968672 \nL 69.163125 106.035494 \n\" clip-path=\"url(#p4d9e69b79b)\" style=\"fill: none; stroke-dasharray: 5.55,2.4; stroke-dashoffset: 0; stroke: #ff7f0e; stroke-width: 1.5\"/>\n   </g>\n   <g id=\"line2d_28\">\n    <path d=\"M 49.633125 47.810095 \n\" clip-path=\"url(#p4d9e69b79b)\" style=\"fill: none; stroke-dasharray: 9.6,2.4,1.5,2.4; stroke-dashoffset: 0; stroke: #2ca02c; stroke-width: 1.5\"/>\n   </g>\n   <g id=\"line2d_29\">\n    <path d=\"M 34.923295 13.5 \nL 44.646742 83.567538 \nL 54.370189 101.636303 \nL 64.093636 109.920753 \n\" clip-path=\"url(#p4d9e69b79b)\" style=\"fill: none; stroke: #1f77b4; stroke-width: 1.5; stroke-linecap: square\"/>\n   </g>\n   <g id=\"line2d_30\">\n    <path d=\"M 49.633125 89.968672 \nL 69.163125 106.035494 \n\" clip-path=\"url(#p4d9e69b79b)\" style=\"fill: none; stroke-dasharray: 5.55,2.4; stroke-dashoffset: 0; stroke: #ff7f0e; stroke-width: 1.5\"/>\n   </g>\n   <g id=\"line2d_31\">\n    <path d=\"M 49.633125 47.810095 \nL 69.163125 42.408962 \n\" clip-path=\"url(#p4d9e69b79b)\" style=\"fill: none; stroke-dasharray: 9.6,2.4,1.5,2.4; stroke-dashoffset: 0; stroke: #2ca02c; stroke-width: 1.5\"/>\n   </g>\n   <g id=\"line2d_32\">\n    <path d=\"M 34.923295 13.5 \nL 44.646742 83.567538 \nL 54.370189 101.636303 \nL 64.093636 109.920753 \nL 73.817082 114.1186 \n\" clip-path=\"url(#p4d9e69b79b)\" style=\"fill: none; stroke: #1f77b4; stroke-width: 1.5; stroke-linecap: square\"/>\n   </g>\n   <g id=\"line2d_33\">\n    <path d=\"M 49.633125 89.968672 \nL 69.163125 106.035494 \n\" clip-path=\"url(#p4d9e69b79b)\" style=\"fill: none; stroke-dasharray: 5.55,2.4; stroke-dashoffset: 0; stroke: #ff7f0e; stroke-width: 1.5\"/>\n   </g>\n   <g id=\"line2d_34\">\n    <path d=\"M 49.633125 47.810095 \nL 69.163125 42.408962 \n\" clip-path=\"url(#p4d9e69b79b)\" style=\"fill: none; stroke-dasharray: 9.6,2.4,1.5,2.4; stroke-dashoffset: 0; stroke: #2ca02c; stroke-width: 1.5\"/>\n   </g>\n   <g id=\"line2d_35\">\n    <path d=\"M 34.923295 13.5 \nL 44.646742 83.567538 \nL 54.370189 101.636303 \nL 64.093636 109.920753 \nL 73.817082 114.1186 \nL 83.540529 120.348382 \n\" clip-path=\"url(#p4d9e69b79b)\" style=\"fill: none; stroke: #1f77b4; stroke-width: 1.5; stroke-linecap: square\"/>\n   </g>\n   <g id=\"line2d_36\">\n    <path d=\"M 49.633125 89.968672 \nL 69.163125 106.035494 \n\" clip-path=\"url(#p4d9e69b79b)\" style=\"fill: none; stroke-dasharray: 5.55,2.4; stroke-dashoffset: 0; stroke: #ff7f0e; stroke-width: 1.5\"/>\n   </g>\n   <g id=\"line2d_37\">\n    <path d=\"M 49.633125 47.810095 \nL 69.163125 42.408962 \n\" clip-path=\"url(#p4d9e69b79b)\" style=\"fill: none; stroke-dasharray: 9.6,2.4,1.5,2.4; stroke-dashoffset: 0; stroke: #2ca02c; stroke-width: 1.5\"/>\n   </g>\n   <g id=\"line2d_38\">\n    <path d=\"M 34.923295 13.5 \nL 44.646742 83.567538 \nL 54.370189 101.636303 \nL 64.093636 109.920753 \nL 73.817082 114.1186 \nL 83.540529 120.348382 \n\" clip-path=\"url(#p4d9e69b79b)\" style=\"fill: none; stroke: #1f77b4; stroke-width: 1.5; stroke-linecap: square\"/>\n   </g>\n   <g id=\"line2d_39\">\n    <path d=\"M 49.633125 89.968672 \nL 69.163125 106.035494 \nL 88.693125 110.03948 \n\" clip-path=\"url(#p4d9e69b79b)\" style=\"fill: none; stroke-dasharray: 5.55,2.4; stroke-dashoffset: 0; stroke: #ff7f0e; stroke-width: 1.5\"/>\n   </g>\n   <g id=\"line2d_40\">\n    <path d=\"M 49.633125 47.810095 \nL 69.163125 42.408962 \n\" clip-path=\"url(#p4d9e69b79b)\" style=\"fill: none; stroke-dasharray: 9.6,2.4,1.5,2.4; stroke-dashoffset: 0; stroke: #2ca02c; stroke-width: 1.5\"/>\n   </g>\n   <g id=\"line2d_41\">\n    <path d=\"M 34.923295 13.5 \nL 44.646742 83.567538 \nL 54.370189 101.636303 \nL 64.093636 109.920753 \nL 73.817082 114.1186 \nL 83.540529 120.348382 \n\" clip-path=\"url(#p4d9e69b79b)\" style=\"fill: none; stroke: #1f77b4; stroke-width: 1.5; stroke-linecap: square\"/>\n   </g>\n   <g id=\"line2d_42\">\n    <path d=\"M 49.633125 89.968672 \nL 69.163125 106.035494 \nL 88.693125 110.03948 \n\" clip-path=\"url(#p4d9e69b79b)\" style=\"fill: none; stroke-dasharray: 5.55,2.4; stroke-dashoffset: 0; stroke: #ff7f0e; stroke-width: 1.5\"/>\n   </g>\n   <g id=\"line2d_43\">\n    <path d=\"M 49.633125 47.810095 \nL 69.163125 42.408962 \nL 88.693125 43.231992 \n\" clip-path=\"url(#p4d9e69b79b)\" style=\"fill: none; stroke-dasharray: 9.6,2.4,1.5,2.4; stroke-dashoffset: 0; stroke: #2ca02c; stroke-width: 1.5\"/>\n   </g>\n   <g id=\"line2d_44\">\n    <path d=\"M 34.923295 13.5 \nL 44.646742 83.567538 \nL 54.370189 101.636303 \nL 64.093636 109.920753 \nL 73.817082 114.1186 \nL 83.540529 120.348382 \nL 93.263976 122.6657 \n\" clip-path=\"url(#p4d9e69b79b)\" style=\"fill: none; stroke: #1f77b4; stroke-width: 1.5; stroke-linecap: square\"/>\n   </g>\n   <g id=\"line2d_45\">\n    <path d=\"M 49.633125 89.968672 \nL 69.163125 106.035494 \nL 88.693125 110.03948 \n\" clip-path=\"url(#p4d9e69b79b)\" style=\"fill: none; stroke-dasharray: 5.55,2.4; stroke-dashoffset: 0; stroke: #ff7f0e; stroke-width: 1.5\"/>\n   </g>\n   <g id=\"line2d_46\">\n    <path d=\"M 49.633125 47.810095 \nL 69.163125 42.408962 \nL 88.693125 43.231992 \n\" clip-path=\"url(#p4d9e69b79b)\" style=\"fill: none; stroke-dasharray: 9.6,2.4,1.5,2.4; stroke-dashoffset: 0; stroke: #2ca02c; stroke-width: 1.5\"/>\n   </g>\n   <g id=\"line2d_47\">\n    <path d=\"M 34.923295 13.5 \nL 44.646742 83.567538 \nL 54.370189 101.636303 \nL 64.093636 109.920753 \nL 73.817082 114.1186 \nL 83.540529 120.348382 \nL 93.263976 122.6657 \nL 102.987423 125.181154 \n\" clip-path=\"url(#p4d9e69b79b)\" style=\"fill: none; stroke: #1f77b4; stroke-width: 1.5; stroke-linecap: square\"/>\n   </g>\n   <g id=\"line2d_48\">\n    <path d=\"M 49.633125 89.968672 \nL 69.163125 106.035494 \nL 88.693125 110.03948 \n\" clip-path=\"url(#p4d9e69b79b)\" style=\"fill: none; stroke-dasharray: 5.55,2.4; stroke-dashoffset: 0; stroke: #ff7f0e; stroke-width: 1.5\"/>\n   </g>\n   <g id=\"line2d_49\">\n    <path d=\"M 49.633125 47.810095 \nL 69.163125 42.408962 \nL 88.693125 43.231992 \n\" clip-path=\"url(#p4d9e69b79b)\" style=\"fill: none; stroke-dasharray: 9.6,2.4,1.5,2.4; stroke-dashoffset: 0; stroke: #2ca02c; stroke-width: 1.5\"/>\n   </g>\n   <g id=\"line2d_50\">\n    <path d=\"M 34.923295 13.5 \nL 44.646742 83.567538 \nL 54.370189 101.636303 \nL 64.093636 109.920753 \nL 73.817082 114.1186 \nL 83.540529 120.348382 \nL 93.263976 122.6657 \nL 102.987423 125.181154 \n\" clip-path=\"url(#p4d9e69b79b)\" style=\"fill: none; stroke: #1f77b4; stroke-width: 1.5; stroke-linecap: square\"/>\n   </g>\n   <g id=\"line2d_51\">\n    <path d=\"M 49.633125 89.968672 \nL 69.163125 106.035494 \nL 88.693125 110.03948 \nL 108.223125 120.521761 \n\" clip-path=\"url(#p4d9e69b79b)\" style=\"fill: none; stroke-dasharray: 5.55,2.4; stroke-dashoffset: 0; stroke: #ff7f0e; stroke-width: 1.5\"/>\n   </g>\n   <g id=\"line2d_52\">\n    <path d=\"M 49.633125 47.810095 \nL 69.163125 42.408962 \nL 88.693125 43.231992 \n\" clip-path=\"url(#p4d9e69b79b)\" style=\"fill: none; stroke-dasharray: 9.6,2.4,1.5,2.4; stroke-dashoffset: 0; stroke: #2ca02c; stroke-width: 1.5\"/>\n   </g>\n   <g id=\"line2d_53\">\n    <path d=\"M 34.923295 13.5 \nL 44.646742 83.567538 \nL 54.370189 101.636303 \nL 64.093636 109.920753 \nL 73.817082 114.1186 \nL 83.540529 120.348382 \nL 93.263976 122.6657 \nL 102.987423 125.181154 \n\" clip-path=\"url(#p4d9e69b79b)\" style=\"fill: none; stroke: #1f77b4; stroke-width: 1.5; stroke-linecap: square\"/>\n   </g>\n   <g id=\"line2d_54\">\n    <path d=\"M 49.633125 89.968672 \nL 69.163125 106.035494 \nL 88.693125 110.03948 \nL 108.223125 120.521761 \n\" clip-path=\"url(#p4d9e69b79b)\" style=\"fill: none; stroke-dasharray: 5.55,2.4; stroke-dashoffset: 0; stroke: #ff7f0e; stroke-width: 1.5\"/>\n   </g>\n   <g id=\"line2d_55\">\n    <path d=\"M 49.633125 47.810095 \nL 69.163125 42.408962 \nL 88.693125 43.231992 \nL 108.223125 38.139495 \n\" clip-path=\"url(#p4d9e69b79b)\" style=\"fill: none; stroke-dasharray: 9.6,2.4,1.5,2.4; stroke-dashoffset: 0; stroke: #2ca02c; stroke-width: 1.5\"/>\n   </g>\n   <g id=\"line2d_56\">\n    <path d=\"M 34.923295 13.5 \nL 44.646742 83.567538 \nL 54.370189 101.636303 \nL 64.093636 109.920753 \nL 73.817082 114.1186 \nL 83.540529 120.348382 \nL 93.263976 122.6657 \nL 102.987423 125.181154 \nL 112.71087 127.526316 \n\" clip-path=\"url(#p4d9e69b79b)\" style=\"fill: none; stroke: #1f77b4; stroke-width: 1.5; stroke-linecap: square\"/>\n   </g>\n   <g id=\"line2d_57\">\n    <path d=\"M 49.633125 89.968672 \nL 69.163125 106.035494 \nL 88.693125 110.03948 \nL 108.223125 120.521761 \n\" clip-path=\"url(#p4d9e69b79b)\" style=\"fill: none; stroke-dasharray: 5.55,2.4; stroke-dashoffset: 0; stroke: #ff7f0e; stroke-width: 1.5\"/>\n   </g>\n   <g id=\"line2d_58\">\n    <path d=\"M 49.633125 47.810095 \nL 69.163125 42.408962 \nL 88.693125 43.231992 \nL 108.223125 38.139495 \n\" clip-path=\"url(#p4d9e69b79b)\" style=\"fill: none; stroke-dasharray: 9.6,2.4,1.5,2.4; stroke-dashoffset: 0; stroke: #2ca02c; stroke-width: 1.5\"/>\n   </g>\n   <g id=\"line2d_59\">\n    <path d=\"M 34.923295 13.5 \nL 44.646742 83.567538 \nL 54.370189 101.636303 \nL 64.093636 109.920753 \nL 73.817082 114.1186 \nL 83.540529 120.348382 \nL 93.263976 122.6657 \nL 102.987423 125.181154 \nL 112.71087 127.526316 \nL 122.434316 128.23923 \n\" clip-path=\"url(#p4d9e69b79b)\" style=\"fill: none; stroke: #1f77b4; stroke-width: 1.5; stroke-linecap: square\"/>\n   </g>\n   <g id=\"line2d_60\">\n    <path d=\"M 49.633125 89.968672 \nL 69.163125 106.035494 \nL 88.693125 110.03948 \nL 108.223125 120.521761 \n\" clip-path=\"url(#p4d9e69b79b)\" style=\"fill: none; stroke-dasharray: 5.55,2.4; stroke-dashoffset: 0; stroke: #ff7f0e; stroke-width: 1.5\"/>\n   </g>\n   <g id=\"line2d_61\">\n    <path d=\"M 49.633125 47.810095 \nL 69.163125 42.408962 \nL 88.693125 43.231992 \nL 108.223125 38.139495 \n\" clip-path=\"url(#p4d9e69b79b)\" style=\"fill: none; stroke-dasharray: 9.6,2.4,1.5,2.4; stroke-dashoffset: 0; stroke: #2ca02c; stroke-width: 1.5\"/>\n   </g>\n   <g id=\"line2d_62\">\n    <path d=\"M 34.923295 13.5 \nL 44.646742 83.567538 \nL 54.370189 101.636303 \nL 64.093636 109.920753 \nL 73.817082 114.1186 \nL 83.540529 120.348382 \nL 93.263976 122.6657 \nL 102.987423 125.181154 \nL 112.71087 127.526316 \nL 122.434316 128.23923 \n\" clip-path=\"url(#p4d9e69b79b)\" style=\"fill: none; stroke: #1f77b4; stroke-width: 1.5; stroke-linecap: square\"/>\n   </g>\n   <g id=\"line2d_63\">\n    <path d=\"M 49.633125 89.968672 \nL 69.163125 106.035494 \nL 88.693125 110.03948 \nL 108.223125 120.521761 \nL 127.753125 120.228633 \n\" clip-path=\"url(#p4d9e69b79b)\" style=\"fill: none; stroke-dasharray: 5.55,2.4; stroke-dashoffset: 0; stroke: #ff7f0e; stroke-width: 1.5\"/>\n   </g>\n   <g id=\"line2d_64\">\n    <path d=\"M 49.633125 47.810095 \nL 69.163125 42.408962 \nL 88.693125 43.231992 \nL 108.223125 38.139495 \n\" clip-path=\"url(#p4d9e69b79b)\" style=\"fill: none; stroke-dasharray: 9.6,2.4,1.5,2.4; stroke-dashoffset: 0; stroke: #2ca02c; stroke-width: 1.5\"/>\n   </g>\n   <g id=\"line2d_65\">\n    <path d=\"M 34.923295 13.5 \nL 44.646742 83.567538 \nL 54.370189 101.636303 \nL 64.093636 109.920753 \nL 73.817082 114.1186 \nL 83.540529 120.348382 \nL 93.263976 122.6657 \nL 102.987423 125.181154 \nL 112.71087 127.526316 \nL 122.434316 128.23923 \n\" clip-path=\"url(#p4d9e69b79b)\" style=\"fill: none; stroke: #1f77b4; stroke-width: 1.5; stroke-linecap: square\"/>\n   </g>\n   <g id=\"line2d_66\">\n    <path d=\"M 49.633125 89.968672 \nL 69.163125 106.035494 \nL 88.693125 110.03948 \nL 108.223125 120.521761 \nL 127.753125 120.228633 \n\" clip-path=\"url(#p4d9e69b79b)\" style=\"fill: none; stroke-dasharray: 5.55,2.4; stroke-dashoffset: 0; stroke: #ff7f0e; stroke-width: 1.5\"/>\n   </g>\n   <g id=\"line2d_67\">\n    <path d=\"M 49.633125 47.810095 \nL 69.163125 42.408962 \nL 88.693125 43.231992 \nL 108.223125 38.139495 \nL 127.753125 39.528357 \n\" clip-path=\"url(#p4d9e69b79b)\" style=\"fill: none; stroke-dasharray: 9.6,2.4,1.5,2.4; stroke-dashoffset: 0; stroke: #2ca02c; stroke-width: 1.5\"/>\n   </g>\n   <g id=\"line2d_68\">\n    <path d=\"M 34.923295 13.5 \nL 44.646742 83.567538 \nL 54.370189 101.636303 \nL 64.093636 109.920753 \nL 73.817082 114.1186 \nL 83.540529 120.348382 \nL 93.263976 122.6657 \nL 102.987423 125.181154 \nL 112.71087 127.526316 \nL 122.434316 128.23923 \nL 132.157763 129.772041 \n\" clip-path=\"url(#p4d9e69b79b)\" style=\"fill: none; stroke: #1f77b4; stroke-width: 1.5; stroke-linecap: square\"/>\n   </g>\n   <g id=\"line2d_69\">\n    <path d=\"M 49.633125 89.968672 \nL 69.163125 106.035494 \nL 88.693125 110.03948 \nL 108.223125 120.521761 \nL 127.753125 120.228633 \n\" clip-path=\"url(#p4d9e69b79b)\" style=\"fill: none; stroke-dasharray: 5.55,2.4; stroke-dashoffset: 0; stroke: #ff7f0e; stroke-width: 1.5\"/>\n   </g>\n   <g id=\"line2d_70\">\n    <path d=\"M 49.633125 47.810095 \nL 69.163125 42.408962 \nL 88.693125 43.231992 \nL 108.223125 38.139495 \nL 127.753125 39.528357 \n\" clip-path=\"url(#p4d9e69b79b)\" style=\"fill: none; stroke-dasharray: 9.6,2.4,1.5,2.4; stroke-dashoffset: 0; stroke: #2ca02c; stroke-width: 1.5\"/>\n   </g>\n   <g id=\"line2d_71\">\n    <path d=\"M 34.923295 13.5 \nL 44.646742 83.567538 \nL 54.370189 101.636303 \nL 64.093636 109.920753 \nL 73.817082 114.1186 \nL 83.540529 120.348382 \nL 93.263976 122.6657 \nL 102.987423 125.181154 \nL 112.71087 127.526316 \nL 122.434316 128.23923 \nL 132.157763 129.772041 \nL 141.88121 132.301039 \n\" clip-path=\"url(#p4d9e69b79b)\" style=\"fill: none; stroke: #1f77b4; stroke-width: 1.5; stroke-linecap: square\"/>\n   </g>\n   <g id=\"line2d_72\">\n    <path d=\"M 49.633125 89.968672 \nL 69.163125 106.035494 \nL 88.693125 110.03948 \nL 108.223125 120.521761 \nL 127.753125 120.228633 \n\" clip-path=\"url(#p4d9e69b79b)\" style=\"fill: none; stroke-dasharray: 5.55,2.4; stroke-dashoffset: 0; stroke: #ff7f0e; stroke-width: 1.5\"/>\n   </g>\n   <g id=\"line2d_73\">\n    <path d=\"M 49.633125 47.810095 \nL 69.163125 42.408962 \nL 88.693125 43.231992 \nL 108.223125 38.139495 \nL 127.753125 39.528357 \n\" clip-path=\"url(#p4d9e69b79b)\" style=\"fill: none; stroke-dasharray: 9.6,2.4,1.5,2.4; stroke-dashoffset: 0; stroke: #2ca02c; stroke-width: 1.5\"/>\n   </g>\n   <g id=\"line2d_74\">\n    <path d=\"M 34.923295 13.5 \nL 44.646742 83.567538 \nL 54.370189 101.636303 \nL 64.093636 109.920753 \nL 73.817082 114.1186 \nL 83.540529 120.348382 \nL 93.263976 122.6657 \nL 102.987423 125.181154 \nL 112.71087 127.526316 \nL 122.434316 128.23923 \nL 132.157763 129.772041 \nL 141.88121 132.301039 \n\" clip-path=\"url(#p4d9e69b79b)\" style=\"fill: none; stroke: #1f77b4; stroke-width: 1.5; stroke-linecap: square\"/>\n   </g>\n   <g id=\"line2d_75\">\n    <path d=\"M 49.633125 89.968672 \nL 69.163125 106.035494 \nL 88.693125 110.03948 \nL 108.223125 120.521761 \nL 127.753125 120.228633 \nL 147.283125 124.704377 \n\" clip-path=\"url(#p4d9e69b79b)\" style=\"fill: none; stroke-dasharray: 5.55,2.4; stroke-dashoffset: 0; stroke: #ff7f0e; stroke-width: 1.5\"/>\n   </g>\n   <g id=\"line2d_76\">\n    <path d=\"M 49.633125 47.810095 \nL 69.163125 42.408962 \nL 88.693125 43.231992 \nL 108.223125 38.139495 \nL 127.753125 39.528357 \n\" clip-path=\"url(#p4d9e69b79b)\" style=\"fill: none; stroke-dasharray: 9.6,2.4,1.5,2.4; stroke-dashoffset: 0; stroke: #2ca02c; stroke-width: 1.5\"/>\n   </g>\n   <g id=\"line2d_77\">\n    <path d=\"M 34.923295 13.5 \nL 44.646742 83.567538 \nL 54.370189 101.636303 \nL 64.093636 109.920753 \nL 73.817082 114.1186 \nL 83.540529 120.348382 \nL 93.263976 122.6657 \nL 102.987423 125.181154 \nL 112.71087 127.526316 \nL 122.434316 128.23923 \nL 132.157763 129.772041 \nL 141.88121 132.301039 \n\" clip-path=\"url(#p4d9e69b79b)\" style=\"fill: none; stroke: #1f77b4; stroke-width: 1.5; stroke-linecap: square\"/>\n   </g>\n   <g id=\"line2d_78\">\n    <path d=\"M 49.633125 89.968672 \nL 69.163125 106.035494 \nL 88.693125 110.03948 \nL 108.223125 120.521761 \nL 127.753125 120.228633 \nL 147.283125 124.704377 \n\" clip-path=\"url(#p4d9e69b79b)\" style=\"fill: none; stroke-dasharray: 5.55,2.4; stroke-dashoffset: 0; stroke: #ff7f0e; stroke-width: 1.5\"/>\n   </g>\n   <g id=\"line2d_79\">\n    <path d=\"M 49.633125 47.810095 \nL 69.163125 42.408962 \nL 88.693125 43.231992 \nL 108.223125 38.139495 \nL 127.753125 39.528357 \nL 147.283125 37.496502 \n\" clip-path=\"url(#p4d9e69b79b)\" style=\"fill: none; stroke-dasharray: 9.6,2.4,1.5,2.4; stroke-dashoffset: 0; stroke: #2ca02c; stroke-width: 1.5\"/>\n   </g>\n   <g id=\"line2d_80\">\n    <path d=\"M 34.923295 13.5 \nL 44.646742 83.567538 \nL 54.370189 101.636303 \nL 64.093636 109.920753 \nL 73.817082 114.1186 \nL 83.540529 120.348382 \nL 93.263976 122.6657 \nL 102.987423 125.181154 \nL 112.71087 127.526316 \nL 122.434316 128.23923 \nL 132.157763 129.772041 \nL 141.88121 132.301039 \nL 151.604657 132.057917 \n\" clip-path=\"url(#p4d9e69b79b)\" style=\"fill: none; stroke: #1f77b4; stroke-width: 1.5; stroke-linecap: square\"/>\n   </g>\n   <g id=\"line2d_81\">\n    <path d=\"M 49.633125 89.968672 \nL 69.163125 106.035494 \nL 88.693125 110.03948 \nL 108.223125 120.521761 \nL 127.753125 120.228633 \nL 147.283125 124.704377 \n\" clip-path=\"url(#p4d9e69b79b)\" style=\"fill: none; stroke-dasharray: 5.55,2.4; stroke-dashoffset: 0; stroke: #ff7f0e; stroke-width: 1.5\"/>\n   </g>\n   <g id=\"line2d_82\">\n    <path d=\"M 49.633125 47.810095 \nL 69.163125 42.408962 \nL 88.693125 43.231992 \nL 108.223125 38.139495 \nL 127.753125 39.528357 \nL 147.283125 37.496502 \n\" clip-path=\"url(#p4d9e69b79b)\" style=\"fill: none; stroke-dasharray: 9.6,2.4,1.5,2.4; stroke-dashoffset: 0; stroke: #2ca02c; stroke-width: 1.5\"/>\n   </g>\n   <g id=\"line2d_83\">\n    <path d=\"M 34.923295 13.5 \nL 44.646742 83.567538 \nL 54.370189 101.636303 \nL 64.093636 109.920753 \nL 73.817082 114.1186 \nL 83.540529 120.348382 \nL 93.263976 122.6657 \nL 102.987423 125.181154 \nL 112.71087 127.526316 \nL 122.434316 128.23923 \nL 132.157763 129.772041 \nL 141.88121 132.301039 \nL 151.604657 132.057917 \nL 161.328104 135.090063 \n\" clip-path=\"url(#p4d9e69b79b)\" style=\"fill: none; stroke: #1f77b4; stroke-width: 1.5; stroke-linecap: square\"/>\n   </g>\n   <g id=\"line2d_84\">\n    <path d=\"M 49.633125 89.968672 \nL 69.163125 106.035494 \nL 88.693125 110.03948 \nL 108.223125 120.521761 \nL 127.753125 120.228633 \nL 147.283125 124.704377 \n\" clip-path=\"url(#p4d9e69b79b)\" style=\"fill: none; stroke-dasharray: 5.55,2.4; stroke-dashoffset: 0; stroke: #ff7f0e; stroke-width: 1.5\"/>\n   </g>\n   <g id=\"line2d_85\">\n    <path d=\"M 49.633125 47.810095 \nL 69.163125 42.408962 \nL 88.693125 43.231992 \nL 108.223125 38.139495 \nL 127.753125 39.528357 \nL 147.283125 37.496502 \n\" clip-path=\"url(#p4d9e69b79b)\" style=\"fill: none; stroke-dasharray: 9.6,2.4,1.5,2.4; stroke-dashoffset: 0; stroke: #2ca02c; stroke-width: 1.5\"/>\n   </g>\n   <g id=\"line2d_86\">\n    <path d=\"M 34.923295 13.5 \nL 44.646742 83.567538 \nL 54.370189 101.636303 \nL 64.093636 109.920753 \nL 73.817082 114.1186 \nL 83.540529 120.348382 \nL 93.263976 122.6657 \nL 102.987423 125.181154 \nL 112.71087 127.526316 \nL 122.434316 128.23923 \nL 132.157763 129.772041 \nL 141.88121 132.301039 \nL 151.604657 132.057917 \nL 161.328104 135.090063 \n\" clip-path=\"url(#p4d9e69b79b)\" style=\"fill: none; stroke: #1f77b4; stroke-width: 1.5; stroke-linecap: square\"/>\n   </g>\n   <g id=\"line2d_87\">\n    <path d=\"M 49.633125 89.968672 \nL 69.163125 106.035494 \nL 88.693125 110.03948 \nL 108.223125 120.521761 \nL 127.753125 120.228633 \nL 147.283125 124.704377 \nL 166.813125 126.852528 \n\" clip-path=\"url(#p4d9e69b79b)\" style=\"fill: none; stroke-dasharray: 5.55,2.4; stroke-dashoffset: 0; stroke: #ff7f0e; stroke-width: 1.5\"/>\n   </g>\n   <g id=\"line2d_88\">\n    <path d=\"M 49.633125 47.810095 \nL 69.163125 42.408962 \nL 88.693125 43.231992 \nL 108.223125 38.139495 \nL 127.753125 39.528357 \nL 147.283125 37.496502 \n\" clip-path=\"url(#p4d9e69b79b)\" style=\"fill: none; stroke-dasharray: 9.6,2.4,1.5,2.4; stroke-dashoffset: 0; stroke: #2ca02c; stroke-width: 1.5\"/>\n   </g>\n   <g id=\"line2d_89\">\n    <path d=\"M 34.923295 13.5 \nL 44.646742 83.567538 \nL 54.370189 101.636303 \nL 64.093636 109.920753 \nL 73.817082 114.1186 \nL 83.540529 120.348382 \nL 93.263976 122.6657 \nL 102.987423 125.181154 \nL 112.71087 127.526316 \nL 122.434316 128.23923 \nL 132.157763 129.772041 \nL 141.88121 132.301039 \nL 151.604657 132.057917 \nL 161.328104 135.090063 \n\" clip-path=\"url(#p4d9e69b79b)\" style=\"fill: none; stroke: #1f77b4; stroke-width: 1.5; stroke-linecap: square\"/>\n   </g>\n   <g id=\"line2d_90\">\n    <path d=\"M 49.633125 89.968672 \nL 69.163125 106.035494 \nL 88.693125 110.03948 \nL 108.223125 120.521761 \nL 127.753125 120.228633 \nL 147.283125 124.704377 \nL 166.813125 126.852528 \n\" clip-path=\"url(#p4d9e69b79b)\" style=\"fill: none; stroke-dasharray: 5.55,2.4; stroke-dashoffset: 0; stroke: #ff7f0e; stroke-width: 1.5\"/>\n   </g>\n   <g id=\"line2d_91\">\n    <path d=\"M 49.633125 47.810095 \nL 69.163125 42.408962 \nL 88.693125 43.231992 \nL 108.223125 38.139495 \nL 127.753125 39.528357 \nL 147.283125 37.496502 \nL 166.813125 36.519155 \n\" clip-path=\"url(#p4d9e69b79b)\" style=\"fill: none; stroke-dasharray: 9.6,2.4,1.5,2.4; stroke-dashoffset: 0; stroke: #2ca02c; stroke-width: 1.5\"/>\n   </g>\n   <g id=\"line2d_92\">\n    <path d=\"M 34.923295 13.5 \nL 44.646742 83.567538 \nL 54.370189 101.636303 \nL 64.093636 109.920753 \nL 73.817082 114.1186 \nL 83.540529 120.348382 \nL 93.263976 122.6657 \nL 102.987423 125.181154 \nL 112.71087 127.526316 \nL 122.434316 128.23923 \nL 132.157763 129.772041 \nL 141.88121 132.301039 \nL 151.604657 132.057917 \nL 161.328104 135.090063 \nL 171.051551 134.42645 \n\" clip-path=\"url(#p4d9e69b79b)\" style=\"fill: none; stroke: #1f77b4; stroke-width: 1.5; stroke-linecap: square\"/>\n   </g>\n   <g id=\"line2d_93\">\n    <path d=\"M 49.633125 89.968672 \nL 69.163125 106.035494 \nL 88.693125 110.03948 \nL 108.223125 120.521761 \nL 127.753125 120.228633 \nL 147.283125 124.704377 \nL 166.813125 126.852528 \n\" clip-path=\"url(#p4d9e69b79b)\" style=\"fill: none; stroke-dasharray: 5.55,2.4; stroke-dashoffset: 0; stroke: #ff7f0e; stroke-width: 1.5\"/>\n   </g>\n   <g id=\"line2d_94\">\n    <path d=\"M 49.633125 47.810095 \nL 69.163125 42.408962 \nL 88.693125 43.231992 \nL 108.223125 38.139495 \nL 127.753125 39.528357 \nL 147.283125 37.496502 \nL 166.813125 36.519155 \n\" clip-path=\"url(#p4d9e69b79b)\" style=\"fill: none; stroke-dasharray: 9.6,2.4,1.5,2.4; stroke-dashoffset: 0; stroke: #2ca02c; stroke-width: 1.5\"/>\n   </g>\n   <g id=\"line2d_95\">\n    <path d=\"M 34.923295 13.5 \nL 44.646742 83.567538 \nL 54.370189 101.636303 \nL 64.093636 109.920753 \nL 73.817082 114.1186 \nL 83.540529 120.348382 \nL 93.263976 122.6657 \nL 102.987423 125.181154 \nL 112.71087 127.526316 \nL 122.434316 128.23923 \nL 132.157763 129.772041 \nL 141.88121 132.301039 \nL 151.604657 132.057917 \nL 161.328104 135.090063 \nL 171.051551 134.42645 \nL 180.774997 136.180285 \n\" clip-path=\"url(#p4d9e69b79b)\" style=\"fill: none; stroke: #1f77b4; stroke-width: 1.5; stroke-linecap: square\"/>\n   </g>\n   <g id=\"line2d_96\">\n    <path d=\"M 49.633125 89.968672 \nL 69.163125 106.035494 \nL 88.693125 110.03948 \nL 108.223125 120.521761 \nL 127.753125 120.228633 \nL 147.283125 124.704377 \nL 166.813125 126.852528 \n\" clip-path=\"url(#p4d9e69b79b)\" style=\"fill: none; stroke-dasharray: 5.55,2.4; stroke-dashoffset: 0; stroke: #ff7f0e; stroke-width: 1.5\"/>\n   </g>\n   <g id=\"line2d_97\">\n    <path d=\"M 49.633125 47.810095 \nL 69.163125 42.408962 \nL 88.693125 43.231992 \nL 108.223125 38.139495 \nL 127.753125 39.528357 \nL 147.283125 37.496502 \nL 166.813125 36.519155 \n\" clip-path=\"url(#p4d9e69b79b)\" style=\"fill: none; stroke-dasharray: 9.6,2.4,1.5,2.4; stroke-dashoffset: 0; stroke: #2ca02c; stroke-width: 1.5\"/>\n   </g>\n   <g id=\"line2d_98\">\n    <path d=\"M 34.923295 13.5 \nL 44.646742 83.567538 \nL 54.370189 101.636303 \nL 64.093636 109.920753 \nL 73.817082 114.1186 \nL 83.540529 120.348382 \nL 93.263976 122.6657 \nL 102.987423 125.181154 \nL 112.71087 127.526316 \nL 122.434316 128.23923 \nL 132.157763 129.772041 \nL 141.88121 132.301039 \nL 151.604657 132.057917 \nL 161.328104 135.090063 \nL 171.051551 134.42645 \nL 180.774997 136.180285 \n\" clip-path=\"url(#p4d9e69b79b)\" style=\"fill: none; stroke: #1f77b4; stroke-width: 1.5; stroke-linecap: square\"/>\n   </g>\n   <g id=\"line2d_99\">\n    <path d=\"M 49.633125 89.968672 \nL 69.163125 106.035494 \nL 88.693125 110.03948 \nL 108.223125 120.521761 \nL 127.753125 120.228633 \nL 147.283125 124.704377 \nL 166.813125 126.852528 \nL 186.343125 127.860173 \n\" clip-path=\"url(#p4d9e69b79b)\" style=\"fill: none; stroke-dasharray: 5.55,2.4; stroke-dashoffset: 0; stroke: #ff7f0e; stroke-width: 1.5\"/>\n   </g>\n   <g id=\"line2d_100\">\n    <path d=\"M 49.633125 47.810095 \nL 69.163125 42.408962 \nL 88.693125 43.231992 \nL 108.223125 38.139495 \nL 127.753125 39.528357 \nL 147.283125 37.496502 \nL 166.813125 36.519155 \n\" clip-path=\"url(#p4d9e69b79b)\" style=\"fill: none; stroke-dasharray: 9.6,2.4,1.5,2.4; stroke-dashoffset: 0; stroke: #2ca02c; stroke-width: 1.5\"/>\n   </g>\n   <g id=\"line2d_101\">\n    <path d=\"M 34.923295 13.5 \nL 44.646742 83.567538 \nL 54.370189 101.636303 \nL 64.093636 109.920753 \nL 73.817082 114.1186 \nL 83.540529 120.348382 \nL 93.263976 122.6657 \nL 102.987423 125.181154 \nL 112.71087 127.526316 \nL 122.434316 128.23923 \nL 132.157763 129.772041 \nL 141.88121 132.301039 \nL 151.604657 132.057917 \nL 161.328104 135.090063 \nL 171.051551 134.42645 \nL 180.774997 136.180285 \n\" clip-path=\"url(#p4d9e69b79b)\" style=\"fill: none; stroke: #1f77b4; stroke-width: 1.5; stroke-linecap: square\"/>\n   </g>\n   <g id=\"line2d_102\">\n    <path d=\"M 49.633125 89.968672 \nL 69.163125 106.035494 \nL 88.693125 110.03948 \nL 108.223125 120.521761 \nL 127.753125 120.228633 \nL 147.283125 124.704377 \nL 166.813125 126.852528 \nL 186.343125 127.860173 \n\" clip-path=\"url(#p4d9e69b79b)\" style=\"fill: none; stroke-dasharray: 5.55,2.4; stroke-dashoffset: 0; stroke: #ff7f0e; stroke-width: 1.5\"/>\n   </g>\n   <g id=\"line2d_103\">\n    <path d=\"M 49.633125 47.810095 \nL 69.163125 42.408962 \nL 88.693125 43.231992 \nL 108.223125 38.139495 \nL 127.753125 39.528357 \nL 147.283125 37.496502 \nL 166.813125 36.519155 \nL 186.343125 36.750632 \n\" clip-path=\"url(#p4d9e69b79b)\" style=\"fill: none; stroke-dasharray: 9.6,2.4,1.5,2.4; stroke-dashoffset: 0; stroke: #2ca02c; stroke-width: 1.5\"/>\n   </g>\n   <g id=\"line2d_104\">\n    <path d=\"M 34.923295 13.5 \nL 44.646742 83.567538 \nL 54.370189 101.636303 \nL 64.093636 109.920753 \nL 73.817082 114.1186 \nL 83.540529 120.348382 \nL 93.263976 122.6657 \nL 102.987423 125.181154 \nL 112.71087 127.526316 \nL 122.434316 128.23923 \nL 132.157763 129.772041 \nL 141.88121 132.301039 \nL 151.604657 132.057917 \nL 161.328104 135.090063 \nL 171.051551 134.42645 \nL 180.774997 136.180285 \nL 190.498444 135.871109 \n\" clip-path=\"url(#p4d9e69b79b)\" style=\"fill: none; stroke: #1f77b4; stroke-width: 1.5; stroke-linecap: square\"/>\n   </g>\n   <g id=\"line2d_105\">\n    <path d=\"M 49.633125 89.968672 \nL 69.163125 106.035494 \nL 88.693125 110.03948 \nL 108.223125 120.521761 \nL 127.753125 120.228633 \nL 147.283125 124.704377 \nL 166.813125 126.852528 \nL 186.343125 127.860173 \n\" clip-path=\"url(#p4d9e69b79b)\" style=\"fill: none; stroke-dasharray: 5.55,2.4; stroke-dashoffset: 0; stroke: #ff7f0e; stroke-width: 1.5\"/>\n   </g>\n   <g id=\"line2d_106\">\n    <path d=\"M 49.633125 47.810095 \nL 69.163125 42.408962 \nL 88.693125 43.231992 \nL 108.223125 38.139495 \nL 127.753125 39.528357 \nL 147.283125 37.496502 \nL 166.813125 36.519155 \nL 186.343125 36.750632 \n\" clip-path=\"url(#p4d9e69b79b)\" style=\"fill: none; stroke-dasharray: 9.6,2.4,1.5,2.4; stroke-dashoffset: 0; stroke: #2ca02c; stroke-width: 1.5\"/>\n   </g>\n   <g id=\"line2d_107\">\n    <path d=\"M 34.923295 13.5 \nL 44.646742 83.567538 \nL 54.370189 101.636303 \nL 64.093636 109.920753 \nL 73.817082 114.1186 \nL 83.540529 120.348382 \nL 93.263976 122.6657 \nL 102.987423 125.181154 \nL 112.71087 127.526316 \nL 122.434316 128.23923 \nL 132.157763 129.772041 \nL 141.88121 132.301039 \nL 151.604657 132.057917 \nL 161.328104 135.090063 \nL 171.051551 134.42645 \nL 180.774997 136.180285 \nL 190.498444 135.871109 \nL 200.221891 138.169075 \n\" clip-path=\"url(#p4d9e69b79b)\" style=\"fill: none; stroke: #1f77b4; stroke-width: 1.5; stroke-linecap: square\"/>\n   </g>\n   <g id=\"line2d_108\">\n    <path d=\"M 49.633125 89.968672 \nL 69.163125 106.035494 \nL 88.693125 110.03948 \nL 108.223125 120.521761 \nL 127.753125 120.228633 \nL 147.283125 124.704377 \nL 166.813125 126.852528 \nL 186.343125 127.860173 \n\" clip-path=\"url(#p4d9e69b79b)\" style=\"fill: none; stroke-dasharray: 5.55,2.4; stroke-dashoffset: 0; stroke: #ff7f0e; stroke-width: 1.5\"/>\n   </g>\n   <g id=\"line2d_109\">\n    <path d=\"M 49.633125 47.810095 \nL 69.163125 42.408962 \nL 88.693125 43.231992 \nL 108.223125 38.139495 \nL 127.753125 39.528357 \nL 147.283125 37.496502 \nL 166.813125 36.519155 \nL 186.343125 36.750632 \n\" clip-path=\"url(#p4d9e69b79b)\" style=\"fill: none; stroke-dasharray: 9.6,2.4,1.5,2.4; stroke-dashoffset: 0; stroke: #2ca02c; stroke-width: 1.5\"/>\n   </g>\n   <g id=\"line2d_110\">\n    <path d=\"M 34.923295 13.5 \nL 44.646742 83.567538 \nL 54.370189 101.636303 \nL 64.093636 109.920753 \nL 73.817082 114.1186 \nL 83.540529 120.348382 \nL 93.263976 122.6657 \nL 102.987423 125.181154 \nL 112.71087 127.526316 \nL 122.434316 128.23923 \nL 132.157763 129.772041 \nL 141.88121 132.301039 \nL 151.604657 132.057917 \nL 161.328104 135.090063 \nL 171.051551 134.42645 \nL 180.774997 136.180285 \nL 190.498444 135.871109 \nL 200.221891 138.169075 \n\" clip-path=\"url(#p4d9e69b79b)\" style=\"fill: none; stroke: #1f77b4; stroke-width: 1.5; stroke-linecap: square\"/>\n   </g>\n   <g id=\"line2d_111\">\n    <path d=\"M 49.633125 89.968672 \nL 69.163125 106.035494 \nL 88.693125 110.03948 \nL 108.223125 120.521761 \nL 127.753125 120.228633 \nL 147.283125 124.704377 \nL 166.813125 126.852528 \nL 186.343125 127.860173 \nL 205.873125 128.329233 \n\" clip-path=\"url(#p4d9e69b79b)\" style=\"fill: none; stroke-dasharray: 5.55,2.4; stroke-dashoffset: 0; stroke: #ff7f0e; stroke-width: 1.5\"/>\n   </g>\n   <g id=\"line2d_112\">\n    <path d=\"M 49.633125 47.810095 \nL 69.163125 42.408962 \nL 88.693125 43.231992 \nL 108.223125 38.139495 \nL 127.753125 39.528357 \nL 147.283125 37.496502 \nL 166.813125 36.519155 \nL 186.343125 36.750632 \n\" clip-path=\"url(#p4d9e69b79b)\" style=\"fill: none; stroke-dasharray: 9.6,2.4,1.5,2.4; stroke-dashoffset: 0; stroke: #2ca02c; stroke-width: 1.5\"/>\n   </g>\n   <g id=\"line2d_113\">\n    <path d=\"M 34.923295 13.5 \nL 44.646742 83.567538 \nL 54.370189 101.636303 \nL 64.093636 109.920753 \nL 73.817082 114.1186 \nL 83.540529 120.348382 \nL 93.263976 122.6657 \nL 102.987423 125.181154 \nL 112.71087 127.526316 \nL 122.434316 128.23923 \nL 132.157763 129.772041 \nL 141.88121 132.301039 \nL 151.604657 132.057917 \nL 161.328104 135.090063 \nL 171.051551 134.42645 \nL 180.774997 136.180285 \nL 190.498444 135.871109 \nL 200.221891 138.169075 \n\" clip-path=\"url(#p4d9e69b79b)\" style=\"fill: none; stroke: #1f77b4; stroke-width: 1.5; stroke-linecap: square\"/>\n   </g>\n   <g id=\"line2d_114\">\n    <path d=\"M 49.633125 89.968672 \nL 69.163125 106.035494 \nL 88.693125 110.03948 \nL 108.223125 120.521761 \nL 127.753125 120.228633 \nL 147.283125 124.704377 \nL 166.813125 126.852528 \nL 186.343125 127.860173 \nL 205.873125 128.329233 \n\" clip-path=\"url(#p4d9e69b79b)\" style=\"fill: none; stroke-dasharray: 5.55,2.4; stroke-dashoffset: 0; stroke: #ff7f0e; stroke-width: 1.5\"/>\n   </g>\n   <g id=\"line2d_115\">\n    <path d=\"M 49.633125 47.810095 \nL 69.163125 42.408962 \nL 88.693125 43.231992 \nL 108.223125 38.139495 \nL 127.753125 39.528357 \nL 147.283125 37.496502 \nL 166.813125 36.519155 \nL 186.343125 36.750632 \nL 205.873125 36.261958 \n\" clip-path=\"url(#p4d9e69b79b)\" style=\"fill: none; stroke-dasharray: 9.6,2.4,1.5,2.4; stroke-dashoffset: 0; stroke: #2ca02c; stroke-width: 1.5\"/>\n   </g>\n   <g id=\"line2d_116\">\n    <path d=\"M 34.923295 13.5 \nL 44.646742 83.567538 \nL 54.370189 101.636303 \nL 64.093636 109.920753 \nL 73.817082 114.1186 \nL 83.540529 120.348382 \nL 93.263976 122.6657 \nL 102.987423 125.181154 \nL 112.71087 127.526316 \nL 122.434316 128.23923 \nL 132.157763 129.772041 \nL 141.88121 132.301039 \nL 151.604657 132.057917 \nL 161.328104 135.090063 \nL 171.051551 134.42645 \nL 180.774997 136.180285 \nL 190.498444 135.871109 \nL 200.221891 138.169075 \nL 209.945338 136.5073 \n\" clip-path=\"url(#p4d9e69b79b)\" style=\"fill: none; stroke: #1f77b4; stroke-width: 1.5; stroke-linecap: square\"/>\n   </g>\n   <g id=\"line2d_117\">\n    <path d=\"M 49.633125 89.968672 \nL 69.163125 106.035494 \nL 88.693125 110.03948 \nL 108.223125 120.521761 \nL 127.753125 120.228633 \nL 147.283125 124.704377 \nL 166.813125 126.852528 \nL 186.343125 127.860173 \nL 205.873125 128.329233 \n\" clip-path=\"url(#p4d9e69b79b)\" style=\"fill: none; stroke-dasharray: 5.55,2.4; stroke-dashoffset: 0; stroke: #ff7f0e; stroke-width: 1.5\"/>\n   </g>\n   <g id=\"line2d_118\">\n    <path d=\"M 49.633125 47.810095 \nL 69.163125 42.408962 \nL 88.693125 43.231992 \nL 108.223125 38.139495 \nL 127.753125 39.528357 \nL 147.283125 37.496502 \nL 166.813125 36.519155 \nL 186.343125 36.750632 \nL 205.873125 36.261958 \n\" clip-path=\"url(#p4d9e69b79b)\" style=\"fill: none; stroke-dasharray: 9.6,2.4,1.5,2.4; stroke-dashoffset: 0; stroke: #2ca02c; stroke-width: 1.5\"/>\n   </g>\n   <g id=\"line2d_119\">\n    <path d=\"M 34.923295 13.5 \nL 44.646742 83.567538 \nL 54.370189 101.636303 \nL 64.093636 109.920753 \nL 73.817082 114.1186 \nL 83.540529 120.348382 \nL 93.263976 122.6657 \nL 102.987423 125.181154 \nL 112.71087 127.526316 \nL 122.434316 128.23923 \nL 132.157763 129.772041 \nL 141.88121 132.301039 \nL 151.604657 132.057917 \nL 161.328104 135.090063 \nL 171.051551 134.42645 \nL 180.774997 136.180285 \nL 190.498444 135.871109 \nL 200.221891 138.169075 \nL 209.945338 136.5073 \nL 219.668785 139.5 \n\" clip-path=\"url(#p4d9e69b79b)\" style=\"fill: none; stroke: #1f77b4; stroke-width: 1.5; stroke-linecap: square\"/>\n   </g>\n   <g id=\"line2d_120\">\n    <path d=\"M 49.633125 89.968672 \nL 69.163125 106.035494 \nL 88.693125 110.03948 \nL 108.223125 120.521761 \nL 127.753125 120.228633 \nL 147.283125 124.704377 \nL 166.813125 126.852528 \nL 186.343125 127.860173 \nL 205.873125 128.329233 \n\" clip-path=\"url(#p4d9e69b79b)\" style=\"fill: none; stroke-dasharray: 5.55,2.4; stroke-dashoffset: 0; stroke: #ff7f0e; stroke-width: 1.5\"/>\n   </g>\n   <g id=\"line2d_121\">\n    <path d=\"M 49.633125 47.810095 \nL 69.163125 42.408962 \nL 88.693125 43.231992 \nL 108.223125 38.139495 \nL 127.753125 39.528357 \nL 147.283125 37.496502 \nL 166.813125 36.519155 \nL 186.343125 36.750632 \nL 205.873125 36.261958 \n\" clip-path=\"url(#p4d9e69b79b)\" style=\"fill: none; stroke-dasharray: 9.6,2.4,1.5,2.4; stroke-dashoffset: 0; stroke: #2ca02c; stroke-width: 1.5\"/>\n   </g>\n   <g id=\"line2d_122\">\n    <path d=\"M 34.923295 13.5 \nL 44.646742 83.567538 \nL 54.370189 101.636303 \nL 64.093636 109.920753 \nL 73.817082 114.1186 \nL 83.540529 120.348382 \nL 93.263976 122.6657 \nL 102.987423 125.181154 \nL 112.71087 127.526316 \nL 122.434316 128.23923 \nL 132.157763 129.772041 \nL 141.88121 132.301039 \nL 151.604657 132.057917 \nL 161.328104 135.090063 \nL 171.051551 134.42645 \nL 180.774997 136.180285 \nL 190.498444 135.871109 \nL 200.221891 138.169075 \nL 209.945338 136.5073 \nL 219.668785 139.5 \n\" clip-path=\"url(#p4d9e69b79b)\" style=\"fill: none; stroke: #1f77b4; stroke-width: 1.5; stroke-linecap: square\"/>\n   </g>\n   <g id=\"line2d_123\">\n    <path d=\"M 49.633125 89.968672 \nL 69.163125 106.035494 \nL 88.693125 110.03948 \nL 108.223125 120.521761 \nL 127.753125 120.228633 \nL 147.283125 124.704377 \nL 166.813125 126.852528 \nL 186.343125 127.860173 \nL 205.873125 128.329233 \nL 225.403125 128.545532 \n\" clip-path=\"url(#p4d9e69b79b)\" style=\"fill: none; stroke-dasharray: 5.55,2.4; stroke-dashoffset: 0; stroke: #ff7f0e; stroke-width: 1.5\"/>\n   </g>\n   <g id=\"line2d_124\">\n    <path d=\"M 49.633125 47.810095 \nL 69.163125 42.408962 \nL 88.693125 43.231992 \nL 108.223125 38.139495 \nL 127.753125 39.528357 \nL 147.283125 37.496502 \nL 166.813125 36.519155 \nL 186.343125 36.750632 \nL 205.873125 36.261958 \n\" clip-path=\"url(#p4d9e69b79b)\" style=\"fill: none; stroke-dasharray: 9.6,2.4,1.5,2.4; stroke-dashoffset: 0; stroke: #2ca02c; stroke-width: 1.5\"/>\n   </g>\n   <g id=\"line2d_125\">\n    <path d=\"M 34.923295 13.5 \nL 44.646742 83.567538 \nL 54.370189 101.636303 \nL 64.093636 109.920753 \nL 73.817082 114.1186 \nL 83.540529 120.348382 \nL 93.263976 122.6657 \nL 102.987423 125.181154 \nL 112.71087 127.526316 \nL 122.434316 128.23923 \nL 132.157763 129.772041 \nL 141.88121 132.301039 \nL 151.604657 132.057917 \nL 161.328104 135.090063 \nL 171.051551 134.42645 \nL 180.774997 136.180285 \nL 190.498444 135.871109 \nL 200.221891 138.169075 \nL 209.945338 136.5073 \nL 219.668785 139.5 \n\" clip-path=\"url(#p4d9e69b79b)\" style=\"fill: none; stroke: #1f77b4; stroke-width: 1.5; stroke-linecap: square\"/>\n   </g>\n   <g id=\"line2d_126\">\n    <path d=\"M 49.633125 89.968672 \nL 69.163125 106.035494 \nL 88.693125 110.03948 \nL 108.223125 120.521761 \nL 127.753125 120.228633 \nL 147.283125 124.704377 \nL 166.813125 126.852528 \nL 186.343125 127.860173 \nL 205.873125 128.329233 \nL 225.403125 128.545532 \n\" clip-path=\"url(#p4d9e69b79b)\" style=\"fill: none; stroke-dasharray: 5.55,2.4; stroke-dashoffset: 0; stroke: #ff7f0e; stroke-width: 1.5\"/>\n   </g>\n   <g id=\"line2d_127\">\n    <path d=\"M 49.633125 47.810095 \nL 69.163125 42.408962 \nL 88.693125 43.231992 \nL 108.223125 38.139495 \nL 127.753125 39.528357 \nL 147.283125 37.496502 \nL 166.813125 36.519155 \nL 186.343125 36.750632 \nL 205.873125 36.261958 \nL 225.403125 37.136427 \n\" clip-path=\"url(#p4d9e69b79b)\" style=\"fill: none; stroke-dasharray: 9.6,2.4,1.5,2.4; stroke-dashoffset: 0; stroke: #2ca02c; stroke-width: 1.5\"/>\n   </g>\n   <g id=\"patch_3\">\n    <path d=\"M 30.103125 145.8 \nL 30.103125 7.2 \n\" style=\"fill: none; stroke: #000000; stroke-width: 0.8; stroke-linejoin: miter; stroke-linecap: square\"/>\n   </g>\n   <g id=\"patch_4\">\n    <path d=\"M 225.403125 145.8 \nL 225.403125 7.2 \n\" style=\"fill: none; stroke: #000000; stroke-width: 0.8; stroke-linejoin: miter; stroke-linecap: square\"/>\n   </g>\n   <g id=\"patch_5\">\n    <path d=\"M 30.103125 145.8 \nL 225.403125 145.8 \n\" style=\"fill: none; stroke: #000000; stroke-width: 0.8; stroke-linejoin: miter; stroke-linecap: square\"/>\n   </g>\n   <g id=\"patch_6\">\n    <path d=\"M 30.103125 7.2 \nL 225.403125 7.2 \n\" style=\"fill: none; stroke: #000000; stroke-width: 0.8; stroke-linejoin: miter; stroke-linecap: square\"/>\n   </g>\n   <g id=\"legend_1\">\n    <g id=\"patch_7\">\n     <path d=\"M 138.8125 100.434375 \nL 218.403125 100.434375 \nQ 220.403125 100.434375 220.403125 98.434375 \nL 220.403125 54.565625 \nQ 220.403125 52.565625 218.403125 52.565625 \nL 138.8125 52.565625 \nQ 136.8125 52.565625 136.8125 54.565625 \nL 136.8125 98.434375 \nQ 136.8125 100.434375 138.8125 100.434375 \nz\n\" style=\"fill: #ffffff; opacity: 0.8; stroke: #cccccc; stroke-linejoin: miter\"/>\n    </g>\n    <g id=\"line2d_128\">\n     <path d=\"M 140.8125 60.664063 \nL 150.8125 60.664063 \nL 160.8125 60.664063 \n\" style=\"fill: none; stroke: #1f77b4; stroke-width: 1.5; stroke-linecap: square\"/>\n    </g>\n    <g id=\"text_13\">\n     <!-- train_loss -->\n     <g transform=\"translate(168.8125 64.164063) scale(0.1 -0.1)\">\n      <defs>\n       <path id=\"DejaVuSans-74\" d=\"M 1172 4494 \nL 1172 3500 \nL 2356 3500 \nL 2356 3053 \nL 1172 3053 \nL 1172 1153 \nQ 1172 725 1289 603 \nQ 1406 481 1766 481 \nL 2356 481 \nL 2356 0 \nL 1766 0 \nQ 1100 0 847 248 \nQ 594 497 594 1153 \nL 594 3053 \nL 172 3053 \nL 172 3500 \nL 594 3500 \nL 594 4494 \nL 1172 4494 \nz\n\" transform=\"scale(0.015625)\"/>\n       <path id=\"DejaVuSans-72\" d=\"M 2631 2963 \nQ 2534 3019 2420 3045 \nQ 2306 3072 2169 3072 \nQ 1681 3072 1420 2755 \nQ 1159 2438 1159 1844 \nL 1159 0 \nL 581 0 \nL 581 3500 \nL 1159 3500 \nL 1159 2956 \nQ 1341 3275 1631 3429 \nQ 1922 3584 2338 3584 \nQ 2397 3584 2469 3576 \nQ 2541 3569 2628 3553 \nL 2631 2963 \nz\n\" transform=\"scale(0.015625)\"/>\n       <path id=\"DejaVuSans-61\" d=\"M 2194 1759 \nQ 1497 1759 1228 1600 \nQ 959 1441 959 1056 \nQ 959 750 1161 570 \nQ 1363 391 1709 391 \nQ 2188 391 2477 730 \nQ 2766 1069 2766 1631 \nL 2766 1759 \nL 2194 1759 \nz\nM 3341 1997 \nL 3341 0 \nL 2766 0 \nL 2766 531 \nQ 2569 213 2275 61 \nQ 1981 -91 1556 -91 \nQ 1019 -91 701 211 \nQ 384 513 384 1019 \nQ 384 1609 779 1909 \nQ 1175 2209 1959 2209 \nL 2766 2209 \nL 2766 2266 \nQ 2766 2663 2505 2880 \nQ 2244 3097 1772 3097 \nQ 1472 3097 1187 3025 \nQ 903 2953 641 2809 \nL 641 3341 \nQ 956 3463 1253 3523 \nQ 1550 3584 1831 3584 \nQ 2591 3584 2966 3190 \nQ 3341 2797 3341 1997 \nz\n\" transform=\"scale(0.015625)\"/>\n       <path id=\"DejaVuSans-69\" d=\"M 603 3500 \nL 1178 3500 \nL 1178 0 \nL 603 0 \nL 603 3500 \nz\nM 603 4863 \nL 1178 4863 \nL 1178 4134 \nL 603 4134 \nL 603 4863 \nz\n\" transform=\"scale(0.015625)\"/>\n       <path id=\"DejaVuSans-6e\" d=\"M 3513 2113 \nL 3513 0 \nL 2938 0 \nL 2938 2094 \nQ 2938 2591 2744 2837 \nQ 2550 3084 2163 3084 \nQ 1697 3084 1428 2787 \nQ 1159 2491 1159 1978 \nL 1159 0 \nL 581 0 \nL 581 3500 \nL 1159 3500 \nL 1159 2956 \nQ 1366 3272 1645 3428 \nQ 1925 3584 2291 3584 \nQ 2894 3584 3203 3211 \nQ 3513 2838 3513 2113 \nz\n\" transform=\"scale(0.015625)\"/>\n       <path id=\"DejaVuSans-5f\" d=\"M 3263 -1063 \nL 3263 -1509 \nL -63 -1509 \nL -63 -1063 \nL 3263 -1063 \nz\n\" transform=\"scale(0.015625)\"/>\n       <path id=\"DejaVuSans-6c\" d=\"M 603 4863 \nL 1178 4863 \nL 1178 0 \nL 603 0 \nL 603 4863 \nz\n\" transform=\"scale(0.015625)\"/>\n       <path id=\"DejaVuSans-73\" d=\"M 2834 3397 \nL 2834 2853 \nQ 2591 2978 2328 3040 \nQ 2066 3103 1784 3103 \nQ 1356 3103 1142 2972 \nQ 928 2841 928 2578 \nQ 928 2378 1081 2264 \nQ 1234 2150 1697 2047 \nL 1894 2003 \nQ 2506 1872 2764 1633 \nQ 3022 1394 3022 966 \nQ 3022 478 2636 193 \nQ 2250 -91 1575 -91 \nQ 1294 -91 989 -36 \nQ 684 19 347 128 \nL 347 722 \nQ 666 556 975 473 \nQ 1284 391 1588 391 \nQ 1994 391 2212 530 \nQ 2431 669 2431 922 \nQ 2431 1156 2273 1281 \nQ 2116 1406 1581 1522 \nL 1381 1569 \nQ 847 1681 609 1914 \nQ 372 2147 372 2553 \nQ 372 3047 722 3315 \nQ 1072 3584 1716 3584 \nQ 2034 3584 2315 3537 \nQ 2597 3491 2834 3397 \nz\n\" transform=\"scale(0.015625)\"/>\n      </defs>\n      <use xlink:href=\"#DejaVuSans-74\"/>\n      <use xlink:href=\"#DejaVuSans-72\" x=\"39.208984\"/>\n      <use xlink:href=\"#DejaVuSans-61\" x=\"80.322266\"/>\n      <use xlink:href=\"#DejaVuSans-69\" x=\"141.601562\"/>\n      <use xlink:href=\"#DejaVuSans-6e\" x=\"169.384766\"/>\n      <use xlink:href=\"#DejaVuSans-5f\" x=\"232.763672\"/>\n      <use xlink:href=\"#DejaVuSans-6c\" x=\"282.763672\"/>\n      <use xlink:href=\"#DejaVuSans-6f\" x=\"310.546875\"/>\n      <use xlink:href=\"#DejaVuSans-73\" x=\"371.728516\"/>\n      <use xlink:href=\"#DejaVuSans-73\" x=\"423.828125\"/>\n     </g>\n    </g>\n    <g id=\"line2d_129\">\n     <path d=\"M 140.8125 75.620313 \nL 150.8125 75.620313 \nL 160.8125 75.620313 \n\" style=\"fill: none; stroke-dasharray: 5.55,2.4; stroke-dashoffset: 0; stroke: #ff7f0e; stroke-width: 1.5\"/>\n    </g>\n    <g id=\"text_14\">\n     <!-- val_loss -->\n     <g transform=\"translate(168.8125 79.120313) scale(0.1 -0.1)\">\n      <defs>\n       <path id=\"DejaVuSans-76\" d=\"M 191 3500 \nL 800 3500 \nL 1894 563 \nL 2988 3500 \nL 3597 3500 \nL 2284 0 \nL 1503 0 \nL 191 3500 \nz\n\" transform=\"scale(0.015625)\"/>\n      </defs>\n      <use xlink:href=\"#DejaVuSans-76\"/>\n      <use xlink:href=\"#DejaVuSans-61\" x=\"59.179688\"/>\n      <use xlink:href=\"#DejaVuSans-6c\" x=\"120.458984\"/>\n      <use xlink:href=\"#DejaVuSans-5f\" x=\"148.242188\"/>\n      <use xlink:href=\"#DejaVuSans-6c\" x=\"198.242188\"/>\n      <use xlink:href=\"#DejaVuSans-6f\" x=\"226.025391\"/>\n      <use xlink:href=\"#DejaVuSans-73\" x=\"287.207031\"/>\n      <use xlink:href=\"#DejaVuSans-73\" x=\"339.306641\"/>\n     </g>\n    </g>\n    <g id=\"line2d_130\">\n     <path d=\"M 140.8125 90.576563 \nL 150.8125 90.576563 \nL 160.8125 90.576563 \n\" style=\"fill: none; stroke-dasharray: 9.6,2.4,1.5,2.4; stroke-dashoffset: 0; stroke: #2ca02c; stroke-width: 1.5\"/>\n    </g>\n    <g id=\"text_15\">\n     <!-- val_acc -->\n     <g transform=\"translate(168.8125 94.076563) scale(0.1 -0.1)\">\n      <use xlink:href=\"#DejaVuSans-76\"/>\n      <use xlink:href=\"#DejaVuSans-61\" x=\"59.179688\"/>\n      <use xlink:href=\"#DejaVuSans-6c\" x=\"120.458984\"/>\n      <use xlink:href=\"#DejaVuSans-5f\" x=\"148.242188\"/>\n      <use xlink:href=\"#DejaVuSans-61\" x=\"198.242188\"/>\n      <use xlink:href=\"#DejaVuSans-63\" x=\"259.521484\"/>\n      <use xlink:href=\"#DejaVuSans-63\" x=\"314.501953\"/>\n     </g>\n    </g>\n   </g>\n  </g>\n </g>\n <defs>\n  <clipPath id=\"p4d9e69b79b\">\n   <rect x=\"30.103125\" y=\"7.2\" width=\"195.3\" height=\"138.6\"/>\n  </clipPath>\n </defs>\n</svg>\n"
          },
          "metadata": {}
        }
      ],
      "source": [
        "data = d2l.FashionMNIST(batch_size=256)\n",
        "model = SoftmaxRegressionScratch(num_inputs=784, num_outputs=10, lr=0.1)\n",
        "trainer = d2l.Trainer(max_epochs=10)\n",
        "trainer.fit(model, data)"
      ]
    },
    {
      "cell_type": "markdown",
      "id": "ed022d8b-566d-4fd3-835d-4a86abdc2d1d",
      "metadata": {
        "id": "ed022d8b-566d-4fd3-835d-4a86abdc2d1d"
      },
      "source": [
        "### 4.4.5.prediction"
      ]
    },
    {
      "cell_type": "code",
      "execution_count": 51,
      "id": "d3641ce0-1d3b-4d8d-839a-56b0e9a050e1",
      "metadata": {
        "id": "d3641ce0-1d3b-4d8d-839a-56b0e9a050e1",
        "colab": {
          "base_uri": "https://localhost:8080/"
        },
        "outputId": "b90aa5b7-e55d-4efe-ec51-97c1d641644e"
      },
      "outputs": [
        {
          "output_type": "execute_result",
          "data": {
            "text/plain": [
              "torch.Size([256])"
            ]
          },
          "metadata": {},
          "execution_count": 51
        }
      ],
      "source": [
        "X, y = next(iter(data.val_dataloader()))\n",
        "preds = model(X).argmax(axis=1)\n",
        "preds.shape"
      ]
    },
    {
      "cell_type": "code",
      "execution_count": 52,
      "id": "081bcbde-8871-4294-b1d3-8fde3edbf044",
      "metadata": {
        "id": "081bcbde-8871-4294-b1d3-8fde3edbf044",
        "colab": {
          "base_uri": "https://localhost:8080/",
          "height": 192
        },
        "outputId": "e3514651-0524-424e-fbed-ac5b043bcbd9"
      },
      "outputs": [
        {
          "output_type": "display_data",
          "data": {
            "text/plain": [
              "<Figure size 1200x150 with 8 Axes>"
            ],
            "image/svg+xml": "<?xml version=\"1.0\" encoding=\"utf-8\" standalone=\"no\"?>\n<!DOCTYPE svg PUBLIC \"-//W3C//DTD SVG 1.1//EN\"\n  \"http://www.w3.org/Graphics/SVG/1.1/DTD/svg11.dtd\">\n<svg xmlns:xlink=\"http://www.w3.org/1999/xlink\" width=\"684pt\" height=\"114.189543pt\" viewBox=\"0 0 684 114.189543\" xmlns=\"http://www.w3.org/2000/svg\" version=\"1.1\">\n <metadata>\n  <rdf:RDF xmlns:dc=\"http://purl.org/dc/elements/1.1/\" xmlns:cc=\"http://creativecommons.org/ns#\" xmlns:rdf=\"http://www.w3.org/1999/02/22-rdf-syntax-ns#\">\n   <cc:Work>\n    <dc:type rdf:resource=\"http://purl.org/dc/dcmitype/StillImage\"/>\n    <dc:date>2024-09-24T02:15:09.337866</dc:date>\n    <dc:format>image/svg+xml</dc:format>\n    <dc:creator>\n     <cc:Agent>\n      <dc:title>Matplotlib v3.7.2, https://matplotlib.org/</dc:title>\n     </cc:Agent>\n    </dc:creator>\n   </cc:Work>\n  </rdf:RDF>\n </metadata>\n <defs>\n  <style type=\"text/css\">*{stroke-linejoin: round; stroke-linecap: butt}</style>\n </defs>\n <g id=\"figure_1\">\n  <g id=\"patch_1\">\n   <path d=\"M 0 114.189543 \nL 684 114.189543 \nL 684 -0 \nL 0 -0 \nz\n\" style=\"fill: #ffffff\"/>\n  </g>\n  <g id=\"axes_1\">\n   <g id=\"patch_2\">\n    <path d=\"M 7.2 106.989543 \nL 78.434043 106.989543 \nL 78.434043 35.7555 \nL 7.2 35.7555 \nz\n\" style=\"fill: #ffffff\"/>\n   </g>\n   <g clip-path=\"url(#pef44e66931)\">\n    <image xlink:href=\"data:image/png;base64,\niVBORw0KGgoAAAANSUhEUgAAAGMAAABjCAYAAACPO76VAAAFUUlEQVR4nO2cTW8bVRSGZzzjr9jGdtKGNCGhokQiTVlUgCLYgliCQIh/wF9gV6Fu+AFsoIsukLpCQqKiCBCLLlAF5UOiVLSkITSF0oakTXDs2I49H+zuue8NE0ol0rN4n9U5Pndmbv3mnnvmzNT+C/5rqUdUkHvQEyACxVAExVAExVAExVAExVAExVAExVAExVAExVAExVAExVAExVAExVAExVAExVAExVAExVAExVAExVAExVAExVAExVAExVAExVAExVAExVBEGE48DB9cPXHY2PlN1GowFouTT/BMQxnrl2MI1RpdYyepD7F8IGPjBK8XxeLncvhKcLW0Y+zUOWdvkAe/XBhmxjqdkszbuUbOFz+OcW5pqyDj+nj9gvW9Na/h91T94GsvC64MRVAMRVAMRfjHzp6ARPnV0+8b+621BRi8MagYu5bvQ+xQoWXsX3sHILb4l+xL4yNtiIW+s/dYRKn8rfRjzPU7UfiP4zzP87pDHAvHDUPwO9uyZwShk9/Lsi8drHQg1ij0jO1+Fz1rruVgCLHj1d+M/e6plyHGlaEIiqEI/9nP34Q0NT9629gXPjwOg7tzsmzDYgQxu2SNu5gK9pLcLidzBSyJ83nxkwTLx2gYyFzycWbM8zwvsecT43lsgq5TvlpuUsFrFOryXTRrXYi1tsvGLhcHEHv18CVjz5VuQYwrQxEUQxEUQxHhHytYhp6cPWvsL+aOQqxckxJuZ6UGseId0TXFlO31D0m+TZ02Smqn8z7uNbD3OHuGnfv99RKEigOn5YLVNBBJte6V17AdYv874gKWy2kofrtUxanV5Dyb41janguPGfv6KH73XBmKoBiKCB/9GJfm8y9JSglXCxCLboqfNDHddI9ICRe0MN2ELdE8KWIKiSvZd+DBthwX9PC4xMoag7rTbcVq0ktzcmxSwLFDK6UkIf5t5jDD4PWLYkdlJ72F4hdWMb35UxK7/N6TeL3sy5H9hmIogmIoIhzUsA493ZowdjS5A7HZqTVjzzVWIXZta9zY1Twed6tTF3txHGL1n2R/cRu4fiL5tT+Ge0ZodSCKK3jcThPH2m2NwHkqZ/v2/uF5nhdXZULu0zx7DyvdwdhDN+Q8I7exoxu+Le2mpLsMMa4MRVAMRVAMRYTFTWyFX+4+Yuyc8+RrtS0tkOsXpyEWWC0It87vPiYfPPPUEsRqC7K/nP92HmLFCdkY0qvYcihuWrm+6uwnPXC93kHJ4cNRpxXelJyeW6pA7MAFOe/olzchFv2O/r2SfVfFlaEKiqGIsHxxKTMYd/BWfuScdEenvl/HwX+KH7e2IOQHUj63n3gcYt+90TB2cXIbj7skaXHuRZzn4mezxnbbIY35u+C3bzSNXV3GVs30J5Km4is/ellEmRHP80PnyWZgt3sxLaZR9pm4MhRBMRRBMRThuz8yvPXpEWPnT43B4PJH3/yvkwnOT4K/+MOMsXPO0zu7VeG+oF1ax7FTZ36W4+5uZF7fzf2pk+/vmfT+freZK0MRFEMRoftB43XpzCbtZTdsyNXwhYS018sYiexV2m2cngE/XbCewjljK5PylsH0O3jLHy/+gv4e89lVlsIE9vdn4rkyFEExFEExFLErYSbtPd74uo9x/4X6Gfz/bu2Z54zdP4p70uQrV4z9rwWob5W6zj6w1x6233BlKIJiKGLXHTh5cHBlKIJiKIJiKIJiKIJiKIJiKIJiKIJiKIJiKIJiKIJiKIJiKIJiKIJiKIJiKIJiKIJiKIJiKIJiKIJiKIJiKIJiKIJiKIJiKIJiKIJiKIJiKIJiKIJiKIJiKIJiKOJv/fRtiyaMmuMAAAAASUVORK5CYII=\" id=\"image30f981c879\" transform=\"scale(1 -1) translate(0 -71.28)\" x=\"7.2\" y=\"-35.709543\" width=\"71.28\" height=\"71.28\"/>\n   </g>\n   <g id=\"patch_3\">\n    <path d=\"M 7.2 106.989543 \nL 7.2 35.7555 \n\" style=\"fill: none; stroke: #000000; stroke-width: 0.8; stroke-linejoin: miter; stroke-linecap: square\"/>\n   </g>\n   <g id=\"patch_4\">\n    <path d=\"M 78.434043 106.989543 \nL 78.434043 35.7555 \n\" style=\"fill: none; stroke: #000000; stroke-width: 0.8; stroke-linejoin: miter; stroke-linecap: square\"/>\n   </g>\n   <g id=\"patch_5\">\n    <path d=\"M 7.2 106.989543 \nL 78.434043 106.989543 \n\" style=\"fill: none; stroke: #000000; stroke-width: 0.8; stroke-linejoin: miter; stroke-linecap: square\"/>\n   </g>\n   <g id=\"patch_6\">\n    <path d=\"M 7.2 35.7555 \nL 78.434043 35.7555 \n\" style=\"fill: none; stroke: #000000; stroke-width: 0.8; stroke-linejoin: miter; stroke-linecap: square\"/>\n   </g>\n   <g id=\"text_1\">\n    <!-- sneaker -->\n    <g transform=\"translate(19.104834 16.318125) scale(0.12 -0.12)\">\n     <defs>\n      <path id=\"DejaVuSans-73\" d=\"M 2834 3397 \nL 2834 2853 \nQ 2591 2978 2328 3040 \nQ 2066 3103 1784 3103 \nQ 1356 3103 1142 2972 \nQ 928 2841 928 2578 \nQ 928 2378 1081 2264 \nQ 1234 2150 1697 2047 \nL 1894 2003 \nQ 2506 1872 2764 1633 \nQ 3022 1394 3022 966 \nQ 3022 478 2636 193 \nQ 2250 -91 1575 -91 \nQ 1294 -91 989 -36 \nQ 684 19 347 128 \nL 347 722 \nQ 666 556 975 473 \nQ 1284 391 1588 391 \nQ 1994 391 2212 530 \nQ 2431 669 2431 922 \nQ 2431 1156 2273 1281 \nQ 2116 1406 1581 1522 \nL 1381 1569 \nQ 847 1681 609 1914 \nQ 372 2147 372 2553 \nQ 372 3047 722 3315 \nQ 1072 3584 1716 3584 \nQ 2034 3584 2315 3537 \nQ 2597 3491 2834 3397 \nz\n\" transform=\"scale(0.015625)\"/>\n      <path id=\"DejaVuSans-6e\" d=\"M 3513 2113 \nL 3513 0 \nL 2938 0 \nL 2938 2094 \nQ 2938 2591 2744 2837 \nQ 2550 3084 2163 3084 \nQ 1697 3084 1428 2787 \nQ 1159 2491 1159 1978 \nL 1159 0 \nL 581 0 \nL 581 3500 \nL 1159 3500 \nL 1159 2956 \nQ 1366 3272 1645 3428 \nQ 1925 3584 2291 3584 \nQ 2894 3584 3203 3211 \nQ 3513 2838 3513 2113 \nz\n\" transform=\"scale(0.015625)\"/>\n      <path id=\"DejaVuSans-65\" d=\"M 3597 1894 \nL 3597 1613 \nL 953 1613 \nQ 991 1019 1311 708 \nQ 1631 397 2203 397 \nQ 2534 397 2845 478 \nQ 3156 559 3463 722 \nL 3463 178 \nQ 3153 47 2828 -22 \nQ 2503 -91 2169 -91 \nQ 1331 -91 842 396 \nQ 353 884 353 1716 \nQ 353 2575 817 3079 \nQ 1281 3584 2069 3584 \nQ 2775 3584 3186 3129 \nQ 3597 2675 3597 1894 \nz\nM 3022 2063 \nQ 3016 2534 2758 2815 \nQ 2500 3097 2075 3097 \nQ 1594 3097 1305 2825 \nQ 1016 2553 972 2059 \nL 3022 2063 \nz\n\" transform=\"scale(0.015625)\"/>\n      <path id=\"DejaVuSans-61\" d=\"M 2194 1759 \nQ 1497 1759 1228 1600 \nQ 959 1441 959 1056 \nQ 959 750 1161 570 \nQ 1363 391 1709 391 \nQ 2188 391 2477 730 \nQ 2766 1069 2766 1631 \nL 2766 1759 \nL 2194 1759 \nz\nM 3341 1997 \nL 3341 0 \nL 2766 0 \nL 2766 531 \nQ 2569 213 2275 61 \nQ 1981 -91 1556 -91 \nQ 1019 -91 701 211 \nQ 384 513 384 1019 \nQ 384 1609 779 1909 \nQ 1175 2209 1959 2209 \nL 2766 2209 \nL 2766 2266 \nQ 2766 2663 2505 2880 \nQ 2244 3097 1772 3097 \nQ 1472 3097 1187 3025 \nQ 903 2953 641 2809 \nL 641 3341 \nQ 956 3463 1253 3523 \nQ 1550 3584 1831 3584 \nQ 2591 3584 2966 3190 \nQ 3341 2797 3341 1997 \nz\n\" transform=\"scale(0.015625)\"/>\n      <path id=\"DejaVuSans-6b\" d=\"M 581 4863 \nL 1159 4863 \nL 1159 1991 \nL 2875 3500 \nL 3609 3500 \nL 1753 1863 \nL 3688 0 \nL 2938 0 \nL 1159 1709 \nL 1159 0 \nL 581 0 \nL 581 4863 \nz\n\" transform=\"scale(0.015625)\"/>\n      <path id=\"DejaVuSans-72\" d=\"M 2631 2963 \nQ 2534 3019 2420 3045 \nQ 2306 3072 2169 3072 \nQ 1681 3072 1420 2755 \nQ 1159 2438 1159 1844 \nL 1159 0 \nL 581 0 \nL 581 3500 \nL 1159 3500 \nL 1159 2956 \nQ 1341 3275 1631 3429 \nQ 1922 3584 2338 3584 \nQ 2397 3584 2469 3576 \nQ 2541 3569 2628 3553 \nL 2631 2963 \nz\n\" transform=\"scale(0.015625)\"/>\n     </defs>\n     <use xlink:href=\"#DejaVuSans-73\"/>\n     <use xlink:href=\"#DejaVuSans-6e\" x=\"52.099609\"/>\n     <use xlink:href=\"#DejaVuSans-65\" x=\"115.478516\"/>\n     <use xlink:href=\"#DejaVuSans-61\" x=\"177.001953\"/>\n     <use xlink:href=\"#DejaVuSans-6b\" x=\"238.28125\"/>\n     <use xlink:href=\"#DejaVuSans-65\" x=\"292.566406\"/>\n     <use xlink:href=\"#DejaVuSans-72\" x=\"354.089844\"/>\n    </g>\n    <!-- sandal -->\n    <g transform=\"translate(23.059209 29.7555) scale(0.12 -0.12)\">\n     <defs>\n      <path id=\"DejaVuSans-64\" d=\"M 2906 2969 \nL 2906 4863 \nL 3481 4863 \nL 3481 0 \nL 2906 0 \nL 2906 525 \nQ 2725 213 2448 61 \nQ 2172 -91 1784 -91 \nQ 1150 -91 751 415 \nQ 353 922 353 1747 \nQ 353 2572 751 3078 \nQ 1150 3584 1784 3584 \nQ 2172 3584 2448 3432 \nQ 2725 3281 2906 2969 \nz\nM 947 1747 \nQ 947 1113 1208 752 \nQ 1469 391 1925 391 \nQ 2381 391 2643 752 \nQ 2906 1113 2906 1747 \nQ 2906 2381 2643 2742 \nQ 2381 3103 1925 3103 \nQ 1469 3103 1208 2742 \nQ 947 2381 947 1747 \nz\n\" transform=\"scale(0.015625)\"/>\n      <path id=\"DejaVuSans-6c\" d=\"M 603 4863 \nL 1178 4863 \nL 1178 0 \nL 603 0 \nL 603 4863 \nz\n\" transform=\"scale(0.015625)\"/>\n     </defs>\n     <use xlink:href=\"#DejaVuSans-73\"/>\n     <use xlink:href=\"#DejaVuSans-61\" x=\"52.099609\"/>\n     <use xlink:href=\"#DejaVuSans-6e\" x=\"113.378906\"/>\n     <use xlink:href=\"#DejaVuSans-64\" x=\"176.757812\"/>\n     <use xlink:href=\"#DejaVuSans-61\" x=\"240.234375\"/>\n     <use xlink:href=\"#DejaVuSans-6c\" x=\"301.513672\"/>\n    </g>\n   </g>\n  </g>\n  <g id=\"axes_2\">\n   <g id=\"patch_7\">\n    <path d=\"M 92.680851 106.989543 \nL 163.914894 106.989543 \nL 163.914894 35.7555 \nL 92.680851 35.7555 \nz\n\" style=\"fill: #ffffff\"/>\n   </g>\n   <g clip-path=\"url(#pe39210ce4a)\">\n    <image xlink:href=\"data:image/png;base64,\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\" id=\"image9280891171\" transform=\"scale(1 -1) translate(0 -71.28)\" x=\"92.680851\" y=\"-35.709543\" width=\"71.28\" height=\"71.28\"/>\n   </g>\n   <g id=\"patch_8\">\n    <path d=\"M 92.680851 106.989543 \nL 92.680851 35.7555 \n\" style=\"fill: none; stroke: #000000; stroke-width: 0.8; stroke-linejoin: miter; stroke-linecap: square\"/>\n   </g>\n   <g id=\"patch_9\">\n    <path d=\"M 163.914894 106.989543 \nL 163.914894 35.7555 \n\" style=\"fill: none; stroke: #000000; stroke-width: 0.8; stroke-linejoin: miter; stroke-linecap: square\"/>\n   </g>\n   <g id=\"patch_10\">\n    <path d=\"M 92.680851 106.989543 \nL 163.914894 106.989543 \n\" style=\"fill: none; stroke: #000000; stroke-width: 0.8; stroke-linejoin: miter; stroke-linecap: square\"/>\n   </g>\n   <g id=\"patch_11\">\n    <path d=\"M 92.680851 35.7555 \nL 163.914894 35.7555 \n\" style=\"fill: none; stroke: #000000; stroke-width: 0.8; stroke-linejoin: miter; stroke-linecap: square\"/>\n   </g>\n   <g id=\"text_2\">\n    <!-- coat -->\n    <g transform=\"translate(115.298497 16.318125) scale(0.12 -0.12)\">\n     <defs>\n      <path id=\"DejaVuSans-63\" d=\"M 3122 3366 \nL 3122 2828 \nQ 2878 2963 2633 3030 \nQ 2388 3097 2138 3097 \nQ 1578 3097 1268 2742 \nQ 959 2388 959 1747 \nQ 959 1106 1268 751 \nQ 1578 397 2138 397 \nQ 2388 397 2633 464 \nQ 2878 531 3122 666 \nL 3122 134 \nQ 2881 22 2623 -34 \nQ 2366 -91 2075 -91 \nQ 1284 -91 818 406 \nQ 353 903 353 1747 \nQ 353 2603 823 3093 \nQ 1294 3584 2113 3584 \nQ 2378 3584 2631 3529 \nQ 2884 3475 3122 3366 \nz\n\" transform=\"scale(0.015625)\"/>\n      <path id=\"DejaVuSans-6f\" d=\"M 1959 3097 \nQ 1497 3097 1228 2736 \nQ 959 2375 959 1747 \nQ 959 1119 1226 758 \nQ 1494 397 1959 397 \nQ 2419 397 2687 759 \nQ 2956 1122 2956 1747 \nQ 2956 2369 2687 2733 \nQ 2419 3097 1959 3097 \nz\nM 1959 3584 \nQ 2709 3584 3137 3096 \nQ 3566 2609 3566 1747 \nQ 3566 888 3137 398 \nQ 2709 -91 1959 -91 \nQ 1206 -91 779 398 \nQ 353 888 353 1747 \nQ 353 2609 779 3096 \nQ 1206 3584 1959 3584 \nz\n\" transform=\"scale(0.015625)\"/>\n      <path id=\"DejaVuSans-74\" d=\"M 1172 4494 \nL 1172 3500 \nL 2356 3500 \nL 2356 3053 \nL 1172 3053 \nL 1172 1153 \nQ 1172 725 1289 603 \nQ 1406 481 1766 481 \nL 2356 481 \nL 2356 0 \nL 1766 0 \nQ 1100 0 847 248 \nQ 594 497 594 1153 \nL 594 3053 \nL 172 3053 \nL 172 3500 \nL 594 3500 \nL 594 4494 \nL 1172 4494 \nz\n\" transform=\"scale(0.015625)\"/>\n     </defs>\n     <use xlink:href=\"#DejaVuSans-63\"/>\n     <use xlink:href=\"#DejaVuSans-6f\" x=\"54.980469\"/>\n     <use xlink:href=\"#DejaVuSans-61\" x=\"116.162109\"/>\n     <use xlink:href=\"#DejaVuSans-74\" x=\"177.441406\"/>\n    </g>\n    <!-- pullover -->\n    <g transform=\"translate(103.971622 29.7555) scale(0.12 -0.12)\">\n     <defs>\n      <path id=\"DejaVuSans-70\" d=\"M 1159 525 \nL 1159 -1331 \nL 581 -1331 \nL 581 3500 \nL 1159 3500 \nL 1159 2969 \nQ 1341 3281 1617 3432 \nQ 1894 3584 2278 3584 \nQ 2916 3584 3314 3078 \nQ 3713 2572 3713 1747 \nQ 3713 922 3314 415 \nQ 2916 -91 2278 -91 \nQ 1894 -91 1617 61 \nQ 1341 213 1159 525 \nz\nM 3116 1747 \nQ 3116 2381 2855 2742 \nQ 2594 3103 2138 3103 \nQ 1681 3103 1420 2742 \nQ 1159 2381 1159 1747 \nQ 1159 1113 1420 752 \nQ 1681 391 2138 391 \nQ 2594 391 2855 752 \nQ 3116 1113 3116 1747 \nz\n\" transform=\"scale(0.015625)\"/>\n      <path id=\"DejaVuSans-75\" d=\"M 544 1381 \nL 544 3500 \nL 1119 3500 \nL 1119 1403 \nQ 1119 906 1312 657 \nQ 1506 409 1894 409 \nQ 2359 409 2629 706 \nQ 2900 1003 2900 1516 \nL 2900 3500 \nL 3475 3500 \nL 3475 0 \nL 2900 0 \nL 2900 538 \nQ 2691 219 2414 64 \nQ 2138 -91 1772 -91 \nQ 1169 -91 856 284 \nQ 544 659 544 1381 \nz\nM 1991 3584 \nL 1991 3584 \nz\n\" transform=\"scale(0.015625)\"/>\n      <path id=\"DejaVuSans-76\" d=\"M 191 3500 \nL 800 3500 \nL 1894 563 \nL 2988 3500 \nL 3597 3500 \nL 2284 0 \nL 1503 0 \nL 191 3500 \nz\n\" transform=\"scale(0.015625)\"/>\n     </defs>\n     <use xlink:href=\"#DejaVuSans-70\"/>\n     <use xlink:href=\"#DejaVuSans-75\" x=\"63.476562\"/>\n     <use xlink:href=\"#DejaVuSans-6c\" x=\"126.855469\"/>\n     <use xlink:href=\"#DejaVuSans-6c\" x=\"154.638672\"/>\n     <use xlink:href=\"#DejaVuSans-6f\" x=\"182.421875\"/>\n     <use xlink:href=\"#DejaVuSans-76\" x=\"243.603516\"/>\n     <use xlink:href=\"#DejaVuSans-65\" x=\"302.783203\"/>\n     <use xlink:href=\"#DejaVuSans-72\" x=\"364.306641\"/>\n    </g>\n   </g>\n  </g>\n  <g id=\"axes_3\">\n   <g id=\"patch_12\">\n    <path d=\"M 178.161702 106.989543 \nL 249.395745 106.989543 \nL 249.395745 35.7555 \nL 178.161702 35.7555 \nz\n\" style=\"fill: #ffffff\"/>\n   </g>\n   <g clip-path=\"url(#p96a192fa08)\">\n    <image xlink:href=\"data:image/png;base64,\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\" id=\"image863daed0a3\" transform=\"scale(1 -1) translate(0 -71.28)\" x=\"178.161702\" y=\"-35.709543\" width=\"71.28\" height=\"71.28\"/>\n   </g>\n   <g id=\"patch_13\">\n    <path d=\"M 178.161702 106.989543 \nL 178.161702 35.7555 \n\" style=\"fill: none; stroke: #000000; stroke-width: 0.8; stroke-linejoin: miter; stroke-linecap: square\"/>\n   </g>\n   <g id=\"patch_14\">\n    <path d=\"M 249.395745 106.989543 \nL 249.395745 35.7555 \n\" style=\"fill: none; stroke: #000000; stroke-width: 0.8; stroke-linejoin: miter; stroke-linecap: square\"/>\n   </g>\n   <g id=\"patch_15\">\n    <path d=\"M 178.161702 106.989543 \nL 249.395745 106.989543 \n\" style=\"fill: none; stroke: #000000; stroke-width: 0.8; stroke-linejoin: miter; stroke-linecap: square\"/>\n   </g>\n   <g id=\"patch_16\">\n    <path d=\"M 178.161702 35.7555 \nL 249.395745 35.7555 \n\" style=\"fill: none; stroke: #000000; stroke-width: 0.8; stroke-linejoin: miter; stroke-linecap: square\"/>\n   </g>\n   <g id=\"text_3\">\n    <!-- sandal -->\n    <g transform=\"translate(194.020911 16.318125) scale(0.12 -0.12)\">\n     <use xlink:href=\"#DejaVuSans-73\"/>\n     <use xlink:href=\"#DejaVuSans-61\" x=\"52.099609\"/>\n     <use xlink:href=\"#DejaVuSans-6e\" x=\"113.378906\"/>\n     <use xlink:href=\"#DejaVuSans-64\" x=\"176.757812\"/>\n     <use xlink:href=\"#DejaVuSans-61\" x=\"240.234375\"/>\n     <use xlink:href=\"#DejaVuSans-6c\" x=\"301.513672\"/>\n    </g>\n    <!-- sneaker -->\n    <g transform=\"translate(190.066536 29.7555) scale(0.12 -0.12)\">\n     <use xlink:href=\"#DejaVuSans-73\"/>\n     <use xlink:href=\"#DejaVuSans-6e\" x=\"52.099609\"/>\n     <use xlink:href=\"#DejaVuSans-65\" x=\"115.478516\"/>\n     <use xlink:href=\"#DejaVuSans-61\" x=\"177.001953\"/>\n     <use xlink:href=\"#DejaVuSans-6b\" x=\"238.28125\"/>\n     <use xlink:href=\"#DejaVuSans-65\" x=\"292.566406\"/>\n     <use xlink:href=\"#DejaVuSans-72\" x=\"354.089844\"/>\n    </g>\n   </g>\n  </g>\n  <g id=\"axes_4\">\n   <g id=\"patch_17\">\n    <path d=\"M 263.642553 106.989543 \nL 334.876596 106.989543 \nL 334.876596 35.7555 \nL 263.642553 35.7555 \nz\n\" style=\"fill: #ffffff\"/>\n   </g>\n   <g clip-path=\"url(#p69c2997916)\">\n    <image xlink:href=\"data:image/png;base64,\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\" id=\"image391b94c332\" transform=\"scale(1 -1) translate(0 -71.28)\" x=\"263.642553\" y=\"-35.709543\" width=\"71.28\" height=\"71.28\"/>\n   </g>\n   <g id=\"patch_18\">\n    <path d=\"M 263.642553 106.989543 \nL 263.642553 35.7555 \n\" style=\"fill: none; stroke: #000000; stroke-width: 0.8; stroke-linejoin: miter; stroke-linecap: square\"/>\n   </g>\n   <g id=\"patch_19\">\n    <path d=\"M 334.876596 106.989543 \nL 334.876596 35.7555 \n\" style=\"fill: none; stroke: #000000; stroke-width: 0.8; stroke-linejoin: miter; stroke-linecap: square\"/>\n   </g>\n   <g id=\"patch_20\">\n    <path d=\"M 263.642553 106.989543 \nL 334.876596 106.989543 \n\" style=\"fill: none; stroke: #000000; stroke-width: 0.8; stroke-linejoin: miter; stroke-linecap: square\"/>\n   </g>\n   <g id=\"patch_21\">\n    <path d=\"M 263.642553 35.7555 \nL 334.876596 35.7555 \n\" style=\"fill: none; stroke: #000000; stroke-width: 0.8; stroke-linejoin: miter; stroke-linecap: square\"/>\n   </g>\n   <g id=\"text_4\">\n    <!-- ankle boot -->\n    <g transform=\"translate(267.536449 16.318125) scale(0.12 -0.12)\">\n     <defs>\n      <path id=\"DejaVuSans-20\" transform=\"scale(0.015625)\"/>\n      <path id=\"DejaVuSans-62\" d=\"M 3116 1747 \nQ 3116 2381 2855 2742 \nQ 2594 3103 2138 3103 \nQ 1681 3103 1420 2742 \nQ 1159 2381 1159 1747 \nQ 1159 1113 1420 752 \nQ 1681 391 2138 391 \nQ 2594 391 2855 752 \nQ 3116 1113 3116 1747 \nz\nM 1159 2969 \nQ 1341 3281 1617 3432 \nQ 1894 3584 2278 3584 \nQ 2916 3584 3314 3078 \nQ 3713 2572 3713 1747 \nQ 3713 922 3314 415 \nQ 2916 -91 2278 -91 \nQ 1894 -91 1617 61 \nQ 1341 213 1159 525 \nL 1159 0 \nL 581 0 \nL 581 4863 \nL 1159 4863 \nL 1159 2969 \nz\n\" transform=\"scale(0.015625)\"/>\n     </defs>\n     <use xlink:href=\"#DejaVuSans-61\"/>\n     <use xlink:href=\"#DejaVuSans-6e\" x=\"61.279297\"/>\n     <use xlink:href=\"#DejaVuSans-6b\" x=\"124.658203\"/>\n     <use xlink:href=\"#DejaVuSans-6c\" x=\"182.568359\"/>\n     <use xlink:href=\"#DejaVuSans-65\" x=\"210.351562\"/>\n     <use xlink:href=\"#DejaVuSans-20\" x=\"271.875\"/>\n     <use xlink:href=\"#DejaVuSans-62\" x=\"303.662109\"/>\n     <use xlink:href=\"#DejaVuSans-6f\" x=\"367.138672\"/>\n     <use xlink:href=\"#DejaVuSans-6f\" x=\"428.320312\"/>\n     <use xlink:href=\"#DejaVuSans-74\" x=\"489.501953\"/>\n    </g>\n    <!-- sneaker -->\n    <g transform=\"translate(275.547387 29.7555) scale(0.12 -0.12)\">\n     <use xlink:href=\"#DejaVuSans-73\"/>\n     <use xlink:href=\"#DejaVuSans-6e\" x=\"52.099609\"/>\n     <use xlink:href=\"#DejaVuSans-65\" x=\"115.478516\"/>\n     <use xlink:href=\"#DejaVuSans-61\" x=\"177.001953\"/>\n     <use xlink:href=\"#DejaVuSans-6b\" x=\"238.28125\"/>\n     <use xlink:href=\"#DejaVuSans-65\" x=\"292.566406\"/>\n     <use xlink:href=\"#DejaVuSans-72\" x=\"354.089844\"/>\n    </g>\n   </g>\n  </g>\n  <g id=\"axes_5\">\n   <g id=\"patch_22\">\n    <path d=\"M 349.123404 106.989543 \nL 420.357447 106.989543 \nL 420.357447 35.7555 \nL 349.123404 35.7555 \nz\n\" style=\"fill: #ffffff\"/>\n   </g>\n   <g clip-path=\"url(#pa3281fffcc)\">\n    <image xlink:href=\"data:image/png;base64,\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\" id=\"imaged6315c1f60\" transform=\"scale(1 -1) translate(0 -71.28)\" x=\"349.123404\" y=\"-35.709543\" width=\"71.28\" height=\"71.28\"/>\n   </g>\n   <g id=\"patch_23\">\n    <path d=\"M 349.123404 106.989543 \nL 349.123404 35.7555 \n\" style=\"fill: none; stroke: #000000; stroke-width: 0.8; stroke-linejoin: miter; stroke-linecap: square\"/>\n   </g>\n   <g id=\"patch_24\">\n    <path d=\"M 420.357447 106.989543 \nL 420.357447 35.7555 \n\" style=\"fill: none; stroke: #000000; stroke-width: 0.8; stroke-linejoin: miter; stroke-linecap: square\"/>\n   </g>\n   <g id=\"patch_25\">\n    <path d=\"M 349.123404 106.989543 \nL 420.357447 106.989543 \n\" style=\"fill: none; stroke: #000000; stroke-width: 0.8; stroke-linejoin: miter; stroke-linecap: square\"/>\n   </g>\n   <g id=\"patch_26\">\n    <path d=\"M 349.123404 35.7555 \nL 420.357447 35.7555 \n\" style=\"fill: none; stroke: #000000; stroke-width: 0.8; stroke-linejoin: miter; stroke-linecap: square\"/>\n   </g>\n   <g id=\"text_5\">\n    <!-- coat -->\n    <g transform=\"translate(371.741051 16.318125) scale(0.12 -0.12)\">\n     <use xlink:href=\"#DejaVuSans-63\"/>\n     <use xlink:href=\"#DejaVuSans-6f\" x=\"54.980469\"/>\n     <use xlink:href=\"#DejaVuSans-61\" x=\"116.162109\"/>\n     <use xlink:href=\"#DejaVuSans-74\" x=\"177.441406\"/>\n    </g>\n    <!-- pullover -->\n    <g transform=\"translate(360.414176 29.7555) scale(0.12 -0.12)\">\n     <use xlink:href=\"#DejaVuSans-70\"/>\n     <use xlink:href=\"#DejaVuSans-75\" x=\"63.476562\"/>\n     <use xlink:href=\"#DejaVuSans-6c\" x=\"126.855469\"/>\n     <use xlink:href=\"#DejaVuSans-6c\" x=\"154.638672\"/>\n     <use xlink:href=\"#DejaVuSans-6f\" x=\"182.421875\"/>\n     <use xlink:href=\"#DejaVuSans-76\" x=\"243.603516\"/>\n     <use xlink:href=\"#DejaVuSans-65\" x=\"302.783203\"/>\n     <use xlink:href=\"#DejaVuSans-72\" x=\"364.306641\"/>\n    </g>\n   </g>\n  </g>\n  <g id=\"axes_6\">\n   <g id=\"patch_27\">\n    <path d=\"M 434.604255 106.989543 \nL 505.838298 106.989543 \nL 505.838298 35.7555 \nL 434.604255 35.7555 \nz\n\" style=\"fill: #ffffff\"/>\n   </g>\n   <g clip-path=\"url(#p9cf82bed6b)\">\n    <image xlink:href=\"data:image/png;base64,\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\" id=\"imageadc6359ddb\" transform=\"scale(1 -1) translate(0 -71.28)\" x=\"434.604255\" y=\"-35.709543\" width=\"71.28\" height=\"71.28\"/>\n   </g>\n   <g id=\"patch_28\">\n    <path d=\"M 434.604255 106.989543 \nL 434.604255 35.7555 \n\" style=\"fill: none; stroke: #000000; stroke-width: 0.8; stroke-linejoin: miter; stroke-linecap: square\"/>\n   </g>\n   <g id=\"patch_29\">\n    <path d=\"M 505.838298 106.989543 \nL 505.838298 35.7555 \n\" style=\"fill: none; stroke: #000000; stroke-width: 0.8; stroke-linejoin: miter; stroke-linecap: square\"/>\n   </g>\n   <g id=\"patch_30\">\n    <path d=\"M 434.604255 106.989543 \nL 505.838298 106.989543 \n\" style=\"fill: none; stroke: #000000; stroke-width: 0.8; stroke-linejoin: miter; stroke-linecap: square\"/>\n   </g>\n   <g id=\"patch_31\">\n    <path d=\"M 434.604255 35.7555 \nL 505.838298 35.7555 \n\" style=\"fill: none; stroke: #000000; stroke-width: 0.8; stroke-linejoin: miter; stroke-linecap: square\"/>\n   </g>\n   <g id=\"text_6\">\n    <!-- shirt -->\n    <g transform=\"translate(456.807527 16.318125) scale(0.12 -0.12)\">\n     <defs>\n      <path id=\"DejaVuSans-68\" d=\"M 3513 2113 \nL 3513 0 \nL 2938 0 \nL 2938 2094 \nQ 2938 2591 2744 2837 \nQ 2550 3084 2163 3084 \nQ 1697 3084 1428 2787 \nQ 1159 2491 1159 1978 \nL 1159 0 \nL 581 0 \nL 581 4863 \nL 1159 4863 \nL 1159 2956 \nQ 1366 3272 1645 3428 \nQ 1925 3584 2291 3584 \nQ 2894 3584 3203 3211 \nQ 3513 2838 3513 2113 \nz\n\" transform=\"scale(0.015625)\"/>\n      <path id=\"DejaVuSans-69\" d=\"M 603 3500 \nL 1178 3500 \nL 1178 0 \nL 603 0 \nL 603 3500 \nz\nM 603 4863 \nL 1178 4863 \nL 1178 4134 \nL 603 4134 \nL 603 4863 \nz\n\" transform=\"scale(0.015625)\"/>\n     </defs>\n     <use xlink:href=\"#DejaVuSans-73\"/>\n     <use xlink:href=\"#DejaVuSans-68\" x=\"52.099609\"/>\n     <use xlink:href=\"#DejaVuSans-69\" x=\"115.478516\"/>\n     <use xlink:href=\"#DejaVuSans-72\" x=\"143.261719\"/>\n     <use xlink:href=\"#DejaVuSans-74\" x=\"184.375\"/>\n    </g>\n    <!-- t-shirt -->\n    <g transform=\"translate(452.290652 29.7555) scale(0.12 -0.12)\">\n     <defs>\n      <path id=\"DejaVuSans-2d\" d=\"M 313 2009 \nL 1997 2009 \nL 1997 1497 \nL 313 1497 \nL 313 2009 \nz\n\" transform=\"scale(0.015625)\"/>\n     </defs>\n     <use xlink:href=\"#DejaVuSans-74\"/>\n     <use xlink:href=\"#DejaVuSans-2d\" x=\"39.208984\"/>\n     <use xlink:href=\"#DejaVuSans-73\" x=\"75.292969\"/>\n     <use xlink:href=\"#DejaVuSans-68\" x=\"127.392578\"/>\n     <use xlink:href=\"#DejaVuSans-69\" x=\"190.771484\"/>\n     <use xlink:href=\"#DejaVuSans-72\" x=\"218.554688\"/>\n     <use xlink:href=\"#DejaVuSans-74\" x=\"259.667969\"/>\n    </g>\n   </g>\n  </g>\n  <g id=\"axes_7\">\n   <g id=\"patch_32\">\n    <path d=\"M 520.085106 106.989543 \nL 591.319149 106.989543 \nL 591.319149 35.7555 \nL 520.085106 35.7555 \nz\n\" style=\"fill: #ffffff\"/>\n   </g>\n   <g clip-path=\"url(#p33273d18bd)\">\n    <image xlink:href=\"data:image/png;base64,\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\" id=\"imaged24b8b9481\" transform=\"scale(1 -1) translate(0 -71.28)\" x=\"520.085106\" y=\"-35.709543\" width=\"71.28\" height=\"71.28\"/>\n   </g>\n   <g id=\"patch_33\">\n    <path d=\"M 520.085106 106.989543 \nL 520.085106 35.7555 \n\" style=\"fill: none; stroke: #000000; stroke-width: 0.8; stroke-linejoin: miter; stroke-linecap: square\"/>\n   </g>\n   <g id=\"patch_34\">\n    <path d=\"M 591.319149 106.989543 \nL 591.319149 35.7555 \n\" style=\"fill: none; stroke: #000000; stroke-width: 0.8; stroke-linejoin: miter; stroke-linecap: square\"/>\n   </g>\n   <g id=\"patch_35\">\n    <path d=\"M 520.085106 106.989543 \nL 591.319149 106.989543 \n\" style=\"fill: none; stroke: #000000; stroke-width: 0.8; stroke-linejoin: miter; stroke-linecap: square\"/>\n   </g>\n   <g id=\"patch_36\">\n    <path d=\"M 520.085106 35.7555 \nL 591.319149 35.7555 \n\" style=\"fill: none; stroke: #000000; stroke-width: 0.8; stroke-linejoin: miter; stroke-linecap: square\"/>\n   </g>\n   <g id=\"text_7\">\n    <!-- sneaker -->\n    <g transform=\"translate(531.98994 16.318125) scale(0.12 -0.12)\">\n     <use xlink:href=\"#DejaVuSans-73\"/>\n     <use xlink:href=\"#DejaVuSans-6e\" x=\"52.099609\"/>\n     <use xlink:href=\"#DejaVuSans-65\" x=\"115.478516\"/>\n     <use xlink:href=\"#DejaVuSans-61\" x=\"177.001953\"/>\n     <use xlink:href=\"#DejaVuSans-6b\" x=\"238.28125\"/>\n     <use xlink:href=\"#DejaVuSans-65\" x=\"292.566406\"/>\n     <use xlink:href=\"#DejaVuSans-72\" x=\"354.089844\"/>\n    </g>\n    <!-- ankle boot -->\n    <g transform=\"translate(523.979003 29.7555) scale(0.12 -0.12)\">\n     <use xlink:href=\"#DejaVuSans-61\"/>\n     <use xlink:href=\"#DejaVuSans-6e\" x=\"61.279297\"/>\n     <use xlink:href=\"#DejaVuSans-6b\" x=\"124.658203\"/>\n     <use xlink:href=\"#DejaVuSans-6c\" x=\"182.568359\"/>\n     <use xlink:href=\"#DejaVuSans-65\" x=\"210.351562\"/>\n     <use xlink:href=\"#DejaVuSans-20\" x=\"271.875\"/>\n     <use xlink:href=\"#DejaVuSans-62\" x=\"303.662109\"/>\n     <use xlink:href=\"#DejaVuSans-6f\" x=\"367.138672\"/>\n     <use xlink:href=\"#DejaVuSans-6f\" x=\"428.320312\"/>\n     <use xlink:href=\"#DejaVuSans-74\" x=\"489.501953\"/>\n    </g>\n   </g>\n  </g>\n  <g id=\"axes_8\">\n   <g id=\"patch_37\">\n    <path d=\"M 605.565957 106.989543 \nL 676.8 106.989543 \nL 676.8 35.7555 \nL 605.565957 35.7555 \nz\n\" style=\"fill: #ffffff\"/>\n   </g>\n   <g clip-path=\"url(#p03b2e6b17a)\">\n    <image xlink:href=\"data:image/png;base64,\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\" id=\"image55ba6ed5b2\" transform=\"scale(1 -1) translate(0 -71.28)\" x=\"605.565957\" y=\"-35.709543\" width=\"71.28\" height=\"71.28\"/>\n   </g>\n   <g id=\"patch_38\">\n    <path d=\"M 605.565957 106.989543 \nL 605.565957 35.7555 \n\" style=\"fill: none; stroke: #000000; stroke-width: 0.8; stroke-linejoin: miter; stroke-linecap: square\"/>\n   </g>\n   <g id=\"patch_39\">\n    <path d=\"M 676.8 106.989543 \nL 676.8 35.7555 \n\" style=\"fill: none; stroke: #000000; stroke-width: 0.8; stroke-linejoin: miter; stroke-linecap: square\"/>\n   </g>\n   <g id=\"patch_40\">\n    <path d=\"M 605.565957 106.989543 \nL 676.8 106.989543 \n\" style=\"fill: none; stroke: #000000; stroke-width: 0.8; stroke-linejoin: miter; stroke-linecap: square\"/>\n   </g>\n   <g id=\"patch_41\">\n    <path d=\"M 605.565957 35.7555 \nL 676.8 35.7555 \n\" style=\"fill: none; stroke: #000000; stroke-width: 0.8; stroke-linejoin: miter; stroke-linecap: square\"/>\n   </g>\n   <g id=\"text_8\">\n    <!-- pullover -->\n    <g transform=\"translate(616.856729 16.318125) scale(0.12 -0.12)\">\n     <use xlink:href=\"#DejaVuSans-70\"/>\n     <use xlink:href=\"#DejaVuSans-75\" x=\"63.476562\"/>\n     <use xlink:href=\"#DejaVuSans-6c\" x=\"126.855469\"/>\n     <use xlink:href=\"#DejaVuSans-6c\" x=\"154.638672\"/>\n     <use xlink:href=\"#DejaVuSans-6f\" x=\"182.421875\"/>\n     <use xlink:href=\"#DejaVuSans-76\" x=\"243.603516\"/>\n     <use xlink:href=\"#DejaVuSans-65\" x=\"302.783203\"/>\n     <use xlink:href=\"#DejaVuSans-72\" x=\"364.306641\"/>\n    </g>\n    <!-- shirt -->\n    <g transform=\"translate(627.769229 29.7555) scale(0.12 -0.12)\">\n     <use xlink:href=\"#DejaVuSans-73\"/>\n     <use xlink:href=\"#DejaVuSans-68\" x=\"52.099609\"/>\n     <use xlink:href=\"#DejaVuSans-69\" x=\"115.478516\"/>\n     <use xlink:href=\"#DejaVuSans-72\" x=\"143.261719\"/>\n     <use xlink:href=\"#DejaVuSans-74\" x=\"184.375\"/>\n    </g>\n   </g>\n  </g>\n </g>\n <defs>\n  <clipPath id=\"pef44e66931\">\n   <rect x=\"7.2\" y=\"35.7555\" width=\"71.234043\" height=\"71.234043\"/>\n  </clipPath>\n  <clipPath id=\"pe39210ce4a\">\n   <rect x=\"92.680851\" y=\"35.7555\" width=\"71.234043\" height=\"71.234043\"/>\n  </clipPath>\n  <clipPath id=\"p96a192fa08\">\n   <rect x=\"178.161702\" y=\"35.7555\" width=\"71.234043\" height=\"71.234043\"/>\n  </clipPath>\n  <clipPath id=\"p69c2997916\">\n   <rect x=\"263.642553\" y=\"35.7555\" width=\"71.234043\" height=\"71.234043\"/>\n  </clipPath>\n  <clipPath id=\"pa3281fffcc\">\n   <rect x=\"349.123404\" y=\"35.7555\" width=\"71.234043\" height=\"71.234043\"/>\n  </clipPath>\n  <clipPath id=\"p9cf82bed6b\">\n   <rect x=\"434.604255\" y=\"35.7555\" width=\"71.234043\" height=\"71.234043\"/>\n  </clipPath>\n  <clipPath id=\"p33273d18bd\">\n   <rect x=\"520.085106\" y=\"35.7555\" width=\"71.234043\" height=\"71.234043\"/>\n  </clipPath>\n  <clipPath id=\"p03b2e6b17a\">\n   <rect x=\"605.565957\" y=\"35.7555\" width=\"71.234043\" height=\"71.234043\"/>\n  </clipPath>\n </defs>\n</svg>\n"
          },
          "metadata": {}
        }
      ],
      "source": [
        "wrong = preds.type(y.dtype) != y\n",
        "X, y, preds = X[wrong], y[wrong], preds[wrong]\n",
        "labels = [a+'\\n'+b for a, b in zip(\n",
        "    data.text_labels(y), data.text_labels(preds))]\n",
        "data.visualize([X, y], labels=labels)"
      ]
    },
    {
      "cell_type": "markdown",
      "id": "07a9f1ca-485e-43b9-b460-aa6a1b6e802b",
      "metadata": {
        "id": "07a9f1ca-485e-43b9-b460-aa6a1b6e802b"
      },
      "source": [
        "### 4.4.6.summary\n",
        "\n",
        "선형 회귀, 분류 문제를 해결하는 기본을 배움.\n",
        "\n",
        "다음 section에서는 deep learning frameworks를 통해 모델을 효율적으로 구현\n"
      ]
    },
    {
      "cell_type": "markdown",
      "id": "9b8c96e3-16a1-4c87-8290-8fa888fa8104",
      "metadata": {
        "id": "9b8c96e3-16a1-4c87-8290-8fa888fa8104"
      },
      "source": [
        "### discussions or takeaway messages\n",
        "\n",
        "1. 실제로 softmax함수부터 model을 정의하고, training, prediction까지 따라 해봄"
      ]
    },
    {
      "cell_type": "markdown",
      "id": "2da5924d-4787-4d7f-b686-0ffa20e3425f",
      "metadata": {
        "id": "2da5924d-4787-4d7f-b686-0ffa20e3425f"
      },
      "source": [
        "## 5.1. Multilayer Perceptrons\n",
        "\n",
        "신경망층에 대해서 공부"
      ]
    },
    {
      "cell_type": "code",
      "execution_count": 53,
      "id": "061cbc3d-83c2-49d5-8919-b50909d2e9e2",
      "metadata": {
        "id": "061cbc3d-83c2-49d5-8919-b50909d2e9e2"
      },
      "outputs": [],
      "source": [
        "%matplotlib inline\n",
        "import torch\n",
        "from d2l import torch as d2l"
      ]
    },
    {
      "cell_type": "markdown",
      "id": "7d7c6267-c665-4d6e-9dc6-672519b0e9f4",
      "metadata": {
        "id": "7d7c6267-c665-4d6e-9dc6-672519b0e9f4"
      },
      "source": [
        "### 5.1.1.hidden layers\n",
        "\n",
        "#### 5.1.1.1.limitations of linear models\n",
        "\n",
        "#### 5.1.1.2.incorporating hidden layers\n",
        "* MLP : Multilayer Perceptron, 다층 퍼셉트론\n",
        "* 선형모델의 경우 입력-출력의 관계를 선형적으로 표현하므로 복잡한 패턴을 학습하기 어려움 -> hidden layer를 추가하여 비선형적이고 더 복잡한 관계를 모델링\n",
        "* 은닉층을 추가하면 신경망이 더 많은 정보를 학습할 수 있음\n",
        "\n",
        "* MLP\n",
        "* 은닉층 포함하는 방법 -> 여러개의 fully connected layers를 쌓는것. input layer - 다수의 hidden layers - output layer\n",
        "\n",
        "* 은닉층과 출력층에서 각각의 neuron은 이전 층의 모든 뉴런과 연결되어 있음 (fully connected) : 입력이 은닉층의 모든 뉴런에 영향을 미치고, 은닉층의 각 뉴런은 출력층의 모든 뉴런에 영향을 미침\n",
        "* 입력층은 실제 계산을 하지 않음 -> MLP에서 실제 계산이 이루어지는 층은 은닉층과 출력층!\n",
        "\n",
        "#### 5.1.1.3.from linear to nonlinear\n",
        "* linear model의 한계 : 여러 층을 쌓아도 하나의 선형변환(affine transformation)에 불과함\n",
        "* 은닉층이 단순히 선형변환이라면 입력에 대해 출력까지의 변환은 여전히 선형적이라 복잡한 패턴을 학습하기 어려움 -> 은닉층에 비선형성이 없을 경우 선형 모델의 한계가 그대로 나타남\n",
        "\n",
        "##### 5.1.1.4.universal approximators\n",
        "* universal approximators theorem -> 하나의 hidden layer만 있는 MLP라도, 충분히 많은 노드와 적절한 가중치가 있으면 이 신경망은 어떤 함수라도 근사할 수 있음 : 단일 은닉층만으로도 이론적으로는 복잡한 함수들을 모두 표현가능하다!\n",
        "\n",
        "* 근데 이론적으로는 그런데,,,실제로 적절한 가중치 찾기는 매우 어려움,,,\n",
        "\n",
        "* 실제로 단일 은닉층으로 모든 문제를 해결하려면 비효율적임 -> kernel methods, deeper neural networks 등 다른 방법들이 더 효율적\n",
        "\n",
        "* deeper networks가 더 복잡한 함수들을 효율적으로 모델링.\n",
        "\n"
      ]
    },
    {
      "cell_type": "markdown",
      "source": [
        "### 5.1.2.activation functions\n",
        "\n",
        "#### 5.1.2.1.ReLU function\n",
        "* ReLU : 간단한 비선형 변환. input이 양수 -> 그대로 출력, input이 음수 -> 출력을 0으로\n",
        "* piecewise linear function로, 선형구간이 양수와 음수 2가지로 나뉨\n",
        "* ReLU 함수의 미분은 양수 구간에서는 1이고, 음수 구간에서는 0\n",
        "* ReLU는 파생 함수가 간단해서 계산 효율이 좋음 ,vanishing gradient problem에 도움이 됨(특히 deep neural networks에서), ReLU의 도함수가 0 또는 1이기 때문에 최적화 과정에서 잘 수렴"
      ],
      "metadata": {
        "id": "khvEZR8pCJZK"
      },
      "id": "khvEZR8pCJZK"
    },
    {
      "cell_type": "code",
      "execution_count": 54,
      "id": "61f13235-af77-4554-99a4-cc8703723c9c",
      "metadata": {
        "id": "61f13235-af77-4554-99a4-cc8703723c9c",
        "colab": {
          "base_uri": "https://localhost:8080/",
          "height": 265
        },
        "outputId": "cf172966-c99d-4821-aa6e-1c4fa7afcbbf"
      },
      "outputs": [
        {
          "output_type": "display_data",
          "data": {
            "text/plain": [
              "<Figure size 500x250 with 1 Axes>"
            ],
            "image/svg+xml": "<?xml version=\"1.0\" encoding=\"utf-8\" standalone=\"no\"?>\n<!DOCTYPE svg PUBLIC \"-//W3C//DTD SVG 1.1//EN\"\n  \"http://www.w3.org/Graphics/SVG/1.1/DTD/svg11.dtd\">\n<svg xmlns:xlink=\"http://www.w3.org/1999/xlink\" width=\"320.440625pt\" height=\"183.35625pt\" viewBox=\"0 0 320.440625 183.35625\" xmlns=\"http://www.w3.org/2000/svg\" version=\"1.1\">\n <metadata>\n  <rdf:RDF xmlns:dc=\"http://purl.org/dc/elements/1.1/\" xmlns:cc=\"http://creativecommons.org/ns#\" xmlns:rdf=\"http://www.w3.org/1999/02/22-rdf-syntax-ns#\">\n   <cc:Work>\n    <dc:type rdf:resource=\"http://purl.org/dc/dcmitype/StillImage\"/>\n    <dc:date>2024-09-24T03:17:33.496414</dc:date>\n    <dc:format>image/svg+xml</dc:format>\n    <dc:creator>\n     <cc:Agent>\n      <dc:title>Matplotlib v3.7.2, https://matplotlib.org/</dc:title>\n     </cc:Agent>\n    </dc:creator>\n   </cc:Work>\n  </rdf:RDF>\n </metadata>\n <defs>\n  <style type=\"text/css\">*{stroke-linejoin: round; stroke-linecap: butt}</style>\n </defs>\n <g id=\"figure_1\">\n  <g id=\"patch_1\">\n   <path d=\"M 0 183.35625 \nL 320.440625 183.35625 \nL 320.440625 0 \nL 0 0 \nz\n\" style=\"fill: #ffffff\"/>\n  </g>\n  <g id=\"axes_1\">\n   <g id=\"patch_2\">\n    <path d=\"M 34.240625 145.8 \nL 313.240625 145.8 \nL 313.240625 7.2 \nL 34.240625 7.2 \nz\n\" style=\"fill: #ffffff\"/>\n   </g>\n   <g id=\"matplotlib.axis_1\">\n    <g id=\"xtick_1\">\n     <g id=\"line2d_1\">\n      <path d=\"M 46.922443 145.8 \nL 46.922443 7.2 \n\" clip-path=\"url(#pe4d5823808)\" style=\"fill: none; stroke: #b0b0b0; stroke-width: 0.8; stroke-linecap: square\"/>\n     </g>\n     <g id=\"line2d_2\">\n      <defs>\n       <path id=\"mb7b0cee9b6\" d=\"M 0 0 \nL 0 3.5 \n\" style=\"stroke: #000000; stroke-width: 0.8\"/>\n      </defs>\n      <g>\n       <use xlink:href=\"#mb7b0cee9b6\" x=\"46.922443\" y=\"145.8\" style=\"stroke: #000000; stroke-width: 0.8\"/>\n      </g>\n     </g>\n     <g id=\"text_1\">\n      <!-- −8 -->\n      <g transform=\"translate(39.551349 160.398438) scale(0.1 -0.1)\">\n       <defs>\n        <path id=\"DejaVuSans-2212\" d=\"M 678 2272 \nL 4684 2272 \nL 4684 1741 \nL 678 1741 \nL 678 2272 \nz\n\" transform=\"scale(0.015625)\"/>\n        <path id=\"DejaVuSans-38\" d=\"M 2034 2216 \nQ 1584 2216 1326 1975 \nQ 1069 1734 1069 1313 \nQ 1069 891 1326 650 \nQ 1584 409 2034 409 \nQ 2484 409 2743 651 \nQ 3003 894 3003 1313 \nQ 3003 1734 2745 1975 \nQ 2488 2216 2034 2216 \nz\nM 1403 2484 \nQ 997 2584 770 2862 \nQ 544 3141 544 3541 \nQ 544 4100 942 4425 \nQ 1341 4750 2034 4750 \nQ 2731 4750 3128 4425 \nQ 3525 4100 3525 3541 \nQ 3525 3141 3298 2862 \nQ 3072 2584 2669 2484 \nQ 3125 2378 3379 2068 \nQ 3634 1759 3634 1313 \nQ 3634 634 3220 271 \nQ 2806 -91 2034 -91 \nQ 1263 -91 848 271 \nQ 434 634 434 1313 \nQ 434 1759 690 2068 \nQ 947 2378 1403 2484 \nz\nM 1172 3481 \nQ 1172 3119 1398 2916 \nQ 1625 2713 2034 2713 \nQ 2441 2713 2670 2916 \nQ 2900 3119 2900 3481 \nQ 2900 3844 2670 4047 \nQ 2441 4250 2034 4250 \nQ 1625 4250 1398 4047 \nQ 1172 3844 1172 3481 \nz\n\" transform=\"scale(0.015625)\"/>\n       </defs>\n       <use xlink:href=\"#DejaVuSans-2212\"/>\n       <use xlink:href=\"#DejaVuSans-38\" x=\"83.789062\"/>\n      </g>\n     </g>\n    </g>\n    <g id=\"xtick_2\">\n     <g id=\"line2d_3\">\n      <path d=\"M 78.826389 145.8 \nL 78.826389 7.2 \n\" clip-path=\"url(#pe4d5823808)\" style=\"fill: none; stroke: #b0b0b0; stroke-width: 0.8; stroke-linecap: square\"/>\n     </g>\n     <g id=\"line2d_4\">\n      <g>\n       <use xlink:href=\"#mb7b0cee9b6\" x=\"78.826389\" y=\"145.8\" style=\"stroke: #000000; stroke-width: 0.8\"/>\n      </g>\n     </g>\n     <g id=\"text_2\">\n      <!-- −6 -->\n      <g transform=\"translate(71.455295 160.398438) scale(0.1 -0.1)\">\n       <defs>\n        <path id=\"DejaVuSans-36\" d=\"M 2113 2584 \nQ 1688 2584 1439 2293 \nQ 1191 2003 1191 1497 \nQ 1191 994 1439 701 \nQ 1688 409 2113 409 \nQ 2538 409 2786 701 \nQ 3034 994 3034 1497 \nQ 3034 2003 2786 2293 \nQ 2538 2584 2113 2584 \nz\nM 3366 4563 \nL 3366 3988 \nQ 3128 4100 2886 4159 \nQ 2644 4219 2406 4219 \nQ 1781 4219 1451 3797 \nQ 1122 3375 1075 2522 \nQ 1259 2794 1537 2939 \nQ 1816 3084 2150 3084 \nQ 2853 3084 3261 2657 \nQ 3669 2231 3669 1497 \nQ 3669 778 3244 343 \nQ 2819 -91 2113 -91 \nQ 1303 -91 875 529 \nQ 447 1150 447 2328 \nQ 447 3434 972 4092 \nQ 1497 4750 2381 4750 \nQ 2619 4750 2861 4703 \nQ 3103 4656 3366 4563 \nz\n\" transform=\"scale(0.015625)\"/>\n       </defs>\n       <use xlink:href=\"#DejaVuSans-2212\"/>\n       <use xlink:href=\"#DejaVuSans-36\" x=\"83.789062\"/>\n      </g>\n     </g>\n    </g>\n    <g id=\"xtick_3\">\n     <g id=\"line2d_5\">\n      <path d=\"M 110.730335 145.8 \nL 110.730335 7.2 \n\" clip-path=\"url(#pe4d5823808)\" style=\"fill: none; stroke: #b0b0b0; stroke-width: 0.8; stroke-linecap: square\"/>\n     </g>\n     <g id=\"line2d_6\">\n      <g>\n       <use xlink:href=\"#mb7b0cee9b6\" x=\"110.730335\" y=\"145.8\" style=\"stroke: #000000; stroke-width: 0.8\"/>\n      </g>\n     </g>\n     <g id=\"text_3\">\n      <!-- −4 -->\n      <g transform=\"translate(103.359241 160.398438) scale(0.1 -0.1)\">\n       <defs>\n        <path id=\"DejaVuSans-34\" d=\"M 2419 4116 \nL 825 1625 \nL 2419 1625 \nL 2419 4116 \nz\nM 2253 4666 \nL 3047 4666 \nL 3047 1625 \nL 3713 1625 \nL 3713 1100 \nL 3047 1100 \nL 3047 0 \nL 2419 0 \nL 2419 1100 \nL 313 1100 \nL 313 1709 \nL 2253 4666 \nz\n\" transform=\"scale(0.015625)\"/>\n       </defs>\n       <use xlink:href=\"#DejaVuSans-2212\"/>\n       <use xlink:href=\"#DejaVuSans-34\" x=\"83.789062\"/>\n      </g>\n     </g>\n    </g>\n    <g id=\"xtick_4\">\n     <g id=\"line2d_7\">\n      <path d=\"M 142.634281 145.8 \nL 142.634281 7.2 \n\" clip-path=\"url(#pe4d5823808)\" style=\"fill: none; stroke: #b0b0b0; stroke-width: 0.8; stroke-linecap: square\"/>\n     </g>\n     <g id=\"line2d_8\">\n      <g>\n       <use xlink:href=\"#mb7b0cee9b6\" x=\"142.634281\" y=\"145.8\" style=\"stroke: #000000; stroke-width: 0.8\"/>\n      </g>\n     </g>\n     <g id=\"text_4\">\n      <!-- −2 -->\n      <g transform=\"translate(135.263187 160.398438) scale(0.1 -0.1)\">\n       <defs>\n        <path id=\"DejaVuSans-32\" d=\"M 1228 531 \nL 3431 531 \nL 3431 0 \nL 469 0 \nL 469 531 \nQ 828 903 1448 1529 \nQ 2069 2156 2228 2338 \nQ 2531 2678 2651 2914 \nQ 2772 3150 2772 3378 \nQ 2772 3750 2511 3984 \nQ 2250 4219 1831 4219 \nQ 1534 4219 1204 4116 \nQ 875 4013 500 3803 \nL 500 4441 \nQ 881 4594 1212 4672 \nQ 1544 4750 1819 4750 \nQ 2544 4750 2975 4387 \nQ 3406 4025 3406 3419 \nQ 3406 3131 3298 2873 \nQ 3191 2616 2906 2266 \nQ 2828 2175 2409 1742 \nQ 1991 1309 1228 531 \nz\n\" transform=\"scale(0.015625)\"/>\n       </defs>\n       <use xlink:href=\"#DejaVuSans-2212\"/>\n       <use xlink:href=\"#DejaVuSans-32\" x=\"83.789062\"/>\n      </g>\n     </g>\n    </g>\n    <g id=\"xtick_5\">\n     <g id=\"line2d_9\">\n      <path d=\"M 174.538227 145.8 \nL 174.538227 7.2 \n\" clip-path=\"url(#pe4d5823808)\" style=\"fill: none; stroke: #b0b0b0; stroke-width: 0.8; stroke-linecap: square\"/>\n     </g>\n     <g id=\"line2d_10\">\n      <g>\n       <use xlink:href=\"#mb7b0cee9b6\" x=\"174.538227\" y=\"145.8\" style=\"stroke: #000000; stroke-width: 0.8\"/>\n      </g>\n     </g>\n     <g id=\"text_5\">\n      <!-- 0 -->\n      <g transform=\"translate(171.356977 160.398438) scale(0.1 -0.1)\">\n       <defs>\n        <path id=\"DejaVuSans-30\" d=\"M 2034 4250 \nQ 1547 4250 1301 3770 \nQ 1056 3291 1056 2328 \nQ 1056 1369 1301 889 \nQ 1547 409 2034 409 \nQ 2525 409 2770 889 \nQ 3016 1369 3016 2328 \nQ 3016 3291 2770 3770 \nQ 2525 4250 2034 4250 \nz\nM 2034 4750 \nQ 2819 4750 3233 4129 \nQ 3647 3509 3647 2328 \nQ 3647 1150 3233 529 \nQ 2819 -91 2034 -91 \nQ 1250 -91 836 529 \nQ 422 1150 422 2328 \nQ 422 3509 836 4129 \nQ 1250 4750 2034 4750 \nz\n\" transform=\"scale(0.015625)\"/>\n       </defs>\n       <use xlink:href=\"#DejaVuSans-30\"/>\n      </g>\n     </g>\n    </g>\n    <g id=\"xtick_6\">\n     <g id=\"line2d_11\">\n      <path d=\"M 206.442173 145.8 \nL 206.442173 7.2 \n\" clip-path=\"url(#pe4d5823808)\" style=\"fill: none; stroke: #b0b0b0; stroke-width: 0.8; stroke-linecap: square\"/>\n     </g>\n     <g id=\"line2d_12\">\n      <g>\n       <use xlink:href=\"#mb7b0cee9b6\" x=\"206.442173\" y=\"145.8\" style=\"stroke: #000000; stroke-width: 0.8\"/>\n      </g>\n     </g>\n     <g id=\"text_6\">\n      <!-- 2 -->\n      <g transform=\"translate(203.260923 160.398438) scale(0.1 -0.1)\">\n       <use xlink:href=\"#DejaVuSans-32\"/>\n      </g>\n     </g>\n    </g>\n    <g id=\"xtick_7\">\n     <g id=\"line2d_13\">\n      <path d=\"M 238.346118 145.8 \nL 238.346118 7.2 \n\" clip-path=\"url(#pe4d5823808)\" style=\"fill: none; stroke: #b0b0b0; stroke-width: 0.8; stroke-linecap: square\"/>\n     </g>\n     <g id=\"line2d_14\">\n      <g>\n       <use xlink:href=\"#mb7b0cee9b6\" x=\"238.346118\" y=\"145.8\" style=\"stroke: #000000; stroke-width: 0.8\"/>\n      </g>\n     </g>\n     <g id=\"text_7\">\n      <!-- 4 -->\n      <g transform=\"translate(235.164868 160.398438) scale(0.1 -0.1)\">\n       <use xlink:href=\"#DejaVuSans-34\"/>\n      </g>\n     </g>\n    </g>\n    <g id=\"xtick_8\">\n     <g id=\"line2d_15\">\n      <path d=\"M 270.250064 145.8 \nL 270.250064 7.2 \n\" clip-path=\"url(#pe4d5823808)\" style=\"fill: none; stroke: #b0b0b0; stroke-width: 0.8; stroke-linecap: square\"/>\n     </g>\n     <g id=\"line2d_16\">\n      <g>\n       <use xlink:href=\"#mb7b0cee9b6\" x=\"270.250064\" y=\"145.8\" style=\"stroke: #000000; stroke-width: 0.8\"/>\n      </g>\n     </g>\n     <g id=\"text_8\">\n      <!-- 6 -->\n      <g transform=\"translate(267.068814 160.398438) scale(0.1 -0.1)\">\n       <use xlink:href=\"#DejaVuSans-36\"/>\n      </g>\n     </g>\n    </g>\n    <g id=\"xtick_9\">\n     <g id=\"line2d_17\">\n      <path d=\"M 302.15401 145.8 \nL 302.15401 7.2 \n\" clip-path=\"url(#pe4d5823808)\" style=\"fill: none; stroke: #b0b0b0; stroke-width: 0.8; stroke-linecap: square\"/>\n     </g>\n     <g id=\"line2d_18\">\n      <g>\n       <use xlink:href=\"#mb7b0cee9b6\" x=\"302.15401\" y=\"145.8\" style=\"stroke: #000000; stroke-width: 0.8\"/>\n      </g>\n     </g>\n     <g id=\"text_9\">\n      <!-- 8 -->\n      <g transform=\"translate(298.97276 160.398438) scale(0.1 -0.1)\">\n       <use xlink:href=\"#DejaVuSans-38\"/>\n      </g>\n     </g>\n    </g>\n    <g id=\"text_10\">\n     <!-- x -->\n     <g transform=\"translate(170.78125 174.076563) scale(0.1 -0.1)\">\n      <defs>\n       <path id=\"DejaVuSans-78\" d=\"M 3513 3500 \nL 2247 1797 \nL 3578 0 \nL 2900 0 \nL 1881 1375 \nL 863 0 \nL 184 0 \nL 1544 1831 \nL 300 3500 \nL 978 3500 \nL 1906 2253 \nL 2834 3500 \nL 3513 3500 \nz\n\" transform=\"scale(0.015625)\"/>\n      </defs>\n      <use xlink:href=\"#DejaVuSans-78\"/>\n     </g>\n    </g>\n   </g>\n   <g id=\"matplotlib.axis_2\">\n    <g id=\"ytick_1\">\n     <g id=\"line2d_19\">\n      <path d=\"M 34.240625 139.5 \nL 313.240625 139.5 \n\" clip-path=\"url(#pe4d5823808)\" style=\"fill: none; stroke: #b0b0b0; stroke-width: 0.8; stroke-linecap: square\"/>\n     </g>\n     <g id=\"line2d_20\">\n      <defs>\n       <path id=\"m7672ee43f7\" d=\"M 0 0 \nL -3.5 0 \n\" style=\"stroke: #000000; stroke-width: 0.8\"/>\n      </defs>\n      <g>\n       <use xlink:href=\"#m7672ee43f7\" x=\"34.240625\" y=\"139.5\" style=\"stroke: #000000; stroke-width: 0.8\"/>\n      </g>\n     </g>\n     <g id=\"text_11\">\n      <!-- 0 -->\n      <g transform=\"translate(20.878125 143.299219) scale(0.1 -0.1)\">\n       <use xlink:href=\"#DejaVuSans-30\"/>\n      </g>\n     </g>\n    </g>\n    <g id=\"ytick_2\">\n     <g id=\"line2d_21\">\n      <path d=\"M 34.240625 107.601264 \nL 313.240625 107.601264 \n\" clip-path=\"url(#pe4d5823808)\" style=\"fill: none; stroke: #b0b0b0; stroke-width: 0.8; stroke-linecap: square\"/>\n     </g>\n     <g id=\"line2d_22\">\n      <g>\n       <use xlink:href=\"#m7672ee43f7\" x=\"34.240625\" y=\"107.601264\" style=\"stroke: #000000; stroke-width: 0.8\"/>\n      </g>\n     </g>\n     <g id=\"text_12\">\n      <!-- 2 -->\n      <g transform=\"translate(20.878125 111.400483) scale(0.1 -0.1)\">\n       <use xlink:href=\"#DejaVuSans-32\"/>\n      </g>\n     </g>\n    </g>\n    <g id=\"ytick_3\">\n     <g id=\"line2d_23\">\n      <path d=\"M 34.240625 75.702529 \nL 313.240625 75.702529 \n\" clip-path=\"url(#pe4d5823808)\" style=\"fill: none; stroke: #b0b0b0; stroke-width: 0.8; stroke-linecap: square\"/>\n     </g>\n     <g id=\"line2d_24\">\n      <g>\n       <use xlink:href=\"#m7672ee43f7\" x=\"34.240625\" y=\"75.702529\" style=\"stroke: #000000; stroke-width: 0.8\"/>\n      </g>\n     </g>\n     <g id=\"text_13\">\n      <!-- 4 -->\n      <g transform=\"translate(20.878125 79.501747) scale(0.1 -0.1)\">\n       <use xlink:href=\"#DejaVuSans-34\"/>\n      </g>\n     </g>\n    </g>\n    <g id=\"ytick_4\">\n     <g id=\"line2d_25\">\n      <path d=\"M 34.240625 43.803793 \nL 313.240625 43.803793 \n\" clip-path=\"url(#pe4d5823808)\" style=\"fill: none; stroke: #b0b0b0; stroke-width: 0.8; stroke-linecap: square\"/>\n     </g>\n     <g id=\"line2d_26\">\n      <g>\n       <use xlink:href=\"#m7672ee43f7\" x=\"34.240625\" y=\"43.803793\" style=\"stroke: #000000; stroke-width: 0.8\"/>\n      </g>\n     </g>\n     <g id=\"text_14\">\n      <!-- 6 -->\n      <g transform=\"translate(20.878125 47.603012) scale(0.1 -0.1)\">\n       <use xlink:href=\"#DejaVuSans-36\"/>\n      </g>\n     </g>\n    </g>\n    <g id=\"ytick_5\">\n     <g id=\"line2d_27\">\n      <path d=\"M 34.240625 11.905057 \nL 313.240625 11.905057 \n\" clip-path=\"url(#pe4d5823808)\" style=\"fill: none; stroke: #b0b0b0; stroke-width: 0.8; stroke-linecap: square\"/>\n     </g>\n     <g id=\"line2d_28\">\n      <g>\n       <use xlink:href=\"#m7672ee43f7\" x=\"34.240625\" y=\"11.905057\" style=\"stroke: #000000; stroke-width: 0.8\"/>\n      </g>\n     </g>\n     <g id=\"text_15\">\n      <!-- 8 -->\n      <g transform=\"translate(20.878125 15.704276) scale(0.1 -0.1)\">\n       <use xlink:href=\"#DejaVuSans-38\"/>\n      </g>\n     </g>\n    </g>\n    <g id=\"text_16\">\n     <!-- relu(x) -->\n     <g transform=\"translate(14.798438 92.938281) rotate(-90) scale(0.1 -0.1)\">\n      <defs>\n       <path id=\"DejaVuSans-72\" d=\"M 2631 2963 \nQ 2534 3019 2420 3045 \nQ 2306 3072 2169 3072 \nQ 1681 3072 1420 2755 \nQ 1159 2438 1159 1844 \nL 1159 0 \nL 581 0 \nL 581 3500 \nL 1159 3500 \nL 1159 2956 \nQ 1341 3275 1631 3429 \nQ 1922 3584 2338 3584 \nQ 2397 3584 2469 3576 \nQ 2541 3569 2628 3553 \nL 2631 2963 \nz\n\" transform=\"scale(0.015625)\"/>\n       <path id=\"DejaVuSans-65\" d=\"M 3597 1894 \nL 3597 1613 \nL 953 1613 \nQ 991 1019 1311 708 \nQ 1631 397 2203 397 \nQ 2534 397 2845 478 \nQ 3156 559 3463 722 \nL 3463 178 \nQ 3153 47 2828 -22 \nQ 2503 -91 2169 -91 \nQ 1331 -91 842 396 \nQ 353 884 353 1716 \nQ 353 2575 817 3079 \nQ 1281 3584 2069 3584 \nQ 2775 3584 3186 3129 \nQ 3597 2675 3597 1894 \nz\nM 3022 2063 \nQ 3016 2534 2758 2815 \nQ 2500 3097 2075 3097 \nQ 1594 3097 1305 2825 \nQ 1016 2553 972 2059 \nL 3022 2063 \nz\n\" transform=\"scale(0.015625)\"/>\n       <path id=\"DejaVuSans-6c\" d=\"M 603 4863 \nL 1178 4863 \nL 1178 0 \nL 603 0 \nL 603 4863 \nz\n\" transform=\"scale(0.015625)\"/>\n       <path id=\"DejaVuSans-75\" d=\"M 544 1381 \nL 544 3500 \nL 1119 3500 \nL 1119 1403 \nQ 1119 906 1312 657 \nQ 1506 409 1894 409 \nQ 2359 409 2629 706 \nQ 2900 1003 2900 1516 \nL 2900 3500 \nL 3475 3500 \nL 3475 0 \nL 2900 0 \nL 2900 538 \nQ 2691 219 2414 64 \nQ 2138 -91 1772 -91 \nQ 1169 -91 856 284 \nQ 544 659 544 1381 \nz\nM 1991 3584 \nL 1991 3584 \nz\n\" transform=\"scale(0.015625)\"/>\n       <path id=\"DejaVuSans-28\" d=\"M 1984 4856 \nQ 1566 4138 1362 3434 \nQ 1159 2731 1159 2009 \nQ 1159 1288 1364 580 \nQ 1569 -128 1984 -844 \nL 1484 -844 \nQ 1016 -109 783 600 \nQ 550 1309 550 2009 \nQ 550 2706 781 3412 \nQ 1013 4119 1484 4856 \nL 1984 4856 \nz\n\" transform=\"scale(0.015625)\"/>\n       <path id=\"DejaVuSans-29\" d=\"M 513 4856 \nL 1013 4856 \nQ 1481 4119 1714 3412 \nQ 1947 2706 1947 2009 \nQ 1947 1309 1714 600 \nQ 1481 -109 1013 -844 \nL 513 -844 \nQ 928 -128 1133 580 \nQ 1338 1288 1338 2009 \nQ 1338 2731 1133 3434 \nQ 928 4138 513 4856 \nz\n\" transform=\"scale(0.015625)\"/>\n      </defs>\n      <use xlink:href=\"#DejaVuSans-72\"/>\n      <use xlink:href=\"#DejaVuSans-65\" x=\"38.863281\"/>\n      <use xlink:href=\"#DejaVuSans-6c\" x=\"100.386719\"/>\n      <use xlink:href=\"#DejaVuSans-75\" x=\"128.169922\"/>\n      <use xlink:href=\"#DejaVuSans-28\" x=\"191.548828\"/>\n      <use xlink:href=\"#DejaVuSans-78\" x=\"230.5625\"/>\n      <use xlink:href=\"#DejaVuSans-29\" x=\"289.742188\"/>\n     </g>\n    </g>\n   </g>\n   <g id=\"line2d_29\">\n    <path d=\"M 46.922443 139.5 \nL 174.538227 139.5 \nL 300.558807 13.5 \nL 300.558807 13.5 \n\" clip-path=\"url(#pe4d5823808)\" style=\"fill: none; stroke: #1f77b4; stroke-width: 1.5; stroke-linecap: square\"/>\n   </g>\n   <g id=\"patch_3\">\n    <path d=\"M 34.240625 145.8 \nL 34.240625 7.2 \n\" style=\"fill: none; stroke: #000000; stroke-width: 0.8; stroke-linejoin: miter; stroke-linecap: square\"/>\n   </g>\n   <g id=\"patch_4\">\n    <path d=\"M 313.240625 145.8 \nL 313.240625 7.2 \n\" style=\"fill: none; stroke: #000000; stroke-width: 0.8; stroke-linejoin: miter; stroke-linecap: square\"/>\n   </g>\n   <g id=\"patch_5\">\n    <path d=\"M 34.240625 145.8 \nL 313.240625 145.8 \n\" style=\"fill: none; stroke: #000000; stroke-width: 0.8; stroke-linejoin: miter; stroke-linecap: square\"/>\n   </g>\n   <g id=\"patch_6\">\n    <path d=\"M 34.240625 7.2 \nL 313.240625 7.2 \n\" style=\"fill: none; stroke: #000000; stroke-width: 0.8; stroke-linejoin: miter; stroke-linecap: square\"/>\n   </g>\n  </g>\n </g>\n <defs>\n  <clipPath id=\"pe4d5823808\">\n   <rect x=\"34.240625\" y=\"7.2\" width=\"279\" height=\"138.6\"/>\n  </clipPath>\n </defs>\n</svg>\n"
          },
          "metadata": {}
        }
      ],
      "source": [
        "x = torch.arange(-8.0, 8.0, 0.1, requires_grad=True)\n",
        "y = torch.relu(x)\n",
        "d2l.plot(x.detach(), y.detach(), 'x', 'relu(x)', figsize=(5, 2.5))"
      ]
    },
    {
      "cell_type": "code",
      "source": [
        "y.backward(torch.ones_like(x), retain_graph=True)\n",
        "d2l.plot(x.detach(), x.grad, 'x', 'grad of relu', figsize=(5, 2.5))"
      ],
      "metadata": {
        "colab": {
          "base_uri": "https://localhost:8080/",
          "height": 265
        },
        "id": "ga236jjICL2R",
        "outputId": "6e27c2f0-b6c6-4e3c-93b7-8407ca113355"
      },
      "id": "ga236jjICL2R",
      "execution_count": 55,
      "outputs": [
        {
          "output_type": "display_data",
          "data": {
            "text/plain": [
              "<Figure size 500x250 with 1 Axes>"
            ],
            "image/svg+xml": "<?xml version=\"1.0\" encoding=\"utf-8\" standalone=\"no\"?>\n<!DOCTYPE svg PUBLIC \"-//W3C//DTD SVG 1.1//EN\"\n  \"http://www.w3.org/Graphics/SVG/1.1/DTD/svg11.dtd\">\n<svg xmlns:xlink=\"http://www.w3.org/1999/xlink\" width=\"329.98125pt\" height=\"183.35625pt\" viewBox=\"0 0 329.98125 183.35625\" xmlns=\"http://www.w3.org/2000/svg\" version=\"1.1\">\n <metadata>\n  <rdf:RDF xmlns:dc=\"http://purl.org/dc/elements/1.1/\" xmlns:cc=\"http://creativecommons.org/ns#\" xmlns:rdf=\"http://www.w3.org/1999/02/22-rdf-syntax-ns#\">\n   <cc:Work>\n    <dc:type rdf:resource=\"http://purl.org/dc/dcmitype/StillImage\"/>\n    <dc:date>2024-09-24T03:17:41.830224</dc:date>\n    <dc:format>image/svg+xml</dc:format>\n    <dc:creator>\n     <cc:Agent>\n      <dc:title>Matplotlib v3.7.2, https://matplotlib.org/</dc:title>\n     </cc:Agent>\n    </dc:creator>\n   </cc:Work>\n  </rdf:RDF>\n </metadata>\n <defs>\n  <style type=\"text/css\">*{stroke-linejoin: round; stroke-linecap: butt}</style>\n </defs>\n <g id=\"figure_1\">\n  <g id=\"patch_1\">\n   <path d=\"M 0 183.35625 \nL 329.98125 183.35625 \nL 329.98125 0 \nL 0 0 \nz\n\" style=\"fill: #ffffff\"/>\n  </g>\n  <g id=\"axes_1\">\n   <g id=\"patch_2\">\n    <path d=\"M 43.78125 145.8 \nL 322.78125 145.8 \nL 322.78125 7.2 \nL 43.78125 7.2 \nz\n\" style=\"fill: #ffffff\"/>\n   </g>\n   <g id=\"matplotlib.axis_1\">\n    <g id=\"xtick_1\">\n     <g id=\"line2d_1\">\n      <path d=\"M 56.463068 145.8 \nL 56.463068 7.2 \n\" clip-path=\"url(#pb2b1525d2e)\" style=\"fill: none; stroke: #b0b0b0; stroke-width: 0.8; stroke-linecap: square\"/>\n     </g>\n     <g id=\"line2d_2\">\n      <defs>\n       <path id=\"m7f07fb8040\" d=\"M 0 0 \nL 0 3.5 \n\" style=\"stroke: #000000; stroke-width: 0.8\"/>\n      </defs>\n      <g>\n       <use xlink:href=\"#m7f07fb8040\" x=\"56.463068\" y=\"145.8\" style=\"stroke: #000000; stroke-width: 0.8\"/>\n      </g>\n     </g>\n     <g id=\"text_1\">\n      <!-- −8 -->\n      <g transform=\"translate(49.091974 160.398438) scale(0.1 -0.1)\">\n       <defs>\n        <path id=\"DejaVuSans-2212\" d=\"M 678 2272 \nL 4684 2272 \nL 4684 1741 \nL 678 1741 \nL 678 2272 \nz\n\" transform=\"scale(0.015625)\"/>\n        <path id=\"DejaVuSans-38\" d=\"M 2034 2216 \nQ 1584 2216 1326 1975 \nQ 1069 1734 1069 1313 \nQ 1069 891 1326 650 \nQ 1584 409 2034 409 \nQ 2484 409 2743 651 \nQ 3003 894 3003 1313 \nQ 3003 1734 2745 1975 \nQ 2488 2216 2034 2216 \nz\nM 1403 2484 \nQ 997 2584 770 2862 \nQ 544 3141 544 3541 \nQ 544 4100 942 4425 \nQ 1341 4750 2034 4750 \nQ 2731 4750 3128 4425 \nQ 3525 4100 3525 3541 \nQ 3525 3141 3298 2862 \nQ 3072 2584 2669 2484 \nQ 3125 2378 3379 2068 \nQ 3634 1759 3634 1313 \nQ 3634 634 3220 271 \nQ 2806 -91 2034 -91 \nQ 1263 -91 848 271 \nQ 434 634 434 1313 \nQ 434 1759 690 2068 \nQ 947 2378 1403 2484 \nz\nM 1172 3481 \nQ 1172 3119 1398 2916 \nQ 1625 2713 2034 2713 \nQ 2441 2713 2670 2916 \nQ 2900 3119 2900 3481 \nQ 2900 3844 2670 4047 \nQ 2441 4250 2034 4250 \nQ 1625 4250 1398 4047 \nQ 1172 3844 1172 3481 \nz\n\" transform=\"scale(0.015625)\"/>\n       </defs>\n       <use xlink:href=\"#DejaVuSans-2212\"/>\n       <use xlink:href=\"#DejaVuSans-38\" x=\"83.789062\"/>\n      </g>\n     </g>\n    </g>\n    <g id=\"xtick_2\">\n     <g id=\"line2d_3\">\n      <path d=\"M 88.367014 145.8 \nL 88.367014 7.2 \n\" clip-path=\"url(#pb2b1525d2e)\" style=\"fill: none; stroke: #b0b0b0; stroke-width: 0.8; stroke-linecap: square\"/>\n     </g>\n     <g id=\"line2d_4\">\n      <g>\n       <use xlink:href=\"#m7f07fb8040\" x=\"88.367014\" y=\"145.8\" style=\"stroke: #000000; stroke-width: 0.8\"/>\n      </g>\n     </g>\n     <g id=\"text_2\">\n      <!-- −6 -->\n      <g transform=\"translate(80.99592 160.398438) scale(0.1 -0.1)\">\n       <defs>\n        <path id=\"DejaVuSans-36\" d=\"M 2113 2584 \nQ 1688 2584 1439 2293 \nQ 1191 2003 1191 1497 \nQ 1191 994 1439 701 \nQ 1688 409 2113 409 \nQ 2538 409 2786 701 \nQ 3034 994 3034 1497 \nQ 3034 2003 2786 2293 \nQ 2538 2584 2113 2584 \nz\nM 3366 4563 \nL 3366 3988 \nQ 3128 4100 2886 4159 \nQ 2644 4219 2406 4219 \nQ 1781 4219 1451 3797 \nQ 1122 3375 1075 2522 \nQ 1259 2794 1537 2939 \nQ 1816 3084 2150 3084 \nQ 2853 3084 3261 2657 \nQ 3669 2231 3669 1497 \nQ 3669 778 3244 343 \nQ 2819 -91 2113 -91 \nQ 1303 -91 875 529 \nQ 447 1150 447 2328 \nQ 447 3434 972 4092 \nQ 1497 4750 2381 4750 \nQ 2619 4750 2861 4703 \nQ 3103 4656 3366 4563 \nz\n\" transform=\"scale(0.015625)\"/>\n       </defs>\n       <use xlink:href=\"#DejaVuSans-2212\"/>\n       <use xlink:href=\"#DejaVuSans-36\" x=\"83.789062\"/>\n      </g>\n     </g>\n    </g>\n    <g id=\"xtick_3\">\n     <g id=\"line2d_5\">\n      <path d=\"M 120.27096 145.8 \nL 120.27096 7.2 \n\" clip-path=\"url(#pb2b1525d2e)\" style=\"fill: none; stroke: #b0b0b0; stroke-width: 0.8; stroke-linecap: square\"/>\n     </g>\n     <g id=\"line2d_6\">\n      <g>\n       <use xlink:href=\"#m7f07fb8040\" x=\"120.27096\" y=\"145.8\" style=\"stroke: #000000; stroke-width: 0.8\"/>\n      </g>\n     </g>\n     <g id=\"text_3\">\n      <!-- −4 -->\n      <g transform=\"translate(112.899866 160.398438) scale(0.1 -0.1)\">\n       <defs>\n        <path id=\"DejaVuSans-34\" d=\"M 2419 4116 \nL 825 1625 \nL 2419 1625 \nL 2419 4116 \nz\nM 2253 4666 \nL 3047 4666 \nL 3047 1625 \nL 3713 1625 \nL 3713 1100 \nL 3047 1100 \nL 3047 0 \nL 2419 0 \nL 2419 1100 \nL 313 1100 \nL 313 1709 \nL 2253 4666 \nz\n\" transform=\"scale(0.015625)\"/>\n       </defs>\n       <use xlink:href=\"#DejaVuSans-2212\"/>\n       <use xlink:href=\"#DejaVuSans-34\" x=\"83.789062\"/>\n      </g>\n     </g>\n    </g>\n    <g id=\"xtick_4\">\n     <g id=\"line2d_7\">\n      <path d=\"M 152.174906 145.8 \nL 152.174906 7.2 \n\" clip-path=\"url(#pb2b1525d2e)\" style=\"fill: none; stroke: #b0b0b0; stroke-width: 0.8; stroke-linecap: square\"/>\n     </g>\n     <g id=\"line2d_8\">\n      <g>\n       <use xlink:href=\"#m7f07fb8040\" x=\"152.174906\" y=\"145.8\" style=\"stroke: #000000; stroke-width: 0.8\"/>\n      </g>\n     </g>\n     <g id=\"text_4\">\n      <!-- −2 -->\n      <g transform=\"translate(144.803812 160.398438) scale(0.1 -0.1)\">\n       <defs>\n        <path id=\"DejaVuSans-32\" d=\"M 1228 531 \nL 3431 531 \nL 3431 0 \nL 469 0 \nL 469 531 \nQ 828 903 1448 1529 \nQ 2069 2156 2228 2338 \nQ 2531 2678 2651 2914 \nQ 2772 3150 2772 3378 \nQ 2772 3750 2511 3984 \nQ 2250 4219 1831 4219 \nQ 1534 4219 1204 4116 \nQ 875 4013 500 3803 \nL 500 4441 \nQ 881 4594 1212 4672 \nQ 1544 4750 1819 4750 \nQ 2544 4750 2975 4387 \nQ 3406 4025 3406 3419 \nQ 3406 3131 3298 2873 \nQ 3191 2616 2906 2266 \nQ 2828 2175 2409 1742 \nQ 1991 1309 1228 531 \nz\n\" transform=\"scale(0.015625)\"/>\n       </defs>\n       <use xlink:href=\"#DejaVuSans-2212\"/>\n       <use xlink:href=\"#DejaVuSans-32\" x=\"83.789062\"/>\n      </g>\n     </g>\n    </g>\n    <g id=\"xtick_5\">\n     <g id=\"line2d_9\">\n      <path d=\"M 184.078852 145.8 \nL 184.078852 7.2 \n\" clip-path=\"url(#pb2b1525d2e)\" style=\"fill: none; stroke: #b0b0b0; stroke-width: 0.8; stroke-linecap: square\"/>\n     </g>\n     <g id=\"line2d_10\">\n      <g>\n       <use xlink:href=\"#m7f07fb8040\" x=\"184.078852\" y=\"145.8\" style=\"stroke: #000000; stroke-width: 0.8\"/>\n      </g>\n     </g>\n     <g id=\"text_5\">\n      <!-- 0 -->\n      <g transform=\"translate(180.897602 160.398438) scale(0.1 -0.1)\">\n       <defs>\n        <path id=\"DejaVuSans-30\" d=\"M 2034 4250 \nQ 1547 4250 1301 3770 \nQ 1056 3291 1056 2328 \nQ 1056 1369 1301 889 \nQ 1547 409 2034 409 \nQ 2525 409 2770 889 \nQ 3016 1369 3016 2328 \nQ 3016 3291 2770 3770 \nQ 2525 4250 2034 4250 \nz\nM 2034 4750 \nQ 2819 4750 3233 4129 \nQ 3647 3509 3647 2328 \nQ 3647 1150 3233 529 \nQ 2819 -91 2034 -91 \nQ 1250 -91 836 529 \nQ 422 1150 422 2328 \nQ 422 3509 836 4129 \nQ 1250 4750 2034 4750 \nz\n\" transform=\"scale(0.015625)\"/>\n       </defs>\n       <use xlink:href=\"#DejaVuSans-30\"/>\n      </g>\n     </g>\n    </g>\n    <g id=\"xtick_6\">\n     <g id=\"line2d_11\">\n      <path d=\"M 215.982798 145.8 \nL 215.982798 7.2 \n\" clip-path=\"url(#pb2b1525d2e)\" style=\"fill: none; stroke: #b0b0b0; stroke-width: 0.8; stroke-linecap: square\"/>\n     </g>\n     <g id=\"line2d_12\">\n      <g>\n       <use xlink:href=\"#m7f07fb8040\" x=\"215.982798\" y=\"145.8\" style=\"stroke: #000000; stroke-width: 0.8\"/>\n      </g>\n     </g>\n     <g id=\"text_6\">\n      <!-- 2 -->\n      <g transform=\"translate(212.801548 160.398438) scale(0.1 -0.1)\">\n       <use xlink:href=\"#DejaVuSans-32\"/>\n      </g>\n     </g>\n    </g>\n    <g id=\"xtick_7\">\n     <g id=\"line2d_13\">\n      <path d=\"M 247.886743 145.8 \nL 247.886743 7.2 \n\" clip-path=\"url(#pb2b1525d2e)\" style=\"fill: none; stroke: #b0b0b0; stroke-width: 0.8; stroke-linecap: square\"/>\n     </g>\n     <g id=\"line2d_14\">\n      <g>\n       <use xlink:href=\"#m7f07fb8040\" x=\"247.886743\" y=\"145.8\" style=\"stroke: #000000; stroke-width: 0.8\"/>\n      </g>\n     </g>\n     <g id=\"text_7\">\n      <!-- 4 -->\n      <g transform=\"translate(244.705493 160.398438) scale(0.1 -0.1)\">\n       <use xlink:href=\"#DejaVuSans-34\"/>\n      </g>\n     </g>\n    </g>\n    <g id=\"xtick_8\">\n     <g id=\"line2d_15\">\n      <path d=\"M 279.790689 145.8 \nL 279.790689 7.2 \n\" clip-path=\"url(#pb2b1525d2e)\" style=\"fill: none; stroke: #b0b0b0; stroke-width: 0.8; stroke-linecap: square\"/>\n     </g>\n     <g id=\"line2d_16\">\n      <g>\n       <use xlink:href=\"#m7f07fb8040\" x=\"279.790689\" y=\"145.8\" style=\"stroke: #000000; stroke-width: 0.8\"/>\n      </g>\n     </g>\n     <g id=\"text_8\">\n      <!-- 6 -->\n      <g transform=\"translate(276.609439 160.398438) scale(0.1 -0.1)\">\n       <use xlink:href=\"#DejaVuSans-36\"/>\n      </g>\n     </g>\n    </g>\n    <g id=\"xtick_9\">\n     <g id=\"line2d_17\">\n      <path d=\"M 311.694635 145.8 \nL 311.694635 7.2 \n\" clip-path=\"url(#pb2b1525d2e)\" style=\"fill: none; stroke: #b0b0b0; stroke-width: 0.8; stroke-linecap: square\"/>\n     </g>\n     <g id=\"line2d_18\">\n      <g>\n       <use xlink:href=\"#m7f07fb8040\" x=\"311.694635\" y=\"145.8\" style=\"stroke: #000000; stroke-width: 0.8\"/>\n      </g>\n     </g>\n     <g id=\"text_9\">\n      <!-- 8 -->\n      <g transform=\"translate(308.513385 160.398438) scale(0.1 -0.1)\">\n       <use xlink:href=\"#DejaVuSans-38\"/>\n      </g>\n     </g>\n    </g>\n    <g id=\"text_10\">\n     <!-- x -->\n     <g transform=\"translate(180.321875 174.076563) scale(0.1 -0.1)\">\n      <defs>\n       <path id=\"DejaVuSans-78\" d=\"M 3513 3500 \nL 2247 1797 \nL 3578 0 \nL 2900 0 \nL 1881 1375 \nL 863 0 \nL 184 0 \nL 1544 1831 \nL 300 3500 \nL 978 3500 \nL 1906 2253 \nL 2834 3500 \nL 3513 3500 \nz\n\" transform=\"scale(0.015625)\"/>\n      </defs>\n      <use xlink:href=\"#DejaVuSans-78\"/>\n     </g>\n    </g>\n   </g>\n   <g id=\"matplotlib.axis_2\">\n    <g id=\"ytick_1\">\n     <g id=\"line2d_19\">\n      <path d=\"M 43.78125 139.5 \nL 322.78125 139.5 \n\" clip-path=\"url(#pb2b1525d2e)\" style=\"fill: none; stroke: #b0b0b0; stroke-width: 0.8; stroke-linecap: square\"/>\n     </g>\n     <g id=\"line2d_20\">\n      <defs>\n       <path id=\"m6cfd5c3b9e\" d=\"M 0 0 \nL -3.5 0 \n\" style=\"stroke: #000000; stroke-width: 0.8\"/>\n      </defs>\n      <g>\n       <use xlink:href=\"#m6cfd5c3b9e\" x=\"43.78125\" y=\"139.5\" style=\"stroke: #000000; stroke-width: 0.8\"/>\n      </g>\n     </g>\n     <g id=\"text_11\">\n      <!-- 0.0 -->\n      <g transform=\"translate(20.878125 143.299219) scale(0.1 -0.1)\">\n       <defs>\n        <path id=\"DejaVuSans-2e\" d=\"M 684 794 \nL 1344 794 \nL 1344 0 \nL 684 0 \nL 684 794 \nz\n\" transform=\"scale(0.015625)\"/>\n       </defs>\n       <use xlink:href=\"#DejaVuSans-30\"/>\n       <use xlink:href=\"#DejaVuSans-2e\" x=\"63.623047\"/>\n       <use xlink:href=\"#DejaVuSans-30\" x=\"95.410156\"/>\n      </g>\n     </g>\n    </g>\n    <g id=\"ytick_2\">\n     <g id=\"line2d_21\">\n      <path d=\"M 43.78125 114.3 \nL 322.78125 114.3 \n\" clip-path=\"url(#pb2b1525d2e)\" style=\"fill: none; stroke: #b0b0b0; stroke-width: 0.8; stroke-linecap: square\"/>\n     </g>\n     <g id=\"line2d_22\">\n      <g>\n       <use xlink:href=\"#m6cfd5c3b9e\" x=\"43.78125\" y=\"114.3\" style=\"stroke: #000000; stroke-width: 0.8\"/>\n      </g>\n     </g>\n     <g id=\"text_12\">\n      <!-- 0.2 -->\n      <g transform=\"translate(20.878125 118.099219) scale(0.1 -0.1)\">\n       <use xlink:href=\"#DejaVuSans-30\"/>\n       <use xlink:href=\"#DejaVuSans-2e\" x=\"63.623047\"/>\n       <use xlink:href=\"#DejaVuSans-32\" x=\"95.410156\"/>\n      </g>\n     </g>\n    </g>\n    <g id=\"ytick_3\">\n     <g id=\"line2d_23\">\n      <path d=\"M 43.78125 89.1 \nL 322.78125 89.1 \n\" clip-path=\"url(#pb2b1525d2e)\" style=\"fill: none; stroke: #b0b0b0; stroke-width: 0.8; stroke-linecap: square\"/>\n     </g>\n     <g id=\"line2d_24\">\n      <g>\n       <use xlink:href=\"#m6cfd5c3b9e\" x=\"43.78125\" y=\"89.1\" style=\"stroke: #000000; stroke-width: 0.8\"/>\n      </g>\n     </g>\n     <g id=\"text_13\">\n      <!-- 0.4 -->\n      <g transform=\"translate(20.878125 92.899219) scale(0.1 -0.1)\">\n       <use xlink:href=\"#DejaVuSans-30\"/>\n       <use xlink:href=\"#DejaVuSans-2e\" x=\"63.623047\"/>\n       <use xlink:href=\"#DejaVuSans-34\" x=\"95.410156\"/>\n      </g>\n     </g>\n    </g>\n    <g id=\"ytick_4\">\n     <g id=\"line2d_25\">\n      <path d=\"M 43.78125 63.9 \nL 322.78125 63.9 \n\" clip-path=\"url(#pb2b1525d2e)\" style=\"fill: none; stroke: #b0b0b0; stroke-width: 0.8; stroke-linecap: square\"/>\n     </g>\n     <g id=\"line2d_26\">\n      <g>\n       <use xlink:href=\"#m6cfd5c3b9e\" x=\"43.78125\" y=\"63.9\" style=\"stroke: #000000; stroke-width: 0.8\"/>\n      </g>\n     </g>\n     <g id=\"text_14\">\n      <!-- 0.6 -->\n      <g transform=\"translate(20.878125 67.699219) scale(0.1 -0.1)\">\n       <use xlink:href=\"#DejaVuSans-30\"/>\n       <use xlink:href=\"#DejaVuSans-2e\" x=\"63.623047\"/>\n       <use xlink:href=\"#DejaVuSans-36\" x=\"95.410156\"/>\n      </g>\n     </g>\n    </g>\n    <g id=\"ytick_5\">\n     <g id=\"line2d_27\">\n      <path d=\"M 43.78125 38.7 \nL 322.78125 38.7 \n\" clip-path=\"url(#pb2b1525d2e)\" style=\"fill: none; stroke: #b0b0b0; stroke-width: 0.8; stroke-linecap: square\"/>\n     </g>\n     <g id=\"line2d_28\">\n      <g>\n       <use xlink:href=\"#m6cfd5c3b9e\" x=\"43.78125\" y=\"38.7\" style=\"stroke: #000000; stroke-width: 0.8\"/>\n      </g>\n     </g>\n     <g id=\"text_15\">\n      <!-- 0.8 -->\n      <g transform=\"translate(20.878125 42.499219) scale(0.1 -0.1)\">\n       <use xlink:href=\"#DejaVuSans-30\"/>\n       <use xlink:href=\"#DejaVuSans-2e\" x=\"63.623047\"/>\n       <use xlink:href=\"#DejaVuSans-38\" x=\"95.410156\"/>\n      </g>\n     </g>\n    </g>\n    <g id=\"ytick_6\">\n     <g id=\"line2d_29\">\n      <path d=\"M 43.78125 13.5 \nL 322.78125 13.5 \n\" clip-path=\"url(#pb2b1525d2e)\" style=\"fill: none; stroke: #b0b0b0; stroke-width: 0.8; stroke-linecap: square\"/>\n     </g>\n     <g id=\"line2d_30\">\n      <g>\n       <use xlink:href=\"#m6cfd5c3b9e\" x=\"43.78125\" y=\"13.5\" style=\"stroke: #000000; stroke-width: 0.8\"/>\n      </g>\n     </g>\n     <g id=\"text_16\">\n      <!-- 1.0 -->\n      <g transform=\"translate(20.878125 17.299219) scale(0.1 -0.1)\">\n       <defs>\n        <path id=\"DejaVuSans-31\" d=\"M 794 531 \nL 1825 531 \nL 1825 4091 \nL 703 3866 \nL 703 4441 \nL 1819 4666 \nL 2450 4666 \nL 2450 531 \nL 3481 531 \nL 3481 0 \nL 794 0 \nL 794 531 \nz\n\" transform=\"scale(0.015625)\"/>\n       </defs>\n       <use xlink:href=\"#DejaVuSans-31\"/>\n       <use xlink:href=\"#DejaVuSans-2e\" x=\"63.623047\"/>\n       <use xlink:href=\"#DejaVuSans-30\" x=\"95.410156\"/>\n      </g>\n     </g>\n    </g>\n    <g id=\"text_17\">\n     <!-- grad of relu -->\n     <g transform=\"translate(14.798438 105.542969) rotate(-90) scale(0.1 -0.1)\">\n      <defs>\n       <path id=\"DejaVuSans-67\" d=\"M 2906 1791 \nQ 2906 2416 2648 2759 \nQ 2391 3103 1925 3103 \nQ 1463 3103 1205 2759 \nQ 947 2416 947 1791 \nQ 947 1169 1205 825 \nQ 1463 481 1925 481 \nQ 2391 481 2648 825 \nQ 2906 1169 2906 1791 \nz\nM 3481 434 \nQ 3481 -459 3084 -895 \nQ 2688 -1331 1869 -1331 \nQ 1566 -1331 1297 -1286 \nQ 1028 -1241 775 -1147 \nL 775 -588 \nQ 1028 -725 1275 -790 \nQ 1522 -856 1778 -856 \nQ 2344 -856 2625 -561 \nQ 2906 -266 2906 331 \nL 2906 616 \nQ 2728 306 2450 153 \nQ 2172 0 1784 0 \nQ 1141 0 747 490 \nQ 353 981 353 1791 \nQ 353 2603 747 3093 \nQ 1141 3584 1784 3584 \nQ 2172 3584 2450 3431 \nQ 2728 3278 2906 2969 \nL 2906 3500 \nL 3481 3500 \nL 3481 434 \nz\n\" transform=\"scale(0.015625)\"/>\n       <path id=\"DejaVuSans-72\" d=\"M 2631 2963 \nQ 2534 3019 2420 3045 \nQ 2306 3072 2169 3072 \nQ 1681 3072 1420 2755 \nQ 1159 2438 1159 1844 \nL 1159 0 \nL 581 0 \nL 581 3500 \nL 1159 3500 \nL 1159 2956 \nQ 1341 3275 1631 3429 \nQ 1922 3584 2338 3584 \nQ 2397 3584 2469 3576 \nQ 2541 3569 2628 3553 \nL 2631 2963 \nz\n\" transform=\"scale(0.015625)\"/>\n       <path id=\"DejaVuSans-61\" d=\"M 2194 1759 \nQ 1497 1759 1228 1600 \nQ 959 1441 959 1056 \nQ 959 750 1161 570 \nQ 1363 391 1709 391 \nQ 2188 391 2477 730 \nQ 2766 1069 2766 1631 \nL 2766 1759 \nL 2194 1759 \nz\nM 3341 1997 \nL 3341 0 \nL 2766 0 \nL 2766 531 \nQ 2569 213 2275 61 \nQ 1981 -91 1556 -91 \nQ 1019 -91 701 211 \nQ 384 513 384 1019 \nQ 384 1609 779 1909 \nQ 1175 2209 1959 2209 \nL 2766 2209 \nL 2766 2266 \nQ 2766 2663 2505 2880 \nQ 2244 3097 1772 3097 \nQ 1472 3097 1187 3025 \nQ 903 2953 641 2809 \nL 641 3341 \nQ 956 3463 1253 3523 \nQ 1550 3584 1831 3584 \nQ 2591 3584 2966 3190 \nQ 3341 2797 3341 1997 \nz\n\" transform=\"scale(0.015625)\"/>\n       <path id=\"DejaVuSans-64\" d=\"M 2906 2969 \nL 2906 4863 \nL 3481 4863 \nL 3481 0 \nL 2906 0 \nL 2906 525 \nQ 2725 213 2448 61 \nQ 2172 -91 1784 -91 \nQ 1150 -91 751 415 \nQ 353 922 353 1747 \nQ 353 2572 751 3078 \nQ 1150 3584 1784 3584 \nQ 2172 3584 2448 3432 \nQ 2725 3281 2906 2969 \nz\nM 947 1747 \nQ 947 1113 1208 752 \nQ 1469 391 1925 391 \nQ 2381 391 2643 752 \nQ 2906 1113 2906 1747 \nQ 2906 2381 2643 2742 \nQ 2381 3103 1925 3103 \nQ 1469 3103 1208 2742 \nQ 947 2381 947 1747 \nz\n\" transform=\"scale(0.015625)\"/>\n       <path id=\"DejaVuSans-20\" transform=\"scale(0.015625)\"/>\n       <path id=\"DejaVuSans-6f\" d=\"M 1959 3097 \nQ 1497 3097 1228 2736 \nQ 959 2375 959 1747 \nQ 959 1119 1226 758 \nQ 1494 397 1959 397 \nQ 2419 397 2687 759 \nQ 2956 1122 2956 1747 \nQ 2956 2369 2687 2733 \nQ 2419 3097 1959 3097 \nz\nM 1959 3584 \nQ 2709 3584 3137 3096 \nQ 3566 2609 3566 1747 \nQ 3566 888 3137 398 \nQ 2709 -91 1959 -91 \nQ 1206 -91 779 398 \nQ 353 888 353 1747 \nQ 353 2609 779 3096 \nQ 1206 3584 1959 3584 \nz\n\" transform=\"scale(0.015625)\"/>\n       <path id=\"DejaVuSans-66\" d=\"M 2375 4863 \nL 2375 4384 \nL 1825 4384 \nQ 1516 4384 1395 4259 \nQ 1275 4134 1275 3809 \nL 1275 3500 \nL 2222 3500 \nL 2222 3053 \nL 1275 3053 \nL 1275 0 \nL 697 0 \nL 697 3053 \nL 147 3053 \nL 147 3500 \nL 697 3500 \nL 697 3744 \nQ 697 4328 969 4595 \nQ 1241 4863 1831 4863 \nL 2375 4863 \nz\n\" transform=\"scale(0.015625)\"/>\n       <path id=\"DejaVuSans-65\" d=\"M 3597 1894 \nL 3597 1613 \nL 953 1613 \nQ 991 1019 1311 708 \nQ 1631 397 2203 397 \nQ 2534 397 2845 478 \nQ 3156 559 3463 722 \nL 3463 178 \nQ 3153 47 2828 -22 \nQ 2503 -91 2169 -91 \nQ 1331 -91 842 396 \nQ 353 884 353 1716 \nQ 353 2575 817 3079 \nQ 1281 3584 2069 3584 \nQ 2775 3584 3186 3129 \nQ 3597 2675 3597 1894 \nz\nM 3022 2063 \nQ 3016 2534 2758 2815 \nQ 2500 3097 2075 3097 \nQ 1594 3097 1305 2825 \nQ 1016 2553 972 2059 \nL 3022 2063 \nz\n\" transform=\"scale(0.015625)\"/>\n       <path id=\"DejaVuSans-6c\" d=\"M 603 4863 \nL 1178 4863 \nL 1178 0 \nL 603 0 \nL 603 4863 \nz\n\" transform=\"scale(0.015625)\"/>\n       <path id=\"DejaVuSans-75\" d=\"M 544 1381 \nL 544 3500 \nL 1119 3500 \nL 1119 1403 \nQ 1119 906 1312 657 \nQ 1506 409 1894 409 \nQ 2359 409 2629 706 \nQ 2900 1003 2900 1516 \nL 2900 3500 \nL 3475 3500 \nL 3475 0 \nL 2900 0 \nL 2900 538 \nQ 2691 219 2414 64 \nQ 2138 -91 1772 -91 \nQ 1169 -91 856 284 \nQ 544 659 544 1381 \nz\nM 1991 3584 \nL 1991 3584 \nz\n\" transform=\"scale(0.015625)\"/>\n      </defs>\n      <use xlink:href=\"#DejaVuSans-67\"/>\n      <use xlink:href=\"#DejaVuSans-72\" x=\"63.476562\"/>\n      <use xlink:href=\"#DejaVuSans-61\" x=\"104.589844\"/>\n      <use xlink:href=\"#DejaVuSans-64\" x=\"165.869141\"/>\n      <use xlink:href=\"#DejaVuSans-20\" x=\"229.345703\"/>\n      <use xlink:href=\"#DejaVuSans-6f\" x=\"261.132812\"/>\n      <use xlink:href=\"#DejaVuSans-66\" x=\"322.314453\"/>\n      <use xlink:href=\"#DejaVuSans-20\" x=\"357.519531\"/>\n      <use xlink:href=\"#DejaVuSans-72\" x=\"389.306641\"/>\n      <use xlink:href=\"#DejaVuSans-65\" x=\"428.169922\"/>\n      <use xlink:href=\"#DejaVuSans-6c\" x=\"489.693359\"/>\n      <use xlink:href=\"#DejaVuSans-75\" x=\"517.476562\"/>\n     </g>\n    </g>\n   </g>\n   <g id=\"line2d_31\">\n    <path d=\"M 56.463068 139.5 \nL 182.483654 139.5 \nL 184.078852 13.5 \nL 310.099432 13.5 \nL 310.099432 13.5 \n\" clip-path=\"url(#pb2b1525d2e)\" style=\"fill: none; stroke: #1f77b4; stroke-width: 1.5; stroke-linecap: square\"/>\n   </g>\n   <g id=\"patch_3\">\n    <path d=\"M 43.78125 145.8 \nL 43.78125 7.2 \n\" style=\"fill: none; stroke: #000000; stroke-width: 0.8; stroke-linejoin: miter; stroke-linecap: square\"/>\n   </g>\n   <g id=\"patch_4\">\n    <path d=\"M 322.78125 145.8 \nL 322.78125 7.2 \n\" style=\"fill: none; stroke: #000000; stroke-width: 0.8; stroke-linejoin: miter; stroke-linecap: square\"/>\n   </g>\n   <g id=\"patch_5\">\n    <path d=\"M 43.78125 145.8 \nL 322.78125 145.8 \n\" style=\"fill: none; stroke: #000000; stroke-width: 0.8; stroke-linejoin: miter; stroke-linecap: square\"/>\n   </g>\n   <g id=\"patch_6\">\n    <path d=\"M 43.78125 7.2 \nL 322.78125 7.2 \n\" style=\"fill: none; stroke: #000000; stroke-width: 0.8; stroke-linejoin: miter; stroke-linecap: square\"/>\n   </g>\n  </g>\n </g>\n <defs>\n  <clipPath id=\"pb2b1525d2e\">\n   <rect x=\"43.78125\" y=\"7.2\" width=\"279\" height=\"138.6\"/>\n  </clipPath>\n </defs>\n</svg>\n"
          },
          "metadata": {}
        }
      ]
    },
    {
      "cell_type": "markdown",
      "source": [
        "#### 5.1.2.2.sigmoid function\n",
        "\n",
        "* 입력값이 임의의 실수(-∞, ∞) 일 때, 출력을 0~1로\n",
        "* 입력값이 매우 작으면 0에 가까워지고, 입력값이 매우 크면 1에 가까워짐. 중간값 0 근처에서는 출력이 급격히 변함\n",
        "* 과거에는 sigmoid func가 뉴런의 동작을 모델링하는데 사용\n",
        "* 현대에는 이진 분류 문제에서 출력 뉴런의 활성화 함수로 사용 : 출력값을 확률로 해석할 수 있기 때문.\n",
        "* sigmoid는 softmax의 특수한 경우로 볼 수 있음\n",
        "* sigmoid대신 ReLU를 사용 : sigmoid가 최적화에서 문제가 있어서\n",
        "\n",
        "    1) vanishing gradient problem : 입력값이 매우 크거나 작으면 기울기가 0이 됨 -> 기울기가 사라짐 -> 모델의 학습 속도가 느려지거나 학습이 멈출수도 있음 -> 학습이 제대로 안됨\n",
        "\n",
        "    2) Saturation problem : 활성화 함수의 출력이 1 or 0에 매우 가까움 -> 가중치와 편향을 업데이트하기 어려워짐 -> 신경망의 학습이 제대로 안됨\n",
        "\n",
        "* sigmoid는 이진분류문제와 RNN에서 정보 흐름을 제어하는데 잘 사용되고 있음\n",
        "* 미분 -> 입력값이 0에 가까울때 미분값이 가장 크고, 멀어질수록 미분값이 0에 가까워짐"
      ],
      "metadata": {
        "id": "iKvjFcUWCPdB"
      },
      "id": "iKvjFcUWCPdB"
    },
    {
      "cell_type": "code",
      "source": [
        "y = torch.sigmoid(x)\n",
        "d2l.plot(x.detach(), y.detach(), 'x', 'sigmoid(x)', figsize=(5, 2.5))"
      ],
      "metadata": {
        "colab": {
          "base_uri": "https://localhost:8080/",
          "height": 265
        },
        "id": "QV-PUVMtCN0m",
        "outputId": "fd0f5b2a-88a6-4db4-98dd-725f50ac743e"
      },
      "id": "QV-PUVMtCN0m",
      "execution_count": 56,
      "outputs": [
        {
          "output_type": "display_data",
          "data": {
            "text/plain": [
              "<Figure size 500x250 with 1 Axes>"
            ],
            "image/svg+xml": "<?xml version=\"1.0\" encoding=\"utf-8\" standalone=\"no\"?>\n<!DOCTYPE svg PUBLIC \"-//W3C//DTD SVG 1.1//EN\"\n  \"http://www.w3.org/Graphics/SVG/1.1/DTD/svg11.dtd\">\n<svg xmlns:xlink=\"http://www.w3.org/1999/xlink\" width=\"329.98125pt\" height=\"183.35625pt\" viewBox=\"0 0 329.98125 183.35625\" xmlns=\"http://www.w3.org/2000/svg\" version=\"1.1\">\n <metadata>\n  <rdf:RDF xmlns:dc=\"http://purl.org/dc/elements/1.1/\" xmlns:cc=\"http://creativecommons.org/ns#\" xmlns:rdf=\"http://www.w3.org/1999/02/22-rdf-syntax-ns#\">\n   <cc:Work>\n    <dc:type rdf:resource=\"http://purl.org/dc/dcmitype/StillImage\"/>\n    <dc:date>2024-09-24T03:27:44.471528</dc:date>\n    <dc:format>image/svg+xml</dc:format>\n    <dc:creator>\n     <cc:Agent>\n      <dc:title>Matplotlib v3.7.2, https://matplotlib.org/</dc:title>\n     </cc:Agent>\n    </dc:creator>\n   </cc:Work>\n  </rdf:RDF>\n </metadata>\n <defs>\n  <style type=\"text/css\">*{stroke-linejoin: round; stroke-linecap: butt}</style>\n </defs>\n <g id=\"figure_1\">\n  <g id=\"patch_1\">\n   <path d=\"M 0 183.35625 \nL 329.98125 183.35625 \nL 329.98125 0 \nL 0 0 \nz\n\" style=\"fill: #ffffff\"/>\n  </g>\n  <g id=\"axes_1\">\n   <g id=\"patch_2\">\n    <path d=\"M 43.78125 145.8 \nL 322.78125 145.8 \nL 322.78125 7.2 \nL 43.78125 7.2 \nz\n\" style=\"fill: #ffffff\"/>\n   </g>\n   <g id=\"matplotlib.axis_1\">\n    <g id=\"xtick_1\">\n     <g id=\"line2d_1\">\n      <path d=\"M 56.463068 145.8 \nL 56.463068 7.2 \n\" clip-path=\"url(#p882fb5040b)\" style=\"fill: none; stroke: #b0b0b0; stroke-width: 0.8; stroke-linecap: square\"/>\n     </g>\n     <g id=\"line2d_2\">\n      <defs>\n       <path id=\"m21184b1b9e\" d=\"M 0 0 \nL 0 3.5 \n\" style=\"stroke: #000000; stroke-width: 0.8\"/>\n      </defs>\n      <g>\n       <use xlink:href=\"#m21184b1b9e\" x=\"56.463068\" y=\"145.8\" style=\"stroke: #000000; stroke-width: 0.8\"/>\n      </g>\n     </g>\n     <g id=\"text_1\">\n      <!-- −8 -->\n      <g transform=\"translate(49.091974 160.398438) scale(0.1 -0.1)\">\n       <defs>\n        <path id=\"DejaVuSans-2212\" d=\"M 678 2272 \nL 4684 2272 \nL 4684 1741 \nL 678 1741 \nL 678 2272 \nz\n\" transform=\"scale(0.015625)\"/>\n        <path id=\"DejaVuSans-38\" d=\"M 2034 2216 \nQ 1584 2216 1326 1975 \nQ 1069 1734 1069 1313 \nQ 1069 891 1326 650 \nQ 1584 409 2034 409 \nQ 2484 409 2743 651 \nQ 3003 894 3003 1313 \nQ 3003 1734 2745 1975 \nQ 2488 2216 2034 2216 \nz\nM 1403 2484 \nQ 997 2584 770 2862 \nQ 544 3141 544 3541 \nQ 544 4100 942 4425 \nQ 1341 4750 2034 4750 \nQ 2731 4750 3128 4425 \nQ 3525 4100 3525 3541 \nQ 3525 3141 3298 2862 \nQ 3072 2584 2669 2484 \nQ 3125 2378 3379 2068 \nQ 3634 1759 3634 1313 \nQ 3634 634 3220 271 \nQ 2806 -91 2034 -91 \nQ 1263 -91 848 271 \nQ 434 634 434 1313 \nQ 434 1759 690 2068 \nQ 947 2378 1403 2484 \nz\nM 1172 3481 \nQ 1172 3119 1398 2916 \nQ 1625 2713 2034 2713 \nQ 2441 2713 2670 2916 \nQ 2900 3119 2900 3481 \nQ 2900 3844 2670 4047 \nQ 2441 4250 2034 4250 \nQ 1625 4250 1398 4047 \nQ 1172 3844 1172 3481 \nz\n\" transform=\"scale(0.015625)\"/>\n       </defs>\n       <use xlink:href=\"#DejaVuSans-2212\"/>\n       <use xlink:href=\"#DejaVuSans-38\" x=\"83.789062\"/>\n      </g>\n     </g>\n    </g>\n    <g id=\"xtick_2\">\n     <g id=\"line2d_3\">\n      <path d=\"M 88.367014 145.8 \nL 88.367014 7.2 \n\" clip-path=\"url(#p882fb5040b)\" style=\"fill: none; stroke: #b0b0b0; stroke-width: 0.8; stroke-linecap: square\"/>\n     </g>\n     <g id=\"line2d_4\">\n      <g>\n       <use xlink:href=\"#m21184b1b9e\" x=\"88.367014\" y=\"145.8\" style=\"stroke: #000000; stroke-width: 0.8\"/>\n      </g>\n     </g>\n     <g id=\"text_2\">\n      <!-- −6 -->\n      <g transform=\"translate(80.99592 160.398438) scale(0.1 -0.1)\">\n       <defs>\n        <path id=\"DejaVuSans-36\" d=\"M 2113 2584 \nQ 1688 2584 1439 2293 \nQ 1191 2003 1191 1497 \nQ 1191 994 1439 701 \nQ 1688 409 2113 409 \nQ 2538 409 2786 701 \nQ 3034 994 3034 1497 \nQ 3034 2003 2786 2293 \nQ 2538 2584 2113 2584 \nz\nM 3366 4563 \nL 3366 3988 \nQ 3128 4100 2886 4159 \nQ 2644 4219 2406 4219 \nQ 1781 4219 1451 3797 \nQ 1122 3375 1075 2522 \nQ 1259 2794 1537 2939 \nQ 1816 3084 2150 3084 \nQ 2853 3084 3261 2657 \nQ 3669 2231 3669 1497 \nQ 3669 778 3244 343 \nQ 2819 -91 2113 -91 \nQ 1303 -91 875 529 \nQ 447 1150 447 2328 \nQ 447 3434 972 4092 \nQ 1497 4750 2381 4750 \nQ 2619 4750 2861 4703 \nQ 3103 4656 3366 4563 \nz\n\" transform=\"scale(0.015625)\"/>\n       </defs>\n       <use xlink:href=\"#DejaVuSans-2212\"/>\n       <use xlink:href=\"#DejaVuSans-36\" x=\"83.789062\"/>\n      </g>\n     </g>\n    </g>\n    <g id=\"xtick_3\">\n     <g id=\"line2d_5\">\n      <path d=\"M 120.27096 145.8 \nL 120.27096 7.2 \n\" clip-path=\"url(#p882fb5040b)\" style=\"fill: none; stroke: #b0b0b0; stroke-width: 0.8; stroke-linecap: square\"/>\n     </g>\n     <g id=\"line2d_6\">\n      <g>\n       <use xlink:href=\"#m21184b1b9e\" x=\"120.27096\" y=\"145.8\" style=\"stroke: #000000; stroke-width: 0.8\"/>\n      </g>\n     </g>\n     <g id=\"text_3\">\n      <!-- −4 -->\n      <g transform=\"translate(112.899866 160.398438) scale(0.1 -0.1)\">\n       <defs>\n        <path id=\"DejaVuSans-34\" d=\"M 2419 4116 \nL 825 1625 \nL 2419 1625 \nL 2419 4116 \nz\nM 2253 4666 \nL 3047 4666 \nL 3047 1625 \nL 3713 1625 \nL 3713 1100 \nL 3047 1100 \nL 3047 0 \nL 2419 0 \nL 2419 1100 \nL 313 1100 \nL 313 1709 \nL 2253 4666 \nz\n\" transform=\"scale(0.015625)\"/>\n       </defs>\n       <use xlink:href=\"#DejaVuSans-2212\"/>\n       <use xlink:href=\"#DejaVuSans-34\" x=\"83.789062\"/>\n      </g>\n     </g>\n    </g>\n    <g id=\"xtick_4\">\n     <g id=\"line2d_7\">\n      <path d=\"M 152.174906 145.8 \nL 152.174906 7.2 \n\" clip-path=\"url(#p882fb5040b)\" style=\"fill: none; stroke: #b0b0b0; stroke-width: 0.8; stroke-linecap: square\"/>\n     </g>\n     <g id=\"line2d_8\">\n      <g>\n       <use xlink:href=\"#m21184b1b9e\" x=\"152.174906\" y=\"145.8\" style=\"stroke: #000000; stroke-width: 0.8\"/>\n      </g>\n     </g>\n     <g id=\"text_4\">\n      <!-- −2 -->\n      <g transform=\"translate(144.803812 160.398438) scale(0.1 -0.1)\">\n       <defs>\n        <path id=\"DejaVuSans-32\" d=\"M 1228 531 \nL 3431 531 \nL 3431 0 \nL 469 0 \nL 469 531 \nQ 828 903 1448 1529 \nQ 2069 2156 2228 2338 \nQ 2531 2678 2651 2914 \nQ 2772 3150 2772 3378 \nQ 2772 3750 2511 3984 \nQ 2250 4219 1831 4219 \nQ 1534 4219 1204 4116 \nQ 875 4013 500 3803 \nL 500 4441 \nQ 881 4594 1212 4672 \nQ 1544 4750 1819 4750 \nQ 2544 4750 2975 4387 \nQ 3406 4025 3406 3419 \nQ 3406 3131 3298 2873 \nQ 3191 2616 2906 2266 \nQ 2828 2175 2409 1742 \nQ 1991 1309 1228 531 \nz\n\" transform=\"scale(0.015625)\"/>\n       </defs>\n       <use xlink:href=\"#DejaVuSans-2212\"/>\n       <use xlink:href=\"#DejaVuSans-32\" x=\"83.789062\"/>\n      </g>\n     </g>\n    </g>\n    <g id=\"xtick_5\">\n     <g id=\"line2d_9\">\n      <path d=\"M 184.078852 145.8 \nL 184.078852 7.2 \n\" clip-path=\"url(#p882fb5040b)\" style=\"fill: none; stroke: #b0b0b0; stroke-width: 0.8; stroke-linecap: square\"/>\n     </g>\n     <g id=\"line2d_10\">\n      <g>\n       <use xlink:href=\"#m21184b1b9e\" x=\"184.078852\" y=\"145.8\" style=\"stroke: #000000; stroke-width: 0.8\"/>\n      </g>\n     </g>\n     <g id=\"text_5\">\n      <!-- 0 -->\n      <g transform=\"translate(180.897602 160.398438) scale(0.1 -0.1)\">\n       <defs>\n        <path id=\"DejaVuSans-30\" d=\"M 2034 4250 \nQ 1547 4250 1301 3770 \nQ 1056 3291 1056 2328 \nQ 1056 1369 1301 889 \nQ 1547 409 2034 409 \nQ 2525 409 2770 889 \nQ 3016 1369 3016 2328 \nQ 3016 3291 2770 3770 \nQ 2525 4250 2034 4250 \nz\nM 2034 4750 \nQ 2819 4750 3233 4129 \nQ 3647 3509 3647 2328 \nQ 3647 1150 3233 529 \nQ 2819 -91 2034 -91 \nQ 1250 -91 836 529 \nQ 422 1150 422 2328 \nQ 422 3509 836 4129 \nQ 1250 4750 2034 4750 \nz\n\" transform=\"scale(0.015625)\"/>\n       </defs>\n       <use xlink:href=\"#DejaVuSans-30\"/>\n      </g>\n     </g>\n    </g>\n    <g id=\"xtick_6\">\n     <g id=\"line2d_11\">\n      <path d=\"M 215.982798 145.8 \nL 215.982798 7.2 \n\" clip-path=\"url(#p882fb5040b)\" style=\"fill: none; stroke: #b0b0b0; stroke-width: 0.8; stroke-linecap: square\"/>\n     </g>\n     <g id=\"line2d_12\">\n      <g>\n       <use xlink:href=\"#m21184b1b9e\" x=\"215.982798\" y=\"145.8\" style=\"stroke: #000000; stroke-width: 0.8\"/>\n      </g>\n     </g>\n     <g id=\"text_6\">\n      <!-- 2 -->\n      <g transform=\"translate(212.801548 160.398438) scale(0.1 -0.1)\">\n       <use xlink:href=\"#DejaVuSans-32\"/>\n      </g>\n     </g>\n    </g>\n    <g id=\"xtick_7\">\n     <g id=\"line2d_13\">\n      <path d=\"M 247.886743 145.8 \nL 247.886743 7.2 \n\" clip-path=\"url(#p882fb5040b)\" style=\"fill: none; stroke: #b0b0b0; stroke-width: 0.8; stroke-linecap: square\"/>\n     </g>\n     <g id=\"line2d_14\">\n      <g>\n       <use xlink:href=\"#m21184b1b9e\" x=\"247.886743\" y=\"145.8\" style=\"stroke: #000000; stroke-width: 0.8\"/>\n      </g>\n     </g>\n     <g id=\"text_7\">\n      <!-- 4 -->\n      <g transform=\"translate(244.705493 160.398438) scale(0.1 -0.1)\">\n       <use xlink:href=\"#DejaVuSans-34\"/>\n      </g>\n     </g>\n    </g>\n    <g id=\"xtick_8\">\n     <g id=\"line2d_15\">\n      <path d=\"M 279.790689 145.8 \nL 279.790689 7.2 \n\" clip-path=\"url(#p882fb5040b)\" style=\"fill: none; stroke: #b0b0b0; stroke-width: 0.8; stroke-linecap: square\"/>\n     </g>\n     <g id=\"line2d_16\">\n      <g>\n       <use xlink:href=\"#m21184b1b9e\" x=\"279.790689\" y=\"145.8\" style=\"stroke: #000000; stroke-width: 0.8\"/>\n      </g>\n     </g>\n     <g id=\"text_8\">\n      <!-- 6 -->\n      <g transform=\"translate(276.609439 160.398438) scale(0.1 -0.1)\">\n       <use xlink:href=\"#DejaVuSans-36\"/>\n      </g>\n     </g>\n    </g>\n    <g id=\"xtick_9\">\n     <g id=\"line2d_17\">\n      <path d=\"M 311.694635 145.8 \nL 311.694635 7.2 \n\" clip-path=\"url(#p882fb5040b)\" style=\"fill: none; stroke: #b0b0b0; stroke-width: 0.8; stroke-linecap: square\"/>\n     </g>\n     <g id=\"line2d_18\">\n      <g>\n       <use xlink:href=\"#m21184b1b9e\" x=\"311.694635\" y=\"145.8\" style=\"stroke: #000000; stroke-width: 0.8\"/>\n      </g>\n     </g>\n     <g id=\"text_9\">\n      <!-- 8 -->\n      <g transform=\"translate(308.513385 160.398438) scale(0.1 -0.1)\">\n       <use xlink:href=\"#DejaVuSans-38\"/>\n      </g>\n     </g>\n    </g>\n    <g id=\"text_10\">\n     <!-- x -->\n     <g transform=\"translate(180.321875 174.076563) scale(0.1 -0.1)\">\n      <defs>\n       <path id=\"DejaVuSans-78\" d=\"M 3513 3500 \nL 2247 1797 \nL 3578 0 \nL 2900 0 \nL 1881 1375 \nL 863 0 \nL 184 0 \nL 1544 1831 \nL 300 3500 \nL 978 3500 \nL 1906 2253 \nL 2834 3500 \nL 3513 3500 \nz\n\" transform=\"scale(0.015625)\"/>\n      </defs>\n      <use xlink:href=\"#DejaVuSans-78\"/>\n     </g>\n    </g>\n   </g>\n   <g id=\"matplotlib.axis_2\">\n    <g id=\"ytick_1\">\n     <g id=\"line2d_19\">\n      <path d=\"M 43.78125 139.542284 \nL 322.78125 139.542284 \n\" clip-path=\"url(#p882fb5040b)\" style=\"fill: none; stroke: #b0b0b0; stroke-width: 0.8; stroke-linecap: square\"/>\n     </g>\n     <g id=\"line2d_20\">\n      <defs>\n       <path id=\"m9cfb635a5c\" d=\"M 0 0 \nL -3.5 0 \n\" style=\"stroke: #000000; stroke-width: 0.8\"/>\n      </defs>\n      <g>\n       <use xlink:href=\"#m9cfb635a5c\" x=\"43.78125\" y=\"139.542284\" style=\"stroke: #000000; stroke-width: 0.8\"/>\n      </g>\n     </g>\n     <g id=\"text_11\">\n      <!-- 0.0 -->\n      <g transform=\"translate(20.878125 143.341503) scale(0.1 -0.1)\">\n       <defs>\n        <path id=\"DejaVuSans-2e\" d=\"M 684 794 \nL 1344 794 \nL 1344 0 \nL 684 0 \nL 684 794 \nz\n\" transform=\"scale(0.015625)\"/>\n       </defs>\n       <use xlink:href=\"#DejaVuSans-30\"/>\n       <use xlink:href=\"#DejaVuSans-2e\" x=\"63.623047\"/>\n       <use xlink:href=\"#DejaVuSans-30\" x=\"95.410156\"/>\n      </g>\n     </g>\n    </g>\n    <g id=\"ytick_2\">\n     <g id=\"line2d_21\">\n      <path d=\"M 43.78125 114.324481 \nL 322.78125 114.324481 \n\" clip-path=\"url(#p882fb5040b)\" style=\"fill: none; stroke: #b0b0b0; stroke-width: 0.8; stroke-linecap: square\"/>\n     </g>\n     <g id=\"line2d_22\">\n      <g>\n       <use xlink:href=\"#m9cfb635a5c\" x=\"43.78125\" y=\"114.324481\" style=\"stroke: #000000; stroke-width: 0.8\"/>\n      </g>\n     </g>\n     <g id=\"text_12\">\n      <!-- 0.2 -->\n      <g transform=\"translate(20.878125 118.1237) scale(0.1 -0.1)\">\n       <use xlink:href=\"#DejaVuSans-30\"/>\n       <use xlink:href=\"#DejaVuSans-2e\" x=\"63.623047\"/>\n       <use xlink:href=\"#DejaVuSans-32\" x=\"95.410156\"/>\n      </g>\n     </g>\n    </g>\n    <g id=\"ytick_3\">\n     <g id=\"line2d_23\">\n      <path d=\"M 43.78125 89.106678 \nL 322.78125 89.106678 \n\" clip-path=\"url(#p882fb5040b)\" style=\"fill: none; stroke: #b0b0b0; stroke-width: 0.8; stroke-linecap: square\"/>\n     </g>\n     <g id=\"line2d_24\">\n      <g>\n       <use xlink:href=\"#m9cfb635a5c\" x=\"43.78125\" y=\"89.106678\" style=\"stroke: #000000; stroke-width: 0.8\"/>\n      </g>\n     </g>\n     <g id=\"text_13\">\n      <!-- 0.4 -->\n      <g transform=\"translate(20.878125 92.905897) scale(0.1 -0.1)\">\n       <use xlink:href=\"#DejaVuSans-30\"/>\n       <use xlink:href=\"#DejaVuSans-2e\" x=\"63.623047\"/>\n       <use xlink:href=\"#DejaVuSans-34\" x=\"95.410156\"/>\n      </g>\n     </g>\n    </g>\n    <g id=\"ytick_4\">\n     <g id=\"line2d_25\">\n      <path d=\"M 43.78125 63.888875 \nL 322.78125 63.888875 \n\" clip-path=\"url(#p882fb5040b)\" style=\"fill: none; stroke: #b0b0b0; stroke-width: 0.8; stroke-linecap: square\"/>\n     </g>\n     <g id=\"line2d_26\">\n      <g>\n       <use xlink:href=\"#m9cfb635a5c\" x=\"43.78125\" y=\"63.888875\" style=\"stroke: #000000; stroke-width: 0.8\"/>\n      </g>\n     </g>\n     <g id=\"text_14\">\n      <!-- 0.6 -->\n      <g transform=\"translate(20.878125 67.688094) scale(0.1 -0.1)\">\n       <use xlink:href=\"#DejaVuSans-30\"/>\n       <use xlink:href=\"#DejaVuSans-2e\" x=\"63.623047\"/>\n       <use xlink:href=\"#DejaVuSans-36\" x=\"95.410156\"/>\n      </g>\n     </g>\n    </g>\n    <g id=\"ytick_5\">\n     <g id=\"line2d_27\">\n      <path d=\"M 43.78125 38.671072 \nL 322.78125 38.671072 \n\" clip-path=\"url(#p882fb5040b)\" style=\"fill: none; stroke: #b0b0b0; stroke-width: 0.8; stroke-linecap: square\"/>\n     </g>\n     <g id=\"line2d_28\">\n      <g>\n       <use xlink:href=\"#m9cfb635a5c\" x=\"43.78125\" y=\"38.671072\" style=\"stroke: #000000; stroke-width: 0.8\"/>\n      </g>\n     </g>\n     <g id=\"text_15\">\n      <!-- 0.8 -->\n      <g transform=\"translate(20.878125 42.47029) scale(0.1 -0.1)\">\n       <use xlink:href=\"#DejaVuSans-30\"/>\n       <use xlink:href=\"#DejaVuSans-2e\" x=\"63.623047\"/>\n       <use xlink:href=\"#DejaVuSans-38\" x=\"95.410156\"/>\n      </g>\n     </g>\n    </g>\n    <g id=\"ytick_6\">\n     <g id=\"line2d_29\">\n      <path d=\"M 43.78125 13.453269 \nL 322.78125 13.453269 \n\" clip-path=\"url(#p882fb5040b)\" style=\"fill: none; stroke: #b0b0b0; stroke-width: 0.8; stroke-linecap: square\"/>\n     </g>\n     <g id=\"line2d_30\">\n      <g>\n       <use xlink:href=\"#m9cfb635a5c\" x=\"43.78125\" y=\"13.453269\" style=\"stroke: #000000; stroke-width: 0.8\"/>\n      </g>\n     </g>\n     <g id=\"text_16\">\n      <!-- 1.0 -->\n      <g transform=\"translate(20.878125 17.252487) scale(0.1 -0.1)\">\n       <defs>\n        <path id=\"DejaVuSans-31\" d=\"M 794 531 \nL 1825 531 \nL 1825 4091 \nL 703 3866 \nL 703 4441 \nL 1819 4666 \nL 2450 4666 \nL 2450 531 \nL 3481 531 \nL 3481 0 \nL 794 0 \nL 794 531 \nz\n\" transform=\"scale(0.015625)\"/>\n       </defs>\n       <use xlink:href=\"#DejaVuSans-31\"/>\n       <use xlink:href=\"#DejaVuSans-2e\" x=\"63.623047\"/>\n       <use xlink:href=\"#DejaVuSans-30\" x=\"95.410156\"/>\n      </g>\n     </g>\n    </g>\n    <g id=\"text_17\">\n     <!-- sigmoid(x) -->\n     <g transform=\"translate(14.798438 103.021875) rotate(-90) scale(0.1 -0.1)\">\n      <defs>\n       <path id=\"DejaVuSans-73\" d=\"M 2834 3397 \nL 2834 2853 \nQ 2591 2978 2328 3040 \nQ 2066 3103 1784 3103 \nQ 1356 3103 1142 2972 \nQ 928 2841 928 2578 \nQ 928 2378 1081 2264 \nQ 1234 2150 1697 2047 \nL 1894 2003 \nQ 2506 1872 2764 1633 \nQ 3022 1394 3022 966 \nQ 3022 478 2636 193 \nQ 2250 -91 1575 -91 \nQ 1294 -91 989 -36 \nQ 684 19 347 128 \nL 347 722 \nQ 666 556 975 473 \nQ 1284 391 1588 391 \nQ 1994 391 2212 530 \nQ 2431 669 2431 922 \nQ 2431 1156 2273 1281 \nQ 2116 1406 1581 1522 \nL 1381 1569 \nQ 847 1681 609 1914 \nQ 372 2147 372 2553 \nQ 372 3047 722 3315 \nQ 1072 3584 1716 3584 \nQ 2034 3584 2315 3537 \nQ 2597 3491 2834 3397 \nz\n\" transform=\"scale(0.015625)\"/>\n       <path id=\"DejaVuSans-69\" d=\"M 603 3500 \nL 1178 3500 \nL 1178 0 \nL 603 0 \nL 603 3500 \nz\nM 603 4863 \nL 1178 4863 \nL 1178 4134 \nL 603 4134 \nL 603 4863 \nz\n\" transform=\"scale(0.015625)\"/>\n       <path id=\"DejaVuSans-67\" d=\"M 2906 1791 \nQ 2906 2416 2648 2759 \nQ 2391 3103 1925 3103 \nQ 1463 3103 1205 2759 \nQ 947 2416 947 1791 \nQ 947 1169 1205 825 \nQ 1463 481 1925 481 \nQ 2391 481 2648 825 \nQ 2906 1169 2906 1791 \nz\nM 3481 434 \nQ 3481 -459 3084 -895 \nQ 2688 -1331 1869 -1331 \nQ 1566 -1331 1297 -1286 \nQ 1028 -1241 775 -1147 \nL 775 -588 \nQ 1028 -725 1275 -790 \nQ 1522 -856 1778 -856 \nQ 2344 -856 2625 -561 \nQ 2906 -266 2906 331 \nL 2906 616 \nQ 2728 306 2450 153 \nQ 2172 0 1784 0 \nQ 1141 0 747 490 \nQ 353 981 353 1791 \nQ 353 2603 747 3093 \nQ 1141 3584 1784 3584 \nQ 2172 3584 2450 3431 \nQ 2728 3278 2906 2969 \nL 2906 3500 \nL 3481 3500 \nL 3481 434 \nz\n\" transform=\"scale(0.015625)\"/>\n       <path id=\"DejaVuSans-6d\" d=\"M 3328 2828 \nQ 3544 3216 3844 3400 \nQ 4144 3584 4550 3584 \nQ 5097 3584 5394 3201 \nQ 5691 2819 5691 2113 \nL 5691 0 \nL 5113 0 \nL 5113 2094 \nQ 5113 2597 4934 2840 \nQ 4756 3084 4391 3084 \nQ 3944 3084 3684 2787 \nQ 3425 2491 3425 1978 \nL 3425 0 \nL 2847 0 \nL 2847 2094 \nQ 2847 2600 2669 2842 \nQ 2491 3084 2119 3084 \nQ 1678 3084 1418 2786 \nQ 1159 2488 1159 1978 \nL 1159 0 \nL 581 0 \nL 581 3500 \nL 1159 3500 \nL 1159 2956 \nQ 1356 3278 1631 3431 \nQ 1906 3584 2284 3584 \nQ 2666 3584 2933 3390 \nQ 3200 3197 3328 2828 \nz\n\" transform=\"scale(0.015625)\"/>\n       <path id=\"DejaVuSans-6f\" d=\"M 1959 3097 \nQ 1497 3097 1228 2736 \nQ 959 2375 959 1747 \nQ 959 1119 1226 758 \nQ 1494 397 1959 397 \nQ 2419 397 2687 759 \nQ 2956 1122 2956 1747 \nQ 2956 2369 2687 2733 \nQ 2419 3097 1959 3097 \nz\nM 1959 3584 \nQ 2709 3584 3137 3096 \nQ 3566 2609 3566 1747 \nQ 3566 888 3137 398 \nQ 2709 -91 1959 -91 \nQ 1206 -91 779 398 \nQ 353 888 353 1747 \nQ 353 2609 779 3096 \nQ 1206 3584 1959 3584 \nz\n\" transform=\"scale(0.015625)\"/>\n       <path id=\"DejaVuSans-64\" d=\"M 2906 2969 \nL 2906 4863 \nL 3481 4863 \nL 3481 0 \nL 2906 0 \nL 2906 525 \nQ 2725 213 2448 61 \nQ 2172 -91 1784 -91 \nQ 1150 -91 751 415 \nQ 353 922 353 1747 \nQ 353 2572 751 3078 \nQ 1150 3584 1784 3584 \nQ 2172 3584 2448 3432 \nQ 2725 3281 2906 2969 \nz\nM 947 1747 \nQ 947 1113 1208 752 \nQ 1469 391 1925 391 \nQ 2381 391 2643 752 \nQ 2906 1113 2906 1747 \nQ 2906 2381 2643 2742 \nQ 2381 3103 1925 3103 \nQ 1469 3103 1208 2742 \nQ 947 2381 947 1747 \nz\n\" transform=\"scale(0.015625)\"/>\n       <path id=\"DejaVuSans-28\" d=\"M 1984 4856 \nQ 1566 4138 1362 3434 \nQ 1159 2731 1159 2009 \nQ 1159 1288 1364 580 \nQ 1569 -128 1984 -844 \nL 1484 -844 \nQ 1016 -109 783 600 \nQ 550 1309 550 2009 \nQ 550 2706 781 3412 \nQ 1013 4119 1484 4856 \nL 1984 4856 \nz\n\" transform=\"scale(0.015625)\"/>\n       <path id=\"DejaVuSans-29\" d=\"M 513 4856 \nL 1013 4856 \nQ 1481 4119 1714 3412 \nQ 1947 2706 1947 2009 \nQ 1947 1309 1714 600 \nQ 1481 -109 1013 -844 \nL 513 -844 \nQ 928 -128 1133 580 \nQ 1338 1288 1338 2009 \nQ 1338 2731 1133 3434 \nQ 928 4138 513 4856 \nz\n\" transform=\"scale(0.015625)\"/>\n      </defs>\n      <use xlink:href=\"#DejaVuSans-73\"/>\n      <use xlink:href=\"#DejaVuSans-69\" x=\"52.099609\"/>\n      <use xlink:href=\"#DejaVuSans-67\" x=\"79.882812\"/>\n      <use xlink:href=\"#DejaVuSans-6d\" x=\"143.359375\"/>\n      <use xlink:href=\"#DejaVuSans-6f\" x=\"240.771484\"/>\n      <use xlink:href=\"#DejaVuSans-69\" x=\"301.953125\"/>\n      <use xlink:href=\"#DejaVuSans-64\" x=\"329.736328\"/>\n      <use xlink:href=\"#DejaVuSans-28\" x=\"393.212891\"/>\n      <use xlink:href=\"#DejaVuSans-78\" x=\"432.226562\"/>\n      <use xlink:href=\"#DejaVuSans-29\" x=\"491.40625\"/>\n     </g>\n    </g>\n   </g>\n   <g id=\"line2d_31\">\n    <path d=\"M 56.463068 139.5 \nL 81.986223 139.333127 \nL 96.343001 139.029084 \nL 105.914183 138.610292 \nL 113.890169 138.013022 \nL 120.27096 137.27442 \nL 125.056551 136.500132 \nL 129.842142 135.470181 \nL 133.032538 134.603917 \nL 136.222933 133.562402 \nL 139.413328 132.314335 \nL 142.60372 130.82469 \nL 145.794115 129.055121 \nL 148.98451 126.964844 \nL 152.174906 124.512105 \nL 155.365299 121.656424 \nL 158.555695 118.361648 \nL 161.74609 114.599846 \nL 164.936483 110.355802 \nL 168.126879 105.631724 \nL 171.317273 100.451472 \nL 174.507668 94.863434 \nL 179.29326 85.884159 \nL 193.650036 58.132118 \nL 196.84043 52.54408 \nL 200.030825 47.363825 \nL 203.22122 42.639745 \nL 206.411613 38.395703 \nL 209.602009 34.633906 \nL 212.792404 31.339138 \nL 215.982798 28.483454 \nL 219.173193 26.030706 \nL 222.363588 23.94043 \nL 225.553984 22.170862 \nL 228.744379 20.681217 \nL 231.934771 19.433149 \nL 235.125166 18.391638 \nL 238.315561 17.525365 \nL 243.101152 16.495419 \nL 247.886743 15.721136 \nL 254.267534 14.982536 \nL 260.648325 14.482478 \nL 268.624311 14.079535 \nL 279.790689 13.765034 \nL 295.742662 13.568135 \nL 310.099432 13.5 \nL 310.099432 13.5 \n\" clip-path=\"url(#p882fb5040b)\" style=\"fill: none; stroke: #1f77b4; stroke-width: 1.5; stroke-linecap: square\"/>\n   </g>\n   <g id=\"patch_3\">\n    <path d=\"M 43.78125 145.8 \nL 43.78125 7.2 \n\" style=\"fill: none; stroke: #000000; stroke-width: 0.8; stroke-linejoin: miter; stroke-linecap: square\"/>\n   </g>\n   <g id=\"patch_4\">\n    <path d=\"M 322.78125 145.8 \nL 322.78125 7.2 \n\" style=\"fill: none; stroke: #000000; stroke-width: 0.8; stroke-linejoin: miter; stroke-linecap: square\"/>\n   </g>\n   <g id=\"patch_5\">\n    <path d=\"M 43.78125 145.8 \nL 322.78125 145.8 \n\" style=\"fill: none; stroke: #000000; stroke-width: 0.8; stroke-linejoin: miter; stroke-linecap: square\"/>\n   </g>\n   <g id=\"patch_6\">\n    <path d=\"M 43.78125 7.2 \nL 322.78125 7.2 \n\" style=\"fill: none; stroke: #000000; stroke-width: 0.8; stroke-linejoin: miter; stroke-linecap: square\"/>\n   </g>\n  </g>\n </g>\n <defs>\n  <clipPath id=\"p882fb5040b\">\n   <rect x=\"43.78125\" y=\"7.2\" width=\"279\" height=\"138.6\"/>\n  </clipPath>\n </defs>\n</svg>\n"
          },
          "metadata": {}
        }
      ]
    },
    {
      "cell_type": "code",
      "source": [
        "x.grad.data.zero_() #이전의 gradient clear\n",
        "y.backward(torch.ones_like(x),retain_graph=True)\n",
        "d2l.plot(x.detach(), x.grad, 'x', 'grad of sigmoid', figsize=(5, 2.5))"
      ],
      "metadata": {
        "colab": {
          "base_uri": "https://localhost:8080/",
          "height": 265
        },
        "id": "4f2Hj7goEhFp",
        "outputId": "c0035312-d820-4f22-d6b5-7b27fb08251f"
      },
      "id": "4f2Hj7goEhFp",
      "execution_count": 62,
      "outputs": [
        {
          "output_type": "display_data",
          "data": {
            "text/plain": [
              "<Figure size 500x250 with 1 Axes>"
            ],
            "image/svg+xml": "<?xml version=\"1.0\" encoding=\"utf-8\" standalone=\"no\"?>\n<!DOCTYPE svg PUBLIC \"-//W3C//DTD SVG 1.1//EN\"\n  \"http://www.w3.org/Graphics/SVG/1.1/DTD/svg11.dtd\">\n<svg xmlns:xlink=\"http://www.w3.org/1999/xlink\" width=\"329.98125pt\" height=\"183.35625pt\" viewBox=\"0 0 329.98125 183.35625\" xmlns=\"http://www.w3.org/2000/svg\" version=\"1.1\">\n <metadata>\n  <rdf:RDF xmlns:dc=\"http://purl.org/dc/elements/1.1/\" xmlns:cc=\"http://creativecommons.org/ns#\" xmlns:rdf=\"http://www.w3.org/1999/02/22-rdf-syntax-ns#\">\n   <cc:Work>\n    <dc:type rdf:resource=\"http://purl.org/dc/dcmitype/StillImage\"/>\n    <dc:date>2024-09-24T03:34:07.049507</dc:date>\n    <dc:format>image/svg+xml</dc:format>\n    <dc:creator>\n     <cc:Agent>\n      <dc:title>Matplotlib v3.7.2, https://matplotlib.org/</dc:title>\n     </cc:Agent>\n    </dc:creator>\n   </cc:Work>\n  </rdf:RDF>\n </metadata>\n <defs>\n  <style type=\"text/css\">*{stroke-linejoin: round; stroke-linecap: butt}</style>\n </defs>\n <g id=\"figure_1\">\n  <g id=\"patch_1\">\n   <path d=\"M 0 183.35625 \nL 329.98125 183.35625 \nL 329.98125 0 \nL 0 0 \nz\n\" style=\"fill: #ffffff\"/>\n  </g>\n  <g id=\"axes_1\">\n   <g id=\"patch_2\">\n    <path d=\"M 43.78125 145.8 \nL 322.78125 145.8 \nL 322.78125 7.2 \nL 43.78125 7.2 \nz\n\" style=\"fill: #ffffff\"/>\n   </g>\n   <g id=\"matplotlib.axis_1\">\n    <g id=\"xtick_1\">\n     <g id=\"line2d_1\">\n      <path d=\"M 56.463068 145.8 \nL 56.463068 7.2 \n\" clip-path=\"url(#pba3bf19d54)\" style=\"fill: none; stroke: #b0b0b0; stroke-width: 0.8; stroke-linecap: square\"/>\n     </g>\n     <g id=\"line2d_2\">\n      <defs>\n       <path id=\"mc3a3723d2c\" d=\"M 0 0 \nL 0 3.5 \n\" style=\"stroke: #000000; stroke-width: 0.8\"/>\n      </defs>\n      <g>\n       <use xlink:href=\"#mc3a3723d2c\" x=\"56.463068\" y=\"145.8\" style=\"stroke: #000000; stroke-width: 0.8\"/>\n      </g>\n     </g>\n     <g id=\"text_1\">\n      <!-- −8 -->\n      <g transform=\"translate(49.091974 160.398438) scale(0.1 -0.1)\">\n       <defs>\n        <path id=\"DejaVuSans-2212\" d=\"M 678 2272 \nL 4684 2272 \nL 4684 1741 \nL 678 1741 \nL 678 2272 \nz\n\" transform=\"scale(0.015625)\"/>\n        <path id=\"DejaVuSans-38\" d=\"M 2034 2216 \nQ 1584 2216 1326 1975 \nQ 1069 1734 1069 1313 \nQ 1069 891 1326 650 \nQ 1584 409 2034 409 \nQ 2484 409 2743 651 \nQ 3003 894 3003 1313 \nQ 3003 1734 2745 1975 \nQ 2488 2216 2034 2216 \nz\nM 1403 2484 \nQ 997 2584 770 2862 \nQ 544 3141 544 3541 \nQ 544 4100 942 4425 \nQ 1341 4750 2034 4750 \nQ 2731 4750 3128 4425 \nQ 3525 4100 3525 3541 \nQ 3525 3141 3298 2862 \nQ 3072 2584 2669 2484 \nQ 3125 2378 3379 2068 \nQ 3634 1759 3634 1313 \nQ 3634 634 3220 271 \nQ 2806 -91 2034 -91 \nQ 1263 -91 848 271 \nQ 434 634 434 1313 \nQ 434 1759 690 2068 \nQ 947 2378 1403 2484 \nz\nM 1172 3481 \nQ 1172 3119 1398 2916 \nQ 1625 2713 2034 2713 \nQ 2441 2713 2670 2916 \nQ 2900 3119 2900 3481 \nQ 2900 3844 2670 4047 \nQ 2441 4250 2034 4250 \nQ 1625 4250 1398 4047 \nQ 1172 3844 1172 3481 \nz\n\" transform=\"scale(0.015625)\"/>\n       </defs>\n       <use xlink:href=\"#DejaVuSans-2212\"/>\n       <use xlink:href=\"#DejaVuSans-38\" x=\"83.789062\"/>\n      </g>\n     </g>\n    </g>\n    <g id=\"xtick_2\">\n     <g id=\"line2d_3\">\n      <path d=\"M 88.367014 145.8 \nL 88.367014 7.2 \n\" clip-path=\"url(#pba3bf19d54)\" style=\"fill: none; stroke: #b0b0b0; stroke-width: 0.8; stroke-linecap: square\"/>\n     </g>\n     <g id=\"line2d_4\">\n      <g>\n       <use xlink:href=\"#mc3a3723d2c\" x=\"88.367014\" y=\"145.8\" style=\"stroke: #000000; stroke-width: 0.8\"/>\n      </g>\n     </g>\n     <g id=\"text_2\">\n      <!-- −6 -->\n      <g transform=\"translate(80.99592 160.398438) scale(0.1 -0.1)\">\n       <defs>\n        <path id=\"DejaVuSans-36\" d=\"M 2113 2584 \nQ 1688 2584 1439 2293 \nQ 1191 2003 1191 1497 \nQ 1191 994 1439 701 \nQ 1688 409 2113 409 \nQ 2538 409 2786 701 \nQ 3034 994 3034 1497 \nQ 3034 2003 2786 2293 \nQ 2538 2584 2113 2584 \nz\nM 3366 4563 \nL 3366 3988 \nQ 3128 4100 2886 4159 \nQ 2644 4219 2406 4219 \nQ 1781 4219 1451 3797 \nQ 1122 3375 1075 2522 \nQ 1259 2794 1537 2939 \nQ 1816 3084 2150 3084 \nQ 2853 3084 3261 2657 \nQ 3669 2231 3669 1497 \nQ 3669 778 3244 343 \nQ 2819 -91 2113 -91 \nQ 1303 -91 875 529 \nQ 447 1150 447 2328 \nQ 447 3434 972 4092 \nQ 1497 4750 2381 4750 \nQ 2619 4750 2861 4703 \nQ 3103 4656 3366 4563 \nz\n\" transform=\"scale(0.015625)\"/>\n       </defs>\n       <use xlink:href=\"#DejaVuSans-2212\"/>\n       <use xlink:href=\"#DejaVuSans-36\" x=\"83.789062\"/>\n      </g>\n     </g>\n    </g>\n    <g id=\"xtick_3\">\n     <g id=\"line2d_5\">\n      <path d=\"M 120.27096 145.8 \nL 120.27096 7.2 \n\" clip-path=\"url(#pba3bf19d54)\" style=\"fill: none; stroke: #b0b0b0; stroke-width: 0.8; stroke-linecap: square\"/>\n     </g>\n     <g id=\"line2d_6\">\n      <g>\n       <use xlink:href=\"#mc3a3723d2c\" x=\"120.27096\" y=\"145.8\" style=\"stroke: #000000; stroke-width: 0.8\"/>\n      </g>\n     </g>\n     <g id=\"text_3\">\n      <!-- −4 -->\n      <g transform=\"translate(112.899866 160.398438) scale(0.1 -0.1)\">\n       <defs>\n        <path id=\"DejaVuSans-34\" d=\"M 2419 4116 \nL 825 1625 \nL 2419 1625 \nL 2419 4116 \nz\nM 2253 4666 \nL 3047 4666 \nL 3047 1625 \nL 3713 1625 \nL 3713 1100 \nL 3047 1100 \nL 3047 0 \nL 2419 0 \nL 2419 1100 \nL 313 1100 \nL 313 1709 \nL 2253 4666 \nz\n\" transform=\"scale(0.015625)\"/>\n       </defs>\n       <use xlink:href=\"#DejaVuSans-2212\"/>\n       <use xlink:href=\"#DejaVuSans-34\" x=\"83.789062\"/>\n      </g>\n     </g>\n    </g>\n    <g id=\"xtick_4\">\n     <g id=\"line2d_7\">\n      <path d=\"M 152.174906 145.8 \nL 152.174906 7.2 \n\" clip-path=\"url(#pba3bf19d54)\" style=\"fill: none; stroke: #b0b0b0; stroke-width: 0.8; stroke-linecap: square\"/>\n     </g>\n     <g id=\"line2d_8\">\n      <g>\n       <use xlink:href=\"#mc3a3723d2c\" x=\"152.174906\" y=\"145.8\" style=\"stroke: #000000; stroke-width: 0.8\"/>\n      </g>\n     </g>\n     <g id=\"text_4\">\n      <!-- −2 -->\n      <g transform=\"translate(144.803812 160.398438) scale(0.1 -0.1)\">\n       <defs>\n        <path id=\"DejaVuSans-32\" d=\"M 1228 531 \nL 3431 531 \nL 3431 0 \nL 469 0 \nL 469 531 \nQ 828 903 1448 1529 \nQ 2069 2156 2228 2338 \nQ 2531 2678 2651 2914 \nQ 2772 3150 2772 3378 \nQ 2772 3750 2511 3984 \nQ 2250 4219 1831 4219 \nQ 1534 4219 1204 4116 \nQ 875 4013 500 3803 \nL 500 4441 \nQ 881 4594 1212 4672 \nQ 1544 4750 1819 4750 \nQ 2544 4750 2975 4387 \nQ 3406 4025 3406 3419 \nQ 3406 3131 3298 2873 \nQ 3191 2616 2906 2266 \nQ 2828 2175 2409 1742 \nQ 1991 1309 1228 531 \nz\n\" transform=\"scale(0.015625)\"/>\n       </defs>\n       <use xlink:href=\"#DejaVuSans-2212\"/>\n       <use xlink:href=\"#DejaVuSans-32\" x=\"83.789062\"/>\n      </g>\n     </g>\n    </g>\n    <g id=\"xtick_5\">\n     <g id=\"line2d_9\">\n      <path d=\"M 184.078852 145.8 \nL 184.078852 7.2 \n\" clip-path=\"url(#pba3bf19d54)\" style=\"fill: none; stroke: #b0b0b0; stroke-width: 0.8; stroke-linecap: square\"/>\n     </g>\n     <g id=\"line2d_10\">\n      <g>\n       <use xlink:href=\"#mc3a3723d2c\" x=\"184.078852\" y=\"145.8\" style=\"stroke: #000000; stroke-width: 0.8\"/>\n      </g>\n     </g>\n     <g id=\"text_5\">\n      <!-- 0 -->\n      <g transform=\"translate(180.897602 160.398438) scale(0.1 -0.1)\">\n       <defs>\n        <path id=\"DejaVuSans-30\" d=\"M 2034 4250 \nQ 1547 4250 1301 3770 \nQ 1056 3291 1056 2328 \nQ 1056 1369 1301 889 \nQ 1547 409 2034 409 \nQ 2525 409 2770 889 \nQ 3016 1369 3016 2328 \nQ 3016 3291 2770 3770 \nQ 2525 4250 2034 4250 \nz\nM 2034 4750 \nQ 2819 4750 3233 4129 \nQ 3647 3509 3647 2328 \nQ 3647 1150 3233 529 \nQ 2819 -91 2034 -91 \nQ 1250 -91 836 529 \nQ 422 1150 422 2328 \nQ 422 3509 836 4129 \nQ 1250 4750 2034 4750 \nz\n\" transform=\"scale(0.015625)\"/>\n       </defs>\n       <use xlink:href=\"#DejaVuSans-30\"/>\n      </g>\n     </g>\n    </g>\n    <g id=\"xtick_6\">\n     <g id=\"line2d_11\">\n      <path d=\"M 215.982798 145.8 \nL 215.982798 7.2 \n\" clip-path=\"url(#pba3bf19d54)\" style=\"fill: none; stroke: #b0b0b0; stroke-width: 0.8; stroke-linecap: square\"/>\n     </g>\n     <g id=\"line2d_12\">\n      <g>\n       <use xlink:href=\"#mc3a3723d2c\" x=\"215.982798\" y=\"145.8\" style=\"stroke: #000000; stroke-width: 0.8\"/>\n      </g>\n     </g>\n     <g id=\"text_6\">\n      <!-- 2 -->\n      <g transform=\"translate(212.801548 160.398438) scale(0.1 -0.1)\">\n       <use xlink:href=\"#DejaVuSans-32\"/>\n      </g>\n     </g>\n    </g>\n    <g id=\"xtick_7\">\n     <g id=\"line2d_13\">\n      <path d=\"M 247.886743 145.8 \nL 247.886743 7.2 \n\" clip-path=\"url(#pba3bf19d54)\" style=\"fill: none; stroke: #b0b0b0; stroke-width: 0.8; stroke-linecap: square\"/>\n     </g>\n     <g id=\"line2d_14\">\n      <g>\n       <use xlink:href=\"#mc3a3723d2c\" x=\"247.886743\" y=\"145.8\" style=\"stroke: #000000; stroke-width: 0.8\"/>\n      </g>\n     </g>\n     <g id=\"text_7\">\n      <!-- 4 -->\n      <g transform=\"translate(244.705493 160.398438) scale(0.1 -0.1)\">\n       <use xlink:href=\"#DejaVuSans-34\"/>\n      </g>\n     </g>\n    </g>\n    <g id=\"xtick_8\">\n     <g id=\"line2d_15\">\n      <path d=\"M 279.790689 145.8 \nL 279.790689 7.2 \n\" clip-path=\"url(#pba3bf19d54)\" style=\"fill: none; stroke: #b0b0b0; stroke-width: 0.8; stroke-linecap: square\"/>\n     </g>\n     <g id=\"line2d_16\">\n      <g>\n       <use xlink:href=\"#mc3a3723d2c\" x=\"279.790689\" y=\"145.8\" style=\"stroke: #000000; stroke-width: 0.8\"/>\n      </g>\n     </g>\n     <g id=\"text_8\">\n      <!-- 6 -->\n      <g transform=\"translate(276.609439 160.398438) scale(0.1 -0.1)\">\n       <use xlink:href=\"#DejaVuSans-36\"/>\n      </g>\n     </g>\n    </g>\n    <g id=\"xtick_9\">\n     <g id=\"line2d_17\">\n      <path d=\"M 311.694635 145.8 \nL 311.694635 7.2 \n\" clip-path=\"url(#pba3bf19d54)\" style=\"fill: none; stroke: #b0b0b0; stroke-width: 0.8; stroke-linecap: square\"/>\n     </g>\n     <g id=\"line2d_18\">\n      <g>\n       <use xlink:href=\"#mc3a3723d2c\" x=\"311.694635\" y=\"145.8\" style=\"stroke: #000000; stroke-width: 0.8\"/>\n      </g>\n     </g>\n     <g id=\"text_9\">\n      <!-- 8 -->\n      <g transform=\"translate(308.513385 160.398438) scale(0.1 -0.1)\">\n       <use xlink:href=\"#DejaVuSans-38\"/>\n      </g>\n     </g>\n    </g>\n    <g id=\"text_10\">\n     <!-- x -->\n     <g transform=\"translate(180.321875 174.076563) scale(0.1 -0.1)\">\n      <defs>\n       <path id=\"DejaVuSans-78\" d=\"M 3513 3500 \nL 2247 1797 \nL 3578 0 \nL 2900 0 \nL 1881 1375 \nL 863 0 \nL 184 0 \nL 1544 1831 \nL 300 3500 \nL 978 3500 \nL 1906 2253 \nL 2834 3500 \nL 3513 3500 \nz\n\" transform=\"scale(0.015625)\"/>\n      </defs>\n      <use xlink:href=\"#DejaVuSans-78\"/>\n     </g>\n    </g>\n   </g>\n   <g id=\"matplotlib.axis_2\">\n    <g id=\"ytick_1\">\n     <g id=\"line2d_19\">\n      <path d=\"M 43.78125 139.50006 \nL 322.78125 139.50006 \n\" clip-path=\"url(#pba3bf19d54)\" style=\"fill: none; stroke: #b0b0b0; stroke-width: 0.8; stroke-linecap: square\"/>\n     </g>\n     <g id=\"line2d_20\">\n      <defs>\n       <path id=\"m54ff007411\" d=\"M 0 0 \nL -3.5 0 \n\" style=\"stroke: #000000; stroke-width: 0.8\"/>\n      </defs>\n      <g>\n       <use xlink:href=\"#m54ff007411\" x=\"43.78125\" y=\"139.50006\" style=\"stroke: #000000; stroke-width: 0.8\"/>\n      </g>\n     </g>\n     <g id=\"text_11\">\n      <!-- 0.0 -->\n      <g transform=\"translate(20.878125 143.299279) scale(0.1 -0.1)\">\n       <defs>\n        <path id=\"DejaVuSans-2e\" d=\"M 684 794 \nL 1344 794 \nL 1344 0 \nL 684 0 \nL 684 794 \nz\n\" transform=\"scale(0.015625)\"/>\n       </defs>\n       <use xlink:href=\"#DejaVuSans-30\"/>\n       <use xlink:href=\"#DejaVuSans-2e\" x=\"63.623047\"/>\n       <use xlink:href=\"#DejaVuSans-30\" x=\"95.410156\"/>\n      </g>\n     </g>\n    </g>\n    <g id=\"ytick_2\">\n     <g id=\"line2d_21\">\n      <path d=\"M 43.78125 114.300048 \nL 322.78125 114.300048 \n\" clip-path=\"url(#pba3bf19d54)\" style=\"fill: none; stroke: #b0b0b0; stroke-width: 0.8; stroke-linecap: square\"/>\n     </g>\n     <g id=\"line2d_22\">\n      <g>\n       <use xlink:href=\"#m54ff007411\" x=\"43.78125\" y=\"114.300048\" style=\"stroke: #000000; stroke-width: 0.8\"/>\n      </g>\n     </g>\n     <g id=\"text_12\">\n      <!-- 0.2 -->\n      <g transform=\"translate(20.878125 118.099267) scale(0.1 -0.1)\">\n       <use xlink:href=\"#DejaVuSans-30\"/>\n       <use xlink:href=\"#DejaVuSans-2e\" x=\"63.623047\"/>\n       <use xlink:href=\"#DejaVuSans-32\" x=\"95.410156\"/>\n      </g>\n     </g>\n    </g>\n    <g id=\"ytick_3\">\n     <g id=\"line2d_23\">\n      <path d=\"M 43.78125 89.100036 \nL 322.78125 89.100036 \n\" clip-path=\"url(#pba3bf19d54)\" style=\"fill: none; stroke: #b0b0b0; stroke-width: 0.8; stroke-linecap: square\"/>\n     </g>\n     <g id=\"line2d_24\">\n      <g>\n       <use xlink:href=\"#m54ff007411\" x=\"43.78125\" y=\"89.100036\" style=\"stroke: #000000; stroke-width: 0.8\"/>\n      </g>\n     </g>\n     <g id=\"text_13\">\n      <!-- 0.4 -->\n      <g transform=\"translate(20.878125 92.899255) scale(0.1 -0.1)\">\n       <use xlink:href=\"#DejaVuSans-30\"/>\n       <use xlink:href=\"#DejaVuSans-2e\" x=\"63.623047\"/>\n       <use xlink:href=\"#DejaVuSans-34\" x=\"95.410156\"/>\n      </g>\n     </g>\n    </g>\n    <g id=\"ytick_4\">\n     <g id=\"line2d_25\">\n      <path d=\"M 43.78125 63.900024 \nL 322.78125 63.900024 \n\" clip-path=\"url(#pba3bf19d54)\" style=\"fill: none; stroke: #b0b0b0; stroke-width: 0.8; stroke-linecap: square\"/>\n     </g>\n     <g id=\"line2d_26\">\n      <g>\n       <use xlink:href=\"#m54ff007411\" x=\"43.78125\" y=\"63.900024\" style=\"stroke: #000000; stroke-width: 0.8\"/>\n      </g>\n     </g>\n     <g id=\"text_14\">\n      <!-- 0.6 -->\n      <g transform=\"translate(20.878125 67.699243) scale(0.1 -0.1)\">\n       <use xlink:href=\"#DejaVuSans-30\"/>\n       <use xlink:href=\"#DejaVuSans-2e\" x=\"63.623047\"/>\n       <use xlink:href=\"#DejaVuSans-36\" x=\"95.410156\"/>\n      </g>\n     </g>\n    </g>\n    <g id=\"ytick_5\">\n     <g id=\"line2d_27\">\n      <path d=\"M 43.78125 38.700012 \nL 322.78125 38.700012 \n\" clip-path=\"url(#pba3bf19d54)\" style=\"fill: none; stroke: #b0b0b0; stroke-width: 0.8; stroke-linecap: square\"/>\n     </g>\n     <g id=\"line2d_28\">\n      <g>\n       <use xlink:href=\"#m54ff007411\" x=\"43.78125\" y=\"38.700012\" style=\"stroke: #000000; stroke-width: 0.8\"/>\n      </g>\n     </g>\n     <g id=\"text_15\">\n      <!-- 0.8 -->\n      <g transform=\"translate(20.878125 42.499231) scale(0.1 -0.1)\">\n       <use xlink:href=\"#DejaVuSans-30\"/>\n       <use xlink:href=\"#DejaVuSans-2e\" x=\"63.623047\"/>\n       <use xlink:href=\"#DejaVuSans-38\" x=\"95.410156\"/>\n      </g>\n     </g>\n    </g>\n    <g id=\"ytick_6\">\n     <g id=\"line2d_29\">\n      <path d=\"M 43.78125 13.5 \nL 322.78125 13.5 \n\" clip-path=\"url(#pba3bf19d54)\" style=\"fill: none; stroke: #b0b0b0; stroke-width: 0.8; stroke-linecap: square\"/>\n     </g>\n     <g id=\"line2d_30\">\n      <g>\n       <use xlink:href=\"#m54ff007411\" x=\"43.78125\" y=\"13.5\" style=\"stroke: #000000; stroke-width: 0.8\"/>\n      </g>\n     </g>\n     <g id=\"text_16\">\n      <!-- 1.0 -->\n      <g transform=\"translate(20.878125 17.299219) scale(0.1 -0.1)\">\n       <defs>\n        <path id=\"DejaVuSans-31\" d=\"M 794 531 \nL 1825 531 \nL 1825 4091 \nL 703 3866 \nL 703 4441 \nL 1819 4666 \nL 2450 4666 \nL 2450 531 \nL 3481 531 \nL 3481 0 \nL 794 0 \nL 794 531 \nz\n\" transform=\"scale(0.015625)\"/>\n       </defs>\n       <use xlink:href=\"#DejaVuSans-31\"/>\n       <use xlink:href=\"#DejaVuSans-2e\" x=\"63.623047\"/>\n       <use xlink:href=\"#DejaVuSans-30\" x=\"95.410156\"/>\n      </g>\n     </g>\n    </g>\n    <g id=\"text_17\">\n     <!-- grad of sigmoid -->\n     <g transform=\"translate(14.798438 115.626563) rotate(-90) scale(0.1 -0.1)\">\n      <defs>\n       <path id=\"DejaVuSans-67\" d=\"M 2906 1791 \nQ 2906 2416 2648 2759 \nQ 2391 3103 1925 3103 \nQ 1463 3103 1205 2759 \nQ 947 2416 947 1791 \nQ 947 1169 1205 825 \nQ 1463 481 1925 481 \nQ 2391 481 2648 825 \nQ 2906 1169 2906 1791 \nz\nM 3481 434 \nQ 3481 -459 3084 -895 \nQ 2688 -1331 1869 -1331 \nQ 1566 -1331 1297 -1286 \nQ 1028 -1241 775 -1147 \nL 775 -588 \nQ 1028 -725 1275 -790 \nQ 1522 -856 1778 -856 \nQ 2344 -856 2625 -561 \nQ 2906 -266 2906 331 \nL 2906 616 \nQ 2728 306 2450 153 \nQ 2172 0 1784 0 \nQ 1141 0 747 490 \nQ 353 981 353 1791 \nQ 353 2603 747 3093 \nQ 1141 3584 1784 3584 \nQ 2172 3584 2450 3431 \nQ 2728 3278 2906 2969 \nL 2906 3500 \nL 3481 3500 \nL 3481 434 \nz\n\" transform=\"scale(0.015625)\"/>\n       <path id=\"DejaVuSans-72\" d=\"M 2631 2963 \nQ 2534 3019 2420 3045 \nQ 2306 3072 2169 3072 \nQ 1681 3072 1420 2755 \nQ 1159 2438 1159 1844 \nL 1159 0 \nL 581 0 \nL 581 3500 \nL 1159 3500 \nL 1159 2956 \nQ 1341 3275 1631 3429 \nQ 1922 3584 2338 3584 \nQ 2397 3584 2469 3576 \nQ 2541 3569 2628 3553 \nL 2631 2963 \nz\n\" transform=\"scale(0.015625)\"/>\n       <path id=\"DejaVuSans-61\" d=\"M 2194 1759 \nQ 1497 1759 1228 1600 \nQ 959 1441 959 1056 \nQ 959 750 1161 570 \nQ 1363 391 1709 391 \nQ 2188 391 2477 730 \nQ 2766 1069 2766 1631 \nL 2766 1759 \nL 2194 1759 \nz\nM 3341 1997 \nL 3341 0 \nL 2766 0 \nL 2766 531 \nQ 2569 213 2275 61 \nQ 1981 -91 1556 -91 \nQ 1019 -91 701 211 \nQ 384 513 384 1019 \nQ 384 1609 779 1909 \nQ 1175 2209 1959 2209 \nL 2766 2209 \nL 2766 2266 \nQ 2766 2663 2505 2880 \nQ 2244 3097 1772 3097 \nQ 1472 3097 1187 3025 \nQ 903 2953 641 2809 \nL 641 3341 \nQ 956 3463 1253 3523 \nQ 1550 3584 1831 3584 \nQ 2591 3584 2966 3190 \nQ 3341 2797 3341 1997 \nz\n\" transform=\"scale(0.015625)\"/>\n       <path id=\"DejaVuSans-64\" d=\"M 2906 2969 \nL 2906 4863 \nL 3481 4863 \nL 3481 0 \nL 2906 0 \nL 2906 525 \nQ 2725 213 2448 61 \nQ 2172 -91 1784 -91 \nQ 1150 -91 751 415 \nQ 353 922 353 1747 \nQ 353 2572 751 3078 \nQ 1150 3584 1784 3584 \nQ 2172 3584 2448 3432 \nQ 2725 3281 2906 2969 \nz\nM 947 1747 \nQ 947 1113 1208 752 \nQ 1469 391 1925 391 \nQ 2381 391 2643 752 \nQ 2906 1113 2906 1747 \nQ 2906 2381 2643 2742 \nQ 2381 3103 1925 3103 \nQ 1469 3103 1208 2742 \nQ 947 2381 947 1747 \nz\n\" transform=\"scale(0.015625)\"/>\n       <path id=\"DejaVuSans-20\" transform=\"scale(0.015625)\"/>\n       <path id=\"DejaVuSans-6f\" d=\"M 1959 3097 \nQ 1497 3097 1228 2736 \nQ 959 2375 959 1747 \nQ 959 1119 1226 758 \nQ 1494 397 1959 397 \nQ 2419 397 2687 759 \nQ 2956 1122 2956 1747 \nQ 2956 2369 2687 2733 \nQ 2419 3097 1959 3097 \nz\nM 1959 3584 \nQ 2709 3584 3137 3096 \nQ 3566 2609 3566 1747 \nQ 3566 888 3137 398 \nQ 2709 -91 1959 -91 \nQ 1206 -91 779 398 \nQ 353 888 353 1747 \nQ 353 2609 779 3096 \nQ 1206 3584 1959 3584 \nz\n\" transform=\"scale(0.015625)\"/>\n       <path id=\"DejaVuSans-66\" d=\"M 2375 4863 \nL 2375 4384 \nL 1825 4384 \nQ 1516 4384 1395 4259 \nQ 1275 4134 1275 3809 \nL 1275 3500 \nL 2222 3500 \nL 2222 3053 \nL 1275 3053 \nL 1275 0 \nL 697 0 \nL 697 3053 \nL 147 3053 \nL 147 3500 \nL 697 3500 \nL 697 3744 \nQ 697 4328 969 4595 \nQ 1241 4863 1831 4863 \nL 2375 4863 \nz\n\" transform=\"scale(0.015625)\"/>\n       <path id=\"DejaVuSans-73\" d=\"M 2834 3397 \nL 2834 2853 \nQ 2591 2978 2328 3040 \nQ 2066 3103 1784 3103 \nQ 1356 3103 1142 2972 \nQ 928 2841 928 2578 \nQ 928 2378 1081 2264 \nQ 1234 2150 1697 2047 \nL 1894 2003 \nQ 2506 1872 2764 1633 \nQ 3022 1394 3022 966 \nQ 3022 478 2636 193 \nQ 2250 -91 1575 -91 \nQ 1294 -91 989 -36 \nQ 684 19 347 128 \nL 347 722 \nQ 666 556 975 473 \nQ 1284 391 1588 391 \nQ 1994 391 2212 530 \nQ 2431 669 2431 922 \nQ 2431 1156 2273 1281 \nQ 2116 1406 1581 1522 \nL 1381 1569 \nQ 847 1681 609 1914 \nQ 372 2147 372 2553 \nQ 372 3047 722 3315 \nQ 1072 3584 1716 3584 \nQ 2034 3584 2315 3537 \nQ 2597 3491 2834 3397 \nz\n\" transform=\"scale(0.015625)\"/>\n       <path id=\"DejaVuSans-69\" d=\"M 603 3500 \nL 1178 3500 \nL 1178 0 \nL 603 0 \nL 603 3500 \nz\nM 603 4863 \nL 1178 4863 \nL 1178 4134 \nL 603 4134 \nL 603 4863 \nz\n\" transform=\"scale(0.015625)\"/>\n       <path id=\"DejaVuSans-6d\" d=\"M 3328 2828 \nQ 3544 3216 3844 3400 \nQ 4144 3584 4550 3584 \nQ 5097 3584 5394 3201 \nQ 5691 2819 5691 2113 \nL 5691 0 \nL 5113 0 \nL 5113 2094 \nQ 5113 2597 4934 2840 \nQ 4756 3084 4391 3084 \nQ 3944 3084 3684 2787 \nQ 3425 2491 3425 1978 \nL 3425 0 \nL 2847 0 \nL 2847 2094 \nQ 2847 2600 2669 2842 \nQ 2491 3084 2119 3084 \nQ 1678 3084 1418 2786 \nQ 1159 2488 1159 1978 \nL 1159 0 \nL 581 0 \nL 581 3500 \nL 1159 3500 \nL 1159 2956 \nQ 1356 3278 1631 3431 \nQ 1906 3584 2284 3584 \nQ 2666 3584 2933 3390 \nQ 3200 3197 3328 2828 \nz\n\" transform=\"scale(0.015625)\"/>\n      </defs>\n      <use xlink:href=\"#DejaVuSans-67\"/>\n      <use xlink:href=\"#DejaVuSans-72\" x=\"63.476562\"/>\n      <use xlink:href=\"#DejaVuSans-61\" x=\"104.589844\"/>\n      <use xlink:href=\"#DejaVuSans-64\" x=\"165.869141\"/>\n      <use xlink:href=\"#DejaVuSans-20\" x=\"229.345703\"/>\n      <use xlink:href=\"#DejaVuSans-6f\" x=\"261.132812\"/>\n      <use xlink:href=\"#DejaVuSans-66\" x=\"322.314453\"/>\n      <use xlink:href=\"#DejaVuSans-20\" x=\"357.519531\"/>\n      <use xlink:href=\"#DejaVuSans-73\" x=\"389.306641\"/>\n      <use xlink:href=\"#DejaVuSans-69\" x=\"441.40625\"/>\n      <use xlink:href=\"#DejaVuSans-67\" x=\"469.189453\"/>\n      <use xlink:href=\"#DejaVuSans-6d\" x=\"532.666016\"/>\n      <use xlink:href=\"#DejaVuSans-6f\" x=\"630.078125\"/>\n      <use xlink:href=\"#DejaVuSans-69\" x=\"691.259766\"/>\n      <use xlink:href=\"#DejaVuSans-64\" x=\"719.042969\"/>\n     </g>\n    </g>\n   </g>\n   <g id=\"line2d_31\">\n    <path d=\"M 56.463068 139.5 \nL 115.485365 139.407311 \nL 125.056551 139.19236 \nL 131.437342 138.816301 \nL 136.222933 138.256946 \nL 139.413328 137.650037 \nL 142.60372 136.750129 \nL 144.198919 136.149435 \nL 145.794115 135.419709 \nL 147.389311 134.534266 \nL 148.98451 133.46146 \nL 150.579706 132.163957 \nL 152.174906 130.598053 \nL 153.770102 128.713213 \nL 155.365299 126.451699 \nL 156.960497 123.748808 \nL 158.555695 120.533634 \nL 160.150892 116.731015 \nL 161.74609 112.264839 \nL 163.341286 107.063468 \nL 164.936483 101.067529 \nL 166.531681 94.240673 \nL 168.126879 86.583273 \nL 169.722075 78.148441 \nL 172.912471 59.522835 \nL 176.102865 40.407602 \nL 177.698062 31.68952 \nL 179.29326 24.192751 \nL 180.888457 18.408584 \nL 182.483654 14.751648 \nL 184.078852 13.5 \nL 185.674049 14.751648 \nL 187.269246 18.408584 \nL 188.864444 24.192751 \nL 190.459641 31.68952 \nL 192.054838 40.407602 \nL 198.435628 78.148441 \nL 200.030825 86.583273 \nL 201.626022 94.240673 \nL 203.22122 101.067529 \nL 204.816416 107.063453 \nL 206.411613 112.264839 \nL 208.006811 116.731015 \nL 209.602009 120.533634 \nL 211.197206 123.748808 \nL 212.792404 126.451699 \nL 214.3876 128.713199 \nL 215.982798 130.598053 \nL 217.577993 132.163957 \nL 219.173193 133.46146 \nL 220.768389 134.534266 \nL 222.363588 135.419709 \nL 223.958784 136.149435 \nL 227.149179 137.244125 \nL 230.339575 137.983373 \nL 233.52997 138.481373 \nL 238.315561 138.939958 \nL 244.696348 139.248084 \nL 254.267534 139.424113 \nL 275.005094 139.494412 \nL 310.099432 139.499985 \nL 310.099432 139.499985 \n\" clip-path=\"url(#pba3bf19d54)\" style=\"fill: none; stroke: #1f77b4; stroke-width: 1.5; stroke-linecap: square\"/>\n   </g>\n   <g id=\"patch_3\">\n    <path d=\"M 43.78125 145.8 \nL 43.78125 7.2 \n\" style=\"fill: none; stroke: #000000; stroke-width: 0.8; stroke-linejoin: miter; stroke-linecap: square\"/>\n   </g>\n   <g id=\"patch_4\">\n    <path d=\"M 322.78125 145.8 \nL 322.78125 7.2 \n\" style=\"fill: none; stroke: #000000; stroke-width: 0.8; stroke-linejoin: miter; stroke-linecap: square\"/>\n   </g>\n   <g id=\"patch_5\">\n    <path d=\"M 43.78125 145.8 \nL 322.78125 145.8 \n\" style=\"fill: none; stroke: #000000; stroke-width: 0.8; stroke-linejoin: miter; stroke-linecap: square\"/>\n   </g>\n   <g id=\"patch_6\">\n    <path d=\"M 43.78125 7.2 \nL 322.78125 7.2 \n\" style=\"fill: none; stroke: #000000; stroke-width: 0.8; stroke-linejoin: miter; stroke-linecap: square\"/>\n   </g>\n  </g>\n </g>\n <defs>\n  <clipPath id=\"pba3bf19d54\">\n   <rect x=\"43.78125\" y=\"7.2\" width=\"279\" height=\"138.6\"/>\n  </clipPath>\n </defs>\n</svg>\n"
          },
          "metadata": {}
        }
      ]
    },
    {
      "cell_type": "markdown",
      "source": [
        "#### 5.1.2.3.tanh function\n",
        "\n",
        "* Tanh func : hyperbolic tangent함수로, 수식을 통해 입력값 -> -1~+1\n",
        "* 0에 가까울수록 선형적으로 동작, 멀어질수록 출력이 +1과 -1에 가까워짐\n",
        "* sigmoid와 차이점 -> tanh는 좌우 대칭, 출력값의 중심이 0, -1 ~ +1 -> 균형잡힌 출력을 제공하여 학습 속도를 빠르게\n",
        "* 도함수 : 입력이 0에 가까울수록 도함수는 1에 가까워짐. 입력이 멀어질수록 도함수는 0에 수렴한다. -> *gradient vanishing problem* 발생\n",
        "\n",
        "* tanh func 과 sigmoid func의 기울기 관련 비교!\n",
        "    \n",
        "    tanh : -1 ~ +1\n",
        "\n",
        "    sigmoid : 0 ~ 1\n",
        "\n",
        "    sigmoid의 경우 기울기가 0~1으로 기울기의 부호가 같으면 최적의 가중치를 찾아가는 과정에서 직선 ( + -> - -> + ...)가 아니라 + -> + or - -> - 로 움직여서 zigzag 형태로 진행됨. 직선으로 최적의 가중치를 바로 찾아갈 수 없으므로 속도가 늦어짐\n",
        "\n"
      ],
      "metadata": {
        "id": "C0SmeAgHEjeM"
      },
      "id": "C0SmeAgHEjeM"
    },
    {
      "cell_type": "code",
      "source": [
        "y = torch.tanh(x)\n",
        "d2l.plot(x.detach(), y.detach(), 'x', 'tanh(x)', figsize=(5, 2.5))"
      ],
      "metadata": {
        "colab": {
          "base_uri": "https://localhost:8080/",
          "height": 265
        },
        "id": "Q6TCoKCFEiMm",
        "outputId": "c77b5ae7-bf43-4cdd-9939-5b8c5c4b28cd"
      },
      "id": "Q6TCoKCFEiMm",
      "execution_count": 58,
      "outputs": [
        {
          "output_type": "display_data",
          "data": {
            "text/plain": [
              "<Figure size 500x250 with 1 Axes>"
            ],
            "image/svg+xml": "<?xml version=\"1.0\" encoding=\"utf-8\" standalone=\"no\"?>\n<!DOCTYPE svg PUBLIC \"-//W3C//DTD SVG 1.1//EN\"\n  \"http://www.w3.org/Graphics/SVG/1.1/DTD/svg11.dtd\">\n<svg xmlns:xlink=\"http://www.w3.org/1999/xlink\" width=\"338.360937pt\" height=\"183.35625pt\" viewBox=\"0 0 338.360937 183.35625\" xmlns=\"http://www.w3.org/2000/svg\" version=\"1.1\">\n <metadata>\n  <rdf:RDF xmlns:dc=\"http://purl.org/dc/elements/1.1/\" xmlns:cc=\"http://creativecommons.org/ns#\" xmlns:rdf=\"http://www.w3.org/1999/02/22-rdf-syntax-ns#\">\n   <cc:Work>\n    <dc:type rdf:resource=\"http://purl.org/dc/dcmitype/StillImage\"/>\n    <dc:date>2024-09-24T03:33:29.251458</dc:date>\n    <dc:format>image/svg+xml</dc:format>\n    <dc:creator>\n     <cc:Agent>\n      <dc:title>Matplotlib v3.7.2, https://matplotlib.org/</dc:title>\n     </cc:Agent>\n    </dc:creator>\n   </cc:Work>\n  </rdf:RDF>\n </metadata>\n <defs>\n  <style type=\"text/css\">*{stroke-linejoin: round; stroke-linecap: butt}</style>\n </defs>\n <g id=\"figure_1\">\n  <g id=\"patch_1\">\n   <path d=\"M 0 183.35625 \nL 338.360937 183.35625 \nL 338.360937 0 \nL 0 0 \nz\n\" style=\"fill: #ffffff\"/>\n  </g>\n  <g id=\"axes_1\">\n   <g id=\"patch_2\">\n    <path d=\"M 52.160938 145.8 \nL 331.160937 145.8 \nL 331.160937 7.2 \nL 52.160938 7.2 \nz\n\" style=\"fill: #ffffff\"/>\n   </g>\n   <g id=\"matplotlib.axis_1\">\n    <g id=\"xtick_1\">\n     <g id=\"line2d_1\">\n      <path d=\"M 64.842756 145.8 \nL 64.842756 7.2 \n\" clip-path=\"url(#pdac9bbfd01)\" style=\"fill: none; stroke: #b0b0b0; stroke-width: 0.8; stroke-linecap: square\"/>\n     </g>\n     <g id=\"line2d_2\">\n      <defs>\n       <path id=\"m09c52c2878\" d=\"M 0 0 \nL 0 3.5 \n\" style=\"stroke: #000000; stroke-width: 0.8\"/>\n      </defs>\n      <g>\n       <use xlink:href=\"#m09c52c2878\" x=\"64.842756\" y=\"145.8\" style=\"stroke: #000000; stroke-width: 0.8\"/>\n      </g>\n     </g>\n     <g id=\"text_1\">\n      <!-- −8 -->\n      <g transform=\"translate(57.471662 160.398438) scale(0.1 -0.1)\">\n       <defs>\n        <path id=\"DejaVuSans-2212\" d=\"M 678 2272 \nL 4684 2272 \nL 4684 1741 \nL 678 1741 \nL 678 2272 \nz\n\" transform=\"scale(0.015625)\"/>\n        <path id=\"DejaVuSans-38\" d=\"M 2034 2216 \nQ 1584 2216 1326 1975 \nQ 1069 1734 1069 1313 \nQ 1069 891 1326 650 \nQ 1584 409 2034 409 \nQ 2484 409 2743 651 \nQ 3003 894 3003 1313 \nQ 3003 1734 2745 1975 \nQ 2488 2216 2034 2216 \nz\nM 1403 2484 \nQ 997 2584 770 2862 \nQ 544 3141 544 3541 \nQ 544 4100 942 4425 \nQ 1341 4750 2034 4750 \nQ 2731 4750 3128 4425 \nQ 3525 4100 3525 3541 \nQ 3525 3141 3298 2862 \nQ 3072 2584 2669 2484 \nQ 3125 2378 3379 2068 \nQ 3634 1759 3634 1313 \nQ 3634 634 3220 271 \nQ 2806 -91 2034 -91 \nQ 1263 -91 848 271 \nQ 434 634 434 1313 \nQ 434 1759 690 2068 \nQ 947 2378 1403 2484 \nz\nM 1172 3481 \nQ 1172 3119 1398 2916 \nQ 1625 2713 2034 2713 \nQ 2441 2713 2670 2916 \nQ 2900 3119 2900 3481 \nQ 2900 3844 2670 4047 \nQ 2441 4250 2034 4250 \nQ 1625 4250 1398 4047 \nQ 1172 3844 1172 3481 \nz\n\" transform=\"scale(0.015625)\"/>\n       </defs>\n       <use xlink:href=\"#DejaVuSans-2212\"/>\n       <use xlink:href=\"#DejaVuSans-38\" x=\"83.789062\"/>\n      </g>\n     </g>\n    </g>\n    <g id=\"xtick_2\">\n     <g id=\"line2d_3\">\n      <path d=\"M 96.746702 145.8 \nL 96.746702 7.2 \n\" clip-path=\"url(#pdac9bbfd01)\" style=\"fill: none; stroke: #b0b0b0; stroke-width: 0.8; stroke-linecap: square\"/>\n     </g>\n     <g id=\"line2d_4\">\n      <g>\n       <use xlink:href=\"#m09c52c2878\" x=\"96.746702\" y=\"145.8\" style=\"stroke: #000000; stroke-width: 0.8\"/>\n      </g>\n     </g>\n     <g id=\"text_2\">\n      <!-- −6 -->\n      <g transform=\"translate(89.375608 160.398438) scale(0.1 -0.1)\">\n       <defs>\n        <path id=\"DejaVuSans-36\" d=\"M 2113 2584 \nQ 1688 2584 1439 2293 \nQ 1191 2003 1191 1497 \nQ 1191 994 1439 701 \nQ 1688 409 2113 409 \nQ 2538 409 2786 701 \nQ 3034 994 3034 1497 \nQ 3034 2003 2786 2293 \nQ 2538 2584 2113 2584 \nz\nM 3366 4563 \nL 3366 3988 \nQ 3128 4100 2886 4159 \nQ 2644 4219 2406 4219 \nQ 1781 4219 1451 3797 \nQ 1122 3375 1075 2522 \nQ 1259 2794 1537 2939 \nQ 1816 3084 2150 3084 \nQ 2853 3084 3261 2657 \nQ 3669 2231 3669 1497 \nQ 3669 778 3244 343 \nQ 2819 -91 2113 -91 \nQ 1303 -91 875 529 \nQ 447 1150 447 2328 \nQ 447 3434 972 4092 \nQ 1497 4750 2381 4750 \nQ 2619 4750 2861 4703 \nQ 3103 4656 3366 4563 \nz\n\" transform=\"scale(0.015625)\"/>\n       </defs>\n       <use xlink:href=\"#DejaVuSans-2212\"/>\n       <use xlink:href=\"#DejaVuSans-36\" x=\"83.789062\"/>\n      </g>\n     </g>\n    </g>\n    <g id=\"xtick_3\">\n     <g id=\"line2d_5\">\n      <path d=\"M 128.650647 145.8 \nL 128.650647 7.2 \n\" clip-path=\"url(#pdac9bbfd01)\" style=\"fill: none; stroke: #b0b0b0; stroke-width: 0.8; stroke-linecap: square\"/>\n     </g>\n     <g id=\"line2d_6\">\n      <g>\n       <use xlink:href=\"#m09c52c2878\" x=\"128.650647\" y=\"145.8\" style=\"stroke: #000000; stroke-width: 0.8\"/>\n      </g>\n     </g>\n     <g id=\"text_3\">\n      <!-- −4 -->\n      <g transform=\"translate(121.279554 160.398438) scale(0.1 -0.1)\">\n       <defs>\n        <path id=\"DejaVuSans-34\" d=\"M 2419 4116 \nL 825 1625 \nL 2419 1625 \nL 2419 4116 \nz\nM 2253 4666 \nL 3047 4666 \nL 3047 1625 \nL 3713 1625 \nL 3713 1100 \nL 3047 1100 \nL 3047 0 \nL 2419 0 \nL 2419 1100 \nL 313 1100 \nL 313 1709 \nL 2253 4666 \nz\n\" transform=\"scale(0.015625)\"/>\n       </defs>\n       <use xlink:href=\"#DejaVuSans-2212\"/>\n       <use xlink:href=\"#DejaVuSans-34\" x=\"83.789062\"/>\n      </g>\n     </g>\n    </g>\n    <g id=\"xtick_4\">\n     <g id=\"line2d_7\">\n      <path d=\"M 160.554593 145.8 \nL 160.554593 7.2 \n\" clip-path=\"url(#pdac9bbfd01)\" style=\"fill: none; stroke: #b0b0b0; stroke-width: 0.8; stroke-linecap: square\"/>\n     </g>\n     <g id=\"line2d_8\">\n      <g>\n       <use xlink:href=\"#m09c52c2878\" x=\"160.554593\" y=\"145.8\" style=\"stroke: #000000; stroke-width: 0.8\"/>\n      </g>\n     </g>\n     <g id=\"text_4\">\n      <!-- −2 -->\n      <g transform=\"translate(153.1835 160.398438) scale(0.1 -0.1)\">\n       <defs>\n        <path id=\"DejaVuSans-32\" d=\"M 1228 531 \nL 3431 531 \nL 3431 0 \nL 469 0 \nL 469 531 \nQ 828 903 1448 1529 \nQ 2069 2156 2228 2338 \nQ 2531 2678 2651 2914 \nQ 2772 3150 2772 3378 \nQ 2772 3750 2511 3984 \nQ 2250 4219 1831 4219 \nQ 1534 4219 1204 4116 \nQ 875 4013 500 3803 \nL 500 4441 \nQ 881 4594 1212 4672 \nQ 1544 4750 1819 4750 \nQ 2544 4750 2975 4387 \nQ 3406 4025 3406 3419 \nQ 3406 3131 3298 2873 \nQ 3191 2616 2906 2266 \nQ 2828 2175 2409 1742 \nQ 1991 1309 1228 531 \nz\n\" transform=\"scale(0.015625)\"/>\n       </defs>\n       <use xlink:href=\"#DejaVuSans-2212\"/>\n       <use xlink:href=\"#DejaVuSans-32\" x=\"83.789062\"/>\n      </g>\n     </g>\n    </g>\n    <g id=\"xtick_5\">\n     <g id=\"line2d_9\">\n      <path d=\"M 192.458539 145.8 \nL 192.458539 7.2 \n\" clip-path=\"url(#pdac9bbfd01)\" style=\"fill: none; stroke: #b0b0b0; stroke-width: 0.8; stroke-linecap: square\"/>\n     </g>\n     <g id=\"line2d_10\">\n      <g>\n       <use xlink:href=\"#m09c52c2878\" x=\"192.458539\" y=\"145.8\" style=\"stroke: #000000; stroke-width: 0.8\"/>\n      </g>\n     </g>\n     <g id=\"text_5\">\n      <!-- 0 -->\n      <g transform=\"translate(189.277289 160.398438) scale(0.1 -0.1)\">\n       <defs>\n        <path id=\"DejaVuSans-30\" d=\"M 2034 4250 \nQ 1547 4250 1301 3770 \nQ 1056 3291 1056 2328 \nQ 1056 1369 1301 889 \nQ 1547 409 2034 409 \nQ 2525 409 2770 889 \nQ 3016 1369 3016 2328 \nQ 3016 3291 2770 3770 \nQ 2525 4250 2034 4250 \nz\nM 2034 4750 \nQ 2819 4750 3233 4129 \nQ 3647 3509 3647 2328 \nQ 3647 1150 3233 529 \nQ 2819 -91 2034 -91 \nQ 1250 -91 836 529 \nQ 422 1150 422 2328 \nQ 422 3509 836 4129 \nQ 1250 4750 2034 4750 \nz\n\" transform=\"scale(0.015625)\"/>\n       </defs>\n       <use xlink:href=\"#DejaVuSans-30\"/>\n      </g>\n     </g>\n    </g>\n    <g id=\"xtick_6\">\n     <g id=\"line2d_11\">\n      <path d=\"M 224.362485 145.8 \nL 224.362485 7.2 \n\" clip-path=\"url(#pdac9bbfd01)\" style=\"fill: none; stroke: #b0b0b0; stroke-width: 0.8; stroke-linecap: square\"/>\n     </g>\n     <g id=\"line2d_12\">\n      <g>\n       <use xlink:href=\"#m09c52c2878\" x=\"224.362485\" y=\"145.8\" style=\"stroke: #000000; stroke-width: 0.8\"/>\n      </g>\n     </g>\n     <g id=\"text_6\">\n      <!-- 2 -->\n      <g transform=\"translate(221.181235 160.398438) scale(0.1 -0.1)\">\n       <use xlink:href=\"#DejaVuSans-32\"/>\n      </g>\n     </g>\n    </g>\n    <g id=\"xtick_7\">\n     <g id=\"line2d_13\">\n      <path d=\"M 256.266431 145.8 \nL 256.266431 7.2 \n\" clip-path=\"url(#pdac9bbfd01)\" style=\"fill: none; stroke: #b0b0b0; stroke-width: 0.8; stroke-linecap: square\"/>\n     </g>\n     <g id=\"line2d_14\">\n      <g>\n       <use xlink:href=\"#m09c52c2878\" x=\"256.266431\" y=\"145.8\" style=\"stroke: #000000; stroke-width: 0.8\"/>\n      </g>\n     </g>\n     <g id=\"text_7\">\n      <!-- 4 -->\n      <g transform=\"translate(253.085181 160.398438) scale(0.1 -0.1)\">\n       <use xlink:href=\"#DejaVuSans-34\"/>\n      </g>\n     </g>\n    </g>\n    <g id=\"xtick_8\">\n     <g id=\"line2d_15\">\n      <path d=\"M 288.170377 145.8 \nL 288.170377 7.2 \n\" clip-path=\"url(#pdac9bbfd01)\" style=\"fill: none; stroke: #b0b0b0; stroke-width: 0.8; stroke-linecap: square\"/>\n     </g>\n     <g id=\"line2d_16\">\n      <g>\n       <use xlink:href=\"#m09c52c2878\" x=\"288.170377\" y=\"145.8\" style=\"stroke: #000000; stroke-width: 0.8\"/>\n      </g>\n     </g>\n     <g id=\"text_8\">\n      <!-- 6 -->\n      <g transform=\"translate(284.989127 160.398438) scale(0.1 -0.1)\">\n       <use xlink:href=\"#DejaVuSans-36\"/>\n      </g>\n     </g>\n    </g>\n    <g id=\"xtick_9\">\n     <g id=\"line2d_17\">\n      <path d=\"M 320.074323 145.8 \nL 320.074323 7.2 \n\" clip-path=\"url(#pdac9bbfd01)\" style=\"fill: none; stroke: #b0b0b0; stroke-width: 0.8; stroke-linecap: square\"/>\n     </g>\n     <g id=\"line2d_18\">\n      <g>\n       <use xlink:href=\"#m09c52c2878\" x=\"320.074323\" y=\"145.8\" style=\"stroke: #000000; stroke-width: 0.8\"/>\n      </g>\n     </g>\n     <g id=\"text_9\">\n      <!-- 8 -->\n      <g transform=\"translate(316.893073 160.398438) scale(0.1 -0.1)\">\n       <use xlink:href=\"#DejaVuSans-38\"/>\n      </g>\n     </g>\n    </g>\n    <g id=\"text_10\">\n     <!-- x -->\n     <g transform=\"translate(188.701562 174.076563) scale(0.1 -0.1)\">\n      <defs>\n       <path id=\"DejaVuSans-78\" d=\"M 3513 3500 \nL 2247 1797 \nL 3578 0 \nL 2900 0 \nL 1881 1375 \nL 863 0 \nL 184 0 \nL 1544 1831 \nL 300 3500 \nL 978 3500 \nL 1906 2253 \nL 2834 3500 \nL 3513 3500 \nz\n\" transform=\"scale(0.015625)\"/>\n      </defs>\n      <use xlink:href=\"#DejaVuSans-78\"/>\n     </g>\n    </g>\n   </g>\n   <g id=\"matplotlib.axis_2\">\n    <g id=\"ytick_1\">\n     <g id=\"line2d_19\">\n      <path d=\"M 52.160938 139.500015 \nL 331.160937 139.500015 \n\" clip-path=\"url(#pdac9bbfd01)\" style=\"fill: none; stroke: #b0b0b0; stroke-width: 0.8; stroke-linecap: square\"/>\n     </g>\n     <g id=\"line2d_20\">\n      <defs>\n       <path id=\"m39b46888a0\" d=\"M 0 0 \nL -3.5 0 \n\" style=\"stroke: #000000; stroke-width: 0.8\"/>\n      </defs>\n      <g>\n       <use xlink:href=\"#m39b46888a0\" x=\"52.160938\" y=\"139.500015\" style=\"stroke: #000000; stroke-width: 0.8\"/>\n      </g>\n     </g>\n     <g id=\"text_11\">\n      <!-- −1.0 -->\n      <g transform=\"translate(20.878125 143.299234) scale(0.1 -0.1)\">\n       <defs>\n        <path id=\"DejaVuSans-31\" d=\"M 794 531 \nL 1825 531 \nL 1825 4091 \nL 703 3866 \nL 703 4441 \nL 1819 4666 \nL 2450 4666 \nL 2450 531 \nL 3481 531 \nL 3481 0 \nL 794 0 \nL 794 531 \nz\n\" transform=\"scale(0.015625)\"/>\n        <path id=\"DejaVuSans-2e\" d=\"M 684 794 \nL 1344 794 \nL 1344 0 \nL 684 0 \nL 684 794 \nz\n\" transform=\"scale(0.015625)\"/>\n       </defs>\n       <use xlink:href=\"#DejaVuSans-2212\"/>\n       <use xlink:href=\"#DejaVuSans-31\" x=\"83.789062\"/>\n       <use xlink:href=\"#DejaVuSans-2e\" x=\"147.412109\"/>\n       <use xlink:href=\"#DejaVuSans-30\" x=\"179.199219\"/>\n      </g>\n     </g>\n    </g>\n    <g id=\"ytick_2\">\n     <g id=\"line2d_21\">\n      <path d=\"M 52.160938 108.000007 \nL 331.160937 108.000007 \n\" clip-path=\"url(#pdac9bbfd01)\" style=\"fill: none; stroke: #b0b0b0; stroke-width: 0.8; stroke-linecap: square\"/>\n     </g>\n     <g id=\"line2d_22\">\n      <g>\n       <use xlink:href=\"#m39b46888a0\" x=\"52.160938\" y=\"108.000007\" style=\"stroke: #000000; stroke-width: 0.8\"/>\n      </g>\n     </g>\n     <g id=\"text_12\">\n      <!-- −0.5 -->\n      <g transform=\"translate(20.878125 111.799225) scale(0.1 -0.1)\">\n       <defs>\n        <path id=\"DejaVuSans-35\" d=\"M 691 4666 \nL 3169 4666 \nL 3169 4134 \nL 1269 4134 \nL 1269 2991 \nQ 1406 3038 1543 3061 \nQ 1681 3084 1819 3084 \nQ 2600 3084 3056 2656 \nQ 3513 2228 3513 1497 \nQ 3513 744 3044 326 \nQ 2575 -91 1722 -91 \nQ 1428 -91 1123 -41 \nQ 819 9 494 109 \nL 494 744 \nQ 775 591 1075 516 \nQ 1375 441 1709 441 \nQ 2250 441 2565 725 \nQ 2881 1009 2881 1497 \nQ 2881 1984 2565 2268 \nQ 2250 2553 1709 2553 \nQ 1456 2553 1204 2497 \nQ 953 2441 691 2322 \nL 691 4666 \nz\n\" transform=\"scale(0.015625)\"/>\n       </defs>\n       <use xlink:href=\"#DejaVuSans-2212\"/>\n       <use xlink:href=\"#DejaVuSans-30\" x=\"83.789062\"/>\n       <use xlink:href=\"#DejaVuSans-2e\" x=\"147.412109\"/>\n       <use xlink:href=\"#DejaVuSans-35\" x=\"179.199219\"/>\n      </g>\n     </g>\n    </g>\n    <g id=\"ytick_3\">\n     <g id=\"line2d_23\">\n      <path d=\"M 52.160938 76.499998 \nL 331.160937 76.499998 \n\" clip-path=\"url(#pdac9bbfd01)\" style=\"fill: none; stroke: #b0b0b0; stroke-width: 0.8; stroke-linecap: square\"/>\n     </g>\n     <g id=\"line2d_24\">\n      <g>\n       <use xlink:href=\"#m39b46888a0\" x=\"52.160938\" y=\"76.499998\" style=\"stroke: #000000; stroke-width: 0.8\"/>\n      </g>\n     </g>\n     <g id=\"text_13\">\n      <!-- 0.0 -->\n      <g transform=\"translate(29.257812 80.299217) scale(0.1 -0.1)\">\n       <use xlink:href=\"#DejaVuSans-30\"/>\n       <use xlink:href=\"#DejaVuSans-2e\" x=\"63.623047\"/>\n       <use xlink:href=\"#DejaVuSans-30\" x=\"95.410156\"/>\n      </g>\n     </g>\n    </g>\n    <g id=\"ytick_4\">\n     <g id=\"line2d_25\">\n      <path d=\"M 52.160938 44.99999 \nL 331.160937 44.99999 \n\" clip-path=\"url(#pdac9bbfd01)\" style=\"fill: none; stroke: #b0b0b0; stroke-width: 0.8; stroke-linecap: square\"/>\n     </g>\n     <g id=\"line2d_26\">\n      <g>\n       <use xlink:href=\"#m39b46888a0\" x=\"52.160938\" y=\"44.99999\" style=\"stroke: #000000; stroke-width: 0.8\"/>\n      </g>\n     </g>\n     <g id=\"text_14\">\n      <!-- 0.5 -->\n      <g transform=\"translate(29.257812 48.799208) scale(0.1 -0.1)\">\n       <use xlink:href=\"#DejaVuSans-30\"/>\n       <use xlink:href=\"#DejaVuSans-2e\" x=\"63.623047\"/>\n       <use xlink:href=\"#DejaVuSans-35\" x=\"95.410156\"/>\n      </g>\n     </g>\n    </g>\n    <g id=\"ytick_5\">\n     <g id=\"line2d_27\">\n      <path d=\"M 52.160938 13.499981 \nL 331.160937 13.499981 \n\" clip-path=\"url(#pdac9bbfd01)\" style=\"fill: none; stroke: #b0b0b0; stroke-width: 0.8; stroke-linecap: square\"/>\n     </g>\n     <g id=\"line2d_28\">\n      <g>\n       <use xlink:href=\"#m39b46888a0\" x=\"52.160938\" y=\"13.499981\" style=\"stroke: #000000; stroke-width: 0.8\"/>\n      </g>\n     </g>\n     <g id=\"text_15\">\n      <!-- 1.0 -->\n      <g transform=\"translate(29.257812 17.2992) scale(0.1 -0.1)\">\n       <use xlink:href=\"#DejaVuSans-31\"/>\n       <use xlink:href=\"#DejaVuSans-2e\" x=\"63.623047\"/>\n       <use xlink:href=\"#DejaVuSans-30\" x=\"95.410156\"/>\n      </g>\n     </g>\n    </g>\n    <g id=\"text_16\">\n     <!-- tanh(x) -->\n     <g transform=\"translate(14.798437 94.722656) rotate(-90) scale(0.1 -0.1)\">\n      <defs>\n       <path id=\"DejaVuSans-74\" d=\"M 1172 4494 \nL 1172 3500 \nL 2356 3500 \nL 2356 3053 \nL 1172 3053 \nL 1172 1153 \nQ 1172 725 1289 603 \nQ 1406 481 1766 481 \nL 2356 481 \nL 2356 0 \nL 1766 0 \nQ 1100 0 847 248 \nQ 594 497 594 1153 \nL 594 3053 \nL 172 3053 \nL 172 3500 \nL 594 3500 \nL 594 4494 \nL 1172 4494 \nz\n\" transform=\"scale(0.015625)\"/>\n       <path id=\"DejaVuSans-61\" d=\"M 2194 1759 \nQ 1497 1759 1228 1600 \nQ 959 1441 959 1056 \nQ 959 750 1161 570 \nQ 1363 391 1709 391 \nQ 2188 391 2477 730 \nQ 2766 1069 2766 1631 \nL 2766 1759 \nL 2194 1759 \nz\nM 3341 1997 \nL 3341 0 \nL 2766 0 \nL 2766 531 \nQ 2569 213 2275 61 \nQ 1981 -91 1556 -91 \nQ 1019 -91 701 211 \nQ 384 513 384 1019 \nQ 384 1609 779 1909 \nQ 1175 2209 1959 2209 \nL 2766 2209 \nL 2766 2266 \nQ 2766 2663 2505 2880 \nQ 2244 3097 1772 3097 \nQ 1472 3097 1187 3025 \nQ 903 2953 641 2809 \nL 641 3341 \nQ 956 3463 1253 3523 \nQ 1550 3584 1831 3584 \nQ 2591 3584 2966 3190 \nQ 3341 2797 3341 1997 \nz\n\" transform=\"scale(0.015625)\"/>\n       <path id=\"DejaVuSans-6e\" d=\"M 3513 2113 \nL 3513 0 \nL 2938 0 \nL 2938 2094 \nQ 2938 2591 2744 2837 \nQ 2550 3084 2163 3084 \nQ 1697 3084 1428 2787 \nQ 1159 2491 1159 1978 \nL 1159 0 \nL 581 0 \nL 581 3500 \nL 1159 3500 \nL 1159 2956 \nQ 1366 3272 1645 3428 \nQ 1925 3584 2291 3584 \nQ 2894 3584 3203 3211 \nQ 3513 2838 3513 2113 \nz\n\" transform=\"scale(0.015625)\"/>\n       <path id=\"DejaVuSans-68\" d=\"M 3513 2113 \nL 3513 0 \nL 2938 0 \nL 2938 2094 \nQ 2938 2591 2744 2837 \nQ 2550 3084 2163 3084 \nQ 1697 3084 1428 2787 \nQ 1159 2491 1159 1978 \nL 1159 0 \nL 581 0 \nL 581 4863 \nL 1159 4863 \nL 1159 2956 \nQ 1366 3272 1645 3428 \nQ 1925 3584 2291 3584 \nQ 2894 3584 3203 3211 \nQ 3513 2838 3513 2113 \nz\n\" transform=\"scale(0.015625)\"/>\n       <path id=\"DejaVuSans-28\" d=\"M 1984 4856 \nQ 1566 4138 1362 3434 \nQ 1159 2731 1159 2009 \nQ 1159 1288 1364 580 \nQ 1569 -128 1984 -844 \nL 1484 -844 \nQ 1016 -109 783 600 \nQ 550 1309 550 2009 \nQ 550 2706 781 3412 \nQ 1013 4119 1484 4856 \nL 1984 4856 \nz\n\" transform=\"scale(0.015625)\"/>\n       <path id=\"DejaVuSans-29\" d=\"M 513 4856 \nL 1013 4856 \nQ 1481 4119 1714 3412 \nQ 1947 2706 1947 2009 \nQ 1947 1309 1714 600 \nQ 1481 -109 1013 -844 \nL 513 -844 \nQ 928 -128 1133 580 \nQ 1338 1288 1338 2009 \nQ 1338 2731 1133 3434 \nQ 928 4138 513 4856 \nz\n\" transform=\"scale(0.015625)\"/>\n      </defs>\n      <use xlink:href=\"#DejaVuSans-74\"/>\n      <use xlink:href=\"#DejaVuSans-61\" x=\"39.208984\"/>\n      <use xlink:href=\"#DejaVuSans-6e\" x=\"100.488281\"/>\n      <use xlink:href=\"#DejaVuSans-68\" x=\"163.867188\"/>\n      <use xlink:href=\"#DejaVuSans-28\" x=\"227.246094\"/>\n      <use xlink:href=\"#DejaVuSans-78\" x=\"266.259766\"/>\n      <use xlink:href=\"#DejaVuSans-29\" x=\"325.439453\"/>\n     </g>\n    </g>\n   </g>\n   <g id=\"line2d_29\">\n    <path d=\"M 64.842756 139.5 \nL 135.031438 139.406014 \nL 144.60262 139.188466 \nL 150.983407 138.80874 \nL 155.768998 138.246088 \nL 158.959394 137.638487 \nL 162.149789 136.742976 \nL 163.744987 136.148793 \nL 165.340184 135.430785 \nL 166.935382 134.565131 \nL 168.53058 133.524354 \nL 170.125777 132.277168 \nL 171.720973 130.788573 \nL 173.316171 129.020255 \nL 174.911369 126.93145 \nL 176.506566 124.480444 \nL 178.101763 121.626776 \nL 179.696961 118.334325 \nL 181.292158 114.575179 \nL 182.887355 110.334131 \nL 184.482553 105.613387 \nL 186.07775 100.43679 \nL 189.268144 88.934648 \nL 197.244131 58.147297 \nL 198.839328 52.563206 \nL 200.434526 47.386609 \nL 202.029723 42.665865 \nL 203.62492 38.424817 \nL 205.220118 34.665672 \nL 206.815315 31.373221 \nL 208.410512 28.519552 \nL 210.00571 26.068546 \nL 211.600907 23.979742 \nL 213.196103 22.211427 \nL 214.791301 20.722829 \nL 216.386499 19.475642 \nL 217.981696 18.434865 \nL 219.576894 17.569211 \nL 221.172092 16.851203 \nL 224.362485 15.766244 \nL 227.55288 15.028165 \nL 230.743276 14.528464 \nL 235.528867 14.066512 \nL 241.909658 13.75517 \nL 251.48084 13.576953 \nL 272.218404 13.5057 \nL 318.479119 13.5 \nL 318.479119 13.5 \n\" clip-path=\"url(#pdac9bbfd01)\" style=\"fill: none; stroke: #1f77b4; stroke-width: 1.5; stroke-linecap: square\"/>\n   </g>\n   <g id=\"patch_3\">\n    <path d=\"M 52.160938 145.8 \nL 52.160938 7.2 \n\" style=\"fill: none; stroke: #000000; stroke-width: 0.8; stroke-linejoin: miter; stroke-linecap: square\"/>\n   </g>\n   <g id=\"patch_4\">\n    <path d=\"M 331.160937 145.8 \nL 331.160937 7.2 \n\" style=\"fill: none; stroke: #000000; stroke-width: 0.8; stroke-linejoin: miter; stroke-linecap: square\"/>\n   </g>\n   <g id=\"patch_5\">\n    <path d=\"M 52.160938 145.8 \nL 331.160938 145.8 \n\" style=\"fill: none; stroke: #000000; stroke-width: 0.8; stroke-linejoin: miter; stroke-linecap: square\"/>\n   </g>\n   <g id=\"patch_6\">\n    <path d=\"M 52.160938 7.2 \nL 331.160938 7.2 \n\" style=\"fill: none; stroke: #000000; stroke-width: 0.8; stroke-linejoin: miter; stroke-linecap: square\"/>\n   </g>\n  </g>\n </g>\n <defs>\n  <clipPath id=\"pdac9bbfd01\">\n   <rect x=\"52.160938\" y=\"7.2\" width=\"279\" height=\"138.6\"/>\n  </clipPath>\n </defs>\n</svg>\n"
          },
          "metadata": {}
        }
      ]
    },
    {
      "cell_type": "code",
      "source": [
        "x.grad.data.zero_() #이전의 gradient clear\n",
        "y.backward(torch.ones_like(x),retain_graph=True)\n",
        "d2l.plot(x.detach(), x.grad, 'x', 'grad of tanh', figsize=(5, 2.5))"
      ],
      "metadata": {
        "colab": {
          "base_uri": "https://localhost:8080/",
          "height": 265
        },
        "id": "BOPmghy-F1Ns",
        "outputId": "00aa774f-96fe-4039-9256-77fc1973f9c3"
      },
      "id": "BOPmghy-F1Ns",
      "execution_count": 61,
      "outputs": [
        {
          "output_type": "display_data",
          "data": {
            "text/plain": [
              "<Figure size 500x250 with 1 Axes>"
            ],
            "image/svg+xml": "<?xml version=\"1.0\" encoding=\"utf-8\" standalone=\"no\"?>\n<!DOCTYPE svg PUBLIC \"-//W3C//DTD SVG 1.1//EN\"\n  \"http://www.w3.org/Graphics/SVG/1.1/DTD/svg11.dtd\">\n<svg xmlns:xlink=\"http://www.w3.org/1999/xlink\" width=\"329.98125pt\" height=\"183.35625pt\" viewBox=\"0 0 329.98125 183.35625\" xmlns=\"http://www.w3.org/2000/svg\" version=\"1.1\">\n <metadata>\n  <rdf:RDF xmlns:dc=\"http://purl.org/dc/elements/1.1/\" xmlns:cc=\"http://creativecommons.org/ns#\" xmlns:rdf=\"http://www.w3.org/1999/02/22-rdf-syntax-ns#\">\n   <cc:Work>\n    <dc:type rdf:resource=\"http://purl.org/dc/dcmitype/StillImage\"/>\n    <dc:date>2024-09-24T03:34:03.329967</dc:date>\n    <dc:format>image/svg+xml</dc:format>\n    <dc:creator>\n     <cc:Agent>\n      <dc:title>Matplotlib v3.7.2, https://matplotlib.org/</dc:title>\n     </cc:Agent>\n    </dc:creator>\n   </cc:Work>\n  </rdf:RDF>\n </metadata>\n <defs>\n  <style type=\"text/css\">*{stroke-linejoin: round; stroke-linecap: butt}</style>\n </defs>\n <g id=\"figure_1\">\n  <g id=\"patch_1\">\n   <path d=\"M 0 183.35625 \nL 329.98125 183.35625 \nL 329.98125 0 \nL 0 0 \nz\n\" style=\"fill: #ffffff\"/>\n  </g>\n  <g id=\"axes_1\">\n   <g id=\"patch_2\">\n    <path d=\"M 43.78125 145.8 \nL 322.78125 145.8 \nL 322.78125 7.2 \nL 43.78125 7.2 \nz\n\" style=\"fill: #ffffff\"/>\n   </g>\n   <g id=\"matplotlib.axis_1\">\n    <g id=\"xtick_1\">\n     <g id=\"line2d_1\">\n      <path d=\"M 56.463068 145.8 \nL 56.463068 7.2 \n\" clip-path=\"url(#pc64d944245)\" style=\"fill: none; stroke: #b0b0b0; stroke-width: 0.8; stroke-linecap: square\"/>\n     </g>\n     <g id=\"line2d_2\">\n      <defs>\n       <path id=\"m1772834c0b\" d=\"M 0 0 \nL 0 3.5 \n\" style=\"stroke: #000000; stroke-width: 0.8\"/>\n      </defs>\n      <g>\n       <use xlink:href=\"#m1772834c0b\" x=\"56.463068\" y=\"145.8\" style=\"stroke: #000000; stroke-width: 0.8\"/>\n      </g>\n     </g>\n     <g id=\"text_1\">\n      <!-- −8 -->\n      <g transform=\"translate(49.091974 160.398438) scale(0.1 -0.1)\">\n       <defs>\n        <path id=\"DejaVuSans-2212\" d=\"M 678 2272 \nL 4684 2272 \nL 4684 1741 \nL 678 1741 \nL 678 2272 \nz\n\" transform=\"scale(0.015625)\"/>\n        <path id=\"DejaVuSans-38\" d=\"M 2034 2216 \nQ 1584 2216 1326 1975 \nQ 1069 1734 1069 1313 \nQ 1069 891 1326 650 \nQ 1584 409 2034 409 \nQ 2484 409 2743 651 \nQ 3003 894 3003 1313 \nQ 3003 1734 2745 1975 \nQ 2488 2216 2034 2216 \nz\nM 1403 2484 \nQ 997 2584 770 2862 \nQ 544 3141 544 3541 \nQ 544 4100 942 4425 \nQ 1341 4750 2034 4750 \nQ 2731 4750 3128 4425 \nQ 3525 4100 3525 3541 \nQ 3525 3141 3298 2862 \nQ 3072 2584 2669 2484 \nQ 3125 2378 3379 2068 \nQ 3634 1759 3634 1313 \nQ 3634 634 3220 271 \nQ 2806 -91 2034 -91 \nQ 1263 -91 848 271 \nQ 434 634 434 1313 \nQ 434 1759 690 2068 \nQ 947 2378 1403 2484 \nz\nM 1172 3481 \nQ 1172 3119 1398 2916 \nQ 1625 2713 2034 2713 \nQ 2441 2713 2670 2916 \nQ 2900 3119 2900 3481 \nQ 2900 3844 2670 4047 \nQ 2441 4250 2034 4250 \nQ 1625 4250 1398 4047 \nQ 1172 3844 1172 3481 \nz\n\" transform=\"scale(0.015625)\"/>\n       </defs>\n       <use xlink:href=\"#DejaVuSans-2212\"/>\n       <use xlink:href=\"#DejaVuSans-38\" x=\"83.789062\"/>\n      </g>\n     </g>\n    </g>\n    <g id=\"xtick_2\">\n     <g id=\"line2d_3\">\n      <path d=\"M 88.367014 145.8 \nL 88.367014 7.2 \n\" clip-path=\"url(#pc64d944245)\" style=\"fill: none; stroke: #b0b0b0; stroke-width: 0.8; stroke-linecap: square\"/>\n     </g>\n     <g id=\"line2d_4\">\n      <g>\n       <use xlink:href=\"#m1772834c0b\" x=\"88.367014\" y=\"145.8\" style=\"stroke: #000000; stroke-width: 0.8\"/>\n      </g>\n     </g>\n     <g id=\"text_2\">\n      <!-- −6 -->\n      <g transform=\"translate(80.99592 160.398438) scale(0.1 -0.1)\">\n       <defs>\n        <path id=\"DejaVuSans-36\" d=\"M 2113 2584 \nQ 1688 2584 1439 2293 \nQ 1191 2003 1191 1497 \nQ 1191 994 1439 701 \nQ 1688 409 2113 409 \nQ 2538 409 2786 701 \nQ 3034 994 3034 1497 \nQ 3034 2003 2786 2293 \nQ 2538 2584 2113 2584 \nz\nM 3366 4563 \nL 3366 3988 \nQ 3128 4100 2886 4159 \nQ 2644 4219 2406 4219 \nQ 1781 4219 1451 3797 \nQ 1122 3375 1075 2522 \nQ 1259 2794 1537 2939 \nQ 1816 3084 2150 3084 \nQ 2853 3084 3261 2657 \nQ 3669 2231 3669 1497 \nQ 3669 778 3244 343 \nQ 2819 -91 2113 -91 \nQ 1303 -91 875 529 \nQ 447 1150 447 2328 \nQ 447 3434 972 4092 \nQ 1497 4750 2381 4750 \nQ 2619 4750 2861 4703 \nQ 3103 4656 3366 4563 \nz\n\" transform=\"scale(0.015625)\"/>\n       </defs>\n       <use xlink:href=\"#DejaVuSans-2212\"/>\n       <use xlink:href=\"#DejaVuSans-36\" x=\"83.789062\"/>\n      </g>\n     </g>\n    </g>\n    <g id=\"xtick_3\">\n     <g id=\"line2d_5\">\n      <path d=\"M 120.27096 145.8 \nL 120.27096 7.2 \n\" clip-path=\"url(#pc64d944245)\" style=\"fill: none; stroke: #b0b0b0; stroke-width: 0.8; stroke-linecap: square\"/>\n     </g>\n     <g id=\"line2d_6\">\n      <g>\n       <use xlink:href=\"#m1772834c0b\" x=\"120.27096\" y=\"145.8\" style=\"stroke: #000000; stroke-width: 0.8\"/>\n      </g>\n     </g>\n     <g id=\"text_3\">\n      <!-- −4 -->\n      <g transform=\"translate(112.899866 160.398438) scale(0.1 -0.1)\">\n       <defs>\n        <path id=\"DejaVuSans-34\" d=\"M 2419 4116 \nL 825 1625 \nL 2419 1625 \nL 2419 4116 \nz\nM 2253 4666 \nL 3047 4666 \nL 3047 1625 \nL 3713 1625 \nL 3713 1100 \nL 3047 1100 \nL 3047 0 \nL 2419 0 \nL 2419 1100 \nL 313 1100 \nL 313 1709 \nL 2253 4666 \nz\n\" transform=\"scale(0.015625)\"/>\n       </defs>\n       <use xlink:href=\"#DejaVuSans-2212\"/>\n       <use xlink:href=\"#DejaVuSans-34\" x=\"83.789062\"/>\n      </g>\n     </g>\n    </g>\n    <g id=\"xtick_4\">\n     <g id=\"line2d_7\">\n      <path d=\"M 152.174906 145.8 \nL 152.174906 7.2 \n\" clip-path=\"url(#pc64d944245)\" style=\"fill: none; stroke: #b0b0b0; stroke-width: 0.8; stroke-linecap: square\"/>\n     </g>\n     <g id=\"line2d_8\">\n      <g>\n       <use xlink:href=\"#m1772834c0b\" x=\"152.174906\" y=\"145.8\" style=\"stroke: #000000; stroke-width: 0.8\"/>\n      </g>\n     </g>\n     <g id=\"text_4\">\n      <!-- −2 -->\n      <g transform=\"translate(144.803812 160.398438) scale(0.1 -0.1)\">\n       <defs>\n        <path id=\"DejaVuSans-32\" d=\"M 1228 531 \nL 3431 531 \nL 3431 0 \nL 469 0 \nL 469 531 \nQ 828 903 1448 1529 \nQ 2069 2156 2228 2338 \nQ 2531 2678 2651 2914 \nQ 2772 3150 2772 3378 \nQ 2772 3750 2511 3984 \nQ 2250 4219 1831 4219 \nQ 1534 4219 1204 4116 \nQ 875 4013 500 3803 \nL 500 4441 \nQ 881 4594 1212 4672 \nQ 1544 4750 1819 4750 \nQ 2544 4750 2975 4387 \nQ 3406 4025 3406 3419 \nQ 3406 3131 3298 2873 \nQ 3191 2616 2906 2266 \nQ 2828 2175 2409 1742 \nQ 1991 1309 1228 531 \nz\n\" transform=\"scale(0.015625)\"/>\n       </defs>\n       <use xlink:href=\"#DejaVuSans-2212\"/>\n       <use xlink:href=\"#DejaVuSans-32\" x=\"83.789062\"/>\n      </g>\n     </g>\n    </g>\n    <g id=\"xtick_5\">\n     <g id=\"line2d_9\">\n      <path d=\"M 184.078852 145.8 \nL 184.078852 7.2 \n\" clip-path=\"url(#pc64d944245)\" style=\"fill: none; stroke: #b0b0b0; stroke-width: 0.8; stroke-linecap: square\"/>\n     </g>\n     <g id=\"line2d_10\">\n      <g>\n       <use xlink:href=\"#m1772834c0b\" x=\"184.078852\" y=\"145.8\" style=\"stroke: #000000; stroke-width: 0.8\"/>\n      </g>\n     </g>\n     <g id=\"text_5\">\n      <!-- 0 -->\n      <g transform=\"translate(180.897602 160.398438) scale(0.1 -0.1)\">\n       <defs>\n        <path id=\"DejaVuSans-30\" d=\"M 2034 4250 \nQ 1547 4250 1301 3770 \nQ 1056 3291 1056 2328 \nQ 1056 1369 1301 889 \nQ 1547 409 2034 409 \nQ 2525 409 2770 889 \nQ 3016 1369 3016 2328 \nQ 3016 3291 2770 3770 \nQ 2525 4250 2034 4250 \nz\nM 2034 4750 \nQ 2819 4750 3233 4129 \nQ 3647 3509 3647 2328 \nQ 3647 1150 3233 529 \nQ 2819 -91 2034 -91 \nQ 1250 -91 836 529 \nQ 422 1150 422 2328 \nQ 422 3509 836 4129 \nQ 1250 4750 2034 4750 \nz\n\" transform=\"scale(0.015625)\"/>\n       </defs>\n       <use xlink:href=\"#DejaVuSans-30\"/>\n      </g>\n     </g>\n    </g>\n    <g id=\"xtick_6\">\n     <g id=\"line2d_11\">\n      <path d=\"M 215.982798 145.8 \nL 215.982798 7.2 \n\" clip-path=\"url(#pc64d944245)\" style=\"fill: none; stroke: #b0b0b0; stroke-width: 0.8; stroke-linecap: square\"/>\n     </g>\n     <g id=\"line2d_12\">\n      <g>\n       <use xlink:href=\"#m1772834c0b\" x=\"215.982798\" y=\"145.8\" style=\"stroke: #000000; stroke-width: 0.8\"/>\n      </g>\n     </g>\n     <g id=\"text_6\">\n      <!-- 2 -->\n      <g transform=\"translate(212.801548 160.398438) scale(0.1 -0.1)\">\n       <use xlink:href=\"#DejaVuSans-32\"/>\n      </g>\n     </g>\n    </g>\n    <g id=\"xtick_7\">\n     <g id=\"line2d_13\">\n      <path d=\"M 247.886743 145.8 \nL 247.886743 7.2 \n\" clip-path=\"url(#pc64d944245)\" style=\"fill: none; stroke: #b0b0b0; stroke-width: 0.8; stroke-linecap: square\"/>\n     </g>\n     <g id=\"line2d_14\">\n      <g>\n       <use xlink:href=\"#m1772834c0b\" x=\"247.886743\" y=\"145.8\" style=\"stroke: #000000; stroke-width: 0.8\"/>\n      </g>\n     </g>\n     <g id=\"text_7\">\n      <!-- 4 -->\n      <g transform=\"translate(244.705493 160.398438) scale(0.1 -0.1)\">\n       <use xlink:href=\"#DejaVuSans-34\"/>\n      </g>\n     </g>\n    </g>\n    <g id=\"xtick_8\">\n     <g id=\"line2d_15\">\n      <path d=\"M 279.790689 145.8 \nL 279.790689 7.2 \n\" clip-path=\"url(#pc64d944245)\" style=\"fill: none; stroke: #b0b0b0; stroke-width: 0.8; stroke-linecap: square\"/>\n     </g>\n     <g id=\"line2d_16\">\n      <g>\n       <use xlink:href=\"#m1772834c0b\" x=\"279.790689\" y=\"145.8\" style=\"stroke: #000000; stroke-width: 0.8\"/>\n      </g>\n     </g>\n     <g id=\"text_8\">\n      <!-- 6 -->\n      <g transform=\"translate(276.609439 160.398438) scale(0.1 -0.1)\">\n       <use xlink:href=\"#DejaVuSans-36\"/>\n      </g>\n     </g>\n    </g>\n    <g id=\"xtick_9\">\n     <g id=\"line2d_17\">\n      <path d=\"M 311.694635 145.8 \nL 311.694635 7.2 \n\" clip-path=\"url(#pc64d944245)\" style=\"fill: none; stroke: #b0b0b0; stroke-width: 0.8; stroke-linecap: square\"/>\n     </g>\n     <g id=\"line2d_18\">\n      <g>\n       <use xlink:href=\"#m1772834c0b\" x=\"311.694635\" y=\"145.8\" style=\"stroke: #000000; stroke-width: 0.8\"/>\n      </g>\n     </g>\n     <g id=\"text_9\">\n      <!-- 8 -->\n      <g transform=\"translate(308.513385 160.398438) scale(0.1 -0.1)\">\n       <use xlink:href=\"#DejaVuSans-38\"/>\n      </g>\n     </g>\n    </g>\n    <g id=\"text_10\">\n     <!-- x -->\n     <g transform=\"translate(180.321875 174.076563) scale(0.1 -0.1)\">\n      <defs>\n       <path id=\"DejaVuSans-78\" d=\"M 3513 3500 \nL 2247 1797 \nL 3578 0 \nL 2900 0 \nL 1881 1375 \nL 863 0 \nL 184 0 \nL 1544 1831 \nL 300 3500 \nL 978 3500 \nL 1906 2253 \nL 2834 3500 \nL 3513 3500 \nz\n\" transform=\"scale(0.015625)\"/>\n      </defs>\n      <use xlink:href=\"#DejaVuSans-78\"/>\n     </g>\n    </g>\n   </g>\n   <g id=\"matplotlib.axis_2\">\n    <g id=\"ytick_1\">\n     <g id=\"line2d_19\">\n      <path d=\"M 43.78125 139.50006 \nL 322.78125 139.50006 \n\" clip-path=\"url(#pc64d944245)\" style=\"fill: none; stroke: #b0b0b0; stroke-width: 0.8; stroke-linecap: square\"/>\n     </g>\n     <g id=\"line2d_20\">\n      <defs>\n       <path id=\"m57d0bffcc2\" d=\"M 0 0 \nL -3.5 0 \n\" style=\"stroke: #000000; stroke-width: 0.8\"/>\n      </defs>\n      <g>\n       <use xlink:href=\"#m57d0bffcc2\" x=\"43.78125\" y=\"139.50006\" style=\"stroke: #000000; stroke-width: 0.8\"/>\n      </g>\n     </g>\n     <g id=\"text_11\">\n      <!-- 0.0 -->\n      <g transform=\"translate(20.878125 143.299279) scale(0.1 -0.1)\">\n       <defs>\n        <path id=\"DejaVuSans-2e\" d=\"M 684 794 \nL 1344 794 \nL 1344 0 \nL 684 0 \nL 684 794 \nz\n\" transform=\"scale(0.015625)\"/>\n       </defs>\n       <use xlink:href=\"#DejaVuSans-30\"/>\n       <use xlink:href=\"#DejaVuSans-2e\" x=\"63.623047\"/>\n       <use xlink:href=\"#DejaVuSans-30\" x=\"95.410156\"/>\n      </g>\n     </g>\n    </g>\n    <g id=\"ytick_2\">\n     <g id=\"line2d_21\">\n      <path d=\"M 43.78125 114.300048 \nL 322.78125 114.300048 \n\" clip-path=\"url(#pc64d944245)\" style=\"fill: none; stroke: #b0b0b0; stroke-width: 0.8; stroke-linecap: square\"/>\n     </g>\n     <g id=\"line2d_22\">\n      <g>\n       <use xlink:href=\"#m57d0bffcc2\" x=\"43.78125\" y=\"114.300048\" style=\"stroke: #000000; stroke-width: 0.8\"/>\n      </g>\n     </g>\n     <g id=\"text_12\">\n      <!-- 0.2 -->\n      <g transform=\"translate(20.878125 118.099267) scale(0.1 -0.1)\">\n       <use xlink:href=\"#DejaVuSans-30\"/>\n       <use xlink:href=\"#DejaVuSans-2e\" x=\"63.623047\"/>\n       <use xlink:href=\"#DejaVuSans-32\" x=\"95.410156\"/>\n      </g>\n     </g>\n    </g>\n    <g id=\"ytick_3\">\n     <g id=\"line2d_23\">\n      <path d=\"M 43.78125 89.100036 \nL 322.78125 89.100036 \n\" clip-path=\"url(#pc64d944245)\" style=\"fill: none; stroke: #b0b0b0; stroke-width: 0.8; stroke-linecap: square\"/>\n     </g>\n     <g id=\"line2d_24\">\n      <g>\n       <use xlink:href=\"#m57d0bffcc2\" x=\"43.78125\" y=\"89.100036\" style=\"stroke: #000000; stroke-width: 0.8\"/>\n      </g>\n     </g>\n     <g id=\"text_13\">\n      <!-- 0.4 -->\n      <g transform=\"translate(20.878125 92.899255) scale(0.1 -0.1)\">\n       <use xlink:href=\"#DejaVuSans-30\"/>\n       <use xlink:href=\"#DejaVuSans-2e\" x=\"63.623047\"/>\n       <use xlink:href=\"#DejaVuSans-34\" x=\"95.410156\"/>\n      </g>\n     </g>\n    </g>\n    <g id=\"ytick_4\">\n     <g id=\"line2d_25\">\n      <path d=\"M 43.78125 63.900024 \nL 322.78125 63.900024 \n\" clip-path=\"url(#pc64d944245)\" style=\"fill: none; stroke: #b0b0b0; stroke-width: 0.8; stroke-linecap: square\"/>\n     </g>\n     <g id=\"line2d_26\">\n      <g>\n       <use xlink:href=\"#m57d0bffcc2\" x=\"43.78125\" y=\"63.900024\" style=\"stroke: #000000; stroke-width: 0.8\"/>\n      </g>\n     </g>\n     <g id=\"text_14\">\n      <!-- 0.6 -->\n      <g transform=\"translate(20.878125 67.699243) scale(0.1 -0.1)\">\n       <use xlink:href=\"#DejaVuSans-30\"/>\n       <use xlink:href=\"#DejaVuSans-2e\" x=\"63.623047\"/>\n       <use xlink:href=\"#DejaVuSans-36\" x=\"95.410156\"/>\n      </g>\n     </g>\n    </g>\n    <g id=\"ytick_5\">\n     <g id=\"line2d_27\">\n      <path d=\"M 43.78125 38.700012 \nL 322.78125 38.700012 \n\" clip-path=\"url(#pc64d944245)\" style=\"fill: none; stroke: #b0b0b0; stroke-width: 0.8; stroke-linecap: square\"/>\n     </g>\n     <g id=\"line2d_28\">\n      <g>\n       <use xlink:href=\"#m57d0bffcc2\" x=\"43.78125\" y=\"38.700012\" style=\"stroke: #000000; stroke-width: 0.8\"/>\n      </g>\n     </g>\n     <g id=\"text_15\">\n      <!-- 0.8 -->\n      <g transform=\"translate(20.878125 42.499231) scale(0.1 -0.1)\">\n       <use xlink:href=\"#DejaVuSans-30\"/>\n       <use xlink:href=\"#DejaVuSans-2e\" x=\"63.623047\"/>\n       <use xlink:href=\"#DejaVuSans-38\" x=\"95.410156\"/>\n      </g>\n     </g>\n    </g>\n    <g id=\"ytick_6\">\n     <g id=\"line2d_29\">\n      <path d=\"M 43.78125 13.5 \nL 322.78125 13.5 \n\" clip-path=\"url(#pc64d944245)\" style=\"fill: none; stroke: #b0b0b0; stroke-width: 0.8; stroke-linecap: square\"/>\n     </g>\n     <g id=\"line2d_30\">\n      <g>\n       <use xlink:href=\"#m57d0bffcc2\" x=\"43.78125\" y=\"13.5\" style=\"stroke: #000000; stroke-width: 0.8\"/>\n      </g>\n     </g>\n     <g id=\"text_16\">\n      <!-- 1.0 -->\n      <g transform=\"translate(20.878125 17.299219) scale(0.1 -0.1)\">\n       <defs>\n        <path id=\"DejaVuSans-31\" d=\"M 794 531 \nL 1825 531 \nL 1825 4091 \nL 703 3866 \nL 703 4441 \nL 1819 4666 \nL 2450 4666 \nL 2450 531 \nL 3481 531 \nL 3481 0 \nL 794 0 \nL 794 531 \nz\n\" transform=\"scale(0.015625)\"/>\n       </defs>\n       <use xlink:href=\"#DejaVuSans-31\"/>\n       <use xlink:href=\"#DejaVuSans-2e\" x=\"63.623047\"/>\n       <use xlink:href=\"#DejaVuSans-30\" x=\"95.410156\"/>\n      </g>\n     </g>\n    </g>\n    <g id=\"text_17\">\n     <!-- grad of tanh -->\n     <g transform=\"translate(14.798438 107.327344) rotate(-90) scale(0.1 -0.1)\">\n      <defs>\n       <path id=\"DejaVuSans-67\" d=\"M 2906 1791 \nQ 2906 2416 2648 2759 \nQ 2391 3103 1925 3103 \nQ 1463 3103 1205 2759 \nQ 947 2416 947 1791 \nQ 947 1169 1205 825 \nQ 1463 481 1925 481 \nQ 2391 481 2648 825 \nQ 2906 1169 2906 1791 \nz\nM 3481 434 \nQ 3481 -459 3084 -895 \nQ 2688 -1331 1869 -1331 \nQ 1566 -1331 1297 -1286 \nQ 1028 -1241 775 -1147 \nL 775 -588 \nQ 1028 -725 1275 -790 \nQ 1522 -856 1778 -856 \nQ 2344 -856 2625 -561 \nQ 2906 -266 2906 331 \nL 2906 616 \nQ 2728 306 2450 153 \nQ 2172 0 1784 0 \nQ 1141 0 747 490 \nQ 353 981 353 1791 \nQ 353 2603 747 3093 \nQ 1141 3584 1784 3584 \nQ 2172 3584 2450 3431 \nQ 2728 3278 2906 2969 \nL 2906 3500 \nL 3481 3500 \nL 3481 434 \nz\n\" transform=\"scale(0.015625)\"/>\n       <path id=\"DejaVuSans-72\" d=\"M 2631 2963 \nQ 2534 3019 2420 3045 \nQ 2306 3072 2169 3072 \nQ 1681 3072 1420 2755 \nQ 1159 2438 1159 1844 \nL 1159 0 \nL 581 0 \nL 581 3500 \nL 1159 3500 \nL 1159 2956 \nQ 1341 3275 1631 3429 \nQ 1922 3584 2338 3584 \nQ 2397 3584 2469 3576 \nQ 2541 3569 2628 3553 \nL 2631 2963 \nz\n\" transform=\"scale(0.015625)\"/>\n       <path id=\"DejaVuSans-61\" d=\"M 2194 1759 \nQ 1497 1759 1228 1600 \nQ 959 1441 959 1056 \nQ 959 750 1161 570 \nQ 1363 391 1709 391 \nQ 2188 391 2477 730 \nQ 2766 1069 2766 1631 \nL 2766 1759 \nL 2194 1759 \nz\nM 3341 1997 \nL 3341 0 \nL 2766 0 \nL 2766 531 \nQ 2569 213 2275 61 \nQ 1981 -91 1556 -91 \nQ 1019 -91 701 211 \nQ 384 513 384 1019 \nQ 384 1609 779 1909 \nQ 1175 2209 1959 2209 \nL 2766 2209 \nL 2766 2266 \nQ 2766 2663 2505 2880 \nQ 2244 3097 1772 3097 \nQ 1472 3097 1187 3025 \nQ 903 2953 641 2809 \nL 641 3341 \nQ 956 3463 1253 3523 \nQ 1550 3584 1831 3584 \nQ 2591 3584 2966 3190 \nQ 3341 2797 3341 1997 \nz\n\" transform=\"scale(0.015625)\"/>\n       <path id=\"DejaVuSans-64\" d=\"M 2906 2969 \nL 2906 4863 \nL 3481 4863 \nL 3481 0 \nL 2906 0 \nL 2906 525 \nQ 2725 213 2448 61 \nQ 2172 -91 1784 -91 \nQ 1150 -91 751 415 \nQ 353 922 353 1747 \nQ 353 2572 751 3078 \nQ 1150 3584 1784 3584 \nQ 2172 3584 2448 3432 \nQ 2725 3281 2906 2969 \nz\nM 947 1747 \nQ 947 1113 1208 752 \nQ 1469 391 1925 391 \nQ 2381 391 2643 752 \nQ 2906 1113 2906 1747 \nQ 2906 2381 2643 2742 \nQ 2381 3103 1925 3103 \nQ 1469 3103 1208 2742 \nQ 947 2381 947 1747 \nz\n\" transform=\"scale(0.015625)\"/>\n       <path id=\"DejaVuSans-20\" transform=\"scale(0.015625)\"/>\n       <path id=\"DejaVuSans-6f\" d=\"M 1959 3097 \nQ 1497 3097 1228 2736 \nQ 959 2375 959 1747 \nQ 959 1119 1226 758 \nQ 1494 397 1959 397 \nQ 2419 397 2687 759 \nQ 2956 1122 2956 1747 \nQ 2956 2369 2687 2733 \nQ 2419 3097 1959 3097 \nz\nM 1959 3584 \nQ 2709 3584 3137 3096 \nQ 3566 2609 3566 1747 \nQ 3566 888 3137 398 \nQ 2709 -91 1959 -91 \nQ 1206 -91 779 398 \nQ 353 888 353 1747 \nQ 353 2609 779 3096 \nQ 1206 3584 1959 3584 \nz\n\" transform=\"scale(0.015625)\"/>\n       <path id=\"DejaVuSans-66\" d=\"M 2375 4863 \nL 2375 4384 \nL 1825 4384 \nQ 1516 4384 1395 4259 \nQ 1275 4134 1275 3809 \nL 1275 3500 \nL 2222 3500 \nL 2222 3053 \nL 1275 3053 \nL 1275 0 \nL 697 0 \nL 697 3053 \nL 147 3053 \nL 147 3500 \nL 697 3500 \nL 697 3744 \nQ 697 4328 969 4595 \nQ 1241 4863 1831 4863 \nL 2375 4863 \nz\n\" transform=\"scale(0.015625)\"/>\n       <path id=\"DejaVuSans-74\" d=\"M 1172 4494 \nL 1172 3500 \nL 2356 3500 \nL 2356 3053 \nL 1172 3053 \nL 1172 1153 \nQ 1172 725 1289 603 \nQ 1406 481 1766 481 \nL 2356 481 \nL 2356 0 \nL 1766 0 \nQ 1100 0 847 248 \nQ 594 497 594 1153 \nL 594 3053 \nL 172 3053 \nL 172 3500 \nL 594 3500 \nL 594 4494 \nL 1172 4494 \nz\n\" transform=\"scale(0.015625)\"/>\n       <path id=\"DejaVuSans-6e\" d=\"M 3513 2113 \nL 3513 0 \nL 2938 0 \nL 2938 2094 \nQ 2938 2591 2744 2837 \nQ 2550 3084 2163 3084 \nQ 1697 3084 1428 2787 \nQ 1159 2491 1159 1978 \nL 1159 0 \nL 581 0 \nL 581 3500 \nL 1159 3500 \nL 1159 2956 \nQ 1366 3272 1645 3428 \nQ 1925 3584 2291 3584 \nQ 2894 3584 3203 3211 \nQ 3513 2838 3513 2113 \nz\n\" transform=\"scale(0.015625)\"/>\n       <path id=\"DejaVuSans-68\" d=\"M 3513 2113 \nL 3513 0 \nL 2938 0 \nL 2938 2094 \nQ 2938 2591 2744 2837 \nQ 2550 3084 2163 3084 \nQ 1697 3084 1428 2787 \nQ 1159 2491 1159 1978 \nL 1159 0 \nL 581 0 \nL 581 4863 \nL 1159 4863 \nL 1159 2956 \nQ 1366 3272 1645 3428 \nQ 1925 3584 2291 3584 \nQ 2894 3584 3203 3211 \nQ 3513 2838 3513 2113 \nz\n\" transform=\"scale(0.015625)\"/>\n      </defs>\n      <use xlink:href=\"#DejaVuSans-67\"/>\n      <use xlink:href=\"#DejaVuSans-72\" x=\"63.476562\"/>\n      <use xlink:href=\"#DejaVuSans-61\" x=\"104.589844\"/>\n      <use xlink:href=\"#DejaVuSans-64\" x=\"165.869141\"/>\n      <use xlink:href=\"#DejaVuSans-20\" x=\"229.345703\"/>\n      <use xlink:href=\"#DejaVuSans-6f\" x=\"261.132812\"/>\n      <use xlink:href=\"#DejaVuSans-66\" x=\"322.314453\"/>\n      <use xlink:href=\"#DejaVuSans-20\" x=\"357.519531\"/>\n      <use xlink:href=\"#DejaVuSans-74\" x=\"389.306641\"/>\n      <use xlink:href=\"#DejaVuSans-61\" x=\"428.515625\"/>\n      <use xlink:href=\"#DejaVuSans-6e\" x=\"489.794922\"/>\n      <use xlink:href=\"#DejaVuSans-68\" x=\"553.173828\"/>\n     </g>\n    </g>\n   </g>\n   <g id=\"line2d_31\">\n    <path d=\"M 56.463068 139.5 \nL 115.485365 139.407311 \nL 125.056551 139.19236 \nL 131.437342 138.816301 \nL 136.222933 138.256946 \nL 139.413328 137.650037 \nL 142.60372 136.750129 \nL 144.198919 136.149435 \nL 145.794115 135.419709 \nL 147.389311 134.534266 \nL 148.98451 133.46146 \nL 150.579706 132.163957 \nL 152.174906 130.598053 \nL 153.770102 128.713213 \nL 155.365299 126.451699 \nL 156.960497 123.748808 \nL 158.555695 120.533634 \nL 160.150892 116.731015 \nL 161.74609 112.264839 \nL 163.341286 107.063468 \nL 164.936483 101.067529 \nL 166.531681 94.240673 \nL 168.126879 86.583273 \nL 169.722075 78.148441 \nL 172.912471 59.522835 \nL 176.102865 40.407602 \nL 177.698062 31.68952 \nL 179.29326 24.192751 \nL 180.888457 18.408584 \nL 182.483654 14.751648 \nL 184.078852 13.5 \nL 185.674049 14.751648 \nL 187.269246 18.408584 \nL 188.864444 24.192751 \nL 190.459641 31.68952 \nL 192.054838 40.407602 \nL 198.435628 78.148441 \nL 200.030825 86.583273 \nL 201.626022 94.240673 \nL 203.22122 101.067529 \nL 204.816416 107.063453 \nL 206.411613 112.264839 \nL 208.006811 116.731015 \nL 209.602009 120.533634 \nL 211.197206 123.748808 \nL 212.792404 126.451699 \nL 214.3876 128.713199 \nL 215.982798 130.598053 \nL 217.577993 132.163957 \nL 219.173193 133.46146 \nL 220.768389 134.534266 \nL 222.363588 135.419709 \nL 223.958784 136.149435 \nL 227.149179 137.244125 \nL 230.339575 137.983373 \nL 233.52997 138.481373 \nL 238.315561 138.939958 \nL 244.696348 139.248084 \nL 254.267534 139.424113 \nL 275.005094 139.494412 \nL 310.099432 139.499985 \nL 310.099432 139.499985 \n\" clip-path=\"url(#pc64d944245)\" style=\"fill: none; stroke: #1f77b4; stroke-width: 1.5; stroke-linecap: square\"/>\n   </g>\n   <g id=\"patch_3\">\n    <path d=\"M 43.78125 145.8 \nL 43.78125 7.2 \n\" style=\"fill: none; stroke: #000000; stroke-width: 0.8; stroke-linejoin: miter; stroke-linecap: square\"/>\n   </g>\n   <g id=\"patch_4\">\n    <path d=\"M 322.78125 145.8 \nL 322.78125 7.2 \n\" style=\"fill: none; stroke: #000000; stroke-width: 0.8; stroke-linejoin: miter; stroke-linecap: square\"/>\n   </g>\n   <g id=\"patch_5\">\n    <path d=\"M 43.78125 145.8 \nL 322.78125 145.8 \n\" style=\"fill: none; stroke: #000000; stroke-width: 0.8; stroke-linejoin: miter; stroke-linecap: square\"/>\n   </g>\n   <g id=\"patch_6\">\n    <path d=\"M 43.78125 7.2 \nL 322.78125 7.2 \n\" style=\"fill: none; stroke: #000000; stroke-width: 0.8; stroke-linejoin: miter; stroke-linecap: square\"/>\n   </g>\n  </g>\n </g>\n <defs>\n  <clipPath id=\"pc64d944245\">\n   <rect x=\"43.78125\" y=\"7.2\" width=\"279\" height=\"138.6\"/>\n  </clipPath>\n </defs>\n</svg>\n"
          },
          "metadata": {}
        }
      ]
    },
    {
      "cell_type": "markdown",
      "source": [
        "### 5.1.3.summary and discussion\n",
        "\n",
        "* ReLU 함수가 sigmoid, tahn보다 최적화에 적합하다\n",
        "\n",
        "* ReLU 함수의 장점?\n",
        "\n",
        "    1) 계산 효율성\n",
        "\n",
        "    2) gradient vanishing problem 방지\n",
        "\n",
        "    3) Saturation problem 방지\n",
        "\n",
        "    4) ReLU는 sparse activation(희소 활성화)를 생성\n",
        "     => 희소 활성화 : 많은 뉴런이 0을 출력하게 하여 활성화를 적게 -> 계산비용이 줄고 과적합을 줄이는데 이득\n",
        "\n",
        "* ReLU 함수의 단점?\n",
        "\n",
        "    1) 입력값이 음수이면 기울기가 0이 되어 가중치 업데이트가 제대로 안될 수 있음 : Dead Neuron , Dying ReLU -> Leaky ReLU 함수를 사용해서, ReLU함수의 음수 부분에 작은 기울기를 추가해서 음수 값에 대한 기울기가 0인 문제를 방지\n",
        "\n",
        "    2) 출력값은 0 또는 양수이고, 기울기도 0 또는 1인 양수 -> zigzag\n",
        "\n",
        "*"
      ],
      "metadata": {
        "id": "c836AUZmF_Y7"
      },
      "id": "c836AUZmF_Y7"
    },
    {
      "cell_type": "markdown",
      "source": [
        "### discussions or takeaway messages\n",
        "\n",
        "1. 신경망 : input layer + hidden layer(s) + output layer\n",
        "\n",
        "2. MLP : Multilayer Perceptron, 다층 퍼셉트론\n",
        "\n",
        "3. 선형모델의 경우 입-출력 관계를 선형적으로 표현. 복잡한 패턴 학습이 어려워서 -> hidden layer사용. hidden layer는 비선형적이여야 복잡한 학습 가능\n",
        "\n",
        "4. 입력층과 출력층에서 각각의 뉴런은 이전층의 모든 뉴런과 fully connected\n",
        "\n",
        "5. universal approximators theorem : 하나의 hidden layer만 있는 MLP라도, 많은 노드와 적절한 가중치가 있으면 어떤 함수라도 근사할 수 있음(이론은 그런데 실제로는 다른 방법을 사용하는게 효율적)\n",
        "\n",
        "6. ReLU : 간단한 비선형 변환. input이 양수 -> 그대로 출력, input이 음수 -> 0을 출력\n",
        "\n",
        "7. ReLU 장점 : 계산효율적 / 기울기 소멸 문제에 괜찮음 / 최적화 과정에서 잘 수렴\n",
        "\n",
        "8. ReLU 단점 : Dying ReLU / 기울기가 0~1 : zigzag\n",
        "\n",
        "9. sigmoid : 입력값이 실수일때 , 출력을 0~1로\n",
        "\n",
        "10. sigmoid 단점 : 기울기 소멸 문제 / 포화문제 | 기울기가 0~1이여서 학습에 어려움(zigzag)\n",
        "\n",
        "11. tahn : 입력값을 -1~+1의 출력으로.\n",
        "\n",
        "12. tahn 단점 : 기울기 소실 문제\n",
        "\n",
        "13. ReLU가 sigmoid나 tahn보다 최적화에 적합. 더 많이 쓴다\n",
        "\n",
        "14. 공부하고 다른 자료들도 찾아보면서 어느정도 알 것 같은데 자세히 생각해보면 헷갈리거나 궁금한 것도 많아서,,,더 공부해야겠다\n",
        "\n"
      ],
      "metadata": {
        "id": "ZkqaciNjI8Xu"
      },
      "id": "ZkqaciNjI8Xu"
    },
    {
      "cell_type": "markdown",
      "source": [
        "## 5.2. Implementation of Multilayer Perceptrons\n"
      ],
      "metadata": {
        "id": "3ifC-zt7Lvk0"
      },
      "id": "3ifC-zt7Lvk0"
    },
    {
      "cell_type": "code",
      "source": [
        "import torch\n",
        "from torch import nn\n",
        "from d2l import torch as d2l"
      ],
      "metadata": {
        "id": "onK5sfKrI0jO"
      },
      "id": "onK5sfKrI0jO",
      "execution_count": 63,
      "outputs": []
    },
    {
      "cell_type": "markdown",
      "source": [
        "#### 5.2.1.implementation from scratch\n",
        "\n",
        "#### 5.2.1.1.initializing model parameters\n",
        "\n"
      ],
      "metadata": {
        "id": "7q69Sr9KL4SS"
      },
      "id": "7q69Sr9KL4SS"
    },
    {
      "cell_type": "code",
      "source": [
        "class MLPScratch(d2l.Classifier):\n",
        "    def __init__(self, num_inputs, num_outputs, num_hiddens, lr, sigma=0.01):\n",
        "        super().__init__()\n",
        "        self.save_hyperparameters()\n",
        "        self.W1 = nn.Parameter(torch.randn(num_inputs, num_hiddens) * sigma)\n",
        "        self.b1 = nn.Parameter(torch.zeros(num_hiddens))\n",
        "        self.W2 = nn.Parameter(torch.randn(num_hiddens, num_outputs) * sigma)\n",
        "        self.b2 = nn.Parameter(torch.zeros(num_outputs))"
      ],
      "metadata": {
        "id": "a6QRk8EsL3Tj"
      },
      "id": "a6QRk8EsL3Tj",
      "execution_count": 64,
      "outputs": []
    },
    {
      "cell_type": "markdown",
      "source": [
        "#### 5.2.1.2.model"
      ],
      "metadata": {
        "id": "wW3utBCRMrbu"
      },
      "id": "wW3utBCRMrbu"
    },
    {
      "cell_type": "code",
      "source": [
        "def relu(X):\n",
        "    a = torch.zeros_like(X)\n",
        "    return torch.max(X, a)"
      ],
      "metadata": {
        "id": "K-YOxQcVMqsy"
      },
      "id": "K-YOxQcVMqsy",
      "execution_count": 65,
      "outputs": []
    },
    {
      "cell_type": "code",
      "source": [
        "@d2l.add_to_class(MLPScratch)\n",
        "def forward(self, X):\n",
        "    X = X.reshape((-1, self.num_inputs))\n",
        "    H = relu(torch.matmul(X, self.W1) + self.b1)\n",
        "    return torch.matmul(H, self.W2) + self.b2"
      ],
      "metadata": {
        "id": "Kh6xoAlwMt3g"
      },
      "id": "Kh6xoAlwMt3g",
      "execution_count": 66,
      "outputs": []
    },
    {
      "cell_type": "markdown",
      "source": [
        "#### 5.2.1.3.training"
      ],
      "metadata": {
        "id": "K92LWGBlMvTR"
      },
      "id": "K92LWGBlMvTR"
    },
    {
      "cell_type": "code",
      "source": [
        "model = MLPScratch(num_inputs=784, num_outputs=10, num_hiddens=256, lr=0.1)\n",
        "data = d2l.FashionMNIST(batch_size=256)\n",
        "trainer = d2l.Trainer(max_epochs=10)\n",
        "trainer.fit(model, data)"
      ],
      "metadata": {
        "colab": {
          "base_uri": "https://localhost:8080/",
          "height": 265
        },
        "id": "QEbqg4j8Mut_",
        "outputId": "607d0c2d-47fa-4476-cb83-e73f6a393910"
      },
      "id": "QEbqg4j8Mut_",
      "execution_count": 67,
      "outputs": [
        {
          "output_type": "display_data",
          "data": {
            "text/plain": [
              "<Figure size 350x250 with 1 Axes>"
            ],
            "image/svg+xml": "<?xml version=\"1.0\" encoding=\"utf-8\" standalone=\"no\"?>\n<!DOCTYPE svg PUBLIC \"-//W3C//DTD SVG 1.1//EN\"\n  \"http://www.w3.org/Graphics/SVG/1.1/DTD/svg11.dtd\">\n<svg xmlns:xlink=\"http://www.w3.org/1999/xlink\" width=\"238.965625pt\" height=\"183.35625pt\" viewBox=\"0 0 238.965625 183.35625\" xmlns=\"http://www.w3.org/2000/svg\" version=\"1.1\">\n <metadata>\n  <rdf:RDF xmlns:dc=\"http://purl.org/dc/elements/1.1/\" xmlns:cc=\"http://creativecommons.org/ns#\" xmlns:rdf=\"http://www.w3.org/1999/02/22-rdf-syntax-ns#\">\n   <cc:Work>\n    <dc:type rdf:resource=\"http://purl.org/dc/dcmitype/StillImage\"/>\n    <dc:date>2024-09-24T04:06:43.083467</dc:date>\n    <dc:format>image/svg+xml</dc:format>\n    <dc:creator>\n     <cc:Agent>\n      <dc:title>Matplotlib v3.7.2, https://matplotlib.org/</dc:title>\n     </cc:Agent>\n    </dc:creator>\n   </cc:Work>\n  </rdf:RDF>\n </metadata>\n <defs>\n  <style type=\"text/css\">*{stroke-linejoin: round; stroke-linecap: butt}</style>\n </defs>\n <g id=\"figure_1\">\n  <g id=\"patch_1\">\n   <path d=\"M 0 183.35625 \nL 238.965625 183.35625 \nL 238.965625 -0 \nL 0 -0 \nz\n\" style=\"fill: #ffffff\"/>\n  </g>\n  <g id=\"axes_1\">\n   <g id=\"patch_2\">\n    <path d=\"M 30.103125 145.8 \nL 225.403125 145.8 \nL 225.403125 7.2 \nL 30.103125 7.2 \nz\n\" style=\"fill: #ffffff\"/>\n   </g>\n   <g id=\"matplotlib.axis_1\">\n    <g id=\"xtick_1\">\n     <g id=\"line2d_1\">\n      <defs>\n       <path id=\"m67c71e2753\" d=\"M 0 0 \nL 0 3.5 \n\" style=\"stroke: #000000; stroke-width: 0.8\"/>\n      </defs>\n      <g>\n       <use xlink:href=\"#m67c71e2753\" x=\"30.103125\" y=\"145.8\" style=\"stroke: #000000; stroke-width: 0.8\"/>\n      </g>\n     </g>\n     <g id=\"text_1\">\n      <!-- 0 -->\n      <g transform=\"translate(26.921875 160.398438) scale(0.1 -0.1)\">\n       <defs>\n        <path id=\"DejaVuSans-30\" d=\"M 2034 4250 \nQ 1547 4250 1301 3770 \nQ 1056 3291 1056 2328 \nQ 1056 1369 1301 889 \nQ 1547 409 2034 409 \nQ 2525 409 2770 889 \nQ 3016 1369 3016 2328 \nQ 3016 3291 2770 3770 \nQ 2525 4250 2034 4250 \nz\nM 2034 4750 \nQ 2819 4750 3233 4129 \nQ 3647 3509 3647 2328 \nQ 3647 1150 3233 529 \nQ 2819 -91 2034 -91 \nQ 1250 -91 836 529 \nQ 422 1150 422 2328 \nQ 422 3509 836 4129 \nQ 1250 4750 2034 4750 \nz\n\" transform=\"scale(0.015625)\"/>\n       </defs>\n       <use xlink:href=\"#DejaVuSans-30\"/>\n      </g>\n     </g>\n    </g>\n    <g id=\"xtick_2\">\n     <g id=\"line2d_2\">\n      <g>\n       <use xlink:href=\"#m67c71e2753\" x=\"69.163125\" y=\"145.8\" style=\"stroke: #000000; stroke-width: 0.8\"/>\n      </g>\n     </g>\n     <g id=\"text_2\">\n      <!-- 2 -->\n      <g transform=\"translate(65.981875 160.398438) scale(0.1 -0.1)\">\n       <defs>\n        <path id=\"DejaVuSans-32\" d=\"M 1228 531 \nL 3431 531 \nL 3431 0 \nL 469 0 \nL 469 531 \nQ 828 903 1448 1529 \nQ 2069 2156 2228 2338 \nQ 2531 2678 2651 2914 \nQ 2772 3150 2772 3378 \nQ 2772 3750 2511 3984 \nQ 2250 4219 1831 4219 \nQ 1534 4219 1204 4116 \nQ 875 4013 500 3803 \nL 500 4441 \nQ 881 4594 1212 4672 \nQ 1544 4750 1819 4750 \nQ 2544 4750 2975 4387 \nQ 3406 4025 3406 3419 \nQ 3406 3131 3298 2873 \nQ 3191 2616 2906 2266 \nQ 2828 2175 2409 1742 \nQ 1991 1309 1228 531 \nz\n\" transform=\"scale(0.015625)\"/>\n       </defs>\n       <use xlink:href=\"#DejaVuSans-32\"/>\n      </g>\n     </g>\n    </g>\n    <g id=\"xtick_3\">\n     <g id=\"line2d_3\">\n      <g>\n       <use xlink:href=\"#m67c71e2753\" x=\"108.223125\" y=\"145.8\" style=\"stroke: #000000; stroke-width: 0.8\"/>\n      </g>\n     </g>\n     <g id=\"text_3\">\n      <!-- 4 -->\n      <g transform=\"translate(105.041875 160.398438) scale(0.1 -0.1)\">\n       <defs>\n        <path id=\"DejaVuSans-34\" d=\"M 2419 4116 \nL 825 1625 \nL 2419 1625 \nL 2419 4116 \nz\nM 2253 4666 \nL 3047 4666 \nL 3047 1625 \nL 3713 1625 \nL 3713 1100 \nL 3047 1100 \nL 3047 0 \nL 2419 0 \nL 2419 1100 \nL 313 1100 \nL 313 1709 \nL 2253 4666 \nz\n\" transform=\"scale(0.015625)\"/>\n       </defs>\n       <use xlink:href=\"#DejaVuSans-34\"/>\n      </g>\n     </g>\n    </g>\n    <g id=\"xtick_4\">\n     <g id=\"line2d_4\">\n      <g>\n       <use xlink:href=\"#m67c71e2753\" x=\"147.283125\" y=\"145.8\" style=\"stroke: #000000; stroke-width: 0.8\"/>\n      </g>\n     </g>\n     <g id=\"text_4\">\n      <!-- 6 -->\n      <g transform=\"translate(144.101875 160.398438) scale(0.1 -0.1)\">\n       <defs>\n        <path id=\"DejaVuSans-36\" d=\"M 2113 2584 \nQ 1688 2584 1439 2293 \nQ 1191 2003 1191 1497 \nQ 1191 994 1439 701 \nQ 1688 409 2113 409 \nQ 2538 409 2786 701 \nQ 3034 994 3034 1497 \nQ 3034 2003 2786 2293 \nQ 2538 2584 2113 2584 \nz\nM 3366 4563 \nL 3366 3988 \nQ 3128 4100 2886 4159 \nQ 2644 4219 2406 4219 \nQ 1781 4219 1451 3797 \nQ 1122 3375 1075 2522 \nQ 1259 2794 1537 2939 \nQ 1816 3084 2150 3084 \nQ 2853 3084 3261 2657 \nQ 3669 2231 3669 1497 \nQ 3669 778 3244 343 \nQ 2819 -91 2113 -91 \nQ 1303 -91 875 529 \nQ 447 1150 447 2328 \nQ 447 3434 972 4092 \nQ 1497 4750 2381 4750 \nQ 2619 4750 2861 4703 \nQ 3103 4656 3366 4563 \nz\n\" transform=\"scale(0.015625)\"/>\n       </defs>\n       <use xlink:href=\"#DejaVuSans-36\"/>\n      </g>\n     </g>\n    </g>\n    <g id=\"xtick_5\">\n     <g id=\"line2d_5\">\n      <g>\n       <use xlink:href=\"#m67c71e2753\" x=\"186.343125\" y=\"145.8\" style=\"stroke: #000000; stroke-width: 0.8\"/>\n      </g>\n     </g>\n     <g id=\"text_5\">\n      <!-- 8 -->\n      <g transform=\"translate(183.161875 160.398438) scale(0.1 -0.1)\">\n       <defs>\n        <path id=\"DejaVuSans-38\" d=\"M 2034 2216 \nQ 1584 2216 1326 1975 \nQ 1069 1734 1069 1313 \nQ 1069 891 1326 650 \nQ 1584 409 2034 409 \nQ 2484 409 2743 651 \nQ 3003 894 3003 1313 \nQ 3003 1734 2745 1975 \nQ 2488 2216 2034 2216 \nz\nM 1403 2484 \nQ 997 2584 770 2862 \nQ 544 3141 544 3541 \nQ 544 4100 942 4425 \nQ 1341 4750 2034 4750 \nQ 2731 4750 3128 4425 \nQ 3525 4100 3525 3541 \nQ 3525 3141 3298 2862 \nQ 3072 2584 2669 2484 \nQ 3125 2378 3379 2068 \nQ 3634 1759 3634 1313 \nQ 3634 634 3220 271 \nQ 2806 -91 2034 -91 \nQ 1263 -91 848 271 \nQ 434 634 434 1313 \nQ 434 1759 690 2068 \nQ 947 2378 1403 2484 \nz\nM 1172 3481 \nQ 1172 3119 1398 2916 \nQ 1625 2713 2034 2713 \nQ 2441 2713 2670 2916 \nQ 2900 3119 2900 3481 \nQ 2900 3844 2670 4047 \nQ 2441 4250 2034 4250 \nQ 1625 4250 1398 4047 \nQ 1172 3844 1172 3481 \nz\n\" transform=\"scale(0.015625)\"/>\n       </defs>\n       <use xlink:href=\"#DejaVuSans-38\"/>\n      </g>\n     </g>\n    </g>\n    <g id=\"xtick_6\">\n     <g id=\"line2d_6\">\n      <g>\n       <use xlink:href=\"#m67c71e2753\" x=\"225.403125\" y=\"145.8\" style=\"stroke: #000000; stroke-width: 0.8\"/>\n      </g>\n     </g>\n     <g id=\"text_6\">\n      <!-- 10 -->\n      <g transform=\"translate(219.040625 160.398438) scale(0.1 -0.1)\">\n       <defs>\n        <path id=\"DejaVuSans-31\" d=\"M 794 531 \nL 1825 531 \nL 1825 4091 \nL 703 3866 \nL 703 4441 \nL 1819 4666 \nL 2450 4666 \nL 2450 531 \nL 3481 531 \nL 3481 0 \nL 794 0 \nL 794 531 \nz\n\" transform=\"scale(0.015625)\"/>\n       </defs>\n       <use xlink:href=\"#DejaVuSans-31\"/>\n       <use xlink:href=\"#DejaVuSans-30\" x=\"63.623047\"/>\n      </g>\n     </g>\n    </g>\n    <g id=\"text_7\">\n     <!-- epoch -->\n     <g transform=\"translate(112.525 174.076563) scale(0.1 -0.1)\">\n      <defs>\n       <path id=\"DejaVuSans-65\" d=\"M 3597 1894 \nL 3597 1613 \nL 953 1613 \nQ 991 1019 1311 708 \nQ 1631 397 2203 397 \nQ 2534 397 2845 478 \nQ 3156 559 3463 722 \nL 3463 178 \nQ 3153 47 2828 -22 \nQ 2503 -91 2169 -91 \nQ 1331 -91 842 396 \nQ 353 884 353 1716 \nQ 353 2575 817 3079 \nQ 1281 3584 2069 3584 \nQ 2775 3584 3186 3129 \nQ 3597 2675 3597 1894 \nz\nM 3022 2063 \nQ 3016 2534 2758 2815 \nQ 2500 3097 2075 3097 \nQ 1594 3097 1305 2825 \nQ 1016 2553 972 2059 \nL 3022 2063 \nz\n\" transform=\"scale(0.015625)\"/>\n       <path id=\"DejaVuSans-70\" d=\"M 1159 525 \nL 1159 -1331 \nL 581 -1331 \nL 581 3500 \nL 1159 3500 \nL 1159 2969 \nQ 1341 3281 1617 3432 \nQ 1894 3584 2278 3584 \nQ 2916 3584 3314 3078 \nQ 3713 2572 3713 1747 \nQ 3713 922 3314 415 \nQ 2916 -91 2278 -91 \nQ 1894 -91 1617 61 \nQ 1341 213 1159 525 \nz\nM 3116 1747 \nQ 3116 2381 2855 2742 \nQ 2594 3103 2138 3103 \nQ 1681 3103 1420 2742 \nQ 1159 2381 1159 1747 \nQ 1159 1113 1420 752 \nQ 1681 391 2138 391 \nQ 2594 391 2855 752 \nQ 3116 1113 3116 1747 \nz\n\" transform=\"scale(0.015625)\"/>\n       <path id=\"DejaVuSans-6f\" d=\"M 1959 3097 \nQ 1497 3097 1228 2736 \nQ 959 2375 959 1747 \nQ 959 1119 1226 758 \nQ 1494 397 1959 397 \nQ 2419 397 2687 759 \nQ 2956 1122 2956 1747 \nQ 2956 2369 2687 2733 \nQ 2419 3097 1959 3097 \nz\nM 1959 3584 \nQ 2709 3584 3137 3096 \nQ 3566 2609 3566 1747 \nQ 3566 888 3137 398 \nQ 2709 -91 1959 -91 \nQ 1206 -91 779 398 \nQ 353 888 353 1747 \nQ 353 2609 779 3096 \nQ 1206 3584 1959 3584 \nz\n\" transform=\"scale(0.015625)\"/>\n       <path id=\"DejaVuSans-63\" d=\"M 3122 3366 \nL 3122 2828 \nQ 2878 2963 2633 3030 \nQ 2388 3097 2138 3097 \nQ 1578 3097 1268 2742 \nQ 959 2388 959 1747 \nQ 959 1106 1268 751 \nQ 1578 397 2138 397 \nQ 2388 397 2633 464 \nQ 2878 531 3122 666 \nL 3122 134 \nQ 2881 22 2623 -34 \nQ 2366 -91 2075 -91 \nQ 1284 -91 818 406 \nQ 353 903 353 1747 \nQ 353 2603 823 3093 \nQ 1294 3584 2113 3584 \nQ 2378 3584 2631 3529 \nQ 2884 3475 3122 3366 \nz\n\" transform=\"scale(0.015625)\"/>\n       <path id=\"DejaVuSans-68\" d=\"M 3513 2113 \nL 3513 0 \nL 2938 0 \nL 2938 2094 \nQ 2938 2591 2744 2837 \nQ 2550 3084 2163 3084 \nQ 1697 3084 1428 2787 \nQ 1159 2491 1159 1978 \nL 1159 0 \nL 581 0 \nL 581 4863 \nL 1159 4863 \nL 1159 2956 \nQ 1366 3272 1645 3428 \nQ 1925 3584 2291 3584 \nQ 2894 3584 3203 3211 \nQ 3513 2838 3513 2113 \nz\n\" transform=\"scale(0.015625)\"/>\n      </defs>\n      <use xlink:href=\"#DejaVuSans-65\"/>\n      <use xlink:href=\"#DejaVuSans-70\" x=\"61.523438\"/>\n      <use xlink:href=\"#DejaVuSans-6f\" x=\"125\"/>\n      <use xlink:href=\"#DejaVuSans-63\" x=\"186.181641\"/>\n      <use xlink:href=\"#DejaVuSans-68\" x=\"241.162109\"/>\n     </g>\n    </g>\n   </g>\n   <g id=\"matplotlib.axis_2\">\n    <g id=\"ytick_1\">\n     <g id=\"line2d_7\">\n      <defs>\n       <path id=\"m6ca67c67e1\" d=\"M 0 0 \nL -3.5 0 \n\" style=\"stroke: #000000; stroke-width: 0.8\"/>\n      </defs>\n      <g>\n       <use xlink:href=\"#m6ca67c67e1\" x=\"30.103125\" y=\"136.895788\" style=\"stroke: #000000; stroke-width: 0.8\"/>\n      </g>\n     </g>\n     <g id=\"text_8\">\n      <!-- 0.4 -->\n      <g transform=\"translate(7.2 140.695007) scale(0.1 -0.1)\">\n       <defs>\n        <path id=\"DejaVuSans-2e\" d=\"M 684 794 \nL 1344 794 \nL 1344 0 \nL 684 0 \nL 684 794 \nz\n\" transform=\"scale(0.015625)\"/>\n       </defs>\n       <use xlink:href=\"#DejaVuSans-30\"/>\n       <use xlink:href=\"#DejaVuSans-2e\" x=\"63.623047\"/>\n       <use xlink:href=\"#DejaVuSans-34\" x=\"95.410156\"/>\n      </g>\n     </g>\n    </g>\n    <g id=\"ytick_2\">\n     <g id=\"line2d_8\">\n      <g>\n       <use xlink:href=\"#m6ca67c67e1\" x=\"30.103125\" y=\"110.285548\" style=\"stroke: #000000; stroke-width: 0.8\"/>\n      </g>\n     </g>\n     <g id=\"text_9\">\n      <!-- 0.6 -->\n      <g transform=\"translate(7.2 114.084767) scale(0.1 -0.1)\">\n       <use xlink:href=\"#DejaVuSans-30\"/>\n       <use xlink:href=\"#DejaVuSans-2e\" x=\"63.623047\"/>\n       <use xlink:href=\"#DejaVuSans-36\" x=\"95.410156\"/>\n      </g>\n     </g>\n    </g>\n    <g id=\"ytick_3\">\n     <g id=\"line2d_9\">\n      <g>\n       <use xlink:href=\"#m6ca67c67e1\" x=\"30.103125\" y=\"83.675308\" style=\"stroke: #000000; stroke-width: 0.8\"/>\n      </g>\n     </g>\n     <g id=\"text_10\">\n      <!-- 0.8 -->\n      <g transform=\"translate(7.2 87.474527) scale(0.1 -0.1)\">\n       <use xlink:href=\"#DejaVuSans-30\"/>\n       <use xlink:href=\"#DejaVuSans-2e\" x=\"63.623047\"/>\n       <use xlink:href=\"#DejaVuSans-38\" x=\"95.410156\"/>\n      </g>\n     </g>\n    </g>\n    <g id=\"ytick_4\">\n     <g id=\"line2d_10\">\n      <g>\n       <use xlink:href=\"#m6ca67c67e1\" x=\"30.103125\" y=\"57.065068\" style=\"stroke: #000000; stroke-width: 0.8\"/>\n      </g>\n     </g>\n     <g id=\"text_11\">\n      <!-- 1.0 -->\n      <g transform=\"translate(7.2 60.864286) scale(0.1 -0.1)\">\n       <use xlink:href=\"#DejaVuSans-31\"/>\n       <use xlink:href=\"#DejaVuSans-2e\" x=\"63.623047\"/>\n       <use xlink:href=\"#DejaVuSans-30\" x=\"95.410156\"/>\n      </g>\n     </g>\n    </g>\n    <g id=\"ytick_5\">\n     <g id=\"line2d_11\">\n      <g>\n       <use xlink:href=\"#m6ca67c67e1\" x=\"30.103125\" y=\"30.454828\" style=\"stroke: #000000; stroke-width: 0.8\"/>\n      </g>\n     </g>\n     <g id=\"text_12\">\n      <!-- 1.2 -->\n      <g transform=\"translate(7.2 34.254046) scale(0.1 -0.1)\">\n       <use xlink:href=\"#DejaVuSans-31\"/>\n       <use xlink:href=\"#DejaVuSans-2e\" x=\"63.623047\"/>\n       <use xlink:href=\"#DejaVuSans-32\" x=\"95.410156\"/>\n      </g>\n     </g>\n    </g>\n   </g>\n   <g id=\"line2d_12\">\n    <path d=\"M 34.923295 13.5 \n\" clip-path=\"url(#p969a311eb6)\" style=\"fill: none; stroke: #1f77b4; stroke-width: 1.5; stroke-linecap: square\"/>\n   </g>\n   <g id=\"line2d_13\">\n    <path d=\"M 34.923295 13.5 \nL 44.646742 91.053361 \n\" clip-path=\"url(#p969a311eb6)\" style=\"fill: none; stroke: #1f77b4; stroke-width: 1.5; stroke-linecap: square\"/>\n   </g>\n   <g id=\"line2d_14\">\n    <path d=\"M 34.923295 13.5 \nL 44.646742 91.053361 \n\" clip-path=\"url(#p969a311eb6)\" style=\"fill: none; stroke: #1f77b4; stroke-width: 1.5; stroke-linecap: square\"/>\n   </g>\n   <g id=\"line2d_15\">\n    <path d=\"M 49.633125 95.885089 \n\" clip-path=\"url(#p969a311eb6)\" style=\"fill: none; stroke-dasharray: 5.55,2.4; stroke-dashoffset: 0; stroke: #ff7f0e; stroke-width: 1.5\"/>\n   </g>\n   <g id=\"line2d_16\"/>\n   <g id=\"line2d_17\">\n    <path d=\"M 34.923295 13.5 \nL 44.646742 91.053361 \n\" clip-path=\"url(#p969a311eb6)\" style=\"fill: none; stroke: #1f77b4; stroke-width: 1.5; stroke-linecap: square\"/>\n   </g>\n   <g id=\"line2d_18\">\n    <path d=\"M 49.633125 95.885089 \n\" clip-path=\"url(#p969a311eb6)\" style=\"fill: none; stroke-dasharray: 5.55,2.4; stroke-dashoffset: 0; stroke: #ff7f0e; stroke-width: 1.5\"/>\n   </g>\n   <g id=\"line2d_19\">\n    <path d=\"M 49.633125 89.574257 \n\" clip-path=\"url(#p969a311eb6)\" style=\"fill: none; stroke-dasharray: 9.6,2.4,1.5,2.4; stroke-dashoffset: 0; stroke: #2ca02c; stroke-width: 1.5\"/>\n   </g>\n   <g id=\"line2d_20\">\n    <path d=\"M 34.923295 13.5 \nL 44.646742 91.053361 \nL 54.370189 105.546429 \n\" clip-path=\"url(#p969a311eb6)\" style=\"fill: none; stroke: #1f77b4; stroke-width: 1.5; stroke-linecap: square\"/>\n   </g>\n   <g id=\"line2d_21\">\n    <path d=\"M 49.633125 95.885089 \n\" clip-path=\"url(#p969a311eb6)\" style=\"fill: none; stroke-dasharray: 5.55,2.4; stroke-dashoffset: 0; stroke: #ff7f0e; stroke-width: 1.5\"/>\n   </g>\n   <g id=\"line2d_22\">\n    <path d=\"M 49.633125 89.574257 \n\" clip-path=\"url(#p969a311eb6)\" style=\"fill: none; stroke-dasharray: 9.6,2.4,1.5,2.4; stroke-dashoffset: 0; stroke: #2ca02c; stroke-width: 1.5\"/>\n   </g>\n   <g id=\"line2d_23\">\n    <path d=\"M 34.923295 13.5 \nL 44.646742 91.053361 \nL 54.370189 105.546429 \nL 64.093636 113.703369 \n\" clip-path=\"url(#p969a311eb6)\" style=\"fill: none; stroke: #1f77b4; stroke-width: 1.5; stroke-linecap: square\"/>\n   </g>\n   <g id=\"line2d_24\">\n    <path d=\"M 49.633125 95.885089 \n\" clip-path=\"url(#p969a311eb6)\" style=\"fill: none; stroke-dasharray: 5.55,2.4; stroke-dashoffset: 0; stroke: #ff7f0e; stroke-width: 1.5\"/>\n   </g>\n   <g id=\"line2d_25\">\n    <path d=\"M 49.633125 89.574257 \n\" clip-path=\"url(#p969a311eb6)\" style=\"fill: none; stroke-dasharray: 9.6,2.4,1.5,2.4; stroke-dashoffset: 0; stroke: #2ca02c; stroke-width: 1.5\"/>\n   </g>\n   <g id=\"line2d_26\">\n    <path d=\"M 34.923295 13.5 \nL 44.646742 91.053361 \nL 54.370189 105.546429 \nL 64.093636 113.703369 \n\" clip-path=\"url(#p969a311eb6)\" style=\"fill: none; stroke: #1f77b4; stroke-width: 1.5; stroke-linecap: square\"/>\n   </g>\n   <g id=\"line2d_27\">\n    <path d=\"M 49.633125 95.885089 \nL 69.163125 112.1508 \n\" clip-path=\"url(#p969a311eb6)\" style=\"fill: none; stroke-dasharray: 5.55,2.4; stroke-dashoffset: 0; stroke: #ff7f0e; stroke-width: 1.5\"/>\n   </g>\n   <g id=\"line2d_28\">\n    <path d=\"M 49.633125 89.574257 \n\" clip-path=\"url(#p969a311eb6)\" style=\"fill: none; stroke-dasharray: 9.6,2.4,1.5,2.4; stroke-dashoffset: 0; stroke: #2ca02c; stroke-width: 1.5\"/>\n   </g>\n   <g id=\"line2d_29\">\n    <path d=\"M 34.923295 13.5 \nL 44.646742 91.053361 \nL 54.370189 105.546429 \nL 64.093636 113.703369 \n\" clip-path=\"url(#p969a311eb6)\" style=\"fill: none; stroke: #1f77b4; stroke-width: 1.5; stroke-linecap: square\"/>\n   </g>\n   <g id=\"line2d_30\">\n    <path d=\"M 49.633125 95.885089 \nL 69.163125 112.1508 \n\" clip-path=\"url(#p969a311eb6)\" style=\"fill: none; stroke-dasharray: 5.55,2.4; stroke-dashoffset: 0; stroke: #ff7f0e; stroke-width: 1.5\"/>\n   </g>\n   <g id=\"line2d_31\">\n    <path d=\"M 49.633125 89.574257 \nL 69.163125 85.858179 \n\" clip-path=\"url(#p969a311eb6)\" style=\"fill: none; stroke-dasharray: 9.6,2.4,1.5,2.4; stroke-dashoffset: 0; stroke: #2ca02c; stroke-width: 1.5\"/>\n   </g>\n   <g id=\"line2d_32\">\n    <path d=\"M 34.923295 13.5 \nL 44.646742 91.053361 \nL 54.370189 105.546429 \nL 64.093636 113.703369 \nL 73.817082 118.73901 \n\" clip-path=\"url(#p969a311eb6)\" style=\"fill: none; stroke: #1f77b4; stroke-width: 1.5; stroke-linecap: square\"/>\n   </g>\n   <g id=\"line2d_33\">\n    <path d=\"M 49.633125 95.885089 \nL 69.163125 112.1508 \n\" clip-path=\"url(#p969a311eb6)\" style=\"fill: none; stroke-dasharray: 5.55,2.4; stroke-dashoffset: 0; stroke: #ff7f0e; stroke-width: 1.5\"/>\n   </g>\n   <g id=\"line2d_34\">\n    <path d=\"M 49.633125 89.574257 \nL 69.163125 85.858179 \n\" clip-path=\"url(#p969a311eb6)\" style=\"fill: none; stroke-dasharray: 9.6,2.4,1.5,2.4; stroke-dashoffset: 0; stroke: #2ca02c; stroke-width: 1.5\"/>\n   </g>\n   <g id=\"line2d_35\">\n    <path d=\"M 34.923295 13.5 \nL 44.646742 91.053361 \nL 54.370189 105.546429 \nL 64.093636 113.703369 \nL 73.817082 118.73901 \nL 83.540529 122.729688 \n\" clip-path=\"url(#p969a311eb6)\" style=\"fill: none; stroke: #1f77b4; stroke-width: 1.5; stroke-linecap: square\"/>\n   </g>\n   <g id=\"line2d_36\">\n    <path d=\"M 49.633125 95.885089 \nL 69.163125 112.1508 \n\" clip-path=\"url(#p969a311eb6)\" style=\"fill: none; stroke-dasharray: 5.55,2.4; stroke-dashoffset: 0; stroke: #ff7f0e; stroke-width: 1.5\"/>\n   </g>\n   <g id=\"line2d_37\">\n    <path d=\"M 49.633125 89.574257 \nL 69.163125 85.858179 \n\" clip-path=\"url(#p969a311eb6)\" style=\"fill: none; stroke-dasharray: 9.6,2.4,1.5,2.4; stroke-dashoffset: 0; stroke: #2ca02c; stroke-width: 1.5\"/>\n   </g>\n   <g id=\"line2d_38\">\n    <path d=\"M 34.923295 13.5 \nL 44.646742 91.053361 \nL 54.370189 105.546429 \nL 64.093636 113.703369 \nL 73.817082 118.73901 \nL 83.540529 122.729688 \n\" clip-path=\"url(#p969a311eb6)\" style=\"fill: none; stroke: #1f77b4; stroke-width: 1.5; stroke-linecap: square\"/>\n   </g>\n   <g id=\"line2d_39\">\n    <path d=\"M 49.633125 95.885089 \nL 69.163125 112.1508 \nL 88.693125 123.560657 \n\" clip-path=\"url(#p969a311eb6)\" style=\"fill: none; stroke-dasharray: 5.55,2.4; stroke-dashoffset: 0; stroke: #ff7f0e; stroke-width: 1.5\"/>\n   </g>\n   <g id=\"line2d_40\">\n    <path d=\"M 49.633125 89.574257 \nL 69.163125 85.858179 \n\" clip-path=\"url(#p969a311eb6)\" style=\"fill: none; stroke-dasharray: 9.6,2.4,1.5,2.4; stroke-dashoffset: 0; stroke: #2ca02c; stroke-width: 1.5\"/>\n   </g>\n   <g id=\"line2d_41\">\n    <path d=\"M 34.923295 13.5 \nL 44.646742 91.053361 \nL 54.370189 105.546429 \nL 64.093636 113.703369 \nL 73.817082 118.73901 \nL 83.540529 122.729688 \n\" clip-path=\"url(#p969a311eb6)\" style=\"fill: none; stroke: #1f77b4; stroke-width: 1.5; stroke-linecap: square\"/>\n   </g>\n   <g id=\"line2d_42\">\n    <path d=\"M 49.633125 95.885089 \nL 69.163125 112.1508 \nL 88.693125 123.560657 \n\" clip-path=\"url(#p969a311eb6)\" style=\"fill: none; stroke-dasharray: 5.55,2.4; stroke-dashoffset: 0; stroke: #ff7f0e; stroke-width: 1.5\"/>\n   </g>\n   <g id=\"line2d_43\">\n    <path d=\"M 49.633125 89.574257 \nL 69.163125 85.858179 \nL 88.693125 80.401001 \n\" clip-path=\"url(#p969a311eb6)\" style=\"fill: none; stroke-dasharray: 9.6,2.4,1.5,2.4; stroke-dashoffset: 0; stroke: #2ca02c; stroke-width: 1.5\"/>\n   </g>\n   <g id=\"line2d_44\">\n    <path d=\"M 34.923295 13.5 \nL 44.646742 91.053361 \nL 54.370189 105.546429 \nL 64.093636 113.703369 \nL 73.817082 118.73901 \nL 83.540529 122.729688 \nL 93.263976 125.892756 \n\" clip-path=\"url(#p969a311eb6)\" style=\"fill: none; stroke: #1f77b4; stroke-width: 1.5; stroke-linecap: square\"/>\n   </g>\n   <g id=\"line2d_45\">\n    <path d=\"M 49.633125 95.885089 \nL 69.163125 112.1508 \nL 88.693125 123.560657 \n\" clip-path=\"url(#p969a311eb6)\" style=\"fill: none; stroke-dasharray: 5.55,2.4; stroke-dashoffset: 0; stroke: #ff7f0e; stroke-width: 1.5\"/>\n   </g>\n   <g id=\"line2d_46\">\n    <path d=\"M 49.633125 89.574257 \nL 69.163125 85.858179 \nL 88.693125 80.401001 \n\" clip-path=\"url(#p969a311eb6)\" style=\"fill: none; stroke-dasharray: 9.6,2.4,1.5,2.4; stroke-dashoffset: 0; stroke: #2ca02c; stroke-width: 1.5\"/>\n   </g>\n   <g id=\"line2d_47\">\n    <path d=\"M 34.923295 13.5 \nL 44.646742 91.053361 \nL 54.370189 105.546429 \nL 64.093636 113.703369 \nL 73.817082 118.73901 \nL 83.540529 122.729688 \nL 93.263976 125.892756 \nL 102.987423 127.226125 \n\" clip-path=\"url(#p969a311eb6)\" style=\"fill: none; stroke: #1f77b4; stroke-width: 1.5; stroke-linecap: square\"/>\n   </g>\n   <g id=\"line2d_48\">\n    <path d=\"M 49.633125 95.885089 \nL 69.163125 112.1508 \nL 88.693125 123.560657 \n\" clip-path=\"url(#p969a311eb6)\" style=\"fill: none; stroke-dasharray: 5.55,2.4; stroke-dashoffset: 0; stroke: #ff7f0e; stroke-width: 1.5\"/>\n   </g>\n   <g id=\"line2d_49\">\n    <path d=\"M 49.633125 89.574257 \nL 69.163125 85.858179 \nL 88.693125 80.401001 \n\" clip-path=\"url(#p969a311eb6)\" style=\"fill: none; stroke-dasharray: 9.6,2.4,1.5,2.4; stroke-dashoffset: 0; stroke: #2ca02c; stroke-width: 1.5\"/>\n   </g>\n   <g id=\"line2d_50\">\n    <path d=\"M 34.923295 13.5 \nL 44.646742 91.053361 \nL 54.370189 105.546429 \nL 64.093636 113.703369 \nL 73.817082 118.73901 \nL 83.540529 122.729688 \nL 93.263976 125.892756 \nL 102.987423 127.226125 \n\" clip-path=\"url(#p969a311eb6)\" style=\"fill: none; stroke: #1f77b4; stroke-width: 1.5; stroke-linecap: square\"/>\n   </g>\n   <g id=\"line2d_51\">\n    <path d=\"M 49.633125 95.885089 \nL 69.163125 112.1508 \nL 88.693125 123.560657 \nL 108.223125 124.201403 \n\" clip-path=\"url(#p969a311eb6)\" style=\"fill: none; stroke-dasharray: 5.55,2.4; stroke-dashoffset: 0; stroke: #ff7f0e; stroke-width: 1.5\"/>\n   </g>\n   <g id=\"line2d_52\">\n    <path d=\"M 49.633125 89.574257 \nL 69.163125 85.858179 \nL 88.693125 80.401001 \n\" clip-path=\"url(#p969a311eb6)\" style=\"fill: none; stroke-dasharray: 9.6,2.4,1.5,2.4; stroke-dashoffset: 0; stroke: #2ca02c; stroke-width: 1.5\"/>\n   </g>\n   <g id=\"line2d_53\">\n    <path d=\"M 34.923295 13.5 \nL 44.646742 91.053361 \nL 54.370189 105.546429 \nL 64.093636 113.703369 \nL 73.817082 118.73901 \nL 83.540529 122.729688 \nL 93.263976 125.892756 \nL 102.987423 127.226125 \n\" clip-path=\"url(#p969a311eb6)\" style=\"fill: none; stroke: #1f77b4; stroke-width: 1.5; stroke-linecap: square\"/>\n   </g>\n   <g id=\"line2d_54\">\n    <path d=\"M 49.633125 95.885089 \nL 69.163125 112.1508 \nL 88.693125 123.560657 \nL 108.223125 124.201403 \n\" clip-path=\"url(#p969a311eb6)\" style=\"fill: none; stroke-dasharray: 5.55,2.4; stroke-dashoffset: 0; stroke: #ff7f0e; stroke-width: 1.5\"/>\n   </g>\n   <g id=\"line2d_55\">\n    <path d=\"M 49.633125 89.574257 \nL 69.163125 85.858179 \nL 88.693125 80.401001 \nL 108.223125 80.452974 \n\" clip-path=\"url(#p969a311eb6)\" style=\"fill: none; stroke-dasharray: 9.6,2.4,1.5,2.4; stroke-dashoffset: 0; stroke: #2ca02c; stroke-width: 1.5\"/>\n   </g>\n   <g id=\"line2d_56\">\n    <path d=\"M 34.923295 13.5 \nL 44.646742 91.053361 \nL 54.370189 105.546429 \nL 64.093636 113.703369 \nL 73.817082 118.73901 \nL 83.540529 122.729688 \nL 93.263976 125.892756 \nL 102.987423 127.226125 \nL 112.71087 128.133181 \n\" clip-path=\"url(#p969a311eb6)\" style=\"fill: none; stroke: #1f77b4; stroke-width: 1.5; stroke-linecap: square\"/>\n   </g>\n   <g id=\"line2d_57\">\n    <path d=\"M 49.633125 95.885089 \nL 69.163125 112.1508 \nL 88.693125 123.560657 \nL 108.223125 124.201403 \n\" clip-path=\"url(#p969a311eb6)\" style=\"fill: none; stroke-dasharray: 5.55,2.4; stroke-dashoffset: 0; stroke: #ff7f0e; stroke-width: 1.5\"/>\n   </g>\n   <g id=\"line2d_58\">\n    <path d=\"M 49.633125 89.574257 \nL 69.163125 85.858179 \nL 88.693125 80.401001 \nL 108.223125 80.452974 \n\" clip-path=\"url(#p969a311eb6)\" style=\"fill: none; stroke-dasharray: 9.6,2.4,1.5,2.4; stroke-dashoffset: 0; stroke: #2ca02c; stroke-width: 1.5\"/>\n   </g>\n   <g id=\"line2d_59\">\n    <path d=\"M 34.923295 13.5 \nL 44.646742 91.053361 \nL 54.370189 105.546429 \nL 64.093636 113.703369 \nL 73.817082 118.73901 \nL 83.540529 122.729688 \nL 93.263976 125.892756 \nL 102.987423 127.226125 \nL 112.71087 128.133181 \nL 122.434316 130.807527 \n\" clip-path=\"url(#p969a311eb6)\" style=\"fill: none; stroke: #1f77b4; stroke-width: 1.5; stroke-linecap: square\"/>\n   </g>\n   <g id=\"line2d_60\">\n    <path d=\"M 49.633125 95.885089 \nL 69.163125 112.1508 \nL 88.693125 123.560657 \nL 108.223125 124.201403 \n\" clip-path=\"url(#p969a311eb6)\" style=\"fill: none; stroke-dasharray: 5.55,2.4; stroke-dashoffset: 0; stroke: #ff7f0e; stroke-width: 1.5\"/>\n   </g>\n   <g id=\"line2d_61\">\n    <path d=\"M 49.633125 89.574257 \nL 69.163125 85.858179 \nL 88.693125 80.401001 \nL 108.223125 80.452974 \n\" clip-path=\"url(#p969a311eb6)\" style=\"fill: none; stroke-dasharray: 9.6,2.4,1.5,2.4; stroke-dashoffset: 0; stroke: #2ca02c; stroke-width: 1.5\"/>\n   </g>\n   <g id=\"line2d_62\">\n    <path d=\"M 34.923295 13.5 \nL 44.646742 91.053361 \nL 54.370189 105.546429 \nL 64.093636 113.703369 \nL 73.817082 118.73901 \nL 83.540529 122.729688 \nL 93.263976 125.892756 \nL 102.987423 127.226125 \nL 112.71087 128.133181 \nL 122.434316 130.807527 \n\" clip-path=\"url(#p969a311eb6)\" style=\"fill: none; stroke: #1f77b4; stroke-width: 1.5; stroke-linecap: square\"/>\n   </g>\n   <g id=\"line2d_63\">\n    <path d=\"M 49.633125 95.885089 \nL 69.163125 112.1508 \nL 88.693125 123.560657 \nL 108.223125 124.201403 \nL 127.753125 124.112279 \n\" clip-path=\"url(#p969a311eb6)\" style=\"fill: none; stroke-dasharray: 5.55,2.4; stroke-dashoffset: 0; stroke: #ff7f0e; stroke-width: 1.5\"/>\n   </g>\n   <g id=\"line2d_64\">\n    <path d=\"M 49.633125 89.574257 \nL 69.163125 85.858179 \nL 88.693125 80.401001 \nL 108.223125 80.452974 \n\" clip-path=\"url(#p969a311eb6)\" style=\"fill: none; stroke-dasharray: 9.6,2.4,1.5,2.4; stroke-dashoffset: 0; stroke: #2ca02c; stroke-width: 1.5\"/>\n   </g>\n   <g id=\"line2d_65\">\n    <path d=\"M 34.923295 13.5 \nL 44.646742 91.053361 \nL 54.370189 105.546429 \nL 64.093636 113.703369 \nL 73.817082 118.73901 \nL 83.540529 122.729688 \nL 93.263976 125.892756 \nL 102.987423 127.226125 \nL 112.71087 128.133181 \nL 122.434316 130.807527 \n\" clip-path=\"url(#p969a311eb6)\" style=\"fill: none; stroke: #1f77b4; stroke-width: 1.5; stroke-linecap: square\"/>\n   </g>\n   <g id=\"line2d_66\">\n    <path d=\"M 49.633125 95.885089 \nL 69.163125 112.1508 \nL 88.693125 123.560657 \nL 108.223125 124.201403 \nL 127.753125 124.112279 \n\" clip-path=\"url(#p969a311eb6)\" style=\"fill: none; stroke-dasharray: 5.55,2.4; stroke-dashoffset: 0; stroke: #ff7f0e; stroke-width: 1.5\"/>\n   </g>\n   <g id=\"line2d_67\">\n    <path d=\"M 49.633125 89.574257 \nL 69.163125 85.858179 \nL 88.693125 80.401001 \nL 108.223125 80.452974 \nL 127.753125 80.881752 \n\" clip-path=\"url(#p969a311eb6)\" style=\"fill: none; stroke-dasharray: 9.6,2.4,1.5,2.4; stroke-dashoffset: 0; stroke: #2ca02c; stroke-width: 1.5\"/>\n   </g>\n   <g id=\"line2d_68\">\n    <path d=\"M 34.923295 13.5 \nL 44.646742 91.053361 \nL 54.370189 105.546429 \nL 64.093636 113.703369 \nL 73.817082 118.73901 \nL 83.540529 122.729688 \nL 93.263976 125.892756 \nL 102.987423 127.226125 \nL 112.71087 128.133181 \nL 122.434316 130.807527 \nL 132.157763 132.343242 \n\" clip-path=\"url(#p969a311eb6)\" style=\"fill: none; stroke: #1f77b4; stroke-width: 1.5; stroke-linecap: square\"/>\n   </g>\n   <g id=\"line2d_69\">\n    <path d=\"M 49.633125 95.885089 \nL 69.163125 112.1508 \nL 88.693125 123.560657 \nL 108.223125 124.201403 \nL 127.753125 124.112279 \n\" clip-path=\"url(#p969a311eb6)\" style=\"fill: none; stroke-dasharray: 5.55,2.4; stroke-dashoffset: 0; stroke: #ff7f0e; stroke-width: 1.5\"/>\n   </g>\n   <g id=\"line2d_70\">\n    <path d=\"M 49.633125 89.574257 \nL 69.163125 85.858179 \nL 88.693125 80.401001 \nL 108.223125 80.452974 \nL 127.753125 80.881752 \n\" clip-path=\"url(#p969a311eb6)\" style=\"fill: none; stroke-dasharray: 9.6,2.4,1.5,2.4; stroke-dashoffset: 0; stroke: #2ca02c; stroke-width: 1.5\"/>\n   </g>\n   <g id=\"line2d_71\">\n    <path d=\"M 34.923295 13.5 \nL 44.646742 91.053361 \nL 54.370189 105.546429 \nL 64.093636 113.703369 \nL 73.817082 118.73901 \nL 83.540529 122.729688 \nL 93.263976 125.892756 \nL 102.987423 127.226125 \nL 112.71087 128.133181 \nL 122.434316 130.807527 \nL 132.157763 132.343242 \nL 141.88121 132.928883 \n\" clip-path=\"url(#p969a311eb6)\" style=\"fill: none; stroke: #1f77b4; stroke-width: 1.5; stroke-linecap: square\"/>\n   </g>\n   <g id=\"line2d_72\">\n    <path d=\"M 49.633125 95.885089 \nL 69.163125 112.1508 \nL 88.693125 123.560657 \nL 108.223125 124.201403 \nL 127.753125 124.112279 \n\" clip-path=\"url(#p969a311eb6)\" style=\"fill: none; stroke-dasharray: 5.55,2.4; stroke-dashoffset: 0; stroke: #ff7f0e; stroke-width: 1.5\"/>\n   </g>\n   <g id=\"line2d_73\">\n    <path d=\"M 49.633125 89.574257 \nL 69.163125 85.858179 \nL 88.693125 80.401001 \nL 108.223125 80.452974 \nL 127.753125 80.881752 \n\" clip-path=\"url(#p969a311eb6)\" style=\"fill: none; stroke-dasharray: 9.6,2.4,1.5,2.4; stroke-dashoffset: 0; stroke: #2ca02c; stroke-width: 1.5\"/>\n   </g>\n   <g id=\"line2d_74\">\n    <path d=\"M 34.923295 13.5 \nL 44.646742 91.053361 \nL 54.370189 105.546429 \nL 64.093636 113.703369 \nL 73.817082 118.73901 \nL 83.540529 122.729688 \nL 93.263976 125.892756 \nL 102.987423 127.226125 \nL 112.71087 128.133181 \nL 122.434316 130.807527 \nL 132.157763 132.343242 \nL 141.88121 132.928883 \n\" clip-path=\"url(#p969a311eb6)\" style=\"fill: none; stroke: #1f77b4; stroke-width: 1.5; stroke-linecap: square\"/>\n   </g>\n   <g id=\"line2d_75\">\n    <path d=\"M 49.633125 95.885089 \nL 69.163125 112.1508 \nL 88.693125 123.560657 \nL 108.223125 124.201403 \nL 127.753125 124.112279 \nL 147.283125 125.515098 \n\" clip-path=\"url(#p969a311eb6)\" style=\"fill: none; stroke-dasharray: 5.55,2.4; stroke-dashoffset: 0; stroke: #ff7f0e; stroke-width: 1.5\"/>\n   </g>\n   <g id=\"line2d_76\">\n    <path d=\"M 49.633125 89.574257 \nL 69.163125 85.858179 \nL 88.693125 80.401001 \nL 108.223125 80.452974 \nL 127.753125 80.881752 \n\" clip-path=\"url(#p969a311eb6)\" style=\"fill: none; stroke-dasharray: 9.6,2.4,1.5,2.4; stroke-dashoffset: 0; stroke: #2ca02c; stroke-width: 1.5\"/>\n   </g>\n   <g id=\"line2d_77\">\n    <path d=\"M 34.923295 13.5 \nL 44.646742 91.053361 \nL 54.370189 105.546429 \nL 64.093636 113.703369 \nL 73.817082 118.73901 \nL 83.540529 122.729688 \nL 93.263976 125.892756 \nL 102.987423 127.226125 \nL 112.71087 128.133181 \nL 122.434316 130.807527 \nL 132.157763 132.343242 \nL 141.88121 132.928883 \n\" clip-path=\"url(#p969a311eb6)\" style=\"fill: none; stroke: #1f77b4; stroke-width: 1.5; stroke-linecap: square\"/>\n   </g>\n   <g id=\"line2d_78\">\n    <path d=\"M 49.633125 95.885089 \nL 69.163125 112.1508 \nL 88.693125 123.560657 \nL 108.223125 124.201403 \nL 127.753125 124.112279 \nL 147.283125 125.515098 \n\" clip-path=\"url(#p969a311eb6)\" style=\"fill: none; stroke-dasharray: 5.55,2.4; stroke-dashoffset: 0; stroke: #ff7f0e; stroke-width: 1.5\"/>\n   </g>\n   <g id=\"line2d_79\">\n    <path d=\"M 49.633125 89.574257 \nL 69.163125 85.858179 \nL 88.693125 80.401001 \nL 108.223125 80.452974 \nL 127.753125 80.881752 \nL 147.283125 80.439981 \n\" clip-path=\"url(#p969a311eb6)\" style=\"fill: none; stroke-dasharray: 9.6,2.4,1.5,2.4; stroke-dashoffset: 0; stroke: #2ca02c; stroke-width: 1.5\"/>\n   </g>\n   <g id=\"line2d_80\">\n    <path d=\"M 34.923295 13.5 \nL 44.646742 91.053361 \nL 54.370189 105.546429 \nL 64.093636 113.703369 \nL 73.817082 118.73901 \nL 83.540529 122.729688 \nL 93.263976 125.892756 \nL 102.987423 127.226125 \nL 112.71087 128.133181 \nL 122.434316 130.807527 \nL 132.157763 132.343242 \nL 141.88121 132.928883 \nL 151.604657 134.567844 \n\" clip-path=\"url(#p969a311eb6)\" style=\"fill: none; stroke: #1f77b4; stroke-width: 1.5; stroke-linecap: square\"/>\n   </g>\n   <g id=\"line2d_81\">\n    <path d=\"M 49.633125 95.885089 \nL 69.163125 112.1508 \nL 88.693125 123.560657 \nL 108.223125 124.201403 \nL 127.753125 124.112279 \nL 147.283125 125.515098 \n\" clip-path=\"url(#p969a311eb6)\" style=\"fill: none; stroke-dasharray: 5.55,2.4; stroke-dashoffset: 0; stroke: #ff7f0e; stroke-width: 1.5\"/>\n   </g>\n   <g id=\"line2d_82\">\n    <path d=\"M 49.633125 89.574257 \nL 69.163125 85.858179 \nL 88.693125 80.401001 \nL 108.223125 80.452974 \nL 127.753125 80.881752 \nL 147.283125 80.439981 \n\" clip-path=\"url(#p969a311eb6)\" style=\"fill: none; stroke-dasharray: 9.6,2.4,1.5,2.4; stroke-dashoffset: 0; stroke: #2ca02c; stroke-width: 1.5\"/>\n   </g>\n   <g id=\"line2d_83\">\n    <path d=\"M 34.923295 13.5 \nL 44.646742 91.053361 \nL 54.370189 105.546429 \nL 64.093636 113.703369 \nL 73.817082 118.73901 \nL 83.540529 122.729688 \nL 93.263976 125.892756 \nL 102.987423 127.226125 \nL 112.71087 128.133181 \nL 122.434316 130.807527 \nL 132.157763 132.343242 \nL 141.88121 132.928883 \nL 151.604657 134.567844 \nL 161.328104 134.800413 \n\" clip-path=\"url(#p969a311eb6)\" style=\"fill: none; stroke: #1f77b4; stroke-width: 1.5; stroke-linecap: square\"/>\n   </g>\n   <g id=\"line2d_84\">\n    <path d=\"M 49.633125 95.885089 \nL 69.163125 112.1508 \nL 88.693125 123.560657 \nL 108.223125 124.201403 \nL 127.753125 124.112279 \nL 147.283125 125.515098 \n\" clip-path=\"url(#p969a311eb6)\" style=\"fill: none; stroke-dasharray: 5.55,2.4; stroke-dashoffset: 0; stroke: #ff7f0e; stroke-width: 1.5\"/>\n   </g>\n   <g id=\"line2d_85\">\n    <path d=\"M 49.633125 89.574257 \nL 69.163125 85.858179 \nL 88.693125 80.401001 \nL 108.223125 80.452974 \nL 127.753125 80.881752 \nL 147.283125 80.439981 \n\" clip-path=\"url(#p969a311eb6)\" style=\"fill: none; stroke-dasharray: 9.6,2.4,1.5,2.4; stroke-dashoffset: 0; stroke: #2ca02c; stroke-width: 1.5\"/>\n   </g>\n   <g id=\"line2d_86\">\n    <path d=\"M 34.923295 13.5 \nL 44.646742 91.053361 \nL 54.370189 105.546429 \nL 64.093636 113.703369 \nL 73.817082 118.73901 \nL 83.540529 122.729688 \nL 93.263976 125.892756 \nL 102.987423 127.226125 \nL 112.71087 128.133181 \nL 122.434316 130.807527 \nL 132.157763 132.343242 \nL 141.88121 132.928883 \nL 151.604657 134.567844 \nL 161.328104 134.800413 \n\" clip-path=\"url(#p969a311eb6)\" style=\"fill: none; stroke: #1f77b4; stroke-width: 1.5; stroke-linecap: square\"/>\n   </g>\n   <g id=\"line2d_87\">\n    <path d=\"M 49.633125 95.885089 \nL 69.163125 112.1508 \nL 88.693125 123.560657 \nL 108.223125 124.201403 \nL 127.753125 124.112279 \nL 147.283125 125.515098 \nL 166.813125 131.427727 \n\" clip-path=\"url(#p969a311eb6)\" style=\"fill: none; stroke-dasharray: 5.55,2.4; stroke-dashoffset: 0; stroke: #ff7f0e; stroke-width: 1.5\"/>\n   </g>\n   <g id=\"line2d_88\">\n    <path d=\"M 49.633125 89.574257 \nL 69.163125 85.858179 \nL 88.693125 80.401001 \nL 108.223125 80.452974 \nL 127.753125 80.881752 \nL 147.283125 80.439981 \n\" clip-path=\"url(#p969a311eb6)\" style=\"fill: none; stroke-dasharray: 9.6,2.4,1.5,2.4; stroke-dashoffset: 0; stroke: #2ca02c; stroke-width: 1.5\"/>\n   </g>\n   <g id=\"line2d_89\">\n    <path d=\"M 34.923295 13.5 \nL 44.646742 91.053361 \nL 54.370189 105.546429 \nL 64.093636 113.703369 \nL 73.817082 118.73901 \nL 83.540529 122.729688 \nL 93.263976 125.892756 \nL 102.987423 127.226125 \nL 112.71087 128.133181 \nL 122.434316 130.807527 \nL 132.157763 132.343242 \nL 141.88121 132.928883 \nL 151.604657 134.567844 \nL 161.328104 134.800413 \n\" clip-path=\"url(#p969a311eb6)\" style=\"fill: none; stroke: #1f77b4; stroke-width: 1.5; stroke-linecap: square\"/>\n   </g>\n   <g id=\"line2d_90\">\n    <path d=\"M 49.633125 95.885089 \nL 69.163125 112.1508 \nL 88.693125 123.560657 \nL 108.223125 124.201403 \nL 127.753125 124.112279 \nL 147.283125 125.515098 \nL 166.813125 131.427727 \n\" clip-path=\"url(#p969a311eb6)\" style=\"fill: none; stroke-dasharray: 5.55,2.4; stroke-dashoffset: 0; stroke: #ff7f0e; stroke-width: 1.5\"/>\n   </g>\n   <g id=\"line2d_91\">\n    <path d=\"M 49.633125 89.574257 \nL 69.163125 85.858179 \nL 88.693125 80.401001 \nL 108.223125 80.452974 \nL 127.753125 80.881752 \nL 147.283125 80.439981 \nL 166.813125 78.010237 \n\" clip-path=\"url(#p969a311eb6)\" style=\"fill: none; stroke-dasharray: 9.6,2.4,1.5,2.4; stroke-dashoffset: 0; stroke: #2ca02c; stroke-width: 1.5\"/>\n   </g>\n   <g id=\"line2d_92\">\n    <path d=\"M 34.923295 13.5 \nL 44.646742 91.053361 \nL 54.370189 105.546429 \nL 64.093636 113.703369 \nL 73.817082 118.73901 \nL 83.540529 122.729688 \nL 93.263976 125.892756 \nL 102.987423 127.226125 \nL 112.71087 128.133181 \nL 122.434316 130.807527 \nL 132.157763 132.343242 \nL 141.88121 132.928883 \nL 151.604657 134.567844 \nL 161.328104 134.800413 \nL 171.051551 136.103967 \n\" clip-path=\"url(#p969a311eb6)\" style=\"fill: none; stroke: #1f77b4; stroke-width: 1.5; stroke-linecap: square\"/>\n   </g>\n   <g id=\"line2d_93\">\n    <path d=\"M 49.633125 95.885089 \nL 69.163125 112.1508 \nL 88.693125 123.560657 \nL 108.223125 124.201403 \nL 127.753125 124.112279 \nL 147.283125 125.515098 \nL 166.813125 131.427727 \n\" clip-path=\"url(#p969a311eb6)\" style=\"fill: none; stroke-dasharray: 5.55,2.4; stroke-dashoffset: 0; stroke: #ff7f0e; stroke-width: 1.5\"/>\n   </g>\n   <g id=\"line2d_94\">\n    <path d=\"M 49.633125 89.574257 \nL 69.163125 85.858179 \nL 88.693125 80.401001 \nL 108.223125 80.452974 \nL 127.753125 80.881752 \nL 147.283125 80.439981 \nL 166.813125 78.010237 \n\" clip-path=\"url(#p969a311eb6)\" style=\"fill: none; stroke-dasharray: 9.6,2.4,1.5,2.4; stroke-dashoffset: 0; stroke: #2ca02c; stroke-width: 1.5\"/>\n   </g>\n   <g id=\"line2d_95\">\n    <path d=\"M 34.923295 13.5 \nL 44.646742 91.053361 \nL 54.370189 105.546429 \nL 64.093636 113.703369 \nL 73.817082 118.73901 \nL 83.540529 122.729688 \nL 93.263976 125.892756 \nL 102.987423 127.226125 \nL 112.71087 128.133181 \nL 122.434316 130.807527 \nL 132.157763 132.343242 \nL 141.88121 132.928883 \nL 151.604657 134.567844 \nL 161.328104 134.800413 \nL 171.051551 136.103967 \nL 180.774997 136.032656 \n\" clip-path=\"url(#p969a311eb6)\" style=\"fill: none; stroke: #1f77b4; stroke-width: 1.5; stroke-linecap: square\"/>\n   </g>\n   <g id=\"line2d_96\">\n    <path d=\"M 49.633125 95.885089 \nL 69.163125 112.1508 \nL 88.693125 123.560657 \nL 108.223125 124.201403 \nL 127.753125 124.112279 \nL 147.283125 125.515098 \nL 166.813125 131.427727 \n\" clip-path=\"url(#p969a311eb6)\" style=\"fill: none; stroke-dasharray: 5.55,2.4; stroke-dashoffset: 0; stroke: #ff7f0e; stroke-width: 1.5\"/>\n   </g>\n   <g id=\"line2d_97\">\n    <path d=\"M 49.633125 89.574257 \nL 69.163125 85.858179 \nL 88.693125 80.401001 \nL 108.223125 80.452974 \nL 127.753125 80.881752 \nL 147.283125 80.439981 \nL 166.813125 78.010237 \n\" clip-path=\"url(#p969a311eb6)\" style=\"fill: none; stroke-dasharray: 9.6,2.4,1.5,2.4; stroke-dashoffset: 0; stroke: #2ca02c; stroke-width: 1.5\"/>\n   </g>\n   <g id=\"line2d_98\">\n    <path d=\"M 34.923295 13.5 \nL 44.646742 91.053361 \nL 54.370189 105.546429 \nL 64.093636 113.703369 \nL 73.817082 118.73901 \nL 83.540529 122.729688 \nL 93.263976 125.892756 \nL 102.987423 127.226125 \nL 112.71087 128.133181 \nL 122.434316 130.807527 \nL 132.157763 132.343242 \nL 141.88121 132.928883 \nL 151.604657 134.567844 \nL 161.328104 134.800413 \nL 171.051551 136.103967 \nL 180.774997 136.032656 \n\" clip-path=\"url(#p969a311eb6)\" style=\"fill: none; stroke: #1f77b4; stroke-width: 1.5; stroke-linecap: square\"/>\n   </g>\n   <g id=\"line2d_99\">\n    <path d=\"M 49.633125 95.885089 \nL 69.163125 112.1508 \nL 88.693125 123.560657 \nL 108.223125 124.201403 \nL 127.753125 124.112279 \nL 147.283125 125.515098 \nL 166.813125 131.427727 \nL 186.343125 130.719205 \n\" clip-path=\"url(#p969a311eb6)\" style=\"fill: none; stroke-dasharray: 5.55,2.4; stroke-dashoffset: 0; stroke: #ff7f0e; stroke-width: 1.5\"/>\n   </g>\n   <g id=\"line2d_100\">\n    <path d=\"M 49.633125 89.574257 \nL 69.163125 85.858179 \nL 88.693125 80.401001 \nL 108.223125 80.452974 \nL 127.753125 80.881752 \nL 147.283125 80.439981 \nL 166.813125 78.010237 \n\" clip-path=\"url(#p969a311eb6)\" style=\"fill: none; stroke-dasharray: 9.6,2.4,1.5,2.4; stroke-dashoffset: 0; stroke: #2ca02c; stroke-width: 1.5\"/>\n   </g>\n   <g id=\"line2d_101\">\n    <path d=\"M 34.923295 13.5 \nL 44.646742 91.053361 \nL 54.370189 105.546429 \nL 64.093636 113.703369 \nL 73.817082 118.73901 \nL 83.540529 122.729688 \nL 93.263976 125.892756 \nL 102.987423 127.226125 \nL 112.71087 128.133181 \nL 122.434316 130.807527 \nL 132.157763 132.343242 \nL 141.88121 132.928883 \nL 151.604657 134.567844 \nL 161.328104 134.800413 \nL 171.051551 136.103967 \nL 180.774997 136.032656 \n\" clip-path=\"url(#p969a311eb6)\" style=\"fill: none; stroke: #1f77b4; stroke-width: 1.5; stroke-linecap: square\"/>\n   </g>\n   <g id=\"line2d_102\">\n    <path d=\"M 49.633125 95.885089 \nL 69.163125 112.1508 \nL 88.693125 123.560657 \nL 108.223125 124.201403 \nL 127.753125 124.112279 \nL 147.283125 125.515098 \nL 166.813125 131.427727 \nL 186.343125 130.719205 \n\" clip-path=\"url(#p969a311eb6)\" style=\"fill: none; stroke-dasharray: 5.55,2.4; stroke-dashoffset: 0; stroke: #ff7f0e; stroke-width: 1.5\"/>\n   </g>\n   <g id=\"line2d_103\">\n    <path d=\"M 49.633125 89.574257 \nL 69.163125 85.858179 \nL 88.693125 80.401001 \nL 108.223125 80.452974 \nL 127.753125 80.881752 \nL 147.283125 80.439981 \nL 166.813125 78.010237 \nL 186.343125 78.374049 \n\" clip-path=\"url(#p969a311eb6)\" style=\"fill: none; stroke-dasharray: 9.6,2.4,1.5,2.4; stroke-dashoffset: 0; stroke: #2ca02c; stroke-width: 1.5\"/>\n   </g>\n   <g id=\"line2d_104\">\n    <path d=\"M 34.923295 13.5 \nL 44.646742 91.053361 \nL 54.370189 105.546429 \nL 64.093636 113.703369 \nL 73.817082 118.73901 \nL 83.540529 122.729688 \nL 93.263976 125.892756 \nL 102.987423 127.226125 \nL 112.71087 128.133181 \nL 122.434316 130.807527 \nL 132.157763 132.343242 \nL 141.88121 132.928883 \nL 151.604657 134.567844 \nL 161.328104 134.800413 \nL 171.051551 136.103967 \nL 180.774997 136.032656 \nL 190.498444 138.426592 \n\" clip-path=\"url(#p969a311eb6)\" style=\"fill: none; stroke: #1f77b4; stroke-width: 1.5; stroke-linecap: square\"/>\n   </g>\n   <g id=\"line2d_105\">\n    <path d=\"M 49.633125 95.885089 \nL 69.163125 112.1508 \nL 88.693125 123.560657 \nL 108.223125 124.201403 \nL 127.753125 124.112279 \nL 147.283125 125.515098 \nL 166.813125 131.427727 \nL 186.343125 130.719205 \n\" clip-path=\"url(#p969a311eb6)\" style=\"fill: none; stroke-dasharray: 5.55,2.4; stroke-dashoffset: 0; stroke: #ff7f0e; stroke-width: 1.5\"/>\n   </g>\n   <g id=\"line2d_106\">\n    <path d=\"M 49.633125 89.574257 \nL 69.163125 85.858179 \nL 88.693125 80.401001 \nL 108.223125 80.452974 \nL 127.753125 80.881752 \nL 147.283125 80.439981 \nL 166.813125 78.010237 \nL 186.343125 78.374049 \n\" clip-path=\"url(#p969a311eb6)\" style=\"fill: none; stroke-dasharray: 9.6,2.4,1.5,2.4; stroke-dashoffset: 0; stroke: #2ca02c; stroke-width: 1.5\"/>\n   </g>\n   <g id=\"line2d_107\">\n    <path d=\"M 34.923295 13.5 \nL 44.646742 91.053361 \nL 54.370189 105.546429 \nL 64.093636 113.703369 \nL 73.817082 118.73901 \nL 83.540529 122.729688 \nL 93.263976 125.892756 \nL 102.987423 127.226125 \nL 112.71087 128.133181 \nL 122.434316 130.807527 \nL 132.157763 132.343242 \nL 141.88121 132.928883 \nL 151.604657 134.567844 \nL 161.328104 134.800413 \nL 171.051551 136.103967 \nL 180.774997 136.032656 \nL 190.498444 138.426592 \nL 200.221891 137.856885 \n\" clip-path=\"url(#p969a311eb6)\" style=\"fill: none; stroke: #1f77b4; stroke-width: 1.5; stroke-linecap: square\"/>\n   </g>\n   <g id=\"line2d_108\">\n    <path d=\"M 49.633125 95.885089 \nL 69.163125 112.1508 \nL 88.693125 123.560657 \nL 108.223125 124.201403 \nL 127.753125 124.112279 \nL 147.283125 125.515098 \nL 166.813125 131.427727 \nL 186.343125 130.719205 \n\" clip-path=\"url(#p969a311eb6)\" style=\"fill: none; stroke-dasharray: 5.55,2.4; stroke-dashoffset: 0; stroke: #ff7f0e; stroke-width: 1.5\"/>\n   </g>\n   <g id=\"line2d_109\">\n    <path d=\"M 49.633125 89.574257 \nL 69.163125 85.858179 \nL 88.693125 80.401001 \nL 108.223125 80.452974 \nL 127.753125 80.881752 \nL 147.283125 80.439981 \nL 166.813125 78.010237 \nL 186.343125 78.374049 \n\" clip-path=\"url(#p969a311eb6)\" style=\"fill: none; stroke-dasharray: 9.6,2.4,1.5,2.4; stroke-dashoffset: 0; stroke: #2ca02c; stroke-width: 1.5\"/>\n   </g>\n   <g id=\"line2d_110\">\n    <path d=\"M 34.923295 13.5 \nL 44.646742 91.053361 \nL 54.370189 105.546429 \nL 64.093636 113.703369 \nL 73.817082 118.73901 \nL 83.540529 122.729688 \nL 93.263976 125.892756 \nL 102.987423 127.226125 \nL 112.71087 128.133181 \nL 122.434316 130.807527 \nL 132.157763 132.343242 \nL 141.88121 132.928883 \nL 151.604657 134.567844 \nL 161.328104 134.800413 \nL 171.051551 136.103967 \nL 180.774997 136.032656 \nL 190.498444 138.426592 \nL 200.221891 137.856885 \n\" clip-path=\"url(#p969a311eb6)\" style=\"fill: none; stroke: #1f77b4; stroke-width: 1.5; stroke-linecap: square\"/>\n   </g>\n   <g id=\"line2d_111\">\n    <path d=\"M 49.633125 95.885089 \nL 69.163125 112.1508 \nL 88.693125 123.560657 \nL 108.223125 124.201403 \nL 127.753125 124.112279 \nL 147.283125 125.515098 \nL 166.813125 131.427727 \nL 186.343125 130.719205 \nL 205.873125 132.562096 \n\" clip-path=\"url(#p969a311eb6)\" style=\"fill: none; stroke-dasharray: 5.55,2.4; stroke-dashoffset: 0; stroke: #ff7f0e; stroke-width: 1.5\"/>\n   </g>\n   <g id=\"line2d_112\">\n    <path d=\"M 49.633125 89.574257 \nL 69.163125 85.858179 \nL 88.693125 80.401001 \nL 108.223125 80.452974 \nL 127.753125 80.881752 \nL 147.283125 80.439981 \nL 166.813125 78.010237 \nL 186.343125 78.374049 \n\" clip-path=\"url(#p969a311eb6)\" style=\"fill: none; stroke-dasharray: 9.6,2.4,1.5,2.4; stroke-dashoffset: 0; stroke: #2ca02c; stroke-width: 1.5\"/>\n   </g>\n   <g id=\"line2d_113\">\n    <path d=\"M 34.923295 13.5 \nL 44.646742 91.053361 \nL 54.370189 105.546429 \nL 64.093636 113.703369 \nL 73.817082 118.73901 \nL 83.540529 122.729688 \nL 93.263976 125.892756 \nL 102.987423 127.226125 \nL 112.71087 128.133181 \nL 122.434316 130.807527 \nL 132.157763 132.343242 \nL 141.88121 132.928883 \nL 151.604657 134.567844 \nL 161.328104 134.800413 \nL 171.051551 136.103967 \nL 180.774997 136.032656 \nL 190.498444 138.426592 \nL 200.221891 137.856885 \n\" clip-path=\"url(#p969a311eb6)\" style=\"fill: none; stroke: #1f77b4; stroke-width: 1.5; stroke-linecap: square\"/>\n   </g>\n   <g id=\"line2d_114\">\n    <path d=\"M 49.633125 95.885089 \nL 69.163125 112.1508 \nL 88.693125 123.560657 \nL 108.223125 124.201403 \nL 127.753125 124.112279 \nL 147.283125 125.515098 \nL 166.813125 131.427727 \nL 186.343125 130.719205 \nL 205.873125 132.562096 \n\" clip-path=\"url(#p969a311eb6)\" style=\"fill: none; stroke-dasharray: 5.55,2.4; stroke-dashoffset: 0; stroke: #ff7f0e; stroke-width: 1.5\"/>\n   </g>\n   <g id=\"line2d_115\">\n    <path d=\"M 49.633125 89.574257 \nL 69.163125 85.858179 \nL 88.693125 80.401001 \nL 108.223125 80.452974 \nL 127.753125 80.881752 \nL 147.283125 80.439981 \nL 166.813125 78.010237 \nL 186.343125 78.374049 \nL 205.873125 77.815338 \n\" clip-path=\"url(#p969a311eb6)\" style=\"fill: none; stroke-dasharray: 9.6,2.4,1.5,2.4; stroke-dashoffset: 0; stroke: #2ca02c; stroke-width: 1.5\"/>\n   </g>\n   <g id=\"line2d_116\">\n    <path d=\"M 34.923295 13.5 \nL 44.646742 91.053361 \nL 54.370189 105.546429 \nL 64.093636 113.703369 \nL 73.817082 118.73901 \nL 83.540529 122.729688 \nL 93.263976 125.892756 \nL 102.987423 127.226125 \nL 112.71087 128.133181 \nL 122.434316 130.807527 \nL 132.157763 132.343242 \nL 141.88121 132.928883 \nL 151.604657 134.567844 \nL 161.328104 134.800413 \nL 171.051551 136.103967 \nL 180.774997 136.032656 \nL 190.498444 138.426592 \nL 200.221891 137.856885 \nL 209.945338 139.5 \n\" clip-path=\"url(#p969a311eb6)\" style=\"fill: none; stroke: #1f77b4; stroke-width: 1.5; stroke-linecap: square\"/>\n   </g>\n   <g id=\"line2d_117\">\n    <path d=\"M 49.633125 95.885089 \nL 69.163125 112.1508 \nL 88.693125 123.560657 \nL 108.223125 124.201403 \nL 127.753125 124.112279 \nL 147.283125 125.515098 \nL 166.813125 131.427727 \nL 186.343125 130.719205 \nL 205.873125 132.562096 \n\" clip-path=\"url(#p969a311eb6)\" style=\"fill: none; stroke-dasharray: 5.55,2.4; stroke-dashoffset: 0; stroke: #ff7f0e; stroke-width: 1.5\"/>\n   </g>\n   <g id=\"line2d_118\">\n    <path d=\"M 49.633125 89.574257 \nL 69.163125 85.858179 \nL 88.693125 80.401001 \nL 108.223125 80.452974 \nL 127.753125 80.881752 \nL 147.283125 80.439981 \nL 166.813125 78.010237 \nL 186.343125 78.374049 \nL 205.873125 77.815338 \n\" clip-path=\"url(#p969a311eb6)\" style=\"fill: none; stroke-dasharray: 9.6,2.4,1.5,2.4; stroke-dashoffset: 0; stroke: #2ca02c; stroke-width: 1.5\"/>\n   </g>\n   <g id=\"line2d_119\">\n    <path d=\"M 34.923295 13.5 \nL 44.646742 91.053361 \nL 54.370189 105.546429 \nL 64.093636 113.703369 \nL 73.817082 118.73901 \nL 83.540529 122.729688 \nL 93.263976 125.892756 \nL 102.987423 127.226125 \nL 112.71087 128.133181 \nL 122.434316 130.807527 \nL 132.157763 132.343242 \nL 141.88121 132.928883 \nL 151.604657 134.567844 \nL 161.328104 134.800413 \nL 171.051551 136.103967 \nL 180.774997 136.032656 \nL 190.498444 138.426592 \nL 200.221891 137.856885 \nL 209.945338 139.5 \nL 219.668785 139.216903 \n\" clip-path=\"url(#p969a311eb6)\" style=\"fill: none; stroke: #1f77b4; stroke-width: 1.5; stroke-linecap: square\"/>\n   </g>\n   <g id=\"line2d_120\">\n    <path d=\"M 49.633125 95.885089 \nL 69.163125 112.1508 \nL 88.693125 123.560657 \nL 108.223125 124.201403 \nL 127.753125 124.112279 \nL 147.283125 125.515098 \nL 166.813125 131.427727 \nL 186.343125 130.719205 \nL 205.873125 132.562096 \n\" clip-path=\"url(#p969a311eb6)\" style=\"fill: none; stroke-dasharray: 5.55,2.4; stroke-dashoffset: 0; stroke: #ff7f0e; stroke-width: 1.5\"/>\n   </g>\n   <g id=\"line2d_121\">\n    <path d=\"M 49.633125 89.574257 \nL 69.163125 85.858179 \nL 88.693125 80.401001 \nL 108.223125 80.452974 \nL 127.753125 80.881752 \nL 147.283125 80.439981 \nL 166.813125 78.010237 \nL 186.343125 78.374049 \nL 205.873125 77.815338 \n\" clip-path=\"url(#p969a311eb6)\" style=\"fill: none; stroke-dasharray: 9.6,2.4,1.5,2.4; stroke-dashoffset: 0; stroke: #2ca02c; stroke-width: 1.5\"/>\n   </g>\n   <g id=\"line2d_122\">\n    <path d=\"M 34.923295 13.5 \nL 44.646742 91.053361 \nL 54.370189 105.546429 \nL 64.093636 113.703369 \nL 73.817082 118.73901 \nL 83.540529 122.729688 \nL 93.263976 125.892756 \nL 102.987423 127.226125 \nL 112.71087 128.133181 \nL 122.434316 130.807527 \nL 132.157763 132.343242 \nL 141.88121 132.928883 \nL 151.604657 134.567844 \nL 161.328104 134.800413 \nL 171.051551 136.103967 \nL 180.774997 136.032656 \nL 190.498444 138.426592 \nL 200.221891 137.856885 \nL 209.945338 139.5 \nL 219.668785 139.216903 \n\" clip-path=\"url(#p969a311eb6)\" style=\"fill: none; stroke: #1f77b4; stroke-width: 1.5; stroke-linecap: square\"/>\n   </g>\n   <g id=\"line2d_123\">\n    <path d=\"M 49.633125 95.885089 \nL 69.163125 112.1508 \nL 88.693125 123.560657 \nL 108.223125 124.201403 \nL 127.753125 124.112279 \nL 147.283125 125.515098 \nL 166.813125 131.427727 \nL 186.343125 130.719205 \nL 205.873125 132.562096 \nL 225.403125 135.2778 \n\" clip-path=\"url(#p969a311eb6)\" style=\"fill: none; stroke-dasharray: 5.55,2.4; stroke-dashoffset: 0; stroke: #ff7f0e; stroke-width: 1.5\"/>\n   </g>\n   <g id=\"line2d_124\">\n    <path d=\"M 49.633125 89.574257 \nL 69.163125 85.858179 \nL 88.693125 80.401001 \nL 108.223125 80.452974 \nL 127.753125 80.881752 \nL 147.283125 80.439981 \nL 166.813125 78.010237 \nL 186.343125 78.374049 \nL 205.873125 77.815338 \n\" clip-path=\"url(#p969a311eb6)\" style=\"fill: none; stroke-dasharray: 9.6,2.4,1.5,2.4; stroke-dashoffset: 0; stroke: #2ca02c; stroke-width: 1.5\"/>\n   </g>\n   <g id=\"line2d_125\">\n    <path d=\"M 34.923295 13.5 \nL 44.646742 91.053361 \nL 54.370189 105.546429 \nL 64.093636 113.703369 \nL 73.817082 118.73901 \nL 83.540529 122.729688 \nL 93.263976 125.892756 \nL 102.987423 127.226125 \nL 112.71087 128.133181 \nL 122.434316 130.807527 \nL 132.157763 132.343242 \nL 141.88121 132.928883 \nL 151.604657 134.567844 \nL 161.328104 134.800413 \nL 171.051551 136.103967 \nL 180.774997 136.032656 \nL 190.498444 138.426592 \nL 200.221891 137.856885 \nL 209.945338 139.5 \nL 219.668785 139.216903 \n\" clip-path=\"url(#p969a311eb6)\" style=\"fill: none; stroke: #1f77b4; stroke-width: 1.5; stroke-linecap: square\"/>\n   </g>\n   <g id=\"line2d_126\">\n    <path d=\"M 49.633125 95.885089 \nL 69.163125 112.1508 \nL 88.693125 123.560657 \nL 108.223125 124.201403 \nL 127.753125 124.112279 \nL 147.283125 125.515098 \nL 166.813125 131.427727 \nL 186.343125 130.719205 \nL 205.873125 132.562096 \nL 225.403125 135.2778 \n\" clip-path=\"url(#p969a311eb6)\" style=\"fill: none; stroke-dasharray: 5.55,2.4; stroke-dashoffset: 0; stroke: #ff7f0e; stroke-width: 1.5\"/>\n   </g>\n   <g id=\"line2d_127\">\n    <path d=\"M 49.633125 89.574257 \nL 69.163125 85.858179 \nL 88.693125 80.401001 \nL 108.223125 80.452974 \nL 127.753125 80.881752 \nL 147.283125 80.439981 \nL 166.813125 78.010237 \nL 186.343125 78.374049 \nL 205.873125 77.815338 \nL 225.403125 76.736896 \n\" clip-path=\"url(#p969a311eb6)\" style=\"fill: none; stroke-dasharray: 9.6,2.4,1.5,2.4; stroke-dashoffset: 0; stroke: #2ca02c; stroke-width: 1.5\"/>\n   </g>\n   <g id=\"patch_3\">\n    <path d=\"M 30.103125 145.8 \nL 30.103125 7.2 \n\" style=\"fill: none; stroke: #000000; stroke-width: 0.8; stroke-linejoin: miter; stroke-linecap: square\"/>\n   </g>\n   <g id=\"patch_4\">\n    <path d=\"M 225.403125 145.8 \nL 225.403125 7.2 \n\" style=\"fill: none; stroke: #000000; stroke-width: 0.8; stroke-linejoin: miter; stroke-linecap: square\"/>\n   </g>\n   <g id=\"patch_5\">\n    <path d=\"M 30.103125 145.8 \nL 225.403125 145.8 \n\" style=\"fill: none; stroke: #000000; stroke-width: 0.8; stroke-linejoin: miter; stroke-linecap: square\"/>\n   </g>\n   <g id=\"patch_6\">\n    <path d=\"M 30.103125 7.2 \nL 225.403125 7.2 \n\" style=\"fill: none; stroke: #000000; stroke-width: 0.8; stroke-linejoin: miter; stroke-linecap: square\"/>\n   </g>\n   <g id=\"legend_1\">\n    <g id=\"patch_7\">\n     <path d=\"M 138.8125 60.06875 \nL 218.403125 60.06875 \nQ 220.403125 60.06875 220.403125 58.06875 \nL 220.403125 14.2 \nQ 220.403125 12.2 218.403125 12.2 \nL 138.8125 12.2 \nQ 136.8125 12.2 136.8125 14.2 \nL 136.8125 58.06875 \nQ 136.8125 60.06875 138.8125 60.06875 \nz\n\" style=\"fill: #ffffff; opacity: 0.8; stroke: #cccccc; stroke-linejoin: miter\"/>\n    </g>\n    <g id=\"line2d_128\">\n     <path d=\"M 140.8125 20.298438 \nL 150.8125 20.298438 \nL 160.8125 20.298438 \n\" style=\"fill: none; stroke: #1f77b4; stroke-width: 1.5; stroke-linecap: square\"/>\n    </g>\n    <g id=\"text_13\">\n     <!-- train_loss -->\n     <g transform=\"translate(168.8125 23.798438) scale(0.1 -0.1)\">\n      <defs>\n       <path id=\"DejaVuSans-74\" d=\"M 1172 4494 \nL 1172 3500 \nL 2356 3500 \nL 2356 3053 \nL 1172 3053 \nL 1172 1153 \nQ 1172 725 1289 603 \nQ 1406 481 1766 481 \nL 2356 481 \nL 2356 0 \nL 1766 0 \nQ 1100 0 847 248 \nQ 594 497 594 1153 \nL 594 3053 \nL 172 3053 \nL 172 3500 \nL 594 3500 \nL 594 4494 \nL 1172 4494 \nz\n\" transform=\"scale(0.015625)\"/>\n       <path id=\"DejaVuSans-72\" d=\"M 2631 2963 \nQ 2534 3019 2420 3045 \nQ 2306 3072 2169 3072 \nQ 1681 3072 1420 2755 \nQ 1159 2438 1159 1844 \nL 1159 0 \nL 581 0 \nL 581 3500 \nL 1159 3500 \nL 1159 2956 \nQ 1341 3275 1631 3429 \nQ 1922 3584 2338 3584 \nQ 2397 3584 2469 3576 \nQ 2541 3569 2628 3553 \nL 2631 2963 \nz\n\" transform=\"scale(0.015625)\"/>\n       <path id=\"DejaVuSans-61\" d=\"M 2194 1759 \nQ 1497 1759 1228 1600 \nQ 959 1441 959 1056 \nQ 959 750 1161 570 \nQ 1363 391 1709 391 \nQ 2188 391 2477 730 \nQ 2766 1069 2766 1631 \nL 2766 1759 \nL 2194 1759 \nz\nM 3341 1997 \nL 3341 0 \nL 2766 0 \nL 2766 531 \nQ 2569 213 2275 61 \nQ 1981 -91 1556 -91 \nQ 1019 -91 701 211 \nQ 384 513 384 1019 \nQ 384 1609 779 1909 \nQ 1175 2209 1959 2209 \nL 2766 2209 \nL 2766 2266 \nQ 2766 2663 2505 2880 \nQ 2244 3097 1772 3097 \nQ 1472 3097 1187 3025 \nQ 903 2953 641 2809 \nL 641 3341 \nQ 956 3463 1253 3523 \nQ 1550 3584 1831 3584 \nQ 2591 3584 2966 3190 \nQ 3341 2797 3341 1997 \nz\n\" transform=\"scale(0.015625)\"/>\n       <path id=\"DejaVuSans-69\" d=\"M 603 3500 \nL 1178 3500 \nL 1178 0 \nL 603 0 \nL 603 3500 \nz\nM 603 4863 \nL 1178 4863 \nL 1178 4134 \nL 603 4134 \nL 603 4863 \nz\n\" transform=\"scale(0.015625)\"/>\n       <path id=\"DejaVuSans-6e\" d=\"M 3513 2113 \nL 3513 0 \nL 2938 0 \nL 2938 2094 \nQ 2938 2591 2744 2837 \nQ 2550 3084 2163 3084 \nQ 1697 3084 1428 2787 \nQ 1159 2491 1159 1978 \nL 1159 0 \nL 581 0 \nL 581 3500 \nL 1159 3500 \nL 1159 2956 \nQ 1366 3272 1645 3428 \nQ 1925 3584 2291 3584 \nQ 2894 3584 3203 3211 \nQ 3513 2838 3513 2113 \nz\n\" transform=\"scale(0.015625)\"/>\n       <path id=\"DejaVuSans-5f\" d=\"M 3263 -1063 \nL 3263 -1509 \nL -63 -1509 \nL -63 -1063 \nL 3263 -1063 \nz\n\" transform=\"scale(0.015625)\"/>\n       <path id=\"DejaVuSans-6c\" d=\"M 603 4863 \nL 1178 4863 \nL 1178 0 \nL 603 0 \nL 603 4863 \nz\n\" transform=\"scale(0.015625)\"/>\n       <path id=\"DejaVuSans-73\" d=\"M 2834 3397 \nL 2834 2853 \nQ 2591 2978 2328 3040 \nQ 2066 3103 1784 3103 \nQ 1356 3103 1142 2972 \nQ 928 2841 928 2578 \nQ 928 2378 1081 2264 \nQ 1234 2150 1697 2047 \nL 1894 2003 \nQ 2506 1872 2764 1633 \nQ 3022 1394 3022 966 \nQ 3022 478 2636 193 \nQ 2250 -91 1575 -91 \nQ 1294 -91 989 -36 \nQ 684 19 347 128 \nL 347 722 \nQ 666 556 975 473 \nQ 1284 391 1588 391 \nQ 1994 391 2212 530 \nQ 2431 669 2431 922 \nQ 2431 1156 2273 1281 \nQ 2116 1406 1581 1522 \nL 1381 1569 \nQ 847 1681 609 1914 \nQ 372 2147 372 2553 \nQ 372 3047 722 3315 \nQ 1072 3584 1716 3584 \nQ 2034 3584 2315 3537 \nQ 2597 3491 2834 3397 \nz\n\" transform=\"scale(0.015625)\"/>\n      </defs>\n      <use xlink:href=\"#DejaVuSans-74\"/>\n      <use xlink:href=\"#DejaVuSans-72\" x=\"39.208984\"/>\n      <use xlink:href=\"#DejaVuSans-61\" x=\"80.322266\"/>\n      <use xlink:href=\"#DejaVuSans-69\" x=\"141.601562\"/>\n      <use xlink:href=\"#DejaVuSans-6e\" x=\"169.384766\"/>\n      <use xlink:href=\"#DejaVuSans-5f\" x=\"232.763672\"/>\n      <use xlink:href=\"#DejaVuSans-6c\" x=\"282.763672\"/>\n      <use xlink:href=\"#DejaVuSans-6f\" x=\"310.546875\"/>\n      <use xlink:href=\"#DejaVuSans-73\" x=\"371.728516\"/>\n      <use xlink:href=\"#DejaVuSans-73\" x=\"423.828125\"/>\n     </g>\n    </g>\n    <g id=\"line2d_129\">\n     <path d=\"M 140.8125 35.254688 \nL 150.8125 35.254688 \nL 160.8125 35.254688 \n\" style=\"fill: none; stroke-dasharray: 5.55,2.4; stroke-dashoffset: 0; stroke: #ff7f0e; stroke-width: 1.5\"/>\n    </g>\n    <g id=\"text_14\">\n     <!-- val_loss -->\n     <g transform=\"translate(168.8125 38.754688) scale(0.1 -0.1)\">\n      <defs>\n       <path id=\"DejaVuSans-76\" d=\"M 191 3500 \nL 800 3500 \nL 1894 563 \nL 2988 3500 \nL 3597 3500 \nL 2284 0 \nL 1503 0 \nL 191 3500 \nz\n\" transform=\"scale(0.015625)\"/>\n      </defs>\n      <use xlink:href=\"#DejaVuSans-76\"/>\n      <use xlink:href=\"#DejaVuSans-61\" x=\"59.179688\"/>\n      <use xlink:href=\"#DejaVuSans-6c\" x=\"120.458984\"/>\n      <use xlink:href=\"#DejaVuSans-5f\" x=\"148.242188\"/>\n      <use xlink:href=\"#DejaVuSans-6c\" x=\"198.242188\"/>\n      <use xlink:href=\"#DejaVuSans-6f\" x=\"226.025391\"/>\n      <use xlink:href=\"#DejaVuSans-73\" x=\"287.207031\"/>\n      <use xlink:href=\"#DejaVuSans-73\" x=\"339.306641\"/>\n     </g>\n    </g>\n    <g id=\"line2d_130\">\n     <path d=\"M 140.8125 50.210938 \nL 150.8125 50.210938 \nL 160.8125 50.210938 \n\" style=\"fill: none; stroke-dasharray: 9.6,2.4,1.5,2.4; stroke-dashoffset: 0; stroke: #2ca02c; stroke-width: 1.5\"/>\n    </g>\n    <g id=\"text_15\">\n     <!-- val_acc -->\n     <g transform=\"translate(168.8125 53.710938) scale(0.1 -0.1)\">\n      <use xlink:href=\"#DejaVuSans-76\"/>\n      <use xlink:href=\"#DejaVuSans-61\" x=\"59.179688\"/>\n      <use xlink:href=\"#DejaVuSans-6c\" x=\"120.458984\"/>\n      <use xlink:href=\"#DejaVuSans-5f\" x=\"148.242188\"/>\n      <use xlink:href=\"#DejaVuSans-61\" x=\"198.242188\"/>\n      <use xlink:href=\"#DejaVuSans-63\" x=\"259.521484\"/>\n      <use xlink:href=\"#DejaVuSans-63\" x=\"314.501953\"/>\n     </g>\n    </g>\n   </g>\n  </g>\n </g>\n <defs>\n  <clipPath id=\"p969a311eb6\">\n   <rect x=\"30.103125\" y=\"7.2\" width=\"195.3\" height=\"138.6\"/>\n  </clipPath>\n </defs>\n</svg>\n"
          },
          "metadata": {}
        }
      ]
    },
    {
      "cell_type": "markdown",
      "source": [
        "### 5.2.2.concise implementation"
      ],
      "metadata": {
        "id": "CSQHXd8_Myc3"
      },
      "id": "CSQHXd8_Myc3"
    },
    {
      "cell_type": "markdown",
      "source": [
        "#### 5.2.2.1.model"
      ],
      "metadata": {
        "id": "gXjrIgijM3Sa"
      },
      "id": "gXjrIgijM3Sa"
    },
    {
      "cell_type": "code",
      "source": [
        "class MLP(d2l.Classifier):\n",
        "    def __init__(self, num_outputs, num_hiddens, lr):\n",
        "        super().__init__()\n",
        "        self.save_hyperparameters()\n",
        "        self.net = nn.Sequential(nn.Flatten(), nn.LazyLinear(num_hiddens),\n",
        "                                 nn.ReLU(), nn.LazyLinear(num_outputs))"
      ],
      "metadata": {
        "id": "gz1j-NoIMxcJ"
      },
      "id": "gz1j-NoIMxcJ",
      "execution_count": 68,
      "outputs": []
    },
    {
      "cell_type": "markdown",
      "source": [
        "#### 5.2.2.2.training"
      ],
      "metadata": {
        "id": "ew2SwUfNM53W"
      },
      "id": "ew2SwUfNM53W"
    },
    {
      "cell_type": "code",
      "source": [
        "model = MLP(num_outputs=10, num_hiddens=256, lr=0.1)\n",
        "trainer.fit(model, data)"
      ],
      "metadata": {
        "colab": {
          "base_uri": "https://localhost:8080/",
          "height": 265
        },
        "id": "tNmKMJsTM5VK",
        "outputId": "d40d2ed8-087f-4d21-90de-d48d952808b0"
      },
      "id": "tNmKMJsTM5VK",
      "execution_count": 69,
      "outputs": [
        {
          "output_type": "display_data",
          "data": {
            "text/plain": [
              "<Figure size 350x250 with 1 Axes>"
            ],
            "image/svg+xml": "<?xml version=\"1.0\" encoding=\"utf-8\" standalone=\"no\"?>\n<!DOCTYPE svg PUBLIC \"-//W3C//DTD SVG 1.1//EN\"\n  \"http://www.w3.org/Graphics/SVG/1.1/DTD/svg11.dtd\">\n<svg xmlns:xlink=\"http://www.w3.org/1999/xlink\" width=\"238.965625pt\" height=\"183.35625pt\" viewBox=\"0 0 238.965625 183.35625\" xmlns=\"http://www.w3.org/2000/svg\" version=\"1.1\">\n <metadata>\n  <rdf:RDF xmlns:dc=\"http://purl.org/dc/elements/1.1/\" xmlns:cc=\"http://creativecommons.org/ns#\" xmlns:rdf=\"http://www.w3.org/1999/02/22-rdf-syntax-ns#\">\n   <cc:Work>\n    <dc:type rdf:resource=\"http://purl.org/dc/dcmitype/StillImage\"/>\n    <dc:date>2024-09-24T04:09:28.384394</dc:date>\n    <dc:format>image/svg+xml</dc:format>\n    <dc:creator>\n     <cc:Agent>\n      <dc:title>Matplotlib v3.7.2, https://matplotlib.org/</dc:title>\n     </cc:Agent>\n    </dc:creator>\n   </cc:Work>\n  </rdf:RDF>\n </metadata>\n <defs>\n  <style type=\"text/css\">*{stroke-linejoin: round; stroke-linecap: butt}</style>\n </defs>\n <g id=\"figure_1\">\n  <g id=\"patch_1\">\n   <path d=\"M 0 183.35625 \nL 238.965625 183.35625 \nL 238.965625 0 \nL 0 0 \nz\n\" style=\"fill: #ffffff\"/>\n  </g>\n  <g id=\"axes_1\">\n   <g id=\"patch_2\">\n    <path d=\"M 30.103125 145.8 \nL 225.403125 145.8 \nL 225.403125 7.2 \nL 30.103125 7.2 \nz\n\" style=\"fill: #ffffff\"/>\n   </g>\n   <g id=\"matplotlib.axis_1\">\n    <g id=\"xtick_1\">\n     <g id=\"line2d_1\">\n      <defs>\n       <path id=\"mef19b5e009\" d=\"M 0 0 \nL 0 3.5 \n\" style=\"stroke: #000000; stroke-width: 0.8\"/>\n      </defs>\n      <g>\n       <use xlink:href=\"#mef19b5e009\" x=\"30.103125\" y=\"145.8\" style=\"stroke: #000000; stroke-width: 0.8\"/>\n      </g>\n     </g>\n     <g id=\"text_1\">\n      <!-- 0 -->\n      <g transform=\"translate(26.921875 160.398438) scale(0.1 -0.1)\">\n       <defs>\n        <path id=\"DejaVuSans-30\" d=\"M 2034 4250 \nQ 1547 4250 1301 3770 \nQ 1056 3291 1056 2328 \nQ 1056 1369 1301 889 \nQ 1547 409 2034 409 \nQ 2525 409 2770 889 \nQ 3016 1369 3016 2328 \nQ 3016 3291 2770 3770 \nQ 2525 4250 2034 4250 \nz\nM 2034 4750 \nQ 2819 4750 3233 4129 \nQ 3647 3509 3647 2328 \nQ 3647 1150 3233 529 \nQ 2819 -91 2034 -91 \nQ 1250 -91 836 529 \nQ 422 1150 422 2328 \nQ 422 3509 836 4129 \nQ 1250 4750 2034 4750 \nz\n\" transform=\"scale(0.015625)\"/>\n       </defs>\n       <use xlink:href=\"#DejaVuSans-30\"/>\n      </g>\n     </g>\n    </g>\n    <g id=\"xtick_2\">\n     <g id=\"line2d_2\">\n      <g>\n       <use xlink:href=\"#mef19b5e009\" x=\"69.163125\" y=\"145.8\" style=\"stroke: #000000; stroke-width: 0.8\"/>\n      </g>\n     </g>\n     <g id=\"text_2\">\n      <!-- 2 -->\n      <g transform=\"translate(65.981875 160.398438) scale(0.1 -0.1)\">\n       <defs>\n        <path id=\"DejaVuSans-32\" d=\"M 1228 531 \nL 3431 531 \nL 3431 0 \nL 469 0 \nL 469 531 \nQ 828 903 1448 1529 \nQ 2069 2156 2228 2338 \nQ 2531 2678 2651 2914 \nQ 2772 3150 2772 3378 \nQ 2772 3750 2511 3984 \nQ 2250 4219 1831 4219 \nQ 1534 4219 1204 4116 \nQ 875 4013 500 3803 \nL 500 4441 \nQ 881 4594 1212 4672 \nQ 1544 4750 1819 4750 \nQ 2544 4750 2975 4387 \nQ 3406 4025 3406 3419 \nQ 3406 3131 3298 2873 \nQ 3191 2616 2906 2266 \nQ 2828 2175 2409 1742 \nQ 1991 1309 1228 531 \nz\n\" transform=\"scale(0.015625)\"/>\n       </defs>\n       <use xlink:href=\"#DejaVuSans-32\"/>\n      </g>\n     </g>\n    </g>\n    <g id=\"xtick_3\">\n     <g id=\"line2d_3\">\n      <g>\n       <use xlink:href=\"#mef19b5e009\" x=\"108.223125\" y=\"145.8\" style=\"stroke: #000000; stroke-width: 0.8\"/>\n      </g>\n     </g>\n     <g id=\"text_3\">\n      <!-- 4 -->\n      <g transform=\"translate(105.041875 160.398438) scale(0.1 -0.1)\">\n       <defs>\n        <path id=\"DejaVuSans-34\" d=\"M 2419 4116 \nL 825 1625 \nL 2419 1625 \nL 2419 4116 \nz\nM 2253 4666 \nL 3047 4666 \nL 3047 1625 \nL 3713 1625 \nL 3713 1100 \nL 3047 1100 \nL 3047 0 \nL 2419 0 \nL 2419 1100 \nL 313 1100 \nL 313 1709 \nL 2253 4666 \nz\n\" transform=\"scale(0.015625)\"/>\n       </defs>\n       <use xlink:href=\"#DejaVuSans-34\"/>\n      </g>\n     </g>\n    </g>\n    <g id=\"xtick_4\">\n     <g id=\"line2d_4\">\n      <g>\n       <use xlink:href=\"#mef19b5e009\" x=\"147.283125\" y=\"145.8\" style=\"stroke: #000000; stroke-width: 0.8\"/>\n      </g>\n     </g>\n     <g id=\"text_4\">\n      <!-- 6 -->\n      <g transform=\"translate(144.101875 160.398438) scale(0.1 -0.1)\">\n       <defs>\n        <path id=\"DejaVuSans-36\" d=\"M 2113 2584 \nQ 1688 2584 1439 2293 \nQ 1191 2003 1191 1497 \nQ 1191 994 1439 701 \nQ 1688 409 2113 409 \nQ 2538 409 2786 701 \nQ 3034 994 3034 1497 \nQ 3034 2003 2786 2293 \nQ 2538 2584 2113 2584 \nz\nM 3366 4563 \nL 3366 3988 \nQ 3128 4100 2886 4159 \nQ 2644 4219 2406 4219 \nQ 1781 4219 1451 3797 \nQ 1122 3375 1075 2522 \nQ 1259 2794 1537 2939 \nQ 1816 3084 2150 3084 \nQ 2853 3084 3261 2657 \nQ 3669 2231 3669 1497 \nQ 3669 778 3244 343 \nQ 2819 -91 2113 -91 \nQ 1303 -91 875 529 \nQ 447 1150 447 2328 \nQ 447 3434 972 4092 \nQ 1497 4750 2381 4750 \nQ 2619 4750 2861 4703 \nQ 3103 4656 3366 4563 \nz\n\" transform=\"scale(0.015625)\"/>\n       </defs>\n       <use xlink:href=\"#DejaVuSans-36\"/>\n      </g>\n     </g>\n    </g>\n    <g id=\"xtick_5\">\n     <g id=\"line2d_5\">\n      <g>\n       <use xlink:href=\"#mef19b5e009\" x=\"186.343125\" y=\"145.8\" style=\"stroke: #000000; stroke-width: 0.8\"/>\n      </g>\n     </g>\n     <g id=\"text_5\">\n      <!-- 8 -->\n      <g transform=\"translate(183.161875 160.398438) scale(0.1 -0.1)\">\n       <defs>\n        <path id=\"DejaVuSans-38\" d=\"M 2034 2216 \nQ 1584 2216 1326 1975 \nQ 1069 1734 1069 1313 \nQ 1069 891 1326 650 \nQ 1584 409 2034 409 \nQ 2484 409 2743 651 \nQ 3003 894 3003 1313 \nQ 3003 1734 2745 1975 \nQ 2488 2216 2034 2216 \nz\nM 1403 2484 \nQ 997 2584 770 2862 \nQ 544 3141 544 3541 \nQ 544 4100 942 4425 \nQ 1341 4750 2034 4750 \nQ 2731 4750 3128 4425 \nQ 3525 4100 3525 3541 \nQ 3525 3141 3298 2862 \nQ 3072 2584 2669 2484 \nQ 3125 2378 3379 2068 \nQ 3634 1759 3634 1313 \nQ 3634 634 3220 271 \nQ 2806 -91 2034 -91 \nQ 1263 -91 848 271 \nQ 434 634 434 1313 \nQ 434 1759 690 2068 \nQ 947 2378 1403 2484 \nz\nM 1172 3481 \nQ 1172 3119 1398 2916 \nQ 1625 2713 2034 2713 \nQ 2441 2713 2670 2916 \nQ 2900 3119 2900 3481 \nQ 2900 3844 2670 4047 \nQ 2441 4250 2034 4250 \nQ 1625 4250 1398 4047 \nQ 1172 3844 1172 3481 \nz\n\" transform=\"scale(0.015625)\"/>\n       </defs>\n       <use xlink:href=\"#DejaVuSans-38\"/>\n      </g>\n     </g>\n    </g>\n    <g id=\"xtick_6\">\n     <g id=\"line2d_6\">\n      <g>\n       <use xlink:href=\"#mef19b5e009\" x=\"225.403125\" y=\"145.8\" style=\"stroke: #000000; stroke-width: 0.8\"/>\n      </g>\n     </g>\n     <g id=\"text_6\">\n      <!-- 10 -->\n      <g transform=\"translate(219.040625 160.398438) scale(0.1 -0.1)\">\n       <defs>\n        <path id=\"DejaVuSans-31\" d=\"M 794 531 \nL 1825 531 \nL 1825 4091 \nL 703 3866 \nL 703 4441 \nL 1819 4666 \nL 2450 4666 \nL 2450 531 \nL 3481 531 \nL 3481 0 \nL 794 0 \nL 794 531 \nz\n\" transform=\"scale(0.015625)\"/>\n       </defs>\n       <use xlink:href=\"#DejaVuSans-31\"/>\n       <use xlink:href=\"#DejaVuSans-30\" x=\"63.623047\"/>\n      </g>\n     </g>\n    </g>\n    <g id=\"text_7\">\n     <!-- epoch -->\n     <g transform=\"translate(112.525 174.076563) scale(0.1 -0.1)\">\n      <defs>\n       <path id=\"DejaVuSans-65\" d=\"M 3597 1894 \nL 3597 1613 \nL 953 1613 \nQ 991 1019 1311 708 \nQ 1631 397 2203 397 \nQ 2534 397 2845 478 \nQ 3156 559 3463 722 \nL 3463 178 \nQ 3153 47 2828 -22 \nQ 2503 -91 2169 -91 \nQ 1331 -91 842 396 \nQ 353 884 353 1716 \nQ 353 2575 817 3079 \nQ 1281 3584 2069 3584 \nQ 2775 3584 3186 3129 \nQ 3597 2675 3597 1894 \nz\nM 3022 2063 \nQ 3016 2534 2758 2815 \nQ 2500 3097 2075 3097 \nQ 1594 3097 1305 2825 \nQ 1016 2553 972 2059 \nL 3022 2063 \nz\n\" transform=\"scale(0.015625)\"/>\n       <path id=\"DejaVuSans-70\" d=\"M 1159 525 \nL 1159 -1331 \nL 581 -1331 \nL 581 3500 \nL 1159 3500 \nL 1159 2969 \nQ 1341 3281 1617 3432 \nQ 1894 3584 2278 3584 \nQ 2916 3584 3314 3078 \nQ 3713 2572 3713 1747 \nQ 3713 922 3314 415 \nQ 2916 -91 2278 -91 \nQ 1894 -91 1617 61 \nQ 1341 213 1159 525 \nz\nM 3116 1747 \nQ 3116 2381 2855 2742 \nQ 2594 3103 2138 3103 \nQ 1681 3103 1420 2742 \nQ 1159 2381 1159 1747 \nQ 1159 1113 1420 752 \nQ 1681 391 2138 391 \nQ 2594 391 2855 752 \nQ 3116 1113 3116 1747 \nz\n\" transform=\"scale(0.015625)\"/>\n       <path id=\"DejaVuSans-6f\" d=\"M 1959 3097 \nQ 1497 3097 1228 2736 \nQ 959 2375 959 1747 \nQ 959 1119 1226 758 \nQ 1494 397 1959 397 \nQ 2419 397 2687 759 \nQ 2956 1122 2956 1747 \nQ 2956 2369 2687 2733 \nQ 2419 3097 1959 3097 \nz\nM 1959 3584 \nQ 2709 3584 3137 3096 \nQ 3566 2609 3566 1747 \nQ 3566 888 3137 398 \nQ 2709 -91 1959 -91 \nQ 1206 -91 779 398 \nQ 353 888 353 1747 \nQ 353 2609 779 3096 \nQ 1206 3584 1959 3584 \nz\n\" transform=\"scale(0.015625)\"/>\n       <path id=\"DejaVuSans-63\" d=\"M 3122 3366 \nL 3122 2828 \nQ 2878 2963 2633 3030 \nQ 2388 3097 2138 3097 \nQ 1578 3097 1268 2742 \nQ 959 2388 959 1747 \nQ 959 1106 1268 751 \nQ 1578 397 2138 397 \nQ 2388 397 2633 464 \nQ 2878 531 3122 666 \nL 3122 134 \nQ 2881 22 2623 -34 \nQ 2366 -91 2075 -91 \nQ 1284 -91 818 406 \nQ 353 903 353 1747 \nQ 353 2603 823 3093 \nQ 1294 3584 2113 3584 \nQ 2378 3584 2631 3529 \nQ 2884 3475 3122 3366 \nz\n\" transform=\"scale(0.015625)\"/>\n       <path id=\"DejaVuSans-68\" d=\"M 3513 2113 \nL 3513 0 \nL 2938 0 \nL 2938 2094 \nQ 2938 2591 2744 2837 \nQ 2550 3084 2163 3084 \nQ 1697 3084 1428 2787 \nQ 1159 2491 1159 1978 \nL 1159 0 \nL 581 0 \nL 581 4863 \nL 1159 4863 \nL 1159 2956 \nQ 1366 3272 1645 3428 \nQ 1925 3584 2291 3584 \nQ 2894 3584 3203 3211 \nQ 3513 2838 3513 2113 \nz\n\" transform=\"scale(0.015625)\"/>\n      </defs>\n      <use xlink:href=\"#DejaVuSans-65\"/>\n      <use xlink:href=\"#DejaVuSans-70\" x=\"61.523438\"/>\n      <use xlink:href=\"#DejaVuSans-6f\" x=\"125\"/>\n      <use xlink:href=\"#DejaVuSans-63\" x=\"186.181641\"/>\n      <use xlink:href=\"#DejaVuSans-68\" x=\"241.162109\"/>\n     </g>\n    </g>\n   </g>\n   <g id=\"matplotlib.axis_2\">\n    <g id=\"ytick_1\">\n     <g id=\"line2d_7\">\n      <defs>\n       <path id=\"m8d64556ad4\" d=\"M 0 0 \nL -3.5 0 \n\" style=\"stroke: #000000; stroke-width: 0.8\"/>\n      </defs>\n      <g>\n       <use xlink:href=\"#m8d64556ad4\" x=\"30.103125\" y=\"134.012761\" style=\"stroke: #000000; stroke-width: 0.8\"/>\n      </g>\n     </g>\n     <g id=\"text_8\">\n      <!-- 0.4 -->\n      <g transform=\"translate(7.2 137.81198) scale(0.1 -0.1)\">\n       <defs>\n        <path id=\"DejaVuSans-2e\" d=\"M 684 794 \nL 1344 794 \nL 1344 0 \nL 684 0 \nL 684 794 \nz\n\" transform=\"scale(0.015625)\"/>\n       </defs>\n       <use xlink:href=\"#DejaVuSans-30\"/>\n       <use xlink:href=\"#DejaVuSans-2e\" x=\"63.623047\"/>\n       <use xlink:href=\"#DejaVuSans-34\" x=\"95.410156\"/>\n      </g>\n     </g>\n    </g>\n    <g id=\"ytick_2\">\n     <g id=\"line2d_8\">\n      <g>\n       <use xlink:href=\"#m8d64556ad4\" x=\"30.103125\" y=\"97.752332\" style=\"stroke: #000000; stroke-width: 0.8\"/>\n      </g>\n     </g>\n     <g id=\"text_9\">\n      <!-- 0.6 -->\n      <g transform=\"translate(7.2 101.551551) scale(0.1 -0.1)\">\n       <use xlink:href=\"#DejaVuSans-30\"/>\n       <use xlink:href=\"#DejaVuSans-2e\" x=\"63.623047\"/>\n       <use xlink:href=\"#DejaVuSans-36\" x=\"95.410156\"/>\n      </g>\n     </g>\n    </g>\n    <g id=\"ytick_3\">\n     <g id=\"line2d_9\">\n      <g>\n       <use xlink:href=\"#m8d64556ad4\" x=\"30.103125\" y=\"61.491904\" style=\"stroke: #000000; stroke-width: 0.8\"/>\n      </g>\n     </g>\n     <g id=\"text_10\">\n      <!-- 0.8 -->\n      <g transform=\"translate(7.2 65.291123) scale(0.1 -0.1)\">\n       <use xlink:href=\"#DejaVuSans-30\"/>\n       <use xlink:href=\"#DejaVuSans-2e\" x=\"63.623047\"/>\n       <use xlink:href=\"#DejaVuSans-38\" x=\"95.410156\"/>\n      </g>\n     </g>\n    </g>\n    <g id=\"ytick_4\">\n     <g id=\"line2d_10\">\n      <g>\n       <use xlink:href=\"#m8d64556ad4\" x=\"30.103125\" y=\"25.231476\" style=\"stroke: #000000; stroke-width: 0.8\"/>\n      </g>\n     </g>\n     <g id=\"text_11\">\n      <!-- 1.0 -->\n      <g transform=\"translate(7.2 29.030695) scale(0.1 -0.1)\">\n       <use xlink:href=\"#DejaVuSans-31\"/>\n       <use xlink:href=\"#DejaVuSans-2e\" x=\"63.623047\"/>\n       <use xlink:href=\"#DejaVuSans-30\" x=\"95.410156\"/>\n      </g>\n     </g>\n    </g>\n   </g>\n   <g id=\"line2d_11\">\n    <path d=\"M 34.923295 13.5 \n\" clip-path=\"url(#p41a14878b5)\" style=\"fill: none; stroke: #1f77b4; stroke-width: 1.5; stroke-linecap: square\"/>\n   </g>\n   <g id=\"line2d_12\">\n    <path d=\"M 34.923295 13.5 \nL 44.646742 87.212168 \n\" clip-path=\"url(#p41a14878b5)\" style=\"fill: none; stroke: #1f77b4; stroke-width: 1.5; stroke-linecap: square\"/>\n   </g>\n   <g id=\"line2d_13\">\n    <path d=\"M 34.923295 13.5 \nL 44.646742 87.212168 \n\" clip-path=\"url(#p41a14878b5)\" style=\"fill: none; stroke: #1f77b4; stroke-width: 1.5; stroke-linecap: square\"/>\n   </g>\n   <g id=\"line2d_14\">\n    <path d=\"M 49.633125 95.075088 \n\" clip-path=\"url(#p41a14878b5)\" style=\"fill: none; stroke-dasharray: 5.55,2.4; stroke-dashoffset: 0; stroke: #ff7f0e; stroke-width: 1.5\"/>\n   </g>\n   <g id=\"line2d_15\"/>\n   <g id=\"line2d_16\">\n    <path d=\"M 34.923295 13.5 \nL 44.646742 87.212168 \n\" clip-path=\"url(#p41a14878b5)\" style=\"fill: none; stroke: #1f77b4; stroke-width: 1.5; stroke-linecap: square\"/>\n   </g>\n   <g id=\"line2d_17\">\n    <path d=\"M 49.633125 95.075088 \n\" clip-path=\"url(#p41a14878b5)\" style=\"fill: none; stroke-dasharray: 5.55,2.4; stroke-dashoffset: 0; stroke: #ff7f0e; stroke-width: 1.5\"/>\n   </g>\n   <g id=\"line2d_18\">\n    <path d=\"M 49.633125 64.094581 \n\" clip-path=\"url(#p41a14878b5)\" style=\"fill: none; stroke-dasharray: 9.6,2.4,1.5,2.4; stroke-dashoffset: 0; stroke: #2ca02c; stroke-width: 1.5\"/>\n   </g>\n   <g id=\"line2d_19\">\n    <path d=\"M 34.923295 13.5 \nL 44.646742 87.212168 \nL 54.370189 101.454641 \n\" clip-path=\"url(#p41a14878b5)\" style=\"fill: none; stroke: #1f77b4; stroke-width: 1.5; stroke-linecap: square\"/>\n   </g>\n   <g id=\"line2d_20\">\n    <path d=\"M 49.633125 95.075088 \n\" clip-path=\"url(#p41a14878b5)\" style=\"fill: none; stroke-dasharray: 5.55,2.4; stroke-dashoffset: 0; stroke: #ff7f0e; stroke-width: 1.5\"/>\n   </g>\n   <g id=\"line2d_21\">\n    <path d=\"M 49.633125 64.094581 \n\" clip-path=\"url(#p41a14878b5)\" style=\"fill: none; stroke-dasharray: 9.6,2.4,1.5,2.4; stroke-dashoffset: 0; stroke: #2ca02c; stroke-width: 1.5\"/>\n   </g>\n   <g id=\"line2d_22\">\n    <path d=\"M 34.923295 13.5 \nL 44.646742 87.212168 \nL 54.370189 101.454641 \nL 64.093636 110.047544 \n\" clip-path=\"url(#p41a14878b5)\" style=\"fill: none; stroke: #1f77b4; stroke-width: 1.5; stroke-linecap: square\"/>\n   </g>\n   <g id=\"line2d_23\">\n    <path d=\"M 49.633125 95.075088 \n\" clip-path=\"url(#p41a14878b5)\" style=\"fill: none; stroke-dasharray: 5.55,2.4; stroke-dashoffset: 0; stroke: #ff7f0e; stroke-width: 1.5\"/>\n   </g>\n   <g id=\"line2d_24\">\n    <path d=\"M 49.633125 64.094581 \n\" clip-path=\"url(#p41a14878b5)\" style=\"fill: none; stroke-dasharray: 9.6,2.4,1.5,2.4; stroke-dashoffset: 0; stroke: #2ca02c; stroke-width: 1.5\"/>\n   </g>\n   <g id=\"line2d_25\">\n    <path d=\"M 34.923295 13.5 \nL 44.646742 87.212168 \nL 54.370189 101.454641 \nL 64.093636 110.047544 \n\" clip-path=\"url(#p41a14878b5)\" style=\"fill: none; stroke: #1f77b4; stroke-width: 1.5; stroke-linecap: square\"/>\n   </g>\n   <g id=\"line2d_26\">\n    <path d=\"M 49.633125 95.075088 \nL 69.163125 109.385516 \n\" clip-path=\"url(#p41a14878b5)\" style=\"fill: none; stroke-dasharray: 5.55,2.4; stroke-dashoffset: 0; stroke: #ff7f0e; stroke-width: 1.5\"/>\n   </g>\n   <g id=\"line2d_27\">\n    <path d=\"M 49.633125 64.094581 \n\" clip-path=\"url(#p41a14878b5)\" style=\"fill: none; stroke-dasharray: 9.6,2.4,1.5,2.4; stroke-dashoffset: 0; stroke: #2ca02c; stroke-width: 1.5\"/>\n   </g>\n   <g id=\"line2d_28\">\n    <path d=\"M 34.923295 13.5 \nL 44.646742 87.212168 \nL 54.370189 101.454641 \nL 64.093636 110.047544 \n\" clip-path=\"url(#p41a14878b5)\" style=\"fill: none; stroke: #1f77b4; stroke-width: 1.5; stroke-linecap: square\"/>\n   </g>\n   <g id=\"line2d_29\">\n    <path d=\"M 49.633125 95.075088 \nL 69.163125 109.385516 \n\" clip-path=\"url(#p41a14878b5)\" style=\"fill: none; stroke-dasharray: 5.55,2.4; stroke-dashoffset: 0; stroke: #ff7f0e; stroke-width: 1.5\"/>\n   </g>\n   <g id=\"line2d_30\">\n    <path d=\"M 49.633125 64.094581 \nL 69.163125 59.66826 \n\" clip-path=\"url(#p41a14878b5)\" style=\"fill: none; stroke-dasharray: 9.6,2.4,1.5,2.4; stroke-dashoffset: 0; stroke: #2ca02c; stroke-width: 1.5\"/>\n   </g>\n   <g id=\"line2d_31\">\n    <path d=\"M 34.923295 13.5 \nL 44.646742 87.212168 \nL 54.370189 101.454641 \nL 64.093636 110.047544 \nL 73.817082 113.831624 \n\" clip-path=\"url(#p41a14878b5)\" style=\"fill: none; stroke: #1f77b4; stroke-width: 1.5; stroke-linecap: square\"/>\n   </g>\n   <g id=\"line2d_32\">\n    <path d=\"M 49.633125 95.075088 \nL 69.163125 109.385516 \n\" clip-path=\"url(#p41a14878b5)\" style=\"fill: none; stroke-dasharray: 5.55,2.4; stroke-dashoffset: 0; stroke: #ff7f0e; stroke-width: 1.5\"/>\n   </g>\n   <g id=\"line2d_33\">\n    <path d=\"M 49.633125 64.094581 \nL 69.163125 59.66826 \n\" clip-path=\"url(#p41a14878b5)\" style=\"fill: none; stroke-dasharray: 9.6,2.4,1.5,2.4; stroke-dashoffset: 0; stroke: #2ca02c; stroke-width: 1.5\"/>\n   </g>\n   <g id=\"line2d_34\">\n    <path d=\"M 34.923295 13.5 \nL 44.646742 87.212168 \nL 54.370189 101.454641 \nL 64.093636 110.047544 \nL 73.817082 113.831624 \nL 83.540529 119.010421 \n\" clip-path=\"url(#p41a14878b5)\" style=\"fill: none; stroke: #1f77b4; stroke-width: 1.5; stroke-linecap: square\"/>\n   </g>\n   <g id=\"line2d_35\">\n    <path d=\"M 49.633125 95.075088 \nL 69.163125 109.385516 \n\" clip-path=\"url(#p41a14878b5)\" style=\"fill: none; stroke-dasharray: 5.55,2.4; stroke-dashoffset: 0; stroke: #ff7f0e; stroke-width: 1.5\"/>\n   </g>\n   <g id=\"line2d_36\">\n    <path d=\"M 49.633125 64.094581 \nL 69.163125 59.66826 \n\" clip-path=\"url(#p41a14878b5)\" style=\"fill: none; stroke-dasharray: 9.6,2.4,1.5,2.4; stroke-dashoffset: 0; stroke: #2ca02c; stroke-width: 1.5\"/>\n   </g>\n   <g id=\"line2d_37\">\n    <path d=\"M 34.923295 13.5 \nL 44.646742 87.212168 \nL 54.370189 101.454641 \nL 64.093636 110.047544 \nL 73.817082 113.831624 \nL 83.540529 119.010421 \n\" clip-path=\"url(#p41a14878b5)\" style=\"fill: none; stroke: #1f77b4; stroke-width: 1.5; stroke-linecap: square\"/>\n   </g>\n   <g id=\"line2d_38\">\n    <path d=\"M 49.633125 95.075088 \nL 69.163125 109.385516 \nL 88.693125 115.539571 \n\" clip-path=\"url(#p41a14878b5)\" style=\"fill: none; stroke-dasharray: 5.55,2.4; stroke-dashoffset: 0; stroke: #ff7f0e; stroke-width: 1.5\"/>\n   </g>\n   <g id=\"line2d_39\">\n    <path d=\"M 49.633125 64.094581 \nL 69.163125 59.66826 \n\" clip-path=\"url(#p41a14878b5)\" style=\"fill: none; stroke-dasharray: 9.6,2.4,1.5,2.4; stroke-dashoffset: 0; stroke: #2ca02c; stroke-width: 1.5\"/>\n   </g>\n   <g id=\"line2d_40\">\n    <path d=\"M 34.923295 13.5 \nL 44.646742 87.212168 \nL 54.370189 101.454641 \nL 64.093636 110.047544 \nL 73.817082 113.831624 \nL 83.540529 119.010421 \n\" clip-path=\"url(#p41a14878b5)\" style=\"fill: none; stroke: #1f77b4; stroke-width: 1.5; stroke-linecap: square\"/>\n   </g>\n   <g id=\"line2d_41\">\n    <path d=\"M 49.633125 95.075088 \nL 69.163125 109.385516 \nL 88.693125 115.539571 \n\" clip-path=\"url(#p41a14878b5)\" style=\"fill: none; stroke-dasharray: 5.55,2.4; stroke-dashoffset: 0; stroke: #ff7f0e; stroke-width: 1.5\"/>\n   </g>\n   <g id=\"line2d_42\">\n    <path d=\"M 49.633125 64.094581 \nL 69.163125 59.66826 \nL 88.693125 56.481308 \n\" clip-path=\"url(#p41a14878b5)\" style=\"fill: none; stroke-dasharray: 9.6,2.4,1.5,2.4; stroke-dashoffset: 0; stroke: #2ca02c; stroke-width: 1.5\"/>\n   </g>\n   <g id=\"line2d_43\">\n    <path d=\"M 34.923295 13.5 \nL 44.646742 87.212168 \nL 54.370189 101.454641 \nL 64.093636 110.047544 \nL 73.817082 113.831624 \nL 83.540529 119.010421 \nL 93.263976 121.513905 \n\" clip-path=\"url(#p41a14878b5)\" style=\"fill: none; stroke: #1f77b4; stroke-width: 1.5; stroke-linecap: square\"/>\n   </g>\n   <g id=\"line2d_44\">\n    <path d=\"M 49.633125 95.075088 \nL 69.163125 109.385516 \nL 88.693125 115.539571 \n\" clip-path=\"url(#p41a14878b5)\" style=\"fill: none; stroke-dasharray: 5.55,2.4; stroke-dashoffset: 0; stroke: #ff7f0e; stroke-width: 1.5\"/>\n   </g>\n   <g id=\"line2d_45\">\n    <path d=\"M 49.633125 64.094581 \nL 69.163125 59.66826 \nL 88.693125 56.481308 \n\" clip-path=\"url(#p41a14878b5)\" style=\"fill: none; stroke-dasharray: 9.6,2.4,1.5,2.4; stroke-dashoffset: 0; stroke: #2ca02c; stroke-width: 1.5\"/>\n   </g>\n   <g id=\"line2d_46\">\n    <path d=\"M 34.923295 13.5 \nL 44.646742 87.212168 \nL 54.370189 101.454641 \nL 64.093636 110.047544 \nL 73.817082 113.831624 \nL 83.540529 119.010421 \nL 93.263976 121.513905 \nL 102.987423 124.973243 \n\" clip-path=\"url(#p41a14878b5)\" style=\"fill: none; stroke: #1f77b4; stroke-width: 1.5; stroke-linecap: square\"/>\n   </g>\n   <g id=\"line2d_47\">\n    <path d=\"M 49.633125 95.075088 \nL 69.163125 109.385516 \nL 88.693125 115.539571 \n\" clip-path=\"url(#p41a14878b5)\" style=\"fill: none; stroke-dasharray: 5.55,2.4; stroke-dashoffset: 0; stroke: #ff7f0e; stroke-width: 1.5\"/>\n   </g>\n   <g id=\"line2d_48\">\n    <path d=\"M 49.633125 64.094581 \nL 69.163125 59.66826 \nL 88.693125 56.481308 \n\" clip-path=\"url(#p41a14878b5)\" style=\"fill: none; stroke-dasharray: 9.6,2.4,1.5,2.4; stroke-dashoffset: 0; stroke: #2ca02c; stroke-width: 1.5\"/>\n   </g>\n   <g id=\"line2d_49\">\n    <path d=\"M 34.923295 13.5 \nL 44.646742 87.212168 \nL 54.370189 101.454641 \nL 64.093636 110.047544 \nL 73.817082 113.831624 \nL 83.540529 119.010421 \nL 93.263976 121.513905 \nL 102.987423 124.973243 \n\" clip-path=\"url(#p41a14878b5)\" style=\"fill: none; stroke: #1f77b4; stroke-width: 1.5; stroke-linecap: square\"/>\n   </g>\n   <g id=\"line2d_50\">\n    <path d=\"M 49.633125 95.075088 \nL 69.163125 109.385516 \nL 88.693125 115.539571 \nL 108.223125 112.580897 \n\" clip-path=\"url(#p41a14878b5)\" style=\"fill: none; stroke-dasharray: 5.55,2.4; stroke-dashoffset: 0; stroke: #ff7f0e; stroke-width: 1.5\"/>\n   </g>\n   <g id=\"line2d_51\">\n    <path d=\"M 49.633125 64.094581 \nL 69.163125 59.66826 \nL 88.693125 56.481308 \n\" clip-path=\"url(#p41a14878b5)\" style=\"fill: none; stroke-dasharray: 9.6,2.4,1.5,2.4; stroke-dashoffset: 0; stroke: #2ca02c; stroke-width: 1.5\"/>\n   </g>\n   <g id=\"line2d_52\">\n    <path d=\"M 34.923295 13.5 \nL 44.646742 87.212168 \nL 54.370189 101.454641 \nL 64.093636 110.047544 \nL 73.817082 113.831624 \nL 83.540529 119.010421 \nL 93.263976 121.513905 \nL 102.987423 124.973243 \n\" clip-path=\"url(#p41a14878b5)\" style=\"fill: none; stroke: #1f77b4; stroke-width: 1.5; stroke-linecap: square\"/>\n   </g>\n   <g id=\"line2d_53\">\n    <path d=\"M 49.633125 95.075088 \nL 69.163125 109.385516 \nL 88.693125 115.539571 \nL 108.223125 112.580897 \n\" clip-path=\"url(#p41a14878b5)\" style=\"fill: none; stroke-dasharray: 5.55,2.4; stroke-dashoffset: 0; stroke: #ff7f0e; stroke-width: 1.5\"/>\n   </g>\n   <g id=\"line2d_54\">\n    <path d=\"M 49.633125 64.094581 \nL 69.163125 59.66826 \nL 88.693125 56.481308 \nL 108.223125 58.145605 \n\" clip-path=\"url(#p41a14878b5)\" style=\"fill: none; stroke-dasharray: 9.6,2.4,1.5,2.4; stroke-dashoffset: 0; stroke: #2ca02c; stroke-width: 1.5\"/>\n   </g>\n   <g id=\"line2d_55\">\n    <path d=\"M 34.923295 13.5 \nL 44.646742 87.212168 \nL 54.370189 101.454641 \nL 64.093636 110.047544 \nL 73.817082 113.831624 \nL 83.540529 119.010421 \nL 93.263976 121.513905 \nL 102.987423 124.973243 \nL 112.71087 125.876522 \n\" clip-path=\"url(#p41a14878b5)\" style=\"fill: none; stroke: #1f77b4; stroke-width: 1.5; stroke-linecap: square\"/>\n   </g>\n   <g id=\"line2d_56\">\n    <path d=\"M 49.633125 95.075088 \nL 69.163125 109.385516 \nL 88.693125 115.539571 \nL 108.223125 112.580897 \n\" clip-path=\"url(#p41a14878b5)\" style=\"fill: none; stroke-dasharray: 5.55,2.4; stroke-dashoffset: 0; stroke: #ff7f0e; stroke-width: 1.5\"/>\n   </g>\n   <g id=\"line2d_57\">\n    <path d=\"M 49.633125 64.094581 \nL 69.163125 59.66826 \nL 88.693125 56.481308 \nL 108.223125 58.145605 \n\" clip-path=\"url(#p41a14878b5)\" style=\"fill: none; stroke-dasharray: 9.6,2.4,1.5,2.4; stroke-dashoffset: 0; stroke: #2ca02c; stroke-width: 1.5\"/>\n   </g>\n   <g id=\"line2d_58\">\n    <path d=\"M 34.923295 13.5 \nL 44.646742 87.212168 \nL 54.370189 101.454641 \nL 64.093636 110.047544 \nL 73.817082 113.831624 \nL 83.540529 119.010421 \nL 93.263976 121.513905 \nL 102.987423 124.973243 \nL 112.71087 125.876522 \nL 122.434316 128.823076 \n\" clip-path=\"url(#p41a14878b5)\" style=\"fill: none; stroke: #1f77b4; stroke-width: 1.5; stroke-linecap: square\"/>\n   </g>\n   <g id=\"line2d_59\">\n    <path d=\"M 49.633125 95.075088 \nL 69.163125 109.385516 \nL 88.693125 115.539571 \nL 108.223125 112.580897 \n\" clip-path=\"url(#p41a14878b5)\" style=\"fill: none; stroke-dasharray: 5.55,2.4; stroke-dashoffset: 0; stroke: #ff7f0e; stroke-width: 1.5\"/>\n   </g>\n   <g id=\"line2d_60\">\n    <path d=\"M 49.633125 64.094581 \nL 69.163125 59.66826 \nL 88.693125 56.481308 \nL 108.223125 58.145605 \n\" clip-path=\"url(#p41a14878b5)\" style=\"fill: none; stroke-dasharray: 9.6,2.4,1.5,2.4; stroke-dashoffset: 0; stroke: #2ca02c; stroke-width: 1.5\"/>\n   </g>\n   <g id=\"line2d_61\">\n    <path d=\"M 34.923295 13.5 \nL 44.646742 87.212168 \nL 54.370189 101.454641 \nL 64.093636 110.047544 \nL 73.817082 113.831624 \nL 83.540529 119.010421 \nL 93.263976 121.513905 \nL 102.987423 124.973243 \nL 112.71087 125.876522 \nL 122.434316 128.823076 \n\" clip-path=\"url(#p41a14878b5)\" style=\"fill: none; stroke: #1f77b4; stroke-width: 1.5; stroke-linecap: square\"/>\n   </g>\n   <g id=\"line2d_62\">\n    <path d=\"M 49.633125 95.075088 \nL 69.163125 109.385516 \nL 88.693125 115.539571 \nL 108.223125 112.580897 \nL 127.753125 121.825555 \n\" clip-path=\"url(#p41a14878b5)\" style=\"fill: none; stroke-dasharray: 5.55,2.4; stroke-dashoffset: 0; stroke: #ff7f0e; stroke-width: 1.5\"/>\n   </g>\n   <g id=\"line2d_63\">\n    <path d=\"M 49.633125 64.094581 \nL 69.163125 59.66826 \nL 88.693125 56.481308 \nL 108.223125 58.145605 \n\" clip-path=\"url(#p41a14878b5)\" style=\"fill: none; stroke-dasharray: 9.6,2.4,1.5,2.4; stroke-dashoffset: 0; stroke: #2ca02c; stroke-width: 1.5\"/>\n   </g>\n   <g id=\"line2d_64\">\n    <path d=\"M 34.923295 13.5 \nL 44.646742 87.212168 \nL 54.370189 101.454641 \nL 64.093636 110.047544 \nL 73.817082 113.831624 \nL 83.540529 119.010421 \nL 93.263976 121.513905 \nL 102.987423 124.973243 \nL 112.71087 125.876522 \nL 122.434316 128.823076 \n\" clip-path=\"url(#p41a14878b5)\" style=\"fill: none; stroke: #1f77b4; stroke-width: 1.5; stroke-linecap: square\"/>\n   </g>\n   <g id=\"line2d_65\">\n    <path d=\"M 49.633125 95.075088 \nL 69.163125 109.385516 \nL 88.693125 115.539571 \nL 108.223125 112.580897 \nL 127.753125 121.825555 \n\" clip-path=\"url(#p41a14878b5)\" style=\"fill: none; stroke-dasharray: 5.55,2.4; stroke-dashoffset: 0; stroke: #ff7f0e; stroke-width: 1.5\"/>\n   </g>\n   <g id=\"line2d_66\">\n    <path d=\"M 49.633125 64.094581 \nL 69.163125 59.66826 \nL 88.693125 56.481308 \nL 108.223125 58.145605 \nL 127.753125 54.392084 \n\" clip-path=\"url(#p41a14878b5)\" style=\"fill: none; stroke-dasharray: 9.6,2.4,1.5,2.4; stroke-dashoffset: 0; stroke: #2ca02c; stroke-width: 1.5\"/>\n   </g>\n   <g id=\"line2d_67\">\n    <path d=\"M 34.923295 13.5 \nL 44.646742 87.212168 \nL 54.370189 101.454641 \nL 64.093636 110.047544 \nL 73.817082 113.831624 \nL 83.540529 119.010421 \nL 93.263976 121.513905 \nL 102.987423 124.973243 \nL 112.71087 125.876522 \nL 122.434316 128.823076 \nL 132.157763 130.245976 \n\" clip-path=\"url(#p41a14878b5)\" style=\"fill: none; stroke: #1f77b4; stroke-width: 1.5; stroke-linecap: square\"/>\n   </g>\n   <g id=\"line2d_68\">\n    <path d=\"M 49.633125 95.075088 \nL 69.163125 109.385516 \nL 88.693125 115.539571 \nL 108.223125 112.580897 \nL 127.753125 121.825555 \n\" clip-path=\"url(#p41a14878b5)\" style=\"fill: none; stroke-dasharray: 5.55,2.4; stroke-dashoffset: 0; stroke: #ff7f0e; stroke-width: 1.5\"/>\n   </g>\n   <g id=\"line2d_69\">\n    <path d=\"M 49.633125 64.094581 \nL 69.163125 59.66826 \nL 88.693125 56.481308 \nL 108.223125 58.145605 \nL 127.753125 54.392084 \n\" clip-path=\"url(#p41a14878b5)\" style=\"fill: none; stroke-dasharray: 9.6,2.4,1.5,2.4; stroke-dashoffset: 0; stroke: #2ca02c; stroke-width: 1.5\"/>\n   </g>\n   <g id=\"line2d_70\">\n    <path d=\"M 34.923295 13.5 \nL 44.646742 87.212168 \nL 54.370189 101.454641 \nL 64.093636 110.047544 \nL 73.817082 113.831624 \nL 83.540529 119.010421 \nL 93.263976 121.513905 \nL 102.987423 124.973243 \nL 112.71087 125.876522 \nL 122.434316 128.823076 \nL 132.157763 130.245976 \nL 141.88121 131.606353 \n\" clip-path=\"url(#p41a14878b5)\" style=\"fill: none; stroke: #1f77b4; stroke-width: 1.5; stroke-linecap: square\"/>\n   </g>\n   <g id=\"line2d_71\">\n    <path d=\"M 49.633125 95.075088 \nL 69.163125 109.385516 \nL 88.693125 115.539571 \nL 108.223125 112.580897 \nL 127.753125 121.825555 \n\" clip-path=\"url(#p41a14878b5)\" style=\"fill: none; stroke-dasharray: 5.55,2.4; stroke-dashoffset: 0; stroke: #ff7f0e; stroke-width: 1.5\"/>\n   </g>\n   <g id=\"line2d_72\">\n    <path d=\"M 49.633125 64.094581 \nL 69.163125 59.66826 \nL 88.693125 56.481308 \nL 108.223125 58.145605 \nL 127.753125 54.392084 \n\" clip-path=\"url(#p41a14878b5)\" style=\"fill: none; stroke-dasharray: 9.6,2.4,1.5,2.4; stroke-dashoffset: 0; stroke: #2ca02c; stroke-width: 1.5\"/>\n   </g>\n   <g id=\"line2d_73\">\n    <path d=\"M 34.923295 13.5 \nL 44.646742 87.212168 \nL 54.370189 101.454641 \nL 64.093636 110.047544 \nL 73.817082 113.831624 \nL 83.540529 119.010421 \nL 93.263976 121.513905 \nL 102.987423 124.973243 \nL 112.71087 125.876522 \nL 122.434316 128.823076 \nL 132.157763 130.245976 \nL 141.88121 131.606353 \n\" clip-path=\"url(#p41a14878b5)\" style=\"fill: none; stroke: #1f77b4; stroke-width: 1.5; stroke-linecap: square\"/>\n   </g>\n   <g id=\"line2d_74\">\n    <path d=\"M 49.633125 95.075088 \nL 69.163125 109.385516 \nL 88.693125 115.539571 \nL 108.223125 112.580897 \nL 127.753125 121.825555 \nL 147.283125 120.716622 \n\" clip-path=\"url(#p41a14878b5)\" style=\"fill: none; stroke-dasharray: 5.55,2.4; stroke-dashoffset: 0; stroke: #ff7f0e; stroke-width: 1.5\"/>\n   </g>\n   <g id=\"line2d_75\">\n    <path d=\"M 49.633125 64.094581 \nL 69.163125 59.66826 \nL 88.693125 56.481308 \nL 108.223125 58.145605 \nL 127.753125 54.392084 \n\" clip-path=\"url(#p41a14878b5)\" style=\"fill: none; stroke-dasharray: 9.6,2.4,1.5,2.4; stroke-dashoffset: 0; stroke: #2ca02c; stroke-width: 1.5\"/>\n   </g>\n   <g id=\"line2d_76\">\n    <path d=\"M 34.923295 13.5 \nL 44.646742 87.212168 \nL 54.370189 101.454641 \nL 64.093636 110.047544 \nL 73.817082 113.831624 \nL 83.540529 119.010421 \nL 93.263976 121.513905 \nL 102.987423 124.973243 \nL 112.71087 125.876522 \nL 122.434316 128.823076 \nL 132.157763 130.245976 \nL 141.88121 131.606353 \n\" clip-path=\"url(#p41a14878b5)\" style=\"fill: none; stroke: #1f77b4; stroke-width: 1.5; stroke-linecap: square\"/>\n   </g>\n   <g id=\"line2d_77\">\n    <path d=\"M 49.633125 95.075088 \nL 69.163125 109.385516 \nL 88.693125 115.539571 \nL 108.223125 112.580897 \nL 127.753125 121.825555 \nL 147.283125 120.716622 \n\" clip-path=\"url(#p41a14878b5)\" style=\"fill: none; stroke-dasharray: 5.55,2.4; stroke-dashoffset: 0; stroke: #ff7f0e; stroke-width: 1.5\"/>\n   </g>\n   <g id=\"line2d_78\">\n    <path d=\"M 49.633125 64.094581 \nL 69.163125 59.66826 \nL 88.693125 56.481308 \nL 108.223125 58.145605 \nL 127.753125 54.392084 \nL 147.283125 55.171117 \n\" clip-path=\"url(#p41a14878b5)\" style=\"fill: none; stroke-dasharray: 9.6,2.4,1.5,2.4; stroke-dashoffset: 0; stroke: #2ca02c; stroke-width: 1.5\"/>\n   </g>\n   <g id=\"line2d_79\">\n    <path d=\"M 34.923295 13.5 \nL 44.646742 87.212168 \nL 54.370189 101.454641 \nL 64.093636 110.047544 \nL 73.817082 113.831624 \nL 83.540529 119.010421 \nL 93.263976 121.513905 \nL 102.987423 124.973243 \nL 112.71087 125.876522 \nL 122.434316 128.823076 \nL 132.157763 130.245976 \nL 141.88121 131.606353 \nL 151.604657 132.910863 \n\" clip-path=\"url(#p41a14878b5)\" style=\"fill: none; stroke: #1f77b4; stroke-width: 1.5; stroke-linecap: square\"/>\n   </g>\n   <g id=\"line2d_80\">\n    <path d=\"M 49.633125 95.075088 \nL 69.163125 109.385516 \nL 88.693125 115.539571 \nL 108.223125 112.580897 \nL 127.753125 121.825555 \nL 147.283125 120.716622 \n\" clip-path=\"url(#p41a14878b5)\" style=\"fill: none; stroke-dasharray: 5.55,2.4; stroke-dashoffset: 0; stroke: #ff7f0e; stroke-width: 1.5\"/>\n   </g>\n   <g id=\"line2d_81\">\n    <path d=\"M 49.633125 64.094581 \nL 69.163125 59.66826 \nL 88.693125 56.481308 \nL 108.223125 58.145605 \nL 127.753125 54.392084 \nL 147.283125 55.171117 \n\" clip-path=\"url(#p41a14878b5)\" style=\"fill: none; stroke-dasharray: 9.6,2.4,1.5,2.4; stroke-dashoffset: 0; stroke: #2ca02c; stroke-width: 1.5\"/>\n   </g>\n   <g id=\"line2d_82\">\n    <path d=\"M 34.923295 13.5 \nL 44.646742 87.212168 \nL 54.370189 101.454641 \nL 64.093636 110.047544 \nL 73.817082 113.831624 \nL 83.540529 119.010421 \nL 93.263976 121.513905 \nL 102.987423 124.973243 \nL 112.71087 125.876522 \nL 122.434316 128.823076 \nL 132.157763 130.245976 \nL 141.88121 131.606353 \nL 151.604657 132.910863 \nL 161.328104 134.135197 \n\" clip-path=\"url(#p41a14878b5)\" style=\"fill: none; stroke: #1f77b4; stroke-width: 1.5; stroke-linecap: square\"/>\n   </g>\n   <g id=\"line2d_83\">\n    <path d=\"M 49.633125 95.075088 \nL 69.163125 109.385516 \nL 88.693125 115.539571 \nL 108.223125 112.580897 \nL 127.753125 121.825555 \nL 147.283125 120.716622 \n\" clip-path=\"url(#p41a14878b5)\" style=\"fill: none; stroke-dasharray: 5.55,2.4; stroke-dashoffset: 0; stroke: #ff7f0e; stroke-width: 1.5\"/>\n   </g>\n   <g id=\"line2d_84\">\n    <path d=\"M 49.633125 64.094581 \nL 69.163125 59.66826 \nL 88.693125 56.481308 \nL 108.223125 58.145605 \nL 127.753125 54.392084 \nL 147.283125 55.171117 \n\" clip-path=\"url(#p41a14878b5)\" style=\"fill: none; stroke-dasharray: 9.6,2.4,1.5,2.4; stroke-dashoffset: 0; stroke: #2ca02c; stroke-width: 1.5\"/>\n   </g>\n   <g id=\"line2d_85\">\n    <path d=\"M 34.923295 13.5 \nL 44.646742 87.212168 \nL 54.370189 101.454641 \nL 64.093636 110.047544 \nL 73.817082 113.831624 \nL 83.540529 119.010421 \nL 93.263976 121.513905 \nL 102.987423 124.973243 \nL 112.71087 125.876522 \nL 122.434316 128.823076 \nL 132.157763 130.245976 \nL 141.88121 131.606353 \nL 151.604657 132.910863 \nL 161.328104 134.135197 \n\" clip-path=\"url(#p41a14878b5)\" style=\"fill: none; stroke: #1f77b4; stroke-width: 1.5; stroke-linecap: square\"/>\n   </g>\n   <g id=\"line2d_86\">\n    <path d=\"M 49.633125 95.075088 \nL 69.163125 109.385516 \nL 88.693125 115.539571 \nL 108.223125 112.580897 \nL 127.753125 121.825555 \nL 147.283125 120.716622 \nL 166.813125 129.487835 \n\" clip-path=\"url(#p41a14878b5)\" style=\"fill: none; stroke-dasharray: 5.55,2.4; stroke-dashoffset: 0; stroke: #ff7f0e; stroke-width: 1.5\"/>\n   </g>\n   <g id=\"line2d_87\">\n    <path d=\"M 49.633125 64.094581 \nL 69.163125 59.66826 \nL 88.693125 56.481308 \nL 108.223125 58.145605 \nL 127.753125 54.392084 \nL 147.283125 55.171117 \n\" clip-path=\"url(#p41a14878b5)\" style=\"fill: none; stroke-dasharray: 9.6,2.4,1.5,2.4; stroke-dashoffset: 0; stroke: #2ca02c; stroke-width: 1.5\"/>\n   </g>\n   <g id=\"line2d_88\">\n    <path d=\"M 34.923295 13.5 \nL 44.646742 87.212168 \nL 54.370189 101.454641 \nL 64.093636 110.047544 \nL 73.817082 113.831624 \nL 83.540529 119.010421 \nL 93.263976 121.513905 \nL 102.987423 124.973243 \nL 112.71087 125.876522 \nL 122.434316 128.823076 \nL 132.157763 130.245976 \nL 141.88121 131.606353 \nL 151.604657 132.910863 \nL 161.328104 134.135197 \n\" clip-path=\"url(#p41a14878b5)\" style=\"fill: none; stroke: #1f77b4; stroke-width: 1.5; stroke-linecap: square\"/>\n   </g>\n   <g id=\"line2d_89\">\n    <path d=\"M 49.633125 95.075088 \nL 69.163125 109.385516 \nL 88.693125 115.539571 \nL 108.223125 112.580897 \nL 127.753125 121.825555 \nL 147.283125 120.716622 \nL 166.813125 129.487835 \n\" clip-path=\"url(#p41a14878b5)\" style=\"fill: none; stroke-dasharray: 5.55,2.4; stroke-dashoffset: 0; stroke: #ff7f0e; stroke-width: 1.5\"/>\n   </g>\n   <g id=\"line2d_90\">\n    <path d=\"M 49.633125 64.094581 \nL 69.163125 59.66826 \nL 88.693125 56.481308 \nL 108.223125 58.145605 \nL 127.753125 54.392084 \nL 147.283125 55.171117 \nL 166.813125 52.320565 \n\" clip-path=\"url(#p41a14878b5)\" style=\"fill: none; stroke-dasharray: 9.6,2.4,1.5,2.4; stroke-dashoffset: 0; stroke: #2ca02c; stroke-width: 1.5\"/>\n   </g>\n   <g id=\"line2d_91\">\n    <path d=\"M 34.923295 13.5 \nL 44.646742 87.212168 \nL 54.370189 101.454641 \nL 64.093636 110.047544 \nL 73.817082 113.831624 \nL 83.540529 119.010421 \nL 93.263976 121.513905 \nL 102.987423 124.973243 \nL 112.71087 125.876522 \nL 122.434316 128.823076 \nL 132.157763 130.245976 \nL 141.88121 131.606353 \nL 151.604657 132.910863 \nL 161.328104 134.135197 \nL 171.051551 134.528726 \n\" clip-path=\"url(#p41a14878b5)\" style=\"fill: none; stroke: #1f77b4; stroke-width: 1.5; stroke-linecap: square\"/>\n   </g>\n   <g id=\"line2d_92\">\n    <path d=\"M 49.633125 95.075088 \nL 69.163125 109.385516 \nL 88.693125 115.539571 \nL 108.223125 112.580897 \nL 127.753125 121.825555 \nL 147.283125 120.716622 \nL 166.813125 129.487835 \n\" clip-path=\"url(#p41a14878b5)\" style=\"fill: none; stroke-dasharray: 5.55,2.4; stroke-dashoffset: 0; stroke: #ff7f0e; stroke-width: 1.5\"/>\n   </g>\n   <g id=\"line2d_93\">\n    <path d=\"M 49.633125 64.094581 \nL 69.163125 59.66826 \nL 88.693125 56.481308 \nL 108.223125 58.145605 \nL 127.753125 54.392084 \nL 147.283125 55.171117 \nL 166.813125 52.320565 \n\" clip-path=\"url(#p41a14878b5)\" style=\"fill: none; stroke-dasharray: 9.6,2.4,1.5,2.4; stroke-dashoffset: 0; stroke: #2ca02c; stroke-width: 1.5\"/>\n   </g>\n   <g id=\"line2d_94\">\n    <path d=\"M 34.923295 13.5 \nL 44.646742 87.212168 \nL 54.370189 101.454641 \nL 64.093636 110.047544 \nL 73.817082 113.831624 \nL 83.540529 119.010421 \nL 93.263976 121.513905 \nL 102.987423 124.973243 \nL 112.71087 125.876522 \nL 122.434316 128.823076 \nL 132.157763 130.245976 \nL 141.88121 131.606353 \nL 151.604657 132.910863 \nL 161.328104 134.135197 \nL 171.051551 134.528726 \nL 180.774997 137.421667 \n\" clip-path=\"url(#p41a14878b5)\" style=\"fill: none; stroke: #1f77b4; stroke-width: 1.5; stroke-linecap: square\"/>\n   </g>\n   <g id=\"line2d_95\">\n    <path d=\"M 49.633125 95.075088 \nL 69.163125 109.385516 \nL 88.693125 115.539571 \nL 108.223125 112.580897 \nL 127.753125 121.825555 \nL 147.283125 120.716622 \nL 166.813125 129.487835 \n\" clip-path=\"url(#p41a14878b5)\" style=\"fill: none; stroke-dasharray: 5.55,2.4; stroke-dashoffset: 0; stroke: #ff7f0e; stroke-width: 1.5\"/>\n   </g>\n   <g id=\"line2d_96\">\n    <path d=\"M 49.633125 64.094581 \nL 69.163125 59.66826 \nL 88.693125 56.481308 \nL 108.223125 58.145605 \nL 127.753125 54.392084 \nL 147.283125 55.171117 \nL 166.813125 52.320565 \n\" clip-path=\"url(#p41a14878b5)\" style=\"fill: none; stroke-dasharray: 9.6,2.4,1.5,2.4; stroke-dashoffset: 0; stroke: #2ca02c; stroke-width: 1.5\"/>\n   </g>\n   <g id=\"line2d_97\">\n    <path d=\"M 34.923295 13.5 \nL 44.646742 87.212168 \nL 54.370189 101.454641 \nL 64.093636 110.047544 \nL 73.817082 113.831624 \nL 83.540529 119.010421 \nL 93.263976 121.513905 \nL 102.987423 124.973243 \nL 112.71087 125.876522 \nL 122.434316 128.823076 \nL 132.157763 130.245976 \nL 141.88121 131.606353 \nL 151.604657 132.910863 \nL 161.328104 134.135197 \nL 171.051551 134.528726 \nL 180.774997 137.421667 \n\" clip-path=\"url(#p41a14878b5)\" style=\"fill: none; stroke: #1f77b4; stroke-width: 1.5; stroke-linecap: square\"/>\n   </g>\n   <g id=\"line2d_98\">\n    <path d=\"M 49.633125 95.075088 \nL 69.163125 109.385516 \nL 88.693125 115.539571 \nL 108.223125 112.580897 \nL 127.753125 121.825555 \nL 147.283125 120.716622 \nL 166.813125 129.487835 \nL 186.343125 129.216767 \n\" clip-path=\"url(#p41a14878b5)\" style=\"fill: none; stroke-dasharray: 5.55,2.4; stroke-dashoffset: 0; stroke: #ff7f0e; stroke-width: 1.5\"/>\n   </g>\n   <g id=\"line2d_99\">\n    <path d=\"M 49.633125 64.094581 \nL 69.163125 59.66826 \nL 88.693125 56.481308 \nL 108.223125 58.145605 \nL 127.753125 54.392084 \nL 147.283125 55.171117 \nL 166.813125 52.320565 \n\" clip-path=\"url(#p41a14878b5)\" style=\"fill: none; stroke-dasharray: 9.6,2.4,1.5,2.4; stroke-dashoffset: 0; stroke: #2ca02c; stroke-width: 1.5\"/>\n   </g>\n   <g id=\"line2d_100\">\n    <path d=\"M 34.923295 13.5 \nL 44.646742 87.212168 \nL 54.370189 101.454641 \nL 64.093636 110.047544 \nL 73.817082 113.831624 \nL 83.540529 119.010421 \nL 93.263976 121.513905 \nL 102.987423 124.973243 \nL 112.71087 125.876522 \nL 122.434316 128.823076 \nL 132.157763 130.245976 \nL 141.88121 131.606353 \nL 151.604657 132.910863 \nL 161.328104 134.135197 \nL 171.051551 134.528726 \nL 180.774997 137.421667 \n\" clip-path=\"url(#p41a14878b5)\" style=\"fill: none; stroke: #1f77b4; stroke-width: 1.5; stroke-linecap: square\"/>\n   </g>\n   <g id=\"line2d_101\">\n    <path d=\"M 49.633125 95.075088 \nL 69.163125 109.385516 \nL 88.693125 115.539571 \nL 108.223125 112.580897 \nL 127.753125 121.825555 \nL 147.283125 120.716622 \nL 166.813125 129.487835 \nL 186.343125 129.216767 \n\" clip-path=\"url(#p41a14878b5)\" style=\"fill: none; stroke-dasharray: 5.55,2.4; stroke-dashoffset: 0; stroke: #ff7f0e; stroke-width: 1.5\"/>\n   </g>\n   <g id=\"line2d_102\">\n    <path d=\"M 49.633125 64.094581 \nL 69.163125 59.66826 \nL 88.693125 56.481308 \nL 108.223125 58.145605 \nL 127.753125 54.392084 \nL 147.283125 55.171117 \nL 166.813125 52.320565 \nL 186.343125 53.595346 \n\" clip-path=\"url(#p41a14878b5)\" style=\"fill: none; stroke-dasharray: 9.6,2.4,1.5,2.4; stroke-dashoffset: 0; stroke: #2ca02c; stroke-width: 1.5\"/>\n   </g>\n   <g id=\"line2d_103\">\n    <path d=\"M 34.923295 13.5 \nL 44.646742 87.212168 \nL 54.370189 101.454641 \nL 64.093636 110.047544 \nL 73.817082 113.831624 \nL 83.540529 119.010421 \nL 93.263976 121.513905 \nL 102.987423 124.973243 \nL 112.71087 125.876522 \nL 122.434316 128.823076 \nL 132.157763 130.245976 \nL 141.88121 131.606353 \nL 151.604657 132.910863 \nL 161.328104 134.135197 \nL 171.051551 134.528726 \nL 180.774997 137.421667 \nL 190.498444 136.695431 \n\" clip-path=\"url(#p41a14878b5)\" style=\"fill: none; stroke: #1f77b4; stroke-width: 1.5; stroke-linecap: square\"/>\n   </g>\n   <g id=\"line2d_104\">\n    <path d=\"M 49.633125 95.075088 \nL 69.163125 109.385516 \nL 88.693125 115.539571 \nL 108.223125 112.580897 \nL 127.753125 121.825555 \nL 147.283125 120.716622 \nL 166.813125 129.487835 \nL 186.343125 129.216767 \n\" clip-path=\"url(#p41a14878b5)\" style=\"fill: none; stroke-dasharray: 5.55,2.4; stroke-dashoffset: 0; stroke: #ff7f0e; stroke-width: 1.5\"/>\n   </g>\n   <g id=\"line2d_105\">\n    <path d=\"M 49.633125 64.094581 \nL 69.163125 59.66826 \nL 88.693125 56.481308 \nL 108.223125 58.145605 \nL 127.753125 54.392084 \nL 147.283125 55.171117 \nL 166.813125 52.320565 \nL 186.343125 53.595346 \n\" clip-path=\"url(#p41a14878b5)\" style=\"fill: none; stroke-dasharray: 9.6,2.4,1.5,2.4; stroke-dashoffset: 0; stroke: #2ca02c; stroke-width: 1.5\"/>\n   </g>\n   <g id=\"line2d_106\">\n    <path d=\"M 34.923295 13.5 \nL 44.646742 87.212168 \nL 54.370189 101.454641 \nL 64.093636 110.047544 \nL 73.817082 113.831624 \nL 83.540529 119.010421 \nL 93.263976 121.513905 \nL 102.987423 124.973243 \nL 112.71087 125.876522 \nL 122.434316 128.823076 \nL 132.157763 130.245976 \nL 141.88121 131.606353 \nL 151.604657 132.910863 \nL 161.328104 134.135197 \nL 171.051551 134.528726 \nL 180.774997 137.421667 \nL 190.498444 136.695431 \nL 200.221891 138.123336 \n\" clip-path=\"url(#p41a14878b5)\" style=\"fill: none; stroke: #1f77b4; stroke-width: 1.5; stroke-linecap: square\"/>\n   </g>\n   <g id=\"line2d_107\">\n    <path d=\"M 49.633125 95.075088 \nL 69.163125 109.385516 \nL 88.693125 115.539571 \nL 108.223125 112.580897 \nL 127.753125 121.825555 \nL 147.283125 120.716622 \nL 166.813125 129.487835 \nL 186.343125 129.216767 \n\" clip-path=\"url(#p41a14878b5)\" style=\"fill: none; stroke-dasharray: 5.55,2.4; stroke-dashoffset: 0; stroke: #ff7f0e; stroke-width: 1.5\"/>\n   </g>\n   <g id=\"line2d_108\">\n    <path d=\"M 49.633125 64.094581 \nL 69.163125 59.66826 \nL 88.693125 56.481308 \nL 108.223125 58.145605 \nL 127.753125 54.392084 \nL 147.283125 55.171117 \nL 166.813125 52.320565 \nL 186.343125 53.595346 \n\" clip-path=\"url(#p41a14878b5)\" style=\"fill: none; stroke-dasharray: 9.6,2.4,1.5,2.4; stroke-dashoffset: 0; stroke: #2ca02c; stroke-width: 1.5\"/>\n   </g>\n   <g id=\"line2d_109\">\n    <path d=\"M 34.923295 13.5 \nL 44.646742 87.212168 \nL 54.370189 101.454641 \nL 64.093636 110.047544 \nL 73.817082 113.831624 \nL 83.540529 119.010421 \nL 93.263976 121.513905 \nL 102.987423 124.973243 \nL 112.71087 125.876522 \nL 122.434316 128.823076 \nL 132.157763 130.245976 \nL 141.88121 131.606353 \nL 151.604657 132.910863 \nL 161.328104 134.135197 \nL 171.051551 134.528726 \nL 180.774997 137.421667 \nL 190.498444 136.695431 \nL 200.221891 138.123336 \n\" clip-path=\"url(#p41a14878b5)\" style=\"fill: none; stroke: #1f77b4; stroke-width: 1.5; stroke-linecap: square\"/>\n   </g>\n   <g id=\"line2d_110\">\n    <path d=\"M 49.633125 95.075088 \nL 69.163125 109.385516 \nL 88.693125 115.539571 \nL 108.223125 112.580897 \nL 127.753125 121.825555 \nL 147.283125 120.716622 \nL 166.813125 129.487835 \nL 186.343125 129.216767 \nL 205.873125 131.243158 \n\" clip-path=\"url(#p41a14878b5)\" style=\"fill: none; stroke-dasharray: 5.55,2.4; stroke-dashoffset: 0; stroke: #ff7f0e; stroke-width: 1.5\"/>\n   </g>\n   <g id=\"line2d_111\">\n    <path d=\"M 49.633125 64.094581 \nL 69.163125 59.66826 \nL 88.693125 56.481308 \nL 108.223125 58.145605 \nL 127.753125 54.392084 \nL 147.283125 55.171117 \nL 166.813125 52.320565 \nL 186.343125 53.595346 \n\" clip-path=\"url(#p41a14878b5)\" style=\"fill: none; stroke-dasharray: 9.6,2.4,1.5,2.4; stroke-dashoffset: 0; stroke: #2ca02c; stroke-width: 1.5\"/>\n   </g>\n   <g id=\"line2d_112\">\n    <path d=\"M 34.923295 13.5 \nL 44.646742 87.212168 \nL 54.370189 101.454641 \nL 64.093636 110.047544 \nL 73.817082 113.831624 \nL 83.540529 119.010421 \nL 93.263976 121.513905 \nL 102.987423 124.973243 \nL 112.71087 125.876522 \nL 122.434316 128.823076 \nL 132.157763 130.245976 \nL 141.88121 131.606353 \nL 151.604657 132.910863 \nL 161.328104 134.135197 \nL 171.051551 134.528726 \nL 180.774997 137.421667 \nL 190.498444 136.695431 \nL 200.221891 138.123336 \n\" clip-path=\"url(#p41a14878b5)\" style=\"fill: none; stroke: #1f77b4; stroke-width: 1.5; stroke-linecap: square\"/>\n   </g>\n   <g id=\"line2d_113\">\n    <path d=\"M 49.633125 95.075088 \nL 69.163125 109.385516 \nL 88.693125 115.539571 \nL 108.223125 112.580897 \nL 127.753125 121.825555 \nL 147.283125 120.716622 \nL 166.813125 129.487835 \nL 186.343125 129.216767 \nL 205.873125 131.243158 \n\" clip-path=\"url(#p41a14878b5)\" style=\"fill: none; stroke-dasharray: 5.55,2.4; stroke-dashoffset: 0; stroke: #ff7f0e; stroke-width: 1.5\"/>\n   </g>\n   <g id=\"line2d_114\">\n    <path d=\"M 49.633125 64.094581 \nL 69.163125 59.66826 \nL 88.693125 56.481308 \nL 108.223125 58.145605 \nL 127.753125 54.392084 \nL 147.283125 55.171117 \nL 166.813125 52.320565 \nL 186.343125 53.595346 \nL 205.873125 52.285155 \n\" clip-path=\"url(#p41a14878b5)\" style=\"fill: none; stroke-dasharray: 9.6,2.4,1.5,2.4; stroke-dashoffset: 0; stroke: #2ca02c; stroke-width: 1.5\"/>\n   </g>\n   <g id=\"line2d_115\">\n    <path d=\"M 34.923295 13.5 \nL 44.646742 87.212168 \nL 54.370189 101.454641 \nL 64.093636 110.047544 \nL 73.817082 113.831624 \nL 83.540529 119.010421 \nL 93.263976 121.513905 \nL 102.987423 124.973243 \nL 112.71087 125.876522 \nL 122.434316 128.823076 \nL 132.157763 130.245976 \nL 141.88121 131.606353 \nL 151.604657 132.910863 \nL 161.328104 134.135197 \nL 171.051551 134.528726 \nL 180.774997 137.421667 \nL 190.498444 136.695431 \nL 200.221891 138.123336 \nL 209.945338 138.910838 \n\" clip-path=\"url(#p41a14878b5)\" style=\"fill: none; stroke: #1f77b4; stroke-width: 1.5; stroke-linecap: square\"/>\n   </g>\n   <g id=\"line2d_116\">\n    <path d=\"M 49.633125 95.075088 \nL 69.163125 109.385516 \nL 88.693125 115.539571 \nL 108.223125 112.580897 \nL 127.753125 121.825555 \nL 147.283125 120.716622 \nL 166.813125 129.487835 \nL 186.343125 129.216767 \nL 205.873125 131.243158 \n\" clip-path=\"url(#p41a14878b5)\" style=\"fill: none; stroke-dasharray: 5.55,2.4; stroke-dashoffset: 0; stroke: #ff7f0e; stroke-width: 1.5\"/>\n   </g>\n   <g id=\"line2d_117\">\n    <path d=\"M 49.633125 64.094581 \nL 69.163125 59.66826 \nL 88.693125 56.481308 \nL 108.223125 58.145605 \nL 127.753125 54.392084 \nL 147.283125 55.171117 \nL 166.813125 52.320565 \nL 186.343125 53.595346 \nL 205.873125 52.285155 \n\" clip-path=\"url(#p41a14878b5)\" style=\"fill: none; stroke-dasharray: 9.6,2.4,1.5,2.4; stroke-dashoffset: 0; stroke: #2ca02c; stroke-width: 1.5\"/>\n   </g>\n   <g id=\"line2d_118\">\n    <path d=\"M 34.923295 13.5 \nL 44.646742 87.212168 \nL 54.370189 101.454641 \nL 64.093636 110.047544 \nL 73.817082 113.831624 \nL 83.540529 119.010421 \nL 93.263976 121.513905 \nL 102.987423 124.973243 \nL 112.71087 125.876522 \nL 122.434316 128.823076 \nL 132.157763 130.245976 \nL 141.88121 131.606353 \nL 151.604657 132.910863 \nL 161.328104 134.135197 \nL 171.051551 134.528726 \nL 180.774997 137.421667 \nL 190.498444 136.695431 \nL 200.221891 138.123336 \nL 209.945338 138.910838 \nL 219.668785 139.5 \n\" clip-path=\"url(#p41a14878b5)\" style=\"fill: none; stroke: #1f77b4; stroke-width: 1.5; stroke-linecap: square\"/>\n   </g>\n   <g id=\"line2d_119\">\n    <path d=\"M 49.633125 95.075088 \nL 69.163125 109.385516 \nL 88.693125 115.539571 \nL 108.223125 112.580897 \nL 127.753125 121.825555 \nL 147.283125 120.716622 \nL 166.813125 129.487835 \nL 186.343125 129.216767 \nL 205.873125 131.243158 \n\" clip-path=\"url(#p41a14878b5)\" style=\"fill: none; stroke-dasharray: 5.55,2.4; stroke-dashoffset: 0; stroke: #ff7f0e; stroke-width: 1.5\"/>\n   </g>\n   <g id=\"line2d_120\">\n    <path d=\"M 49.633125 64.094581 \nL 69.163125 59.66826 \nL 88.693125 56.481308 \nL 108.223125 58.145605 \nL 127.753125 54.392084 \nL 147.283125 55.171117 \nL 166.813125 52.320565 \nL 186.343125 53.595346 \nL 205.873125 52.285155 \n\" clip-path=\"url(#p41a14878b5)\" style=\"fill: none; stroke-dasharray: 9.6,2.4,1.5,2.4; stroke-dashoffset: 0; stroke: #2ca02c; stroke-width: 1.5\"/>\n   </g>\n   <g id=\"line2d_121\">\n    <path d=\"M 34.923295 13.5 \nL 44.646742 87.212168 \nL 54.370189 101.454641 \nL 64.093636 110.047544 \nL 73.817082 113.831624 \nL 83.540529 119.010421 \nL 93.263976 121.513905 \nL 102.987423 124.973243 \nL 112.71087 125.876522 \nL 122.434316 128.823076 \nL 132.157763 130.245976 \nL 141.88121 131.606353 \nL 151.604657 132.910863 \nL 161.328104 134.135197 \nL 171.051551 134.528726 \nL 180.774997 137.421667 \nL 190.498444 136.695431 \nL 200.221891 138.123336 \nL 209.945338 138.910838 \nL 219.668785 139.5 \n\" clip-path=\"url(#p41a14878b5)\" style=\"fill: none; stroke: #1f77b4; stroke-width: 1.5; stroke-linecap: square\"/>\n   </g>\n   <g id=\"line2d_122\">\n    <path d=\"M 49.633125 95.075088 \nL 69.163125 109.385516 \nL 88.693125 115.539571 \nL 108.223125 112.580897 \nL 127.753125 121.825555 \nL 147.283125 120.716622 \nL 166.813125 129.487835 \nL 186.343125 129.216767 \nL 205.873125 131.243158 \nL 225.403125 130.328609 \n\" clip-path=\"url(#p41a14878b5)\" style=\"fill: none; stroke-dasharray: 5.55,2.4; stroke-dashoffset: 0; stroke: #ff7f0e; stroke-width: 1.5\"/>\n   </g>\n   <g id=\"line2d_123\">\n    <path d=\"M 49.633125 64.094581 \nL 69.163125 59.66826 \nL 88.693125 56.481308 \nL 108.223125 58.145605 \nL 127.753125 54.392084 \nL 147.283125 55.171117 \nL 166.813125 52.320565 \nL 186.343125 53.595346 \nL 205.873125 52.285155 \n\" clip-path=\"url(#p41a14878b5)\" style=\"fill: none; stroke-dasharray: 9.6,2.4,1.5,2.4; stroke-dashoffset: 0; stroke: #2ca02c; stroke-width: 1.5\"/>\n   </g>\n   <g id=\"line2d_124\">\n    <path d=\"M 34.923295 13.5 \nL 44.646742 87.212168 \nL 54.370189 101.454641 \nL 64.093636 110.047544 \nL 73.817082 113.831624 \nL 83.540529 119.010421 \nL 93.263976 121.513905 \nL 102.987423 124.973243 \nL 112.71087 125.876522 \nL 122.434316 128.823076 \nL 132.157763 130.245976 \nL 141.88121 131.606353 \nL 151.604657 132.910863 \nL 161.328104 134.135197 \nL 171.051551 134.528726 \nL 180.774997 137.421667 \nL 190.498444 136.695431 \nL 200.221891 138.123336 \nL 209.945338 138.910838 \nL 219.668785 139.5 \n\" clip-path=\"url(#p41a14878b5)\" style=\"fill: none; stroke: #1f77b4; stroke-width: 1.5; stroke-linecap: square\"/>\n   </g>\n   <g id=\"line2d_125\">\n    <path d=\"M 49.633125 95.075088 \nL 69.163125 109.385516 \nL 88.693125 115.539571 \nL 108.223125 112.580897 \nL 127.753125 121.825555 \nL 147.283125 120.716622 \nL 166.813125 129.487835 \nL 186.343125 129.216767 \nL 205.873125 131.243158 \nL 225.403125 130.328609 \n\" clip-path=\"url(#p41a14878b5)\" style=\"fill: none; stroke-dasharray: 5.55,2.4; stroke-dashoffset: 0; stroke: #ff7f0e; stroke-width: 1.5\"/>\n   </g>\n   <g id=\"line2d_126\">\n    <path d=\"M 49.633125 64.094581 \nL 69.163125 59.66826 \nL 88.693125 56.481308 \nL 108.223125 58.145605 \nL 127.753125 54.392084 \nL 147.283125 55.171117 \nL 166.813125 52.320565 \nL 186.343125 53.595346 \nL 205.873125 52.285155 \nL 225.403125 52.338271 \n\" clip-path=\"url(#p41a14878b5)\" style=\"fill: none; stroke-dasharray: 9.6,2.4,1.5,2.4; stroke-dashoffset: 0; stroke: #2ca02c; stroke-width: 1.5\"/>\n   </g>\n   <g id=\"patch_3\">\n    <path d=\"M 30.103125 145.8 \nL 30.103125 7.2 \n\" style=\"fill: none; stroke: #000000; stroke-width: 0.8; stroke-linejoin: miter; stroke-linecap: square\"/>\n   </g>\n   <g id=\"patch_4\">\n    <path d=\"M 225.403125 145.8 \nL 225.403125 7.2 \n\" style=\"fill: none; stroke: #000000; stroke-width: 0.8; stroke-linejoin: miter; stroke-linecap: square\"/>\n   </g>\n   <g id=\"patch_5\">\n    <path d=\"M 30.103125 145.8 \nL 225.403125 145.8 \n\" style=\"fill: none; stroke: #000000; stroke-width: 0.8; stroke-linejoin: miter; stroke-linecap: square\"/>\n   </g>\n   <g id=\"patch_6\">\n    <path d=\"M 30.103125 7.2 \nL 225.403125 7.2 \n\" style=\"fill: none; stroke: #000000; stroke-width: 0.8; stroke-linejoin: miter; stroke-linecap: square\"/>\n   </g>\n   <g id=\"legend_1\">\n    <g id=\"patch_7\">\n     <path d=\"M 138.8125 100.434375 \nL 218.403125 100.434375 \nQ 220.403125 100.434375 220.403125 98.434375 \nL 220.403125 54.565625 \nQ 220.403125 52.565625 218.403125 52.565625 \nL 138.8125 52.565625 \nQ 136.8125 52.565625 136.8125 54.565625 \nL 136.8125 98.434375 \nQ 136.8125 100.434375 138.8125 100.434375 \nz\n\" style=\"fill: #ffffff; opacity: 0.8; stroke: #cccccc; stroke-linejoin: miter\"/>\n    </g>\n    <g id=\"line2d_127\">\n     <path d=\"M 140.8125 60.664063 \nL 150.8125 60.664063 \nL 160.8125 60.664063 \n\" style=\"fill: none; stroke: #1f77b4; stroke-width: 1.5; stroke-linecap: square\"/>\n    </g>\n    <g id=\"text_12\">\n     <!-- train_loss -->\n     <g transform=\"translate(168.8125 64.164063) scale(0.1 -0.1)\">\n      <defs>\n       <path id=\"DejaVuSans-74\" d=\"M 1172 4494 \nL 1172 3500 \nL 2356 3500 \nL 2356 3053 \nL 1172 3053 \nL 1172 1153 \nQ 1172 725 1289 603 \nQ 1406 481 1766 481 \nL 2356 481 \nL 2356 0 \nL 1766 0 \nQ 1100 0 847 248 \nQ 594 497 594 1153 \nL 594 3053 \nL 172 3053 \nL 172 3500 \nL 594 3500 \nL 594 4494 \nL 1172 4494 \nz\n\" transform=\"scale(0.015625)\"/>\n       <path id=\"DejaVuSans-72\" d=\"M 2631 2963 \nQ 2534 3019 2420 3045 \nQ 2306 3072 2169 3072 \nQ 1681 3072 1420 2755 \nQ 1159 2438 1159 1844 \nL 1159 0 \nL 581 0 \nL 581 3500 \nL 1159 3500 \nL 1159 2956 \nQ 1341 3275 1631 3429 \nQ 1922 3584 2338 3584 \nQ 2397 3584 2469 3576 \nQ 2541 3569 2628 3553 \nL 2631 2963 \nz\n\" transform=\"scale(0.015625)\"/>\n       <path id=\"DejaVuSans-61\" d=\"M 2194 1759 \nQ 1497 1759 1228 1600 \nQ 959 1441 959 1056 \nQ 959 750 1161 570 \nQ 1363 391 1709 391 \nQ 2188 391 2477 730 \nQ 2766 1069 2766 1631 \nL 2766 1759 \nL 2194 1759 \nz\nM 3341 1997 \nL 3341 0 \nL 2766 0 \nL 2766 531 \nQ 2569 213 2275 61 \nQ 1981 -91 1556 -91 \nQ 1019 -91 701 211 \nQ 384 513 384 1019 \nQ 384 1609 779 1909 \nQ 1175 2209 1959 2209 \nL 2766 2209 \nL 2766 2266 \nQ 2766 2663 2505 2880 \nQ 2244 3097 1772 3097 \nQ 1472 3097 1187 3025 \nQ 903 2953 641 2809 \nL 641 3341 \nQ 956 3463 1253 3523 \nQ 1550 3584 1831 3584 \nQ 2591 3584 2966 3190 \nQ 3341 2797 3341 1997 \nz\n\" transform=\"scale(0.015625)\"/>\n       <path id=\"DejaVuSans-69\" d=\"M 603 3500 \nL 1178 3500 \nL 1178 0 \nL 603 0 \nL 603 3500 \nz\nM 603 4863 \nL 1178 4863 \nL 1178 4134 \nL 603 4134 \nL 603 4863 \nz\n\" transform=\"scale(0.015625)\"/>\n       <path id=\"DejaVuSans-6e\" d=\"M 3513 2113 \nL 3513 0 \nL 2938 0 \nL 2938 2094 \nQ 2938 2591 2744 2837 \nQ 2550 3084 2163 3084 \nQ 1697 3084 1428 2787 \nQ 1159 2491 1159 1978 \nL 1159 0 \nL 581 0 \nL 581 3500 \nL 1159 3500 \nL 1159 2956 \nQ 1366 3272 1645 3428 \nQ 1925 3584 2291 3584 \nQ 2894 3584 3203 3211 \nQ 3513 2838 3513 2113 \nz\n\" transform=\"scale(0.015625)\"/>\n       <path id=\"DejaVuSans-5f\" d=\"M 3263 -1063 \nL 3263 -1509 \nL -63 -1509 \nL -63 -1063 \nL 3263 -1063 \nz\n\" transform=\"scale(0.015625)\"/>\n       <path id=\"DejaVuSans-6c\" d=\"M 603 4863 \nL 1178 4863 \nL 1178 0 \nL 603 0 \nL 603 4863 \nz\n\" transform=\"scale(0.015625)\"/>\n       <path id=\"DejaVuSans-73\" d=\"M 2834 3397 \nL 2834 2853 \nQ 2591 2978 2328 3040 \nQ 2066 3103 1784 3103 \nQ 1356 3103 1142 2972 \nQ 928 2841 928 2578 \nQ 928 2378 1081 2264 \nQ 1234 2150 1697 2047 \nL 1894 2003 \nQ 2506 1872 2764 1633 \nQ 3022 1394 3022 966 \nQ 3022 478 2636 193 \nQ 2250 -91 1575 -91 \nQ 1294 -91 989 -36 \nQ 684 19 347 128 \nL 347 722 \nQ 666 556 975 473 \nQ 1284 391 1588 391 \nQ 1994 391 2212 530 \nQ 2431 669 2431 922 \nQ 2431 1156 2273 1281 \nQ 2116 1406 1581 1522 \nL 1381 1569 \nQ 847 1681 609 1914 \nQ 372 2147 372 2553 \nQ 372 3047 722 3315 \nQ 1072 3584 1716 3584 \nQ 2034 3584 2315 3537 \nQ 2597 3491 2834 3397 \nz\n\" transform=\"scale(0.015625)\"/>\n      </defs>\n      <use xlink:href=\"#DejaVuSans-74\"/>\n      <use xlink:href=\"#DejaVuSans-72\" x=\"39.208984\"/>\n      <use xlink:href=\"#DejaVuSans-61\" x=\"80.322266\"/>\n      <use xlink:href=\"#DejaVuSans-69\" x=\"141.601562\"/>\n      <use xlink:href=\"#DejaVuSans-6e\" x=\"169.384766\"/>\n      <use xlink:href=\"#DejaVuSans-5f\" x=\"232.763672\"/>\n      <use xlink:href=\"#DejaVuSans-6c\" x=\"282.763672\"/>\n      <use xlink:href=\"#DejaVuSans-6f\" x=\"310.546875\"/>\n      <use xlink:href=\"#DejaVuSans-73\" x=\"371.728516\"/>\n      <use xlink:href=\"#DejaVuSans-73\" x=\"423.828125\"/>\n     </g>\n    </g>\n    <g id=\"line2d_128\">\n     <path d=\"M 140.8125 75.620313 \nL 150.8125 75.620313 \nL 160.8125 75.620313 \n\" style=\"fill: none; stroke-dasharray: 5.55,2.4; stroke-dashoffset: 0; stroke: #ff7f0e; stroke-width: 1.5\"/>\n    </g>\n    <g id=\"text_13\">\n     <!-- val_loss -->\n     <g transform=\"translate(168.8125 79.120313) scale(0.1 -0.1)\">\n      <defs>\n       <path id=\"DejaVuSans-76\" d=\"M 191 3500 \nL 800 3500 \nL 1894 563 \nL 2988 3500 \nL 3597 3500 \nL 2284 0 \nL 1503 0 \nL 191 3500 \nz\n\" transform=\"scale(0.015625)\"/>\n      </defs>\n      <use xlink:href=\"#DejaVuSans-76\"/>\n      <use xlink:href=\"#DejaVuSans-61\" x=\"59.179688\"/>\n      <use xlink:href=\"#DejaVuSans-6c\" x=\"120.458984\"/>\n      <use xlink:href=\"#DejaVuSans-5f\" x=\"148.242188\"/>\n      <use xlink:href=\"#DejaVuSans-6c\" x=\"198.242188\"/>\n      <use xlink:href=\"#DejaVuSans-6f\" x=\"226.025391\"/>\n      <use xlink:href=\"#DejaVuSans-73\" x=\"287.207031\"/>\n      <use xlink:href=\"#DejaVuSans-73\" x=\"339.306641\"/>\n     </g>\n    </g>\n    <g id=\"line2d_129\">\n     <path d=\"M 140.8125 90.576563 \nL 150.8125 90.576563 \nL 160.8125 90.576563 \n\" style=\"fill: none; stroke-dasharray: 9.6,2.4,1.5,2.4; stroke-dashoffset: 0; stroke: #2ca02c; stroke-width: 1.5\"/>\n    </g>\n    <g id=\"text_14\">\n     <!-- val_acc -->\n     <g transform=\"translate(168.8125 94.076563) scale(0.1 -0.1)\">\n      <use xlink:href=\"#DejaVuSans-76\"/>\n      <use xlink:href=\"#DejaVuSans-61\" x=\"59.179688\"/>\n      <use xlink:href=\"#DejaVuSans-6c\" x=\"120.458984\"/>\n      <use xlink:href=\"#DejaVuSans-5f\" x=\"148.242188\"/>\n      <use xlink:href=\"#DejaVuSans-61\" x=\"198.242188\"/>\n      <use xlink:href=\"#DejaVuSans-63\" x=\"259.521484\"/>\n      <use xlink:href=\"#DejaVuSans-63\" x=\"314.501953\"/>\n     </g>\n    </g>\n   </g>\n  </g>\n </g>\n <defs>\n  <clipPath id=\"p41a14878b5\">\n   <rect x=\"30.103125\" y=\"7.2\" width=\"195.3\" height=\"138.6\"/>\n  </clipPath>\n </defs>\n</svg>\n"
          },
          "metadata": {}
        }
      ]
    },
    {
      "cell_type": "markdown",
      "source": [
        "### 5.2.3.summary\n",
        "\n",
        "* deep networks연습\n",
        "* 훈련 알고리즘과 데이터 로더를 재사용 가능\n",
        "* MLP 구현하다가 모델 확장이 어려움 ->  중간에 층을 넣고 싶으면 (42-43사이에) 이름 짓기가 힘듦\n",
        "* 네트워크를 처음부터 구현하면 framework가 meaningful performance optimizations하기 힘들어짐\n",
        "* 다음 단계는 이미지 고려!! -> 통계적 기초와 모델을 효율적으로 계산하는 방법을 review\n"
      ],
      "metadata": {
        "id": "tTj2zRD6M9oH"
      },
      "id": "tTj2zRD6M9oH"
    },
    {
      "cell_type": "markdown",
      "source": [
        "### discussions or takeaway messages\n",
        "\n",
        "1. 모델 구현, 학습 함\n",
        "\n",
        "2. 지금은 보고 코딩했지만 다음에 안보고 하나하나 해볼것"
      ],
      "metadata": {
        "id": "FP8igpLPN5bi"
      },
      "id": "FP8igpLPN5bi"
    },
    {
      "cell_type": "markdown",
      "source": [
        "## 5.3. Forward Propagation, Backward Propagation, and Computational Graphs\n",
        "\n",
        "backward propagation에 대해 알아보"
      ],
      "metadata": {
        "id": "CUojrHjAN9yB"
      },
      "id": "CUojrHjAN9yB"
    },
    {
      "cell_type": "markdown",
      "source": [
        "### 5.3.1.forward propagation\n",
        "\n",
        "forward propagation : 입력층에서 출력층으로 가는 과정에서 중간 변수를 계산하고 저장하는 과정."
      ],
      "metadata": {
        "id": "zAM9EKVQRT1o"
      },
      "id": "zAM9EKVQRT1o"
    },
    {
      "cell_type": "markdown",
      "source": [
        "### 5.3.2.computational graph of forward propagation\n",
        "\n",
        "* 계산그래프 -> 연산자와 변수간의 의존성을 시각"
      ],
      "metadata": {
        "id": "x0uPyiuERz9u"
      },
      "id": "x0uPyiuERz9u"
    },
    {
      "cell_type": "markdown",
      "source": [
        "### 5.3.3.backpropagation\n",
        "\n",
        "* backpropagation : 신경망의 파라미터의 기울기 계산\n",
        "* 출력층 -> 입력층 , 역순으로 계산, cahin rule"
      ],
      "metadata": {
        "id": "PQaDXz8lSAQn"
      },
      "id": "PQaDXz8lSAQn"
    },
    {
      "cell_type": "markdown",
      "source": [
        "### 5.3.4.training neural networks\n",
        "\n",
        "* 신경망을 훈련할때, forward propagation과 backpropagation은 서로 의존적.\n",
        "* forward에서 앞으로 계산 그래프를 탐색하면서 모든 변수를 계산 -> 그 변수들이 back에서 쓰임\n",
        "* 모델 파라미터 초기화 된 후, 신경망 훈련 : forward -> back -> .... 번갈아가면서 수행. forward로 예측을 하고, back으로 parameter의 기울기를 계산하여 업데이트\n",
        "* 역전파는 전방 전파에서 저장된 중간 값들을 재사용하여 중복 계산을 피함 -> 전방전파에서 계산된 중간 값들은 역전파가 끝날때까지 메모리에 저장해둬야함\n",
        "* network 수와 batch size가 클수록 중간 값의 크기가 큼 -> deeper network, bigger batch 일수록 메모리 많이 필요\n"
      ],
      "metadata": {
        "id": "1et-Vi9DShkg"
      },
      "id": "1et-Vi9DShkg"
    },
    {
      "cell_type": "markdown",
      "source": [
        "### 5.3.5.summary\n",
        "\n",
        "* forward는 신경망의 계산 그래프 안의 중간 변수를 입력층->출력층 순서대로 계산 후 저장\n",
        "\n",
        "* backward는 신경망의 중간변수와 파라미터의 gradient를 출력층->입력층 방향으로 계산\n",
        "\n",
        "* forward에서 계산한 중간변수를 backward에서 이용함\n",
        "\n",
        "* forward에서 계산한 중간변수를 메모리에 저장해야해서 꽤 많은 메모리가 필요"
      ],
      "metadata": {
        "id": "kHxgMHM1WlmH"
      },
      "id": "kHxgMHM1WlmH"
    },
    {
      "cell_type": "markdown",
      "source": [
        "### discussions or takeaway messages\n",
        "\n",
        "1. forward propagation : 입력층 -> 출력층 순서로 계산, 중간값들은 메모리에 저장\n",
        "\n",
        "2. backpropagation : 출력층 -> 입력층 순서로 파라미터 gradient계산, forward의 중간값들을 이용 , chain rule\n",
        "\n",
        "3. forward에서 중간값을 메모리에 저장해둬야 해서 큰 메모리 필요\n",
        "\n",
        "4. forward로 모든 neural network를 최적화하려면 굉장히 큰 연샨이 필요함 -> back으로 함으로써 연산량 줄여"
      ],
      "metadata": {
        "id": "WCHUKRTAXIfi"
      },
      "id": "WCHUKRTAXIfi"
    }
  ],
  "metadata": {
    "kernelspec": {
      "display_name": "Python 3 (ipykernel)",
      "language": "python",
      "name": "python3"
    },
    "language_info": {
      "codemirror_mode": {
        "name": "ipython",
        "version": 3
      },
      "file_extension": ".py",
      "mimetype": "text/x-python",
      "name": "python",
      "nbconvert_exporter": "python",
      "pygments_lexer": "ipython3",
      "version": "3.12.6"
    },
    "colab": {
      "provenance": [],
      "toc_visible": true
    }
  },
  "nbformat": 4,
  "nbformat_minor": 5
}